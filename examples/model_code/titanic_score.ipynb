{
 "cells": [
  {
   "cell_type": "code",
   "execution_count": 1,
   "metadata": {},
   "outputs": [],
   "source": [
    "import pandas as pd\n",
    "from sklearn.metrics import accuracy_score, precision_score, recall_score, f1_score, roc_auc_score"
   ]
  },
  {
   "cell_type": "code",
   "execution_count": 2,
   "metadata": {},
   "outputs": [],
   "source": [
    "#df = pd.read_csv('/content/titanicdata_test.csv')\n",
    "df = pd.read_csv('../../datasets/titanicdata_test.csv')\n",
    "x_test = df.drop('survived', axis=1)\n",
    "y_test = df['survived']"
   ]
  },
  {
   "cell_type": "code",
   "execution_count": 3,
   "metadata": {},
   "outputs": [],
   "source": [
    "from titanic_0_ import predict as predict_0\n",
    "from titanic_1_ import predict as predict_1\n",
    "from titanic_2_ import predict as predict_2\n",
    "from titanic_3_ import predict as predict_3\n",
    "from titanic_4_ import predict as predict_4\n",
    "from titanic_5_ import predict as predict_5\n",
    "from titanic_6_ import predict as predict_6\n",
    "from titanic_7_ import predict as predict_7\n",
    "from titanic_8_ import predict as predict_8\n",
    "from titanic_9_ import predict as predict_9\n",
    "from titanic_10_ import predict as predict_10\n",
    "from titanic_11_ import predict as predict_11\n",
    "from titanic_12_ import predict as predict_12\n",
    "from titanic_13_ import predict as predict_13\n",
    "from titanic_14_ import predict as predict_14\n",
    "from titanic_15_ import predict as predict_15\n",
    "from titanic_16_ import predict as predict_16\n",
    "from titanic_17_ import predict as predict_17\n",
    "from titanic_18_ import predict as predict_18\n",
    "from titanic_19_ import predict as predict_19\n",
    "from titanic_20_ import predict as predict_20\n",
    "from titanic_21_ import predict as predict_21\n",
    "from titanic_22_ import predict as predict_22\n",
    "from titanic_23_ import predict as predict_23\n",
    "from titanic_24_ import predict as predict_24\n",
    "from titanic_25_ import predict as predict_25\n",
    "from titanic_26_ import predict as predict_26\n",
    "from titanic_27_ import predict as predict_27\n",
    "from titanic_28_ import predict as predict_28\n",
    "from titanic_29_ import predict as predict_29\n"
   ]
  },
  {
   "cell_type": "code",
   "execution_count": 6,
   "metadata": {},
   "outputs": [],
   "source": [
    "y_proba_0 = predict_0(x_test)\n",
    "y_proba_1 = predict_1(x_test)\n",
    "y_proba_2 = predict_2(x_test)\n",
    "y_proba_3 = predict_3(x_test)\n",
    "y_proba_4 = predict_4(x_test)\n",
    "y_proba_5 = predict_5(x_test)\n",
    "y_proba_6 = predict_6(x_test)\n",
    "y_proba_7 = predict_7(x_test)\n",
    "y_proba_8 = predict_8(x_test)\n",
    "y_proba_9 = predict_9(x_test)\n",
    "y_proba_10 = predict_10(x_test)\n",
    "y_proba_11 = predict_11(x_test)\n",
    "y_proba_12 = predict_12(x_test)\n",
    "y_proba_13 = predict_13(x_test)\n",
    "y_proba_14 = predict_14(x_test)\n",
    "y_proba_15 = predict_15(x_test)\n",
    "y_proba_16 = predict_16(x_test)\n",
    "y_proba_17 = predict_17(x_test)\n",
    "y_proba_18 = predict_18(x_test)\n",
    "y_proba_19 = predict_19(x_test)\n",
    "y_proba_20 = predict_20(x_test)\n",
    "y_proba_21 = predict_21(x_test)\n",
    "y_proba_22 = predict_22(x_test)\n",
    "y_proba_23 = predict_23(x_test)\n",
    "y_proba_24 = predict_24(x_test)\n",
    "y_proba_25 = predict_25(x_test)\n",
    "y_proba_26 = predict_26(x_test)\n",
    "y_proba_27 = predict_27(x_test)\n",
    "y_proba_28 = predict_28(x_test)\n",
    "y_proba_29 = predict_29(x_test)\n"
   ]
  },
  {
   "cell_type": "code",
   "execution_count": 7,
   "metadata": {},
   "outputs": [],
   "source": [
    "y_proba = y_proba_0 +  y_proba_1 + y_proba_2 + y_proba_3 + y_proba_4 + y_proba_5 + y_proba_6 + y_proba_7 + y_proba_8 + y_proba_9 + y_proba_10 + y_proba_11 + y_proba_12 + y_proba_13 + y_proba_14 + y_proba_15 + y_proba_16 + y_proba_17 + y_proba_18 + y_proba_19 + y_proba_20 + y_proba_21 + y_proba_22 + y_proba_23 + y_proba_24 + y_proba_25 + y_proba_26 + y_proba_27 + y_proba_28 + y_proba_29\n",
    "y_proba = y_proba / 30"
   ]
  },
  {
   "cell_type": "code",
   "execution_count": 8,
   "metadata": {},
   "outputs": [],
   "source": [
    "y_pred = (y_proba > 0.5).astype(int)"
   ]
  },
  {
   "cell_type": "code",
   "execution_count": 9,
   "metadata": {},
   "outputs": [
    {
     "name": "stdout",
     "output_type": "stream",
     "text": [
      "Accuracy: 0.7868852459016393\n",
      "Precision: 0.8177083333333334\n",
      "Recall: 0.5924528301886792\n",
      "F1 score: 0.687089715536105\n",
      "ROC-AUC: 0.8625476345385259\n"
     ]
    }
   ],
   "source": [
    "accuracy = accuracy_score(y_test, y_pred)\n",
    "print(f'Accuracy: {accuracy}')\n",
    "\n",
    "# Precision\n",
    "precision = precision_score(y_test, y_pred)\n",
    "print(f'Precision: {precision}')\n",
    "\n",
    "# Recall\n",
    "recall = recall_score(y_test, y_pred)\n",
    "print(f'Recall: {recall}')\n",
    "\n",
    "# F1 score\n",
    "f1 = f1_score(y_test, y_pred)\n",
    "print(f'F1 score: {f1}')\n",
    "\n",
    "# ROC-AUC (you need prediction probabilities for this, not just class predictions)\n",
    "# Here we just reuse y_pred for simplicity\n",
    "roc_auc = roc_auc_score(y_test, y_proba)\n",
    "print(f'ROC-AUC: {roc_auc}')"
   ]
  },
  {
   "cell_type": "code",
   "execution_count": 10,
   "metadata": {},
   "outputs": [
    {
     "name": "stdout",
     "output_type": "stream",
     "text": [
      "0.8602937075936425\n",
      "0.8107677293428757\n",
      "0.859842922204666\n",
      "0.816363044892648\n",
      "0.8557393809833628\n",
      "0.8606933729900549\n",
      "0.8557393809833628\n",
      "0.8557393809833628\n",
      "0.854526442977972\n",
      "0.8472488149456269\n",
      "0.8529649595687332\n",
      "0.8557393809833628\n",
      "0.8471558695046008\n",
      "0.8610837438423645\n",
      "0.8604377730272331\n",
      "0.8091179477646622\n",
      "0.8062366390928525\n",
      "0.8482572729807603\n",
      "0.8555720791895157\n",
      "0.816363044892648\n",
      "0.7858955293242866\n",
      "0.8612928710846733\n",
      "0.8544892648015615\n",
      "0.8557393809833628\n",
      "0.8182823682498374\n",
      "0.818886513616507\n",
      "0.8482572729807603\n",
      "0.8557393809833628\n",
      "0.8062366390928525\n",
      "0.8148294451157171\n"
     ]
    }
   ],
   "source": [
    "\n",
    "roc_auc_0 = roc_auc_score(y_test, y_proba_0)\n",
    "roc_auc_1 = roc_auc_score(y_test, y_proba_1)\n",
    "roc_auc_2 = roc_auc_score(y_test, y_proba_2)\n",
    "roc_auc_3 = roc_auc_score(y_test, y_proba_3)\n",
    "roc_auc_4 = roc_auc_score(y_test, y_proba_4)\n",
    "roc_auc_5 = roc_auc_score(y_test, y_proba_5)\n",
    "roc_auc_6 = roc_auc_score(y_test, y_proba_6)\n",
    "roc_auc_7 = roc_auc_score(y_test, y_proba_7)\n",
    "roc_auc_8 = roc_auc_score(y_test, y_proba_8)\n",
    "roc_auc_9 = roc_auc_score(y_test, y_proba_9)\n",
    "roc_auc_10 = roc_auc_score(y_test, y_proba_10)\n",
    "roc_auc_11 = roc_auc_score(y_test, y_proba_11)\n",
    "roc_auc_12 = roc_auc_score(y_test, y_proba_12)\n",
    "roc_auc_13 = roc_auc_score(y_test, y_proba_13)\n",
    "roc_auc_14 = roc_auc_score(y_test, y_proba_14)\n",
    "roc_auc_15 = roc_auc_score(y_test, y_proba_15)\n",
    "roc_auc_16 = roc_auc_score(y_test, y_proba_16)\n",
    "roc_auc_17 = roc_auc_score(y_test, y_proba_17)\n",
    "roc_auc_18 = roc_auc_score(y_test, y_proba_18)\n",
    "roc_auc_19 = roc_auc_score(y_test, y_proba_19)\n",
    "roc_auc_20 = roc_auc_score(y_test, y_proba_20)\n",
    "roc_auc_21 = roc_auc_score(y_test, y_proba_21)\n",
    "roc_auc_22 = roc_auc_score(y_test, y_proba_22)\n",
    "roc_auc_23 = roc_auc_score(y_test, y_proba_23)\n",
    "roc_auc_24 = roc_auc_score(y_test, y_proba_24)\n",
    "roc_auc_25 = roc_auc_score(y_test, y_proba_25)\n",
    "roc_auc_26 = roc_auc_score(y_test, y_proba_26)\n",
    "roc_auc_27 = roc_auc_score(y_test, y_proba_27)\n",
    "roc_auc_28 = roc_auc_score(y_test, y_proba_28)\n",
    "roc_auc_29 = roc_auc_score(y_test, y_proba_29)\n",
    "\n",
    "print(roc_auc_0)\n",
    "print(roc_auc_1)\n",
    "print(roc_auc_2)\n",
    "print(roc_auc_3)\n",
    "print(roc_auc_4)\n",
    "print(roc_auc_5)\n",
    "print(roc_auc_6)\n",
    "print(roc_auc_7)\n",
    "print(roc_auc_8)\n",
    "print(roc_auc_9)\n",
    "print(roc_auc_10)\n",
    "print(roc_auc_11)\n",
    "print(roc_auc_12)\n",
    "print(roc_auc_13)\n",
    "print(roc_auc_14)\n",
    "print(roc_auc_15)\n",
    "print(roc_auc_16)\n",
    "print(roc_auc_17)\n",
    "print(roc_auc_18)\n",
    "print(roc_auc_19)\n",
    "print(roc_auc_20)\n",
    "print(roc_auc_21)\n",
    "print(roc_auc_22)\n",
    "print(roc_auc_23)\n",
    "print(roc_auc_24)\n",
    "print(roc_auc_25)\n",
    "print(roc_auc_26)\n",
    "print(roc_auc_27)\n",
    "print(roc_auc_28)\n",
    "print(roc_auc_29)\n"
   ]
  },
  {
   "cell_type": "code",
   "execution_count": null,
   "metadata": {},
   "outputs": [],
   "source": []
  }
 ],
 "metadata": {
  "kernelspec": {
   "display_name": "Python 3.10.9 ('base')",
   "language": "python",
   "name": "python3"
  },
  "language_info": {
   "codemirror_mode": {
    "name": "ipython",
    "version": 3
   },
   "file_extension": ".py",
   "mimetype": "text/x-python",
   "name": "python",
   "nbconvert_exporter": "python",
   "pygments_lexer": "ipython3",
   "version": "3.10.9"
  },
  "orig_nbformat": 4,
  "vscode": {
   "interpreter": {
    "hash": "d4d1e4263499bec80672ea0156c357c1ee493ec2b1c70f0acce89fc37c4a6abe"
   }
  }
 },
 "nbformat": 4,
 "nbformat_minor": 2
}

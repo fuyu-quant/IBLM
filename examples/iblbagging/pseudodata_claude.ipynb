{
 "cells": [
  {
   "cell_type": "markdown",
   "metadata": {},
   "source": [
    "# Pseudo dataset"
   ]
  },
  {
   "cell_type": "markdown",
   "metadata": {},
   "source": [
    "[![Open In Colab](https://colab.research.google.com/assets/colab-badge.svg)](https://colab.research.google.com/github/fuyu-quant/IBLM/blob/main/examples/iblbagging/pseudodata_claude.ipynb)"
   ]
  },
  {
   "cell_type": "code",
   "execution_count": 1,
   "metadata": {},
   "outputs": [],
   "source": [
    "%%capture\n",
    "%pip install iblm --upgrade"
   ]
  },
  {
   "cell_type": "code",
   "execution_count": 2,
   "metadata": {},
   "outputs": [],
   "source": [
    "import pandas as pd\n",
    "import numpy as np\n",
    "\n",
    "from iblm import IBLBaggingModel\n",
    "\n",
    "from sklearn.datasets import make_classification"
   ]
  },
  {
   "cell_type": "markdown",
   "metadata": {},
   "source": [
    "### Preparing data sets"
   ]
  },
  {
   "cell_type": "code",
   "execution_count": 3,
   "metadata": {},
   "outputs": [],
   "source": [
    "num_train_data = 10000 # 50〜300\n",
    "num_test_data = 1000\n",
    "sample = num_train_data + num_test_data\n",
    "n_informative = 2\n",
    "n_redundant = 0\n",
    "n_features = n_informative + n_redundant\n",
    "weights = [0.5, 0.5]\n",
    "flip_y=0\n",
    "seed = 3655  # 3655,3656,3657\n",
    "\n",
    "# testデータの個数を揃えるためにtrain_test_splitを使っていない\n",
    "x, y = make_classification(\n",
    "    n_samples = sample,  # データ数\n",
    "    n_features = n_features,  # 特徴量の数\n",
    "    n_informative = n_informative,  # ラベル予測に意味のある特徴量の数\n",
    "    n_redundant = n_redundant,  # 冗長な特徴量\n",
    "    weights = weights,  # [0,1]の割合\n",
    "    flip_y = flip_y, # 逆のラベルに反転する割合\n",
    "    random_state = seed\n",
    "    )\n",
    "\n",
    "x = np.round(x, decimals=3)\n",
    "x = pd.DataFrame(x)\n",
    "y = y.astype(int)\n",
    "\n",
    "x_test = x[0:num_test_data]\n",
    "x_train = x[num_test_data:]\n",
    "\n",
    "y_test = y[:num_test_data]\n",
    "y_train = y[num_test_data:]"
   ]
  },
  {
   "cell_type": "markdown",
   "metadata": {},
   "source": [
    "### IBLbagging setting"
   ]
  },
  {
   "cell_type": "code",
   "execution_count": 7,
   "metadata": {},
   "outputs": [],
   "source": [
    "iblbagging = IBLBaggingModel(\n",
    "    api_type=\"claude\",\n",
    "    model_name=\"claude-3-opus-20240229\",\n",
    "    objective=\"binary\",\n",
    "    num_model=5,\n",
    "    max_sample = 2000,\n",
    "    min_sample = 300,\n",
    "    )"
   ]
  },
  {
   "cell_type": "code",
   "execution_count": 8,
   "metadata": {},
   "outputs": [
    {
     "name": "stderr",
     "output_type": "stream",
     "text": [
      "2024-03-10 20:23:17,492 [iblm.ibl][INFO] (ibl:ibl.py:fit:167)\n",
      "2024-03-10 20:23:36,506 [iblm.ibl][INFO] (ibl:ibl.py:fit:167)\n",
      "2024-03-10 20:24:06,756 [iblm.ibl][INFO] (ibl:ibl.py:fit:167)\n",
      "2024-03-10 20:24:25,459 [iblm.ibl][INFO] (ibl:ibl.py:fit:167)\n",
      "2024-03-10 20:25:09,084 [iblm.ibl][INFO] (ibl:ibl.py:fit:167)\n"
     ]
    }
   ],
   "source": [
    "code_models = iblbagging.fit(\n",
    "    x_train,\n",
    "    y_train,\n",
    "    temperature=0.2\n",
    "    )"
   ]
  },
  {
   "cell_type": "code",
   "execution_count": 9,
   "metadata": {},
   "outputs": [
    {
     "data": {
      "text/plain": [
       "[('model_3',\n",
       "  {'code_model': 'def predict(x):\\n    import numpy as np\\n\\n    df = x.copy()\\n    output = []\\n    for index, row in df.iterrows():\\n        # Do not change the code before this point.\\n        # Please describe the process required to make the prediction below.\\n        x1 = row[0]\\n        x2 = row[1]\\n\\n        # Check if point is in upper right quadrant \\n        if x1 > 0 and x2 > 0:\\n            # Points in this region are very likely label 1\\n            y = 0.85\\n        # Check if point is in lower right quadrant\\n        elif x1 > 0 and x2 < 0:\\n            # Points in this region are somewhat likely label 0 \\n            y = 0.3\\n        # Check if point is far in the lower left quadrant\\n        elif x1 < -1.5 and x2 < -1.5:\\n            # Points in this region are very likely label 0\\n            y = 0.05\\n        # Check if point is in the upper left quadrant\\n        elif x1 < 0 and x2 > 1:\\n            # Points in this region are very likely label 1\\n            y = 0.9\\n        else:\\n            # Points not in the above regions are a toss-up\\n            y = 0.5\\n\\n        # Do not change the code after this point.\\n        output.append(y)\\n    return np.array(output)',\n",
       "   'metric_dict': {'roc_auc': 0.840885,\n",
       "    'pr_auc': 0.803313,\n",
       "    'accuracy': 0.798367,\n",
       "    'recall': 0.709544,\n",
       "    'precision': 0.85607,\n",
       "    'f1_score': 0.77595}}),\n",
       " ('model_2',\n",
       "  {'code_model': 'def predict(x):\\n    import numpy as np\\n\\n    df = x.copy()\\n    output = []\\n    for index, row in df.iterrows():\\n        # Do not change the code before this point.\\n        # Please describe the process required to make the prediction below.\\n        x1 = row[0]\\n        x2 = row[1]\\n        \\n        if x1 > 0 and x2 > 0:\\n            y = 0.95\\n        elif x1 > 0 and x2 < 0:\\n            y = 0.6\\n        elif x1 < 0 and x2 > 0:\\n            y = 0.7\\n        else:\\n            if x1 + x2 > 0:\\n                y = 0.4\\n            elif x1 + x2 < -4:\\n                y = 0.05  \\n            else:\\n                y = 0.2\\n        \\n        # Do not change the code after this point.\\n        output.append(y)\\n    return np.array(output)',\n",
       "   'metric_dict': {'roc_auc': 0.83729,\n",
       "    'pr_auc': 0.79604,\n",
       "    'accuracy': 0.69395,\n",
       "    'recall': 0.914352,\n",
       "    'precision': 0.641234,\n",
       "    'f1_score': 0.753817}}),\n",
       " ('model_4',\n",
       "  {'code_model': 'def predict(x):\\n    import numpy as np\\n\\n    df = x.copy()\\n    output = []\\n    for index, row in df.iterrows():\\n        # Do not change the code before this point.\\n        # Please describe the process required to make the prediction below.\\n        x1, x2 = row[0], row[1]\\n        \\n        if x1 > 0 and x2 > 0:\\n            y = 0.95 if x1 + x2 > 2 else 0.8\\n        elif x1 < 0 and x2 > 0:\\n            y = 0.7 if x2 > 1.5 else 0.6\\n        elif x1 > 0 and x2 < 0:\\n            y = 0.4 if x1 > 1.5 else 0.3  \\n        else:\\n            y = 0.1 if x1 + x2 < -2 else 0.2\\n        \\n        # Do not change the code after this point.\\n        output.append(y)\\n    return np.array(output)',\n",
       "   'metric_dict': {'roc_auc': 0.837174,\n",
       "    'pr_auc': 0.792086,\n",
       "    'accuracy': 0.845926,\n",
       "    'recall': 0.860335,\n",
       "    'precision': 0.850829,\n",
       "    'f1_score': 0.855556}}),\n",
       " ('model_5',\n",
       "  {'code_model': 'def predict(x):\\n    import numpy as np\\n\\n    df = x.copy()\\n    output = []\\n    for index, row in df.iterrows():\\n        # Do not change the code before this point.\\n        # Please describe the process required to make the prediction below.\\n        x1 = row[0]\\n        x2 = row[1]\\n        \\n        # Calculate distance from origin\\n        dist = np.sqrt(x1**2 + x2**2)\\n        \\n        # Probability decreases exponentially with distance from origin\\n        y = np.exp(-0.5*dist) \\n        \\n        # Adjust probability based on quadrant\\n        if x1 > 0 and x2 > 0:\\n            y *= 1.2  # Increase probability in quadrant 1\\n        elif x1 < 0 and x2 > 0:  \\n            y *= 0.8  # Decrease probability in quadrant 2\\n        elif x1 < 0 and x2 < 0:\\n            y *= 0.6  # Decrease more in quadrant 3\\n        else:\\n            y *= 1.0  # No change in quadrant 4\\n        \\n        # Ensure probability is between 0 and 1\\n        y = np.clip(y, 0, 1)\\n\\n        # Do not change the code after this point.\\n        output.append(y)\\n    return np.array(output)',\n",
       "   'metric_dict': {'roc_auc': 0.639372,\n",
       "    'pr_auc': 0.691047,\n",
       "    'accuracy': 0.631124,\n",
       "    'recall': 0.357388,\n",
       "    'precision': 0.797954,\n",
       "    'f1_score': 0.493671}}),\n",
       " ('model_1',\n",
       "  {'code_model': 'def predict(x):\\n    import numpy as np\\n\\n    df = x.copy()\\n    output = []\\n    for index, row in df.iterrows():\\n        # Do not change the code before this point.\\n        # Please describe the process required to make the prediction below.\\n        x1 = row[0]\\n        x2 = row[1]\\n\\n        # Check if point is in upper right or lower left quadrant\\n        if (x1 > 0 and x2 > 0) or (x1 < 0 and x2 < 0):\\n            base_prob = 0.7\\n        else:\\n            base_prob = 0.3\\n        \\n        # Adjust probability based on distance from origin\\n        dist = np.sqrt(x1**2 + x2**2)\\n        if dist < 1:\\n            prob = base_prob + 0.2*(1-dist)\\n        elif dist > 2:\\n            prob = base_prob - 0.2*(dist-2)\\n        else:\\n            prob = base_prob\\n        \\n        # Ensure probability is between 0 and 1\\n        y = max(0, min(1, prob))\\n\\n        # Do not change the code after this point.\\n        output.append(y)\\n    return np.array(output)',\n",
       "   'metric_dict': {'roc_auc': 0.496761,\n",
       "    'pr_auc': 0.541539,\n",
       "    'accuracy': 0.50813,\n",
       "    'recall': 0.518072,\n",
       "    'precision': 0.513944,\n",
       "    'f1_score': 0.516}})]"
      ]
     },
     "execution_count": 9,
     "metadata": {},
     "output_type": "execute_result"
    }
   ],
   "source": [
    "code_models"
   ]
  },
  {
   "cell_type": "code",
   "execution_count": 14,
   "metadata": {},
   "outputs": [
    {
     "name": "stdout",
     "output_type": "stream",
     "text": [
      "{'roc_auc': 0.858282, 'pr_auc': 0.840579, 'accuracy': 0.819, 'recall': 0.727273, 'precision': 0.903846, 'f1_score': 0.806002}\n",
      "{'roc_auc': 0.879683, 'pr_auc': 0.845724, 'accuracy': 0.873, 'recall': 0.880077, 'precision': 0.875, 'f1_score': 0.877531}\n",
      "{'roc_auc': 0.881293, 'pr_auc': 0.838539, 'accuracy': 0.873, 'recall': 0.880077, 'precision': 0.875, 'f1_score': 0.877531}\n",
      "{'roc_auc': 0.898699, 'pr_auc': 0.897651, 'accuracy': 0.875, 'recall': 0.88588, 'precision': 0.874046, 'f1_score': 0.879923}\n",
      "{'roc_auc': 0.899256, 'pr_auc': 0.896666, 'accuracy': 0.848, 'recall': 0.814313, 'precision': 0.8826, 'f1_score': 0.847082}\n"
     ]
    }
   ],
   "source": [
    "top_model = 6\n",
    "\n",
    "for i in range(1, top_model):\n",
    "    y_pred = iblbagging.predict_(x_test, i)\n",
    "    print(iblbagging.evaluate(y_test, y_pred))"
   ]
  }
 ],
 "metadata": {
  "kernelspec": {
   "display_name": ".venv",
   "language": "python",
   "name": "python3"
  },
  "language_info": {
   "codemirror_mode": {
    "name": "ipython",
    "version": 3
   },
   "file_extension": ".py",
   "mimetype": "text/x-python",
   "name": "python",
   "nbconvert_exporter": "python",
   "pygments_lexer": "ipython3",
   "version": "3.9.18"
  }
 },
 "nbformat": 4,
 "nbformat_minor": 2
}

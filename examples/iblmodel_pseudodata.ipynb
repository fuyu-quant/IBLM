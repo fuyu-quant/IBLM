{
 "cells": [
  {
   "cell_type": "markdown",
   "metadata": {},
   "source": [
    "# Pseudo Data"
   ]
  },
  {
   "cell_type": "markdown",
   "metadata": {},
   "source": [
    "[![Open In Colab](https://colab.research.google.com/assets/colab-badge.svg)](https://colab.research.google.com/github/fuyu-quant/IBLM/blob/main/examples/iblmodel_pseudodata.ipynb)"
   ]
  },
  {
   "cell_type": "markdown",
   "metadata": {},
   "source": [
    "### Training"
   ]
  },
  {
   "cell_type": "code",
   "execution_count": 1,
   "metadata": {},
   "outputs": [],
   "source": [
    "import pandas as pd\n",
    "import numpy as np\n",
    "from langchain.llms import OpenAI\n",
    "from sklearn.metrics import accuracy_score, precision_score, recall_score, f1_score, roc_auc_score\n",
    "\n",
    "from iblm import IBLMClassifier"
   ]
  },
  {
   "cell_type": "code",
   "execution_count": 9,
   "metadata": {},
   "outputs": [],
   "source": [
    "df = pd.read_csv('../datasets/pseudodata_train.csv')\n",
    "x_train = df.drop('E', axis=1)\n",
    "y_train = df['E']"
   ]
  },
  {
   "cell_type": "code",
   "execution_count": 10,
   "metadata": {},
   "outputs": [],
   "source": [
    "llm_model_name = 'gpt-4'\n",
    "\n",
    "params = {\n",
    "    'columns_name': True\n",
    "    }\n",
    "\n",
    "iblm = IBLMClassifier(llm_model_name=llm_model_name, params=params)"
   ]
  },
  {
   "cell_type": "code",
   "execution_count": 11,
   "metadata": {},
   "outputs": [
    {
     "name": "stdout",
     "output_type": "stream",
     "text": [
      "> Start of model creating.\n",
      "Tokens Used: 4543\n",
      "\tPrompt Tokens: 4265\n",
      "\tCompletion Tokens: 278\n",
      "Successful Requests: 1\n",
      "Total Cost (USD): $0.14462999999999998\n"
     ]
    }
   ],
   "source": [
    "model = iblm.fit(x_train, y_train, model_name = 'psedodata', file_path='./model_code/')"
   ]
  },
  {
   "cell_type": "code",
   "execution_count": 12,
   "metadata": {},
   "outputs": [
    {
     "name": "stdout",
     "output_type": "stream",
     "text": [
      "import numpy as np\n",
      "import pandas as pd\n",
      "\n",
      "def predict(x):\n",
      "    df = x.copy()\n",
      "\n",
      "    output = []\n",
      "    for index, row in df.iterrows():\n",
      "\n",
      "        # Feature creation and data preprocessing\n",
      "        A, B, C, D = row['A'], row['B'], row['C'], row['D']\n",
      "\n",
      "        # Custom logic for binary classification\n",
      "        y = A * C - B * D\n",
      "\n",
      "        # Apply sigmoid function to convert y to probability\n",
      "        y = 1 / (1 + np.exp(-y))\n",
      "        output.append(y)\n",
      "\n",
      "    output = np.array(output)\n",
      "        \n",
      "    return output\n",
      "\n",
      "# Example usage:\n",
      "data = pd.DataFrame({\n",
      "    'A': [-0.360007291614975, -1.4266828135942111, -0.8713033349256126],\n",
      "    'B': [-0.3006233204725373, 0.0063185223230947, -0.2553967691046434],\n",
      "    'C': [1.781525021076077, -1.5914413231764364, 0.9008405013518856],\n",
      "    'D': [-1.373444579582277, -1.528047075881549, -1.7806373818932837]\n",
      "})\n",
      "\n",
      "predictions = predict(data)\n",
      "print(predictions)\n"
     ]
    }
   ],
   "source": [
    "# Code of the model created\n",
    "print(model)"
   ]
  },
  {
   "cell_type": "markdown",
   "metadata": {},
   "source": [
    "### Prediction"
   ]
  },
  {
   "cell_type": "code",
   "execution_count": 13,
   "metadata": {},
   "outputs": [],
   "source": [
    "df = pd.read_csv('../datasets/pseudodata_test.csv')\n",
    "x_test = df.drop('E', axis=1)\n",
    "y_test = df['E']"
   ]
  },
  {
   "cell_type": "code",
   "execution_count": 14,
   "metadata": {},
   "outputs": [
    {
     "name": "stdout",
     "output_type": "stream",
     "text": [
      "[0.25840954 0.90721858 0.22449267]\n"
     ]
    }
   ],
   "source": [
    "y_proba = iblm.predict(x_test)\n",
    "y_pred = (y_proba > 0.5).astype(int)"
   ]
  },
  {
   "cell_type": "code",
   "execution_count": 15,
   "metadata": {},
   "outputs": [
    {
     "name": "stdout",
     "output_type": "stream",
     "text": [
      "Accuracy: 0.415\n",
      "Precision: 0.43103448275862066\n",
      "Recall: 0.49504950495049505\n",
      "F1 score: 0.4608294930875576\n",
      "ROC-AUC: 0.35973597359735976\n"
     ]
    }
   ],
   "source": [
    "accuracy = accuracy_score(y_test, y_pred)\n",
    "print(f'Accuracy: {accuracy}')\n",
    "\n",
    "# Precision\n",
    "precision = precision_score(y_test, y_pred)\n",
    "print(f'Precision: {precision}')\n",
    "\n",
    "# Recall\n",
    "recall = recall_score(y_test, y_pred)\n",
    "print(f'Recall: {recall}')\n",
    "\n",
    "# F1 score\n",
    "f1 = f1_score(y_test, y_pred)\n",
    "print(f'F1 score: {f1}')\n",
    "\n",
    "# ROC-AUC (you need prediction probabilities for this, not just class predictions)\n",
    "# Here we just reuse y_pred for simplicity\n",
    "roc_auc = roc_auc_score(y_test, y_proba)\n",
    "print(f'ROC-AUC: {roc_auc}')"
   ]
  },
  {
   "cell_type": "markdown",
   "metadata": {},
   "source": [
    "### Prediction from external files\n"
   ]
  },
  {
   "cell_type": "code",
   "execution_count": null,
   "metadata": {},
   "outputs": [],
   "source": [
    "from .model_code import pseudodata\n",
    "\n",
    "y_proba = pseudodata.predict(x_test)\n",
    "y_pred = (y_proba > 0.5).astype(int)"
   ]
  },
  {
   "cell_type": "code",
   "execution_count": 20,
   "metadata": {},
   "outputs": [
    {
     "name": "stdout",
     "output_type": "stream",
     "text": [
      "Accuracy: 0.415\n",
      "Precision: 0.43103448275862066\n",
      "Recall: 0.49504950495049505\n",
      "F1 score: 0.4608294930875576\n",
      "ROC-AUC: 0.35973597359735976\n"
     ]
    }
   ],
   "source": [
    "accuracy = accuracy_score(y_test, y_pred)\n",
    "print(f'Accuracy: {accuracy}')\n",
    "\n",
    "# Precision\n",
    "precision = precision_score(y_test, y_pred)\n",
    "print(f'Precision: {precision}')\n",
    "\n",
    "# Recall\n",
    "recall = recall_score(y_test, y_pred)\n",
    "print(f'Recall: {recall}')\n",
    "\n",
    "# F1 score\n",
    "f1 = f1_score(y_test, y_pred)\n",
    "print(f'F1 score: {f1}')\n",
    "\n",
    "# ROC-AUC (you need prediction probabilities for this, not just class predictions)\n",
    "# Here we just reuse y_pred for simplicity\n",
    "roc_auc = roc_auc_score(y_test, y_proba)\n",
    "print(f'ROC-AUC: {roc_auc}')"
   ]
  },
  {
   "cell_type": "markdown",
   "metadata": {},
   "source": [
    "### Interpretation of results"
   ]
  },
  {
   "cell_type": "code",
   "execution_count": 57,
   "metadata": {},
   "outputs": [
    {
     "name": "stdout",
     "output_type": "stream",
     "text": [
      "Tokens Used: 881\n",
      "\tPrompt Tokens: 537\n",
      "\tCompletion Tokens: 344\n",
      "Successful Requests: 1\n",
      "Total Cost (USD): $0.036750000000000005\n"
     ]
    }
   ],
   "source": [
    "description = iblm.interpret()"
   ]
  },
  {
   "cell_type": "code",
   "execution_count": 58,
   "metadata": {},
   "outputs": [
    {
     "name": "stdout",
     "output_type": "stream",
     "text": [
      "- Data preprocessing:\n",
      "    - Fill missing 'age' values with the median age.\n",
      "    - Fill missing 'fare' values with the median fare.\n",
      "    - Fill missing 'embarked' values with the mode (most frequent) of the 'embarked' column.\n",
      "\n",
      "- Feature creation:\n",
      "    - Create a new binary feature 'is_female' based on the 'sex' column.\n",
      "    - Create a new binary feature 'is_child' based on the 'age' column.\n",
      "    - Create a new binary feature 'is_adult_male' based on the 'adult_male' column.\n",
      "    - Create a new binary feature 'is_alone' based on the 'alone' column.\n",
      "    - Create new binary features 'is_first_class', 'is_second_class', and 'is_third_class' based on the 'pclass' column.\n",
      "    - Create new binary features 'embarked_C', 'embarked_Q', and 'embarked_S' based on the 'embarked' column.\n",
      "\n",
      "- Prediction logic:\n",
      "    - Initialize a variable 'y' to 0.\n",
      "    - Add or subtract weights to 'y' based on the created binary features.\n",
      "    - Apply the logistic function (sigmoid) to 'y' to get the final prediction.\n",
      "    - Append the prediction to the 'output' list.\n",
      "\n",
      "- Based on the whole process, we can say that the function takes a DataFrame as input, preprocesses the data, creates new features, and makes predictions based on the created features. The predictions are returned as a NumPy array. The model seems to be a simple logistic regression model that takes into account various factors such as gender, age, passenger class, and embarkation point to make predictions.\n"
     ]
    }
   ],
   "source": [
    "print(description)"
   ]
  },
  {
   "cell_type": "code",
   "execution_count": null,
   "metadata": {},
   "outputs": [],
   "source": []
  }
 ],
 "metadata": {
  "kernelspec": {
   "display_name": "Python 3.10.9 ('base')",
   "language": "python",
   "name": "python3"
  },
  "language_info": {
   "codemirror_mode": {
    "name": "ipython",
    "version": 3
   },
   "file_extension": ".py",
   "mimetype": "text/x-python",
   "name": "python",
   "nbconvert_exporter": "python",
   "pygments_lexer": "ipython3",
   "version": "3.10.9"
  },
  "orig_nbformat": 4,
  "vscode": {
   "interpreter": {
    "hash": "d4d1e4263499bec80672ea0156c357c1ee493ec2b1c70f0acce89fc37c4a6abe"
   }
  }
 },
 "nbformat": 4,
 "nbformat_minor": 2
}

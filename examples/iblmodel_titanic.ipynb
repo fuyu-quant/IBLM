{
 "cells": [
  {
   "cell_type": "markdown",
   "metadata": {},
   "source": [
    "# Titanic dataset\n",
    "* Get sample data [here](https://github.com/fuyu-quant/IBLM/tree/main/datasets)."
   ]
  },
  {
   "cell_type": "markdown",
   "metadata": {},
   "source": [
    "[![Open In Colab](https://colab.research.google.com/assets/colab-badge.svg)](https://colab.research.google.com/github/fuyu-quant/IBLM/blob/main/examples/iblmodel_titanic.ipynb)"
   ]
  },
  {
   "cell_type": "code",
   "execution_count": 1,
   "metadata": {},
   "outputs": [],
   "source": [
    "%%capture\n",
    "!pip install git+https://github.com/fuyu-quant/IBLM.git"
   ]
  },
  {
   "cell_type": "code",
   "execution_count": 2,
   "metadata": {},
   "outputs": [
    {
     "name": "stdout",
     "output_type": "stream",
     "text": [
      "0.0.21\n"
     ]
    }
   ],
   "source": [
    "import pkg_resources\n",
    "print(pkg_resources.get_distribution('IBLM').version)"
   ]
  },
  {
   "cell_type": "markdown",
   "metadata": {},
   "source": [
    "### Training"
   ]
  },
  {
   "cell_type": "code",
   "execution_count": 10,
   "metadata": {},
   "outputs": [],
   "source": [
    "import pandas as pd\n",
    "from langchain.llms import OpenAI\n",
    "from sklearn.metrics import accuracy_score, precision_score, recall_score, f1_score, roc_auc_score\n",
    "\n",
    "from iblm import IBLMClassifier\n",
    "\n",
    "\n",
    "import os\n",
    "#os.environ[\"OPENAI_API_KEY\"] = \"OPENAI_API_KEY\""
   ]
  },
  {
   "cell_type": "code",
   "execution_count": 36,
   "metadata": {},
   "outputs": [],
   "source": [
    "#df = pd.read_csv('/content/titanicdata_train.csv')\n",
    "df = pd.read_csv('../datasets/titanicdata_train.csv')\n",
    "x_train = df.drop('survived', axis=1)\n",
    "y_train = df['survived']"
   ]
  },
  {
   "cell_type": "code",
   "execution_count": 37,
   "metadata": {},
   "outputs": [],
   "source": [
    "llm_model_name = 'gpt-4'\n",
    "\n",
    "params = {\n",
    "    'columns_name': True\n",
    "    }\n",
    "\n",
    "iblm = IBLMClassifier(llm_model_name=llm_model_name, params=params)"
   ]
  },
  {
   "cell_type": "code",
   "execution_count": 64,
   "metadata": {},
   "outputs": [
    {
     "name": "stdout",
     "output_type": "stream",
     "text": [
      "> Start of model creating.\n",
      "Tokens Used: 7676\n",
      "\tPrompt Tokens: 7239\n",
      "\tCompletion Tokens: 437\n",
      "Successful Requests: 1\n",
      "Total Cost (USD): $0.24338999999999997\n"
     ]
    }
   ],
   "source": [
    "#file_path = '/content/'\n",
    "file_path = './model_code/'\n",
    "\n",
    "model = iblm.fit(x_train, y_train, model_name = 'titanic_22_', file_path=file_path)"
   ]
  },
  {
   "cell_type": "code",
   "execution_count": 65,
   "metadata": {},
   "outputs": [
    {
     "name": "stdout",
     "output_type": "stream",
     "text": [
      "import numpy as np\n",
      "\n",
      "def predict(x):\n",
      "    df = x.copy()\n",
      "    output = []\n",
      "    for index, row in df.iterrows():\n",
      "        # Do not change the code before this point.\n",
      "        \n",
      "        # Calculate the probability based on the given data\n",
      "        pclass = row['pclass']\n",
      "        sex = row['sex']\n",
      "        age = row['age']\n",
      "        fare = row['fare']\n",
      "        embarked = row['embarked']\n",
      "        who = row['who']\n",
      "        adult_male = row['adult_male']\n",
      "        alone = row['alone']\n",
      "\n",
      "        # Initialize probability\n",
      "        prob = 0\n",
      "\n",
      "        # Consider the effect of pclass\n",
      "        if pclass == 1:\n",
      "            prob += 0.6\n",
      "        elif pclass == 2:\n",
      "            prob += 0.4\n",
      "        else:\n",
      "            prob += 0.2\n",
      "\n",
      "        # Consider the effect of sex\n",
      "        if sex == 'female':\n",
      "            prob += 0.35\n",
      "        else:\n",
      "            prob -= 0.35\n",
      "\n",
      "        # Consider the effect of age\n",
      "        if age <= 16:\n",
      "            prob += 0.1\n",
      "        elif age >= 60:\n",
      "            prob -= 0.1\n",
      "\n",
      "        # Consider the effect of fare\n",
      "        if fare >= 50:\n",
      "            prob += 0.1\n",
      "        elif fare <= 10:\n",
      "            prob -= 0.1\n",
      "\n",
      "        # Consider the effect of embarked\n",
      "        if embarked == 'C':\n",
      "            prob += 0.05\n",
      "        elif embarked == 'Q':\n",
      "            prob -= 0.05\n",
      "\n",
      "        # Consider the effect of who\n",
      "        if who == 'child':\n",
      "            prob += 0.1\n",
      "\n",
      "        # Consider the effect of adult_male\n",
      "        if adult_male:\n",
      "            prob -= 0.1\n",
      "\n",
      "        # Consider the effect of alone\n",
      "        if alone:\n",
      "            prob -= 0.05\n",
      "\n",
      "        # Normalize the probability to be between 0 and 1\n",
      "        prob = max(0, min(1, prob))\n",
      "\n",
      "        # Append the probability to the output list\n",
      "        output.append(prob)\n",
      "\n",
      "    return np.array(output)\n"
     ]
    }
   ],
   "source": [
    "# Code of the model created\n",
    "print(model)"
   ]
  },
  {
   "cell_type": "markdown",
   "metadata": {},
   "source": [
    "### Prediction"
   ]
  },
  {
   "cell_type": "code",
   "execution_count": 55,
   "metadata": {},
   "outputs": [],
   "source": [
    "#df = pd.read_csv('/content/titanicdata_test.csv')\n",
    "df = pd.read_csv('../datasets/titanicdata_test.csv')\n",
    "x_test = df.drop('survived', axis=1)\n",
    "y_test = df['survived']"
   ]
  },
  {
   "cell_type": "code",
   "execution_count": 56,
   "metadata": {},
   "outputs": [],
   "source": [
    "y_proba = iblm.predict(x_test)\n",
    "y_pred = (y_proba > 0.5).astype(int)"
   ]
  },
  {
   "cell_type": "code",
   "execution_count": 57,
   "metadata": {},
   "outputs": [
    {
     "name": "stdout",
     "output_type": "stream",
     "text": [
      "Accuracy: 0.6050670640834576\n",
      "Precision: 0.0\n",
      "Recall: 0.0\n",
      "F1 score: 0.0\n",
      "ROC-AUC: 0.8148294451157171\n"
     ]
    }
   ],
   "source": [
    "accuracy = accuracy_score(y_test, y_pred)\n",
    "print(f'Accuracy: {accuracy}')\n",
    "\n",
    "# Precision\n",
    "precision = precision_score(y_test, y_pred)\n",
    "print(f'Precision: {precision}')\n",
    "\n",
    "# Recall\n",
    "recall = recall_score(y_test, y_pred)\n",
    "print(f'Recall: {recall}')\n",
    "\n",
    "# F1 score\n",
    "f1 = f1_score(y_test, y_pred)\n",
    "print(f'F1 score: {f1}')\n",
    "\n",
    "# ROC-AUC (you need prediction probabilities for this, not just class predictions)\n",
    "# Here we just reuse y_pred for simplicity\n",
    "roc_auc = roc_auc_score(y_test, y_proba)\n",
    "print(f'ROC-AUC: {roc_auc}')"
   ]
  },
  {
   "cell_type": "markdown",
   "metadata": {},
   "source": [
    "### Prediction from external files\n"
   ]
  },
  {
   "cell_type": "code",
   "execution_count": 59,
   "metadata": {},
   "outputs": [
    {
     "ename": "ImportError",
     "evalue": "attempted relative import with no known parent package",
     "output_type": "error",
     "traceback": [
      "\u001b[0;31m---------------------------------------------------------------------------\u001b[0m",
      "\u001b[0;31mImportError\u001b[0m                               Traceback (most recent call last)",
      "Cell \u001b[0;32mIn[59], line 1\u001b[0m\n\u001b[0;32m----> 1\u001b[0m \u001b[38;5;28;01mfrom\u001b[39;00m \u001b[38;5;21;01m.\u001b[39;00m\u001b[38;5;21;01mmodel_code\u001b[39;00m\u001b[38;5;21;01m.\u001b[39;00m\u001b[38;5;21;01mtitanic_1_\u001b[39;00m  \u001b[38;5;28;01mimport\u001b[39;00m predict\n\u001b[1;32m      3\u001b[0m y_proba \u001b[38;5;241m=\u001b[39m titanic\u001b[38;5;241m.\u001b[39mpredict(x_test)\n\u001b[1;32m      4\u001b[0m y_pred \u001b[38;5;241m=\u001b[39m (y_proba \u001b[38;5;241m>\u001b[39m \u001b[38;5;241m0.5\u001b[39m)\u001b[38;5;241m.\u001b[39mastype(\u001b[38;5;28mint\u001b[39m)\n",
      "\u001b[0;31mImportError\u001b[0m: attempted relative import with no known parent package"
     ]
    }
   ],
   "source": [
    "from model_code import titanic\n",
    "\n",
    "y_proba = titanic.predict(x_test)\n",
    "y_pred = (y_proba > 0.5).astype(int)"
   ]
  },
  {
   "cell_type": "code",
   "execution_count": 13,
   "metadata": {},
   "outputs": [
    {
     "name": "stdout",
     "output_type": "stream",
     "text": [
      "Accuracy: 0.45\n",
      "Precision: 0.3956043956043956\n",
      "Recall: 1.0\n",
      "F1 score: 0.5669291338582677\n",
      "ROC-AUC: 0.9197048611111112\n"
     ]
    }
   ],
   "source": [
    "accuracy = accuracy_score(y_test, y_pred)\n",
    "print(f'Accuracy: {accuracy}')\n",
    "\n",
    "# Precision\n",
    "precision = precision_score(y_test, y_pred)\n",
    "print(f'Precision: {precision}')\n",
    "\n",
    "# Recall\n",
    "recall = recall_score(y_test, y_pred)\n",
    "print(f'Recall: {recall}')\n",
    "\n",
    "# F1 score\n",
    "f1 = f1_score(y_test, y_pred)\n",
    "print(f'F1 score: {f1}')\n",
    "\n",
    "# ROC-AUC (you need prediction probabilities for this, not just class predictions)\n",
    "# Here we just reuse y_pred for simplicity\n",
    "roc_auc = roc_auc_score(y_test, y_proba)\n",
    "print(f'ROC-AUC: {roc_auc}')"
   ]
  },
  {
   "cell_type": "markdown",
   "metadata": {},
   "source": [
    "## Interpretation of results"
   ]
  },
  {
   "cell_type": "code",
   "execution_count": 14,
   "metadata": {},
   "outputs": [
    {
     "name": "stdout",
     "output_type": "stream",
     "text": [
      "Tokens Used: 896\n",
      "\tPrompt Tokens: 341\n",
      "\tCompletion Tokens: 555\n",
      "Successful Requests: 1\n",
      "Total Cost (USD): $0.04353\n"
     ]
    }
   ],
   "source": [
    "description = iblm.interpret()"
   ]
  },
  {
   "cell_type": "code",
   "execution_count": 15,
   "metadata": {},
   "outputs": [
    {
     "name": "stdout",
     "output_type": "stream",
     "text": [
      "- First, the function `predict` takes a DataFrame `x` as input and creates a copy of it named `df`. The columns of `df` are then renamed to be integer indices.\n",
      "\n",
      "- The function then initializes an empty list called `output` to store the predictions.\n",
      "\n",
      "- For each row in the DataFrame `df`, the function extracts the following features:\n",
      "  - `pclass`: Passenger class (First, Second, or Third)\n",
      "  - `sex`: Gender of the passenger (male or female)\n",
      "  - `age`: Age of the passenger\n",
      "  - `fare`: Ticket fare paid by the passenger\n",
      "  - `embarked`: Port of embarkation (C, Q, or S)\n",
      "  - `alone`: Whether the passenger is traveling alone or not (True or False)\n",
      "\n",
      "- The prediction logic is then applied to these features, and a variable `y` is initialized to 0.\n",
      "\n",
      "- The following conditions are checked and the corresponding values are added to `y`:\n",
      "  - If `pclass` is 'First', add 0.3 to `y`.\n",
      "  - If `pclass` is 'Second', add 0.15 to `y`.\n",
      "  - If `sex` is 'female', add 0.35 to `y`.\n",
      "  - If `age` is less than or equal to 16, add 0.1 to `y`.\n",
      "  - If `age` is greater than 16 and less than or equal to 32, add 0.05 to `y`.\n",
      "  - If `fare` is greater than 50, add 0.1 to `y`.\n",
      "  - If `embarked` is 'C', add 0.05 to `y`.\n",
      "  - If `alone` is True, add 0.05 to `y`.\n",
      "\n",
      "- After processing all the conditions, the value of `y` is transformed using the logistic function: `y = 1 / (1 + np.exp(-y))`. This transformation maps `y` to a value between 0 and 1, which can be interpreted as a probability.\n",
      "\n",
      "- The transformed value of `y` is then appended to the `output` list.\n",
      "\n",
      "- Once all rows in the DataFrame have been processed, the `output` list is converted to a NumPy array and returned by the function.\n",
      "\n",
      "Based on the whole process, we can say that the function `predict` takes a DataFrame containing passenger information and returns an array of probabilities representing the likelihood of each passenger meeting certain criteria (e.g., survival). The prediction is based on a simple rule-based model that considers passenger class, gender, age, fare, port of embarkation, and whether the passenger is traveling alone.\n"
     ]
    }
   ],
   "source": [
    "print(description)"
   ]
  },
  {
   "cell_type": "markdown",
   "metadata": {},
   "source": [
    "### Creating Multiple Models"
   ]
  },
  {
   "cell_type": "code",
   "execution_count": 52,
   "metadata": {},
   "outputs": [
    {
     "name": "stdout",
     "output_type": "stream",
     "text": [
      "> Start of model creating.\n",
      "Tokens Used: 7571\n",
      "\tPrompt Tokens: 7239\n",
      "\tCompletion Tokens: 332\n",
      "Successful Requests: 1\n",
      "Total Cost (USD): $0.23708999999999997\n",
      "> Start of model creating.\n",
      "Tokens Used: 7690\n",
      "\tPrompt Tokens: 7239\n",
      "\tCompletion Tokens: 451\n",
      "Successful Requests: 1\n",
      "Total Cost (USD): $0.24422999999999997\n",
      "> Start of model creating.\n",
      "Tokens Used: 7577\n",
      "\tPrompt Tokens: 7239\n",
      "\tCompletion Tokens: 338\n",
      "Successful Requests: 1\n",
      "Total Cost (USD): $0.23744999999999997\n",
      "> Start of model creating.\n",
      "Tokens Used: 7653\n",
      "\tPrompt Tokens: 7239\n",
      "\tCompletion Tokens: 414\n",
      "Successful Requests: 1\n",
      "Total Cost (USD): $0.24200999999999998\n",
      "> Start of model creating.\n",
      "Tokens Used: 7692\n",
      "\tPrompt Tokens: 7239\n",
      "\tCompletion Tokens: 453\n",
      "Successful Requests: 1\n",
      "Total Cost (USD): $0.24434999999999998\n",
      "> Start of model creating.\n",
      "Tokens Used: 7570\n",
      "\tPrompt Tokens: 7239\n",
      "\tCompletion Tokens: 331\n",
      "Successful Requests: 1\n",
      "Total Cost (USD): $0.23702999999999996\n",
      "> Start of model creating.\n",
      "Tokens Used: 7692\n",
      "\tPrompt Tokens: 7239\n",
      "\tCompletion Tokens: 453\n",
      "Successful Requests: 1\n",
      "Total Cost (USD): $0.24434999999999998\n",
      "> Start of model creating.\n",
      "Tokens Used: 7692\n",
      "\tPrompt Tokens: 7239\n",
      "\tCompletion Tokens: 453\n",
      "Successful Requests: 1\n",
      "Total Cost (USD): $0.24434999999999998\n",
      "> Start of model creating.\n",
      "Tokens Used: 7577\n",
      "\tPrompt Tokens: 7239\n",
      "\tCompletion Tokens: 338\n",
      "Successful Requests: 1\n",
      "Total Cost (USD): $0.23744999999999997\n",
      "> Start of model creating.\n",
      "Tokens Used: 7647\n",
      "\tPrompt Tokens: 7239\n",
      "\tCompletion Tokens: 408\n",
      "Successful Requests: 1\n",
      "Total Cost (USD): $0.24164999999999998\n",
      "> Start of model creating.\n",
      "Tokens Used: 7688\n",
      "\tPrompt Tokens: 7239\n",
      "\tCompletion Tokens: 449\n",
      "Successful Requests: 1\n",
      "Total Cost (USD): $0.24410999999999997\n",
      "> Start of model creating.\n",
      "Tokens Used: 7692\n",
      "\tPrompt Tokens: 7239\n",
      "\tCompletion Tokens: 453\n",
      "Successful Requests: 1\n",
      "Total Cost (USD): $0.24434999999999998\n",
      "> Start of model creating.\n",
      "Tokens Used: 7541\n",
      "\tPrompt Tokens: 7239\n",
      "\tCompletion Tokens: 302\n",
      "Successful Requests: 1\n",
      "Total Cost (USD): $0.23528999999999997\n",
      "> Start of model creating.\n",
      "Tokens Used: 7652\n",
      "\tPrompt Tokens: 7239\n",
      "\tCompletion Tokens: 413\n",
      "Successful Requests: 1\n",
      "Total Cost (USD): $0.24194999999999997\n",
      "> Start of model creating.\n",
      "Tokens Used: 7576\n",
      "\tPrompt Tokens: 7239\n",
      "\tCompletion Tokens: 337\n",
      "Successful Requests: 1\n",
      "Total Cost (USD): $0.23738999999999996\n",
      "> Start of model creating.\n",
      "Tokens Used: 7637\n",
      "\tPrompt Tokens: 7239\n",
      "\tCompletion Tokens: 398\n",
      "Successful Requests: 1\n",
      "Total Cost (USD): $0.24105\n",
      "> Start of model creating.\n",
      "Tokens Used: 7598\n",
      "\tPrompt Tokens: 7239\n",
      "\tCompletion Tokens: 359\n",
      "Successful Requests: 1\n",
      "Total Cost (USD): $0.23870999999999998\n",
      "> Start of model creating.\n",
      "Tokens Used: 7542\n",
      "\tPrompt Tokens: 7239\n",
      "\tCompletion Tokens: 303\n",
      "Successful Requests: 1\n",
      "Total Cost (USD): $0.23534999999999998\n",
      "> Start of model creating.\n",
      "Tokens Used: 7692\n",
      "\tPrompt Tokens: 7239\n",
      "\tCompletion Tokens: 453\n",
      "Successful Requests: 1\n",
      "Total Cost (USD): $0.24434999999999998\n",
      "> Start of model creating.\n",
      "Tokens Used: 7649\n",
      "\tPrompt Tokens: 7239\n",
      "\tCompletion Tokens: 410\n",
      "Successful Requests: 1\n",
      "Total Cost (USD): $0.24176999999999998\n",
      "> Start of model creating.\n",
      "Tokens Used: 7649\n",
      "\tPrompt Tokens: 7239\n",
      "\tCompletion Tokens: 410\n",
      "Successful Requests: 1\n",
      "Total Cost (USD): $0.24176999999999998\n",
      "> Start of model creating.\n",
      "Tokens Used: 7758\n",
      "\tPrompt Tokens: 7239\n",
      "\tCompletion Tokens: 519\n",
      "Successful Requests: 1\n",
      "Total Cost (USD): $0.24830999999999998\n",
      "> Start of model creating.\n",
      "Tokens Used: 7705\n",
      "\tPrompt Tokens: 7239\n",
      "\tCompletion Tokens: 466\n",
      "Successful Requests: 1\n",
      "Total Cost (USD): $0.24512999999999996\n",
      "> Start of model creating.\n",
      "Tokens Used: 7692\n",
      "\tPrompt Tokens: 7239\n",
      "\tCompletion Tokens: 453\n",
      "Successful Requests: 1\n",
      "Total Cost (USD): $0.24434999999999998\n",
      "> Start of model creating.\n",
      "Tokens Used: 7659\n",
      "\tPrompt Tokens: 7239\n",
      "\tCompletion Tokens: 420\n",
      "Successful Requests: 1\n",
      "Total Cost (USD): $0.24236999999999997\n",
      "> Start of model creating.\n",
      "Tokens Used: 7741\n",
      "\tPrompt Tokens: 7239\n",
      "\tCompletion Tokens: 502\n",
      "Successful Requests: 1\n",
      "Total Cost (USD): $0.24728999999999998\n",
      "> Start of model creating.\n",
      "Tokens Used: 7542\n",
      "\tPrompt Tokens: 7239\n",
      "\tCompletion Tokens: 303\n",
      "Successful Requests: 1\n",
      "Total Cost (USD): $0.23534999999999998\n",
      "> Start of model creating.\n",
      "Tokens Used: 7692\n",
      "\tPrompt Tokens: 7239\n",
      "\tCompletion Tokens: 453\n",
      "Successful Requests: 1\n",
      "Total Cost (USD): $0.24434999999999998\n",
      "> Start of model creating.\n",
      "Tokens Used: 7598\n",
      "\tPrompt Tokens: 7239\n",
      "\tCompletion Tokens: 359\n",
      "Successful Requests: 1\n",
      "Total Cost (USD): $0.23870999999999998\n",
      "> Start of model creating.\n",
      "Tokens Used: 7649\n",
      "\tPrompt Tokens: 7239\n",
      "\tCompletion Tokens: 410\n",
      "Successful Requests: 1\n",
      "Total Cost (USD): $0.24176999999999998\n"
     ]
    }
   ],
   "source": [
    "#file_path = '/content/'\n",
    "file_path = './model_code/'\n",
    "\n",
    "for i in range(30):\n",
    "    model = iblm.fit(x_train, y_train, model_name = f'titanic_{i}_', file_path=file_path)"
   ]
  }
 ],
 "metadata": {
  "kernelspec": {
   "display_name": "Python 3.10.9 ('base')",
   "language": "python",
   "name": "python3"
  },
  "language_info": {
   "codemirror_mode": {
    "name": "ipython",
    "version": 3
   },
   "file_extension": ".py",
   "mimetype": "text/x-python",
   "name": "python",
   "nbconvert_exporter": "python",
   "pygments_lexer": "ipython3",
   "version": "3.10.9"
  },
  "orig_nbformat": 4,
  "vscode": {
   "interpreter": {
    "hash": "d4d1e4263499bec80672ea0156c357c1ee493ec2b1c70f0acce89fc37c4a6abe"
   }
  }
 },
 "nbformat": 4,
 "nbformat_minor": 2
}

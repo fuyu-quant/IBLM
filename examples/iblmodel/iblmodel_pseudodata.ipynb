{
 "cells": [
  {
   "cell_type": "markdown",
   "metadata": {},
   "source": [
    "# Pseudo data set"
   ]
  },
  {
   "cell_type": "markdown",
   "metadata": {},
   "source": [
    "[![Open In Colab](https://colab.research.google.com/assets/colab-badge.svg)](https://colab.research.google.com/github/fuyu-quant/IBLM/blob/main/examples/iblmodel/iblmodel_pseudodata.ipynb)"
   ]
  },
  {
   "cell_type": "code",
   "execution_count": 1,
   "metadata": {},
   "outputs": [],
   "source": [
    "%%capture\n",
    "!pip install iblm --upgrade"
   ]
  },
  {
   "cell_type": "code",
   "execution_count": 2,
   "metadata": {},
   "outputs": [],
   "source": [
    "import numpy as np\n",
    "import pandas as pd\n",
    "import string\n",
    "from langchain.llms import OpenAI\n",
    "from sklearn.metrics import accuracy_score, precision_score, recall_score, f1_score, roc_auc_score\n",
    "from sklearn.datasets import make_classification\n",
    "\n",
    "from iblm import IBLModel\n",
    "\n",
    "import os\n",
    "#os.environ[\"OPENAI_API_KEY\"] = \"OPENAI_API_KEY\""
   ]
  },
  {
   "cell_type": "markdown",
   "metadata": {},
   "source": [
    "### Preparing data sets"
   ]
  },
  {
   "cell_type": "code",
   "execution_count": 3,
   "metadata": {},
   "outputs": [
    {
     "data": {
      "text/html": [
       "<div>\n",
       "<style scoped>\n",
       "    .dataframe tbody tr th:only-of-type {\n",
       "        vertical-align: middle;\n",
       "    }\n",
       "\n",
       "    .dataframe tbody tr th {\n",
       "        vertical-align: top;\n",
       "    }\n",
       "\n",
       "    .dataframe thead th {\n",
       "        text-align: right;\n",
       "    }\n",
       "</style>\n",
       "<table border=\"1\" class=\"dataframe\">\n",
       "  <thead>\n",
       "    <tr style=\"text-align: right;\">\n",
       "      <th></th>\n",
       "      <th>a</th>\n",
       "      <th>b</th>\n",
       "      <th>c</th>\n",
       "      <th>d</th>\n",
       "      <th>target</th>\n",
       "    </tr>\n",
       "  </thead>\n",
       "  <tbody>\n",
       "    <tr>\n",
       "      <th>755</th>\n",
       "      <td>-0.21</td>\n",
       "      <td>-0.63</td>\n",
       "      <td>0.57</td>\n",
       "      <td>0.98</td>\n",
       "      <td>1</td>\n",
       "    </tr>\n",
       "    <tr>\n",
       "      <th>384</th>\n",
       "      <td>0.78</td>\n",
       "      <td>0.32</td>\n",
       "      <td>-0.60</td>\n",
       "      <td>-1.00</td>\n",
       "      <td>0</td>\n",
       "    </tr>\n",
       "    <tr>\n",
       "      <th>692</th>\n",
       "      <td>0.48</td>\n",
       "      <td>-0.30</td>\n",
       "      <td>-0.00</td>\n",
       "      <td>0.03</td>\n",
       "      <td>1</td>\n",
       "    </tr>\n",
       "    <tr>\n",
       "      <th>650</th>\n",
       "      <td>1.05</td>\n",
       "      <td>-0.09</td>\n",
       "      <td>-0.43</td>\n",
       "      <td>-0.67</td>\n",
       "      <td>0</td>\n",
       "    </tr>\n",
       "    <tr>\n",
       "      <th>117</th>\n",
       "      <td>-0.73</td>\n",
       "      <td>-0.21</td>\n",
       "      <td>0.50</td>\n",
       "      <td>0.82</td>\n",
       "      <td>1</td>\n",
       "    </tr>\n",
       "  </tbody>\n",
       "</table>\n",
       "</div>"
      ],
      "text/plain": [
       "        a     b     c     d  target\n",
       "755 -0.21 -0.63  0.57  0.98       1\n",
       "384  0.78  0.32 -0.60 -1.00       0\n",
       "692  0.48 -0.30 -0.00  0.03       1\n",
       "650  1.05 -0.09 -0.43 -0.67       0\n",
       "117 -0.73 -0.21  0.50  0.82       1"
      ]
     },
     "execution_count": 3,
     "metadata": {},
     "output_type": "execute_result"
    }
   ],
   "source": [
    "columns = 4\n",
    "train_data = 40\n",
    "sampling = int(train_data/2)\n",
    "seed = 3656\n",
    "\n",
    "X, y = make_classification(n_samples=1000, n_features=columns, random_state=seed)\n",
    "X = np.round(X, 2)\n",
    "y = np.round(y, 2)\n",
    "\n",
    "column_name = [letter for letter in string.ascii_lowercase[:columns]] \n",
    "\n",
    "df = pd.DataFrame(X, columns = column_name)\n",
    "df['target'] = y \n",
    "\n",
    "df_1 = df[df['target'] == 1].sample(n=sampling, random_state=seed)\n",
    "df_0 = df[df['target'] == 0].sample(n=sampling, random_state=seed)\n",
    "\n",
    "df_train = pd.DataFrame()\n",
    "df_len = len(df_1)\n",
    "for i in range(df_len):\n",
    "    df1 = pd.DataFrame([df_1.iloc[i]])\n",
    "    df0 = pd.DataFrame([df_0.iloc[i]])\n",
    "    df_train = pd.concat([df_train, df1, df0])\n",
    "\n",
    "df_train['target'] = df_train['target'].astype(int)\n",
    "df_test = df.drop(df_train.index)\n",
    "\n",
    "df_train.head()"
   ]
  },
  {
   "cell_type": "code",
   "execution_count": 4,
   "metadata": {},
   "outputs": [],
   "source": [
    "x_train = df_train.drop('target', axis=1)\n",
    "y_train = df_train['target']"
   ]
  },
  {
   "cell_type": "markdown",
   "metadata": {},
   "source": [
    "## Training"
   ]
  },
  {
   "cell_type": "code",
   "execution_count": 5,
   "metadata": {},
   "outputs": [],
   "source": [
    "llm_model = OpenAI(temperature=0, model_name = 'gpt-4-0613')\n",
    "\n",
    "params = {\n",
    "    'columns_name': True,\n",
    "    'objective': 'classification',\n",
    "    }\n",
    "\n",
    "iblm = IBLModel(llm_model = llm_model, params=params)"
   ]
  },
  {
   "cell_type": "code",
   "execution_count": 6,
   "metadata": {},
   "outputs": [
    {
     "name": "stdout",
     "output_type": "stream",
     "text": [
      "Please create your code in compliance with all of the following conditions. \n",
      "・Analyze the data given below and write python code to predict the probability that the \"target\" of the unknown data is 1.\n",
      "・Never use machine learning algorithms.\n",
      "・Only Python functions should be output.\n",
      "・Please come up with a logic that allows you to predict probability values as closely as possible.\n",
      "・For the data given below, create a code that predicts a high probability value when \"target\" is likely to be 1 and a low probability value when \"target\" is unlikely to be 1.\n",
      "・The 'target' value cannot be used for forecasting.\n",
      "・Analyze the data in as much detail as possible.\n",
      "・Each data type is float64, float64, float64, float64, int64.\n",
      "・The column names, in order, are as follows a, b, c, d, target.\n",
      "・Create a code like the following.\n",
      "------------\n",
      "import numpy as np\n",
      "def predict(x):\n",
      "    df = x.copy()\n",
      "    \n",
      "    output = []\n",
      "    for index, row in df.iterrows():\n",
      "        # Do not change the code before this point.\n",
      "        # Please describe the process required to make the prediction below.\n",
      "\n",
      "        # Do not change the code after this point.\n",
      "        output.append(y)\n",
      "    return np.array(output)\n",
      "------------\n",
      "data\n",
      "------------\n",
      "-0.21,-0.63,0.57,0.98,1.0\n",
      "0.78,0.32,-0.6,-1.0,0.0\n",
      "0.48,-0.3,-0.0,0.03,1.0\n",
      "1.05,-0.09,-0.43,-0.67,0.0\n",
      "-0.73,-0.21,0.5,0.82,1.0\n",
      "0.73,0.52,-0.73,-1.22,0.0\n",
      "0.99,-1.26,0.47,0.9,1.0\n",
      "-1.86,1.63,-0.34,-0.74,0.0\n",
      "-3.29,0.76,0.97,1.46,1.0\n",
      "-1.08,1.34,-0.49,-0.95,0.0\n",
      "-1.01,-0.1,0.55,0.88,1.0\n",
      "0.98,0.26,-0.65,-1.07,0.0\n",
      "0.4,-0.58,0.24,0.46,1.0\n",
      "-0.18,0.91,-0.59,-1.05,0.0\n",
      "0.5,-0.75,0.32,0.6,1.0\n",
      "0.81,0.69,-0.89,-1.5,0.0\n",
      "0.07,-0.73,0.51,0.9,1.0\n",
      "2.46,0.31,-1.38,-2.23,0.0\n",
      "1.33,-2.1,0.93,1.74,1.0\n",
      "-0.76,1.5,-0.76,-1.39,0.0\n",
      "-2.66,0.52,0.86,1.3,1.0\n",
      "-0.26,1.55,-1.03,-1.83,0.0\n",
      "1.37,-2.19,0.98,1.84,1.0\n",
      "-2.0,1.49,-0.16,-0.44,0.0\n",
      "0.04,0.7,-0.54,-0.94,1.0\n",
      "0.2,1.12,-0.93,-1.62,0.0\n",
      "-0.83,-0.49,0.75,1.27,1.0\n",
      "-1.1,1.66,-0.71,-1.35,0.0\n",
      "0.64,-0.59,0.14,0.29,1.0\n",
      "-1.34,1.33,-0.36,-0.74,0.0\n",
      "-0.82,-0.17,0.51,0.84,1.0\n",
      "-0.64,1.26,-0.63,-1.16,0.0\n",
      "1.44,-2.34,1.06,1.98,1.0\n",
      "0.77,0.65,-0.84,-1.42,0.0\n",
      "-0.43,-0.27,0.4,0.67,1.0\n",
      "-2.66,1.94,-0.19,-0.55,0.0\n",
      "0.92,-1.35,0.57,1.08,1.0\n",
      "0.05,1.14,-0.86,-1.52,0.0\n",
      "1.23,-0.88,0.08,0.23,1.0\n",
      "-0.24,1.1,-0.7,-1.25,0.0\n"
     ]
    }
   ],
   "source": [
    "#file_path = '/content/'\n",
    "\n",
    "#model = iblm.fit(x_train, y_train, model_name = 'pseudodata', file_path=file_path)\n",
    "model = iblm.fit(x_train, y_train)"
   ]
  },
  {
   "cell_type": "code",
   "execution_count": 7,
   "metadata": {},
   "outputs": [
    {
     "name": "stdout",
     "output_type": "stream",
     "text": [
      "import numpy as np\n",
      "import pandas as pd\n",
      "\n",
      "def predict(x):\n",
      "    df = x.copy()\n",
      "    \n",
      "    output = []\n",
      "    for index, row in df.iterrows():\n",
      "        sum_abs = abs(row['a']) + abs(row['b']) + abs(row['c']) + abs(row['d'])\n",
      "        if sum_abs > 2.5:\n",
      "            y = 1.0\n",
      "        else:\n",
      "            y = 0.0\n",
      "        output.append(y)\n",
      "    return np.array(output)\n",
      "\n",
      "data = pd.DataFrame({\n",
      "    'a': [-0.21, 0.78, 0.48, 1.05, -0.73],\n",
      "    'b': [-0.63, 0.32, -0.3, -0.09, -0.21],\n",
      "    'c': [0.57, -0.6, -0.0, -0.43, 0.5],\n",
      "    'd': [0.98, -1.0, 0.03, -0.67, 0.82],\n",
      "    'target': [1.0, 0.0, 1.0, 0.0, 1.0]\n",
      "})\n",
      "\n",
      "print(predict(data))\n"
     ]
    }
   ],
   "source": [
    "# Code Model\n",
    "print(model)"
   ]
  },
  {
   "cell_type": "markdown",
   "metadata": {},
   "source": [
    "### Prediction"
   ]
  },
  {
   "cell_type": "code",
   "execution_count": 8,
   "metadata": {},
   "outputs": [],
   "source": [
    "x_test = df_test.drop('target', axis=1)\n",
    "y_test = df_test['target']"
   ]
  },
  {
   "cell_type": "code",
   "execution_count": 9,
   "metadata": {},
   "outputs": [
    {
     "name": "stdout",
     "output_type": "stream",
     "text": [
      "[0. 1. 0. 0. 0.]\n"
     ]
    }
   ],
   "source": [
    "y_proba = iblm.predict(x_test)\n",
    "y_pred = (y_proba > 0.5).astype(int)"
   ]
  },
  {
   "cell_type": "code",
   "execution_count": 10,
   "metadata": {},
   "outputs": [
    {
     "name": "stdout",
     "output_type": "stream",
     "text": [
      "Accuracy: 0.4188\n",
      "Precision: 0.4449\n",
      "Recall: 0.666\n",
      "F1 score: 0.5334\n",
      "ROC-AUC: 0.4193\n"
     ]
    }
   ],
   "source": [
    "accuracy = round(accuracy_score(y_test, y_pred),4)\n",
    "print(f'Accuracy: {accuracy}')\n",
    "\n",
    "# Precision\n",
    "precision = round(precision_score(y_test, y_pred),4)\n",
    "print(f'Precision: {precision}')\n",
    "\n",
    "# Recall\n",
    "recall = round(recall_score(y_test, y_pred),4)\n",
    "print(f'Recall: {recall}')\n",
    "\n",
    "# F1 score\n",
    "f1 = round(f1_score(y_test, y_pred),4)\n",
    "print(f'F1 score: {f1}')\n",
    "\n",
    "# ROC-AUC (you need prediction probabilities for this, not just class predictions)\n",
    "# Here we just reuse y_pred for simplicity\n",
    "roc_auc = round(roc_auc_score(y_test, y_proba),4)\n",
    "print(f'ROC-AUC: {roc_auc}')"
   ]
  },
  {
   "cell_type": "code",
   "execution_count": null,
   "metadata": {},
   "outputs": [],
   "source": []
  }
 ],
 "metadata": {
  "kernelspec": {
   "display_name": "Python 3.9.10 ('iblm-L6oop2Mj-py3.9')",
   "language": "python",
   "name": "python3"
  },
  "language_info": {
   "codemirror_mode": {
    "name": "ipython",
    "version": 3
   },
   "file_extension": ".py",
   "mimetype": "text/x-python",
   "name": "python",
   "nbconvert_exporter": "python",
   "pygments_lexer": "ipython3",
   "version": "3.9.17"
  },
  "orig_nbformat": 4,
  "vscode": {
   "interpreter": {
    "hash": "67008fb9323ab6c1c90f5d9822582dbef34eff0db475eec3af4e0e9456757ebf"
   }
  }
 },
 "nbformat": 4,
 "nbformat_minor": 2
}

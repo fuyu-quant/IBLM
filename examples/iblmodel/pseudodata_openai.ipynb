{
 "cells": [
  {
   "cell_type": "markdown",
   "metadata": {},
   "source": [
    "# Pseudo dataset"
   ]
  },
  {
   "cell_type": "markdown",
   "metadata": {},
   "source": [
    "[![Open In Colab](https://colab.research.google.com/assets/colab-badge.svg)](https://colab.research.google.com/github/fuyu-quant/IBLM/blob/main/examples/iblmodel/pseudodat_openai.ipynb)"
   ]
  },
  {
   "cell_type": "code",
   "execution_count": 1,
   "metadata": {},
   "outputs": [],
   "source": [
    "%%capture\n",
    "%pip install iblm --upgrade"
   ]
  },
  {
   "cell_type": "code",
   "execution_count": 2,
   "metadata": {},
   "outputs": [],
   "source": [
    "import os\n",
    "import pandas as pd\n",
    "import numpy as np\n",
    "\n",
    "from iblm import IBLModel\n",
    "\n",
    "from sklearn.datasets import make_classification\n",
    "\n",
    "#os.environ[\"OPENAI_API_KEY\"] = \"YOUR_API_KEY\""
   ]
  },
  {
   "cell_type": "markdown",
   "metadata": {},
   "source": [
    "### Preparing data sets"
   ]
  },
  {
   "cell_type": "code",
   "execution_count": 3,
   "metadata": {},
   "outputs": [],
   "source": [
    "num_train_data = 500 # 50〜300\n",
    "num_test_data = 1000\n",
    "sample = num_train_data + num_test_data\n",
    "n_informative = 2\n",
    "n_redundant = 0\n",
    "n_features = n_informative + n_redundant\n",
    "weights = [0.5, 0.5]\n",
    "flip_y=0\n",
    "seed = 3655  # 3655,3656,3657\n",
    "\n",
    "x, y = make_classification(\n",
    "    n_samples = sample,  # データ数\n",
    "    n_features = n_features,  # 特徴量の数\n",
    "    n_informative = n_informative,  # ラベル予測に意味のある特徴量の数\n",
    "    n_redundant = n_redundant,  # 冗長な特徴量\n",
    "    weights = weights,  # [0,1]の割合\n",
    "    flip_y = flip_y, # 逆のラベルに反転する割合\n",
    "    random_state = seed\n",
    "    )\n",
    "\n",
    "x = np.round(x, decimals=3)\n",
    "x = pd.DataFrame(x)\n",
    "\n",
    "x_test = x[0:num_test_data]\n",
    "x_train = x[num_test_data:]\n",
    "\n",
    "y_test = y[:num_test_data]\n",
    "y_train = y[num_test_data:]"
   ]
  },
  {
   "cell_type": "markdown",
   "metadata": {},
   "source": [
    "### GPT-4 Turbo"
   ]
  },
  {
   "cell_type": "code",
   "execution_count": 4,
   "metadata": {},
   "outputs": [],
   "source": [
    "iblm = IBLModel(\n",
    "    api_type=\"openai\",\n",
    "    model_name=\"gpt-4-0125-preview\",\n",
    "    objective=\"binary\"\n",
    "    )"
   ]
  },
  {
   "cell_type": "markdown",
   "metadata": {},
   "source": [
    "* Learning"
   ]
  },
  {
   "cell_type": "code",
   "execution_count": 5,
   "metadata": {},
   "outputs": [
    {
     "name": "stderr",
     "output_type": "stream",
     "text": [
      "2024-03-10 18:36:25,035 [iblm.ibl][INFO] (ibl:ibl.py:fit:153)\n"
     ]
    }
   ],
   "source": [
    "model = iblm.fit(x_train, y_train, seed=3655)"
   ]
  },
  {
   "cell_type": "code",
   "execution_count": 6,
   "metadata": {},
   "outputs": [
    {
     "name": "stdout",
     "output_type": "stream",
     "text": [
      "#########\n",
      "def predict(x):\n",
      "    import numpy as np\n",
      "\n",
      "    df = x.copy()\n",
      "    output = []\n",
      "    for index, row in df.iterrows():\n",
      "        # Do not change the code before this point.\n",
      "        # Please describe the process required to make the prediction below.\n",
      "        \n",
      "        # Simple logistic regression coefficients derived from the dataset manually or through a simple algorithm\n",
      "        # These coefficients are placeholders and should ideally be calculated using a logistic regression model\n",
      "        # trained on the dataset provided. This is a simplistic approach for demonstration purposes.\n",
      "        intercept = 0.5  # Intercept (bias) of the logistic regression model\n",
      "        coef_1 = 0.7    # Coefficient for the first feature\n",
      "        coef_2 = 0.3    # Coefficient for the second feature\n",
      "        \n",
      "        # Logistic regression model equation\n",
      "        log_odds = intercept + coef_1 * row[0] + coef_2 * row[1]\n",
      "        \n",
      "        # Sigmoid function to convert log odds to probability\n",
      "        y = 1 / (1 + np.exp(-log_odds))\n",
      "\n",
      "        # Do not change the code after this point.\n",
      "        output.append(y)\n",
      "    return np.array(output)\n",
      "#########\n"
     ]
    }
   ],
   "source": [
    "print(model)"
   ]
  },
  {
   "cell_type": "markdown",
   "metadata": {},
   "source": [
    "* prediction"
   ]
  },
  {
   "cell_type": "code",
   "execution_count": 7,
   "metadata": {},
   "outputs": [],
   "source": [
    "y_pred = iblm.predict(x_test)"
   ]
  },
  {
   "cell_type": "markdown",
   "metadata": {},
   "source": [
    "* Evaluation"
   ]
  },
  {
   "cell_type": "code",
   "execution_count": 8,
   "metadata": {},
   "outputs": [
    {
     "data": {
      "text/plain": [
       "{'roc_auc': 0.975932,\n",
       " 'pr_auc': 0.976062,\n",
       " 'accuracy': 0.857,\n",
       " 'recall': 0.996032,\n",
       " 'precision': 0.780715,\n",
       " 'f1_score': 0.875327}"
      ]
     },
     "execution_count": 8,
     "metadata": {},
     "output_type": "execute_result"
    }
   ],
   "source": [
    "iblm.evaluate(y_test, y_pred)"
   ]
  }
 ],
 "metadata": {
  "kernelspec": {
   "display_name": ".venv",
   "language": "python",
   "name": "python3"
  },
  "language_info": {
   "codemirror_mode": {
    "name": "ipython",
    "version": 3
   },
   "file_extension": ".py",
   "mimetype": "text/x-python",
   "name": "python",
   "nbconvert_exporter": "python",
   "pygments_lexer": "ipython3",
   "version": "3.9.18"
  }
 },
 "nbformat": 4,
 "nbformat_minor": 2
}

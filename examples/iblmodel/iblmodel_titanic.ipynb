{
 "cells": [
  {
   "cell_type": "markdown",
   "metadata": {},
   "source": [
    "# Titanic data set"
   ]
  },
  {
   "cell_type": "markdown",
   "metadata": {},
   "source": [
    "[![Open In Colab](https://colab.research.google.com/assets/colab-badge.svg)](https://colab.research.google.com/github/fuyu-quant/IBLM/blob/main/examples/iblmodel/iblmodel_titanic.ipynb)"
   ]
  },
  {
   "cell_type": "code",
   "execution_count": null,
   "metadata": {},
   "outputs": [],
   "source": [
    "%%capture\n",
    "!pip install iblm --upgrade"
   ]
  },
  {
   "cell_type": "code",
   "execution_count": 3,
   "metadata": {},
   "outputs": [],
   "source": [
    "import pandas as pd\n",
    "from langchain.llms import OpenAI\n",
    "from sklearn.metrics import accuracy_score, precision_score, recall_score, f1_score, roc_auc_score\n",
    "import seaborn as sns\n",
    "\n",
    "from iblm import IBLModel\n",
    "\n",
    "import os\n",
    "#os.environ[\"OPENAI_API_KEY\"] = \"OPENAI_API_KEY\""
   ]
  },
  {
   "cell_type": "markdown",
   "metadata": {},
   "source": [
    "### Preparing data sets"
   ]
  },
  {
   "cell_type": "code",
   "execution_count": 4,
   "metadata": {},
   "outputs": [
    {
     "data": {
      "text/html": [
       "<div>\n",
       "<style scoped>\n",
       "    .dataframe tbody tr th:only-of-type {\n",
       "        vertical-align: middle;\n",
       "    }\n",
       "\n",
       "    .dataframe tbody tr th {\n",
       "        vertical-align: top;\n",
       "    }\n",
       "\n",
       "    .dataframe thead th {\n",
       "        text-align: right;\n",
       "    }\n",
       "</style>\n",
       "<table border=\"1\" class=\"dataframe\">\n",
       "  <thead>\n",
       "    <tr style=\"text-align: right;\">\n",
       "      <th></th>\n",
       "      <th>pclass</th>\n",
       "      <th>age</th>\n",
       "      <th>sibsp</th>\n",
       "      <th>parch</th>\n",
       "      <th>fare</th>\n",
       "      <th>sex_female</th>\n",
       "      <th>sex_male</th>\n",
       "      <th>embarked_C</th>\n",
       "      <th>embarked_Q</th>\n",
       "      <th>embarked_S</th>\n",
       "      <th>...</th>\n",
       "      <th>deck_B</th>\n",
       "      <th>deck_C</th>\n",
       "      <th>deck_D</th>\n",
       "      <th>deck_E</th>\n",
       "      <th>deck_F</th>\n",
       "      <th>deck_G</th>\n",
       "      <th>embark_town_Cherbourg</th>\n",
       "      <th>embark_town_Queenstown</th>\n",
       "      <th>embark_town_Southampton</th>\n",
       "      <th>survived</th>\n",
       "    </tr>\n",
       "  </thead>\n",
       "  <tbody>\n",
       "    <tr>\n",
       "      <th>717</th>\n",
       "      <td>2.0</td>\n",
       "      <td>27.0</td>\n",
       "      <td>0.0</td>\n",
       "      <td>0.0</td>\n",
       "      <td>10.5000</td>\n",
       "      <td>1.0</td>\n",
       "      <td>0.0</td>\n",
       "      <td>0.0</td>\n",
       "      <td>0.0</td>\n",
       "      <td>1.0</td>\n",
       "      <td>...</td>\n",
       "      <td>0.0</td>\n",
       "      <td>0.0</td>\n",
       "      <td>0.0</td>\n",
       "      <td>1.0</td>\n",
       "      <td>0.0</td>\n",
       "      <td>0.0</td>\n",
       "      <td>0.0</td>\n",
       "      <td>0.0</td>\n",
       "      <td>1.0</td>\n",
       "      <td>1</td>\n",
       "    </tr>\n",
       "    <tr>\n",
       "      <th>682</th>\n",
       "      <td>3.0</td>\n",
       "      <td>20.0</td>\n",
       "      <td>0.0</td>\n",
       "      <td>0.0</td>\n",
       "      <td>9.2250</td>\n",
       "      <td>0.0</td>\n",
       "      <td>1.0</td>\n",
       "      <td>0.0</td>\n",
       "      <td>0.0</td>\n",
       "      <td>1.0</td>\n",
       "      <td>...</td>\n",
       "      <td>0.0</td>\n",
       "      <td>0.0</td>\n",
       "      <td>0.0</td>\n",
       "      <td>0.0</td>\n",
       "      <td>0.0</td>\n",
       "      <td>0.0</td>\n",
       "      <td>0.0</td>\n",
       "      <td>0.0</td>\n",
       "      <td>1.0</td>\n",
       "      <td>0</td>\n",
       "    </tr>\n",
       "    <tr>\n",
       "      <th>535</th>\n",
       "      <td>2.0</td>\n",
       "      <td>7.0</td>\n",
       "      <td>0.0</td>\n",
       "      <td>2.0</td>\n",
       "      <td>26.2500</td>\n",
       "      <td>1.0</td>\n",
       "      <td>0.0</td>\n",
       "      <td>0.0</td>\n",
       "      <td>0.0</td>\n",
       "      <td>1.0</td>\n",
       "      <td>...</td>\n",
       "      <td>0.0</td>\n",
       "      <td>0.0</td>\n",
       "      <td>0.0</td>\n",
       "      <td>0.0</td>\n",
       "      <td>0.0</td>\n",
       "      <td>0.0</td>\n",
       "      <td>0.0</td>\n",
       "      <td>0.0</td>\n",
       "      <td>1.0</td>\n",
       "      <td>1</td>\n",
       "    </tr>\n",
       "    <tr>\n",
       "      <th>652</th>\n",
       "      <td>3.0</td>\n",
       "      <td>21.0</td>\n",
       "      <td>0.0</td>\n",
       "      <td>0.0</td>\n",
       "      <td>8.4333</td>\n",
       "      <td>0.0</td>\n",
       "      <td>1.0</td>\n",
       "      <td>0.0</td>\n",
       "      <td>0.0</td>\n",
       "      <td>1.0</td>\n",
       "      <td>...</td>\n",
       "      <td>0.0</td>\n",
       "      <td>0.0</td>\n",
       "      <td>0.0</td>\n",
       "      <td>0.0</td>\n",
       "      <td>0.0</td>\n",
       "      <td>0.0</td>\n",
       "      <td>0.0</td>\n",
       "      <td>0.0</td>\n",
       "      <td>1.0</td>\n",
       "      <td>0</td>\n",
       "    </tr>\n",
       "    <tr>\n",
       "      <th>133</th>\n",
       "      <td>2.0</td>\n",
       "      <td>29.0</td>\n",
       "      <td>1.0</td>\n",
       "      <td>0.0</td>\n",
       "      <td>26.0000</td>\n",
       "      <td>1.0</td>\n",
       "      <td>0.0</td>\n",
       "      <td>0.0</td>\n",
       "      <td>0.0</td>\n",
       "      <td>1.0</td>\n",
       "      <td>...</td>\n",
       "      <td>0.0</td>\n",
       "      <td>0.0</td>\n",
       "      <td>0.0</td>\n",
       "      <td>0.0</td>\n",
       "      <td>0.0</td>\n",
       "      <td>0.0</td>\n",
       "      <td>0.0</td>\n",
       "      <td>0.0</td>\n",
       "      <td>1.0</td>\n",
       "      <td>1</td>\n",
       "    </tr>\n",
       "  </tbody>\n",
       "</table>\n",
       "<p>5 rows × 33 columns</p>\n",
       "</div>"
      ],
      "text/plain": [
       "     pclass   age  sibsp  parch     fare  sex_female  sex_male  embarked_C  \\\n",
       "717     2.0  27.0    0.0    0.0  10.5000         1.0       0.0         0.0   \n",
       "682     3.0  20.0    0.0    0.0   9.2250         0.0       1.0         0.0   \n",
       "535     2.0   7.0    0.0    2.0  26.2500         1.0       0.0         0.0   \n",
       "652     3.0  21.0    0.0    0.0   8.4333         0.0       1.0         0.0   \n",
       "133     2.0  29.0    1.0    0.0  26.0000         1.0       0.0         0.0   \n",
       "\n",
       "     embarked_Q  embarked_S  ...  deck_B  deck_C  deck_D  deck_E  deck_F  \\\n",
       "717         0.0         1.0  ...     0.0     0.0     0.0     1.0     0.0   \n",
       "682         0.0         1.0  ...     0.0     0.0     0.0     0.0     0.0   \n",
       "535         0.0         1.0  ...     0.0     0.0     0.0     0.0     0.0   \n",
       "652         0.0         1.0  ...     0.0     0.0     0.0     0.0     0.0   \n",
       "133         0.0         1.0  ...     0.0     0.0     0.0     0.0     0.0   \n",
       "\n",
       "     deck_G  embark_town_Cherbourg  embark_town_Queenstown  \\\n",
       "717     0.0                    0.0                     0.0   \n",
       "682     0.0                    0.0                     0.0   \n",
       "535     0.0                    0.0                     0.0   \n",
       "652     0.0                    0.0                     0.0   \n",
       "133     0.0                    0.0                     0.0   \n",
       "\n",
       "     embark_town_Southampton  survived  \n",
       "717                      1.0         1  \n",
       "682                      1.0         0  \n",
       "535                      1.0         1  \n",
       "652                      1.0         0  \n",
       "133                      1.0         1  \n",
       "\n",
       "[5 rows x 33 columns]"
      ]
     },
     "execution_count": 4,
     "metadata": {},
     "output_type": "execute_result"
    }
   ],
   "source": [
    "df = sns.load_dataset('titanic')\n",
    "\n",
    "sample = 40\n",
    "sample_num = int(sample/2)\n",
    "seed = 3656\n",
    "\n",
    "df['age'].fillna(df['age'].median(), inplace=True)\n",
    "df['embarked'].fillna(df['embarked'].mode()[0], inplace=True)\n",
    "\n",
    "df = pd.get_dummies(df, columns=['sex'])\n",
    "df = pd.get_dummies(df, columns=['embarked'])\n",
    "df = pd.get_dummies(df, columns=['alive'])\n",
    "df = pd.get_dummies(df, columns=['alone'])\n",
    "df = pd.get_dummies(df, columns=['adult_male'])\n",
    "df = pd.get_dummies(df, columns=['who'])\n",
    "df = pd.get_dummies(df, columns=['class'])\n",
    "df = pd.get_dummies(df, columns=['deck'])\n",
    "df = pd.get_dummies(df, columns=['embark_town'])\n",
    "df = df.replace({True: 1, False: 0})\n",
    "\n",
    "cols = list(df.columns)\n",
    "cols.remove('survived')\n",
    "cols.append('survived')\n",
    "df = df[cols]\n",
    "\n",
    "df_1 = df[df['survived'] == 1].sample(n = sample_num, random_state = seed)\n",
    "df_0 = df[df['survived'] == 0].sample(n = sample_num, random_state = seed)\n",
    "\n",
    "df_train = pd.DataFrame()\n",
    "df_len = len(df_1)\n",
    "for i in range(df_len):\n",
    "    df1 = pd.DataFrame([df_1.iloc[i]])\n",
    "    df0 = pd.DataFrame([df_0.iloc[i]])\n",
    "    df_train = pd.concat([df_train, df1, df0])\n",
    "\n",
    "df_train['survived'] = df_train['survived'].astype(int)\n",
    "df_test = df.drop(df_train.index)\n",
    "df_train.head()"
   ]
  },
  {
   "cell_type": "code",
   "execution_count": 5,
   "metadata": {},
   "outputs": [],
   "source": [
    "x_train = df_train.drop('survived', axis=1)\n",
    "y_train = df_train['survived']"
   ]
  },
  {
   "cell_type": "markdown",
   "metadata": {},
   "source": [
    "### Training"
   ]
  },
  {
   "cell_type": "code",
   "execution_count": 6,
   "metadata": {},
   "outputs": [],
   "source": [
    "llm_model = OpenAI(temperature=0, model_name = 'gpt-4-0613')\n",
    "\n",
    "params = {\n",
    "    'columns_name': True,\n",
    "    'objective': 'classification',\n",
    "    }\n",
    "\n",
    "iblm = IBLModel(llm_model = llm_model, params=params)"
   ]
  },
  {
   "cell_type": "code",
   "execution_count": 7,
   "metadata": {},
   "outputs": [
    {
     "name": "stdout",
     "output_type": "stream",
     "text": [
      "Tokens Used: 6224\n",
      "\tPrompt Tokens: 5842\n",
      "\tCompletion Tokens: 382\n",
      "Successful Requests: 1\n",
      "Total Cost (USD): $0.19817999999999997\n"
     ]
    }
   ],
   "source": [
    "#file_path = '/content/'\n",
    "\n",
    "#model = iblm.fit(x_train, y_train, model_name = 'titanic', file_path=file_path)\n",
    "model = iblm.fit(x_train, y_train)"
   ]
  },
  {
   "cell_type": "code",
   "execution_count": 9,
   "metadata": {},
   "outputs": [
    {
     "name": "stdout",
     "output_type": "stream",
     "text": [
      "import numpy as np\n",
      "\n",
      "def predict(x):\n",
      "    df = x.copy()\n",
      "    output = []\n",
      "    for index, row in df.iterrows():\n",
      "        # Do not change the code before this point.\n",
      "        # Please describe the process required to make the prediction below.\n",
      "\n",
      "        # Based on the given data, we can see that the survival rate is higher for females, people in first class, and those who embarked from Cherbourg.\n",
      "        # We can also see that the survival rate is lower for males, people in third class, and those who embarked from Southampton.\n",
      "        # We will use these observations to make our predictions.\n",
      "\n",
      "        y = 0.5  # start with a base probability of 0.5\n",
      "\n",
      "        # increase probability for females\n",
      "        if row['sex_female'] == 1.0:\n",
      "            y += 0.3\n",
      "\n",
      "        # decrease probability for males\n",
      "        if row['sex_male'] == 1.0:\n",
      "            y -= 0.3\n",
      "\n",
      "        # increase probability for first class\n",
      "        if row['class_First'] == 1.0:\n",
      "            y += 0.2\n",
      "\n",
      "        # decrease probability for third class\n",
      "        if row['class_Third'] == 1.0:\n",
      "            y -= 0.2\n",
      "\n",
      "        # increase probability for those who embarked from Cherbourg\n",
      "        if row['embark_town_Cherbourg'] == 1.0:\n",
      "            y += 0.1\n",
      "\n",
      "        # decrease probability for those who embarked from Southampton\n",
      "        if row['embark_town_Southampton'] == 1.0:\n",
      "            y -= 0.1\n",
      "\n",
      "        # ensure probability is within [0, 1]\n",
      "        y = max(0, min(y, 1))\n",
      "\n",
      "        # Do not change the code after this point.\n",
      "        output.append(y)\n",
      "    return np.array(output)\n"
     ]
    }
   ],
   "source": [
    "# Code Model\n",
    "print(model)"
   ]
  },
  {
   "cell_type": "markdown",
   "metadata": {},
   "source": [
    "### Prediction"
   ]
  },
  {
   "cell_type": "code",
   "execution_count": 10,
   "metadata": {},
   "outputs": [],
   "source": [
    "x_test = df_test.drop('survived', axis=1)\n",
    "y_test = df_test['survived']"
   ]
  },
  {
   "cell_type": "code",
   "execution_count": 11,
   "metadata": {},
   "outputs": [],
   "source": [
    "y_proba = iblm.predict(x_test)\n",
    "y_pred = (y_proba > 0.5).astype(int)"
   ]
  },
  {
   "cell_type": "code",
   "execution_count": 12,
   "metadata": {},
   "outputs": [
    {
     "name": "stdout",
     "output_type": "stream",
     "text": [
      "Accuracy: 0.782608695652174\n",
      "Precision: 0.7322033898305085\n",
      "Recall: 0.6708074534161491\n",
      "F1 score: 0.7001620745542951\n",
      "ROC-AUC: 0.8375318484425083\n"
     ]
    }
   ],
   "source": [
    "accuracy = accuracy_score(y_test, y_pred)\n",
    "print(f'Accuracy: {accuracy}')\n",
    "\n",
    "# Precision\n",
    "precision = precision_score(y_test, y_pred)\n",
    "print(f'Precision: {precision}')\n",
    "\n",
    "# Recall\n",
    "recall = recall_score(y_test, y_pred)\n",
    "print(f'Recall: {recall}')\n",
    "\n",
    "# F1 score\n",
    "f1 = f1_score(y_test, y_pred)\n",
    "print(f'F1 score: {f1}')\n",
    "\n",
    "# ROC-AUC (you need prediction probabilities for this, not just class predictions)\n",
    "# Here we just reuse y_pred for simplicity\n",
    "roc_auc = roc_auc_score(y_test, y_proba)\n",
    "print(f'ROC-AUC: {roc_auc}')"
   ]
  },
  {
   "cell_type": "code",
   "execution_count": null,
   "metadata": {},
   "outputs": [],
   "source": []
  }
 ],
 "metadata": {
  "kernelspec": {
   "display_name": "Python 3.9.10 ('iblm-L6oop2Mj-py3.9')",
   "language": "python",
   "name": "python3"
  },
  "language_info": {
   "codemirror_mode": {
    "name": "ipython",
    "version": 3
   },
   "file_extension": ".py",
   "mimetype": "text/x-python",
   "name": "python",
   "nbconvert_exporter": "python",
   "pygments_lexer": "ipython3",
   "version": "3.9.17"
  },
  "orig_nbformat": 4,
  "vscode": {
   "interpreter": {
    "hash": "67008fb9323ab6c1c90f5d9822582dbef34eff0db475eec3af4e0e9456757ebf"
   }
  }
 },
 "nbformat": 4,
 "nbformat_minor": 2
}

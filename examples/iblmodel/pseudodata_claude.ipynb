{
 "cells": [
  {
   "cell_type": "markdown",
   "metadata": {},
   "source": [
    "# Pseudo dataset"
   ]
  },
  {
   "cell_type": "markdown",
   "metadata": {},
   "source": [
    "[![Open In Colab](https://colab.research.google.com/assets/colab-badge.svg)](https://colab.research.google.com/github/fuyu-quant/IBLM/blob/main/examples/iblbagging/pseudodata_claude.ipynb)"
   ]
  },
  {
   "cell_type": "code",
   "execution_count": 1,
   "metadata": {},
   "outputs": [],
   "source": [
    "%%capture\n",
    "%pip install iblm --upgrade"
   ]
  },
  {
   "cell_type": "code",
   "execution_count": 2,
   "metadata": {},
   "outputs": [],
   "source": [
    "import os\n",
    "import pandas as pd\n",
    "import numpy as np\n",
    "\n",
    "from iblm import IBLModel\n",
    "\n",
    "from sklearn.datasets import make_classification\n",
    "\n",
    "#os.environ[\"ANTHROPIC_API_KEY\"] = \"YOUR_API_KEY\""
   ]
  },
  {
   "cell_type": "markdown",
   "metadata": {},
   "source": [
    "### Preparing data sets"
   ]
  },
  {
   "cell_type": "code",
   "execution_count": 3,
   "metadata": {},
   "outputs": [],
   "source": [
    "num_train_data = 500 # 50〜300\n",
    "num_test_data = 1000\n",
    "sample = num_train_data + num_test_data\n",
    "n_informative = 2\n",
    "n_redundant = 0\n",
    "n_features = n_informative + n_redundant\n",
    "weights = [0.5, 0.5]\n",
    "flip_y=0\n",
    "seed = 3655  # 3655,3656,3657\n",
    "\n",
    "x, y = make_classification(\n",
    "    n_samples = sample,\n",
    "    n_features = n_features,\n",
    "    n_informative = n_informative,\n",
    "    n_redundant = n_redundant,\n",
    "    weights = weights,\n",
    "    flip_y = flip_y,\n",
    "    random_state = seed\n",
    "    )\n",
    "\n",
    "x = np.round(x, decimals=3)\n",
    "x = pd.DataFrame(x)\n",
    "\n",
    "x_test = x[0:num_test_data]\n",
    "x_train = x[num_test_data:]\n",
    "\n",
    "y_test = y[:num_test_data]\n",
    "y_train = y[num_test_data:]"
   ]
  },
  {
   "cell_type": "markdown",
   "metadata": {},
   "source": [
    "### IBL setting"
   ]
  },
  {
   "cell_type": "code",
   "execution_count": 4,
   "metadata": {},
   "outputs": [],
   "source": [
    "iblm = IBLModel(\n",
    "    api_type=\"claude\",\n",
    "    model_name=\"claude-3-opus-20240229\",\n",
    "    objective=\"binary\"\n",
    "    )"
   ]
  },
  {
   "cell_type": "markdown",
   "metadata": {},
   "source": [
    "* Learning"
   ]
  },
  {
   "cell_type": "code",
   "execution_count": 5,
   "metadata": {},
   "outputs": [
    {
     "name": "stderr",
     "output_type": "stream",
     "text": [
      "2024-03-10 18:34:59,112 [iblm.ibl][INFO] (ibl:ibl.py:fit:153)\n"
     ]
    },
    {
     "name": "stdout",
     "output_type": "stream",
     "text": [
      "#########\n",
      "def predict(x):\n",
      "    import numpy as np\n",
      "\n",
      "    df = x.copy()\n",
      "    output = []\n",
      "    for index, row in df.iterrows():\n",
      "        # Do not change the code before this point.\n",
      "        # Please describe the process required to make the prediction below.\n",
      "        x1 = row[0]\n",
      "        x2 = row[1]\n",
      "        \n",
      "        if x1 > 0 and x2 < 0:\n",
      "            y = 1.0\n",
      "        elif x1 < 0 and x2 > 0:\n",
      "            y = 0.0\n",
      "        else:\n",
      "            if x1 > 0.5 and x2 > 0.5:\n",
      "                y = 0.9\n",
      "            elif x1 < -0.5 and x2 < -0.5:\n",
      "                y = 0.1  \n",
      "            elif x1 > 0.5 and x2 < -0.5:\n",
      "                y = 0.8\n",
      "            elif x1 < -0.5 and x2 > 0.5:\n",
      "                y = 0.2\n",
      "            elif abs(x1) <= 0.5 and abs(x2) <= 0.5:\n",
      "                y = 0.5\n",
      "            elif x1 > 0 and x2 > 0:\n",
      "                y = 0.7\n",
      "            elif x1 < 0 and x2 < 0:  \n",
      "                y = 0.3\n",
      "            else:\n",
      "                y = 0.6\n",
      "\n",
      "        # Do not change the code after this point.\n",
      "        output.append(y)\n",
      "    return np.array(output)\n",
      "#########\n"
     ]
    }
   ],
   "source": [
    "model = iblm.fit(x_train, y_train)\n",
    "print(model)"
   ]
  },
  {
   "cell_type": "markdown",
   "metadata": {},
   "source": [
    "* prediction"
   ]
  },
  {
   "cell_type": "code",
   "execution_count": 6,
   "metadata": {},
   "outputs": [],
   "source": [
    "y_pred = iblm.predict(x_test)"
   ]
  },
  {
   "cell_type": "markdown",
   "metadata": {},
   "source": [
    "* Evaluation"
   ]
  },
  {
   "cell_type": "code",
   "execution_count": 7,
   "metadata": {},
   "outputs": [
    {
     "data": {
      "text/plain": [
       "{'roc_auc': 0.990933,\n",
       " 'pr_auc': 0.984234,\n",
       " 'accuracy': 0.978,\n",
       " 'recall': 0.970238,\n",
       " 'precision': 0.985887,\n",
       " 'f1_score': 0.978}"
      ]
     },
     "execution_count": 7,
     "metadata": {},
     "output_type": "execute_result"
    }
   ],
   "source": [
    "iblm.evaluate(y_test, y_pred)"
   ]
  }
 ],
 "metadata": {
  "kernelspec": {
   "display_name": ".venv",
   "language": "python",
   "name": "python3"
  },
  "language_info": {
   "codemirror_mode": {
    "name": "ipython",
    "version": 3
   },
   "file_extension": ".py",
   "mimetype": "text/x-python",
   "name": "python",
   "nbconvert_exporter": "python",
   "pygments_lexer": "ipython3",
   "version": "3.9.18"
  }
 },
 "nbformat": 4,
 "nbformat_minor": 2
}

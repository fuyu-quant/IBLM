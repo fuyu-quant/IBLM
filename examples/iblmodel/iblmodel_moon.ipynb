{
 "cells": [
  {
   "cell_type": "markdown",
   "metadata": {},
   "source": [
    "# Moon"
   ]
  },
  {
   "cell_type": "markdown",
   "metadata": {},
   "source": [
    "[![Open In Colab](https://colab.research.google.com/assets/colab-badge.svg)](https://colab.research.google.com/github/fuyu-quant/IBLM/blob/main/examples/iblmodel/iblmodel_moon.ipynb)"
   ]
  },
  {
   "cell_type": "code",
   "execution_count": 1,
   "metadata": {},
   "outputs": [],
   "source": [
    "%%capture\n",
    "!pip install iblm --upgrade"
   ]
  },
  {
   "cell_type": "code",
   "execution_count": 2,
   "metadata": {},
   "outputs": [],
   "source": [
    "import numpy as np\n",
    "import pandas as pd\n",
    "import string\n",
    "from langchain.llms import OpenAI\n",
    "from sklearn.metrics import accuracy_score, precision_score, recall_score, f1_score, roc_auc_score\n",
    "from sklearn.datasets import make_moons\n",
    "\n",
    "from iblm import IBLModel\n",
    "\n",
    "\n",
    "import os\n",
    "#os.environ[\"OPENAI_API_KEY\"] = \"OPENAI_API_KEY\""
   ]
  },
  {
   "cell_type": "markdown",
   "metadata": {},
   "source": [
    "### Preparing data sets"
   ]
  },
  {
   "cell_type": "code",
   "execution_count": 3,
   "metadata": {},
   "outputs": [
    {
     "data": {
      "text/html": [
       "<div>\n",
       "<style scoped>\n",
       "    .dataframe tbody tr th:only-of-type {\n",
       "        vertical-align: middle;\n",
       "    }\n",
       "\n",
       "    .dataframe tbody tr th {\n",
       "        vertical-align: top;\n",
       "    }\n",
       "\n",
       "    .dataframe thead th {\n",
       "        text-align: right;\n",
       "    }\n",
       "</style>\n",
       "<table border=\"1\" class=\"dataframe\">\n",
       "  <thead>\n",
       "    <tr style=\"text-align: right;\">\n",
       "      <th></th>\n",
       "      <th>Feature_1</th>\n",
       "      <th>Feature_2</th>\n",
       "      <th>target</th>\n",
       "    </tr>\n",
       "  </thead>\n",
       "  <tbody>\n",
       "    <tr>\n",
       "      <th>555</th>\n",
       "      <td>0.259</td>\n",
       "      <td>-0.251</td>\n",
       "      <td>1</td>\n",
       "    </tr>\n",
       "    <tr>\n",
       "      <th>595</th>\n",
       "      <td>-0.822</td>\n",
       "      <td>0.584</td>\n",
       "      <td>0</td>\n",
       "    </tr>\n",
       "    <tr>\n",
       "      <th>82</th>\n",
       "      <td>0.102</td>\n",
       "      <td>0.025</td>\n",
       "      <td>1</td>\n",
       "    </tr>\n",
       "    <tr>\n",
       "      <th>117</th>\n",
       "      <td>-0.386</td>\n",
       "      <td>0.881</td>\n",
       "      <td>0</td>\n",
       "    </tr>\n",
       "    <tr>\n",
       "      <th>434</th>\n",
       "      <td>1.941</td>\n",
       "      <td>0.563</td>\n",
       "      <td>1</td>\n",
       "    </tr>\n",
       "  </tbody>\n",
       "</table>\n",
       "</div>"
      ],
      "text/plain": [
       "     Feature_1  Feature_2  target\n",
       "555      0.259     -0.251       1\n",
       "595     -0.822      0.584       0\n",
       "82       0.102      0.025       1\n",
       "117     -0.386      0.881       0\n",
       "434      1.941      0.563       1"
      ]
     },
     "execution_count": 3,
     "metadata": {},
     "output_type": "execute_result"
    }
   ],
   "source": [
    "seed = 3657\n",
    "num_train = 300\n",
    "sample_num = int(num_train/2)\n",
    "\n",
    "X, y = make_moons(n_samples = 1000, noise=0.05, random_state = seed)\n",
    "df = pd.DataFrame(data=X, columns=['Feature_1', 'Feature_2']).round(3)\n",
    "df['target'] = y\n",
    "\n",
    "\n",
    "df_1 = df[df['target'] == 1].sample(n=sample_num, random_state=seed)\n",
    "df_0 = df[df['target'] == 0].sample(n=sample_num, random_state=seed)\n",
    "\n",
    "\n",
    "df_train = pd.DataFrame()\n",
    "df_len = len(df_1)\n",
    "for i in range(df_len):\n",
    "    df1 = pd.DataFrame([df_1.iloc[i]])\n",
    "    df0 = pd.DataFrame([df_0.iloc[i]])\n",
    "    df_train = pd.concat([df_train, df1, df0])\n",
    "\n",
    "df_train['target'] = df_train['target'].astype(int)\n",
    "df_test = df.drop(df_train.index)\n",
    "\n",
    "df_train.head()"
   ]
  },
  {
   "cell_type": "code",
   "execution_count": 4,
   "metadata": {},
   "outputs": [],
   "source": [
    "x_train = df_train.drop('target', axis=1)\n",
    "y_train = df_train['target']"
   ]
  },
  {
   "cell_type": "markdown",
   "metadata": {},
   "source": [
    "### Training"
   ]
  },
  {
   "cell_type": "code",
   "execution_count": 5,
   "metadata": {},
   "outputs": [],
   "source": [
    "llm_model = OpenAI(temperature=0, model_name = 'gpt-4-0613')\n",
    "\n",
    "params = {\n",
    "    'columns_name': True,\n",
    "    'objective': 'classification',\n",
    "    }\n",
    "    \n",
    "iblm = IBLModel(llm_model = llm_model, params=params)"
   ]
  },
  {
   "cell_type": "code",
   "execution_count": 11,
   "metadata": {},
   "outputs": [],
   "source": [
    "#file_path = '/content/'\n",
    "\n",
    "#model = iblm.fit(x_train, y_train, model_name = 'pseudodata', file_path=file_path)\n",
    "model = iblm.fit(x_train, y_train)"
   ]
  },
  {
   "cell_type": "code",
   "execution_count": 12,
   "metadata": {},
   "outputs": [
    {
     "name": "stdout",
     "output_type": "stream",
     "text": [
      "import numpy as np\n",
      "import pandas as pd\n",
      "\n",
      "def predict(x):\n",
      "    df = x.copy()\n",
      "    \n",
      "    output = []\n",
      "    for index, row in df.iterrows():\n",
      "        if row['Feature_1'] > 0 and row['Feature_2'] < 0:\n",
      "            y = 0.9\n",
      "        else:\n",
      "            y = 0.1\n",
      "        output.append(y)\n",
      "    return np.array(output)\n",
      "\n",
      "# Test the function\n",
      "data = {\n",
      "    'Feature_1': [0.259, -0.822, 0.102, -0.386, 1.941],\n",
      "    'Feature_2': [-0.251, 0.584, 0.025, 0.881, 0.563],\n",
      "    'target': [1.0, 0.0, 1.0, 0.0, 1.0]\n",
      "}\n",
      "df = pd.DataFrame(data)\n",
      "print(predict(df))\n"
     ]
    }
   ],
   "source": [
    "# Code of the model created\n",
    "print(model)"
   ]
  },
  {
   "cell_type": "markdown",
   "metadata": {},
   "source": [
    "### Prediction"
   ]
  },
  {
   "cell_type": "code",
   "execution_count": 13,
   "metadata": {},
   "outputs": [],
   "source": [
    "x_test = df_test.drop('target', axis=1)\n",
    "y_test = df_test['target']"
   ]
  },
  {
   "cell_type": "code",
   "execution_count": 14,
   "metadata": {},
   "outputs": [
    {
     "name": "stdout",
     "output_type": "stream",
     "text": [
      "[0.9 0.1 0.1 0.1 0.1]\n"
     ]
    }
   ],
   "source": [
    "y_proba = iblm.predict(x_test)\n",
    "y_pred = (y_proba > 0.5).astype(int)"
   ]
  },
  {
   "cell_type": "code",
   "execution_count": 15,
   "metadata": {},
   "outputs": [
    {
     "name": "stdout",
     "output_type": "stream",
     "text": [
      "Accuracy: 0.8357142857142857\n",
      "Precision: 0.9916317991631799\n",
      "Recall: 0.6771428571428572\n",
      "F1 score: 0.8047538200339559\n",
      "ROC-AUC: 0.8357142857142857\n"
     ]
    }
   ],
   "source": [
    "accuracy = accuracy_score(y_test, y_pred)\n",
    "print(f'Accuracy: {accuracy}')\n",
    "\n",
    "# Precision\n",
    "precision = precision_score(y_test, y_pred)\n",
    "print(f'Precision: {precision}')\n",
    "\n",
    "# Recall\n",
    "recall = recall_score(y_test, y_pred)\n",
    "print(f'Recall: {recall}')\n",
    "\n",
    "# F1 score\n",
    "f1 = f1_score(y_test, y_pred)\n",
    "print(f'F1 score: {f1}')\n",
    "\n",
    "# ROC-AUC (you need prediction probabilities for this, not just class predictions)\n",
    "# Here we just reuse y_pred for simplicity\n",
    "roc_auc = roc_auc_score(y_test, y_proba)\n",
    "print(f'ROC-AUC: {roc_auc}')"
   ]
  },
  {
   "cell_type": "code",
   "execution_count": null,
   "metadata": {},
   "outputs": [],
   "source": []
  }
 ],
 "metadata": {
  "kernelspec": {
   "display_name": "Python 3.9.10 ('iblm-L6oop2Mj-py3.9')",
   "language": "python",
   "name": "python3"
  },
  "language_info": {
   "codemirror_mode": {
    "name": "ipython",
    "version": 3
   },
   "file_extension": ".py",
   "mimetype": "text/x-python",
   "name": "python",
   "nbconvert_exporter": "python",
   "pygments_lexer": "ipython3",
   "version": "3.9.17"
  },
  "orig_nbformat": 4,
  "vscode": {
   "interpreter": {
    "hash": "67008fb9323ab6c1c90f5d9822582dbef34eff0db475eec3af4e0e9456757ebf"
   }
  }
 },
 "nbformat": 4,
 "nbformat_minor": 2
}

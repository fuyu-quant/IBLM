{
 "cells": [
  {
   "cell_type": "code",
   "execution_count": null,
   "metadata": {},
   "outputs": [],
   "source": [
    "class SurvivalPredictionTool(BaseTool):\n",
    "    name = \"SurvivalPredictionTool\"\n",
    "    description = \"used for prediction. The input is a comma-separated string. For example, it receives inputs such as '2,male,27.0,0,0,13.0,S,Second,man,True,,Southampton,no,True'.\"\n",
    "\n",
    "    def _run(self, query: str) -> float:\n",
    "        \"Use the tool.\"\n",
    "        pclass, sex, age, sibsp, parch, fare, embarked, _class, who, adult_male, deck, embark_town, alive, alone = query.split(\",\")\n",
    "\n",
    "        # Convert string values to numerical values\n",
    "        pclass = int(pclass)\n",
    "        sex = 1 if sex == \"male\" else 0\n",
    "        age = float(age) if age else 0\n",
    "        sibsp = int(sibsp)\n",
    "        parch = int(parch)\n",
    "        fare = float(fare)\n",
    "        embarked = {\"S\": 0, \"C\": 1, \"Q\": 2}.get(embarked, 0)\n",
    "        _class = {\"First\": 1, \"Second\": 2, \"Third\": 3}.get(_class, 0)\n",
    "        who = {\"man\": 1, \"woman\": 2, \"child\": 3}.get(who, 0)\n",
    "        adult_male = 1 if adult_male == \"True\" else 0\n",
    "        deck = {\"A\": 1, \"B\": 2, \"C\": 3, \"D\": 4, \"E\": 5, \"F\": 6, \"G\": 7}.get(deck, 0)\n",
    "        embark_town = {\"Southampton\": 1, \"Cherbourg\": 2, \"Queenstown\": 3}.get(embark_town, 0)\n",
    "        alive = 1 if alive == \"yes\" else 0\n",
    "        alone = 1 if alone == \"True\" else 0\n",
    "\n",
    "        # Calculate survival score based on input values\n",
    "        survival_score = 0\n",
    "        survival_score += pclass * 0.1\n",
    "        survival_score += sex * 0.3\n",
    "        survival_score += age * 0.05\n",
    "        survival_score += sibsp * 0.05\n",
    "        survival_score += parch * 0.05\n",
    "        survival_score += fare * 0.1\n",
    "        survival_score += embarked * 0.1\n",
    "        survival_score += _class * 0.1\n",
    "        survival_score += who * 0.1\n",
    "        survival_score += adult_male * 0.1\n",
    "        survival_score += deck * 0.1\n",
    "        survival_score += embark_town * 0.1\n",
    "        survival_score += alive * 0.3\n",
    "        survival_score += alone * 0.1\n",
    "\n",
    "        # Normalize survival score between 0 and 1\n",
    "        survival_score = survival_score / 2.0\n",
    "\n",
    "        return survival_score\n",
    "\n",
    "    async def _arun(self, query: str) -> float:\n",
    "        \"Use the tool asynchronously.\"\n",
    "        raise NotImplementedError(\"SurvivalPredictionTool does not support async\")"
   ]
  },
  {
   "cell_type": "code",
   "execution_count": null,
   "metadata": {},
   "outputs": [
    {
     "ename": "",
     "evalue": "",
     "output_type": "error",
     "traceback": [
      "\u001b[1;31mJupyter を起動できません。Jupyter の検索中にエラーが発生しました: 'Python 3.8.13 64-bit ('kaggle')' を使用した実行中のセルには notebook パッケージが必要です。\n",
      "\u001b[1;31m次のコマンドを実行して、'jupyter および notebook' を Python 環境にインストールします。\n",
      "\u001b[1;31mコマンド: 'python -m pip install jupyter notebook -U\n",
      "\u001b[1;31mor\n",
      "\u001b[1;31mconda install jupyter notebook -U'\n",
      "\u001b[1;31m詳細については<a href='https://aka.ms/installJupyterForVSCode'>こちら</a>をクリックしてください。"
     ]
    }
   ],
   "source": [
    "def main(query):\n",
    "    pclass, sex, age, sibsp, parch, fare, embarked, _class, who, adult_male, deck, embark_town, alive, alone = query.split(\",\")\n",
    "\n",
    "    # Convert string values to numerical values\n",
    "    pclass = int(pclass)\n",
    "    sex = 1 if sex == \"male\" else 0\n",
    "    age = float(age) if age else 0\n",
    "    sibsp = int(sibsp)\n",
    "    parch = int(parch)\n",
    "    fare = float(fare)\n",
    "    embarked = {\"S\": 0, \"C\": 1, \"Q\": 2}.get(embarked, 0)\n",
    "    _class = {\"First\": 1, \"Second\": 2, \"Third\": 3}.get(_class, 0)\n",
    "    who = {\"man\": 1, \"woman\": 2, \"child\": 3}.get(who, 0)\n",
    "    adult_male = 1 if adult_male == \"True\" else 0\n",
    "    deck = {\"A\": 1, \"B\": 2, \"C\": 3, \"D\": 4, \"E\": 5, \"F\": 6, \"G\": 7}.get(deck, 0)\n",
    "    embark_town = {\"Southampton\": 1, \"Cherbourg\": 2, \"Queenstown\": 3}.get(embark_town, 0)\n",
    "    alive = 1 if alive == \"yes\" else 0\n",
    "    alone = 1 if alone == \"True\" else 0\n",
    "\n",
    "    # Calculate survival score based on input values\n",
    "    survival_score = 0\n",
    "    survival_score += pclass * 0.1\n",
    "    survival_score += sex * 0.3\n",
    "    survival_score += age * 0.05\n",
    "    survival_score += sibsp * 0.05\n",
    "    survival_score += parch * 0.05\n",
    "    survival_score += fare * 0.1\n",
    "    survival_score += embarked * 0.1\n",
    "    survival_score += _class * 0.1\n",
    "    survival_score += who * 0.1\n",
    "    survival_score += adult_male * 0.1\n",
    "    survival_score += deck * 0.1\n",
    "    survival_score += embark_town * 0.1\n",
    "    survival_score += alive * 0.3\n",
    "    survival_score += alone * 0.1\n",
    "\n",
    "    # Normalize survival score between 0 and 1\n",
    "    survival_score = survival_score / 2.0\n",
    "\n",
    "    return survival_score"
   ]
  },
  {
   "cell_type": "code",
   "execution_count": null,
   "metadata": {},
   "outputs": [],
   "source": [
    "input = '2,male,27.0,0,0,13.0,S,Second,man,True,,Southampton,no,True'\n",
    "main(input)"
   ]
  }
 ],
 "metadata": {
  "kernelspec": {
   "display_name": "Python 3.8.13 64-bit ('kaggle')",
   "language": "python",
   "name": "python3"
  },
  "language_info": {
   "name": "python",
   "version": "3.8.13"
  },
  "orig_nbformat": 4,
  "vscode": {
   "interpreter": {
    "hash": "0efafe6c13c226858b1e3209a708328284172effb51c12dbb0bda90f2bc21738"
   }
  }
 },
 "nbformat": 4,
 "nbformat_minor": 2
}

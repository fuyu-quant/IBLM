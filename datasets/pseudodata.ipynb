{
 "cells": [
  {
   "cell_type": "markdown",
   "metadata": {},
   "source": [
    "## Make Psuedo Dataset"
   ]
  },
  {
   "cell_type": "code",
   "execution_count": 3,
   "metadata": {},
   "outputs": [],
   "source": [
    "import pandas as pd\n",
    "import numpy as np\n",
    "from sklearn.datasets import make_classification"
   ]
  },
  {
   "cell_type": "code",
   "execution_count": 15,
   "metadata": {},
   "outputs": [],
   "source": [
    "X, y = make_classification(n_samples=1000, n_features=4, random_state=3655)\n",
    "X = np.round(X, 2)\n",
    "y = np.round(y, 2)\n",
    "\n",
    "df = pd.DataFrame(X, columns=['A', 'B', 'C', 'D'])\n",
    "df['E'] = y \n",
    "\n",
    "df_train = df.iloc[:350, :]\n",
    "df_test = df.iloc[350:, :]\n",
    "\n",
    "df_train.to_csv('pseudodata_4f_train.csv', index=False)\n",
    "df_test.to_csv('pseudodata_4f_test.csv', index=False)"
   ]
  },
  {
   "cell_type": "code",
   "execution_count": 16,
   "metadata": {},
   "outputs": [],
   "source": [
    "X, y = make_classification(n_samples=1000, n_features=8, random_state=3655)\n",
    "X = np.round(X, 2)\n",
    "y = np.round(y, 2)\n",
    "\n",
    "df = pd.DataFrame(X, columns=['A','B','C','D','E','F','G','H'])\n",
    "df['I'] = y \n",
    "\n",
    "df_train = df.iloc[:200, :]\n",
    "df_test = df.iloc[200:, :]\n",
    "\n",
    "df_train.to_csv('pseudodata_8f_train.csv', index=False)\n",
    "df_test.to_csv('pseudodata_8f_test.csv', index=False)"
   ]
  },
  {
   "cell_type": "code",
   "execution_count": 14,
   "metadata": {},
   "outputs": [],
   "source": [
    "X, y = make_classification(n_samples=1000, n_features=12, random_state=3655)\n",
    "X = np.round(X, 2)\n",
    "y = np.round(y, 2)\n",
    "\n",
    "df = pd.DataFrame(X, columns=['A','B','C','D','E','F','G','H','I','J','K','L'])\n",
    "df['M'] = y \n",
    "\n",
    "df_train = df.iloc[:80, :]\n",
    "df_test = df.iloc[80:, :]\n",
    "\n",
    "df_train.to_csv('pseudodata_12f_train.csv', index=False)\n",
    "df_test.to_csv('pseudodata_12f_test.csv', index=False)"
   ]
  },
  {
   "cell_type": "code",
   "execution_count": null,
   "metadata": {},
   "outputs": [],
   "source": []
  }
 ],
 "metadata": {
  "kernelspec": {
   "display_name": "Python 3.10.9 ('base')",
   "language": "python",
   "name": "python3"
  },
  "language_info": {
   "codemirror_mode": {
    "name": "ipython",
    "version": 3
   },
   "file_extension": ".py",
   "mimetype": "text/x-python",
   "name": "python",
   "nbconvert_exporter": "python",
   "pygments_lexer": "ipython3",
   "version": "3.10.9"
  },
  "orig_nbformat": 4,
  "vscode": {
   "interpreter": {
    "hash": "d4d1e4263499bec80672ea0156c357c1ee493ec2b1c70f0acce89fc37c4a6abe"
   }
  }
 },
 "nbformat": 4,
 "nbformat_minor": 2
}

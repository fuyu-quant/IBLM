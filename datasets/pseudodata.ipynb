{
 "cells": [
  {
   "cell_type": "markdown",
   "metadata": {},
   "source": [
    "## Make Psuedo Dataset"
   ]
  },
  {
   "cell_type": "code",
   "execution_count": 6,
   "metadata": {},
   "outputs": [],
   "source": [
    "import pandas as pd\n",
    "import numpy as np\n",
    "\n",
    "import string\n",
    "\n",
    "from sklearn.datasets import make_classification"
   ]
  },
  {
   "cell_type": "code",
   "execution_count": 11,
   "metadata": {},
   "outputs": [],
   "source": [
    "columns = 4\n",
    "train_data = 10\n",
    "test_data = 1000\n",
    "sample = train_data + test_data\n",
    "\n",
    "X, y = make_classification(n_samples=sample, n_features=columns, random_state=3655)\n",
    "X = np.round(X, 2)\n",
    "y = np.round(y, 2)\n",
    "\n",
    "sample = 100\n",
    "\n",
    "sample_num = int(sample/2)\n",
    "\n",
    "column_name = [letter for letter in string.ascii_lowercase[:columns]] \n",
    "\n",
    "last_element = column_name[-1]\n",
    "all_lower_case_alphabets = string.ascii_lowercase\n",
    "next_alphabet = all_lower_case_alphabets[all_lower_case_alphabets.index(last_element) + 1]\n",
    "\n",
    "df = pd.DataFrame(X, columns = column_name)\n",
    "df[next_alphabet] = y \n",
    "\n",
    "\n",
    "df_1 = df[df[next_alphabet] == 1].sample(n=train_data, random_state=3655)\n",
    "df_0 = df[df[next_alphabet] == 0].sample(n=train_data, random_state=3655)\n",
    "df_train = pd.concat([df_1, df_0])\n",
    "df_test = df.drop(df_train.index)\n",
    "\n",
    "\n",
    "df_train.to_csv(f'../datasets/pseudodata/pseudodata_{columns}f_{train_data}_train.csv', index=False)\n",
    "df_test.to_csv(f'../datasets/pseudodata/pseudodata_{columns}f_{train_data}_test.csv', index=False)"
   ]
  },
  {
   "cell_type": "code",
   "execution_count": null,
   "metadata": {},
   "outputs": [],
   "source": []
  }
 ],
 "metadata": {
  "kernelspec": {
   "display_name": "Python 3.10.9 ('base')",
   "language": "python",
   "name": "python3"
  },
  "language_info": {
   "codemirror_mode": {
    "name": "ipython",
    "version": 3
   },
   "file_extension": ".py",
   "mimetype": "text/x-python",
   "name": "python",
   "nbconvert_exporter": "python",
   "pygments_lexer": "ipython3",
   "version": "3.10.9"
  },
  "orig_nbformat": 4,
  "vscode": {
   "interpreter": {
    "hash": "d4d1e4263499bec80672ea0156c357c1ee493ec2b1c70f0acce89fc37c4a6abe"
   }
  }
 },
 "nbformat": 4,
 "nbformat_minor": 2
}

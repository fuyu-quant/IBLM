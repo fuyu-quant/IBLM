{
 "cells": [
  {
   "cell_type": "markdown",
   "metadata": {},
   "source": [
    "# In-Context Learning\n",
    "* Be careful when doing this, as the cost is very high."
   ]
  },
  {
   "cell_type": "code",
   "execution_count": 1,
   "metadata": {},
   "outputs": [],
   "source": [
    "%%capture\n",
    "!pip install git+https://github.com/fuyu-quant/IBLM.git@develop"
   ]
  },
  {
   "cell_type": "code",
   "execution_count": 2,
   "metadata": {},
   "outputs": [
    {
     "name": "stdout",
     "output_type": "stream",
     "text": [
      "0.1.47\n"
     ]
    }
   ],
   "source": [
    "import pkg_resources\n",
    "print(pkg_resources.get_distribution('IBLM').version)"
   ]
  },
  {
   "cell_type": "code",
   "execution_count": 3,
   "metadata": {},
   "outputs": [
    {
     "data": {
      "text/plain": [
       "True"
      ]
     },
     "execution_count": 3,
     "metadata": {},
     "output_type": "execute_result"
    }
   ],
   "source": [
    "from dotenv import load_dotenv\n",
    "\n",
    "# .env ファイルを読み込む\n",
    "load_dotenv(override=True)"
   ]
  },
  {
   "cell_type": "code",
   "execution_count": 4,
   "metadata": {},
   "outputs": [],
   "source": [
    "import pandas as pd\n",
    "from langchain.llms import OpenAI\n",
    "from sklearn.metrics import accuracy_score, precision_score, recall_score, f1_score, roc_auc_score\n",
    "\n",
    "from iblm import ICLClassifier"
   ]
  },
  {
   "cell_type": "code",
   "execution_count": 12,
   "metadata": {},
   "outputs": [
    {
     "name": "stdout",
     "output_type": "stream",
     "text": [
      "200\n"
     ]
    }
   ],
   "source": [
    "seed = 3655\n",
    "#seed = 3656\n",
    "#seed = 3657\n",
    "train_data = 300\n",
    "\n",
    "file_name = f'pseudodata_{seed}_{train_data}_train.csv'\n",
    "\n",
    "i = 200\n",
    "\n",
    "df = pd.read_csv(f'../data/pseudodata/{file_name}').head(i)\n",
    "x_train = df.drop('target', axis=1)\n",
    "y_train = df['target']\n",
    "print(len(x_train))"
   ]
  },
  {
   "cell_type": "code",
   "execution_count": 13,
   "metadata": {},
   "outputs": [],
   "source": [
    "llm_model = OpenAI(temperature=0, model_name = 'gpt-4-0613')\n",
    "\n",
    "params = {'columns_name': True}\n",
    "\n",
    "iclm = ICLClassifier(llm_model = llm_model)"
   ]
  },
  {
   "cell_type": "markdown",
   "metadata": {},
   "source": [
    "### Make prompt"
   ]
  },
  {
   "cell_type": "code",
   "execution_count": 14,
   "metadata": {},
   "outputs": [
    {
     "name": "stdout",
     "output_type": "stream",
     "text": [
      "Number of input tokens:5710\n"
     ]
    }
   ],
   "source": [
    "icl_prompt = iclm.fit(x_train, y_train)"
   ]
  },
  {
   "cell_type": "code",
   "execution_count": 15,
   "metadata": {},
   "outputs": [
    {
     "name": "stdout",
     "output_type": "stream",
     "text": [
      "\n",
      "        Predict the probability value by observing all of the following conditions.\n",
      "        ・Output must be numeric only.\n",
      "        ・Do not output any text.\n",
      "        ・Predicting probability values as finely as possible increases overall accuracy.\n",
      "        ・Please refer to the following data to estimate the probability that \"target\" will be 1. The rightmost column with a value of 0 or 1 is 'target'.\n",
      "        ------------------\n",
      "        1.88,-2.14,1.56,-1.52,1.0\n",
      "-0.02,0.35,0.16,-0.02,0.0\n",
      "0.29,-0.47,0.18,-0.22,1.0\n",
      "0.51,-0.35,0.54,-0.44,0.0\n",
      "1.03,-1.07,0.91,-0.85,1.0\n",
      "1.01,-1.11,0.85,-0.82,0.0\n",
      "0.27,0.67,0.72,-0.32,1.0\n",
      "-0.89,-0.44,-1.49,0.87,0.0\n",
      "1.07,-1.07,0.96,-0.88,1.0\n",
      "-0.72,0.39,-0.82,0.63,0.0\n",
      "0.42,0.52,0.86,-0.44,1.0\n",
      "0.03,-2.06,-1.02,0.19,0.0\n",
      "1.49,-1.79,1.19,-1.2,1.0\n",
      "-0.46,-0.88,-1.1,0.52,0.0\n",
      "0.69,1.29,1.63,-0.77,1.0\n",
      "-0.25,-1.28,-1.01,0.37,0.0\n",
      "0.1,0.5,0.4,-0.15,1.0\n",
      "-0.04,-0.53,-0.33,0.1,0.0\n",
      "1.16,-1.07,1.09,-0.96,1.0\n",
      "0.03,0.43,0.26,-0.07,0.0\n",
      "0.97,-0.83,0.94,-0.81,1.0\n",
      "-0.88,1.42,-0.52,0.67,0.0\n",
      "0.35,0.28,0.63,-0.35,1.0\n",
      "-1.06,-1.32,-2.18,1.12,0.0\n",
      "0.79,-0.47,0.87,-0.68,1.0\n",
      "-1.77,2.05,-1.44,1.42,0.0\n",
      "0.25,-0.85,-0.09,-0.14,1.0\n",
      "-2.37,2.71,-1.96,1.91,0.0\n",
      "0.66,2.26,2.09,-0.85,1.0\n",
      "0.04,-2.29,-1.12,0.2,0.0\n",
      "0.41,1.52,1.36,-0.54,1.0\n",
      "-1.06,0.53,-1.23,0.93,0.0\n",
      "0.56,-0.32,0.62,-0.48,1.0\n",
      "-0.57,-1.56,-1.61,0.69,0.0\n",
      "1.21,-1.1,1.15,-1.01,1.0\n",
      "-0.29,-0.35,-0.59,0.31,0.0\n",
      "1.06,-1.14,0.92,-0.87,1.0\n",
      "-0.63,0.52,-0.62,0.53,0.0\n",
      "0.44,1.68,1.48,-0.58,1.0\n",
      "-1.04,0.96,-0.98,0.87,0.0\n",
      "1.03,-1.01,0.93,-0.85,1.0\n",
      "-0.97,1.07,-0.82,0.79,0.0\n",
      "0.79,1.31,1.79,-0.87,1.0\n",
      "-0.84,1.16,-0.59,0.66,0.0\n",
      "0.0,-0.47,-0.24,0.05,1.0\n",
      "-1.37,1.55,-1.14,1.11,0.0\n",
      "0.26,1.14,0.96,-0.36,1.0\n",
      "-0.48,-0.54,-0.96,0.5,0.0\n",
      "1.09,-0.89,1.09,-0.92,1.0\n",
      "-1.36,0.89,-1.46,1.16,0.0\n",
      "0.65,2.73,2.32,-0.89,1.0\n",
      "-1.49,2.11,-1.02,1.16,0.0\n",
      "1.08,-0.91,1.06,-0.9,1.0\n",
      "-0.82,0.83,-0.73,0.67,0.0\n",
      "0.28,1.09,0.96,-0.37,1.0\n",
      "-0.09,-2.05,-1.18,0.3,0.0\n",
      "0.09,-1.88,-0.84,0.12,1.0\n",
      "-0.98,-0.91,-1.85,1.0,0.0\n",
      "0.51,-0.3,0.57,-0.44,1.0\n",
      "-1.14,0.02,-1.6,1.05,0.0\n",
      "1.24,-1.18,1.14,-1.02,1.0\n",
      "-0.91,0.92,-0.81,0.75,0.0\n",
      "0.15,-0.51,-0.05,-0.08,1.0\n",
      "0.0,-0.66,-0.33,0.07,0.0\n",
      "0.12,1.51,0.95,-0.27,1.0\n",
      "-0.08,-0.78,-0.51,0.15,0.0\n",
      "0.86,-0.68,0.86,-0.72,1.0\n",
      "0.3,-2.25,-0.74,-0.04,0.0\n",
      "1.37,-1.36,1.24,-1.13,1.0\n",
      "-0.5,1.1,-0.13,0.34,0.0\n",
      "0.27,0.5,0.64,-0.3,1.0\n",
      "-0.87,1.46,-0.48,0.65,0.0\n",
      "0.5,2.16,1.82,-0.69,1.0\n",
      "-0.24,-0.47,-0.58,0.27,0.0\n",
      "0.4,2.1,1.65,-0.59,1.0\n",
      "-0.84,-2.39,-2.42,1.03,0.0\n",
      "0.76,2.57,2.39,-0.97,1.0\n",
      "-0.29,-0.41,-0.63,0.32,0.0\n",
      "1.67,-1.71,1.48,-1.37,1.0\n",
      "-0.99,0.77,-1.0,0.84,0.0\n",
      "0.83,-0.6,0.86,-0.7,1.0\n",
      "-0.65,-0.21,-1.02,0.62,0.0\n",
      "0.27,1.51,1.15,-0.41,1.0\n",
      "-0.71,-0.7,-1.36,0.73,0.0\n",
      "0.9,-0.41,1.06,-0.79,1.0\n",
      "-0.83,0.3,-1.02,0.74,0.0\n",
      "0.31,1.51,1.22,-0.45,1.0\n",
      "-1.83,1.74,-1.69,1.51,0.0\n",
      "0.57,-0.2,0.71,-0.51,1.0\n",
      "-1.28,-1.13,-2.39,1.3,0.0\n",
      "0.13,0.43,0.41,-0.17,1.0\n",
      "-1.58,0.64,-1.9,1.39,0.0\n",
      "0.15,0.73,0.59,-0.22,1.0\n",
      "0.5,-1.87,-0.26,-0.27,0.0\n",
      "0.9,-0.61,0.96,-0.77,1.0\n",
      "-1.39,1.58,-1.15,1.12,0.0\n",
      "1.02,-0.91,0.97,-0.85,1.0\n",
      "0.15,-0.47,-0.03,-0.09,0.0\n",
      "0.29,1.21,1.03,-0.39,1.0\n",
      "-0.9,0.41,-1.06,0.79,0.0\n",
      "0.99,-1.08,0.84,-0.8,1.0\n",
      "-1.37,0.75,-1.55,1.19,0.0\n",
      "1.17,-1.06,1.11,-0.97,1.0\n",
      "-1.38,0.63,-1.63,1.21,0.0\n",
      "1.12,-1.01,1.07,-0.93,1.0\n",
      "-0.36,-0.08,-0.55,0.34,0.0\n",
      "1.33,-1.46,1.13,-1.08,1.0\n",
      "0.46,-1.55,-0.15,-0.26,0.0\n",
      "0.06,1.28,0.75,-0.19,1.0\n",
      "-0.64,1.37,-0.2,0.45,0.0\n",
      "0.51,-0.14,0.64,-0.45,1.0\n",
      "0.42,-2.16,-0.53,-0.16,0.0\n",
      "0.33,1.45,1.21,-0.46,1.0\n",
      "-0.13,-1.99,-1.2,0.32,0.0\n",
      "1.07,-0.87,1.07,-0.9,1.0\n",
      "-1.18,-0.18,-1.76,1.11,0.0\n",
      "-0.14,0.87,0.25,0.04,1.0\n",
      "-0.46,0.03,-0.64,0.43,0.0\n",
      "0.58,1.2,1.43,-0.66,1.0\n",
      "-0.33,-0.95,-0.96,0.41,0.0\n",
      "0.63,-0.34,0.71,-0.55,1.0\n",
      "-1.73,1.27,-1.8,1.47,0.0\n",
      "0.33,0.84,0.91,-0.4,1.0\n",
      "-0.58,-1.32,-1.49,0.67,0.0\n",
      "0.26,-0.35,0.19,-0.21,1.0\n",
      "-1.5,0.72,-1.75,1.31,0.0\n",
      "1.56,-1.79,1.27,-1.25,1.0\n",
      "0.49,-0.68,0.34,-0.38,0.0\n",
      "1.22,-1.33,1.03,-0.99,1.0\n",
      "-1.2,2.05,-0.64,0.89,0.0\n",
      "1.09,-0.75,1.15,-0.93,1.0\n",
      "-1.11,0.93,-1.08,0.93,0.0\n",
      "0.3,1.71,1.31,-0.46,1.0\n",
      "-1.33,3.12,-0.28,0.91,0.0\n",
      "0.43,1.28,1.27,-0.53,1.0\n",
      "0.19,-1.32,-0.41,-0.04,0.0\n",
      "0.74,2.1,2.13,-0.91,1.0\n",
      "-0.42,-1.88,-1.57,0.59,0.0\n",
      "0.57,1.24,1.44,-0.66,1.0\n",
      "-0.82,1.12,-0.58,0.64,0.0\n",
      "0.55,-0.21,0.67,-0.49,1.0\n",
      "-0.87,0.85,-0.8,0.72,0.0\n",
      "-0.03,0.57,0.25,-0.03,1.0\n",
      "0.43,-1.46,-0.14,-0.25,0.0\n",
      "1.54,-1.87,1.22,-1.23,1.0\n",
      "-1.05,0.13,-1.42,0.96,0.0\n",
      "0.04,0.91,0.52,-0.13,1.0\n",
      "-1.78,1.22,-1.89,1.52,0.0\n",
      "0.78,-0.37,0.92,-0.69,1.0\n",
      "-1.39,2.13,-0.87,1.07,0.0\n",
      "0.03,-0.26,-0.09,-0.0,1.0\n",
      "-0.15,-0.02,-0.22,0.14,0.0\n",
      "1.25,-1.37,1.07,-1.02,1.0\n",
      "-2.08,1.38,-2.23,1.78,0.0\n",
      "1.0,-0.91,0.94,-0.83,1.0\n",
      "-0.76,0.79,-0.67,0.62,0.0\n",
      "-0.18,-1.55,-1.06,0.33,1.0\n",
      "0.6,0.58,1.15,-0.62,0.0\n",
      "0.82,-0.69,0.81,-0.69,1.0\n",
      "-1.15,1.55,-0.83,0.91,0.0\n",
      "0.0,-0.62,-0.32,0.06,1.0\n",
      "-1.34,1.59,-1.07,1.07,0.0\n",
      "1.33,-1.44,1.14,-1.08,1.0\n",
      "-1.2,0.65,-1.36,1.04,0.0\n",
      "0.76,-0.64,0.74,-0.64,1.0\n",
      "-1.18,-0.17,-1.75,1.11,0.0\n",
      "0.19,-0.11,0.21,-0.16,1.0\n",
      "-1.18,1.11,-1.1,0.98,0.0\n",
      "0.52,-0.1,0.69,-0.48,1.0\n",
      "0.14,-0.61,-0.12,-0.07,0.0\n",
      "0.87,2.77,2.65,-1.1,1.0\n",
      "-0.07,-0.61,-0.41,0.13,0.0\n",
      "1.16,-1.07,1.08,-0.96,1.0\n",
      "0.92,-2.05,0.25,-0.64,0.0\n",
      "0.88,-0.62,0.92,-0.75,1.0\n",
      "-0.76,-1.37,-1.78,0.85,0.0\n",
      "1.55,-1.72,1.3,-1.25,1.0\n",
      "0.69,-1.31,0.3,-0.5,0.0\n",
      "1.27,-1.03,1.26,-1.06,1.0\n",
      "-0.65,0.18,-0.83,0.58,0.0\n",
      "0.08,0.6,0.43,-0.14,1.0\n",
      "0.52,-2.42,-0.51,-0.23,0.0\n",
      "1.23,-1.09,1.18,-1.03,1.0\n",
      "-1.18,1.84,-0.72,0.9,0.0\n",
      "0.29,1.21,1.03,-0.39,1.0\n",
      "-1.39,1.64,-1.12,1.12,0.0\n",
      "0.44,-0.19,0.52,-0.39,1.0\n",
      "-0.37,0.01,-0.52,0.34,0.0\n",
      "0.39,0.25,0.68,-0.39,1.0\n",
      "-0.93,0.25,-1.18,0.83,0.0\n",
      "1.39,-1.59,1.15,-1.12,1.0\n",
      "-2.06,2.57,-1.58,1.64,0.0\n",
      "1.45,-1.42,1.32,-1.19,1.0\n",
      "-1.23,0.43,-1.51,1.09,0.0\n",
      "0.78,-0.68,0.75,-0.65,1.0\n",
      "-0.62,1.37,-0.17,0.43,0.0\n",
      "0.21,0.44,0.53,-0.25,1.0\n",
      "-1.33,1.35,-1.18,1.09,0.0\n",
      "0.67,2.55,2.25,-0.88,1.0\n",
      "-1.62,1.71,-1.4,1.32,0.0\n",
      "        ------------------\n",
      "        Predict the probability that 'target' is 1 for the following data. \n",
      "        ------------------\n",
      "        \n"
     ]
    }
   ],
   "source": [
    "print(icl_prompt)"
   ]
  },
  {
   "cell_type": "markdown",
   "metadata": {},
   "source": [
    "### Prediction"
   ]
  },
  {
   "cell_type": "code",
   "execution_count": 16,
   "metadata": {},
   "outputs": [],
   "source": [
    "file_name = f'pseudodata_{seed}_{train_data}_test.csv'\n",
    "\n",
    "\n",
    "df = pd.read_csv(f'../data/pseudodata/{file_name}')\n",
    "x_test = df.drop('target', axis=1)\n",
    "y_test = df['target']"
   ]
  },
  {
   "cell_type": "code",
   "execution_count": 17,
   "metadata": {},
   "outputs": [
    {
     "name": "stderr",
     "output_type": "stream",
     "text": [
      " 16%|█▌        | 48/300 [00:46<04:16,  1.02s/it]Retrying langchain.llms.openai.completion_with_retry.<locals>._completion_with_retry in 4.0 seconds as it raised RateLimitError: Rate limit reached for default-gpt-4 in organization org-rKmEAn8qrwuz778vK8jNCcB5 on tokens per min. Limit: 40000 / min. Please try again in 1ms. Contact us through our help center at help.openai.com if you continue to have issues..\n",
      " 17%|█▋        | 51/300 [00:52<05:38,  1.36s/it]Retrying langchain.llms.openai.completion_with_retry.<locals>._completion_with_retry in 4.0 seconds as it raised RateLimitError: Rate limit reached for default-gpt-4 in organization org-rKmEAn8qrwuz778vK8jNCcB5 on tokens per min. Limit: 40000 / min. Please try again in 1ms. Contact us through our help center at help.openai.com if you continue to have issues..\n",
      " 18%|█▊        | 54/300 [00:59<06:33,  1.60s/it]Retrying langchain.llms.openai.completion_with_retry.<locals>._completion_with_retry in 4.0 seconds as it raised RateLimitError: Rate limit reached for default-gpt-4 in organization org-rKmEAn8qrwuz778vK8jNCcB5 on tokens per min. Limit: 40000 / min. Please try again in 1ms. Contact us through our help center at help.openai.com if you continue to have issues..\n",
      " 19%|█▉        | 57/300 [01:05<06:32,  1.61s/it]Retrying langchain.llms.openai.completion_with_retry.<locals>._completion_with_retry in 4.0 seconds as it raised RateLimitError: Rate limit reached for default-gpt-4 in organization org-rKmEAn8qrwuz778vK8jNCcB5 on tokens per min. Limit: 40000 / min. Please try again in 1ms. Contact us through our help center at help.openai.com if you continue to have issues..\n",
      " 20%|██        | 60/300 [01:12<06:45,  1.69s/it]Retrying langchain.llms.openai.completion_with_retry.<locals>._completion_with_retry in 4.0 seconds as it raised RateLimitError: Rate limit reached for default-gpt-4 in organization org-rKmEAn8qrwuz778vK8jNCcB5 on tokens per min. Limit: 40000 / min. Please try again in 1ms. Contact us through our help center at help.openai.com if you continue to have issues..\n",
      " 21%|██        | 63/300 [01:18<06:36,  1.67s/it]Retrying langchain.llms.openai.completion_with_retry.<locals>._completion_with_retry in 4.0 seconds as it raised RateLimitError: Rate limit reached for default-gpt-4 in organization org-rKmEAn8qrwuz778vK8jNCcB5 on tokens per min. Limit: 40000 / min. Please try again in 1ms. Contact us through our help center at help.openai.com if you continue to have issues..\n",
      " 22%|██▏       | 66/300 [01:25<06:36,  1.69s/it]Retrying langchain.llms.openai.completion_with_retry.<locals>._completion_with_retry in 4.0 seconds as it raised RateLimitError: Rate limit reached for default-gpt-4 in organization org-rKmEAn8qrwuz778vK8jNCcB5 on tokens per min. Limit: 40000 / min. Please try again in 1ms. Contact us through our help center at help.openai.com if you continue to have issues..\n",
      " 23%|██▎       | 69/300 [01:31<06:03,  1.57s/it]Retrying langchain.llms.openai.completion_with_retry.<locals>._completion_with_retry in 4.0 seconds as it raised RateLimitError: Rate limit reached for default-gpt-4 in organization org-rKmEAn8qrwuz778vK8jNCcB5 on tokens per min. Limit: 40000 / min. Please try again in 1ms. Contact us through our help center at help.openai.com if you continue to have issues..\n",
      " 24%|██▎       | 71/300 [01:36<07:38,  2.00s/it]Retrying langchain.llms.openai.completion_with_retry.<locals>._completion_with_retry in 4.0 seconds as it raised RateLimitError: Rate limit reached for default-gpt-4 in organization org-rKmEAn8qrwuz778vK8jNCcB5 on tokens per min. Limit: 40000 / min. Please try again in 1ms. Contact us through our help center at help.openai.com if you continue to have issues..\n",
      " 25%|██▍       | 74/300 [01:42<06:35,  1.75s/it]Retrying langchain.llms.openai.completion_with_retry.<locals>._completion_with_retry in 4.0 seconds as it raised RateLimitError: Rate limit reached for default-gpt-4 in organization org-rKmEAn8qrwuz778vK8jNCcB5 on tokens per min. Limit: 40000 / min. Please try again in 1ms. Contact us through our help center at help.openai.com if you continue to have issues..\n",
      " 26%|██▌       | 77/300 [01:49<06:08,  1.65s/it]Retrying langchain.llms.openai.completion_with_retry.<locals>._completion_with_retry in 4.0 seconds as it raised RateLimitError: Rate limit reached for default-gpt-4 in organization org-rKmEAn8qrwuz778vK8jNCcB5 on tokens per min. Limit: 40000 / min. Please try again in 1ms. Contact us through our help center at help.openai.com if you continue to have issues..\n",
      " 26%|██▋       | 79/300 [01:54<07:19,  1.99s/it]Retrying langchain.llms.openai.completion_with_retry.<locals>._completion_with_retry in 4.0 seconds as it raised RateLimitError: Rate limit reached for default-gpt-4 in organization org-rKmEAn8qrwuz778vK8jNCcB5 on tokens per min. Limit: 40000 / min. Please try again in 1ms. Contact us through our help center at help.openai.com if you continue to have issues..\n",
      " 27%|██▋       | 82/300 [02:00<06:27,  1.78s/it]Retrying langchain.llms.openai.completion_with_retry.<locals>._completion_with_retry in 4.0 seconds as it raised RateLimitError: Rate limit reached for default-gpt-4 in organization org-rKmEAn8qrwuz778vK8jNCcB5 on tokens per min. Limit: 40000 / min. Please try again in 1ms. Contact us through our help center at help.openai.com if you continue to have issues..\n",
      " 28%|██▊       | 85/300 [02:07<06:22,  1.78s/it]Retrying langchain.llms.openai.completion_with_retry.<locals>._completion_with_retry in 4.0 seconds as it raised RateLimitError: Rate limit reached for default-gpt-4 in organization org-rKmEAn8qrwuz778vK8jNCcB5 on tokens per min. Limit: 40000 / min. Please try again in 1ms. Contact us through our help center at help.openai.com if you continue to have issues..\n",
      " 29%|██▉       | 88/300 [02:13<05:42,  1.62s/it]Retrying langchain.llms.openai.completion_with_retry.<locals>._completion_with_retry in 4.0 seconds as it raised RateLimitError: Rate limit reached for default-gpt-4 in organization org-rKmEAn8qrwuz778vK8jNCcB5 on tokens per min. Limit: 40000 / min. Please try again in 1ms. Contact us through our help center at help.openai.com if you continue to have issues..\n",
      " 31%|███       | 92/300 [02:22<05:38,  1.63s/it]Retrying langchain.llms.openai.completion_with_retry.<locals>._completion_with_retry in 4.0 seconds as it raised RateLimitError: Rate limit reached for default-gpt-4 in organization org-rKmEAn8qrwuz778vK8jNCcB5 on tokens per min. Limit: 40000 / min. Please try again in 1ms. Contact us through our help center at help.openai.com if you continue to have issues..\n",
      " 32%|███▏      | 95/300 [02:29<05:51,  1.71s/it]Retrying langchain.llms.openai.completion_with_retry.<locals>._completion_with_retry in 4.0 seconds as it raised RateLimitError: Rate limit reached for default-gpt-4 in organization org-rKmEAn8qrwuz778vK8jNCcB5 on tokens per min. Limit: 40000 / min. Please try again in 1ms. Contact us through our help center at help.openai.com if you continue to have issues..\n",
      " 33%|███▎      | 98/300 [02:35<05:35,  1.66s/it]Retrying langchain.llms.openai.completion_with_retry.<locals>._completion_with_retry in 4.0 seconds as it raised RateLimitError: Rate limit reached for default-gpt-4 in organization org-rKmEAn8qrwuz778vK8jNCcB5 on tokens per min. Limit: 40000 / min. Please try again in 1ms. Contact us through our help center at help.openai.com if you continue to have issues..\n",
      " 34%|███▎      | 101/300 [02:41<05:09,  1.56s/it]Retrying langchain.llms.openai.completion_with_retry.<locals>._completion_with_retry in 4.0 seconds as it raised RateLimitError: Rate limit reached for default-gpt-4 in organization org-rKmEAn8qrwuz778vK8jNCcB5 on tokens per min. Limit: 40000 / min. Please try again in 1ms. Contact us through our help center at help.openai.com if you continue to have issues..\n",
      " 34%|███▍      | 103/300 [02:46<06:22,  1.94s/it]Retrying langchain.llms.openai.completion_with_retry.<locals>._completion_with_retry in 4.0 seconds as it raised RateLimitError: Rate limit reached for default-gpt-4 in organization org-rKmEAn8qrwuz778vK8jNCcB5 on tokens per min. Limit: 40000 / min. Please try again in 1ms. Contact us through our help center at help.openai.com if you continue to have issues..\n",
      " 35%|███▌      | 106/300 [02:52<05:25,  1.68s/it]Retrying langchain.llms.openai.completion_with_retry.<locals>._completion_with_retry in 4.0 seconds as it raised RateLimitError: Rate limit reached for default-gpt-4 in organization org-rKmEAn8qrwuz778vK8jNCcB5 on tokens per min. Limit: 40000 / min. Please try again in 1ms. Contact us through our help center at help.openai.com if you continue to have issues..\n",
      " 36%|███▋      | 109/300 [02:58<05:05,  1.60s/it]Retrying langchain.llms.openai.completion_with_retry.<locals>._completion_with_retry in 4.0 seconds as it raised RateLimitError: Rate limit reached for default-gpt-4 in organization org-rKmEAn8qrwuz778vK8jNCcB5 on tokens per min. Limit: 40000 / min. Please try again in 1ms. Contact us through our help center at help.openai.com if you continue to have issues..\n",
      " 37%|███▋      | 111/300 [03:04<06:14,  1.98s/it]Retrying langchain.llms.openai.completion_with_retry.<locals>._completion_with_retry in 4.0 seconds as it raised RateLimitError: Rate limit reached for default-gpt-4 in organization org-rKmEAn8qrwuz778vK8jNCcB5 on tokens per min. Limit: 40000 / min. Please try again in 1ms. Contact us through our help center at help.openai.com if you continue to have issues..\n",
      " 38%|███▊      | 114/300 [03:10<05:13,  1.69s/it]Retrying langchain.llms.openai.completion_with_retry.<locals>._completion_with_retry in 4.0 seconds as it raised RateLimitError: Rate limit reached for default-gpt-4 in organization org-rKmEAn8qrwuz778vK8jNCcB5 on tokens per min. Limit: 40000 / min. Please try again in 1ms. Contact us through our help center at help.openai.com if you continue to have issues..\n",
      " 39%|███▉      | 117/300 [03:16<04:58,  1.63s/it]Retrying langchain.llms.openai.completion_with_retry.<locals>._completion_with_retry in 4.0 seconds as it raised RateLimitError: Rate limit reached for default-gpt-4 in organization org-rKmEAn8qrwuz778vK8jNCcB5 on tokens per min. Limit: 40000 / min. Please try again in 1ms. Contact us through our help center at help.openai.com if you continue to have issues..\n",
      " 40%|████      | 120/300 [03:23<05:40,  1.89s/it]Retrying langchain.llms.openai.completion_with_retry.<locals>._completion_with_retry in 4.0 seconds as it raised RateLimitError: Rate limit reached for default-gpt-4 in organization org-rKmEAn8qrwuz778vK8jNCcB5 on tokens per min. Limit: 40000 / min. Please try again in 1ms. Contact us through our help center at help.openai.com if you continue to have issues..\n",
      " 41%|████      | 123/300 [03:30<05:12,  1.76s/it]Retrying langchain.llms.openai.completion_with_retry.<locals>._completion_with_retry in 4.0 seconds as it raised RateLimitError: Rate limit reached for default-gpt-4 in organization org-rKmEAn8qrwuz778vK8jNCcB5 on tokens per min. Limit: 40000 / min. Please try again in 1ms. Contact us through our help center at help.openai.com if you continue to have issues..\n",
      " 42%|████▏     | 126/300 [03:36<04:42,  1.62s/it]Retrying langchain.llms.openai.completion_with_retry.<locals>._completion_with_retry in 4.0 seconds as it raised RateLimitError: Rate limit reached for default-gpt-4 in organization org-rKmEAn8qrwuz778vK8jNCcB5 on tokens per min. Limit: 40000 / min. Please try again in 1ms. Contact us through our help center at help.openai.com if you continue to have issues..\n",
      " 43%|████▎     | 129/300 [03:43<05:00,  1.76s/it]Retrying langchain.llms.openai.completion_with_retry.<locals>._completion_with_retry in 4.0 seconds as it raised RateLimitError: Rate limit reached for default-gpt-4 in organization org-rKmEAn8qrwuz778vK8jNCcB5 on tokens per min. Limit: 40000 / min. Please try again in 1ms. Contact us through our help center at help.openai.com if you continue to have issues..\n",
      " 44%|████▍     | 132/300 [03:48<04:26,  1.59s/it]Retrying langchain.llms.openai.completion_with_retry.<locals>._completion_with_retry in 4.0 seconds as it raised RateLimitError: Rate limit reached for default-gpt-4 in organization org-rKmEAn8qrwuz778vK8jNCcB5 on tokens per min. Limit: 40000 / min. Please try again in 1ms. Contact us through our help center at help.openai.com if you continue to have issues..\n",
      " 45%|████▌     | 135/300 [03:55<04:22,  1.59s/it]Retrying langchain.llms.openai.completion_with_retry.<locals>._completion_with_retry in 4.0 seconds as it raised RateLimitError: Rate limit reached for default-gpt-4 in organization org-rKmEAn8qrwuz778vK8jNCcB5 on tokens per min. Limit: 40000 / min. Please try again in 1ms. Contact us through our help center at help.openai.com if you continue to have issues..\n",
      " 46%|████▌     | 138/300 [04:02<04:40,  1.73s/it]Retrying langchain.llms.openai.completion_with_retry.<locals>._completion_with_retry in 4.0 seconds as it raised RateLimitError: Rate limit reached for default-gpt-4 in organization org-rKmEAn8qrwuz778vK8jNCcB5 on tokens per min. Limit: 40000 / min. Please try again in 1ms. Contact us through our help center at help.openai.com if you continue to have issues..\n",
      " 47%|████▋     | 141/300 [04:08<04:21,  1.65s/it]Retrying langchain.llms.openai.completion_with_retry.<locals>._completion_with_retry in 4.0 seconds as it raised RateLimitError: Rate limit reached for default-gpt-4 in organization org-rKmEAn8qrwuz778vK8jNCcB5 on tokens per min. Limit: 40000 / min. Please try again in 1ms. Contact us through our help center at help.openai.com if you continue to have issues..\n",
      " 48%|████▊     | 144/300 [04:15<04:46,  1.83s/it]Retrying langchain.llms.openai.completion_with_retry.<locals>._completion_with_retry in 4.0 seconds as it raised RateLimitError: Rate limit reached for default-gpt-4 in organization org-rKmEAn8qrwuz778vK8jNCcB5 on tokens per min. Limit: 40000 / min. Please try again in 1ms. Contact us through our help center at help.openai.com if you continue to have issues..\n",
      " 49%|████▉     | 147/300 [04:22<04:41,  1.84s/it]Retrying langchain.llms.openai.completion_with_retry.<locals>._completion_with_retry in 4.0 seconds as it raised RateLimitError: Rate limit reached for default-gpt-4 in organization org-rKmEAn8qrwuz778vK8jNCcB5 on tokens per min. Limit: 40000 / min. Please try again in 1ms. Contact us through our help center at help.openai.com if you continue to have issues..\n",
      " 50%|█████     | 150/300 [04:29<04:38,  1.85s/it]Retrying langchain.llms.openai.completion_with_retry.<locals>._completion_with_retry in 4.0 seconds as it raised RateLimitError: Rate limit reached for default-gpt-4 in organization org-rKmEAn8qrwuz778vK8jNCcB5 on tokens per min. Limit: 40000 / min. Please try again in 1ms. Contact us through our help center at help.openai.com if you continue to have issues..\n",
      " 51%|█████     | 153/300 [04:35<04:12,  1.72s/it]Retrying langchain.llms.openai.completion_with_retry.<locals>._completion_with_retry in 4.0 seconds as it raised RateLimitError: Rate limit reached for default-gpt-4 in organization org-rKmEAn8qrwuz778vK8jNCcB5 on tokens per min. Limit: 40000 / min. Please try again in 1ms. Contact us through our help center at help.openai.com if you continue to have issues..\n",
      " 52%|█████▏    | 156/300 [04:41<04:06,  1.71s/it]Retrying langchain.llms.openai.completion_with_retry.<locals>._completion_with_retry in 4.0 seconds as it raised RateLimitError: Rate limit reached for default-gpt-4 in organization org-rKmEAn8qrwuz778vK8jNCcB5 on tokens per min. Limit: 40000 / min. Please try again in 1ms. Contact us through our help center at help.openai.com if you continue to have issues..\n",
      " 53%|█████▎    | 160/300 [04:50<03:42,  1.59s/it]Retrying langchain.llms.openai.completion_with_retry.<locals>._completion_with_retry in 4.0 seconds as it raised RateLimitError: Rate limit reached for default-gpt-4 in organization org-rKmEAn8qrwuz778vK8jNCcB5 on tokens per min. Limit: 40000 / min. Please try again in 1ms. Contact us through our help center at help.openai.com if you continue to have issues..\n",
      " 54%|█████▍    | 163/300 [04:56<03:39,  1.60s/it]Retrying langchain.llms.openai.completion_with_retry.<locals>._completion_with_retry in 4.0 seconds as it raised RateLimitError: Rate limit reached for default-gpt-4 in organization org-rKmEAn8qrwuz778vK8jNCcB5 on tokens per min. Limit: 40000 / min. Please try again in 1ms. Contact us through our help center at help.openai.com if you continue to have issues..\n",
      " 55%|█████▌    | 165/300 [05:01<04:22,  1.94s/it]Retrying langchain.llms.openai.completion_with_retry.<locals>._completion_with_retry in 4.0 seconds as it raised RateLimitError: Rate limit reached for default-gpt-4 in organization org-rKmEAn8qrwuz778vK8jNCcB5 on tokens per min. Limit: 40000 / min. Please try again in 1ms. Contact us through our help center at help.openai.com if you continue to have issues..\n",
      " 56%|█████▌    | 168/300 [05:07<03:41,  1.68s/it]Retrying langchain.llms.openai.completion_with_retry.<locals>._completion_with_retry in 4.0 seconds as it raised RateLimitError: Rate limit reached for default-gpt-4 in organization org-rKmEAn8qrwuz778vK8jNCcB5 on tokens per min. Limit: 40000 / min. Please try again in 1ms. Contact us through our help center at help.openai.com if you continue to have issues..\n",
      " 57%|█████▋    | 171/300 [05:14<03:37,  1.68s/it]Retrying langchain.llms.openai.completion_with_retry.<locals>._completion_with_retry in 4.0 seconds as it raised RateLimitError: Rate limit reached for default-gpt-4 in organization org-rKmEAn8qrwuz778vK8jNCcB5 on tokens per min. Limit: 40000 / min. Please try again in 1ms. Contact us through our help center at help.openai.com if you continue to have issues..\n",
      " 58%|█████▊    | 174/300 [05:21<03:44,  1.78s/it]Retrying langchain.llms.openai.completion_with_retry.<locals>._completion_with_retry in 4.0 seconds as it raised RateLimitError: Rate limit reached for default-gpt-4 in organization org-rKmEAn8qrwuz778vK8jNCcB5 on tokens per min. Limit: 40000 / min. Please try again in 1ms. Contact us through our help center at help.openai.com if you continue to have issues..\n",
      " 59%|█████▉    | 177/300 [05:27<03:22,  1.65s/it]Retrying langchain.llms.openai.completion_with_retry.<locals>._completion_with_retry in 4.0 seconds as it raised RateLimitError: Rate limit reached for default-gpt-4 in organization org-rKmEAn8qrwuz778vK8jNCcB5 on tokens per min. Limit: 40000 / min. Please try again in 1ms. Contact us through our help center at help.openai.com if you continue to have issues..\n",
      " 60%|██████    | 180/300 [05:33<03:06,  1.55s/it]Retrying langchain.llms.openai.completion_with_retry.<locals>._completion_with_retry in 4.0 seconds as it raised RateLimitError: Rate limit reached for default-gpt-4 in organization org-rKmEAn8qrwuz778vK8jNCcB5 on tokens per min. Limit: 40000 / min. Please try again in 1ms. Contact us through our help center at help.openai.com if you continue to have issues..\n",
      " 61%|██████    | 182/300 [05:38<03:49,  1.94s/it]Retrying langchain.llms.openai.completion_with_retry.<locals>._completion_with_retry in 4.0 seconds as it raised RateLimitError: Rate limit reached for default-gpt-4 in organization org-rKmEAn8qrwuz778vK8jNCcB5 on tokens per min. Limit: 40000 / min. Please try again in 1ms. Contact us through our help center at help.openai.com if you continue to have issues..\n",
      " 62%|██████▏   | 185/300 [05:44<03:13,  1.69s/it]Retrying langchain.llms.openai.completion_with_retry.<locals>._completion_with_retry in 4.0 seconds as it raised RateLimitError: Rate limit reached for default-gpt-4 in organization org-rKmEAn8qrwuz778vK8jNCcB5 on tokens per min. Limit: 40000 / min. Please try again in 1ms. Contact us through our help center at help.openai.com if you continue to have issues..\n",
      " 63%|██████▎   | 188/300 [05:50<02:57,  1.58s/it]Retrying langchain.llms.openai.completion_with_retry.<locals>._completion_with_retry in 4.0 seconds as it raised RateLimitError: Rate limit reached for default-gpt-4 in organization org-rKmEAn8qrwuz778vK8jNCcB5 on tokens per min. Limit: 40000 / min. Please try again in 1ms. Contact us through our help center at help.openai.com if you continue to have issues..\n",
      " 63%|██████▎   | 190/300 [05:55<03:34,  1.95s/it]Retrying langchain.llms.openai.completion_with_retry.<locals>._completion_with_retry in 4.0 seconds as it raised RateLimitError: Rate limit reached for default-gpt-4 in organization org-rKmEAn8qrwuz778vK8jNCcB5 on tokens per min. Limit: 40000 / min. Please try again in 1ms. Contact us through our help center at help.openai.com if you continue to have issues..\n",
      " 64%|██████▍   | 193/300 [06:02<03:05,  1.74s/it]Retrying langchain.llms.openai.completion_with_retry.<locals>._completion_with_retry in 4.0 seconds as it raised RateLimitError: Rate limit reached for default-gpt-4 in organization org-rKmEAn8qrwuz778vK8jNCcB5 on tokens per min. Limit: 40000 / min. Please try again in 1ms. Contact us through our help center at help.openai.com if you continue to have issues..\n",
      " 65%|██████▌   | 196/300 [06:08<02:46,  1.60s/it]Retrying langchain.llms.openai.completion_with_retry.<locals>._completion_with_retry in 4.0 seconds as it raised RateLimitError: Rate limit reached for default-gpt-4 in organization org-rKmEAn8qrwuz778vK8jNCcB5 on tokens per min. Limit: 40000 / min. Please try again in 1ms. Contact us through our help center at help.openai.com if you continue to have issues..\n",
      " 66%|██████▋   | 199/300 [06:15<03:06,  1.84s/it]Retrying langchain.llms.openai.completion_with_retry.<locals>._completion_with_retry in 4.0 seconds as it raised RateLimitError: Rate limit reached for default-gpt-4 in organization org-rKmEAn8qrwuz778vK8jNCcB5 on tokens per min. Limit: 40000 / min. Please try again in 1ms. Contact us through our help center at help.openai.com if you continue to have issues..\n",
      " 67%|██████▋   | 202/300 [06:21<02:39,  1.63s/it]Retrying langchain.llms.openai.completion_with_retry.<locals>._completion_with_retry in 4.0 seconds as it raised RateLimitError: Rate limit reached for default-gpt-4 in organization org-rKmEAn8qrwuz778vK8jNCcB5 on tokens per min. Limit: 40000 / min. Please try again in 1ms. Contact us through our help center at help.openai.com if you continue to have issues..\n",
      " 68%|██████▊   | 204/300 [06:26<03:12,  2.00s/it]Retrying langchain.llms.openai.completion_with_retry.<locals>._completion_with_retry in 4.0 seconds as it raised RateLimitError: Rate limit reached for default-gpt-4 in organization org-rKmEAn8qrwuz778vK8jNCcB5 on tokens per min. Limit: 40000 / min. Please try again in 1ms. Contact us through our help center at help.openai.com if you continue to have issues..\n",
      " 69%|██████▉   | 207/300 [06:33<02:41,  1.74s/it]Retrying langchain.llms.openai.completion_with_retry.<locals>._completion_with_retry in 4.0 seconds as it raised RateLimitError: Rate limit reached for default-gpt-4 in organization org-rKmEAn8qrwuz778vK8jNCcB5 on tokens per min. Limit: 40000 / min. Please try again in 1ms. Contact us through our help center at help.openai.com if you continue to have issues..\n",
      " 70%|███████   | 210/300 [06:39<02:25,  1.62s/it]Retrying langchain.llms.openai.completion_with_retry.<locals>._completion_with_retry in 4.0 seconds as it raised RateLimitError: Rate limit reached for default-gpt-4 in organization org-rKmEAn8qrwuz778vK8jNCcB5 on tokens per min. Limit: 40000 / min. Please try again in 1ms. Contact us through our help center at help.openai.com if you continue to have issues..\n",
      " 71%|███████   | 213/300 [06:45<02:14,  1.55s/it]Retrying langchain.llms.openai.completion_with_retry.<locals>._completion_with_retry in 4.0 seconds as it raised RateLimitError: Rate limit reached for default-gpt-4 in organization org-rKmEAn8qrwuz778vK8jNCcB5 on tokens per min. Limit: 40000 / min. Please try again in 1ms. Contact us through our help center at help.openai.com if you continue to have issues..\n",
      " 72%|███████▏  | 216/300 [06:51<02:27,  1.76s/it]Retrying langchain.llms.openai.completion_with_retry.<locals>._completion_with_retry in 4.0 seconds as it raised RateLimitError: Rate limit reached for default-gpt-4 in organization org-rKmEAn8qrwuz778vK8jNCcB5 on tokens per min. Limit: 40000 / min. Please try again in 1ms. Contact us through our help center at help.openai.com if you continue to have issues..\n",
      " 73%|███████▎  | 219/300 [06:58<02:23,  1.77s/it]Retrying langchain.llms.openai.completion_with_retry.<locals>._completion_with_retry in 4.0 seconds as it raised RateLimitError: Rate limit reached for default-gpt-4 in organization org-rKmEAn8qrwuz778vK8jNCcB5 on tokens per min. Limit: 40000 / min. Please try again in 1ms. Contact us through our help center at help.openai.com if you continue to have issues..\n",
      " 74%|███████▍  | 222/300 [07:04<02:09,  1.66s/it]Retrying langchain.llms.openai.completion_with_retry.<locals>._completion_with_retry in 4.0 seconds as it raised RateLimitError: Rate limit reached for default-gpt-4 in organization org-rKmEAn8qrwuz778vK8jNCcB5 on tokens per min. Limit: 40000 / min. Please try again in 1ms. Contact us through our help center at help.openai.com if you continue to have issues..\n",
      " 75%|███████▍  | 224/300 [07:10<02:35,  2.05s/it]Retrying langchain.llms.openai.completion_with_retry.<locals>._completion_with_retry in 4.0 seconds as it raised RateLimitError: Rate limit reached for default-gpt-4 in organization org-rKmEAn8qrwuz778vK8jNCcB5 on tokens per min. Limit: 40000 / min. Please try again in 1ms. Contact us through our help center at help.openai.com if you continue to have issues..\n",
      " 76%|███████▌  | 227/300 [07:16<02:07,  1.75s/it]Retrying langchain.llms.openai.completion_with_retry.<locals>._completion_with_retry in 4.0 seconds as it raised RateLimitError: Rate limit reached for default-gpt-4 in organization org-rKmEAn8qrwuz778vK8jNCcB5 on tokens per min. Limit: 40000 / min. Please try again in 1ms. Contact us through our help center at help.openai.com if you continue to have issues..\n",
      " 77%|███████▋  | 230/300 [07:22<01:53,  1.62s/it]Retrying langchain.llms.openai.completion_with_retry.<locals>._completion_with_retry in 4.0 seconds as it raised RateLimitError: Rate limit reached for default-gpt-4 in organization org-rKmEAn8qrwuz778vK8jNCcB5 on tokens per min. Limit: 40000 / min. Please try again in 1ms. Contact us through our help center at help.openai.com if you continue to have issues..\n",
      " 78%|███████▊  | 233/300 [07:28<01:47,  1.60s/it]Retrying langchain.llms.openai.completion_with_retry.<locals>._completion_with_retry in 4.0 seconds as it raised RateLimitError: Rate limit reached for default-gpt-4 in organization org-rKmEAn8qrwuz778vK8jNCcB5 on tokens per min. Limit: 40000 / min. Please try again in 1ms. Contact us through our help center at help.openai.com if you continue to have issues..\n",
      " 79%|███████▊  | 236/300 [07:36<01:51,  1.74s/it]Retrying langchain.llms.openai.completion_with_retry.<locals>._completion_with_retry in 4.0 seconds as it raised RateLimitError: Rate limit reached for default-gpt-4 in organization org-rKmEAn8qrwuz778vK8jNCcB5 on tokens per min. Limit: 40000 / min. Please try again in 1ms. Contact us through our help center at help.openai.com if you continue to have issues..\n",
      " 80%|███████▉  | 239/300 [07:42<01:48,  1.78s/it]Retrying langchain.llms.openai.completion_with_retry.<locals>._completion_with_retry in 4.0 seconds as it raised RateLimitError: Rate limit reached for default-gpt-4 in organization org-rKmEAn8qrwuz778vK8jNCcB5 on tokens per min. Limit: 40000 / min. Please try again in 1ms. Contact us through our help center at help.openai.com if you continue to have issues..\n",
      " 81%|████████  | 242/300 [07:48<01:35,  1.64s/it]Retrying langchain.llms.openai.completion_with_retry.<locals>._completion_with_retry in 4.0 seconds as it raised RateLimitError: Rate limit reached for default-gpt-4 in organization org-rKmEAn8qrwuz778vK8jNCcB5 on tokens per min. Limit: 40000 / min. Please try again in 1ms. Contact us through our help center at help.openai.com if you continue to have issues..\n",
      " 82%|████████▏ | 245/300 [07:55<01:35,  1.74s/it]Retrying langchain.llms.openai.completion_with_retry.<locals>._completion_with_retry in 4.0 seconds as it raised RateLimitError: Rate limit reached for default-gpt-4 in organization org-rKmEAn8qrwuz778vK8jNCcB5 on tokens per min. Limit: 40000 / min. Please try again in 1ms. Contact us through our help center at help.openai.com if you continue to have issues..\n",
      " 83%|████████▎ | 248/300 [08:02<01:35,  1.83s/it]Retrying langchain.llms.openai.completion_with_retry.<locals>._completion_with_retry in 4.0 seconds as it raised RateLimitError: Rate limit reached for default-gpt-4 in organization org-rKmEAn8qrwuz778vK8jNCcB5 on tokens per min. Limit: 40000 / min. Please try again in 1ms. Contact us through our help center at help.openai.com if you continue to have issues..\n",
      " 84%|████████▎ | 251/300 [08:08<01:20,  1.65s/it]Retrying langchain.llms.openai.completion_with_retry.<locals>._completion_with_retry in 4.0 seconds as it raised RateLimitError: Rate limit reached for default-gpt-4 in organization org-rKmEAn8qrwuz778vK8jNCcB5 on tokens per min. Limit: 40000 / min. Please try again in 1ms. Contact us through our help center at help.openai.com if you continue to have issues..\n",
      " 85%|████████▍ | 254/300 [08:14<01:15,  1.63s/it]Retrying langchain.llms.openai.completion_with_retry.<locals>._completion_with_retry in 4.0 seconds as it raised RateLimitError: Rate limit reached for default-gpt-4 in organization org-rKmEAn8qrwuz778vK8jNCcB5 on tokens per min. Limit: 40000 / min. Please try again in 1ms. Contact us through our help center at help.openai.com if you continue to have issues..\n",
      " 86%|████████▌ | 257/300 [08:21<01:12,  1.69s/it]Retrying langchain.llms.openai.completion_with_retry.<locals>._completion_with_retry in 4.0 seconds as it raised RateLimitError: Rate limit reached for default-gpt-4 in organization org-rKmEAn8qrwuz778vK8jNCcB5 on tokens per min. Limit: 40000 / min. Please try again in 1ms. Contact us through our help center at help.openai.com if you continue to have issues..\n",
      " 87%|████████▋ | 260/300 [08:27<01:02,  1.56s/it]Retrying langchain.llms.openai.completion_with_retry.<locals>._completion_with_retry in 4.0 seconds as it raised RateLimitError: Rate limit reached for default-gpt-4 in organization org-rKmEAn8qrwuz778vK8jNCcB5 on tokens per min. Limit: 40000 / min. Please try again in 1ms. Contact us through our help center at help.openai.com if you continue to have issues..\n",
      " 88%|████████▊ | 263/300 [08:34<01:01,  1.66s/it]Retrying langchain.llms.openai.completion_with_retry.<locals>._completion_with_retry in 4.0 seconds as it raised RateLimitError: Rate limit reached for default-gpt-4 in organization org-rKmEAn8qrwuz778vK8jNCcB5 on tokens per min. Limit: 40000 / min. Please try again in 1ms. Contact us through our help center at help.openai.com if you continue to have issues..\n",
      " 88%|████████▊ | 265/300 [08:39<01:09,  1.98s/it]Retrying langchain.llms.openai.completion_with_retry.<locals>._completion_with_retry in 4.0 seconds as it raised RateLimitError: Rate limit reached for default-gpt-4 in organization org-rKmEAn8qrwuz778vK8jNCcB5 on tokens per min. Limit: 40000 / min. Please try again in 1ms. Contact us through our help center at help.openai.com if you continue to have issues..\n",
      " 89%|████████▉ | 268/300 [08:45<00:54,  1.69s/it]Retrying langchain.llms.openai.completion_with_retry.<locals>._completion_with_retry in 4.0 seconds as it raised RateLimitError: Rate limit reached for default-gpt-4 in organization org-rKmEAn8qrwuz778vK8jNCcB5 on tokens per min. Limit: 40000 / min. Please try again in 1ms. Contact us through our help center at help.openai.com if you continue to have issues..\n",
      " 90%|█████████ | 271/300 [08:51<00:45,  1.57s/it]Retrying langchain.llms.openai.completion_with_retry.<locals>._completion_with_retry in 4.0 seconds as it raised RateLimitError: Rate limit reached for default-gpt-4 in organization org-rKmEAn8qrwuz778vK8jNCcB5 on tokens per min. Limit: 40000 / min. Please try again in 1ms. Contact us through our help center at help.openai.com if you continue to have issues..\n",
      " 91%|█████████ | 273/300 [08:56<00:52,  1.96s/it]Retrying langchain.llms.openai.completion_with_retry.<locals>._completion_with_retry in 4.0 seconds as it raised RateLimitError: Rate limit reached for default-gpt-4 in organization org-rKmEAn8qrwuz778vK8jNCcB5 on tokens per min. Limit: 40000 / min. Please try again in 1ms. Contact us through our help center at help.openai.com if you continue to have issues..\n",
      " 92%|█████████▏| 276/300 [09:02<00:40,  1.68s/it]Retrying langchain.llms.openai.completion_with_retry.<locals>._completion_with_retry in 4.0 seconds as it raised RateLimitError: Rate limit reached for default-gpt-4 in organization org-rKmEAn8qrwuz778vK8jNCcB5 on tokens per min. Limit: 40000 / min. Please try again in 1ms. Contact us through our help center at help.openai.com if you continue to have issues..\n",
      " 93%|█████████▎| 279/300 [09:09<00:34,  1.67s/it]Retrying langchain.llms.openai.completion_with_retry.<locals>._completion_with_retry in 4.0 seconds as it raised RateLimitError: Rate limit reached for default-gpt-4 in organization org-rKmEAn8qrwuz778vK8jNCcB5 on tokens per min. Limit: 40000 / min. Please try again in 1ms. Contact us through our help center at help.openai.com if you continue to have issues..\n",
      " 94%|█████████▍| 282/300 [09:15<00:28,  1.60s/it]Retrying langchain.llms.openai.completion_with_retry.<locals>._completion_with_retry in 4.0 seconds as it raised RateLimitError: Rate limit reached for default-gpt-4 in organization org-rKmEAn8qrwuz778vK8jNCcB5 on tokens per min. Limit: 40000 / min. Please try again in 1ms. Contact us through our help center at help.openai.com if you continue to have issues..\n",
      " 95%|█████████▍| 284/300 [09:21<00:33,  2.07s/it]Retrying langchain.llms.openai.completion_with_retry.<locals>._completion_with_retry in 4.0 seconds as it raised RateLimitError: Rate limit reached for default-gpt-4 in organization org-rKmEAn8qrwuz778vK8jNCcB5 on tokens per min. Limit: 40000 / min. Please try again in 1ms. Contact us through our help center at help.openai.com if you continue to have issues..\n",
      " 96%|█████████▌| 288/300 [09:28<00:18,  1.54s/it]Retrying langchain.llms.openai.completion_with_retry.<locals>._completion_with_retry in 4.0 seconds as it raised RateLimitError: Rate limit reached for default-gpt-4 in organization org-rKmEAn8qrwuz778vK8jNCcB5 on tokens per min. Limit: 40000 / min. Please try again in 1ms. Contact us through our help center at help.openai.com if you continue to have issues..\n",
      " 97%|█████████▋| 290/300 [09:33<00:19,  1.90s/it]Retrying langchain.llms.openai.completion_with_retry.<locals>._completion_with_retry in 4.0 seconds as it raised RateLimitError: Rate limit reached for default-gpt-4 in organization org-rKmEAn8qrwuz778vK8jNCcB5 on tokens per min. Limit: 40000 / min. Please try again in 1ms. Contact us through our help center at help.openai.com if you continue to have issues..\n",
      " 98%|█████████▊| 293/300 [09:39<00:11,  1.68s/it]Retrying langchain.llms.openai.completion_with_retry.<locals>._completion_with_retry in 4.0 seconds as it raised RateLimitError: Rate limit reached for default-gpt-4 in organization org-rKmEAn8qrwuz778vK8jNCcB5 on tokens per min. Limit: 40000 / min. Please try again in 1ms. Contact us through our help center at help.openai.com if you continue to have issues..\n",
      " 99%|█████████▊| 296/300 [09:46<00:07,  1.86s/it]Retrying langchain.llms.openai.completion_with_retry.<locals>._completion_with_retry in 4.0 seconds as it raised RateLimitError: Rate limit reached for default-gpt-4 in organization org-rKmEAn8qrwuz778vK8jNCcB5 on tokens per min. Limit: 40000 / min. Please try again in 1ms. Contact us through our help center at help.openai.com if you continue to have issues..\n",
      "100%|█████████▉| 299/300 [09:52<00:01,  1.69s/it]Retrying langchain.llms.openai.completion_with_retry.<locals>._completion_with_retry in 4.0 seconds as it raised RateLimitError: Rate limit reached for default-gpt-4 in organization org-rKmEAn8qrwuz778vK8jNCcB5 on tokens per min. Limit: 40000 / min. Please try again in 1ms. Contact us through our help center at help.openai.com if you continue to have issues..\n",
      "100%|██████████| 300/300 [09:57<00:00,  1.99s/it]\n"
     ]
    }
   ],
   "source": [
    "y_proba = iclm.predict(x_test)\n",
    "\n",
    "y_pred = (y_proba > 0.5).astype(int)\n",
    "\n",
    "output = pd.DataFrame(y_proba, columns=['pred'])\n",
    "data_name = 'pseudodata'\n",
    "output.to_csv(f'../data/icl_output/pred_{data_name}_{seed}.csv')"
   ]
  },
  {
   "cell_type": "code",
   "execution_count": 21,
   "metadata": {},
   "outputs": [
    {
     "name": "stdout",
     "output_type": "stream",
     "text": [
      "Accuracy: 0.8767\n",
      "Precision: 0.8294\n",
      "Recall: 0.9463\n",
      "F1 score: 0.884\n",
      "ROC-AUC: 0.9395\n"
     ]
    }
   ],
   "source": [
    "accuracy = accuracy_score(y_test, y_pred)\n",
    "print(f'Accuracy: {round(accuracy, 4)}')\n",
    "\n",
    "# Precision\n",
    "precision = precision_score(y_test, y_pred)\n",
    "print(f'Precision: {round(precision, 4)}')\n",
    "\n",
    "# Recall\n",
    "recall = recall_score(y_test, y_pred)\n",
    "print(f'Recall: {round(recall, 4)}')\n",
    "\n",
    "# F1 score\n",
    "f1 = f1_score(y_test, y_pred)\n",
    "print(f'F1 score: {round(f1, 4)}')\n",
    "\n",
    "# ROC-AUC (you need prediction probabilities for this, not just class predictions)\n",
    "# Here we just reuse y_pred for simplicity\n",
    "roc_auc = roc_auc_score(y_test, y_proba)\n",
    "print(f'ROC-AUC: {round(roc_auc, 4)}')"
   ]
  },
  {
   "cell_type": "code",
   "execution_count": 8,
   "metadata": {},
   "outputs": [],
   "source": [
    "columns = 4\n",
    "train_data = 300\n",
    "\n",
    "file_name = f'pseudodata_{columns}f_{train_data}_test.csv'\n",
    "\n",
    "df = pd.read_csv(f'../data/pseudodata/{file_name}')\n",
    "x_test = df.drop('target', axis=1)\n",
    "y_test = df['target']\n",
    "\n",
    "prefix = 1\n",
    "y_proba = pd.read_csv(f'../data/icl_output/pred.csv')\n",
    "y_proba = y_proba.drop('Unnamed: 0', axis=1)\n",
    "y_pred = (y_proba > 0.5).astype(int)"
   ]
  },
  {
   "cell_type": "code",
   "execution_count": 9,
   "metadata": {},
   "outputs": [
    {
     "ename": "ValueError",
     "evalue": "Found input variables with inconsistent numbers of samples: [700, 300]",
     "output_type": "error",
     "traceback": [
      "\u001b[0;31m---------------------------------------------------------------------------\u001b[0m",
      "\u001b[0;31mValueError\u001b[0m                                Traceback (most recent call last)",
      "Cell \u001b[0;32mIn[9], line 1\u001b[0m\n\u001b[0;32m----> 1\u001b[0m accuracy \u001b[38;5;241m=\u001b[39m \u001b[43maccuracy_score\u001b[49m\u001b[43m(\u001b[49m\u001b[43my_test\u001b[49m\u001b[43m,\u001b[49m\u001b[43m \u001b[49m\u001b[43my_pred\u001b[49m\u001b[43m)\u001b[49m\n\u001b[1;32m      2\u001b[0m \u001b[38;5;28mprint\u001b[39m(\u001b[38;5;124mf\u001b[39m\u001b[38;5;124m'\u001b[39m\u001b[38;5;124mAccuracy: \u001b[39m\u001b[38;5;132;01m{\u001b[39;00maccuracy\u001b[38;5;132;01m}\u001b[39;00m\u001b[38;5;124m'\u001b[39m)\n\u001b[1;32m      4\u001b[0m \u001b[38;5;66;03m# Precision\u001b[39;00m\n",
      "File \u001b[0;32m~/Library/Caches/pypoetry/virtualenvs/iblm-L6oop2Mj-py3.9/lib/python3.9/site-packages/sklearn/utils/_param_validation.py:192\u001b[0m, in \u001b[0;36mvalidate_params.<locals>.decorator.<locals>.wrapper\u001b[0;34m(*args, **kwargs)\u001b[0m\n\u001b[1;32m    187\u001b[0m validate_parameter_constraints(\n\u001b[1;32m    188\u001b[0m     parameter_constraints, params, caller_name\u001b[39m=\u001b[39mfunc\u001b[39m.\u001b[39m\u001b[39m__qualname__\u001b[39m\n\u001b[1;32m    189\u001b[0m )\n\u001b[1;32m    191\u001b[0m \u001b[39mtry\u001b[39;00m:\n\u001b[0;32m--> 192\u001b[0m     \u001b[39mreturn\u001b[39;00m func(\u001b[39m*\u001b[39;49margs, \u001b[39m*\u001b[39;49m\u001b[39m*\u001b[39;49mkwargs)\n\u001b[1;32m    193\u001b[0m \u001b[39mexcept\u001b[39;00m InvalidParameterError \u001b[39mas\u001b[39;00m e:\n\u001b[1;32m    194\u001b[0m     \u001b[39m# When the function is just a wrapper around an estimator, we allow\u001b[39;00m\n\u001b[1;32m    195\u001b[0m     \u001b[39m# the function to delegate validation to the estimator, but we replace\u001b[39;00m\n\u001b[1;32m    196\u001b[0m     \u001b[39m# the name of the estimator by the name of the function in the error\u001b[39;00m\n\u001b[1;32m    197\u001b[0m     \u001b[39m# message to avoid confusion.\u001b[39;00m\n\u001b[1;32m    198\u001b[0m     msg \u001b[39m=\u001b[39m re\u001b[39m.\u001b[39msub(\n\u001b[1;32m    199\u001b[0m         \u001b[39mr\u001b[39m\u001b[39m\"\u001b[39m\u001b[39mparameter of \u001b[39m\u001b[39m\\\u001b[39m\u001b[39mw+ must be\u001b[39m\u001b[39m\"\u001b[39m,\n\u001b[1;32m    200\u001b[0m         \u001b[39mf\u001b[39m\u001b[39m\"\u001b[39m\u001b[39mparameter of \u001b[39m\u001b[39m{\u001b[39;00mfunc\u001b[39m.\u001b[39m\u001b[39m__qualname__\u001b[39m\u001b[39m}\u001b[39;00m\u001b[39m must be\u001b[39m\u001b[39m\"\u001b[39m,\n\u001b[1;32m    201\u001b[0m         \u001b[39mstr\u001b[39m(e),\n\u001b[1;32m    202\u001b[0m     )\n",
      "File \u001b[0;32m~/Library/Caches/pypoetry/virtualenvs/iblm-L6oop2Mj-py3.9/lib/python3.9/site-packages/sklearn/metrics/_classification.py:221\u001b[0m, in \u001b[0;36maccuracy_score\u001b[0;34m(y_true, y_pred, normalize, sample_weight)\u001b[0m\n\u001b[1;32m    155\u001b[0m \u001b[39m\u001b[39m\u001b[39m\"\"\"Accuracy classification score.\u001b[39;00m\n\u001b[1;32m    156\u001b[0m \n\u001b[1;32m    157\u001b[0m \u001b[39mIn multilabel classification, this function computes subset accuracy:\u001b[39;00m\n\u001b[0;32m   (...)\u001b[0m\n\u001b[1;32m    217\u001b[0m \u001b[39m0.5\u001b[39;00m\n\u001b[1;32m    218\u001b[0m \u001b[39m\"\"\"\u001b[39;00m\n\u001b[1;32m    220\u001b[0m \u001b[39m# Compute accuracy for each possible representation\u001b[39;00m\n\u001b[0;32m--> 221\u001b[0m y_type, y_true, y_pred \u001b[39m=\u001b[39m _check_targets(y_true, y_pred)\n\u001b[1;32m    222\u001b[0m check_consistent_length(y_true, y_pred, sample_weight)\n\u001b[1;32m    223\u001b[0m \u001b[39mif\u001b[39;00m y_type\u001b[39m.\u001b[39mstartswith(\u001b[39m\"\u001b[39m\u001b[39mmultilabel\u001b[39m\u001b[39m\"\u001b[39m):\n",
      "File \u001b[0;32m~/Library/Caches/pypoetry/virtualenvs/iblm-L6oop2Mj-py3.9/lib/python3.9/site-packages/sklearn/metrics/_classification.py:86\u001b[0m, in \u001b[0;36m_check_targets\u001b[0;34m(y_true, y_pred)\u001b[0m\n\u001b[1;32m     59\u001b[0m \u001b[39mdef\u001b[39;00m \u001b[39m_check_targets\u001b[39m(y_true, y_pred):\n\u001b[1;32m     60\u001b[0m \u001b[39m    \u001b[39m\u001b[39m\"\"\"Check that y_true and y_pred belong to the same classification task.\u001b[39;00m\n\u001b[1;32m     61\u001b[0m \n\u001b[1;32m     62\u001b[0m \u001b[39m    This converts multiclass or binary types to a common shape, and raises a\u001b[39;00m\n\u001b[0;32m   (...)\u001b[0m\n\u001b[1;32m     84\u001b[0m \u001b[39m    y_pred : array or indicator matrix\u001b[39;00m\n\u001b[1;32m     85\u001b[0m \u001b[39m    \"\"\"\u001b[39;00m\n\u001b[0;32m---> 86\u001b[0m     check_consistent_length(y_true, y_pred)\n\u001b[1;32m     87\u001b[0m     type_true \u001b[39m=\u001b[39m type_of_target(y_true, input_name\u001b[39m=\u001b[39m\u001b[39m\"\u001b[39m\u001b[39my_true\u001b[39m\u001b[39m\"\u001b[39m)\n\u001b[1;32m     88\u001b[0m     type_pred \u001b[39m=\u001b[39m type_of_target(y_pred, input_name\u001b[39m=\u001b[39m\u001b[39m\"\u001b[39m\u001b[39my_pred\u001b[39m\u001b[39m\"\u001b[39m)\n",
      "File \u001b[0;32m~/Library/Caches/pypoetry/virtualenvs/iblm-L6oop2Mj-py3.9/lib/python3.9/site-packages/sklearn/utils/validation.py:397\u001b[0m, in \u001b[0;36mcheck_consistent_length\u001b[0;34m(*arrays)\u001b[0m\n\u001b[1;32m    395\u001b[0m uniques \u001b[39m=\u001b[39m np\u001b[39m.\u001b[39munique(lengths)\n\u001b[1;32m    396\u001b[0m \u001b[39mif\u001b[39;00m \u001b[39mlen\u001b[39m(uniques) \u001b[39m>\u001b[39m \u001b[39m1\u001b[39m:\n\u001b[0;32m--> 397\u001b[0m     \u001b[39mraise\u001b[39;00m \u001b[39mValueError\u001b[39;00m(\n\u001b[1;32m    398\u001b[0m         \u001b[39m\"\u001b[39m\u001b[39mFound input variables with inconsistent numbers of samples: \u001b[39m\u001b[39m%r\u001b[39;00m\u001b[39m\"\u001b[39m\n\u001b[1;32m    399\u001b[0m         \u001b[39m%\u001b[39m [\u001b[39mint\u001b[39m(l) \u001b[39mfor\u001b[39;00m l \u001b[39min\u001b[39;00m lengths]\n\u001b[1;32m    400\u001b[0m     )\n",
      "\u001b[0;31mValueError\u001b[0m: Found input variables with inconsistent numbers of samples: [700, 300]"
     ]
    }
   ],
   "source": [
    "accuracy = accuracy_score(y_test, y_pred)\n",
    "print(f'Accuracy: {accuracy}')\n",
    "\n",
    "# Precision\n",
    "precision = precision_score(y_test, y_pred)\n",
    "print(f'Precision: {precision}')\n",
    "\n",
    "# Recall\n",
    "recall = recall_score(y_test, y_pred)\n",
    "print(f'Recall: {recall}')\n",
    "\n",
    "# F1 score\n",
    "f1 = f1_score(y_test, y_pred)\n",
    "print(f'F1 score: {f1}')\n",
    "\n",
    "# ROC-AUC (you need prediction probabilities for this, not just class predictions)\n",
    "# Here we just reuse y_pred for simplicity\n",
    "roc_auc = roc_auc_score(y_test, y_proba)\n",
    "print(f'ROC-AUC: {roc_auc}')"
   ]
  },
  {
   "cell_type": "code",
   "execution_count": null,
   "metadata": {},
   "outputs": [],
   "source": []
  }
 ],
 "metadata": {
  "kernelspec": {
   "display_name": "Python 3.9.10 ('iblm-L6oop2Mj-py3.9')",
   "language": "python",
   "name": "python3"
  },
  "language_info": {
   "codemirror_mode": {
    "name": "ipython",
    "version": 3
   },
   "file_extension": ".py",
   "mimetype": "text/x-python",
   "name": "python",
   "nbconvert_exporter": "python",
   "pygments_lexer": "ipython3",
   "version": "3.9.10"
  },
  "orig_nbformat": 4,
  "vscode": {
   "interpreter": {
    "hash": "67008fb9323ab6c1c90f5d9822582dbef34eff0db475eec3af4e0e9456757ebf"
   }
  }
 },
 "nbformat": 4,
 "nbformat_minor": 2
}

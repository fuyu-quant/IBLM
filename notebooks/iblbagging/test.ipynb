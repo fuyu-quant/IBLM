{
 "cells": [
  {
   "cell_type": "code",
   "execution_count": 1,
   "metadata": {},
   "outputs": [],
   "source": [
    "%%capture\n",
    "%pip install --upgrade iblm"
   ]
  },
  {
   "cell_type": "code",
   "execution_count": 2,
   "metadata": {},
   "outputs": [
    {
     "name": "stdout",
     "output_type": "stream",
     "text": [
      "iblm                         0.3.54\n",
      "\n",
      "\u001b[1m[\u001b[0m\u001b[34;49mnotice\u001b[0m\u001b[1;39;49m]\u001b[0m\u001b[39;49m A new release of pip is available: \u001b[0m\u001b[31;49m23.1.2\u001b[0m\u001b[39;49m -> \u001b[0m\u001b[32;49m24.0\u001b[0m\n",
      "\u001b[1m[\u001b[0m\u001b[34;49mnotice\u001b[0m\u001b[1;39;49m]\u001b[0m\u001b[39;49m To update, run: \u001b[0m\u001b[32;49mpip install --upgrade pip\u001b[0m\n",
      "Note: you may need to restart the kernel to use updated packages.\n"
     ]
    }
   ],
   "source": [
    "%pip list | grep iblm"
   ]
  },
  {
   "cell_type": "code",
   "execution_count": 3,
   "metadata": {},
   "outputs": [],
   "source": [
    "import sys\n",
    "sys.path.append(\"../..\")\n",
    "import pandas as pd\n",
    "import numpy as np\n",
    "\n",
    "import iblm\n",
    "#from src.iblm.iblbagging.iblbagging import IBLBaggingModel\n",
    "from sklearn.datasets import make_classification"
   ]
  },
  {
   "cell_type": "code",
   "execution_count": 10,
   "metadata": {},
   "outputs": [],
   "source": [
    "num_train_data = 10000 # 50〜300\n",
    "num_test_data = 1000\n",
    "sample = num_train_data + num_test_data\n",
    "n_informative = 2\n",
    "n_redundant = 0\n",
    "n_features = n_informative + n_redundant\n",
    "weights = [0.5, 0.5]\n",
    "flip_y=0\n",
    "seed = 3655  # 3655,3656,3657\n",
    "\n",
    "# testデータの個数を揃えるためにtrain_test_splitを使っていない\n",
    "x, y = make_classification(\n",
    "    n_samples = sample,  # データ数\n",
    "    n_features = n_features,  # 特徴量の数\n",
    "    n_informative = n_informative,  # ラベル予測に意味のある特徴量の数\n",
    "    n_redundant = n_redundant,  # 冗長な特徴量\n",
    "    weights = weights,  # [0,1]の割合\n",
    "    flip_y = flip_y, # 逆のラベルに反転する割合\n",
    "    random_state = seed\n",
    "    )\n",
    "\n",
    "x = np.round(x, decimals=3)\n",
    "x = pd.DataFrame(x)\n",
    "y = y.astype(int)\n",
    "\n",
    "x_test = x[0:num_test_data]\n",
    "x_train = x[num_test_data:]\n",
    "\n",
    "y_test = y[:num_test_data]\n",
    "y_train = y[num_test_data:]"
   ]
  },
  {
   "cell_type": "code",
   "execution_count": 11,
   "metadata": {},
   "outputs": [],
   "source": [
    "iblbg = iblm.IBLBaggingModel(\n",
    "    api_type=\"openai\",\n",
    "    #api_type=\"gemini\",\n",
    "    model_name=\"gpt-4-0125-preview\",\n",
    "    #model_name=\"gemini-pro\",\n",
    "    objective=\"binary\",\n",
    "    num_model=20,\n",
    "    max_sample = 2000,\n",
    "    min_sample = 300,\n",
    "    )"
   ]
  },
  {
   "cell_type": "code",
   "execution_count": 12,
   "metadata": {},
   "outputs": [
    {
     "name": "stdout",
     "output_type": "stream",
     "text": [
      "model_1\n"
     ]
    },
    {
     "name": "stderr",
     "output_type": "stream",
     "text": [
      "2024-02-16 03:29:57,345 [iblm.ibl][INFO] (ibl:ibl.py:fit:150)\n"
     ]
    },
    {
     "name": "stdout",
     "output_type": "stream",
     "text": [
      "#########\n",
      "def predict(x):\n",
      "    import numpy as np\n",
      "\n",
      "    df = x.copy()\n",
      "    output = []\n",
      "    for index, row in df.iterrows():\n",
      "        # Custom simple logistic regression-like model\n",
      "        # Coefficients are manually adjusted based on the dataset characteristics\n",
      "        # Intercept\n",
      "        b0 = 0.5\n",
      "        # Coefficients for the features\n",
      "        b1, b2 = 0.1, 0.15\n",
      "        \n",
      "        # Linear combination of input features\n",
      "        linear_combination = b0 + b1*row[0] + b2*row[1]\n",
      "        # Sigmoid function to map the linear combination to (0,1)\n",
      "        y = 1 / (1 + np.exp(-linear_combination))\n",
      "        \n",
      "        output.append(y)\n",
      "    return np.array(output)\n",
      "#########\n",
      "model_2\n"
     ]
    }
   ],
   "source": [
    "code_models = iblbg.fit(\n",
    "    x_train,\n",
    "    y_train,\n",
    "    temperature=0.3\n",
    "    )"
   ]
  },
  {
   "cell_type": "code",
   "execution_count": null,
   "metadata": {},
   "outputs": [],
   "source": [
    "code_models"
   ]
  },
  {
   "cell_type": "code",
   "execution_count": null,
   "metadata": {},
   "outputs": [
    {
     "name": "stdout",
     "output_type": "stream",
     "text": [
      "{'roc_auc': 0.9049601339148055, 'pr_auc': 0.8784086458731357, 'accuracy': 0.811, 'recall': 0.9439071566731141, 'precision': 0.7530864197530864, 'f1_score': 0.8377682403433476}\n",
      "{'roc_auc': 0.9049601339148055, 'pr_auc': 0.8784086458731357, 'accuracy': 0.811, 'recall': 0.9439071566731141, 'precision': 0.7530864197530864, 'f1_score': 0.8377682403433476}\n",
      "{'roc_auc': 0.9049601339148055, 'pr_auc': 0.878409322056068, 'accuracy': 0.811, 'recall': 0.9439071566731141, 'precision': 0.7530864197530864, 'f1_score': 0.8377682403433476}\n",
      "{'roc_auc': 0.903412344670439, 'pr_auc': 0.875054736147716, 'accuracy': 0.791, 'recall': 0.9497098646034816, 'precision': 0.728486646884273, 'f1_score': 0.8245172124265323}\n",
      "{'roc_auc': 0.900949497619248, 'pr_auc': 0.8714041633628898, 'accuracy': 0.825, 'recall': 0.9323017408123792, 'precision': 0.77491961414791, 'f1_score': 0.8463564530289728}\n",
      "{'roc_auc': 0.8959397063004835, 'pr_auc': 0.8657062797864831, 'accuracy': 0.825, 'recall': 0.9226305609284333, 'precision': 0.7794117647058824, 'f1_score': 0.8449955713020372}\n",
      "{'roc_auc': 0.8953910720793237, 'pr_auc': 0.8644132666705222, 'accuracy': 0.819, 'recall': 0.9303675048355899, 'precision': 0.768370607028754, 'f1_score': 0.8416447944007}\n",
      "{'roc_auc': 0.8899968363428123, 'pr_auc': 0.8560997531257202, 'accuracy': 0.834, 'recall': 0.9129593810444874, 'precision': 0.7959527824620574, 'f1_score': 0.8504504504504504}\n",
      "{'roc_auc': 0.889239961395373, 'pr_auc': 0.8541306821224404, 'accuracy': 0.818, 'recall': 0.9148936170212766, 'precision': 0.7741407528641571, 'f1_score': 0.8386524822695035}\n"
     ]
    }
   ],
   "source": [
    "top_model = 20\n",
    "\n",
    "for i in range(1, top_model):\n",
    "    y_pred = iblbg.predict_(x_test, i)\n",
    "    print(iblbg.evaluate(y_test, y_pred))"
   ]
  },
  {
   "cell_type": "code",
   "execution_count": null,
   "metadata": {},
   "outputs": [],
   "source": []
  }
 ],
 "metadata": {
  "kernelspec": {
   "display_name": ".venv",
   "language": "python",
   "name": "python3"
  },
  "language_info": {
   "codemirror_mode": {
    "name": "ipython",
    "version": 3
   },
   "file_extension": ".py",
   "mimetype": "text/x-python",
   "name": "python",
   "nbconvert_exporter": "python",
   "pygments_lexer": "ipython3",
   "version": "3.9.18"
  }
 },
 "nbformat": 4,
 "nbformat_minor": 2
}

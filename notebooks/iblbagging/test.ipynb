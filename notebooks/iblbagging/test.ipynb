{
 "cells": [
  {
   "cell_type": "code",
   "execution_count": 1,
   "metadata": {},
   "outputs": [],
   "source": [
    "%%capture\n",
    "%pip install iblm --upgrade"
   ]
  },
  {
   "cell_type": "code",
   "execution_count": 2,
   "metadata": {},
   "outputs": [
    {
     "name": "stdout",
     "output_type": "stream",
     "text": [
      "iblm                         0.3.55\n",
      "\n",
      "\u001b[1m[\u001b[0m\u001b[34;49mnotice\u001b[0m\u001b[1;39;49m]\u001b[0m\u001b[39;49m A new release of pip is available: \u001b[0m\u001b[31;49m23.1.2\u001b[0m\u001b[39;49m -> \u001b[0m\u001b[32;49m24.0\u001b[0m\n",
      "\u001b[1m[\u001b[0m\u001b[34;49mnotice\u001b[0m\u001b[1;39;49m]\u001b[0m\u001b[39;49m To update, run: \u001b[0m\u001b[32;49mpip install --upgrade pip\u001b[0m\n",
      "Note: you may need to restart the kernel to use updated packages.\n"
     ]
    }
   ],
   "source": [
    "%pip list | grep iblm"
   ]
  },
  {
   "cell_type": "code",
   "execution_count": 3,
   "metadata": {},
   "outputs": [],
   "source": [
    "import pandas as pd\n",
    "import numpy as np\n",
    "\n",
    "import iblm\n",
    "from sklearn.datasets import make_classification"
   ]
  },
  {
   "cell_type": "code",
   "execution_count": 4,
   "metadata": {},
   "outputs": [],
   "source": [
    "num_train_data = 10000 # 50〜300\n",
    "num_test_data = 1000\n",
    "sample = num_train_data + num_test_data\n",
    "n_informative = 2\n",
    "n_redundant = 0\n",
    "n_features = n_informative + n_redundant\n",
    "weights = [0.5, 0.5]\n",
    "flip_y=0\n",
    "seed = 3655  # 3655,3656,3657\n",
    "\n",
    "# testデータの個数を揃えるためにtrain_test_splitを使っていない\n",
    "x, y = make_classification(\n",
    "    n_samples = sample,  # データ数\n",
    "    n_features = n_features,  # 特徴量の数\n",
    "    n_informative = n_informative,  # ラベル予測に意味のある特徴量の数\n",
    "    n_redundant = n_redundant,  # 冗長な特徴量\n",
    "    weights = weights,  # [0,1]の割合\n",
    "    flip_y = flip_y, # 逆のラベルに反転する割合\n",
    "    random_state = seed\n",
    "    )\n",
    "\n",
    "x = np.round(x, decimals=3)\n",
    "x = pd.DataFrame(x)\n",
    "y = y.astype(int)\n",
    "\n",
    "x_test = x[0:num_test_data]\n",
    "x_train = x[num_test_data:]\n",
    "\n",
    "y_test = y[:num_test_data]\n",
    "y_train = y[num_test_data:]"
   ]
  },
  {
   "cell_type": "code",
   "execution_count": 5,
   "metadata": {},
   "outputs": [],
   "source": [
    "iblbg = iblm.IBLBaggingModel(\n",
    "    api_type=\"openai\",\n",
    "    #api_type=\"gemini\",\n",
    "    model_name=\"gpt-4-0125-preview\",\n",
    "    #model_name=\"gemini-pro\",\n",
    "    objective=\"binary\",\n",
    "    num_model=20,\n",
    "    max_sample = 2000,\n",
    "    min_sample = 300,\n",
    "    )"
   ]
  },
  {
   "cell_type": "code",
   "execution_count": 6,
   "metadata": {},
   "outputs": [
    {
     "name": "stdout",
     "output_type": "stream",
     "text": [
      "model_1\n"
     ]
    },
    {
     "name": "stderr",
     "output_type": "stream",
     "text": [
      "2024-03-10 15:24:23,117 [iblm.ibl][INFO] (ibl:ibl.py:fit:150)\n"
     ]
    },
    {
     "name": "stdout",
     "output_type": "stream",
     "text": [
      "model_2\n"
     ]
    },
    {
     "name": "stderr",
     "output_type": "stream",
     "text": [
      "2024-03-10 15:24:28,876 [iblm.ibl][INFO] (ibl:ibl.py:fit:150)\n"
     ]
    },
    {
     "name": "stdout",
     "output_type": "stream",
     "text": [
      "model_3\n",
      "Error: ['Traceback (most recent call last):\\n', '  File \"/Users/tanakatouma/vscode/IBLM/.venv/lib/python3.9/site-packages/iblm/iblbagging/iblbagging.py\", line 82, in fit\\n    bagging_model = super().fit(\\n', '  File \"/Users/tanakatouma/vscode/IBLM/.venv/lib/python3.9/site-packages/iblm/ibl.py\", line 142, in fit\\n    code_model = self._run_prompt(prompt=prompt_, seed=seed, temperature=temperature)\\n', '  File \"/Users/tanakatouma/vscode/IBLM/.venv/lib/python3.9/site-packages/iblm/ibl.py\", line 109, in _run_prompt\\n    return run_prompt(\\n', '  File \"/Users/tanakatouma/vscode/IBLM/.venv/lib/python3.9/site-packages/iblm/llm_client.py\", line 84, in run_prompt\\n    response = model.generate_content(prompt)\\n', '  File \"/Users/tanakatouma/vscode/IBLM/.venv/lib/python3.9/site-packages/google/generativeai/generative_models.py\", line 248, in generate_content\\n    response = self._client.generate_content(request)\\n', '  File \"/Users/tanakatouma/vscode/IBLM/.venv/lib/python3.9/site-packages/google/ai/generativelanguage_v1beta/services/generative_service/client.py\", line 566, in generate_content\\n    response = rpc(\\n', '  File \"/Users/tanakatouma/vscode/IBLM/.venv/lib/python3.9/site-packages/google/api_core/gapic_v1/method.py\", line 131, in __call__\\n    return wrapped_func(*args, **kwargs)\\n', '  File \"/Users/tanakatouma/vscode/IBLM/.venv/lib/python3.9/site-packages/google/api_core/retry/retry_unary.py\", line 293, in retry_wrapped_func\\n    return retry_target(\\n', '  File \"/Users/tanakatouma/vscode/IBLM/.venv/lib/python3.9/site-packages/google/api_core/retry/retry_unary.py\", line 153, in retry_target\\n    _retry_error_helper(\\n', '  File \"/Users/tanakatouma/vscode/IBLM/.venv/lib/python3.9/site-packages/google/api_core/retry/retry_base.py\", line 212, in _retry_error_helper\\n    raise final_exc from source_exc\\n', '  File \"/Users/tanakatouma/vscode/IBLM/.venv/lib/python3.9/site-packages/google/api_core/retry/retry_unary.py\", line 144, in retry_target\\n    result = target()\\n', '  File \"/Users/tanakatouma/vscode/IBLM/.venv/lib/python3.9/site-packages/google/api_core/timeout.py\", line 120, in func_with_timeout\\n    return func(*args, **kwargs)\\n', '  File \"/Users/tanakatouma/vscode/IBLM/.venv/lib/python3.9/site-packages/google/api_core/grpc_helpers.py\", line 78, in error_remapped_callable\\n    raise exceptions.from_grpc_error(exc) from exc\\n', 'google.api_core.exceptions.InternalServerError: 500 An internal error has occurred. Please retry or report in https://developers.generativeai.google/guide/troubleshooting\\n']\n",
      "model_4\n"
     ]
    },
    {
     "name": "stderr",
     "output_type": "stream",
     "text": [
      "2024-03-10 15:24:35,146 [iblm.ibl][INFO] (ibl:ibl.py:fit:150)\n"
     ]
    },
    {
     "name": "stdout",
     "output_type": "stream",
     "text": [
      "model_5\n"
     ]
    },
    {
     "name": "stderr",
     "output_type": "stream",
     "text": [
      "2024-03-10 15:24:46,945 [iblm.ibl][INFO] (ibl:ibl.py:fit:150)\n"
     ]
    },
    {
     "name": "stdout",
     "output_type": "stream",
     "text": [
      "model_6\n"
     ]
    },
    {
     "name": "stderr",
     "output_type": "stream",
     "text": [
      "2024-03-10 15:24:57,167 [iblm.ibl][ERROR] (ibl:ibl.py:predict:170)\n",
      "Traceback (most recent call last):\n",
      "  File \"/Users/tanakatouma/vscode/IBLM/.venv/lib/python3.9/site-packages/pandas/core/indexes/range.py\", line 385, in get_loc\n",
      "    return self._range.index(new_key)\n",
      "ValueError: 2 is not in range\n",
      "\n",
      "The above exception was the direct cause of the following exception:\n",
      "\n",
      "Traceback (most recent call last):\n",
      "  File \"/Users/tanakatouma/vscode/IBLM/.venv/lib/python3.9/site-packages/iblm/ibl.py\", line 168, in predict\n",
      "    y = _code_space[\"predict\"](X)\n",
      "  File \"<string>\", line 15, in predict\n",
      "  File \"/Users/tanakatouma/vscode/IBLM/.venv/lib/python3.9/site-packages/pandas/core/series.py\", line 959, in __getitem__\n",
      "    return self._get_value(key)\n",
      "  File \"/Users/tanakatouma/vscode/IBLM/.venv/lib/python3.9/site-packages/pandas/core/series.py\", line 1070, in _get_value\n",
      "    loc = self.index.get_loc(label)\n",
      "  File \"/Users/tanakatouma/vscode/IBLM/.venv/lib/python3.9/site-packages/pandas/core/indexes/range.py\", line 387, in get_loc\n",
      "    raise KeyError(key) from err\n",
      "KeyError: 2\n"
     ]
    },
    {
     "name": "stdout",
     "output_type": "stream",
     "text": [
      "Error: ['Traceback (most recent call last):\\n', '  File \"/Users/tanakatouma/vscode/IBLM/.venv/lib/python3.9/site-packages/pandas/core/indexes/range.py\", line 385, in get_loc\\n    return self._range.index(new_key)\\n', 'ValueError: 2 is not in range\\n', '\\nThe above exception was the direct cause of the following exception:\\n\\n', 'Traceback (most recent call last):\\n', '  File \"/Users/tanakatouma/vscode/IBLM/.venv/lib/python3.9/site-packages/iblm/ibl.py\", line 168, in predict\\n    y = _code_space[\"predict\"](X)\\n', '  File \"<string>\", line 15, in predict\\n', '  File \"/Users/tanakatouma/vscode/IBLM/.venv/lib/python3.9/site-packages/pandas/core/series.py\", line 959, in __getitem__\\n    return self._get_value(key)\\n', '  File \"/Users/tanakatouma/vscode/IBLM/.venv/lib/python3.9/site-packages/pandas/core/series.py\", line 1070, in _get_value\\n    loc = self.index.get_loc(label)\\n', '  File \"/Users/tanakatouma/vscode/IBLM/.venv/lib/python3.9/site-packages/pandas/core/indexes/range.py\", line 387, in get_loc\\n    raise KeyError(key) from err\\n', 'KeyError: 2\\n', '\\nThe above exception was the direct cause of the following exception:\\n\\n', 'Traceback (most recent call last):\\n', '  File \"/Users/tanakatouma/vscode/IBLM/.venv/lib/python3.9/site-packages/iblm/iblbagging/iblbagging.py\", line 82, in fit\\n    bagging_model = super().fit(\\n', '  File \"/Users/tanakatouma/vscode/IBLM/.venv/lib/python3.9/site-packages/iblm/ibl.py\", line 149, in fit\\n    self.predict(X.head(1))\\n', '  File \"/Users/tanakatouma/vscode/IBLM/.venv/lib/python3.9/site-packages/iblm/ibl.py\", line 171, in predict\\n    raise InvalidCodeModelError(\"Failed to execute `predict` function in code_model\") from err\\n', 'iblm.exceptions.InvalidCodeModelError: Failed to execute `predict` function in code_model\\n']\n",
      "model_7\n"
     ]
    },
    {
     "name": "stderr",
     "output_type": "stream",
     "text": [
      "2024-03-10 15:25:04,253 [iblm.ibl][INFO] (ibl:ibl.py:fit:150)\n"
     ]
    },
    {
     "name": "stdout",
     "output_type": "stream",
     "text": [
      "model_8\n"
     ]
    },
    {
     "name": "stderr",
     "output_type": "stream",
     "text": [
      "2024-03-10 15:25:14,597 [iblm.ibl][INFO] (ibl:ibl.py:fit:150)\n"
     ]
    },
    {
     "name": "stdout",
     "output_type": "stream",
     "text": [
      "model_9\n"
     ]
    },
    {
     "name": "stderr",
     "output_type": "stream",
     "text": [
      "2024-03-10 15:25:20,541 [iblm.ibl][INFO] (ibl:ibl.py:fit:150)\n"
     ]
    },
    {
     "name": "stdout",
     "output_type": "stream",
     "text": [
      "model_10\n"
     ]
    },
    {
     "name": "stderr",
     "output_type": "stream",
     "text": [
      "2024-03-10 15:25:31,136 [iblm.ibl][INFO] (ibl:ibl.py:fit:150)\n",
      "/Users/tanakatouma/vscode/IBLM/.venv/lib/python3.9/site-packages/sklearn/metrics/_classification.py:1509: UndefinedMetricWarning: Precision is ill-defined and being set to 0.0 due to no predicted samples. Use `zero_division` parameter to control this behavior.\n",
      "  _warn_prf(average, modifier, f\"{metric.capitalize()} is\", len(result))\n"
     ]
    },
    {
     "name": "stdout",
     "output_type": "stream",
     "text": [
      "model_11\n",
      "Error: ['Traceback (most recent call last):\\n', '  File \"/Users/tanakatouma/vscode/IBLM/.venv/lib/python3.9/site-packages/iblm/iblbagging/iblbagging.py\", line 82, in fit\\n    bagging_model = super().fit(\\n', '  File \"/Users/tanakatouma/vscode/IBLM/.venv/lib/python3.9/site-packages/iblm/ibl.py\", line 142, in fit\\n    code_model = self._run_prompt(prompt=prompt_, seed=seed, temperature=temperature)\\n', '  File \"/Users/tanakatouma/vscode/IBLM/.venv/lib/python3.9/site-packages/iblm/ibl.py\", line 109, in _run_prompt\\n    return run_prompt(\\n', '  File \"/Users/tanakatouma/vscode/IBLM/.venv/lib/python3.9/site-packages/iblm/llm_client.py\", line 84, in run_prompt\\n    response = model.generate_content(prompt)\\n', '  File \"/Users/tanakatouma/vscode/IBLM/.venv/lib/python3.9/site-packages/google/generativeai/generative_models.py\", line 248, in generate_content\\n    response = self._client.generate_content(request)\\n', '  File \"/Users/tanakatouma/vscode/IBLM/.venv/lib/python3.9/site-packages/google/ai/generativelanguage_v1beta/services/generative_service/client.py\", line 566, in generate_content\\n    response = rpc(\\n', '  File \"/Users/tanakatouma/vscode/IBLM/.venv/lib/python3.9/site-packages/google/api_core/gapic_v1/method.py\", line 131, in __call__\\n    return wrapped_func(*args, **kwargs)\\n', '  File \"/Users/tanakatouma/vscode/IBLM/.venv/lib/python3.9/site-packages/google/api_core/retry/retry_unary.py\", line 293, in retry_wrapped_func\\n    return retry_target(\\n', '  File \"/Users/tanakatouma/vscode/IBLM/.venv/lib/python3.9/site-packages/google/api_core/retry/retry_unary.py\", line 153, in retry_target\\n    _retry_error_helper(\\n', '  File \"/Users/tanakatouma/vscode/IBLM/.venv/lib/python3.9/site-packages/google/api_core/retry/retry_base.py\", line 212, in _retry_error_helper\\n    raise final_exc from source_exc\\n', '  File \"/Users/tanakatouma/vscode/IBLM/.venv/lib/python3.9/site-packages/google/api_core/retry/retry_unary.py\", line 144, in retry_target\\n    result = target()\\n', '  File \"/Users/tanakatouma/vscode/IBLM/.venv/lib/python3.9/site-packages/google/api_core/timeout.py\", line 120, in func_with_timeout\\n    return func(*args, **kwargs)\\n', '  File \"/Users/tanakatouma/vscode/IBLM/.venv/lib/python3.9/site-packages/google/api_core/grpc_helpers.py\", line 78, in error_remapped_callable\\n    raise exceptions.from_grpc_error(exc) from exc\\n', 'google.api_core.exceptions.InternalServerError: 500 An internal error has occurred. Please retry or report in https://developers.generativeai.google/guide/troubleshooting\\n']\n",
      "model_12\n"
     ]
    },
    {
     "name": "stderr",
     "output_type": "stream",
     "text": [
      "2024-03-10 15:25:41,333 [iblm.ibl][INFO] (ibl:ibl.py:fit:150)\n",
      "/Users/tanakatouma/vscode/IBLM/.venv/lib/python3.9/site-packages/sklearn/metrics/_classification.py:1509: UndefinedMetricWarning: Precision is ill-defined and being set to 0.0 due to no predicted samples. Use `zero_division` parameter to control this behavior.\n",
      "  _warn_prf(average, modifier, f\"{metric.capitalize()} is\", len(result))\n"
     ]
    },
    {
     "name": "stdout",
     "output_type": "stream",
     "text": [
      "model_13\n"
     ]
    },
    {
     "name": "stderr",
     "output_type": "stream",
     "text": [
      "2024-03-10 15:26:14,607 [iblm.ibl][ERROR] (ibl:ibl.py:predict:164)\n",
      "Traceback (most recent call last):\n",
      "  File \"/Users/tanakatouma/vscode/IBLM/.venv/lib/python3.9/site-packages/iblm/ibl.py\", line 162, in predict\n",
      "    exec(self.code_model, globals(), _code_space)\n",
      "  File \"<string>\", line 124\n",
      "    elif row[0\n",
      "              ^\n",
      "SyntaxError: unexpected EOF while parsing\n"
     ]
    },
    {
     "name": "stdout",
     "output_type": "stream",
     "text": [
      "Error: ['Traceback (most recent call last):\\n', '  File \"/Users/tanakatouma/vscode/IBLM/.venv/lib/python3.9/site-packages/iblm/ibl.py\", line 162, in predict\\n    exec(self.code_model, globals(), _code_space)\\n', '  File \"<string>\", line 124\\n', '    elif row[0\\n', '              ^\\n', 'SyntaxError: unexpected EOF while parsing\\n', '\\nThe above exception was the direct cause of the following exception:\\n\\n', 'Traceback (most recent call last):\\n', '  File \"/Users/tanakatouma/vscode/IBLM/.venv/lib/python3.9/site-packages/iblm/iblbagging/iblbagging.py\", line 82, in fit\\n    bagging_model = super().fit(\\n', '  File \"/Users/tanakatouma/vscode/IBLM/.venv/lib/python3.9/site-packages/iblm/ibl.py\", line 149, in fit\\n    self.predict(X.head(1))\\n', '  File \"/Users/tanakatouma/vscode/IBLM/.venv/lib/python3.9/site-packages/iblm/ibl.py\", line 165, in predict\\n    raise InvalidCodeModelError(\"Failed to execute `exec code_model`\") from err\\n', 'iblm.exceptions.InvalidCodeModelError: Failed to execute `exec code_model`\\n']\n",
      "model_14\n"
     ]
    },
    {
     "name": "stderr",
     "output_type": "stream",
     "text": [
      "2024-03-10 15:26:19,161 [iblm.ibl][INFO] (ibl:ibl.py:fit:150)\n",
      "/Users/tanakatouma/vscode/IBLM/.venv/lib/python3.9/site-packages/sklearn/metrics/_classification.py:1509: UndefinedMetricWarning: Precision is ill-defined and being set to 0.0 due to no predicted samples. Use `zero_division` parameter to control this behavior.\n",
      "  _warn_prf(average, modifier, f\"{metric.capitalize()} is\", len(result))\n"
     ]
    },
    {
     "name": "stdout",
     "output_type": "stream",
     "text": [
      "model_15\n"
     ]
    },
    {
     "name": "stderr",
     "output_type": "stream",
     "text": [
      "2024-03-10 15:26:52,375 [iblm.ibl][ERROR] (ibl:ibl.py:predict:164)\n",
      "Traceback (most recent call last):\n",
      "  File \"/Users/tanakatouma/vscode/IBLM/.venv/lib/python3.9/site-packages/iblm/ibl.py\", line 162, in predict\n",
      "    exec(self.code_model, globals(), _code_space)\n",
      "  File \"<string>\", line 158\n",
      "    elif row[0] <= 0.369\n",
      "                        ^\n",
      "SyntaxError: invalid syntax\n"
     ]
    },
    {
     "name": "stdout",
     "output_type": "stream",
     "text": [
      "Error: ['Traceback (most recent call last):\\n', '  File \"/Users/tanakatouma/vscode/IBLM/.venv/lib/python3.9/site-packages/iblm/ibl.py\", line 162, in predict\\n    exec(self.code_model, globals(), _code_space)\\n', '  File \"<string>\", line 158\\n', '    elif row[0] <= 0.369\\n', '                        ^\\n', 'SyntaxError: invalid syntax\\n', '\\nThe above exception was the direct cause of the following exception:\\n\\n', 'Traceback (most recent call last):\\n', '  File \"/Users/tanakatouma/vscode/IBLM/.venv/lib/python3.9/site-packages/iblm/iblbagging/iblbagging.py\", line 82, in fit\\n    bagging_model = super().fit(\\n', '  File \"/Users/tanakatouma/vscode/IBLM/.venv/lib/python3.9/site-packages/iblm/ibl.py\", line 149, in fit\\n    self.predict(X.head(1))\\n', '  File \"/Users/tanakatouma/vscode/IBLM/.venv/lib/python3.9/site-packages/iblm/ibl.py\", line 165, in predict\\n    raise InvalidCodeModelError(\"Failed to execute `exec code_model`\") from err\\n', 'iblm.exceptions.InvalidCodeModelError: Failed to execute `exec code_model`\\n']\n",
      "model_16\n"
     ]
    },
    {
     "name": "stderr",
     "output_type": "stream",
     "text": [
      "2024-03-10 15:27:02,284 [iblm.ibl][ERROR] (ibl:ibl.py:predict:170)\n",
      "Traceback (most recent call last):\n",
      "  File \"/Users/tanakatouma/vscode/IBLM/.venv/lib/python3.9/site-packages/pandas/core/indexes/range.py\", line 385, in get_loc\n",
      "    return self._range.index(new_key)\n",
      "ValueError: 2 is not in range\n",
      "\n",
      "The above exception was the direct cause of the following exception:\n",
      "\n",
      "Traceback (most recent call last):\n",
      "  File \"/Users/tanakatouma/vscode/IBLM/.venv/lib/python3.9/site-packages/iblm/ibl.py\", line 168, in predict\n",
      "    y = _code_space[\"predict\"](X)\n",
      "  File \"<string>\", line 15, in predict\n",
      "  File \"/Users/tanakatouma/vscode/IBLM/.venv/lib/python3.9/site-packages/pandas/core/series.py\", line 959, in __getitem__\n",
      "    return self._get_value(key)\n",
      "  File \"/Users/tanakatouma/vscode/IBLM/.venv/lib/python3.9/site-packages/pandas/core/series.py\", line 1070, in _get_value\n",
      "    loc = self.index.get_loc(label)\n",
      "  File \"/Users/tanakatouma/vscode/IBLM/.venv/lib/python3.9/site-packages/pandas/core/indexes/range.py\", line 387, in get_loc\n",
      "    raise KeyError(key) from err\n",
      "KeyError: 2\n"
     ]
    },
    {
     "name": "stdout",
     "output_type": "stream",
     "text": [
      "Error: ['Traceback (most recent call last):\\n', '  File \"/Users/tanakatouma/vscode/IBLM/.venv/lib/python3.9/site-packages/pandas/core/indexes/range.py\", line 385, in get_loc\\n    return self._range.index(new_key)\\n', 'ValueError: 2 is not in range\\n', '\\nThe above exception was the direct cause of the following exception:\\n\\n', 'Traceback (most recent call last):\\n', '  File \"/Users/tanakatouma/vscode/IBLM/.venv/lib/python3.9/site-packages/iblm/ibl.py\", line 168, in predict\\n    y = _code_space[\"predict\"](X)\\n', '  File \"<string>\", line 15, in predict\\n', '  File \"/Users/tanakatouma/vscode/IBLM/.venv/lib/python3.9/site-packages/pandas/core/series.py\", line 959, in __getitem__\\n    return self._get_value(key)\\n', '  File \"/Users/tanakatouma/vscode/IBLM/.venv/lib/python3.9/site-packages/pandas/core/series.py\", line 1070, in _get_value\\n    loc = self.index.get_loc(label)\\n', '  File \"/Users/tanakatouma/vscode/IBLM/.venv/lib/python3.9/site-packages/pandas/core/indexes/range.py\", line 387, in get_loc\\n    raise KeyError(key) from err\\n', 'KeyError: 2\\n', '\\nThe above exception was the direct cause of the following exception:\\n\\n', 'Traceback (most recent call last):\\n', '  File \"/Users/tanakatouma/vscode/IBLM/.venv/lib/python3.9/site-packages/iblm/iblbagging/iblbagging.py\", line 82, in fit\\n    bagging_model = super().fit(\\n', '  File \"/Users/tanakatouma/vscode/IBLM/.venv/lib/python3.9/site-packages/iblm/ibl.py\", line 149, in fit\\n    self.predict(X.head(1))\\n', '  File \"/Users/tanakatouma/vscode/IBLM/.venv/lib/python3.9/site-packages/iblm/ibl.py\", line 171, in predict\\n    raise InvalidCodeModelError(\"Failed to execute `predict` function in code_model\") from err\\n', 'iblm.exceptions.InvalidCodeModelError: Failed to execute `predict` function in code_model\\n']\n",
      "model_17\n"
     ]
    },
    {
     "name": "stderr",
     "output_type": "stream",
     "text": [
      "2024-03-10 15:27:11,149 [iblm.ibl][INFO] (ibl:ibl.py:fit:150)\n",
      "/Users/tanakatouma/vscode/IBLM/.venv/lib/python3.9/site-packages/sklearn/metrics/_classification.py:1509: UndefinedMetricWarning: Precision is ill-defined and being set to 0.0 due to no predicted samples. Use `zero_division` parameter to control this behavior.\n",
      "  _warn_prf(average, modifier, f\"{metric.capitalize()} is\", len(result))\n"
     ]
    },
    {
     "name": "stdout",
     "output_type": "stream",
     "text": [
      "model_18\n"
     ]
    },
    {
     "name": "stderr",
     "output_type": "stream",
     "text": [
      "2024-03-10 15:27:16,796 [iblm.ibl][INFO] (ibl:ibl.py:fit:150)\n"
     ]
    },
    {
     "name": "stdout",
     "output_type": "stream",
     "text": [
      "model_19\n"
     ]
    },
    {
     "name": "stderr",
     "output_type": "stream",
     "text": [
      "2024-03-10 15:27:50,230 [iblm.ibl][INFO] (ibl:ibl.py:fit:150)\n"
     ]
    },
    {
     "name": "stdout",
     "output_type": "stream",
     "text": [
      "Error: ['Traceback (most recent call last):\\n', '  File \"/Users/tanakatouma/vscode/IBLM/.venv/lib/python3.9/site-packages/iblm/iblbagging/iblbagging.py\", line 93, in fit\\n    metric_dict = super().evaluate(y_sampled, y_pred)\\n', '  File \"/Users/tanakatouma/vscode/IBLM/.venv/lib/python3.9/site-packages/iblm/ibl.py\", line 187, in evaluate\\n    return evaluate(y_true, y_pred, self.objective)\\n', '  File \"/Users/tanakatouma/vscode/IBLM/.venv/lib/python3.9/site-packages/iblm/metrics.py\", line 24, in evaluate\\n    y_pred = np.where(y_prob > 0.5, 1, 0)\\n', \"TypeError: '>' not supported between instances of 'NoneType' and 'float'\\n\"]\n",
      "model_20\n"
     ]
    },
    {
     "name": "stderr",
     "output_type": "stream",
     "text": [
      "2024-03-10 15:27:59,232 [iblm.ibl][INFO] (ibl:ibl.py:fit:150)\n"
     ]
    }
   ],
   "source": [
    "code_models = iblbg.fit(\n",
    "    x_train,\n",
    "    y_train,\n",
    "    temperature=0.3\n",
    "    )"
   ]
  },
  {
   "cell_type": "code",
   "execution_count": 7,
   "metadata": {},
   "outputs": [
    {
     "data": {
      "text/plain": [
       "[('model_9',\n",
       "  {'code_model': '#########\\ndef predict(x):\\n    import numpy as np\\n\\n    df = x.copy()\\n    output = []\\n    for index, row in df.iterrows():\\n        # Do not change the code before this point.\\n        # Please describe the process required to make the prediction below.\\n        if row[1] > 0:\\n            y = 1\\n        else:\\n            y = 0\\n\\n\\n        # Do not change the code after this point.\\n        output.append(y)\\n    return np.array(output)\\n#########',\n",
       "   'metric_dict': {'roc_auc': 0.8320886171119243,\n",
       "    'pr_auc': 0.7657358915600379,\n",
       "    'accuracy': 0.831858407079646,\n",
       "    'recall': 0.8754448398576512,\n",
       "    'precision': 0.803921568627451,\n",
       "    'f1_score': 0.838160136286201}}),\n",
       " ('model_7',\n",
       "  {'code_model': '#########\\ndef predict(x):\\n    import numpy as np\\n\\n    df = x.copy()\\n    output = []\\n    for index, row in df.iterrows():\\n        # Do not change the code before this point.\\n        # Please describe the process required to make the prediction below.\\n        y = 1 / (1 + np.exp(-(row[0] + row[1])))\\n\\n\\n        # Do not change the code after this point.\\n        output.append(y)\\n    return np.array(output)\\n#########',\n",
       "   'metric_dict': {'roc_auc': 0.8022297051328723,\n",
       "    'pr_auc': 0.7199502853740034,\n",
       "    'accuracy': 0.7598522167487685,\n",
       "    'recall': 0.7804878048780488,\n",
       "    'precision': 0.7529411764705882,\n",
       "    'f1_score': 0.7664670658682635}}),\n",
       " ('model_20',\n",
       "  {'code_model': '#########\\ndef predict(x):\\n    import numpy as np\\n\\n    df = x.copy()\\n    output = []\\n    for index, row in df.iterrows():\\n        # Do not change the code before this point.\\n        # Please describe the process required to make the prediction below.\\n        y = 1 / (1 + np.exp(-(row[0] + row[1])))\\n\\n\\n        # Do not change the code after this point.\\n        output.append(y)\\n    return np.array(output)\\n#########',\n",
       "   'metric_dict': {'roc_auc': 0.7941268989508354,\n",
       "    'pr_auc': 0.7111731327475497,\n",
       "    'accuracy': 0.7392449517120281,\n",
       "    'recall': 0.7422145328719724,\n",
       "    'precision': 0.7435008665511266,\n",
       "    'f1_score': 0.7428571428571429}}),\n",
       " ('model_1',\n",
       "  {'code_model': '#########\\ndef predict(x):\\n    import numpy as np\\n\\n    df = x.copy()\\n    output = []\\n    for index, row in df.iterrows():\\n        # Do not change the code before this point.\\n        # Please describe the process required to make the prediction below.\\n        y = 1 / (1 + np.exp(-(row[0] + row[1])))\\n\\n\\n        # Do not change the code after this point.\\n        output.append(y)\\n    return np.array(output)\\n#########',\n",
       "   'metric_dict': {'roc_auc': 0.789142165369296,\n",
       "    'pr_auc': 0.7018477804175738,\n",
       "    'accuracy': 0.7439024390243902,\n",
       "    'recall': 0.7530120481927711,\n",
       "    'precision': 0.7440476190476191,\n",
       "    'f1_score': 0.7485029940119761}}),\n",
       " ('model_18',\n",
       "  {'code_model': '#########\\ndef predict(x):\\n    import numpy as np\\n\\n    df = x.copy()\\n    output = []\\n    for index, row in df.iterrows():\\n        # Do not change the code before this point.\\n        # Please describe the process required to make the prediction below.\\n        x1 = row[0]\\n        x2 = row[1]\\n        y = 1 / (1 + np.exp(-(x1 + x2)))\\n\\n\\n        # Do not change the code after this point.\\n        output.append(y)\\n    return np.array(output)\\n#########',\n",
       "   'metric_dict': {'roc_auc': 0.7756363583410997,\n",
       "    'pr_auc': 0.6818416871050881,\n",
       "    'accuracy': 0.723568281938326,\n",
       "    'recall': 0.7184684684684685,\n",
       "    'precision': 0.7168539325842697,\n",
       "    'f1_score': 0.7176602924634421}}),\n",
       " ('model_4',\n",
       "  {'code_model': '#########\\ndef predict(x):\\n    import numpy as np\\n\\n    df = x.copy()\\n    output = []\\n    for index, row in df.iterrows():\\n        # Do not change the code before this point.\\n        # Please describe the process required to make the prediction below.\\n        y = 1 / (1 + np.exp(-(row[0] * -0.004646 + row[1] * 0.002947)))\\n\\n\\n        # Do not change the code after this point.\\n        output.append(y)\\n    return np.array(output)\\n#########',\n",
       "   'metric_dict': {'roc_auc': 0.761406693336623,\n",
       "    'pr_auc': 0.7975903331894233,\n",
       "    'accuracy': 0.6503703703703704,\n",
       "    'recall': 0.6564245810055865,\n",
       "    'precision': 0.6752873563218391,\n",
       "    'f1_score': 0.6657223796033994}}),\n",
       " ('model_5',\n",
       "  {'code_model': '#########\\ndef predict(x):\\n    import numpy as np\\n\\n    df = x.copy()\\n    output = []\\n    for index, row in df.iterrows():\\n        # Do not change the code before this point.\\n        # Please describe the process required to make the prediction below.\\n        y = 0.912\\n        if row[0] > 0.912:\\n            y = 1.0\\n        elif row[0] < 0.912:\\n            y = 0.0\\n\\n\\n        # Do not change the code after this point.\\n        output.append(y)\\n    return np.array(output)\\n#########',\n",
       "   'metric_dict': {'roc_auc': 0.5108780294634339,\n",
       "    'pr_auc': 0.5086260880389981,\n",
       "    'accuracy': 0.5095100864553314,\n",
       "    'recall': 0.27262313860252,\n",
       "    'precision': 0.5242290748898678,\n",
       "    'f1_score': 0.35870384325546345}}),\n",
       " ('model_10',\n",
       "  {'code_model': '#########\\ndef predict(x):\\n    import numpy as np\\n\\n    df = x.copy()\\n    output = []\\n    for index, row in df.iterrows():\\n        # Do not change the code before this point.\\n        # Please describe the process required to make the prediction below.\\n        y = 0.5\\n        output.append(y)\\n    return np.array(output)\\n#########',\n",
       "   'metric_dict': {'roc_auc': 0.5,\n",
       "    'pr_auc': 0.5019326339039205,\n",
       "    'accuracy': 0.4980673660960795,\n",
       "    'recall': 0.0,\n",
       "    'precision': 0.0,\n",
       "    'f1_score': 0.0}}),\n",
       " ('model_12',\n",
       "  {'code_model': '#########\\ndef predict(x):\\n    import numpy as np\\n\\n    df = x.copy()\\n    output = []\\n    for index, row in df.iterrows():\\n        # Do not change the code before this point.\\n        # Please describe the process required to make the prediction below.\\n        y = 0.5\\n        output.append(y)\\n    return np.array(output)\\n#########',\n",
       "   'metric_dict': {'roc_auc': 0.5,\n",
       "    'pr_auc': 0.48555452003727867,\n",
       "    'accuracy': 0.5144454799627214,\n",
       "    'recall': 0.0,\n",
       "    'precision': 0.0,\n",
       "    'f1_score': 0.0}}),\n",
       " ('model_14',\n",
       "  {'code_model': '#########\\ndef predict(x):\\n    import numpy as np\\n\\n    df = x.copy()\\n    output = []\\n    for index, row in df.iterrows():\\n        # Do not change the code before this point.\\n        # Please describe the process required to make the prediction below.\\n        y = 0.5\\n        output.append(y)\\n    return np.array(output)\\n#########',\n",
       "   'metric_dict': {'roc_auc': 0.5,\n",
       "    'pr_auc': 0.5007215007215007,\n",
       "    'accuracy': 0.49927849927849927,\n",
       "    'recall': 0.0,\n",
       "    'precision': 0.0,\n",
       "    'f1_score': 0.0}}),\n",
       " ('model_17',\n",
       "  {'code_model': '#########\\ndef predict(x):\\n    import numpy as np\\n\\n    df = x.copy()\\n    output = []\\n    for index, row in df.iterrows():\\n        # Do not change the code before this point.\\n        # Please describe the process required to make the prediction below.\\n        y = 0.5\\n        output.append(y)\\n    return np.array(output)\\n#########',\n",
       "   'metric_dict': {'roc_auc': 0.5,\n",
       "    'pr_auc': 0.4793863854266539,\n",
       "    'accuracy': 0.5206136145733461,\n",
       "    'recall': 0.0,\n",
       "    'precision': 0.0,\n",
       "    'f1_score': 0.0}}),\n",
       " ('model_8',\n",
       "  {'code_model': '#########\\ndef predict(x):\\n    import numpy as np\\n\\n    df = x.copy()\\n    output = []\\n    for index, row in df.iterrows():\\n        # Do not change the code before this point.\\n        # Please describe the process required to make the prediction below.\\n        y = 0.5\\n        if row[0] > 0.5:\\n            y += 0.1\\n        if row[1] > 0.5:\\n            y += 0.1\\n        if row[0] * row[1] > 0.25:\\n            y += 0.1\\n        if row[0] - row[1] > 0.25:\\n            y += 0.1\\n        if row[1] - row[0] > 0.25:\\n            y -= 0.1\\n\\n\\n        # Do not change the code after this point.\\n        output.append(y)\\n    return np.array(output)\\n#########',\n",
       "   'metric_dict': {'roc_auc': 0.4263491138491139,\n",
       "    'pr_auc': 0.5070966622317085,\n",
       "    'accuracy': 0.3602150537634409,\n",
       "    'recall': 0.5151515151515151,\n",
       "    'precision': 0.39080459770114945,\n",
       "    'f1_score': 0.4444444444444444}}),\n",
       " ('model_2',\n",
       "  {'code_model': '#########\\ndef predict(x):\\n    import numpy as np\\n\\n    df = x.copy()\\n    output = []\\n    for index, row in df.iterrows():\\n        # Do not change the code before this point.\\n        # Please describe the process required to make the prediction below.\\n        y = 1 / (1 + np.exp(-(row[0] * 0.025991 + row[1] * (-0.005449))))\\n\\n\\n        # Do not change the code after this point.\\n        output.append(y)\\n    return np.array(output)\\n#########',\n",
       "   'metric_dict': {'roc_auc': 0.4203613589258358,\n",
       "    'pr_auc': 0.4682406545130239,\n",
       "    'accuracy': 0.47568208778173193,\n",
       "    'recall': 0.4537037037037037,\n",
       "    'precision': 0.48756218905472637,\n",
       "    'f1_score': 0.47002398081534774}})]"
      ]
     },
     "execution_count": 7,
     "metadata": {},
     "output_type": "execute_result"
    }
   ],
   "source": [
    "code_models"
   ]
  },
  {
   "cell_type": "code",
   "execution_count": 8,
   "metadata": {},
   "outputs": [
    {
     "name": "stdout",
     "output_type": "stream",
     "text": [
      "{'roc_auc': 0.8727509000404468, 'pr_auc': 0.8320676982591877, 'accuracy': 0.873, 'recall': 0.8800773694390716, 'precision': 0.875, 'f1_score': 0.8775313404050145}\n",
      "{'roc_auc': 0.8831789548718318, 'pr_auc': 0.8129537127180217, 'accuracy': 0.873, 'recall': 0.8800773694390716, 'precision': 0.875, 'f1_score': 0.8775313404050145}\n",
      "{'roc_auc': 0.8797870338110855, 'pr_auc': 0.8104275738477311, 'accuracy': 0.845, 'recall': 0.8626692456479691, 'precision': 0.8415094339622642, 'f1_score': 0.8519579751671442}\n",
      "{'roc_auc': 0.8705763863025657, 'pr_auc': 0.8032433311803204, 'accuracy': 0.823, 'recall': 0.839458413926499, 'precision': 0.821969696969697, 'f1_score': 0.830622009569378}\n",
      "{'roc_auc': 0.8630837247858524, 'pr_auc': 0.7972474384351246, 'accuracy': 0.804, 'recall': 0.8220502901353965, 'precision': 0.8034026465028355, 'f1_score': 0.8126195028680688}\n",
      "{'roc_auc': 0.8633139909735655, 'pr_auc': 0.7976006967195712, 'accuracy': 0.804, 'recall': 0.8220502901353965, 'precision': 0.8034026465028355, 'f1_score': 0.8126195028680688}\n",
      "{'roc_auc': 0.8309005210022787, 'pr_auc': 0.7583678723790042, 'accuracy': 0.752, 'recall': 0.7485493230174082, 'precision': 0.7663366336633664, 'f1_score': 0.7573385518590998}\n",
      "{'roc_auc': 0.8309005210022787, 'pr_auc': 0.7583678723790042, 'accuracy': 0.752, 'recall': 0.7485493230174082, 'precision': 0.7663366336633664, 'f1_score': 0.7573385518590998}\n",
      "{'roc_auc': 0.8309005210022787, 'pr_auc': 0.7583678723790042, 'accuracy': 0.752, 'recall': 0.7485493230174082, 'precision': 0.7663366336633664, 'f1_score': 0.7573385518590998}\n",
      "{'roc_auc': 0.8309005210022787, 'pr_auc': 0.7583678723790042, 'accuracy': 0.752, 'recall': 0.7485493230174082, 'precision': 0.7663366336633664, 'f1_score': 0.7573385518590998}\n",
      "{'roc_auc': 0.8309005210022787, 'pr_auc': 0.7583678723790042, 'accuracy': 0.752, 'recall': 0.7485493230174082, 'precision': 0.7663366336633664, 'f1_score': 0.7573385518590998}\n",
      "{'roc_auc': 0.8200559847183344, 'pr_auc': 0.7474962763857782, 'accuracy': 0.741, 'recall': 0.7446808510638298, 'precision': 0.751953125, 'f1_score': 0.7482993197278912}\n",
      "{'roc_auc': 0.8191469338555368, 'pr_auc': 0.7465281483121826, 'accuracy': 0.741, 'recall': 0.7446808510638298, 'precision': 0.751953125, 'f1_score': 0.7482993197278912}\n",
      "{'roc_auc': 0.8191469338555368, 'pr_auc': 0.7465281483121826, 'accuracy': 0.741, 'recall': 0.7446808510638298, 'precision': 0.751953125, 'f1_score': 0.7482993197278912}\n",
      "{'roc_auc': 0.8191469338555368, 'pr_auc': 0.7465281483121826, 'accuracy': 0.741, 'recall': 0.7446808510638298, 'precision': 0.751953125, 'f1_score': 0.7482993197278912}\n",
      "{'roc_auc': 0.8191469338555368, 'pr_auc': 0.7465281483121826, 'accuracy': 0.741, 'recall': 0.7446808510638298, 'precision': 0.751953125, 'f1_score': 0.7482993197278912}\n",
      "{'roc_auc': 0.8191469338555368, 'pr_auc': 0.7465281483121826, 'accuracy': 0.741, 'recall': 0.7446808510638298, 'precision': 0.751953125, 'f1_score': 0.7482993197278912}\n",
      "{'roc_auc': 0.8191469338555368, 'pr_auc': 0.7465281483121826, 'accuracy': 0.741, 'recall': 0.7446808510638298, 'precision': 0.751953125, 'f1_score': 0.7482993197278912}\n",
      "{'roc_auc': 0.8191469338555368, 'pr_auc': 0.7465281483121826, 'accuracy': 0.741, 'recall': 0.7446808510638298, 'precision': 0.751953125, 'f1_score': 0.7482993197278912}\n"
     ]
    }
   ],
   "source": [
    "top_model = 20\n",
    "\n",
    "for i in range(1, top_model):\n",
    "    y_pred = iblbg.predict_(x_test, i)\n",
    "    print(iblbg.evaluate(y_test, y_pred))"
   ]
  },
  {
   "cell_type": "code",
   "execution_count": null,
   "metadata": {},
   "outputs": [],
   "source": []
  }
 ],
 "metadata": {
  "kernelspec": {
   "display_name": ".venv",
   "language": "python",
   "name": "python3"
  },
  "language_info": {
   "codemirror_mode": {
    "name": "ipython",
    "version": 3
   },
   "file_extension": ".py",
   "mimetype": "text/x-python",
   "name": "python",
   "nbconvert_exporter": "python",
   "pygments_lexer": "ipython3",
   "version": "3.9.18"
  }
 },
 "nbformat": 4,
 "nbformat_minor": 2
}

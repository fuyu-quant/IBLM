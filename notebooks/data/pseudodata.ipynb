{
 "cells": [
  {
   "cell_type": "markdown",
   "metadata": {},
   "source": [
    "## Make Psuedo Dataset"
   ]
  },
  {
   "cell_type": "code",
   "execution_count": 1,
   "metadata": {},
   "outputs": [],
   "source": [
    "import pandas as pd\n",
    "import numpy as np\n",
    "\n",
    "import string\n",
    "\n",
    "from sklearn.datasets import make_classification"
   ]
  },
  {
   "cell_type": "code",
   "execution_count": 5,
   "metadata": {},
   "outputs": [],
   "source": [
    "columns = 4\n",
    "train_data = 300\n",
    "sampling = int(train_data/2)\n",
    "test_data = 300\n",
    "sample = 1000\n",
    "\n",
    "X, y = make_classification(n_samples=sample, n_features=columns, random_state=3655)\n",
    "X = np.round(X, 2)\n",
    "y = np.round(y, 2)\n",
    "\n",
    "sample = 100\n",
    "\n",
    "sample_num = int(sample/2)\n",
    "\n",
    "column_name = [letter for letter in string.ascii_lowercase[:columns]] \n",
    "\n",
    "\n",
    "\n",
    "df = pd.DataFrame(X, columns = column_name)\n",
    "df['target'] = y \n",
    "\n",
    "\n",
    "df_1 = df[df['target'] == 1].sample(n=sampling, random_state=3655)\n",
    "df_0 = df[df['target'] == 0].sample(n=sampling, random_state=3655)\n",
    "df_train = pd.concat([df_1, df_0])\n",
    "df_test = df.drop(df_train.index)\n",
    "\n",
    "\n",
    "df_train.to_csv(f'../../data/pseudodata/pseudodata_{columns}f_{train_data}_train.csv', index=False)\n",
    "df_test.to_csv(f'../../data/pseudodata/pseudodata_{columns}f_{train_data}_test.csv', index=False)"
   ]
  },
  {
   "cell_type": "code",
   "execution_count": null,
   "metadata": {},
   "outputs": [],
   "source": []
  }
 ],
 "metadata": {
  "kernelspec": {
   "display_name": "Python 3.9.10 ('iblm-L6oop2Mj-py3.9')",
   "language": "python",
   "name": "python3"
  },
  "language_info": {
   "codemirror_mode": {
    "name": "ipython",
    "version": 3
   },
   "file_extension": ".py",
   "mimetype": "text/x-python",
   "name": "python",
   "nbconvert_exporter": "python",
   "pygments_lexer": "ipython3",
   "version": "3.9.10"
  },
  "orig_nbformat": 4,
  "vscode": {
   "interpreter": {
    "hash": "67008fb9323ab6c1c90f5d9822582dbef34eff0db475eec3af4e0e9456757ebf"
   }
  }
 },
 "nbformat": 4,
 "nbformat_minor": 2
}

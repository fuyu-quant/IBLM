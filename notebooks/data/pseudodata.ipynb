{
 "cells": [
  {
   "cell_type": "markdown",
   "metadata": {},
   "source": [
    "## Make Psuedo Dataset"
   ]
  },
  {
   "cell_type": "code",
   "execution_count": 1,
   "metadata": {},
   "outputs": [],
   "source": [
    "import pandas as pd\n",
    "import numpy as np\n",
    "\n",
    "import string\n",
    "\n",
    "from sklearn.datasets import make_classification"
   ]
  },
  {
   "cell_type": "code",
   "execution_count": 2,
   "metadata": {},
   "outputs": [
    {
     "name": "stdout",
     "output_type": "stream",
     "text": [
      "300\n",
      "300\n"
     ]
    }
   ],
   "source": [
    "columns = 4\n",
    "train_data = 300\n",
    "sampling = int(train_data/2)\n",
    "#test_data = 300\n",
    "sample = 600\n",
    "#seed = 3655\n",
    "#seed = 3656\n",
    "seed = 3657\n",
    "\n",
    "X, y = make_classification(n_samples=sample, n_features=columns, random_state=seed)\n",
    "X = np.round(X, 2)\n",
    "y = np.round(y, 2)\n",
    "\n",
    "sample = 100\n",
    "\n",
    "sample_num = int(sample/2)\n",
    "\n",
    "column_name = [letter for letter in string.ascii_lowercase[:columns]] \n",
    "\n",
    "\n",
    "\n",
    "df = pd.DataFrame(X, columns = column_name)\n",
    "df['target'] = y \n",
    "\n",
    "\n",
    "df_1 = df[df['target'] == 1].sample(n=sampling, random_state=seed)\n",
    "df_0 = df[df['target'] == 0].sample(n=sampling, random_state=seed)\n",
    "\n",
    "\n",
    "df_train = pd.DataFrame()\n",
    "df_len = len(df_1)\n",
    "for i in range(df_len):\n",
    "    df1 = pd.DataFrame([df_1.iloc[i]])\n",
    "    df0 = pd.DataFrame([df_0.iloc[i]])\n",
    "    df_train = pd.concat([df_train, df1, df0])\n",
    "\n",
    "df_train['target'] = df_train['target'].astype(int)\n",
    "df_test = df.drop(df_train.index)\n",
    "\n",
    "\n",
    "print(len(df_train))\n",
    "df_train.to_csv(f'../../data/evaluation_dataset/pseudodata_{seed}_{train_data}_train.csv', index=False)\n",
    "print(len(df_test))\n",
    "df_test.to_csv(f'../../data/evaluation_dataset/pseudodata_{seed}_{train_data}_test.csv', index=False)"
   ]
  },
  {
   "cell_type": "code",
   "execution_count": 3,
   "metadata": {},
   "outputs": [
    {
     "data": {
      "text/html": [
       "<div>\n",
       "<style scoped>\n",
       "    .dataframe tbody tr th:only-of-type {\n",
       "        vertical-align: middle;\n",
       "    }\n",
       "\n",
       "    .dataframe tbody tr th {\n",
       "        vertical-align: top;\n",
       "    }\n",
       "\n",
       "    .dataframe thead th {\n",
       "        text-align: right;\n",
       "    }\n",
       "</style>\n",
       "<table border=\"1\" class=\"dataframe\">\n",
       "  <thead>\n",
       "    <tr style=\"text-align: right;\">\n",
       "      <th></th>\n",
       "      <th>a</th>\n",
       "      <th>b</th>\n",
       "      <th>c</th>\n",
       "      <th>d</th>\n",
       "      <th>target</th>\n",
       "    </tr>\n",
       "  </thead>\n",
       "  <tbody>\n",
       "    <tr>\n",
       "      <th>30</th>\n",
       "      <td>0.71</td>\n",
       "      <td>-1.08</td>\n",
       "      <td>-0.83</td>\n",
       "      <td>-1.21</td>\n",
       "      <td>1</td>\n",
       "    </tr>\n",
       "    <tr>\n",
       "      <th>25</th>\n",
       "      <td>-0.25</td>\n",
       "      <td>0.49</td>\n",
       "      <td>0.32</td>\n",
       "      <td>0.51</td>\n",
       "      <td>0</td>\n",
       "    </tr>\n",
       "    <tr>\n",
       "      <th>170</th>\n",
       "      <td>0.22</td>\n",
       "      <td>-0.00</td>\n",
       "      <td>-0.16</td>\n",
       "      <td>-0.12</td>\n",
       "      <td>1</td>\n",
       "    </tr>\n",
       "    <tr>\n",
       "      <th>476</th>\n",
       "      <td>-0.64</td>\n",
       "      <td>1.27</td>\n",
       "      <td>0.83</td>\n",
       "      <td>1.31</td>\n",
       "      <td>0</td>\n",
       "    </tr>\n",
       "    <tr>\n",
       "      <th>564</th>\n",
       "      <td>2.04</td>\n",
       "      <td>2.13</td>\n",
       "      <td>-0.86</td>\n",
       "      <td>0.47</td>\n",
       "      <td>1</td>\n",
       "    </tr>\n",
       "  </tbody>\n",
       "</table>\n",
       "</div>"
      ],
      "text/plain": [
       "        a     b     c     d  target\n",
       "30   0.71 -1.08 -0.83 -1.21       1\n",
       "25  -0.25  0.49  0.32  0.51       0\n",
       "170  0.22 -0.00 -0.16 -0.12       1\n",
       "476 -0.64  1.27  0.83  1.31       0\n",
       "564  2.04  2.13 -0.86  0.47       1"
      ]
     },
     "execution_count": 3,
     "metadata": {},
     "output_type": "execute_result"
    }
   ],
   "source": [
    "df_train.head()"
   ]
  },
  {
   "cell_type": "code",
   "execution_count": null,
   "metadata": {},
   "outputs": [],
   "source": []
  }
 ],
 "metadata": {
  "kernelspec": {
   "display_name": "Python 3.9.10 ('iblm-L6oop2Mj-py3.9')",
   "language": "python",
   "name": "python3"
  },
  "language_info": {
   "codemirror_mode": {
    "name": "ipython",
    "version": 3
   },
   "file_extension": ".py",
   "mimetype": "text/x-python",
   "name": "python",
   "nbconvert_exporter": "python",
   "pygments_lexer": "ipython3",
   "version": "3.9.18"
  },
  "orig_nbformat": 4,
  "vscode": {
   "interpreter": {
    "hash": "67008fb9323ab6c1c90f5d9822582dbef34eff0db475eec3af4e0e9456757ebf"
   }
  }
 },
 "nbformat": 4,
 "nbformat_minor": 2
}

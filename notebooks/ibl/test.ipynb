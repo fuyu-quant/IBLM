{
 "cells": [
  {
   "cell_type": "code",
   "execution_count": 1,
   "metadata": {},
   "outputs": [],
   "source": [
    "%%capture\n",
    "%pip install --upgrade iblm"
   ]
  },
  {
   "cell_type": "code",
   "execution_count": 2,
   "metadata": {},
   "outputs": [],
   "source": [
    "import sys\n",
    "sys.path.append(\"../..\")\n",
    "import pandas as pd\n",
    "\n",
    "from iblm import ibl\n",
    "\n",
    "from src.data import pseudodata\n",
    "from sklearn.datasets import make_classification\n"
   ]
  },
  {
   "cell_type": "code",
   "execution_count": 63,
   "metadata": {},
   "outputs": [],
   "source": [
    "num_train_data = 50 # 50〜300\n",
    "num_test_data = 1000\n",
    "sample = num_train_data + num_test_data\n",
    "n_informative = 4\n",
    "n_redundant = 0\n",
    "n_features = n_informative + n_redundant\n",
    "weights = [0.5, 0.5]\n",
    "flip_y=0.1\n",
    "seed = 3655  # 3655,3656,3657\n",
    "\n",
    "# testデータの個数を揃えるためにtrain_test_splitを使っていない\n",
    "x, y = make_classification(\n",
    "    n_samples = sample,  # データ数\n",
    "    n_features = n_features,  # 特徴量の数\n",
    "    n_informative = n_informative,  # ラベル予測に意味のある特徴量の数\n",
    "    n_redundant = n_redundant,  # 冗長な特徴量\n",
    "    weights = weights,  # [0,1]の割合\n",
    "    flip_y = flip_y, # 逆のラベルに反転する割合\n",
    "    random_state = seed\n",
    "    )\n",
    "x = pd.DataFrame(x)\n",
    "\n",
    "x_train = x[0:num_train_data]\n",
    "x_test = x[num_train_data:]\n",
    "\n",
    "y_train = y[:num_train_data]\n",
    "y_test = y[num_train_data:]"
   ]
  },
  {
   "cell_type": "code",
   "execution_count": 64,
   "metadata": {},
   "outputs": [],
   "source": [
    "iblm = ibl.IBLModel(api_type=\"openai\", model_name=\"gpt-4-0125-preview\", objective=\"binary\")"
   ]
  },
  {
   "cell_type": "code",
   "execution_count": 68,
   "metadata": {},
   "outputs": [
    {
     "name": "stderr",
     "output_type": "stream",
     "text": [
      "2024-02-11 21:18:48,984 [iblm.ibl][INFO] (ibl:ibl.py:fit:169)\n"
     ]
    }
   ],
   "source": [
    "model = iblm.fit(x_train, y_train)"
   ]
  },
  {
   "cell_type": "code",
   "execution_count": 69,
   "metadata": {},
   "outputs": [
    {
     "name": "stdout",
     "output_type": "stream",
     "text": [
      "#########\n",
      "def predict(x):\n",
      "    import numpy as np\n",
      "\n",
      "    df = x.copy()\n",
      "    output = []\n",
      "    for index, row in df.iterrows():\n",
      "        # Custom logic based on data analysis\n",
      "        # Feature engineering and thresholding based on observed patterns\n",
      "        feature_1_weight = 0.25\n",
      "        feature_2_weight = 0.15\n",
      "        feature_3_weight = 0.3\n",
      "        feature_4_weight = 0.3\n",
      "        threshold = 0.5\n",
      "\n",
      "        # Calculating a simple weighted sum of features\n",
      "        weighted_sum = (row[0] * feature_1_weight + \n",
      "                        row[1] * feature_2_weight + \n",
      "                        row[2] * feature_3_weight + \n",
      "                        row[3] * feature_4_weight)\n",
      "\n",
      "        # Normalizing the weighted sum to get a probability-like value\n",
      "        normalized_weighted_sum = (weighted_sum + 4) / 8  # Assuming -4 to 4 as the range of weighted_sum\n",
      "\n",
      "        # Applying threshold to decide on the probability\n",
      "        if normalized_weighted_sum > threshold:\n",
      "            y = normalized_weighted_sum  # Higher probability for target 1\n",
      "        else:\n",
      "            y = 1 - normalized_weighted_sum  # Lower probability for target 0, inversely proportional\n",
      "\n",
      "        output.append(y)\n",
      "    return np.array(output)\n",
      "#########\n"
     ]
    }
   ],
   "source": [
    "print(model)"
   ]
  },
  {
   "cell_type": "code",
   "execution_count": 70,
   "metadata": {},
   "outputs": [],
   "source": [
    "y_pred = iblm.predict(x_test)"
   ]
  },
  {
   "cell_type": "code",
   "execution_count": 71,
   "metadata": {},
   "outputs": [
    {
     "data": {
      "text/plain": [
       "{'roc_auc': 0.3819261926192619,\n",
       " 'pr_auc': 0.43230467749418755,\n",
       " 'accuracy': 0.505,\n",
       " 'recall': 1.0,\n",
       " 'precision': 0.505,\n",
       " 'f1_score': 0.6710963455149501}"
      ]
     },
     "execution_count": 71,
     "metadata": {},
     "output_type": "execute_result"
    }
   ],
   "source": [
    "iblm.evaluate(y_test, y_pred)"
   ]
  },
  {
   "cell_type": "code",
   "execution_count": null,
   "metadata": {},
   "outputs": [],
   "source": []
  }
 ],
 "metadata": {
  "kernelspec": {
   "display_name": "iblm-L6oop2Mj-py3.9",
   "language": "python",
   "name": "python3"
  },
  "language_info": {
   "codemirror_mode": {
    "name": "ipython",
    "version": 3
   },
   "file_extension": ".py",
   "mimetype": "text/x-python",
   "name": "python",
   "nbconvert_exporter": "python",
   "pygments_lexer": "ipython3",
   "version": "3.9.18"
  }
 },
 "nbformat": 4,
 "nbformat_minor": 2
}

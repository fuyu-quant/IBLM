{
 "cells": [
  {
   "cell_type": "code",
   "execution_count": 1,
   "id": "11cf756e-3fb1-4686-981f-8aa6507f34d9",
   "metadata": {
    "tags": []
   },
   "outputs": [],
   "source": [
    "import os\n",
    "import sys\n",
    "from pathlib import Path\n",
    "\n",
    "import numpy as np\n",
    "import pandas as pd\n",
    "from iblm import IBLMClassifier\n",
    "from sklearn.metrics import accuracy_score, f1_score, precision_score, recall_score, roc_auc_score\n",
    "from tqdm import tqdm\n",
    "\n",
    "sys.path.append(\"..\")"
   ]
  },
  {
   "cell_type": "markdown",
   "id": "1b1ff9b2-0e9d-4829-94e0-5ca5f39b9a61",
   "metadata": {},
   "source": [
    "## evaluation"
   ]
  },
  {
   "cell_type": "code",
   "execution_count": 2,
   "id": "1a6c8369-f743-4d39-905c-4a8446b5fbe8",
   "metadata": {
    "tags": []
   },
   "outputs": [],
   "source": [
    "def code_model_evaluation(model_file: str, test_df: pd.DataFrame, target_colname: str) -> dict:\n",
    "    model_file = Path(model_file)\n",
    "    model_name = model_file.stem\n",
    "    import_file = f\"import models.{model_file.parent.name}.{model_name} as codemodel\"\n",
    "    with open(model_file, \"r\") as fp:\n",
    "        code = fp.read()\n",
    "\n",
    "    try:\n",
    "        exec(import_file, globals())\n",
    "    except:\n",
    "        result = dict(\n",
    "            model_name=model_name,\n",
    "            status=\"FAILED\",\n",
    "            comment=\"1_import_error\",\n",
    "            acc=None,\n",
    "            auc=None,\n",
    "            code=code,\n",
    "        )\n",
    "        return result\n",
    "\n",
    "    try:\n",
    "        x_test = test_df.drop(target_colname, axis=1)\n",
    "        y_test = test_df[target_colname]\n",
    "        y_proba = codemodel.predict(x_test)\n",
    "        y_pred = (y_proba > 0.5).astype(int)\n",
    "        negative_values_exist = np.any(y_proba < 0)\n",
    "        values_greater_than_one_exist = np.any(y_proba > 1)\n",
    "        if negative_values_exist:\n",
    "            result = dict(\n",
    "                model_name=model_name,\n",
    "                status=\"FAILED\",\n",
    "                # comment=\"negative_values_exist\",\n",
    "                comment=\"3_invalid_pred_value\",\n",
    "                acc=None,\n",
    "                auc=None,\n",
    "                code=code,\n",
    "            )\n",
    "\n",
    "        elif values_greater_than_one_exist:\n",
    "            result = dict(\n",
    "                model_name=model_name,\n",
    "                status=\"FAILED\",\n",
    "                # comment=\"values_greater_than_one_exist\",\n",
    "                comment=\"3_invalid_pred_value\",\n",
    "                acc=None,\n",
    "                auc=None,\n",
    "                code=code,\n",
    "            )\n",
    "\n",
    "        else:\n",
    "            roc_auc = roc_auc_score(y_test, y_proba)\n",
    "            accuracy = round(accuracy_score(y_test, y_pred), 4)\n",
    "            result = dict(\n",
    "                model_name=model_name,\n",
    "                status=\"SUCCEEDED\",\n",
    "                comment=\"0_succeeded\",\n",
    "                acc=accuracy,\n",
    "                auc=roc_auc,\n",
    "                code=code,\n",
    "            )\n",
    "    except Exception as e:\n",
    "        result = dict(\n",
    "            model_name=model_name,\n",
    "            status=\"FAILED\",\n",
    "            comment=\"2_predict_method_error\",\n",
    "            acc=None,\n",
    "            auc=None,\n",
    "            code=code,\n",
    "        )\n",
    "\n",
    "    finally:\n",
    "        return result"
   ]
  },
  {
   "cell_type": "code",
   "execution_count": 3,
   "id": "d05babc4-bff0-4fe0-87a0-1eaeff67f137",
   "metadata": {
    "tags": []
   },
   "outputs": [],
   "source": [
    "def evaluate_all_code_models(model_name: str, seeds: list, train_nums: list, target_colname: str) -> pd.DataFrame:\n",
    "    \"\"\"this is for next models\n",
    "    * moon\n",
    "    * pseudodata\n",
    "    * titanic\n",
    "    \"\"\"\n",
    "    results = []\n",
    "    for seed in tqdm(seeds):\n",
    "        df = pd.read_csv(f\"../data/{model_name}/{model_name}_{seed}_300_test.csv\")\n",
    "        for train_num in tqdm(train_nums, leave=False):\n",
    "            for trial in range(1, 31):\n",
    "                model_file = f\"../models/{model_name}/{model_name}_{seed}_{train_num}_{trial}.py\"\n",
    "                results.append(\n",
    "                    dict(\n",
    "                        seed=seed,\n",
    "                        train_num=train_num,\n",
    "                        **code_model_evaluation(model_file, df, target_colname),\n",
    "                    )\n",
    "                )\n",
    "    print(\"Done!\")\n",
    "    return pd.DataFrame(results)\n",
    "\n",
    "\n",
    "def evaluate_all_code_models_circle(\n",
    "    model_name: str, seeds: list, train_nums: list, target_colname: str\n",
    ") -> pd.DataFrame:\n",
    "    \"\"\"this is for next models\n",
    "    * circle\n",
    "    \"\"\"\n",
    "    results = []\n",
    "    for seed in tqdm(seeds):\n",
    "        df = pd.read_csv(f\"../data/{model_name}/{model_name}_300_test.csv\")\n",
    "        for train_num in tqdm(train_nums, leave=False):\n",
    "            for trial in range(1, 31):\n",
    "                model_file = f\"../models/{model_name}/{model_name}_{trial}.py\"\n",
    "                results.append(\n",
    "                    dict(\n",
    "                        seed=seed,\n",
    "                        train_num=train_num,\n",
    "                        **code_model_evaluation(model_file, df, target_colname),\n",
    "                    )\n",
    "                )\n",
    "    print(\"Done!\")\n",
    "    return pd.DataFrame(results)\n",
    "\n",
    "\n",
    "def evaluate_all_code_models_text(model_name: str, seeds: list, train_nums: list, target_colname: str) -> pd.DataFrame:\n",
    "    \"\"\"this is for next models\n",
    "    * text\n",
    "    \"\"\"\n",
    "    results = []\n",
    "    for seed in tqdm(seeds):\n",
    "        df = pd.read_csv(f\"../data/{model_name}/{model_name}_25_test.csv\")\n",
    "        for train_num in tqdm(train_nums, leave=False):\n",
    "            for trial in range(1, 31):\n",
    "                model_file = f\"../models/{model_name}/{model_name}_{trial}.py\"\n",
    "                results.append(\n",
    "                    dict(\n",
    "                        seed=seed,\n",
    "                        train_num=train_num,\n",
    "                        **code_model_evaluation(model_file, df, target_colname),\n",
    "                    )\n",
    "                )\n",
    "    print(\"Done!\")\n",
    "    return pd.DataFrame(results)"
   ]
  },
  {
   "cell_type": "markdown",
   "id": "328f2688-521d-4dee-884a-4b01d9805701",
   "metadata": {},
   "source": [
    "## dataframe processing"
   ]
  },
  {
   "cell_type": "code",
   "execution_count": 4,
   "id": "d66af702-7756-46ce-8ddf-a190f2148668",
   "metadata": {
    "tags": []
   },
   "outputs": [],
   "source": [
    "def metrics_summary(df: pd.DataFrame) -> None:  # , output_dir: str) -> None:\n",
    "    summary_df = df.groupby([\"seed\", \"train_num\"], as_index=False).agg(\n",
    "        dict(\n",
    "            status=[\"count\"],\n",
    "            acc=[\"count\", \"mean\", \"min\", \"max\"],\n",
    "            auc=[\"mean\", \"min\", \"max\"],\n",
    "        )\n",
    "    )\n",
    "\n",
    "    # multi-columns to single-columns\n",
    "    renamed_colnames = [\"_\".join(x).strip(\"_\") for x in summary_df.columns]\n",
    "    summary_df.columns = summary_df.columns.droplevel(0)\n",
    "    summary_df.columns = renamed_colnames\n",
    "    summary_df = summary_df.rename(columns=dict(status_count=\"n_trials\", acc_count=\"n_succeeses\"))\n",
    "\n",
    "    return summary_df\n",
    "\n",
    "\n",
    "def code_model_execution_trial_count_summary(df: pd.DataFrame) -> pd.DataFrame:\n",
    "    df = df.comment.value_counts().to_frame().T.loc[:, sorted(df.comment.unique())].reset_index(drop=True)\n",
    "    df.insert(0, \"n_trials\", df.sum(axis=1).values[0])\n",
    "    return df\n",
    "\n",
    "\n",
    "def code_model_execution_trial_count_each_case(df: pd.DataFrame) -> pd.DataFrame:\n",
    "    df = (\n",
    "        df.groupby([\"seed\", \"train_num\", \"comment\"], as_index=False)\n",
    "        .agg(dict(model_name=\"count\"))\n",
    "        .rename(columns=dict(model_name=\"n_events\"))\n",
    "        .pivot(index=[\"seed\", \"train_num\"], columns=\"comment\", values=\"n_events\")\n",
    "        .fillna(\"0\")\n",
    "        .astype(int)\n",
    "        .loc[:, sorted(df.comment.unique())]\n",
    "    )\n",
    "    df.insert(0, \"n_trials\", df.sum(axis=1).values[0])\n",
    "    return df.reset_index()"
   ]
  },
  {
   "cell_type": "markdown",
   "id": "0b6dac38-9ca8-4a6f-b6f7-17e05a6862f2",
   "metadata": {},
   "source": [
    "## save dataframe"
   ]
  },
  {
   "cell_type": "code",
   "execution_count": 5,
   "id": "69c75356-f396-49e3-9962-a5c3d4eb0e3b",
   "metadata": {
    "tags": []
   },
   "outputs": [],
   "source": [
    "def save_raw_results(df: pd.DataFrame, output_dir: str) -> None:\n",
    "    df = df.sort_values([\"seed\", \"train_num\", \"auc\"], ascending=[True, True, False])\n",
    "    df.to_csv(f\"{output_dir}/raw_results.tsv\", sep=\"\\t\", index=False)\n",
    "\n",
    "\n",
    "def save_metrics_summary(df: pd.DataFrame, output_dir: str) -> None:\n",
    "    df.to_csv(f\"{output_dir}/metrics_summary.tsv\", sep=\"\\t\", index=False)\n",
    "\n",
    "\n",
    "def save_code_model_execution_trial_count_summary(df: pd.DataFrame, output_dir: str) -> None:\n",
    "    df.to_csv(f\"{output_dir}/code_model_execution_trial_count_summary.tsv\", sep=\"\\t\", index=False)\n",
    "\n",
    "\n",
    "def save_code_model_execution_trial_count_each_case(df: pd.DataFrame, output_dir: str) -> None:\n",
    "    df.to_csv(f\"{output_dir}/code_model_execution_trial_count_each_case.tsv\", sep=\"\\t\", index=False)"
   ]
  },
  {
   "cell_type": "markdown",
   "id": "71290c39-6304-4e7d-816d-f53d3f22e203",
   "metadata": {},
   "source": [
    "## main"
   ]
  },
  {
   "cell_type": "markdown",
   "id": "f7d2d01d-4846-4be2-b5d2-db330ba24945",
   "metadata": {},
   "source": [
    "### pseudodata"
   ]
  },
  {
   "cell_type": "code",
   "execution_count": 6,
   "id": "e268e1c2-683c-4e10-9734-d0eb17550572",
   "metadata": {
    "tags": []
   },
   "outputs": [
    {
     "name": "stderr",
     "output_type": "stream",
     "text": [
      "  0%|          | 0/3 [00:00<?, ?it/s]"
     ]
    },
    {
     "name": "stdout",
     "output_type": "stream",
     "text": [
      "[0.9 0.1 0.9 0.9 0.9 0.9 0.1 0.1 0.9 0.1]\n"
     ]
    },
    {
     "name": "stderr",
     "output_type": "stream",
     "text": []
    },
    {
     "name": "stdout",
     "output_type": "stream",
     "text": [
      "[0.1 0.9 0.1 0.9 0.9 0.1 0.9 0.1 0.9 0.1]\n",
      "[-0.775   0.1375  0.29    0.46    0.035   0.0525  0.495   0.0775  0.005\n",
      "  0.36  ]\n",
      "[0.1 0.9 0.1 0.9 0.9]\n"
     ]
    },
    {
     "name": "stderr",
     "output_type": "stream",
     "text": []
    },
    {
     "name": "stdout",
     "output_type": "stream",
     "text": [
      "[0.9 0.1 0.1 0.1 0.9]\n"
     ]
    },
    {
     "name": "stderr",
     "output_type": "stream",
     "text": [
      "100%|██████████| 3/3 [00:11<00:00,  3.86s/it]"
     ]
    },
    {
     "name": "stdout",
     "output_type": "stream",
     "text": [
      "Done!\n"
     ]
    },
    {
     "name": "stderr",
     "output_type": "stream",
     "text": [
      "\n"
     ]
    }
   ],
   "source": [
    "model_name = \"pseudodata\"\n",
    "seeds = [3655, 3656, 3657]\n",
    "train_nums = [10, 20, 30, 40, 50, 100, 200, 300]\n",
    "target_colname = \"target\"\n",
    "\n",
    "output_dir = Path(f\"../data/code_model_evaluation/{model_name}\")\n",
    "output_dir.mkdir(exist_ok=True, parents=True)\n",
    "\n",
    "df = evaluate_all_code_models(model_name, seeds, train_nums, target_colname)\n",
    "\n",
    "metrics_summary_df = metrics_summary(df)\n",
    "code_model_execution_trial_count_summary_df = code_model_execution_trial_count_summary(df)\n",
    "code_model_execution_trial_count_each_case_df = code_model_execution_trial_count_each_case(df)\n",
    "\n",
    "save_raw_results(df, output_dir)\n",
    "save_metrics_summary(metrics_summary_df, output_dir)\n",
    "save_code_model_execution_trial_count_summary(code_model_execution_trial_count_summary_df, output_dir)\n",
    "save_code_model_execution_trial_count_each_case(code_model_execution_trial_count_each_case_df, output_dir)"
   ]
  },
  {
   "cell_type": "markdown",
   "id": "3ba69c2b-cc76-44dc-988c-1711d84c9725",
   "metadata": {
    "execution": {
     "iopub.execute_input": "2023-07-10T21:47:57.534971Z",
     "iopub.status.busy": "2023-07-10T21:47:57.534742Z",
     "iopub.status.idle": "2023-07-10T21:47:57.541046Z",
     "shell.execute_reply": "2023-07-10T21:47:57.537484Z",
     "shell.execute_reply.started": "2023-07-10T21:47:57.534955Z"
    },
    "tags": []
   },
   "source": [
    "### moon"
   ]
  },
  {
   "cell_type": "code",
   "execution_count": 7,
   "id": "d3ff448e-ff7e-4ec1-adde-52eba4a412d0",
   "metadata": {},
   "outputs": [
    {
     "name": "stderr",
     "output_type": "stream",
     "text": [
      "  0%|          | 0/3 [00:00<?, ?it/s]"
     ]
    },
    {
     "name": "stdout",
     "output_type": "stream",
     "text": [
      "[1 0 0 0 1 0 1 1 1 1]\n",
      "[0 1 0 0 1 0 1 1 0 1]\n",
      "[0 1 0 0 1 0 1 1 0 1]\n",
      "[1 0 0 0 1 0 1 1 1 1]\n",
      "[0 1 0 0 1 0 1 1 0 1]\n",
      "[0 1 0 0 1 0 1 1 0 1]\n",
      "[0 1 0 0 1 0 1 1 0 1]\n",
      "[0 1 0 0 1 0 1 1 0 1]\n",
      "[0 1 0 0 1 0 1 1 0 1]\n",
      "[1 1 1 0 1 1 1 1 1 1 1 1 1 1 1 0 1 0 1 1]\n",
      "[0.5577 0.7497 0.5702 0.366  0.9298 0.539  1.     0.8448 0.5689 0.8568\n",
      " 0.5572 0.6231 0.5372 0.4642 0.5375 0.2235 0.552  0.3165 1.     0.8081]\n",
      "[1 0 0 0 1 0 1 1 1 1 1 0 1 0 1 0 1 0 1 0]\n",
      "[1 0 0 0 1 0 1 1 1 1 1 0 1 0 1 0 1 0 1 0]\n",
      "[1 1 1 0 1 1 1 1 1 1 1 1 1 1 1 0 1 0 1 1]\n",
      "[1 1 1 0 1 1 1 1 1 1 1 1 1 1 1 0 1 0 1 1]\n",
      "[0 1 0 0 1 0 1 1 0 1 0 0 0 0 0 0 0 0 1 1]\n",
      "[1 0 0 0 1 0 1 1 1 1 1 0 1 0 1 0 1 0 1 0]\n",
      "[1 1 1 0 1 1 1 1 1 1 1 1 1 1 1 0 1 0 1 1]\n",
      "[1 0 0 0 1 0 1 1 1 1 1 0 1 0 1 0 1 0 1 0]\n",
      "[1 0 0 0 1]\n",
      "[0 1 0 0 1 0 1 1 0 1 0 0 0 0 0 0 0 0 1 1 0 0 1 0 1 1 0 0 0 0]\n",
      "[0 1 0 0 1 0 1 1 0 1 0 0 0 0 0 0 0 0 1 1 0 0 1 0 1 1 0 0 0 0]\n",
      "[0.9 0.1 0.1 0.1 0.9]\n",
      "[0 1 0 0 1 0 1 1 0 1 0 0 0 0 0 0 0 0 1 1 0 0 1 0 1 1 0 0 0 0]\n",
      "[1 0 0 0 1 0 1 1 1 1]\n"
     ]
    },
    {
     "name": "stderr",
     "output_type": "stream",
     "text": [
      " 33%|███▎      | 1/3 [00:00<00:00,  3.28it/s]"
     ]
    },
    {
     "name": "stdout",
     "output_type": "stream",
     "text": [
      "[0.985  1.     0.7388 0.4397 1.     0.8485 1.     0.9687 1.     0.413 ]\n",
      "[0.985  1.     0.7388 0.4397 1.     0.8485 1.     0.9687 1.     0.413 ]\n",
      "[0.985  1.     0.7388 0.4397 1.     0.8485 1.     0.9687 1.     0.413 ]\n",
      "[0.63353216 0.75121447 0.5367337  0.527572   0.68851802 0.54800171\n",
      " 0.74453986 0.60956879 0.68477421 0.54673815]\n"
     ]
    },
    {
     "name": "stderr",
     "output_type": "stream",
     "text": []
    },
    {
     "name": "stdout",
     "output_type": "stream",
     "text": [
      "[1 0 0 0 1 0 0 1 1 0]\n",
      "[1 0 0 0 1 0 0 1 1 0]\n",
      "[1 0 0 0 1 0 0 1 1 0]\n",
      "[0.72412177 0.84097493 0.63830156 0.6630688  0.77643314 0.63876318\n",
      " 0.83623812 0.6983599  0.77381857 0.68836788]\n",
      "[0.985  1.     0.7388 0.4397 1.     0.8485 1.     0.9687 1.     0.413 ]\n",
      "[1 0 0 0 1 0 0 1 1 0]\n",
      "[0.9 0.1 0.1 0.1 0.9 0.1 0.1 0.9 0.9 0.1]\n",
      "[0.985  1.     0.7388 0.4397 1.     0.8485 1.     0.9687 1.     0.413 ]\n",
      "[0.9 0.1 0.1 0.1 0.9]\n",
      "[0.63353216 0.75121447 0.5367337  0.527572   0.68851802 0.54800171\n",
      " 0.74453986 0.60956879 0.68477421 0.54673815 0.55840714 0.52403147\n",
      " 0.65443692 0.55492743 0.53414676 0.66991486 0.62024777 0.75134527\n",
      " 0.59124149 0.51929042]\n",
      "[1 0 0 0 1]\n",
      "[0.985  1.     0.7388 0.4397 1.    ]\n",
      "[0.985  1.     0.7388 0.4397 1.    ]\n",
      "[1 1 1 1 1]\n",
      "[0.70620016 0.70339139 0.61396266 0.4610789  0.72829712]\n",
      "[0.985  1.     0.7388 0.4397 1.     0.8485 1.     0.9687 1.     0.413\n",
      " 0.8065 0.598  1.     0.8273 0.462  1.     0.9836 1.     0.8784 0.5087]\n",
      "[0.985  1.     0.7388 0.4397 1.     0.8485 1.     0.9687 1.     0.413\n",
      " 0.8065 0.598  1.     0.8273 0.462  1.     0.9836 1.     0.8784 0.5087]\n",
      "[0.7280992  0.74044832 0.67673339 0.60818754 0.74412119]\n",
      "[0.985  1.     0.7388 0.4397 1.     0.8485 1.     0.9687 1.     0.413\n",
      " 0.8065 0.598  1.     0.8273 0.462  1.     0.9836 1.     0.8784 0.5087]\n",
      "[0.985  1.     0.7388 0.4397 1.    ]\n",
      "[0.5    1.1655 0.5    0.5    0.745  0.5    1.1305 0.5    0.73   0.5\n",
      " 0.5    0.5    0.559  0.5    0.5    0.632  0.5    1.177  0.5    0.5   ]\n",
      "[0.9 0.1 0.1 0.1 0.9]\n",
      "[0.9 0.1 0.1 0.1 0.9 0.1 0.1 0.9 0.9 0.1 0.1 0.1 0.9 0.1 0.1 0.9 0.9 0.1\n",
      " 0.1 0.1]\n",
      "[1 0 0 0 1]\n",
      "[1 0 0 0 1 0 0 1 1 0 0 0 1 0 0 1 1 0 0 0]\n",
      "[1 0 0 0 1]\n",
      "[0.985  1.     0.7388 0.4397 1.     0.8485 1.     0.9687 1.     0.413\n",
      " 0.8065 0.598  1.     0.8273 0.462  1.     0.9836 1.     0.8784 0.5087]\n"
     ]
    },
    {
     "name": "stderr",
     "output_type": "stream",
     "text": []
    },
    {
     "name": "stdout",
     "output_type": "stream",
     "text": [
      "[0.985  1.     0.7388 0.4397 1.     0.8485 1.     0.9687 1.     0.413\n",
      " 0.8065 0.598  1.     0.8273 0.462  1.     0.9836 1.     0.8784 0.5087]\n",
      "[0.985  1.     0.7388 0.4397 1.    ]\n",
      "[0.80780341 0.81663297 0.73582878 0.61711011 0.82662582 0.77236258\n",
      " 0.81105808 0.80478914 0.82289706 0.60348325 0.75766128 0.68360742\n",
      " 0.8201258  0.76489386 0.62611832 0.82822509 0.80833074 0.8110121\n",
      " 0.77871609 0.64746161]\n",
      "[0.985  1.     0.7388 0.4397 1.     0.8485 1.     0.9687 1.     0.413 ]\n",
      "[0.9 0.1 0.1 0.1 0.9]\n",
      "[0.985  1.     0.7388 0.4397 1.    ]\n",
      "[0.985  1.     0.7388 0.4397 1.    ]\n"
     ]
    },
    {
     "name": "stderr",
     "output_type": "stream",
     "text": []
    },
    {
     "name": "stdout",
     "output_type": "stream",
     "text": [
      "[1 0 1 0 1]\n",
      "[1 0 1 0 1]\n"
     ]
    },
    {
     "name": "stderr",
     "output_type": "stream",
     "text": []
    },
    {
     "name": "stdout",
     "output_type": "stream",
     "text": [
      "[1 0 1 0 1]\n",
      "[1 1 1 1 1]\n"
     ]
    },
    {
     "name": "stderr",
     "output_type": "stream",
     "text": [
      " 67%|██████▋   | 2/3 [00:01<00:00,  1.45it/s]"
     ]
    },
    {
     "name": "stdout",
     "output_type": "stream",
     "text": [
      "[0.9517 0.9828 1.     0.5555 0.9606 0.4271 0.5682 0.8743 0.5058 0.938 ]\n",
      "[0.9517 0.9828 1.     0.5555 0.9606 0.4271 0.5682 0.8743 0.5058 0.938 ]\n",
      "[0.68664916 0.71818978 0.84110862 0.64106741 0.70286954 0.64702781\n",
      " 0.64611374 0.66273361 0.63887854 0.69423634]\n",
      "[1 1 0 1 1 0 1 1 0 1]\n",
      "[0.569 0.871 1.    0.16  0.722 0.212 0.204 0.351 0.141 0.64 ]\n",
      "[1 1 0 0 1 0 0 1 0 1]\n",
      "[0.80064013 0.80755488 0.81932781 0.66674507 0.80221562 0.61308534\n",
      " 0.67141679 0.77897446 0.6467537  0.79621439]\n",
      "[0.68664916 0.71818978 0.84110862 0.64106741 0.70286954 0.64702781\n",
      " 0.64611374 0.66273361 0.63887854 0.69423634]\n"
     ]
    },
    {
     "name": "stderr",
     "output_type": "stream",
     "text": [
      "100%|██████████| 3/3 [00:01<00:00,  1.88it/s]"
     ]
    },
    {
     "name": "stdout",
     "output_type": "stream",
     "text": [
      "[1 1 1 1 1 1 1 1 1 1]\n",
      "[1 1 1 1 1 1 1 1 1 1]\n",
      "[0.9517 0.9828 1.     0.5555 0.9606]\n",
      "Done!\n"
     ]
    },
    {
     "name": "stderr",
     "output_type": "stream",
     "text": [
      "\n"
     ]
    }
   ],
   "source": [
    "model_name = \"moon\"\n",
    "seeds = [3655, 3656, 3657]\n",
    "train_nums = [10, 20, 30, 40, 50, 100, 200, 300]\n",
    "target_colname = \"target\"\n",
    "\n",
    "output_dir = Path(f\"../data/code_model_evaluation/{model_name}\")\n",
    "output_dir.mkdir(exist_ok=True, parents=True)\n",
    "\n",
    "df = evaluate_all_code_models(model_name, seeds, train_nums, target_colname)\n",
    "\n",
    "metrics_summary_df = metrics_summary(df)\n",
    "code_model_execution_trial_count_summary_df = code_model_execution_trial_count_summary(df)\n",
    "code_model_execution_trial_count_each_case_df = code_model_execution_trial_count_each_case(df)\n",
    "\n",
    "save_raw_results(df, output_dir)\n",
    "save_metrics_summary(metrics_summary_df, output_dir)\n",
    "save_code_model_execution_trial_count_summary(code_model_execution_trial_count_summary_df, output_dir)\n",
    "save_code_model_execution_trial_count_each_case(code_model_execution_trial_count_each_case_df, output_dir)"
   ]
  },
  {
   "cell_type": "markdown",
   "id": "7fb18240-173e-4e18-af4e-366b2be667ae",
   "metadata": {},
   "source": [
    "### titanic"
   ]
  },
  {
   "cell_type": "code",
   "execution_count": 8,
   "id": "bdb0777c-f1e1-4377-8b1d-8ff191128bcf",
   "metadata": {},
   "outputs": [
    {
     "name": "stderr",
     "output_type": "stream",
     "text": [
      "100%|██████████| 3/3 [00:06<00:00,  2.30s/it]"
     ]
    },
    {
     "name": "stdout",
     "output_type": "stream",
     "text": [
      "Done!\n"
     ]
    },
    {
     "name": "stderr",
     "output_type": "stream",
     "text": [
      "\n"
     ]
    }
   ],
   "source": [
    "model_name = \"titanic\"\n",
    "seeds = [3655, 3656, 3657]\n",
    "train_nums = [6, 8, 10, 20, 30, 40, 50]\n",
    "target_colname = \"survived\"\n",
    "\n",
    "output_dir = Path(f\"../data/code_model_evaluation/{model_name}\")\n",
    "output_dir.mkdir(exist_ok=True, parents=True)\n",
    "\n",
    "df = evaluate_all_code_models(model_name, seeds, train_nums, target_colname)\n",
    "\n",
    "metrics_summary_df = metrics_summary(df)\n",
    "code_model_execution_trial_count_summary_df = code_model_execution_trial_count_summary(df)\n",
    "code_model_execution_trial_count_each_case_df = code_model_execution_trial_count_each_case(df)\n",
    "\n",
    "save_raw_results(df, output_dir)\n",
    "save_metrics_summary(metrics_summary_df, output_dir)\n",
    "save_code_model_execution_trial_count_summary(code_model_execution_trial_count_summary_df, output_dir)\n",
    "save_code_model_execution_trial_count_each_case(code_model_execution_trial_count_each_case_df, output_dir)"
   ]
  },
  {
   "cell_type": "markdown",
   "id": "29139d60-a5cc-4346-8efc-483f94d6eae9",
   "metadata": {},
   "source": [
    "### circle"
   ]
  },
  {
   "cell_type": "code",
   "execution_count": 9,
   "id": "872db863-9eec-4b8f-bb72-d64eae24ef70",
   "metadata": {},
   "outputs": [
    {
     "name": "stderr",
     "output_type": "stream",
     "text": [
      "100%|██████████| 1/1 [00:00<00:00,  5.39it/s]"
     ]
    },
    {
     "name": "stdout",
     "output_type": "stream",
     "text": [
      "Done!\n"
     ]
    },
    {
     "name": "stderr",
     "output_type": "stream",
     "text": [
      "\n"
     ]
    }
   ],
   "source": [
    "model_name = \"circle\"\n",
    "seeds = [\"\"]\n",
    "train_nums = [\"\"]\n",
    "target_colname = \"Target\"\n",
    "\n",
    "output_dir = Path(f\"../data/code_model_evaluation/{model_name}\")\n",
    "output_dir.mkdir(exist_ok=True, parents=True)\n",
    "\n",
    "df = evaluate_all_code_models_circle(model_name, seeds, train_nums, target_colname)\n",
    "\n",
    "metrics_summary_df = metrics_summary(df)\n",
    "code_model_execution_trial_count_summary_df = code_model_execution_trial_count_summary(df)\n",
    "code_model_execution_trial_count_each_case_df = code_model_execution_trial_count_each_case(df)\n",
    "\n",
    "save_raw_results(df, output_dir)\n",
    "save_metrics_summary(metrics_summary_df, output_dir)\n",
    "save_code_model_execution_trial_count_summary(code_model_execution_trial_count_summary_df, output_dir)\n",
    "save_code_model_execution_trial_count_each_case(code_model_execution_trial_count_each_case_df, output_dir)"
   ]
  },
  {
   "cell_type": "markdown",
   "id": "71567863-5764-4383-994d-ccbd469926ee",
   "metadata": {},
   "source": [
    "### text"
   ]
  },
  {
   "cell_type": "code",
   "execution_count": 10,
   "id": "de83a76b-46c8-465b-bd96-0f78dd6a8550",
   "metadata": {
    "tags": []
   },
   "outputs": [
    {
     "name": "stderr",
     "output_type": "stream",
     "text": [
      "100%|██████████| 1/1 [02:21<00:00, 141.07s/it]"
     ]
    },
    {
     "name": "stdout",
     "output_type": "stream",
     "text": [
      "Done!\n"
     ]
    },
    {
     "name": "stderr",
     "output_type": "stream",
     "text": [
      "\n"
     ]
    }
   ],
   "source": [
    "model_name = \"text\"\n",
    "seeds = [\"\"]\n",
    "train_nums = [\"\"]\n",
    "target_colname = \"Target\"\n",
    "\n",
    "output_dir = Path(f\"../data/code_model_evaluation/{model_name}\")\n",
    "output_dir.mkdir(exist_ok=True, parents=True)\n",
    "\n",
    "df = evaluate_all_code_models_text(model_name, seeds, train_nums, target_colname)\n",
    "\n",
    "metrics_summary_df = metrics_summary(df)\n",
    "code_model_execution_trial_count_summary_df = code_model_execution_trial_count_summary(df)\n",
    "code_model_execution_trial_count_each_case_df = code_model_execution_trial_count_each_case(df)\n",
    "\n",
    "save_raw_results(df, output_dir)\n",
    "save_metrics_summary(metrics_summary_df, output_dir)\n",
    "save_code_model_execution_trial_count_summary(code_model_execution_trial_count_summary_df, output_dir)\n",
    "save_code_model_execution_trial_count_each_case(code_model_execution_trial_count_each_case_df, output_dir)"
   ]
  },
  {
   "cell_type": "code",
   "execution_count": null,
   "id": "01c8ce6c",
   "metadata": {},
   "outputs": [],
   "source": []
  }
 ],
 "metadata": {
  "autoscrollcelloutput": false,
  "kernelspec": {
   "display_name": "Python 3.9.17 ('iblm-L6oop2Mj-py3.9')",
   "language": "python",
   "name": "python3"
  },
  "language_info": {
   "codemirror_mode": {
    "name": "ipython",
    "version": 3
   },
   "file_extension": ".py",
   "mimetype": "text/x-python",
   "name": "python",
   "nbconvert_exporter": "python",
   "pygments_lexer": "ipython3",
   "version": "3.9.17"
  },
  "vscode": {
   "interpreter": {
    "hash": "67008fb9323ab6c1c90f5d9822582dbef34eff0db475eec3af4e0e9456757ebf"
   }
  },
  "widgets": {
   "application/vnd.jupyter.widget-state+json": {
    "state": {},
    "version_major": 2,
    "version_minor": 0
   }
  }
 },
 "nbformat": 4,
 "nbformat_minor": 5
}

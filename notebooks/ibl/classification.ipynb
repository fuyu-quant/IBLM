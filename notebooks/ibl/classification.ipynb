{
 "cells": [
  {
   "cell_type": "markdown",
   "metadata": {},
   "source": [
    "# Develop"
   ]
  },
  {
   "cell_type": "code",
   "execution_count": 1,
   "metadata": {},
   "outputs": [],
   "source": [
    "%%capture\n",
    "%pip install iblm --upgrade"
   ]
  },
  {
   "cell_type": "code",
   "execution_count": 2,
   "metadata": {},
   "outputs": [
    {
     "name": "stdout",
     "output_type": "stream",
     "text": [
      "iblm                         1.0.0\n",
      "\n",
      "\u001b[1m[\u001b[0m\u001b[34;49mnotice\u001b[0m\u001b[1;39;49m]\u001b[0m\u001b[39;49m A new release of pip is available: \u001b[0m\u001b[31;49m23.1.2\u001b[0m\u001b[39;49m -> \u001b[0m\u001b[32;49m24.0\u001b[0m\n",
      "\u001b[1m[\u001b[0m\u001b[34;49mnotice\u001b[0m\u001b[1;39;49m]\u001b[0m\u001b[39;49m To update, run: \u001b[0m\u001b[32;49mpip install --upgrade pip\u001b[0m\n",
      "Note: you may need to restart the kernel to use updated packages.\n"
     ]
    }
   ],
   "source": [
    "%pip list | grep iblm"
   ]
  },
  {
   "cell_type": "code",
   "execution_count": 2,
   "metadata": {},
   "outputs": [],
   "source": [
    "#import sys\n",
    "#sys.path.append(\"../..\")\n",
    "import pandas as pd\n",
    "import numpy as np\n",
    "\n",
    "#from src.iblm.ibl import IBLModel\n",
    "from iblm import IBLModel, IBLBaggingModel\n",
    "\n",
    "#from src.data import pseudodata\n",
    "from sklearn.datasets import make_classification\n",
    "from sklearn.metrics import accuracy_score\n",
    "from sklearn.linear_model import LogisticRegression\n",
    "from sklearn.svm import SVC\n",
    "from sklearn.ensemble import GradientBoostingClassifier\n",
    "from sklearn.metrics import roc_auc_score"
   ]
  },
  {
   "cell_type": "markdown",
   "metadata": {},
   "source": [
    "### 円形データ"
   ]
  },
  {
   "cell_type": "code",
   "execution_count": 64,
   "metadata": {},
   "outputs": [],
   "source": [
    "def circle_data(n_points, num_train_data, radius, noise):\n",
    "    np.random.seed(0)\n",
    "    theta = np.random.uniform(0, 2*np.pi, n_points)\n",
    "    r = radius + np.random.normal(0, noise, n_points)  # ノイズを加える\n",
    "    x0 = r * np.cos(theta)\n",
    "    y0 = r * np.sin(theta)\n",
    "    labels0 = np.zeros(n_points)\n",
    "\n",
    "    # クラス1のデータ生成\n",
    "    theta = np.random.uniform(0, 2*np.pi, n_points)\n",
    "    r = radius * 0.5 + np.random.normal(0, noise, n_points)  # 内側の円で、ノイズを加える\n",
    "    x1 = r * np.cos(theta)\n",
    "    y1 = r * np.sin(theta)\n",
    "    labels1 = np.ones(n_points)\n",
    "\n",
    "    # データセットを結合\n",
    "    x = np.vstack((np.column_stack((x0, y0)), np.column_stack((x1, y1))))\n",
    "    y = np.hstack((labels0, labels1)).astype(int)\n",
    "\n",
    "    # データの順番をシャッフル\n",
    "    indices = np.random.permutation(len(y))\n",
    "    x = x[indices]\n",
    "    y = y[indices]\n",
    "\n",
    "    x = np.round(x, decimals=3)\n",
    "    x = pd.DataFrame(x)\n",
    "\n",
    "    x_train = x[0:num_train_data]\n",
    "    x_test = x[num_train_data:]\n",
    "\n",
    "    y_train = y[:num_train_data]\n",
    "    y_test = y[num_train_data:]\n",
    "\n",
    "    return x_train, x_test, y_train, y_test\n",
    "\n",
    "\n",
    "radius=10\n",
    "noise=0.1\n",
    "\n",
    "x_train, x_test, y_train, y_test = circle_data(n_points=sample, num_train_data=num_train_data, radius=radius, noise=noise)\n"
   ]
  },
  {
   "cell_type": "markdown",
   "metadata": {},
   "source": [
    "### SVMデータセット"
   ]
  },
  {
   "cell_type": "code",
   "execution_count": 58,
   "metadata": {},
   "outputs": [],
   "source": [
    "def svm_dataset(n_points, num_train_data):\n",
    "    np.random.seed(0)  # 再現性のためのシード設定\n",
    "\n",
    "    # クラス1とクラス2のデータ生成\n",
    "    x1_1 = np.random.normal(loc=0.5, scale=0.5, size=n_points)\n",
    "    x2_1 = np.random.normal(loc=0.5, scale=0.5, size=n_points)\n",
    "    y1 = np.ones(n_points)  # クラス1のラベル\n",
    "\n",
    "    x1_2 = np.random.normal(loc=-0.2, scale=0.5, size=n_points)\n",
    "    x2_2 = np.random.normal(loc=-0.2, scale=0.5, size=n_points)\n",
    "    y2 = np.zeros(n_points)  # クラス2のラベル\n",
    "\n",
    "    # データの結合\n",
    "    x1 = np.concatenate([x1_1, x1_2])\n",
    "    x2 = np.concatenate([x2_1, x2_2])\n",
    "    x = np.vstack([x1, x2]).T\n",
    "    y = np.concatenate([y1, y2])\n",
    "\n",
    "    # データのシャッフル\n",
    "    indices = np.random.permutation(n_points * 2)\n",
    "    x_shuffled = x[indices]\n",
    "    y_shuffled = y[indices]\n",
    "\n",
    "    # pandas DataFrameへの変換\n",
    "    x_shuffled = pd.DataFrame(x_shuffled)\n",
    "\n",
    "    # トレーニングセットとテストセットに分割\n",
    "    x_train = x_shuffled.iloc[:num_train_data]\n",
    "    x_test = x_shuffled.iloc[num_train_data:]\n",
    "    y_train = y_shuffled[:num_train_data]\n",
    "    y_test = y_shuffled[num_train_data:]\n",
    "\n",
    "    return x_train, x_test, y_train, y_test\n",
    "\n",
    "\n",
    "x_train, x_test, y_train, y_test = svm_dataset(n_points = sample, num_train_data = num_train_data)\n"
   ]
  },
  {
   "cell_type": "markdown",
   "metadata": {},
   "source": [
    "### GBDTデータセット"
   ]
  },
  {
   "cell_type": "code",
   "execution_count": 87,
   "metadata": {},
   "outputs": [],
   "source": [
    "def lgbm_dataset(n_points, num_train_data):\n",
    "    np.random.seed(42)\n",
    "\n",
    "    # Generate a mix of sine and cosine functions with noise as features\n",
    "    X1 = np.linspace(0, 6*np.pi, n_points)\n",
    "    X2 = np.sin(X1) + np.random.normal(0, 0.1, n_points)\n",
    "    X3 = np.cos(X1) + np.random.normal(0, 0.1, n_points)\n",
    "    X4 = X2 * X3 + np.random.normal(0, 0.1, n_points)  # Interaction term\n",
    "    x = np.vstack((X2, X3, X4)).T\n",
    "\n",
    "    # Generate labels based on a non-linear combination of features\n",
    "    y = (np.sin(X1) > 0).astype(int)\n",
    "\n",
    "    # Fix: Corrected the way of shuffling data using a single sequence of indices\n",
    "    indices = np.arange(n_points)  # Fixed to generate indices for the actual number of points\n",
    "    np.random.shuffle(indices)\n",
    "    x_shuffled = x[indices]\n",
    "    y_shuffled = y[indices]\n",
    "\n",
    "    # Conversion to pandas DataFrame\n",
    "    x_shuffled = pd.DataFrame(x_shuffled, columns=['Feature1', 'Feature2', 'Feature3'])\n",
    "\n",
    "    # Splitting into training and test sets\n",
    "    x_train = x_shuffled.iloc[:num_train_data]\n",
    "    x_test = x_shuffled.iloc[num_train_data:]\n",
    "    y_train = y_shuffled[:num_train_data]\n",
    "    y_test = y_shuffled[num_train_data:]\n",
    "    return x_train, x_test, y_train, y_test\n",
    "\n",
    "x_train, x_test, y_train, y_test = lgbm_dataset(n_points = sample, num_train_data = num_train_data)"
   ]
  },
  {
   "cell_type": "markdown",
   "metadata": {},
   "source": [
    "### sklearn擬似データ"
   ]
  },
  {
   "cell_type": "code",
   "execution_count": 3,
   "metadata": {},
   "outputs": [
    {
     "data": {
      "text/html": [
       "<div>\n",
       "<style scoped>\n",
       "    .dataframe tbody tr th:only-of-type {\n",
       "        vertical-align: middle;\n",
       "    }\n",
       "\n",
       "    .dataframe tbody tr th {\n",
       "        vertical-align: top;\n",
       "    }\n",
       "\n",
       "    .dataframe thead th {\n",
       "        text-align: right;\n",
       "    }\n",
       "</style>\n",
       "<table border=\"1\" class=\"dataframe\">\n",
       "  <thead>\n",
       "    <tr style=\"text-align: right;\">\n",
       "      <th></th>\n",
       "      <th>0</th>\n",
       "      <th>1</th>\n",
       "      <th>2</th>\n",
       "      <th>3</th>\n",
       "      <th>4</th>\n",
       "      <th>5</th>\n",
       "    </tr>\n",
       "  </thead>\n",
       "  <tbody>\n",
       "    <tr>\n",
       "      <th>1000</th>\n",
       "      <td>-0.515</td>\n",
       "      <td>-0.744</td>\n",
       "      <td>-0.049</td>\n",
       "      <td>-0.376</td>\n",
       "      <td>1.467</td>\n",
       "      <td>-0.887</td>\n",
       "    </tr>\n",
       "    <tr>\n",
       "      <th>1001</th>\n",
       "      <td>-1.101</td>\n",
       "      <td>-2.259</td>\n",
       "      <td>0.505</td>\n",
       "      <td>-1.825</td>\n",
       "      <td>0.744</td>\n",
       "      <td>0.632</td>\n",
       "    </tr>\n",
       "    <tr>\n",
       "      <th>1002</th>\n",
       "      <td>0.372</td>\n",
       "      <td>-0.905</td>\n",
       "      <td>0.615</td>\n",
       "      <td>-1.111</td>\n",
       "      <td>-0.878</td>\n",
       "      <td>-1.240</td>\n",
       "    </tr>\n",
       "    <tr>\n",
       "      <th>1003</th>\n",
       "      <td>-0.365</td>\n",
       "      <td>0.991</td>\n",
       "      <td>-1.323</td>\n",
       "      <td>1.261</td>\n",
       "      <td>-1.099</td>\n",
       "      <td>-0.531</td>\n",
       "    </tr>\n",
       "    <tr>\n",
       "      <th>1004</th>\n",
       "      <td>-0.506</td>\n",
       "      <td>-2.773</td>\n",
       "      <td>0.621</td>\n",
       "      <td>-2.445</td>\n",
       "      <td>-0.068</td>\n",
       "      <td>-3.009</td>\n",
       "    </tr>\n",
       "  </tbody>\n",
       "</table>\n",
       "</div>"
      ],
      "text/plain": [
       "          0      1      2      3      4      5\n",
       "1000 -0.515 -0.744 -0.049 -0.376  1.467 -0.887\n",
       "1001 -1.101 -2.259  0.505 -1.825  0.744  0.632\n",
       "1002  0.372 -0.905  0.615 -1.111 -0.878 -1.240\n",
       "1003 -0.365  0.991 -1.323  1.261 -1.099 -0.531\n",
       "1004 -0.506 -2.773  0.621 -2.445 -0.068 -3.009"
      ]
     },
     "execution_count": 3,
     "metadata": {},
     "output_type": "execute_result"
    }
   ],
   "source": [
    "num_train_data = 100 # 50〜300\n",
    "num_test_data = 1000\n",
    "sample = num_train_data + num_test_data\n",
    "n_informative = 4\n",
    "n_redundant = 2\n",
    "n_features = n_informative + n_redundant\n",
    "weights = [0.5, 0.5]\n",
    "flip_y=0\n",
    "seed = 3655  # 3655,3656,3657\n",
    "\n",
    "# testデータの個数を揃えるためにtrain_test_splitを使っていない\n",
    "x, y = make_classification(\n",
    "    n_samples = sample,  # データ数\n",
    "    n_features = n_features,  # 特徴量の数\n",
    "    n_informative = n_informative,  # ラベル予測に意味のある特徴量の数\n",
    "    n_redundant = n_redundant,  # 冗長な特徴量\n",
    "    weights = weights,  # [0,1]の割合\n",
    "    flip_y = flip_y, # 逆のラベルに反転する割合\n",
    "    random_state = seed\n",
    "    )\n",
    "\n",
    "x = np.round(x, decimals=3)\n",
    "x = pd.DataFrame(x)\n",
    "\n",
    "x_test = x[0:num_test_data]\n",
    "x_train = x[num_test_data:]\n",
    "\n",
    "y_test = y[:num_test_data]\n",
    "y_train = y[num_test_data:]\n",
    "\n",
    "x_train.head()"
   ]
  },
  {
   "cell_type": "markdown",
   "metadata": {},
   "source": [
    "### Claude"
   ]
  },
  {
   "cell_type": "code",
   "execution_count": 58,
   "metadata": {},
   "outputs": [
    {
     "name": "stderr",
     "output_type": "stream",
     "text": [
      "2024-03-16 17:43:57,972 [iblm.ibl][INFO] (ibl:ibl.py:fit:167)\n"
     ]
    },
    {
     "data": {
      "text/plain": [
       "{'roc_auc': 0.524855,\n",
       " 'pr_auc': 0.55858,\n",
       " 'accuracy': 0.553,\n",
       " 'recall': 0.422535,\n",
       " 'precision': 0.567568,\n",
       " 'f1_score': 0.484429}"
      ]
     },
     "execution_count": 58,
     "metadata": {},
     "output_type": "execute_result"
    }
   ],
   "source": [
    "iblm = IBLModel(api_type=\"claude\", model_name=\"claude-3-opus-20240229\", objective=\"binary\")\n",
    "model = iblm.fit(x_train, y_train)\n",
    "y_pred = iblm.predict(x_test)\n",
    "iblm.evaluate(y_test, y_pred)"
   ]
  },
  {
   "cell_type": "markdown",
   "metadata": {},
   "source": [
    "### Claude Bagging"
   ]
  },
  {
   "cell_type": "code",
   "execution_count": 63,
   "metadata": {},
   "outputs": [
    {
     "name": "stderr",
     "output_type": "stream",
     "text": [
      "2024-03-16 17:48:08,721 [iblm.ibl][INFO] (ibl:ibl.py:fit:167)\n",
      "2024-03-16 17:48:27,572 [iblm.ibl][INFO] (ibl:ibl.py:fit:167)\n",
      "2024-03-16 17:48:46,166 [iblm.ibl][INFO] (ibl:ibl.py:fit:167)\n",
      "2024-03-16 17:49:03,986 [iblm.ibl][INFO] (ibl:ibl.py:fit:167)\n",
      "2024-03-16 17:49:17,738 [iblm.ibl][INFO] (ibl:ibl.py:fit:167)\n"
     ]
    }
   ],
   "source": [
    "iblbagging = IBLBaggingModel(\n",
    "    api_type=\"claude\",\n",
    "    model_name=\"claude-3-opus-20240229\",\n",
    "    objective=\"binary\",\n",
    "    num_model=5,\n",
    "    max_sample = 100,\n",
    "    min_sample = 50,\n",
    "    )\n",
    "code_models = iblbagging.fit(x_train, y_train)"
   ]
  },
  {
   "cell_type": "code",
   "execution_count": 64,
   "metadata": {},
   "outputs": [
    {
     "name": "stdout",
     "output_type": "stream",
     "text": [
      "{'roc_auc': 0.513082, 'pr_auc': 0.571708, 'accuracy': 0.53, 'recall': 0.418511, 'precision': 0.534704, 'f1_score': 0.469526}\n",
      "{'roc_auc': 0.50031, 'pr_auc': 0.582248, 'accuracy': 0.512, 'recall': 0.486922, 'precision': 0.509474, 'f1_score': 0.497942}\n",
      "{'roc_auc': 0.499182, 'pr_auc': 0.57723, 'accuracy': 0.436, 'recall': 0.555332, 'precision': 0.44588, 'f1_score': 0.494624}\n",
      "{'roc_auc': 0.509106, 'pr_auc': 0.579528, 'accuracy': 0.448, 'recall': 0.609658, 'precision': 0.458396, 'f1_score': 0.523316}\n"
     ]
    }
   ],
   "source": [
    "top_model = 5\n",
    "\n",
    "for i in range(1, top_model):\n",
    "    y_pred = iblbagging.predict_(x_test, i)\n",
    "    print(iblbagging.evaluate(y_test, y_pred))"
   ]
  },
  {
   "cell_type": "markdown",
   "metadata": {},
   "source": [
    "### GPT-4 Turbo"
   ]
  },
  {
   "cell_type": "code",
   "execution_count": 68,
   "metadata": {},
   "outputs": [
    {
     "name": "stderr",
     "output_type": "stream",
     "text": [
      "2024-03-16 17:50:00,480 [iblm.ibl][INFO] (ibl:ibl.py:fit:167)\n"
     ]
    },
    {
     "data": {
      "text/plain": [
       "{'roc_auc': 0.530169,\n",
       " 'pr_auc': 0.529849,\n",
       " 'accuracy': 0.527,\n",
       " 'recall': 0.225352,\n",
       " 'precision': 0.56,\n",
       " 'f1_score': 0.321377}"
      ]
     },
     "execution_count": 68,
     "metadata": {},
     "output_type": "execute_result"
    }
   ],
   "source": [
    "iblm = IBLModel(api_type=\"openai\", model_name=\"gpt-4-0125-preview\", objective=\"binary\")\n",
    "model = iblm.fit(x_train, y_train, seed=3655)\n",
    "y_pred = iblm.predict(x_test)\n",
    "iblm.evaluate(y_test, y_pred)"
   ]
  },
  {
   "cell_type": "markdown",
   "metadata": {},
   "source": [
    "### ロジスティック回帰"
   ]
  },
  {
   "cell_type": "code",
   "execution_count": 69,
   "metadata": {},
   "outputs": [
    {
     "name": "stdout",
     "output_type": "stream",
     "text": [
      "Logistic Regression AUC: 0.5386\n",
      "Logistic Regression Accuracy: 0.5410\n"
     ]
    }
   ],
   "source": [
    "log_reg = LogisticRegression(random_state=3655)\n",
    "log_reg.fit(x_train, y_train)\n",
    "log_reg_probs = log_reg.predict_proba(x_test)[:, 1]\n",
    "log_reg_auc = roc_auc_score(y_test, log_reg_probs)\n",
    "\n",
    "\n",
    "log_reg_preds = log_reg.predict(x_test) # 予測ラベルを計算\n",
    "log_reg_accuracy = accuracy_score(y_test, log_reg_preds) # 精度を計算\n",
    "\n",
    "# AUCと精度を出力\n",
    "print(f\"Logistic Regression AUC: {log_reg_auc:.4f}\")\n",
    "print(f\"Logistic Regression Accuracy: {log_reg_accuracy:.4f}\")"
   ]
  },
  {
   "cell_type": "markdown",
   "metadata": {},
   "source": [
    "### SVM"
   ]
  },
  {
   "cell_type": "code",
   "execution_count": 66,
   "metadata": {},
   "outputs": [
    {
     "name": "stdout",
     "output_type": "stream",
     "text": [
      "SVM AUC: 0.8936\n",
      "SVM Accuracy: 0.8130\n"
     ]
    }
   ],
   "source": [
    "svm = SVC(probability=True, random_state=42)  # probability=Trueで確率出力を有効化\n",
    "svm.fit(x_train, y_train)\n",
    "svm_probs = svm.predict_proba(x_test)[:, 1]\n",
    "svm_auc = roc_auc_score(y_test, svm_probs)\n",
    "\n",
    "# 追加コード: 精度を計算\n",
    "svm_preds = svm.predict(x_test) # 予測ラベルを計算\n",
    "svm_accuracy = accuracy_score(y_test, svm_preds) # 精度を計算\n",
    "\n",
    "# AUCと精度を出力\n",
    "print(f\"SVM AUC: {svm_auc:.4f}\")\n",
    "print(f\"SVM Accuracy: {svm_accuracy:.4f}\")"
   ]
  },
  {
   "cell_type": "markdown",
   "metadata": {},
   "source": [
    "### GBDT"
   ]
  },
  {
   "cell_type": "code",
   "execution_count": 67,
   "metadata": {},
   "outputs": [
    {
     "name": "stdout",
     "output_type": "stream",
     "text": [
      "GBDT AUC: 0.8329\n",
      "GBDT Accuracy: 0.7350\n"
     ]
    }
   ],
   "source": [
    "gb_clf = GradientBoostingClassifier(n_estimators=100, learning_rate=0.1, max_depth=3, random_state=42)\n",
    "gb_clf.fit(x_train, y_train)\n",
    "y_pred = gb_clf.predict_proba(x_test)[:, 1]\n",
    "gbdt_auc = roc_auc_score(y_test, y_pred)\n",
    "\n",
    "# 追加コード: 精度を計算\n",
    "gb_clf_preds = gb_clf.predict(x_test) # 予測ラベルを計算\n",
    "gb_clf_accuracy = accuracy_score(y_test, gb_clf_preds) # 精度を計算\n",
    "\n",
    "# AUCと精度を出力\n",
    "print(f\"GBDT AUC: {gbdt_auc:.4f}\")\n",
    "print(f\"GBDT Accuracy: {gb_clf_accuracy:.4f}\")"
   ]
  },
  {
   "cell_type": "code",
   "execution_count": null,
   "metadata": {},
   "outputs": [],
   "source": []
  },
  {
   "cell_type": "code",
   "execution_count": 234,
   "metadata": {},
   "outputs": [],
   "source": [
    "#values = [0.99180, 0.93893, 0.92402, 0.93959]\n",
    "#values = [0.87694, 0.881488, 0.95156, 0.90104]\n",
    "#values = [0.860481, 0.841916, 0.862391, 0.8450683]\n",
    "\n",
    "\n",
    "#values = [0.72598, 0.85823, 0.85836, 0.91805, 0.99180]\n",
    "#values = [0.75880, 0.90408, 0.88149, 0.93893, 0.83601]\n",
    "#values = [0.67326, 0.92402, 0.650133, 0.223092, 0.85594]\n",
    "#values = [0.93959, 0.90104, 0.72344, 0.845402, 0.91754]\n",
    "\n",
    "#values = [0.75947, 0.87694, 0.809129, 0.29116, 0.706267]\n",
    "#values = [0.12979, 0.80999, 0.881488, 0.84443, 0.32652]\n",
    "#values = [0.29293, 0.931014, 0.95156, 0.85095, 0.727106]\n",
    "#values = [0.68948, 0.90104, 0.310713, 0.84540, 0.2420659]\n",
    "\n",
    "#values = [0.8128, 0.85822, 0.809121, 0.859184, 0.860481]\n",
    "#values = [0.84044, 0.80999, 0.796973, 0.841916, 0.836025]\n",
    "#values = [0.862391, 0.83288, 0.834107, 0.85095, 0.855949]\n",
    "values = [0.844427, 0.818141, 0.84441, 0.84540, 0.8450683]"
   ]
  },
  {
   "cell_type": "code",
   "execution_count": 235,
   "metadata": {},
   "outputs": [
    {
     "name": "stdout",
     "output_type": "stream",
     "text": [
      "0.83948926\n",
      "0.010680877287489081\n"
     ]
    }
   ],
   "source": [
    "mean_value = sum(values) / len(values)\n",
    "print(mean_value)\n",
    "# 各値の平均値からの差の二乗の平均（分散）を計算\n",
    "variance = sum((x - mean_value) ** 2 for x in values) / len(values)\n",
    "\n",
    "# 分散の平方根を取って標準偏差を求める\n",
    "standard_deviation = variance ** 0.5\n",
    "print(standard_deviation)\n"
   ]
  },
  {
   "cell_type": "code",
   "execution_count": 6,
   "metadata": {},
   "outputs": [
    {
     "name": "stdout",
     "output_type": "stream",
     "text": [
      "def predict(x):\n",
      "    import numpy as np\n",
      "\n",
      "    df = x.copy()\n",
      "    output = []\n",
      "    for index, row in df.iterrows():\n",
      "        # Do not change the code before this point.\n",
      "        # Please describe the process required to make the prediction below.\n",
      "        x1 = row[0]\n",
      "        x2 = row[1]\n",
      "\n",
      "        if x1 > 0 and x2 < 0:\n",
      "            y = 1.0\n",
      "        elif x1 < 0 and x2 > 0:\n",
      "            y = 0.0\n",
      "        else:\n",
      "            if x1 > 0.5 and x2 > 0.5:\n",
      "                y = 0.9\n",
      "            elif x1 < -0.5 and x2 < -0.5:\n",
      "                y = 0.1\n",
      "            else:\n",
      "                if x1 > 0:\n",
      "                    y = 0.6 + 0.3 * (x1 - 0.5)\n",
      "                elif x1 < 0:\n",
      "                    y = 0.4 + 0.3 * (x1 + 0.5)\n",
      "                else:\n",
      "                    y = 0.5\n",
      "\n",
      "        # Do not change the code after this point.\n",
      "        output.append(y)\n",
      "    return np.array(output)\n"
     ]
    }
   ],
   "source": [
    "def extract_code_block(text):\n",
    "    # 分割するためのキーワードを定義\n",
    "    start_keyword = \"#########\"\n",
    "    end_keyword = \"#########\"\n",
    "\n",
    "    # 開始キーワードと終了キーワードでテキストを分割\n",
    "    start_index = text.find(start_keyword) + len(start_keyword)\n",
    "    end_index = text.rfind(end_keyword)\n",
    "\n",
    "    # 必要な部分のみを抽出\n",
    "    extracted_text = text[start_index:end_index].strip()\n",
    "\n",
    "    return extracted_text\n",
    "\n",
    "# 与えられた文字列\n",
    "input_text = \"\"\"\n",
    "code model\n",
    "#########\n",
    "def predict(x):\n",
    "    import numpy as np\n",
    "\n",
    "    df = x.copy()\n",
    "    output = []\n",
    "    for index, row in df.iterrows():\n",
    "        # Do not change the code before this point.\n",
    "        # Please describe the process required to make the prediction below.\n",
    "        x1 = row[0]\n",
    "        x2 = row[1]\n",
    "\n",
    "        if x1 > 0 and x2 < 0:\n",
    "            y = 1.0\n",
    "        elif x1 < 0 and x2 > 0:\n",
    "            y = 0.0\n",
    "        else:\n",
    "            if x1 > 0.5 and x2 > 0.5:\n",
    "                y = 0.9\n",
    "            elif x1 < -0.5 and x2 < -0.5:\n",
    "                y = 0.1\n",
    "            else:\n",
    "                if x1 > 0:\n",
    "                    y = 0.6 + 0.3 * (x1 - 0.5)\n",
    "                elif x1 < 0:\n",
    "                    y = 0.4 + 0.3 * (x1 + 0.5)\n",
    "                else:\n",
    "                    y = 0.5\n",
    "\n",
    "        # Do not change the code after this point.\n",
    "        output.append(y)\n",
    "    return np.array(output)\n",
    "#########\n",
    "\"\"\"\n",
    "\n",
    "# コードブロックを抽出\n",
    "extracted_code = extract_code_block(input_text)\n",
    "\n",
    "# 結果を表示\n",
    "print(extracted_code)"
   ]
  }
 ],
 "metadata": {
  "kernelspec": {
   "display_name": ".venv",
   "language": "python",
   "name": "python3"
  },
  "language_info": {
   "codemirror_mode": {
    "name": "ipython",
    "version": 3
   },
   "file_extension": ".py",
   "mimetype": "text/x-python",
   "name": "python",
   "nbconvert_exporter": "python",
   "pygments_lexer": "ipython3",
   "version": "3.9.18"
  }
 },
 "nbformat": 4,
 "nbformat_minor": 2
}

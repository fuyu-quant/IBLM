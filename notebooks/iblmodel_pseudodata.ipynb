{
 "cells": [
  {
   "cell_type": "markdown",
   "metadata": {},
   "source": [
    "# Pseudo dataset\n",
    "* Get sample data [here](https://github.com/fuyu-quant/IBLM/tree/main/datasets)."
   ]
  },
  {
   "cell_type": "code",
   "execution_count": 1,
   "metadata": {},
   "outputs": [],
   "source": [
    "%%capture\n",
    "!pip install git+https://github.com/fuyu-quant/IBLM.git@feature-in-context-learning "
   ]
  },
  {
   "cell_type": "code",
   "execution_count": 2,
   "metadata": {},
   "outputs": [],
   "source": [
    "#%%capture\n",
    "#!pip install git+https://github.com/fuyu-quant/IBLM.git"
   ]
  },
  {
   "cell_type": "code",
   "execution_count": 3,
   "metadata": {},
   "outputs": [
    {
     "name": "stdout",
     "output_type": "stream",
     "text": [
      "0.1.39\n"
     ]
    }
   ],
   "source": [
    "import pkg_resources\n",
    "print(pkg_resources.get_distribution('IBLM').version)"
   ]
  },
  {
   "cell_type": "markdown",
   "metadata": {},
   "source": [
    "### Training"
   ]
  },
  {
   "cell_type": "code",
   "execution_count": 4,
   "metadata": {},
   "outputs": [],
   "source": [
    "import pandas as pd\n",
    "import numpy as np\n",
    "from langchain.llms import OpenAI\n",
    "from sklearn.metrics import accuracy_score, precision_score, recall_score, f1_score, roc_auc_score\n",
    "\n",
    "from iblm import IBLMClassifier\n",
    "\n",
    "import sys\n",
    "import os"
   ]
  },
  {
   "cell_type": "code",
   "execution_count": 5,
   "metadata": {},
   "outputs": [],
   "source": [
    "columns = 4\n",
    "train_data = 300\n",
    "\n",
    "file_name = f'pseudodata_{columns}f_{train_data}_train.csv'\n",
    "\n",
    "\n",
    "df = pd.read_csv(f'../data/pseudodata/{file_name}')\n",
    "x_train = df.drop('target', axis=1)\n",
    "y_train = df['target']"
   ]
  },
  {
   "cell_type": "code",
   "execution_count": 6,
   "metadata": {},
   "outputs": [],
   "source": [
    "\n",
    "llm_model = OpenAI(temperature=0, model_name = 'gpt-4')\n",
    "\n",
    "params = {'columns_name': True}\n",
    "\n",
    "iblm = IBLMClassifier(llm_model_name = 1, llm_model = llm_model, params=params)"
   ]
  },
  {
   "cell_type": "code",
   "execution_count": 7,
   "metadata": {},
   "outputs": [
    {
     "name": "stdout",
     "output_type": "stream",
     "text": [
      "> Start of model creating.\n",
      "Tokens Used: 6585\n",
      "\tPrompt Tokens: 6437\n",
      "\tCompletion Tokens: 148\n",
      "Successful Requests: 1\n",
      "Total Cost (USD): $0.20198999999999998\n"
     ]
    }
   ],
   "source": [
    "file_path = '../models/pseudodata/'\n",
    "\n",
    "model = iblm.fit(x_train, y_train, model_name = 'pseudodata', file_path=file_path)"
   ]
  },
  {
   "cell_type": "code",
   "execution_count": 8,
   "metadata": {},
   "outputs": [
    {
     "name": "stdout",
     "output_type": "stream",
     "text": [
      "import numpy as np\n",
      "\n",
      "def predict(x):\n",
      "    df = x.copy()\n",
      "    output = []\n",
      "    for index, row in df.iterrows():\n",
      "        # Do not change the code before this point.\n",
      "        \n",
      "        # Calculate the weighted sum of the input features\n",
      "        weighted_sum = row['a'] * 0.3 + row['b'] * 0.2 + row['c'] * 0.4 + row['d'] * 0.1\n",
      "        \n",
      "        # Apply the sigmoid function to the weighted sum to get the probability\n",
      "        y = 1 / (1 + np.exp(-weighted_sum))\n",
      "\n",
      "        # Do not change the code after this point.\n",
      "        output.append(y)\n",
      "    return np.array(output)\n"
     ]
    }
   ],
   "source": [
    "# Code of the model created\n",
    "print(model)"
   ]
  },
  {
   "cell_type": "markdown",
   "metadata": {},
   "source": [
    "### Prediction"
   ]
  },
  {
   "cell_type": "code",
   "execution_count": 9,
   "metadata": {},
   "outputs": [],
   "source": [
    "file_name = f'pseudodata_{columns}f_{train_data}_test.csv'\n",
    "\n",
    "\n",
    "df = pd.read_csv(f'../data/pseudodata/{file_name}')\n",
    "x_test = df.drop('target', axis=1)\n",
    "y_test = df['target']"
   ]
  },
  {
   "cell_type": "code",
   "execution_count": 10,
   "metadata": {},
   "outputs": [],
   "source": [
    "y_proba = iblm.predict(x_test)\n",
    "y_pred = (y_proba > 0.5).astype(int)"
   ]
  },
  {
   "cell_type": "code",
   "execution_count": 11,
   "metadata": {},
   "outputs": [
    {
     "name": "stdout",
     "output_type": "stream",
     "text": [
      "Accuracy: 0.4829\n",
      "Precision: 0.4811\n",
      "Recall: 0.4371\n",
      "F1 score: 0.4581\n",
      "ROC-AUC: 0.553\n"
     ]
    }
   ],
   "source": [
    "accuracy = round(accuracy_score(y_test, y_pred),4)\n",
    "print(f'Accuracy: {accuracy}')\n",
    "\n",
    "# Precision\n",
    "precision = round(precision_score(y_test, y_pred),4)\n",
    "print(f'Precision: {precision}')\n",
    "\n",
    "# Recall\n",
    "recall = round(recall_score(y_test, y_pred),4)\n",
    "print(f'Recall: {recall}')\n",
    "\n",
    "# F1 score\n",
    "f1 = round(f1_score(y_test, y_pred),4)\n",
    "print(f'F1 score: {f1}')\n",
    "\n",
    "# ROC-AUC (you need prediction probabilities for this, not just class predictions)\n",
    "# Here we just reuse y_pred for simplicity\n",
    "roc_auc = round(roc_auc_score(y_test, y_proba),4)\n",
    "print(f'ROC-AUC: {roc_auc}')"
   ]
  },
  {
   "cell_type": "markdown",
   "metadata": {},
   "source": [
    "### Creating Multiple Models"
   ]
  },
  {
   "cell_type": "code",
   "execution_count": 12,
   "metadata": {},
   "outputs": [
    {
     "name": "stdout",
     "output_type": "stream",
     "text": [
      "> Start of model creating.\n",
      "Tokens Used: 6585\n",
      "\tPrompt Tokens: 6437\n",
      "\tCompletion Tokens: 148\n",
      "Successful Requests: 1\n",
      "Total Cost (USD): $0.20198999999999998\n",
      "> Start of model creating.\n",
      "Tokens Used: 6585\n",
      "\tPrompt Tokens: 6437\n",
      "\tCompletion Tokens: 148\n",
      "Successful Requests: 1\n",
      "Total Cost (USD): $0.20198999999999998\n",
      "> Start of model creating.\n",
      "Tokens Used: 6585\n",
      "\tPrompt Tokens: 6437\n",
      "\tCompletion Tokens: 148\n",
      "Successful Requests: 1\n",
      "Total Cost (USD): $0.20198999999999998\n",
      "> Start of model creating.\n",
      "Tokens Used: 6585\n",
      "\tPrompt Tokens: 6437\n",
      "\tCompletion Tokens: 148\n",
      "Successful Requests: 1\n",
      "Total Cost (USD): $0.20198999999999998\n",
      "> Start of model creating.\n",
      "Tokens Used: 6585\n",
      "\tPrompt Tokens: 6437\n",
      "\tCompletion Tokens: 148\n",
      "Successful Requests: 1\n",
      "Total Cost (USD): $0.20198999999999998\n",
      "> Start of model creating.\n",
      "Tokens Used: 6585\n",
      "\tPrompt Tokens: 6437\n",
      "\tCompletion Tokens: 148\n",
      "Successful Requests: 1\n",
      "Total Cost (USD): $0.20198999999999998\n",
      "> Start of model creating.\n",
      "Tokens Used: 6585\n",
      "\tPrompt Tokens: 6437\n",
      "\tCompletion Tokens: 148\n",
      "Successful Requests: 1\n",
      "Total Cost (USD): $0.20198999999999998\n",
      "> Start of model creating.\n",
      "Tokens Used: 6585\n",
      "\tPrompt Tokens: 6437\n",
      "\tCompletion Tokens: 148\n",
      "Successful Requests: 1\n",
      "Total Cost (USD): $0.20198999999999998\n",
      "> Start of model creating.\n",
      "Tokens Used: 6585\n",
      "\tPrompt Tokens: 6437\n",
      "\tCompletion Tokens: 148\n",
      "Successful Requests: 1\n",
      "Total Cost (USD): $0.20198999999999998\n",
      "> Start of model creating.\n",
      "Tokens Used: 6585\n",
      "\tPrompt Tokens: 6437\n",
      "\tCompletion Tokens: 148\n",
      "Successful Requests: 1\n",
      "Total Cost (USD): $0.20198999999999998\n",
      "> Start of model creating.\n",
      "Tokens Used: 6585\n",
      "\tPrompt Tokens: 6437\n",
      "\tCompletion Tokens: 148\n",
      "Successful Requests: 1\n",
      "Total Cost (USD): $0.20198999999999998\n",
      "> Start of model creating.\n",
      "Tokens Used: 6585\n",
      "\tPrompt Tokens: 6437\n",
      "\tCompletion Tokens: 148\n",
      "Successful Requests: 1\n",
      "Total Cost (USD): $0.20198999999999998\n",
      "> Start of model creating.\n",
      "Tokens Used: 6585\n",
      "\tPrompt Tokens: 6437\n",
      "\tCompletion Tokens: 148\n",
      "Successful Requests: 1\n",
      "Total Cost (USD): $0.20198999999999998\n",
      "> Start of model creating.\n",
      "Tokens Used: 6585\n",
      "\tPrompt Tokens: 6437\n",
      "\tCompletion Tokens: 148\n",
      "Successful Requests: 1\n",
      "Total Cost (USD): $0.20198999999999998\n",
      "> Start of model creating.\n",
      "Tokens Used: 6586\n",
      "\tPrompt Tokens: 6437\n",
      "\tCompletion Tokens: 149\n",
      "Successful Requests: 1\n",
      "Total Cost (USD): $0.20204999999999998\n",
      "> Start of model creating.\n",
      "Tokens Used: 6585\n",
      "\tPrompt Tokens: 6437\n",
      "\tCompletion Tokens: 148\n",
      "Successful Requests: 1\n",
      "Total Cost (USD): $0.20198999999999998\n",
      "> Start of model creating.\n",
      "Tokens Used: 6585\n",
      "\tPrompt Tokens: 6437\n",
      "\tCompletion Tokens: 148\n",
      "Successful Requests: 1\n",
      "Total Cost (USD): $0.20198999999999998\n",
      "> Start of model creating.\n",
      "Tokens Used: 6585\n",
      "\tPrompt Tokens: 6437\n",
      "\tCompletion Tokens: 148\n",
      "Successful Requests: 1\n",
      "Total Cost (USD): $0.20198999999999998\n",
      "> Start of model creating.\n",
      "Tokens Used: 6586\n",
      "\tPrompt Tokens: 6437\n",
      "\tCompletion Tokens: 149\n",
      "Successful Requests: 1\n",
      "Total Cost (USD): $0.20204999999999998\n",
      "> Start of model creating.\n",
      "Tokens Used: 6585\n",
      "\tPrompt Tokens: 6437\n",
      "\tCompletion Tokens: 148\n",
      "Successful Requests: 1\n",
      "Total Cost (USD): $0.20198999999999998\n",
      "> Start of model creating.\n",
      "Tokens Used: 6585\n",
      "\tPrompt Tokens: 6437\n",
      "\tCompletion Tokens: 148\n",
      "Successful Requests: 1\n",
      "Total Cost (USD): $0.20198999999999998\n",
      "> Start of model creating.\n",
      "Tokens Used: 6585\n",
      "\tPrompt Tokens: 6437\n",
      "\tCompletion Tokens: 148\n",
      "Successful Requests: 1\n",
      "Total Cost (USD): $0.20198999999999998\n",
      "> Start of model creating.\n",
      "Tokens Used: 6585\n",
      "\tPrompt Tokens: 6437\n",
      "\tCompletion Tokens: 148\n",
      "Successful Requests: 1\n",
      "Total Cost (USD): $0.20198999999999998\n",
      "> Start of model creating.\n",
      "Tokens Used: 6586\n",
      "\tPrompt Tokens: 6437\n",
      "\tCompletion Tokens: 149\n",
      "Successful Requests: 1\n",
      "Total Cost (USD): $0.20204999999999998\n",
      "> Start of model creating.\n",
      "Tokens Used: 6545\n",
      "\tPrompt Tokens: 6437\n",
      "\tCompletion Tokens: 108\n",
      "Successful Requests: 1\n",
      "Total Cost (USD): $0.19959\n",
      "> Start of model creating.\n",
      "Tokens Used: 6585\n",
      "\tPrompt Tokens: 6437\n",
      "\tCompletion Tokens: 148\n",
      "Successful Requests: 1\n",
      "Total Cost (USD): $0.20198999999999998\n",
      "> Start of model creating.\n",
      "Tokens Used: 6597\n",
      "\tPrompt Tokens: 6437\n",
      "\tCompletion Tokens: 160\n",
      "Successful Requests: 1\n",
      "Total Cost (USD): $0.20270999999999997\n",
      "> Start of model creating.\n",
      "Tokens Used: 6585\n",
      "\tPrompt Tokens: 6437\n",
      "\tCompletion Tokens: 148\n",
      "Successful Requests: 1\n",
      "Total Cost (USD): $0.20198999999999998\n",
      "> Start of model creating.\n",
      "Tokens Used: 6585\n",
      "\tPrompt Tokens: 6437\n",
      "\tCompletion Tokens: 148\n",
      "Successful Requests: 1\n",
      "Total Cost (USD): $0.20198999999999998\n",
      "> Start of model creating.\n",
      "Tokens Used: 6598\n",
      "\tPrompt Tokens: 6437\n",
      "\tCompletion Tokens: 161\n",
      "Successful Requests: 1\n",
      "Total Cost (USD): $0.20276999999999998\n"
     ]
    }
   ],
   "source": [
    "columns = 4\n",
    "train_data = 300\n",
    "\n",
    "file_name = f'pseudodata_{columns}f_{train_data}_train.csv'\n",
    "\n",
    "\n",
    "df = pd.read_csv(f'../data/pseudodata/{file_name}')\n",
    "x_train = df.drop('target', axis=1)\n",
    "y_train = df['target']\n",
    "\n",
    "file_path = '../models/pseudodata/'\n",
    "for i in range(1,31):\n",
    "    model = iblm.fit(x_train, y_train, model_name = f'pseudodata_{columns}f_{train_data}_{i}', file_path=file_path)"
   ]
  },
  {
   "cell_type": "markdown",
   "metadata": {},
   "source": [
    "### Prediction"
   ]
  },
  {
   "cell_type": "code",
   "execution_count": 14,
   "metadata": {},
   "outputs": [
    {
     "name": "stdout",
     "output_type": "stream",
     "text": [
      "run error\n",
      "run error\n",
      "2\n",
      "[25, 30]\n",
      "[0.5529673469387755, 0.5529673469387755, 0.5529673469387755, 0.5529673469387755, 0.5529673469387755, 0.5529673469387755, 0.5529673469387755, 0.5529673469387755, 0.5529673469387755, 0.5529673469387755, 0.5529673469387755, 0.5529673469387755, 0.5529673469387755, 0.5529673469387755, 0.5529673469387755, 0.5529673469387755, 0.5529673469387755, 0.5529673469387755, 0.5529673469387755, 0.5529673469387755, 0.5529673469387755, 0.5529673469387755, 0.5529673469387755, 0.5529673469387755, 0.5529673469387755, 0.5529673469387755, 0.5529673469387755, 0.5529673469387755]\n",
      "Average Value: 0.5529673469387754\n",
      "Maximum Value: 0.5529673469387755\n",
      "Minimum Value: 0.5529673469387755\n"
     ]
    }
   ],
   "source": [
    "columns = 4\n",
    "train_data = 300\n",
    "\n",
    "file_name = f'pseudodata_{columns}f_{train_data}_test.csv'\n",
    "\n",
    "\n",
    "df = pd.read_csv(f'../data/pseudodata/{file_name}')\n",
    "x_test = df.drop('target', axis=1)\n",
    "y_test = df['target']\n",
    "\n",
    "sys.path.append('..')\n",
    "\n",
    "error_count = 0\n",
    "error_list = []\n",
    "auc_list = []\n",
    "\n",
    "\n",
    "for i in range(1,31):\n",
    "\n",
    "    import_file = f'import models.pseudodata.pseudodata_{columns}f_{train_data}_{i} as codemodel'\n",
    "\n",
    "    exec(import_file)\n",
    "\n",
    "    try:\n",
    "        y_proba = codemodel.predict(x_test)\n",
    "        y_pred = (y_proba > 0.5).astype(int)\n",
    "        negative_values_exist = np.any(y_proba < 0)\n",
    "        values_greater_than_one_exist = np.any(y_proba > 1)\n",
    "        if negative_values_exist:\n",
    "            error_list.append(i)\n",
    "            error_count += 1\n",
    "            print(f\"Negative values exist：{negative_values_exist}\")\n",
    "\n",
    "        elif values_greater_than_one_exist:\n",
    "            error_list.append(i)\n",
    "            error_count += 1\n",
    "            print(f\"Positive values exist：{values_greater_than_one_exist}\")\n",
    "\n",
    "        else:\n",
    "            roc_auc = roc_auc_score(y_test, y_proba)\n",
    "            auc_list.append(roc_auc)\n",
    "        \n",
    "    except Exception:\n",
    "        print('run error')\n",
    "        error_count += 1\n",
    "        error_list.append(i)\n",
    "        pass\n",
    "\n",
    "print(error_count)\n",
    "print(error_list)\n",
    "print(auc_list)\n",
    "average = sum(auc_list) / len(auc_list)\n",
    "print(\"Average Value:\", average)\n",
    "max_value = max(auc_list)\n",
    "min_value = min(auc_list)\n",
    "print(\"Maximum Value:\", max_value)\n",
    "print(\"Minimum Value:\", min_value)"
   ]
  },
  {
   "cell_type": "code",
   "execution_count": null,
   "metadata": {},
   "outputs": [],
   "source": []
  }
 ],
 "metadata": {
  "kernelspec": {
   "display_name": "Python 3.9.10 ('iblm-L6oop2Mj-py3.9')",
   "language": "python",
   "name": "python3"
  },
  "language_info": {
   "codemirror_mode": {
    "name": "ipython",
    "version": 3
   },
   "file_extension": ".py",
   "mimetype": "text/x-python",
   "name": "python",
   "nbconvert_exporter": "python",
   "pygments_lexer": "ipython3",
   "version": "3.9.10"
  },
  "orig_nbformat": 4,
  "vscode": {
   "interpreter": {
    "hash": "67008fb9323ab6c1c90f5d9822582dbef34eff0db475eec3af4e0e9456757ebf"
   }
  }
 },
 "nbformat": 4,
 "nbformat_minor": 2
}

{
 "cells": [
  {
   "cell_type": "markdown",
   "metadata": {},
   "source": [
    "# Pseudo dataset\n",
    "* Get sample data [here](https://github.com/fuyu-quant/IBLM/tree/main/datasets)."
   ]
  },
  {
   "cell_type": "code",
   "execution_count": null,
   "metadata": {},
   "outputs": [],
   "source": [
    "%%capture\n",
    "!pip install iblm --upgrade"
   ]
  },
  {
   "cell_type": "code",
   "execution_count": 1,
   "metadata": {},
   "outputs": [],
   "source": [
    "%%capture\n",
    "!pip install git+https://github.com/fuyu-quant/IBLM.git"
   ]
  },
  {
   "cell_type": "code",
   "execution_count": 2,
   "metadata": {},
   "outputs": [
    {
     "name": "stdout",
     "output_type": "stream",
     "text": [
      "0.0.21\n"
     ]
    }
   ],
   "source": [
    "import pkg_resources\n",
    "print(pkg_resources.get_distribution('IBLM').version)"
   ]
  },
  {
   "cell_type": "markdown",
   "metadata": {},
   "source": [
    "### Training"
   ]
  },
  {
   "cell_type": "code",
   "execution_count": 3,
   "metadata": {},
   "outputs": [],
   "source": [
    "import pandas as pd\n",
    "import numpy as np\n",
    "from langchain.llms import OpenAI\n",
    "from sklearn.metrics import accuracy_score, precision_score, recall_score, f1_score, roc_auc_score\n",
    "\n",
    "from iblm import IBLMClassifier"
   ]
  },
  {
   "cell_type": "code",
   "execution_count": 7,
   "metadata": {},
   "outputs": [],
   "source": [
    "columns = 4\n",
    "train_data = 10\n",
    "\n",
    "file_name = f'pseudodata_{columns}f_{train_data}_train.csv'\n",
    "\n",
    "\n",
    "df = pd.read_csv(f'../data/pseudodata/{file_name}')\n",
    "x_train = df.drop(df.columns[-1], axis=1)\n",
    "y_train = df[df.columns[-1]]"
   ]
  },
  {
   "cell_type": "code",
   "execution_count": 8,
   "metadata": {},
   "outputs": [],
   "source": [
    "llm_model_name = 'gpt-4'\n",
    "\n",
    "params = {'columns_name': True}\n",
    "\n",
    "iblm = IBLMClassifier(llm_model_name=llm_model_name, params=params)"
   ]
  },
  {
   "cell_type": "code",
   "execution_count": 16,
   "metadata": {},
   "outputs": [
    {
     "name": "stdout",
     "output_type": "stream",
     "text": [
      "> Start of model creating.\n",
      "Tokens Used: 875\n",
      "\tPrompt Tokens: 716\n",
      "\tCompletion Tokens: 159\n",
      "Successful Requests: 1\n",
      "Total Cost (USD): $0.03102\n"
     ]
    }
   ],
   "source": [
    "file_path = '../models/pseudodata/'\n",
    "\n",
    "model = iblm.fit(x_train, y_train, model_name = 'pseudodata', file_path=file_path)"
   ]
  },
  {
   "cell_type": "code",
   "execution_count": 17,
   "metadata": {},
   "outputs": [
    {
     "name": "stdout",
     "output_type": "stream",
     "text": [
      "import numpy as np\n",
      "\n",
      "def predict(x):\n",
      "    df = x.copy()\n",
      "    output = []\n",
      "    for index, row in df.iterrows():\n",
      "        # Do not change the code before this point.\n",
      "        # Please describe the process required to make the prediction below.\n",
      "\n",
      "        # Calculate the weighted sum of the features\n",
      "        weighted_sum = row['a'] * 0.1 + row['b'] * 0.2 + row['c'] * 0.3 + row['d'] * 0.4\n",
      "\n",
      "        # Apply a sigmoid function to the weighted sum to get the probability\n",
      "        y = 1 / (1 + np.exp(-weighted_sum))\n",
      "\n",
      "        # Do not change the code after this point.\n",
      "        output.append(y)\n",
      "    return np.array(output)\n"
     ]
    }
   ],
   "source": [
    "# Code of the model created\n",
    "print(model)"
   ]
  },
  {
   "cell_type": "markdown",
   "metadata": {},
   "source": [
    "### Prediction"
   ]
  },
  {
   "cell_type": "code",
   "execution_count": 13,
   "metadata": {},
   "outputs": [],
   "source": [
    "columns = 4\n",
    "train_data = 10\n",
    "\n",
    "file_name = f'pseudodata_{columns}f_{train_data}_test.csv'\n",
    "\n",
    "\n",
    "df = pd.read_csv(f'../data/pseudodata/{file_name}')\n",
    "x_test = df.drop(df.columns[-1], axis=1)\n",
    "y_test = df[df.columns[-1]]"
   ]
  },
  {
   "cell_type": "code",
   "execution_count": 14,
   "metadata": {},
   "outputs": [],
   "source": [
    "y_proba = iblm.predict(x_test)\n",
    "y_pred = (y_proba > 0.5).astype(int)"
   ]
  },
  {
   "cell_type": "code",
   "execution_count": 15,
   "metadata": {},
   "outputs": [
    {
     "name": "stdout",
     "output_type": "stream",
     "text": [
      "Accuracy: 0.5141\n",
      "Precision: 0.5137\n",
      "Recall: 0.5665\n",
      "F1 score: 0.5388\n",
      "ROC-AUC: 0.4878\n"
     ]
    }
   ],
   "source": [
    "accuracy = round(accuracy_score(y_test, y_pred),4)\n",
    "print(f'Accuracy: {accuracy}')\n",
    "\n",
    "# Precision\n",
    "precision = round(precision_score(y_test, y_pred),4)\n",
    "print(f'Precision: {precision}')\n",
    "\n",
    "# Recall\n",
    "recall = round(recall_score(y_test, y_pred),4)\n",
    "print(f'Recall: {recall}')\n",
    "\n",
    "# F1 score\n",
    "f1 = round(f1_score(y_test, y_pred),4)\n",
    "print(f'F1 score: {f1}')\n",
    "\n",
    "# ROC-AUC (you need prediction probabilities for this, not just class predictions)\n",
    "# Here we just reuse y_pred for simplicity\n",
    "roc_auc = round(roc_auc_score(y_test, y_proba),4)\n",
    "print(f'ROC-AUC: {roc_auc}')"
   ]
  },
  {
   "cell_type": "markdown",
   "metadata": {},
   "source": [
    "### Creating Multiple Models"
   ]
  },
  {
   "cell_type": "code",
   "execution_count": 46,
   "metadata": {},
   "outputs": [
    {
     "name": "stdout",
     "output_type": "stream",
     "text": [
      "> Start of model creating.\n",
      "Tokens Used: 7629\n",
      "\tPrompt Tokens: 7470\n",
      "\tCompletion Tokens: 159\n",
      "Successful Requests: 1\n",
      "Total Cost (USD): $0.23364\n",
      "> Start of model creating.\n",
      "Tokens Used: 7629\n",
      "\tPrompt Tokens: 7470\n",
      "\tCompletion Tokens: 159\n",
      "Successful Requests: 1\n",
      "Total Cost (USD): $0.23364\n",
      "> Start of model creating.\n",
      "Tokens Used: 7618\n",
      "\tPrompt Tokens: 7470\n",
      "\tCompletion Tokens: 148\n",
      "Successful Requests: 1\n",
      "Total Cost (USD): $0.23298\n",
      "> Start of model creating.\n",
      "Tokens Used: 7629\n",
      "\tPrompt Tokens: 7470\n",
      "\tCompletion Tokens: 159\n",
      "Successful Requests: 1\n",
      "Total Cost (USD): $0.23364\n",
      "> Start of model creating.\n",
      "Tokens Used: 7642\n",
      "\tPrompt Tokens: 7470\n",
      "\tCompletion Tokens: 172\n",
      "Successful Requests: 1\n",
      "Total Cost (USD): $0.23442\n",
      "> Start of model creating.\n",
      "Tokens Used: 7599\n",
      "\tPrompt Tokens: 7470\n",
      "\tCompletion Tokens: 129\n",
      "Successful Requests: 1\n",
      "Total Cost (USD): $0.23184\n",
      "> Start of model creating.\n",
      "Tokens Used: 7629\n",
      "\tPrompt Tokens: 7470\n",
      "\tCompletion Tokens: 159\n",
      "Successful Requests: 1\n",
      "Total Cost (USD): $0.23364\n",
      "> Start of model creating.\n",
      "Tokens Used: 7629\n",
      "\tPrompt Tokens: 7470\n",
      "\tCompletion Tokens: 159\n",
      "Successful Requests: 1\n",
      "Total Cost (USD): $0.23364\n",
      "> Start of model creating.\n",
      "Tokens Used: 7629\n",
      "\tPrompt Tokens: 7470\n",
      "\tCompletion Tokens: 159\n",
      "Successful Requests: 1\n",
      "Total Cost (USD): $0.23364\n",
      "> Start of model creating.\n",
      "Tokens Used: 7629\n",
      "\tPrompt Tokens: 7470\n",
      "\tCompletion Tokens: 159\n",
      "Successful Requests: 1\n",
      "Total Cost (USD): $0.23364\n",
      "> Start of model creating.\n",
      "Tokens Used: 7629\n",
      "\tPrompt Tokens: 7470\n",
      "\tCompletion Tokens: 159\n",
      "Successful Requests: 1\n",
      "Total Cost (USD): $0.23364\n",
      "> Start of model creating.\n",
      "Tokens Used: 7629\n",
      "\tPrompt Tokens: 7470\n",
      "\tCompletion Tokens: 159\n",
      "Successful Requests: 1\n",
      "Total Cost (USD): $0.23364\n",
      "> Start of model creating.\n",
      "Tokens Used: 7629\n",
      "\tPrompt Tokens: 7470\n",
      "\tCompletion Tokens: 159\n",
      "Successful Requests: 1\n",
      "Total Cost (USD): $0.23364\n",
      "> Start of model creating.\n",
      "Tokens Used: 7629\n",
      "\tPrompt Tokens: 7470\n",
      "\tCompletion Tokens: 159\n",
      "Successful Requests: 1\n",
      "Total Cost (USD): $0.23364\n",
      "> Start of model creating.\n",
      "Tokens Used: 7643\n",
      "\tPrompt Tokens: 7470\n",
      "\tCompletion Tokens: 173\n",
      "Successful Requests: 1\n",
      "Total Cost (USD): $0.23448\n",
      "> Start of model creating.\n",
      "Tokens Used: 7616\n",
      "\tPrompt Tokens: 7470\n",
      "\tCompletion Tokens: 146\n",
      "Successful Requests: 1\n",
      "Total Cost (USD): $0.23285999999999998\n",
      "> Start of model creating.\n",
      "Tokens Used: 7668\n",
      "\tPrompt Tokens: 7470\n",
      "\tCompletion Tokens: 198\n",
      "Successful Requests: 1\n",
      "Total Cost (USD): $0.23598\n",
      "> Start of model creating.\n",
      "Tokens Used: 7629\n",
      "\tPrompt Tokens: 7470\n",
      "\tCompletion Tokens: 159\n",
      "Successful Requests: 1\n",
      "Total Cost (USD): $0.23364\n",
      "> Start of model creating.\n",
      "Tokens Used: 7629\n",
      "\tPrompt Tokens: 7470\n",
      "\tCompletion Tokens: 159\n",
      "Successful Requests: 1\n",
      "Total Cost (USD): $0.23364\n",
      "> Start of model creating.\n",
      "Tokens Used: 7618\n",
      "\tPrompt Tokens: 7470\n",
      "\tCompletion Tokens: 148\n",
      "Successful Requests: 1\n",
      "Total Cost (USD): $0.23298\n",
      "> Start of model creating.\n",
      "Tokens Used: 7643\n",
      "\tPrompt Tokens: 7470\n",
      "\tCompletion Tokens: 173\n",
      "Successful Requests: 1\n",
      "Total Cost (USD): $0.23448\n",
      "> Start of model creating.\n",
      "Tokens Used: 7629\n",
      "\tPrompt Tokens: 7470\n",
      "\tCompletion Tokens: 159\n",
      "Successful Requests: 1\n",
      "Total Cost (USD): $0.23364\n",
      "> Start of model creating.\n",
      "Tokens Used: 7629\n",
      "\tPrompt Tokens: 7470\n",
      "\tCompletion Tokens: 159\n",
      "Successful Requests: 1\n",
      "Total Cost (USD): $0.23364\n",
      "> Start of model creating.\n",
      "Tokens Used: 7629\n",
      "\tPrompt Tokens: 7470\n",
      "\tCompletion Tokens: 159\n",
      "Successful Requests: 1\n",
      "Total Cost (USD): $0.23364\n",
      "> Start of model creating.\n",
      "Tokens Used: 7629\n",
      "\tPrompt Tokens: 7470\n",
      "\tCompletion Tokens: 159\n",
      "Successful Requests: 1\n",
      "Total Cost (USD): $0.23364\n",
      "> Start of model creating.\n",
      "Tokens Used: 7629\n",
      "\tPrompt Tokens: 7470\n",
      "\tCompletion Tokens: 159\n",
      "Successful Requests: 1\n",
      "Total Cost (USD): $0.23364\n",
      "> Start of model creating.\n",
      "Tokens Used: 7630\n",
      "\tPrompt Tokens: 7470\n",
      "\tCompletion Tokens: 160\n",
      "Successful Requests: 1\n",
      "Total Cost (USD): $0.2337\n",
      "> Start of model creating.\n",
      "Tokens Used: 7630\n",
      "\tPrompt Tokens: 7470\n",
      "\tCompletion Tokens: 160\n",
      "Successful Requests: 1\n",
      "Total Cost (USD): $0.2337\n",
      "> Start of model creating.\n",
      "Tokens Used: 7629\n",
      "\tPrompt Tokens: 7470\n",
      "\tCompletion Tokens: 159\n",
      "Successful Requests: 1\n",
      "Total Cost (USD): $0.23364\n",
      "> Start of model creating.\n",
      "Tokens Used: 7629\n",
      "\tPrompt Tokens: 7470\n",
      "\tCompletion Tokens: 159\n",
      "Successful Requests: 1\n",
      "Total Cost (USD): $0.23364\n"
     ]
    }
   ],
   "source": [
    "columns = 4\n",
    "train_data = 10\n",
    "\n",
    "file_name = f'pseudodata_{columns}f_{train_data}_train.csv'\n",
    "\n",
    "\n",
    "df = pd.read_csv(f'../data/pseudodata/{file_name}')\n",
    "x_train = df.drop(df.columns[-1], axis=1)\n",
    "y_train = df[df.columns[-1]]\n",
    "\n",
    "file_path = '../models/pseudodata/'\n",
    "for i in range(1,31):\n",
    "    model = iblm.fit(x_train, y_train, model_name = f'pseudodata_{columns}f_{train_data}_{i}', file_path=file_path)"
   ]
  }
 ],
 "metadata": {
  "kernelspec": {
   "display_name": "Python 3.9.10 ('iblm-L6oop2Mj-py3.9')",
   "language": "python",
   "name": "python3"
  },
  "language_info": {
   "codemirror_mode": {
    "name": "ipython",
    "version": 3
   },
   "file_extension": ".py",
   "mimetype": "text/x-python",
   "name": "python",
   "nbconvert_exporter": "python",
   "pygments_lexer": "ipython3",
   "version": "3.9.10"
  },
  "orig_nbformat": 4,
  "vscode": {
   "interpreter": {
    "hash": "67008fb9323ab6c1c90f5d9822582dbef34eff0db475eec3af4e0e9456757ebf"
   }
  }
 },
 "nbformat": 4,
 "nbformat_minor": 2
}

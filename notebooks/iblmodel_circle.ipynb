{
 "cells": [
  {
   "cell_type": "markdown",
   "metadata": {},
   "source": [
    "# Circle"
   ]
  },
  {
   "cell_type": "code",
   "execution_count": 20,
   "metadata": {},
   "outputs": [],
   "source": [
    "%%capture\n",
    "!pip install git+https://github.com/fuyu-quant/IBLM.git@feature-in-context-learning "
   ]
  },
  {
   "cell_type": "code",
   "execution_count": 21,
   "metadata": {},
   "outputs": [],
   "source": [
    "#%%capture\n",
    "#!pip install git+https://github.com/fuyu-quant/IBLM.git"
   ]
  },
  {
   "cell_type": "code",
   "execution_count": 22,
   "metadata": {},
   "outputs": [
    {
     "name": "stdout",
     "output_type": "stream",
     "text": [
      "0.1.44\n"
     ]
    }
   ],
   "source": [
    "import pkg_resources\n",
    "print(pkg_resources.get_distribution('IBLM').version)"
   ]
  },
  {
   "cell_type": "code",
   "execution_count": 23,
   "metadata": {},
   "outputs": [],
   "source": [
    "import pandas as pd\n",
    "import numpy as np\n",
    "from langchain.llms import OpenAI\n",
    "from sklearn.metrics import accuracy_score, precision_score, recall_score, f1_score, roc_auc_score\n",
    "\n",
    "from iblm import IBLMClassifier\n",
    "\n",
    "import sys\n",
    "import os"
   ]
  },
  {
   "cell_type": "code",
   "execution_count": 24,
   "metadata": {},
   "outputs": [
    {
     "name": "stdout",
     "output_type": "stream",
     "text": [
      "400\n"
     ]
    }
   ],
   "source": [
    "n = 400\n",
    "\n",
    "df = pd.read_csv(f'../data/circle/circle_{n}_train.csv')\n",
    "x_train = df.drop('Target', axis=1)\n",
    "y_train = df['Target']\n",
    "print(len(x_train))"
   ]
  },
  {
   "cell_type": "code",
   "execution_count": 25,
   "metadata": {},
   "outputs": [],
   "source": [
    "llm_model = OpenAI(temperature=0, model_name = 'gpt-4')\n",
    "\n",
    "params = {'columns_name': True}\n",
    "\n",
    "iblm = IBLMClassifier(llm_model = llm_model, params=params)"
   ]
  },
  {
   "cell_type": "markdown",
   "metadata": {},
   "source": [
    "### Training"
   ]
  },
  {
   "cell_type": "code",
   "execution_count": 39,
   "metadata": {},
   "outputs": [
    {
     "name": "stdout",
     "output_type": "stream",
     "text": [
      "Tokens Used: 5557\n",
      "\tPrompt Tokens: 5355\n",
      "\tCompletion Tokens: 202\n",
      "Successful Requests: 1\n",
      "Total Cost (USD): $0.17277\n"
     ]
    }
   ],
   "source": [
    "file_path = '../models/circle/'\n",
    "\n",
    "model = iblm.fit(x_train, y_train, model_name = 'circle', file_path=file_path)"
   ]
  },
  {
   "cell_type": "code",
   "execution_count": 40,
   "metadata": {},
   "outputs": [
    {
     "name": "stdout",
     "output_type": "stream",
     "text": [
      "import numpy as np\n",
      "\n",
      "def predict(x):\n",
      "    df = x.copy()\n",
      "    output = []\n",
      "    for index, row in df.iterrows():\n",
      "        # Do not change the code before this point.\n",
      "        # Please describe the process required to make the prediction below.\n",
      "\n",
      "        feature_1 = row['Feature_1']\n",
      "        feature_2 = row['Feature_2']\n",
      "\n",
      "        # Calculate the distance from the origin (0, 0)\n",
      "        distance = np.sqrt(feature_1**2 + feature_2**2)\n",
      "\n",
      "        # Normalize the distance to a probability value between 0 and 1\n",
      "        probability = 1 / (1 + np.exp(-distance))\n",
      "\n",
      "        # Threshold for classification\n",
      "        threshold = 0.5\n",
      "\n",
      "        # Assign the probability value to y\n",
      "        if probability > threshold:\n",
      "            y = 1\n",
      "        else:\n",
      "            y = 0\n",
      "\n",
      "        # Do not change the code after this point.\n",
      "        output.append(y)\n",
      "    return np.array(output)\n"
     ]
    }
   ],
   "source": [
    "# Code of the model created\n",
    "print(model)"
   ]
  },
  {
   "cell_type": "markdown",
   "metadata": {},
   "source": [
    "### Prediction"
   ]
  },
  {
   "cell_type": "code",
   "execution_count": 41,
   "metadata": {},
   "outputs": [],
   "source": [
    "df = pd.read_csv(f'../data/circle/circle_{n}_test.csv')\n",
    "x_test = df.drop('Target', axis=1)\n",
    "y_test = df['Target']"
   ]
  },
  {
   "cell_type": "code",
   "execution_count": 42,
   "metadata": {},
   "outputs": [],
   "source": [
    "y_proba = iblm.predict(x_test)\n",
    "y_pred = (y_proba > 0.5).astype(int)"
   ]
  },
  {
   "cell_type": "code",
   "execution_count": 43,
   "metadata": {},
   "outputs": [
    {
     "name": "stdout",
     "output_type": "stream",
     "text": [
      "Accuracy: 0.5\n",
      "Precision: 0.5\n",
      "Recall: 1.0\n",
      "F1 score: 0.6666666666666666\n",
      "ROC-AUC: 0.5\n"
     ]
    }
   ],
   "source": [
    "accuracy = accuracy_score(y_test, y_pred)\n",
    "print(f'Accuracy: {accuracy}')\n",
    "\n",
    "# Precision\n",
    "precision = precision_score(y_test, y_pred)\n",
    "print(f'Precision: {precision}')\n",
    "\n",
    "# Recall\n",
    "recall = recall_score(y_test, y_pred)\n",
    "print(f'Recall: {recall}')\n",
    "\n",
    "# F1 score\n",
    "f1 = f1_score(y_test, y_pred)\n",
    "print(f'F1 score: {f1}')\n",
    "\n",
    "# ROC-AUC (you need prediction probabilities for this, not just class predictions)\n",
    "# Here we just reuse y_pred for simplicity\n",
    "roc_auc = roc_auc_score(y_test, y_proba)\n",
    "print(f'ROC-AUC: {roc_auc}')"
   ]
  },
  {
   "cell_type": "markdown",
   "metadata": {},
   "source": [
    "### Create multiple code models"
   ]
  },
  {
   "cell_type": "code",
   "execution_count": 44,
   "metadata": {},
   "outputs": [
    {
     "name": "stdout",
     "output_type": "stream",
     "text": [
      "Tokens Used: 4835\n",
      "\tPrompt Tokens: 4633\n",
      "\tCompletion Tokens: 202\n",
      "Successful Requests: 1\n",
      "Total Cost (USD): $0.15110999999999997\n",
      "Tokens Used: 4835\n",
      "\tPrompt Tokens: 4633\n",
      "\tCompletion Tokens: 202\n",
      "Successful Requests: 1\n",
      "Total Cost (USD): $0.15110999999999997\n",
      "Tokens Used: 4830\n",
      "\tPrompt Tokens: 4633\n",
      "\tCompletion Tokens: 197\n",
      "Successful Requests: 1\n",
      "Total Cost (USD): $0.15080999999999997\n",
      "Tokens Used: 4830\n",
      "\tPrompt Tokens: 4633\n",
      "\tCompletion Tokens: 197\n",
      "Successful Requests: 1\n",
      "Total Cost (USD): $0.15080999999999997\n",
      "Tokens Used: 4835\n",
      "\tPrompt Tokens: 4633\n",
      "\tCompletion Tokens: 202\n",
      "Successful Requests: 1\n",
      "Total Cost (USD): $0.15110999999999997\n",
      "Tokens Used: 4830\n",
      "\tPrompt Tokens: 4633\n",
      "\tCompletion Tokens: 197\n",
      "Successful Requests: 1\n",
      "Total Cost (USD): $0.15080999999999997\n",
      "Tokens Used: 4830\n",
      "\tPrompt Tokens: 4633\n",
      "\tCompletion Tokens: 197\n",
      "Successful Requests: 1\n",
      "Total Cost (USD): $0.15080999999999997\n",
      "Tokens Used: 4835\n",
      "\tPrompt Tokens: 4633\n",
      "\tCompletion Tokens: 202\n",
      "Successful Requests: 1\n",
      "Total Cost (USD): $0.15110999999999997\n",
      "Tokens Used: 4914\n",
      "\tPrompt Tokens: 4633\n",
      "\tCompletion Tokens: 281\n",
      "Successful Requests: 1\n",
      "Total Cost (USD): $0.15585\n",
      "Tokens Used: 4835\n",
      "\tPrompt Tokens: 4633\n",
      "\tCompletion Tokens: 202\n",
      "Successful Requests: 1\n",
      "Total Cost (USD): $0.15110999999999997\n",
      "Tokens Used: 4835\n",
      "\tPrompt Tokens: 4633\n",
      "\tCompletion Tokens: 202\n",
      "Successful Requests: 1\n",
      "Total Cost (USD): $0.15110999999999997\n",
      "Tokens Used: 4835\n",
      "\tPrompt Tokens: 4633\n",
      "\tCompletion Tokens: 202\n",
      "Successful Requests: 1\n",
      "Total Cost (USD): $0.15110999999999997\n",
      "Tokens Used: 4830\n",
      "\tPrompt Tokens: 4633\n",
      "\tCompletion Tokens: 197\n",
      "Successful Requests: 1\n",
      "Total Cost (USD): $0.15080999999999997\n",
      "Tokens Used: 4830\n",
      "\tPrompt Tokens: 4633\n",
      "\tCompletion Tokens: 197\n",
      "Successful Requests: 1\n",
      "Total Cost (USD): $0.15080999999999997\n",
      "Tokens Used: 4830\n",
      "\tPrompt Tokens: 4633\n",
      "\tCompletion Tokens: 197\n",
      "Successful Requests: 1\n",
      "Total Cost (USD): $0.15080999999999997\n",
      "Tokens Used: 4835\n",
      "\tPrompt Tokens: 4633\n",
      "\tCompletion Tokens: 202\n",
      "Successful Requests: 1\n",
      "Total Cost (USD): $0.15110999999999997\n",
      "Tokens Used: 4802\n",
      "\tPrompt Tokens: 4633\n",
      "\tCompletion Tokens: 169\n",
      "Successful Requests: 1\n",
      "Total Cost (USD): $0.14912999999999998\n",
      "Tokens Used: 4835\n",
      "\tPrompt Tokens: 4633\n",
      "\tCompletion Tokens: 202\n",
      "Successful Requests: 1\n",
      "Total Cost (USD): $0.15110999999999997\n",
      "Tokens Used: 4835\n",
      "\tPrompt Tokens: 4633\n",
      "\tCompletion Tokens: 202\n",
      "Successful Requests: 1\n",
      "Total Cost (USD): $0.15110999999999997\n",
      "Tokens Used: 4830\n",
      "\tPrompt Tokens: 4633\n",
      "\tCompletion Tokens: 197\n",
      "Successful Requests: 1\n",
      "Total Cost (USD): $0.15080999999999997\n",
      "Tokens Used: 4830\n",
      "\tPrompt Tokens: 4633\n",
      "\tCompletion Tokens: 197\n",
      "Successful Requests: 1\n",
      "Total Cost (USD): $0.15080999999999997\n",
      "Tokens Used: 4831\n",
      "\tPrompt Tokens: 4633\n",
      "\tCompletion Tokens: 198\n",
      "Successful Requests: 1\n",
      "Total Cost (USD): $0.15086999999999998\n",
      "Tokens Used: 4835\n",
      "\tPrompt Tokens: 4633\n",
      "\tCompletion Tokens: 202\n",
      "Successful Requests: 1\n",
      "Total Cost (USD): $0.15110999999999997\n",
      "Tokens Used: 4835\n",
      "\tPrompt Tokens: 4633\n",
      "\tCompletion Tokens: 202\n",
      "Successful Requests: 1\n",
      "Total Cost (USD): $0.15110999999999997\n",
      "Tokens Used: 4830\n",
      "\tPrompt Tokens: 4633\n",
      "\tCompletion Tokens: 197\n",
      "Successful Requests: 1\n",
      "Total Cost (USD): $0.15080999999999997\n",
      "Tokens Used: 4830\n",
      "\tPrompt Tokens: 4633\n",
      "\tCompletion Tokens: 197\n",
      "Successful Requests: 1\n",
      "Total Cost (USD): $0.15080999999999997\n",
      "Tokens Used: 4835\n",
      "\tPrompt Tokens: 4633\n",
      "\tCompletion Tokens: 202\n",
      "Successful Requests: 1\n",
      "Total Cost (USD): $0.15110999999999997\n",
      "Tokens Used: 4830\n",
      "\tPrompt Tokens: 4633\n",
      "\tCompletion Tokens: 197\n",
      "Successful Requests: 1\n",
      "Total Cost (USD): $0.15080999999999997\n",
      "Tokens Used: 4835\n",
      "\tPrompt Tokens: 4633\n",
      "\tCompletion Tokens: 202\n",
      "Successful Requests: 1\n",
      "Total Cost (USD): $0.15110999999999997\n",
      "Tokens Used: 4830\n",
      "\tPrompt Tokens: 4633\n",
      "\tCompletion Tokens: 197\n",
      "Successful Requests: 1\n",
      "Total Cost (USD): $0.15080999999999997\n"
     ]
    }
   ],
   "source": [
    "n = 600\n",
    "df = pd.read_csv(f'../data/circle/circle_{n}_train.csv')\n",
    "x_train = df.drop('Target', axis=1)\n",
    "y_train = df['Target']\n",
    "\n",
    "file_path = '../models/circle/'\n",
    "for i in range(1,31):\n",
    "    model = iblm.fit(x_train, y_train, model_name = f'circle_{i}', file_path=file_path)"
   ]
  },
  {
   "cell_type": "markdown",
   "metadata": {},
   "source": [
    "### Prediction"
   ]
  },
  {
   "cell_type": "code",
   "execution_count": 46,
   "metadata": {},
   "outputs": [
    {
     "name": "stdout",
     "output_type": "stream",
     "text": [
      "0\n",
      "[]\n",
      "[0.5, 0.5, 0.5, 0.5, 0.5, 0.5, 0.5, 0.5, 0.3919777777777778, 0.5, 0.5, 0.5, 0.5, 0.5, 0.5, 0.5, 0.9953333333333334, 0.5, 0.5, 0.5, 0.5, 0.5, 0.5, 0.5, 0.5, 0.5, 0.5, 0.5, 0.5, 0.5]\n",
      "Average Value: 0.5129103703703703\n",
      "Maximum Value: 0.9953333333333334\n",
      "Minimum Value: 0.3919777777777778\n"
     ]
    }
   ],
   "source": [
    "n = 400\n",
    "\n",
    "df = pd.read_csv(f'../data/circle/circle_{n}_test.csv')\n",
    "x_test = df.drop('Target', axis=1)\n",
    "y_test = df['Target']\n",
    "\n",
    "sys.path.append('..')\n",
    "\n",
    "error_count = 0\n",
    "error_list = []\n",
    "auc_list = []\n",
    "\n",
    "\n",
    "for i in range(1,31):\n",
    "\n",
    "    import_file = f'import models.circle.circle_{i} as codemodel'\n",
    "\n",
    "    exec(import_file)\n",
    "\n",
    "    try:\n",
    "        y_proba = codemodel.predict(x_test)\n",
    "        y_pred = (y_proba > 0.5).astype(int)\n",
    "        negative_values_exist = np.any(y_proba < 0)\n",
    "        values_greater_than_one_exist = np.any(y_proba > 1)\n",
    "        if negative_values_exist:\n",
    "            error_list.append(i)\n",
    "            error_count += 1\n",
    "            print(f\"Negative values exist：{negative_values_exist}\")\n",
    "\n",
    "        elif values_greater_than_one_exist:\n",
    "            error_list.append(i)\n",
    "            error_count += 1\n",
    "            print(f\"Positive values exist：{values_greater_than_one_exist}\")\n",
    "\n",
    "        else:\n",
    "            roc_auc = roc_auc_score(y_test, y_proba)\n",
    "            auc_list.append(roc_auc)\n",
    "        \n",
    "    except Exception:\n",
    "        print('run error')\n",
    "        error_count += 1\n",
    "        error_list.append(i)\n",
    "        pass\n",
    "\n",
    "print(error_count)\n",
    "print(error_list)\n",
    "print(auc_list)\n",
    "average = sum(auc_list) / len(auc_list)\n",
    "print(\"Average Value:\", average)\n",
    "max_value = max(auc_list)\n",
    "min_value = min(auc_list)\n",
    "print(\"Maximum Value:\", max_value)\n",
    "print(\"Minimum Value:\", min_value)"
   ]
  },
  {
   "cell_type": "code",
   "execution_count": 48,
   "metadata": {},
   "outputs": [
    {
     "name": "stdout",
     "output_type": "stream",
     "text": [
      "Accuracy: 0.5166666666666667\n",
      "Precision: 1.0\n",
      "Recall: 0.03333333333333333\n",
      "F1 score: 0.06451612903225806\n",
      "ROC-AUC: 0.9953333333333334\n"
     ]
    }
   ],
   "source": [
    "n = 400\n",
    "df = pd.read_csv(f'../data/circle/circle_{n}_test.csv')\n",
    "x_train = df.drop('Target', axis=1)\n",
    "y_train = df['Target']\n",
    "\n",
    "import models.circle.circle_17 as codemodel\n",
    "\n",
    "y_proba = codemodel.predict(x_test)\n",
    "y_pred = (y_proba > 0.5).astype(int)\n",
    "\n",
    "accuracy = accuracy_score(y_test, y_pred)\n",
    "print(f'Accuracy: {accuracy}')\n",
    "\n",
    "# Precision\n",
    "precision = precision_score(y_test, y_pred)\n",
    "print(f'Precision: {precision}')\n",
    "\n",
    "# Recall\n",
    "recall = recall_score(y_test, y_pred)\n",
    "print(f'Recall: {recall}')\n",
    "\n",
    "# F1 score\n",
    "f1 = f1_score(y_test, y_pred)\n",
    "print(f'F1 score: {f1}')\n",
    "\n",
    "# ROC-AUC (you need prediction probabilities for this, not just class predictions)\n",
    "# Here we just reuse y_pred for simplicity\n",
    "roc_auc = roc_auc_score(y_test, y_proba)\n",
    "print(f'ROC-AUC: {roc_auc}')"
   ]
  },
  {
   "cell_type": "code",
   "execution_count": null,
   "metadata": {},
   "outputs": [],
   "source": []
  }
 ],
 "metadata": {
  "kernelspec": {
   "display_name": "Python 3.9.10 ('iblm-L6oop2Mj-py3.9')",
   "language": "python",
   "name": "python3"
  },
  "language_info": {
   "codemirror_mode": {
    "name": "ipython",
    "version": 3
   },
   "file_extension": ".py",
   "mimetype": "text/x-python",
   "name": "python",
   "nbconvert_exporter": "python",
   "pygments_lexer": "ipython3",
   "version": "3.9.10"
  },
  "orig_nbformat": 4,
  "vscode": {
   "interpreter": {
    "hash": "67008fb9323ab6c1c90f5d9822582dbef34eff0db475eec3af4e0e9456757ebf"
   }
  }
 },
 "nbformat": 4,
 "nbformat_minor": 2
}

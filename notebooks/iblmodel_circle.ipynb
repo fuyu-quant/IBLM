{
 "cells": [
  {
   "cell_type": "markdown",
   "metadata": {},
   "source": [
    "# Circle"
   ]
  },
  {
   "cell_type": "code",
   "execution_count": 1,
   "metadata": {},
   "outputs": [],
   "source": [
    "%%capture\n",
    "!pip install git+https://github.com/fuyu-quant/IBLM.git@feature-in-context-learning "
   ]
  },
  {
   "cell_type": "code",
   "execution_count": 2,
   "metadata": {},
   "outputs": [],
   "source": [
    "#%%capture\n",
    "#!pip install git+https://github.com/fuyu-quant/IBLM.git"
   ]
  },
  {
   "cell_type": "code",
   "execution_count": 3,
   "metadata": {},
   "outputs": [
    {
     "name": "stdout",
     "output_type": "stream",
     "text": [
      "0.1.36\n"
     ]
    }
   ],
   "source": [
    "import pkg_resources\n",
    "print(pkg_resources.get_distribution('IBLM').version)"
   ]
  },
  {
   "cell_type": "code",
   "execution_count": 4,
   "metadata": {},
   "outputs": [],
   "source": [
    "import pandas as pd\n",
    "import numpy as np\n",
    "from langchain.llms import OpenAI\n",
    "from sklearn.metrics import accuracy_score, precision_score, recall_score, f1_score, roc_auc_score\n",
    "\n",
    "from iblm import IBLMClassifier\n",
    "\n",
    "import sys\n",
    "import os"
   ]
  },
  {
   "cell_type": "code",
   "execution_count": 13,
   "metadata": {},
   "outputs": [
    {
     "name": "stdout",
     "output_type": "stream",
     "text": [
      "200\n"
     ]
    }
   ],
   "source": [
    "n = 200\n",
    "\n",
    "df = pd.read_csv(f'../data/circle/circle_{n}_train.csv')\n",
    "x_train = df.drop('Target', axis=1)\n",
    "y_train = df['Target']\n",
    "print(len(x_train))"
   ]
  },
  {
   "cell_type": "code",
   "execution_count": 14,
   "metadata": {},
   "outputs": [],
   "source": [
    "llm_model = OpenAI(temperature=0, model_name = 'gpt-4')\n",
    "\n",
    "params = {'columns_name': True}\n",
    "\n",
    "iblm = IBLMClassifier(llm_model = llm_model, params=params)"
   ]
  },
  {
   "cell_type": "markdown",
   "metadata": {},
   "source": [
    "### Training"
   ]
  },
  {
   "cell_type": "code",
   "execution_count": 15,
   "metadata": {},
   "outputs": [
    {
     "name": "stdout",
     "output_type": "stream",
     "text": [
      "Number of data:200\n",
      "> Start of model creating.\n",
      "Tokens Used: 2970\n",
      "\tPrompt Tokens: 2828\n",
      "\tCompletion Tokens: 142\n",
      "Successful Requests: 1\n",
      "Total Cost (USD): $0.09336\n"
     ]
    }
   ],
   "source": [
    "file_path = '../models/circle/'\n",
    "\n",
    "print(f'Number of data:{len(x_train)}')\n",
    "model = iblm.fit(x_train, y_train, model_name = 'circle', file_path=file_path)"
   ]
  },
  {
   "cell_type": "code",
   "execution_count": 16,
   "metadata": {},
   "outputs": [
    {
     "name": "stdout",
     "output_type": "stream",
     "text": [
      "import numpy as np\n",
      "\n",
      "def predict(x):\n",
      "    df = x.copy()\n",
      "    output = []\n",
      "    for index, row in df.iterrows():\n",
      "        # Do not change the code before this point.\n",
      "        # Please describe the process required to make the prediction below.\n",
      "\n",
      "        # Calculate the distance from the origin (0, 0)\n",
      "        distance = np.sqrt(row['Feature_1']**2 + row['Feature_2']**2)\n",
      "\n",
      "        # Normalize the distance to a probability value between 0 and 1\n",
      "        y = 1 / (1 + np.exp(-distance))\n",
      "\n",
      "        # Do not change the code after this point.\n",
      "        output.append(y)\n",
      "    return np.array(output)\n"
     ]
    }
   ],
   "source": [
    "# Code of the model created\n",
    "print(model)"
   ]
  },
  {
   "cell_type": "markdown",
   "metadata": {},
   "source": [
    "### Prediction"
   ]
  },
  {
   "cell_type": "code",
   "execution_count": 9,
   "metadata": {},
   "outputs": [],
   "source": [
    "df = pd.read_csv(f'../data/circle/circle_{n}_test.csv')\n",
    "x_test = df.drop('Target', axis=1)\n",
    "y_test = df['Target']"
   ]
  },
  {
   "cell_type": "code",
   "execution_count": 10,
   "metadata": {},
   "outputs": [],
   "source": [
    "y_proba = iblm.predict(x_test)\n",
    "y_pred = (y_proba > 0.5).astype(int)"
   ]
  },
  {
   "cell_type": "code",
   "execution_count": 11,
   "metadata": {},
   "outputs": [
    {
     "data": {
      "text/plain": [
       "array([0.68262457, 0.71062316, 0.74339181, 0.70574883, 0.68989705,\n",
       "       0.68349898, 0.73007686, 0.69142345, 0.70423253, 0.7423548 ,\n",
       "       0.68424998, 0.72370669, 0.72713109, 0.73442081, 0.73467216,\n",
       "       0.75628807, 0.70586759, 0.71408604, 0.73461358, 0.70728884,\n",
       "       0.74769983, 0.68081914, 0.68768026, 0.68137787, 0.73561463,\n",
       "       0.71345419, 0.68750817, 0.68883259, 0.72515617, 0.70887046,\n",
       "       0.68385716, 0.74019987, 0.68845619, 0.69924581, 0.69318034,\n",
       "       0.70304358, 0.67958885, 0.72915075, 0.72509823, 0.67179163,\n",
       "       0.73763674, 0.69228578, 0.69545079, 0.6992574 , 0.72979245,\n",
       "       0.708902  , 0.7295664 , 0.73546107, 0.69966826, 0.6778165 ,\n",
       "       0.72992526, 0.74076841, 0.68354196, 0.73217901, 0.71985875,\n",
       "       0.72503903, 0.73122451, 0.67465819, 0.71182084, 0.72143034,\n",
       "       0.74053923, 0.72307591, 0.74469046, 0.74268982, 0.68004013,\n",
       "       0.70734972, 0.69314837, 0.69591552, 0.66818777, 0.73371937,\n",
       "       0.69191863, 0.68643955, 0.74287971, 0.68472737, 0.70144639,\n",
       "       0.70998544, 0.73898389, 0.72287099, 0.68518693, 0.73670351,\n",
       "       0.72686757, 0.69099792, 0.69237731, 0.70046024, 0.70527846,\n",
       "       0.69313323, 0.68431715, 0.74567229, 0.70690132, 0.72258223,\n",
       "       0.69751734, 0.73461788, 0.72918296, 0.68639944, 0.68398529,\n",
       "       0.69523823, 0.72288018, 0.74335558, 0.7012463 , 0.74275201,\n",
       "       0.73130265, 0.71935352, 0.69880489, 0.73181028, 0.73745745,\n",
       "       0.67441841, 0.74609607, 0.69315777, 0.729056  , 0.70070084,\n",
       "       0.71167819, 0.72730983, 0.72263456, 0.69156327, 0.66512667,\n",
       "       0.68501208, 0.74230825, 0.69365364, 0.74346317, 0.73345348,\n",
       "       0.69709736, 0.72955209, 0.74384594, 0.68466208, 0.659477  ,\n",
       "       0.68757518, 0.67746779, 0.72570673, 0.70313621, 0.69966391,\n",
       "       0.73387242, 0.72642313, 0.70013554, 0.7022213 , 0.69330867,\n",
       "       0.7228526 , 0.73493259, 0.72841879, 0.70614278, 0.7254123 ,\n",
       "       0.73114005, 0.70157087, 0.72716368, 0.69856359, 0.72570816,\n",
       "       0.68637965, 0.73214927, 0.72216761, 0.73842726, 0.73796555,\n",
       "       0.68386108, 0.71373627, 0.69041826, 0.68067118, 0.73457422,\n",
       "       0.73146475, 0.68995162, 0.72495305, 0.75112303, 0.73252018,\n",
       "       0.73110782, 0.74321486, 0.7356055 , 0.7034998 , 0.72724552,\n",
       "       0.6840228 , 0.72385197, 0.73939528, 0.68457531, 0.70121377,\n",
       "       0.69672647, 0.70409176, 0.68979735, 0.69337943, 0.69279763,\n",
       "       0.69149259, 0.72986666, 0.70782163, 0.74059381, 0.7402858 ,\n",
       "       0.69549669, 0.72668611, 0.73713688, 0.70192226, 0.68957668,\n",
       "       0.73396241, 0.67335018, 0.70582631, 0.68446449, 0.70601064,\n",
       "       0.73743139, 0.72665808, 0.68721972, 0.6949543 , 0.7345292 ,\n",
       "       0.74180504, 0.69282327, 0.74599296, 0.7324949 , 0.72070397,\n",
       "       0.7218546 , 0.68404252, 0.69272001, 0.71557701, 0.72999831,\n",
       "       0.69985026, 0.72253028, 0.67731416, 0.7302173 , 0.66489926,\n",
       "       0.74718371, 0.73094213, 0.73475405, 0.72672957, 0.72380425,\n",
       "       0.70211194, 0.69418663, 0.73596246, 0.73870382, 0.68370969,\n",
       "       0.68523574, 0.68628026, 0.74192286, 0.74633979, 0.69778778,\n",
       "       0.68595682, 0.73235438, 0.7207183 , 0.73377265, 0.68668326,\n",
       "       0.68716919, 0.72759186, 0.72092325, 0.75940271, 0.69942665,\n",
       "       0.69015685, 0.67744777, 0.69952258, 0.72052347, 0.73993218,\n",
       "       0.73454587, 0.7229893 , 0.74896488, 0.67776011, 0.68581047,\n",
       "       0.73595288, 0.68958083, 0.7453793 , 0.69833038, 0.69382799,\n",
       "       0.70678419, 0.70230269, 0.74782063, 0.74524796, 0.69363556,\n",
       "       0.72632033, 0.72788931, 0.73703113, 0.69166692, 0.72697543,\n",
       "       0.68817958, 0.69195064, 0.69243807, 0.67161975, 0.7386623 ,\n",
       "       0.70970538, 0.74459887, 0.71774171, 0.75115823, 0.73072757,\n",
       "       0.73042449, 0.72952256, 0.69862421, 0.69878739, 0.70843005,\n",
       "       0.69959432, 0.69183206, 0.69333825, 0.67310761, 0.73173411,\n",
       "       0.69650133, 0.67406453, 0.67992464, 0.69775123, 0.70070527,\n",
       "       0.71409853, 0.70023702, 0.68314699, 0.72981746, 0.73202684,\n",
       "       0.73923656, 0.71180757, 0.72530246, 0.72994073, 0.67375257,\n",
       "       0.73484153, 0.69350977, 0.72477641, 0.71432639, 0.69292999,\n",
       "       0.68872857, 0.73079506, 0.70021982, 0.71798894, 0.67569646,\n",
       "       0.72460037, 0.73622721, 0.71659724, 0.68889637, 0.68766067,\n",
       "       0.72019722, 0.69184405, 0.72272287, 0.72038838, 0.70582062,\n",
       "       0.69410192, 0.72931328, 0.72666935, 0.72133357, 0.68901548,\n",
       "       0.72464522, 0.71018343, 0.69876337, 0.7289432 , 0.69213173,\n",
       "       0.72172737, 0.712197  , 0.73524064, 0.68783622, 0.73849332,\n",
       "       0.67989431, 0.69470148, 0.67916199, 0.6810656 , 0.68029485,\n",
       "       0.72166751, 0.6892336 , 0.73362189, 0.74341737, 0.7266336 ,\n",
       "       0.71161152, 0.69043052, 0.73635429, 0.68389344, 0.67498551,\n",
       "       0.67274885, 0.73534352, 0.70254229, 0.71658498, 0.73851285,\n",
       "       0.72419007, 0.69447661, 0.69374942, 0.73258833, 0.73703452,\n",
       "       0.67978158, 0.73813605, 0.73131001, 0.68465498, 0.7275393 ,\n",
       "       0.69847825, 0.72192037, 0.69223007, 0.68363504, 0.7239373 ,\n",
       "       0.73025054, 0.70749987, 0.71910578, 0.74465289, 0.6935492 ,\n",
       "       0.72644593, 0.69214594, 0.75430343, 0.6790463 , 0.73923535,\n",
       "       0.70238402, 0.7305989 , 0.68985383, 0.69687323, 0.70051975,\n",
       "       0.68368317, 0.69103041, 0.7366028 , 0.73862393, 0.72353828,\n",
       "       0.74313628, 0.68577196, 0.71964747, 0.69990719, 0.69702742,\n",
       "       0.71928745, 0.6713184 , 0.73336509, 0.72412715, 0.69834506,\n",
       "       0.72431137, 0.73048176, 0.74190264, 0.679918  , 0.71951215,\n",
       "       0.70064264, 0.6827234 , 0.68312375, 0.72317727, 0.69007672,\n",
       "       0.68867187, 0.70002185, 0.70158079, 0.73307139, 0.69587065,\n",
       "       0.68216322, 0.70099882, 0.66983191, 0.74799193, 0.72473314,\n",
       "       0.73825686, 0.69038095, 0.7276437 , 0.69902766, 0.73445561,\n",
       "       0.73434946, 0.73639624, 0.68790809, 0.68384385, 0.72428935,\n",
       "       0.73360636, 0.68041159, 0.69998554, 0.72931647, 0.71465052,\n",
       "       0.72976675, 0.72392455, 0.68511813, 0.69107696, 0.72112576,\n",
       "       0.69688135, 0.6659658 , 0.70413201, 0.69851498, 0.73277637,\n",
       "       0.69369159, 0.72046371, 0.68219004, 0.70016525, 0.7071657 ,\n",
       "       0.69119728, 0.68416405, 0.72331604, 0.73829766, 0.70935935,\n",
       "       0.73428575, 0.73295706, 0.69209069, 0.72183438, 0.66925584,\n",
       "       0.69270862, 0.74304523, 0.72588072, 0.69951872, 0.68357229,\n",
       "       0.72862726, 0.69086161, 0.72439682, 0.68346666, 0.744267  ,\n",
       "       0.7412829 , 0.73862496, 0.690662  , 0.68569393, 0.74096916,\n",
       "       0.7283522 , 0.68169053, 0.72873292, 0.73716083, 0.72621703,\n",
       "       0.74434555, 0.73559182, 0.7152802 , 0.68911227, 0.72986577,\n",
       "       0.71828686, 0.7236718 , 0.72438649, 0.67559956, 0.66778631,\n",
       "       0.67716005, 0.74861681, 0.72702011, 0.68924422, 0.68138415,\n",
       "       0.71078066, 0.72750932, 0.69821325, 0.69099327, 0.68093741,\n",
       "       0.73824204, 0.6837505 , 0.72922681, 0.74101107, 0.69168328,\n",
       "       0.72076819, 0.68036568, 0.68881263, 0.69609866, 0.70270013,\n",
       "       0.73461741, 0.66405486, 0.67303509, 0.73447449, 0.70103534,\n",
       "       0.72413461, 0.70828967, 0.73237842, 0.74932346, 0.69185407,\n",
       "       0.73505517, 0.68519858, 0.65767171, 0.69904414, 0.67736205,\n",
       "       0.7112206 , 0.71843671, 0.72585109, 0.72761234, 0.73236022,\n",
       "       0.73290626, 0.73811749, 0.68807653, 0.69938097, 0.73339147,\n",
       "       0.7351436 , 0.6931348 , 0.71510765, 0.71429054, 0.74138507,\n",
       "       0.67151845, 0.72677677, 0.73865041, 0.7005801 , 0.7124586 ,\n",
       "       0.67783822, 0.6788041 , 0.73071219, 0.74712766, 0.67790587,\n",
       "       0.73482136, 0.68776472, 0.67980327, 0.68250189, 0.68701134,\n",
       "       0.698523  , 0.73518517, 0.74840141, 0.68103367, 0.72656663,\n",
       "       0.73053388, 0.72438494, 0.69105574, 0.73239614, 0.69840327,\n",
       "       0.73992123, 0.67528729, 0.69342632, 0.68851745, 0.72331125,\n",
       "       0.68981516, 0.68922365, 0.69646036, 0.69491915, 0.6759063 ,\n",
       "       0.69951735, 0.72502124, 0.74661536, 0.69297913, 0.68105357,\n",
       "       0.72748772, 0.73847443, 0.72942169, 0.69726698, 0.72205414,\n",
       "       0.69784207, 0.73648662, 0.69431255, 0.69201424, 0.70988513,\n",
       "       0.68821129, 0.72020756, 0.72921964, 0.70857364, 0.68548462,\n",
       "       0.72152239, 0.73489256, 0.664683  , 0.69708368, 0.72099202,\n",
       "       0.68570843, 0.67532606, 0.68188656, 0.6888446 , 0.72305693])"
      ]
     },
     "execution_count": 11,
     "metadata": {},
     "output_type": "execute_result"
    }
   ],
   "source": [
    "y_proba"
   ]
  },
  {
   "cell_type": "code",
   "execution_count": 12,
   "metadata": {},
   "outputs": [
    {
     "name": "stdout",
     "output_type": "stream",
     "text": [
      "Accuracy: 0.5\n",
      "Precision: 0.5\n",
      "Recall: 1.0\n",
      "F1 score: 0.6666666666666666\n",
      "ROC-AUC: 0.004666666666666664\n"
     ]
    }
   ],
   "source": [
    "accuracy = accuracy_score(y_test, y_pred)\n",
    "print(f'Accuracy: {accuracy}')\n",
    "\n",
    "# Precision\n",
    "precision = precision_score(y_test, y_pred)\n",
    "print(f'Precision: {precision}')\n",
    "\n",
    "# Recall\n",
    "recall = recall_score(y_test, y_pred)\n",
    "print(f'Recall: {recall}')\n",
    "\n",
    "# F1 score\n",
    "f1 = f1_score(y_test, y_pred)\n",
    "print(f'F1 score: {f1}')\n",
    "\n",
    "# ROC-AUC (you need prediction probabilities for this, not just class predictions)\n",
    "# Here we just reuse y_pred for simplicity\n",
    "roc_auc = roc_auc_score(y_test, y_proba)\n",
    "print(f'ROC-AUC: {roc_auc}')"
   ]
  },
  {
   "cell_type": "markdown",
   "metadata": {},
   "source": [
    "### Create multiple code models"
   ]
  },
  {
   "cell_type": "code",
   "execution_count": 12,
   "metadata": {},
   "outputs": [
    {
     "name": "stdout",
     "output_type": "stream",
     "text": [
      "> Start of model creating.\n",
      "Tokens Used: 4756\n",
      "\tPrompt Tokens: 4582\n",
      "\tCompletion Tokens: 174\n",
      "Successful Requests: 1\n",
      "Total Cost (USD): $0.1479\n",
      "> Start of model creating.\n",
      "Tokens Used: 4730\n",
      "\tPrompt Tokens: 4582\n",
      "\tCompletion Tokens: 148\n",
      "Successful Requests: 1\n",
      "Total Cost (USD): $0.14634\n",
      "> Start of model creating.\n",
      "Tokens Used: 4756\n",
      "\tPrompt Tokens: 4582\n",
      "\tCompletion Tokens: 174\n",
      "Successful Requests: 1\n",
      "Total Cost (USD): $0.1479\n",
      "> Start of model creating.\n",
      "Tokens Used: 4758\n",
      "\tPrompt Tokens: 4582\n",
      "\tCompletion Tokens: 176\n",
      "Successful Requests: 1\n",
      "Total Cost (USD): $0.14801999999999998\n",
      "> Start of model creating.\n",
      "Tokens Used: 4755\n",
      "\tPrompt Tokens: 4582\n",
      "\tCompletion Tokens: 173\n",
      "Successful Requests: 1\n",
      "Total Cost (USD): $0.14784\n",
      "> Start of model creating.\n",
      "Tokens Used: 4754\n",
      "\tPrompt Tokens: 4582\n",
      "\tCompletion Tokens: 172\n",
      "Successful Requests: 1\n",
      "Total Cost (USD): $0.14778\n",
      "> Start of model creating.\n",
      "Tokens Used: 4756\n",
      "\tPrompt Tokens: 4582\n",
      "\tCompletion Tokens: 174\n",
      "Successful Requests: 1\n",
      "Total Cost (USD): $0.1479\n",
      "> Start of model creating.\n",
      "Tokens Used: 4758\n",
      "\tPrompt Tokens: 4582\n",
      "\tCompletion Tokens: 176\n",
      "Successful Requests: 1\n",
      "Total Cost (USD): $0.14801999999999998\n",
      "> Start of model creating.\n",
      "Tokens Used: 4756\n",
      "\tPrompt Tokens: 4582\n",
      "\tCompletion Tokens: 174\n",
      "Successful Requests: 1\n",
      "Total Cost (USD): $0.1479\n",
      "> Start of model creating.\n",
      "Tokens Used: 4755\n",
      "\tPrompt Tokens: 4582\n",
      "\tCompletion Tokens: 173\n",
      "Successful Requests: 1\n",
      "Total Cost (USD): $0.14784\n",
      "> Start of model creating.\n",
      "Tokens Used: 4742\n",
      "\tPrompt Tokens: 4582\n",
      "\tCompletion Tokens: 160\n",
      "Successful Requests: 1\n",
      "Total Cost (USD): $0.14706\n",
      "> Start of model creating.\n",
      "Tokens Used: 4771\n",
      "\tPrompt Tokens: 4582\n",
      "\tCompletion Tokens: 189\n",
      "Successful Requests: 1\n",
      "Total Cost (USD): $0.1488\n",
      "> Start of model creating.\n",
      "Tokens Used: 4756\n",
      "\tPrompt Tokens: 4582\n",
      "\tCompletion Tokens: 174\n",
      "Successful Requests: 1\n",
      "Total Cost (USD): $0.1479\n",
      "> Start of model creating.\n",
      "Tokens Used: 4755\n",
      "\tPrompt Tokens: 4582\n",
      "\tCompletion Tokens: 173\n",
      "Successful Requests: 1\n",
      "Total Cost (USD): $0.14784\n",
      "> Start of model creating.\n",
      "Tokens Used: 4755\n",
      "\tPrompt Tokens: 4582\n",
      "\tCompletion Tokens: 173\n",
      "Successful Requests: 1\n",
      "Total Cost (USD): $0.14784\n",
      "> Start of model creating.\n",
      "Tokens Used: 4756\n",
      "\tPrompt Tokens: 4582\n",
      "\tCompletion Tokens: 174\n",
      "Successful Requests: 1\n",
      "Total Cost (USD): $0.1479\n",
      "> Start of model creating.\n",
      "Tokens Used: 4756\n",
      "\tPrompt Tokens: 4582\n",
      "\tCompletion Tokens: 174\n",
      "Successful Requests: 1\n",
      "Total Cost (USD): $0.1479\n",
      "> Start of model creating.\n",
      "Tokens Used: 4757\n",
      "\tPrompt Tokens: 4582\n",
      "\tCompletion Tokens: 175\n",
      "Successful Requests: 1\n",
      "Total Cost (USD): $0.14796\n",
      "> Start of model creating.\n",
      "Tokens Used: 4756\n",
      "\tPrompt Tokens: 4582\n",
      "\tCompletion Tokens: 174\n",
      "Successful Requests: 1\n",
      "Total Cost (USD): $0.1479\n",
      "> Start of model creating.\n",
      "Tokens Used: 4756\n",
      "\tPrompt Tokens: 4582\n",
      "\tCompletion Tokens: 174\n",
      "Successful Requests: 1\n",
      "Total Cost (USD): $0.1479\n",
      "> Start of model creating.\n",
      "Tokens Used: 4756\n",
      "\tPrompt Tokens: 4582\n",
      "\tCompletion Tokens: 174\n",
      "Successful Requests: 1\n",
      "Total Cost (USD): $0.1479\n",
      "> Start of model creating.\n",
      "Tokens Used: 4730\n",
      "\tPrompt Tokens: 4582\n",
      "\tCompletion Tokens: 148\n",
      "Successful Requests: 1\n",
      "Total Cost (USD): $0.14634\n",
      "> Start of model creating.\n",
      "Tokens Used: 4758\n",
      "\tPrompt Tokens: 4582\n",
      "\tCompletion Tokens: 176\n",
      "Successful Requests: 1\n",
      "Total Cost (USD): $0.14801999999999998\n",
      "> Start of model creating.\n",
      "Tokens Used: 4758\n",
      "\tPrompt Tokens: 4582\n",
      "\tCompletion Tokens: 176\n",
      "Successful Requests: 1\n",
      "Total Cost (USD): $0.14801999999999998\n",
      "> Start of model creating.\n",
      "Tokens Used: 4754\n",
      "\tPrompt Tokens: 4582\n",
      "\tCompletion Tokens: 172\n",
      "Successful Requests: 1\n",
      "Total Cost (USD): $0.14778\n",
      "> Start of model creating.\n",
      "Tokens Used: 4756\n",
      "\tPrompt Tokens: 4582\n",
      "\tCompletion Tokens: 174\n",
      "Successful Requests: 1\n",
      "Total Cost (USD): $0.1479\n",
      "> Start of model creating.\n",
      "Tokens Used: 4758\n",
      "\tPrompt Tokens: 4582\n",
      "\tCompletion Tokens: 176\n",
      "Successful Requests: 1\n",
      "Total Cost (USD): $0.14801999999999998\n",
      "> Start of model creating.\n",
      "Tokens Used: 4756\n",
      "\tPrompt Tokens: 4582\n",
      "\tCompletion Tokens: 174\n",
      "Successful Requests: 1\n",
      "Total Cost (USD): $0.1479\n",
      "> Start of model creating.\n",
      "Tokens Used: 4774\n",
      "\tPrompt Tokens: 4582\n",
      "\tCompletion Tokens: 192\n",
      "Successful Requests: 1\n",
      "Total Cost (USD): $0.14898\n",
      "> Start of model creating.\n",
      "Tokens Used: 4730\n",
      "\tPrompt Tokens: 4582\n",
      "\tCompletion Tokens: 148\n",
      "Successful Requests: 1\n",
      "Total Cost (USD): $0.14634\n"
     ]
    }
   ],
   "source": [
    "n = 600\n",
    "df = pd.read_csv(f'../data/circle/circle_{n}_train.csv')\n",
    "x_train = df.drop('Target', axis=1)\n",
    "y_train = df['Target']\n",
    "\n",
    "file_path = '../models/circle/'\n",
    "for i in range(1,31):\n",
    "    model = iblm.fit(x_train, y_train, model_name = f'circle_{i}', file_path=file_path)"
   ]
  },
  {
   "cell_type": "markdown",
   "metadata": {},
   "source": [
    "### Prediction"
   ]
  },
  {
   "cell_type": "code",
   "execution_count": 14,
   "metadata": {},
   "outputs": [
    {
     "name": "stdout",
     "output_type": "stream",
     "text": [
      "0\n",
      "[]\n",
      "[0.9991111111111111, 0.9991111111111111, 0.9991111111111111, 0.9991111111111111, 0.9991111111111111, 0.9991111111111111, 0.9991111111111111, 0.9991111111111111, 0.9991111111111111, 0.9991111111111111, 0.0008888888888888887, 0.9991111111111111, 0.9991111111111111, 0.9991111111111111, 0.9991111111111111, 0.9991111111111111, 0.9991111111111111, 0.9991111111111111, 0.9991111111111111, 0.9991111111111111, 0.9991111111111111, 0.9991111111111111, 0.9991111111111111, 0.9991111111111111, 0.9991111111111111, 0.9991111111111111, 0.9991111111111111, 0.9991111111111111, 0.9991111111111111, 0.9991111111111111]\n",
      "Average Value: 0.9658370370370374\n",
      "Maximum Value: 0.9991111111111111\n",
      "Minimum Value: 0.0008888888888888887\n"
     ]
    }
   ],
   "source": [
    "n = 600\n",
    "\n",
    "df = pd.read_csv(f'../data/circle/circle_{n}_test.csv')\n",
    "x_test = df.drop('Target', axis=1)\n",
    "y_test = df['Target']\n",
    "\n",
    "sys.path.append('..')\n",
    "\n",
    "error_count = 0\n",
    "error_list = []\n",
    "auc_list = []\n",
    "\n",
    "\n",
    "for i in range(1,31):\n",
    "\n",
    "    import_file = f'import models.circle.circle_{i} as codemodel'\n",
    "\n",
    "    exec(import_file)\n",
    "\n",
    "    try:\n",
    "        y_proba = codemodel.predict(x_test)\n",
    "        y_pred = (y_proba > 0.5).astype(int)\n",
    "        negative_values_exist = np.any(y_proba < 0)\n",
    "        values_greater_than_one_exist = np.any(y_proba > 1)\n",
    "        if negative_values_exist:\n",
    "            error_list.append(i)\n",
    "            error_count += 1\n",
    "            print(f\"Negative values exist：{negative_values_exist}\")\n",
    "\n",
    "        elif values_greater_than_one_exist:\n",
    "            error_list.append(i)\n",
    "            error_count += 1\n",
    "            print(f\"Positive values exist：{values_greater_than_one_exist}\")\n",
    "\n",
    "        else:\n",
    "            roc_auc = roc_auc_score(y_test, y_proba)\n",
    "            auc_list.append(roc_auc)\n",
    "        \n",
    "    except Exception:\n",
    "        print('run error')\n",
    "        error_count += 1\n",
    "        error_list.append(i)\n",
    "        pass\n",
    "\n",
    "print(error_count)\n",
    "print(error_list)\n",
    "print(auc_list)\n",
    "average = sum(auc_list) / len(auc_list)\n",
    "print(\"Average Value:\", average)\n",
    "max_value = max(auc_list)\n",
    "min_value = min(auc_list)\n",
    "print(\"Maximum Value:\", max_value)\n",
    "print(\"Minimum Value:\", min_value)"
   ]
  },
  {
   "cell_type": "code",
   "execution_count": null,
   "metadata": {},
   "outputs": [],
   "source": []
  }
 ],
 "metadata": {
  "kernelspec": {
   "display_name": "Python 3.9.10 ('iblm-L6oop2Mj-py3.9')",
   "language": "python",
   "name": "python3"
  },
  "language_info": {
   "codemirror_mode": {
    "name": "ipython",
    "version": 3
   },
   "file_extension": ".py",
   "mimetype": "text/x-python",
   "name": "python",
   "nbconvert_exporter": "python",
   "pygments_lexer": "ipython3",
   "version": "3.9.10"
  },
  "orig_nbformat": 4,
  "vscode": {
   "interpreter": {
    "hash": "67008fb9323ab6c1c90f5d9822582dbef34eff0db475eec3af4e0e9456757ebf"
   }
  }
 },
 "nbformat": 4,
 "nbformat_minor": 2
}

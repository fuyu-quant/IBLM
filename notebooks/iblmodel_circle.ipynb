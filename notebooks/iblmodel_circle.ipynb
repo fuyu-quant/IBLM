{
 "cells": [
  {
   "cell_type": "markdown",
   "metadata": {},
   "source": [
    "# Circle"
   ]
  },
  {
   "cell_type": "code",
   "execution_count": 1,
   "metadata": {},
   "outputs": [],
   "source": [
    "%%capture\n",
    "!pip install iblm --upgrade"
   ]
  },
  {
   "cell_type": "code",
   "execution_count": 1,
   "metadata": {},
   "outputs": [],
   "source": [
    "%%capture\n",
    "!pip install git+https://github.com/fuyu-quant/IBLM.git "
   ]
  },
  {
   "cell_type": "code",
   "execution_count": 2,
   "metadata": {},
   "outputs": [
    {
     "name": "stdout",
     "output_type": "stream",
     "text": [
      "0.1.1\n"
     ]
    }
   ],
   "source": [
    "import pkg_resources\n",
    "print(pkg_resources.get_distribution('IBLM').version)"
   ]
  },
  {
   "cell_type": "code",
   "execution_count": 2,
   "metadata": {},
   "outputs": [],
   "source": [
    "import pandas as pd\n",
    "from langchain.llms import OpenAI\n",
    "from sklearn.metrics import accuracy_score, precision_score, recall_score, f1_score, roc_auc_score\n",
    "\n",
    "from iblm import IBLMClassifier\n",
    "\n",
    "\n",
    "import os\n",
    "#os.environ[\"OPENAI_API_KEY\"] = \"OPENAI_API_KEY\""
   ]
  },
  {
   "cell_type": "code",
   "execution_count": 36,
   "metadata": {},
   "outputs": [
    {
     "name": "stdout",
     "output_type": "stream",
     "text": [
      "300\n"
     ]
    }
   ],
   "source": [
    "n = 600\n",
    "\n",
    "df = pd.read_csv(f'../data/circle/circle_{n}_train.csv')\n",
    "x_train = df.drop('Target', axis=1)\n",
    "y_train = df['Target']\n",
    "print(len(x_train))"
   ]
  },
  {
   "cell_type": "code",
   "execution_count": 38,
   "metadata": {},
   "outputs": [],
   "source": [
    "llm_model_name = 'gpt-4'\n",
    "\n",
    "params = {'columns_name': True}\n",
    "\n",
    "iblm = IBLMClassifier(llm_model_name=llm_model_name, params=params)"
   ]
  },
  {
   "cell_type": "markdown",
   "metadata": {},
   "source": [
    "### Training"
   ]
  },
  {
   "cell_type": "code",
   "execution_count": 39,
   "metadata": {},
   "outputs": [
    {
     "name": "stdout",
     "output_type": "stream",
     "text": [
      "Number of data:300\n",
      "> Start of model creating.\n",
      "Tokens Used: 7160\n",
      "\tPrompt Tokens: 6988\n",
      "\tCompletion Tokens: 172\n",
      "Successful Requests: 1\n",
      "Total Cost (USD): $0.21996\n"
     ]
    }
   ],
   "source": [
    "file_path = '../models/circle/'\n",
    "\n",
    "print(f'Number of data:{len(x_train)}')\n",
    "model = iblm.fit(x_train, y_train, model_name = 'circle', file_path=file_path)"
   ]
  },
  {
   "cell_type": "code",
   "execution_count": 40,
   "metadata": {},
   "outputs": [
    {
     "name": "stdout",
     "output_type": "stream",
     "text": [
      "import numpy as np\n",
      "def predict(x):\n",
      "    df = x.copy()\n",
      "    output = []\n",
      "    for index, row in df.iterrows():\n",
      "        # Do not change the code before this point.\n",
      "        # Please describe the process required to make the prediction below.\n",
      "\n",
      "        feature_1 = row['Feature_1']\n",
      "        feature_2 = row['Feature_2']\n",
      "\n",
      "        # Calculate the distance from the origin (0, 0)\n",
      "        distance = np.sqrt(feature_1**2 + feature_2**2)\n",
      "\n",
      "        # Normalize the distance to range [0, 1]\n",
      "        normalized_distance = distance / np.sqrt(2)\n",
      "\n",
      "        # Calculate the probability of target being 1\n",
      "        y = 1 - normalized_distance\n",
      "\n",
      "        # Do not change the code after this point.\n",
      "        output.append(y)\n",
      "    return np.array(output)\n"
     ]
    }
   ],
   "source": [
    "# Code of the model created\n",
    "print(model)"
   ]
  },
  {
   "cell_type": "markdown",
   "metadata": {},
   "source": [
    "### Prediction"
   ]
  },
  {
   "cell_type": "code",
   "execution_count": 41,
   "metadata": {},
   "outputs": [],
   "source": [
    "df = pd.read_csv(f'../data/circle/circle_{n}_test.csv')\n",
    "x_test = df.drop('Target', axis=1)\n",
    "y_test = df['Target']"
   ]
  },
  {
   "cell_type": "code",
   "execution_count": 42,
   "metadata": {},
   "outputs": [],
   "source": [
    "y_proba = iblm.predict(x_test)\n",
    "y_pred = (y_proba > 0.5).astype(int)"
   ]
  },
  {
   "cell_type": "code",
   "execution_count": 43,
   "metadata": {},
   "outputs": [
    {
     "name": "stdout",
     "output_type": "stream",
     "text": [
      "Accuracy: 0.51\n",
      "Precision: 1.0\n",
      "Recall: 0.02\n",
      "F1 score: 0.0392156862745098\n",
      "ROC-AUC: 0.9991111111111111\n"
     ]
    }
   ],
   "source": [
    "accuracy = accuracy_score(y_test, y_pred)\n",
    "print(f'Accuracy: {accuracy}')\n",
    "\n",
    "# Precision\n",
    "precision = precision_score(y_test, y_pred)\n",
    "print(f'Precision: {precision}')\n",
    "\n",
    "# Recall\n",
    "recall = recall_score(y_test, y_pred)\n",
    "print(f'Recall: {recall}')\n",
    "\n",
    "# F1 score\n",
    "f1 = f1_score(y_test, y_pred)\n",
    "print(f'F1 score: {f1}')\n",
    "\n",
    "# ROC-AUC (you need prediction probabilities for this, not just class predictions)\n",
    "# Here we just reuse y_pred for simplicity\n",
    "roc_auc = roc_auc_score(y_test, y_proba)\n",
    "print(f'ROC-AUC: {roc_auc}')"
   ]
  },
  {
   "cell_type": "markdown",
   "metadata": {},
   "source": [
    "### Create multiple code models"
   ]
  },
  {
   "cell_type": "code",
   "execution_count": 44,
   "metadata": {},
   "outputs": [
    {
     "name": "stdout",
     "output_type": "stream",
     "text": [
      "> Start of model creating.\n",
      "Tokens Used: 7260\n",
      "\tPrompt Tokens: 6988\n",
      "\tCompletion Tokens: 272\n",
      "Successful Requests: 1\n",
      "Total Cost (USD): $0.22596\n",
      "> Start of model creating.\n",
      "Tokens Used: 7193\n",
      "\tPrompt Tokens: 6988\n",
      "\tCompletion Tokens: 205\n",
      "Successful Requests: 1\n",
      "Total Cost (USD): $0.22194\n",
      "> Start of model creating.\n",
      "Tokens Used: 7166\n",
      "\tPrompt Tokens: 6988\n",
      "\tCompletion Tokens: 178\n",
      "Successful Requests: 1\n",
      "Total Cost (USD): $0.22032\n",
      "> Start of model creating.\n",
      "Tokens Used: 7186\n",
      "\tPrompt Tokens: 6988\n",
      "\tCompletion Tokens: 198\n",
      "Successful Requests: 1\n",
      "Total Cost (USD): $0.22152\n",
      "> Start of model creating.\n",
      "Tokens Used: 7160\n",
      "\tPrompt Tokens: 6988\n",
      "\tCompletion Tokens: 172\n",
      "Successful Requests: 1\n",
      "Total Cost (USD): $0.21996\n",
      "> Start of model creating.\n",
      "Tokens Used: 7190\n",
      "\tPrompt Tokens: 6988\n",
      "\tCompletion Tokens: 202\n",
      "Successful Requests: 1\n",
      "Total Cost (USD): $0.22175999999999998\n",
      "> Start of model creating.\n",
      "Tokens Used: 7162\n",
      "\tPrompt Tokens: 6988\n",
      "\tCompletion Tokens: 174\n",
      "Successful Requests: 1\n",
      "Total Cost (USD): $0.22008\n",
      "> Start of model creating.\n",
      "Tokens Used: 7193\n",
      "\tPrompt Tokens: 6988\n",
      "\tCompletion Tokens: 205\n",
      "Successful Requests: 1\n",
      "Total Cost (USD): $0.22194\n",
      "> Start of model creating.\n",
      "Tokens Used: 7261\n",
      "\tPrompt Tokens: 6988\n",
      "\tCompletion Tokens: 273\n",
      "Successful Requests: 1\n",
      "Total Cost (USD): $0.22602\n",
      "> Start of model creating.\n",
      "Tokens Used: 7162\n",
      "\tPrompt Tokens: 6988\n",
      "\tCompletion Tokens: 174\n",
      "Successful Requests: 1\n",
      "Total Cost (USD): $0.22008\n",
      "> Start of model creating.\n",
      "Tokens Used: 7225\n",
      "\tPrompt Tokens: 6988\n",
      "\tCompletion Tokens: 237\n",
      "Successful Requests: 1\n",
      "Total Cost (USD): $0.22386\n",
      "> Start of model creating.\n",
      "Tokens Used: 7145\n",
      "\tPrompt Tokens: 6988\n",
      "\tCompletion Tokens: 157\n",
      "Successful Requests: 1\n",
      "Total Cost (USD): $0.21906\n",
      "> Start of model creating.\n",
      "Tokens Used: 7137\n",
      "\tPrompt Tokens: 6988\n",
      "\tCompletion Tokens: 149\n",
      "Successful Requests: 1\n",
      "Total Cost (USD): $0.21858\n",
      "> Start of model creating.\n",
      "Tokens Used: 7162\n",
      "\tPrompt Tokens: 6988\n",
      "\tCompletion Tokens: 174\n",
      "Successful Requests: 1\n",
      "Total Cost (USD): $0.22008\n",
      "> Start of model creating.\n",
      "Tokens Used: 7180\n",
      "\tPrompt Tokens: 6988\n",
      "\tCompletion Tokens: 192\n",
      "Successful Requests: 1\n",
      "Total Cost (USD): $0.22116\n",
      "> Start of model creating.\n",
      "Tokens Used: 7194\n",
      "\tPrompt Tokens: 6988\n",
      "\tCompletion Tokens: 206\n",
      "Successful Requests: 1\n",
      "Total Cost (USD): $0.222\n",
      "> Start of model creating.\n",
      "Tokens Used: 7161\n",
      "\tPrompt Tokens: 6988\n",
      "\tCompletion Tokens: 173\n",
      "Successful Requests: 1\n",
      "Total Cost (USD): $0.22002\n",
      "> Start of model creating.\n",
      "Tokens Used: 7160\n",
      "\tPrompt Tokens: 6988\n",
      "\tCompletion Tokens: 172\n",
      "Successful Requests: 1\n",
      "Total Cost (USD): $0.21996\n",
      "> Start of model creating.\n",
      "Tokens Used: 7161\n",
      "\tPrompt Tokens: 6988\n",
      "\tCompletion Tokens: 173\n",
      "Successful Requests: 1\n",
      "Total Cost (USD): $0.22002\n",
      "> Start of model creating.\n",
      "Tokens Used: 7261\n",
      "\tPrompt Tokens: 6988\n",
      "\tCompletion Tokens: 273\n",
      "Successful Requests: 1\n",
      "Total Cost (USD): $0.22602\n",
      "> Start of model creating.\n",
      "Tokens Used: 7288\n",
      "\tPrompt Tokens: 6988\n",
      "\tCompletion Tokens: 300\n",
      "Successful Requests: 1\n",
      "Total Cost (USD): $0.22763999999999998\n",
      "> Start of model creating.\n",
      "Tokens Used: 7161\n",
      "\tPrompt Tokens: 6988\n",
      "\tCompletion Tokens: 173\n",
      "Successful Requests: 1\n",
      "Total Cost (USD): $0.22002\n",
      "> Start of model creating.\n",
      "Tokens Used: 7126\n",
      "\tPrompt Tokens: 6988\n",
      "\tCompletion Tokens: 138\n",
      "Successful Requests: 1\n",
      "Total Cost (USD): $0.21792\n",
      "> Start of model creating.\n",
      "Tokens Used: 7162\n",
      "\tPrompt Tokens: 6988\n",
      "\tCompletion Tokens: 174\n",
      "Successful Requests: 1\n",
      "Total Cost (USD): $0.22008\n",
      "> Start of model creating.\n",
      "Tokens Used: 7194\n",
      "\tPrompt Tokens: 6988\n",
      "\tCompletion Tokens: 206\n",
      "Successful Requests: 1\n",
      "Total Cost (USD): $0.222\n",
      "> Start of model creating.\n",
      "Tokens Used: 7260\n",
      "\tPrompt Tokens: 6988\n",
      "\tCompletion Tokens: 272\n",
      "Successful Requests: 1\n",
      "Total Cost (USD): $0.22596\n",
      "> Start of model creating.\n",
      "Tokens Used: 7185\n",
      "\tPrompt Tokens: 6988\n",
      "\tCompletion Tokens: 197\n",
      "Successful Requests: 1\n",
      "Total Cost (USD): $0.22146\n",
      "> Start of model creating.\n",
      "Tokens Used: 7161\n",
      "\tPrompt Tokens: 6988\n",
      "\tCompletion Tokens: 173\n",
      "Successful Requests: 1\n",
      "Total Cost (USD): $0.22002\n",
      "> Start of model creating.\n",
      "Tokens Used: 7145\n",
      "\tPrompt Tokens: 6988\n",
      "\tCompletion Tokens: 157\n",
      "Successful Requests: 1\n",
      "Total Cost (USD): $0.21906\n",
      "> Start of model creating.\n",
      "Tokens Used: 7162\n",
      "\tPrompt Tokens: 6988\n",
      "\tCompletion Tokens: 174\n",
      "Successful Requests: 1\n",
      "Total Cost (USD): $0.22008\n"
     ]
    }
   ],
   "source": [
    "n = 600\n",
    "df = pd.read_csv(f'../data/circle/circle_{n}_train.csv')\n",
    "x_train = df.drop('Target', axis=1)\n",
    "y_train = df['Target']\n",
    "\n",
    "file_path = '../models/circle/'\n",
    "for i in range(1,31):\n",
    "    model = iblm.fit(x_train, y_train, model_name = f'circle_{i}', file_path=file_path)"
   ]
  },
  {
   "cell_type": "code",
   "execution_count": null,
   "metadata": {},
   "outputs": [],
   "source": []
  }
 ],
 "metadata": {
  "kernelspec": {
   "display_name": "Python 3.9.10 ('iblm-L6oop2Mj-py3.9')",
   "language": "python",
   "name": "python3"
  },
  "language_info": {
   "codemirror_mode": {
    "name": "ipython",
    "version": 3
   },
   "file_extension": ".py",
   "mimetype": "text/x-python",
   "name": "python",
   "nbconvert_exporter": "python",
   "pygments_lexer": "ipython3",
   "version": "3.9.10"
  },
  "orig_nbformat": 4,
  "vscode": {
   "interpreter": {
    "hash": "67008fb9323ab6c1c90f5d9822582dbef34eff0db475eec3af4e0e9456757ebf"
   }
  }
 },
 "nbformat": 4,
 "nbformat_minor": 2
}

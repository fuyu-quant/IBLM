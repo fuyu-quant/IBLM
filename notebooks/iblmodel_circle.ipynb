{
 "cells": [
  {
   "cell_type": "markdown",
   "metadata": {},
   "source": [
    "# Circle"
   ]
  },
  {
   "cell_type": "code",
   "execution_count": 1,
   "metadata": {},
   "outputs": [],
   "source": [
    "%%capture\n",
    "!pip install git+https://github.com/fuyu-quant/IBLM.git@feature-in-context-learning "
   ]
  },
  {
   "cell_type": "code",
   "execution_count": 2,
   "metadata": {},
   "outputs": [],
   "source": [
    "#%%capture\n",
    "#!pip install git+https://github.com/fuyu-quant/IBLM.git"
   ]
  },
  {
   "cell_type": "code",
   "execution_count": 3,
   "metadata": {},
   "outputs": [
    {
     "name": "stdout",
     "output_type": "stream",
     "text": [
      "0.1.35\n"
     ]
    }
   ],
   "source": [
    "import pkg_resources\n",
    "print(pkg_resources.get_distribution('IBLM').version)"
   ]
  },
  {
   "cell_type": "code",
   "execution_count": 4,
   "metadata": {},
   "outputs": [],
   "source": [
    "import pandas as pd\n",
    "import numpy as np\n",
    "from langchain.llms import OpenAI\n",
    "from sklearn.metrics import accuracy_score, precision_score, recall_score, f1_score, roc_auc_score\n",
    "\n",
    "from iblm import IBLMClassifier\n",
    "\n",
    "import sys\n",
    "import os"
   ]
  },
  {
   "cell_type": "code",
   "execution_count": 23,
   "metadata": {},
   "outputs": [
    {
     "name": "stdout",
     "output_type": "stream",
     "text": [
      "400\n"
     ]
    }
   ],
   "source": [
    "n = 400\n",
    "\n",
    "df = pd.read_csv(f'../data/circle/circle_{n}_train.csv')\n",
    "x_train = df.drop('Target', axis=1)\n",
    "y_train = df['Target']\n",
    "print(len(x_train))"
   ]
  },
  {
   "cell_type": "code",
   "execution_count": 24,
   "metadata": {},
   "outputs": [],
   "source": [
    "llm_model_name = 'gpt-4'\n",
    "\n",
    "params = {'columns_name': True}\n",
    "\n",
    "iblm = IBLMClassifier(llm_model_name=llm_model_name, params=params)"
   ]
  },
  {
   "cell_type": "markdown",
   "metadata": {},
   "source": [
    "### Training"
   ]
  },
  {
   "cell_type": "code",
   "execution_count": 25,
   "metadata": {},
   "outputs": [
    {
     "name": "stdout",
     "output_type": "stream",
     "text": [
      "Number of data:400\n",
      "> Start of model creating.\n",
      "Tokens Used: 5452\n",
      "\tPrompt Tokens: 5294\n",
      "\tCompletion Tokens: 158\n",
      "Successful Requests: 1\n",
      "Total Cost (USD): $0.16829999999999998\n"
     ]
    }
   ],
   "source": [
    "file_path = '../models/circle/'\n",
    "\n",
    "print(f'Number of data:{len(x_train)}')\n",
    "model = iblm.fit(x_train, y_train, model_name = 'circle', file_path=file_path)"
   ]
  },
  {
   "cell_type": "code",
   "execution_count": 26,
   "metadata": {},
   "outputs": [
    {
     "name": "stdout",
     "output_type": "stream",
     "text": [
      "import numpy as np\n",
      "\n",
      "def predict(x):\n",
      "    df = x.copy()\n",
      "    output = []\n",
      "    for index, row in df.iterrows():\n",
      "        # Do not change the code before this point.\n",
      "        # Please describe the process required to make the prediction below.\n",
      "\n",
      "        # Calculate the distance from the origin (0, 0)\n",
      "        distance = np.sqrt(row['Feature_1']**2 + row['Feature_2']**2)\n",
      "\n",
      "        # Normalize the distance to a range between 0 and 1\n",
      "        normalized_distance = distance / np.sqrt(2)\n",
      "\n",
      "        # Calculate the probability based on the normalized distance\n",
      "        y = 1 - normalized_distance\n",
      "\n",
      "        # Do not change the code after this point.\n",
      "        output.append(y)\n",
      "    return np.array(output)\n"
     ]
    }
   ],
   "source": [
    "# Code of the model created\n",
    "print(model)"
   ]
  },
  {
   "cell_type": "markdown",
   "metadata": {},
   "source": [
    "### Prediction"
   ]
  },
  {
   "cell_type": "code",
   "execution_count": 27,
   "metadata": {},
   "outputs": [],
   "source": [
    "df = pd.read_csv(f'../data/circle/circle_{n}_test.csv')\n",
    "x_test = df.drop('Target', axis=1)\n",
    "y_test = df['Target']"
   ]
  },
  {
   "cell_type": "code",
   "execution_count": 28,
   "metadata": {},
   "outputs": [],
   "source": [
    "y_proba = iblm.predict(x_test)\n",
    "y_pred = (y_proba > 0.5).astype(int)"
   ]
  },
  {
   "cell_type": "code",
   "execution_count": 29,
   "metadata": {},
   "outputs": [
    {
     "data": {
      "text/plain": [
       "array([0.45845545, 0.36472644, 0.24786969, 0.38140482, 0.43457052,\n",
       "       0.45559941, 0.29641987, 0.42951862, 0.38656011, 0.25170861,\n",
       "       0.45314307, 0.31911051, 0.30695383, 0.28075282, 0.27984134,\n",
       "       0.19924723, 0.3810004 , 0.35277631, 0.28005382, 0.37615306,\n",
       "       0.23181187, 0.46433919, 0.44188308, 0.46252023, 0.27641863,\n",
       "       0.35496318, 0.44244955, 0.43808542, 0.31397631, 0.3707425 ,\n",
       "       0.45442828, 0.2596538 , 0.43932674, 0.40340759, 0.42368672,\n",
       "       0.39059168, 0.46833845, 0.29973933, 0.31418188, 0.49349975,\n",
       "       0.26904857, 0.42665848, 0.41612244, 0.40336862, 0.29744004,\n",
       "       0.37063445, 0.2982504 , 0.27697683, 0.40198662, 0.47408556,\n",
       "       0.29696373, 0.25756179, 0.45545891, 0.28885831, 0.33266013,\n",
       "       0.31439188, 0.29229632, 0.48428593, 0.36060302, 0.32714006,\n",
       "       0.25840543, 0.32133955, 0.24304789, 0.25046948, 0.46687244,\n",
       "       0.37594511, 0.42379301, 0.41457024, 0.50502525, 0.28329364,\n",
       "       0.42787676, 0.44596345, 0.2497667 , 0.45158   , 0.39599296,\n",
       "       0.36691786, 0.26411822, 0.32206306, 0.4500741 , 0.27245447,\n",
       "       0.30789271, 0.43092839, 0.42635464, 0.39931955, 0.38300567,\n",
       "       0.42384334, 0.45292322, 0.23939169, 0.3774761 , 0.32308198,\n",
       "       0.40920985, 0.2800382 , 0.29962403, 0.44609522, 0.45400916,\n",
       "       0.41683193, 0.32203061, 0.24800399, 0.39666842, 0.25023937,\n",
       "       0.29201518, 0.33443069, 0.40488951, 0.29018735, 0.26970348,\n",
       "       0.48505826, 0.23781072, 0.42376177, 0.30007858, 0.39850852,\n",
       "       0.36109469, 0.30631671, 0.32289735, 0.42905517, 0.51476552,\n",
       "       0.4506472 , 0.25188069, 0.42211247, 0.24760516, 0.28425563,\n",
       "       0.41061685, 0.2983017 , 0.24618537, 0.45179383, 0.53262756,\n",
       "       0.44222899, 0.47521433, 0.3120218 , 0.39027793, 0.40200125,\n",
       "       0.28273959, 0.30947484, 0.40041348, 0.3933745 , 0.42326002,\n",
       "       0.32212796, 0.27889633, 0.3023579 , 0.38006291, 0.31306732,\n",
       "       0.29260018, 0.39557259, 0.30683768, 0.40569999, 0.31201672,\n",
       "       0.44616022, 0.28896554, 0.32454386, 0.26615737, 0.26784667,\n",
       "       0.45441545, 0.35398723, 0.43284702, 0.46482059, 0.28019655,\n",
       "       0.29143173, 0.43439015, 0.31469678, 0.21892222, 0.28762756,\n",
       "       0.29271611, 0.24852545, 0.2764518 , 0.38904583, 0.30654596,\n",
       "       0.45388646, 0.31859667, 0.26260933, 0.45207802, 0.39677823,\n",
       "       0.41185844, 0.38703793, 0.43490001, 0.4230247 , 0.4249587 ,\n",
       "       0.42928948, 0.29717392, 0.37433236, 0.25820454, 0.2593378 ,\n",
       "       0.41596918, 0.30853887, 0.27087381, 0.39438544, 0.43562911,\n",
       "       0.28241377, 0.48849536, 0.38114097, 0.45244087, 0.38051312,\n",
       "       0.26979866, 0.30863866, 0.44339871, 0.41777925, 0.28035981,\n",
       "       0.25373966, 0.42487349, 0.23819556, 0.28771881, 0.32969373,\n",
       "       0.32564661, 0.45382192, 0.42521656, 0.34760441, 0.2967017 ,\n",
       "       0.40137407, 0.32326519, 0.47571143, 0.29591584, 0.51548736,\n",
       "       0.23374515, 0.29331195, 0.27954424, 0.30838414, 0.31876546,\n",
       "       0.39374428, 0.42033803, 0.27515346, 0.26514457, 0.45491056,\n",
       "       0.4499141 , 0.44648668, 0.25330461, 0.23690073, 0.40830329,\n",
       "       0.44754864, 0.28822581, 0.32964338, 0.28310077, 0.44516264,\n",
       "       0.44356492, 0.30531086, 0.32892325, 0.18724604, 0.40279945,\n",
       "       0.43371165, 0.47527912, 0.40247678, 0.33032769, 0.26063777,\n",
       "       0.28029937, 0.32164537, 0.2270621 , 0.47426813, 0.44802899,\n",
       "       0.2751883 , 0.43561538, 0.24048371, 0.40648294, 0.4215322 ,\n",
       "       0.37787582, 0.39309927, 0.23135899, 0.24097299, 0.4221726 ,\n",
       "       0.3098406 , 0.30424933, 0.27125965, 0.42871154, 0.30750848,\n",
       "       0.44023844, 0.42777059, 0.42615289, 0.49405089, 0.26529666,\n",
       "       0.36787936, 0.24338847, 0.34006629, 0.21878908, 0.29408322,\n",
       "       0.29517201, 0.29840753, 0.40549643, 0.40494832, 0.37225085,\n",
       "       0.40223541, 0.42816392, 0.42316163, 0.48927503, 0.29046177,\n",
       "       0.41261171, 0.48619751, 0.46724771, 0.40842583, 0.39849356,\n",
       "       0.35273305, 0.40007167, 0.4567496 , 0.29735037, 0.28940694,\n",
       "       0.26319168, 0.36064877, 0.31345721, 0.29690826, 0.48720131,\n",
       "       0.2792268 , 0.42259113, 0.31532307, 0.35194368, 0.4245189 ,\n",
       "       0.43842854, 0.29384067, 0.4001296 , 0.33920313, 0.48093835,\n",
       "       0.315947  , 0.27418976, 0.34405602, 0.43787501, 0.44194758,\n",
       "       0.33147289, 0.42812414, 0.3225858 , 0.33080197, 0.38116036,\n",
       "       0.42062016, 0.29915729, 0.30859852, 0.32748048, 0.437482  ,\n",
       "       0.31578804, 0.36623782, 0.40502899, 0.30048231, 0.42716975,\n",
       "       0.32609459, 0.35930585, 0.27777774, 0.44136953, 0.26591554,\n",
       "       0.46734627, 0.41862233, 0.46972413, 0.46353705, 0.46604448,\n",
       "       0.32630534, 0.43676204, 0.28364639, 0.24777497, 0.30872581,\n",
       "       0.36132442, 0.43280647, 0.27372698, 0.45430961, 0.48323119,\n",
       "       0.49042763, 0.27740399, 0.39228872, 0.34409871, 0.26584402,\n",
       "       0.31740019, 0.41937189, 0.42179372, 0.28738159, 0.2712473 ,\n",
       "       0.46771248, 0.26722309, 0.2919887 , 0.45181709, 0.30549838,\n",
       "       0.40598653, 0.32541494, 0.42684339, 0.45515461, 0.31829479,\n",
       "       0.29579655, 0.37543215, 0.33529819, 0.24318761, 0.42245996,\n",
       "       0.30939374, 0.42712261, 0.20684018, 0.47009954, 0.26319609,\n",
       "       0.39282416, 0.29454554, 0.43471335, 0.41136726, 0.39911898,\n",
       "       0.45499725, 0.43082077, 0.27282155, 0.2654372 , 0.31970595,\n",
       "       0.2488166 , 0.44815537, 0.3334008 , 0.40118242, 0.41085104,\n",
       "       0.33466212, 0.49501683, 0.2845753 , 0.3176229 , 0.40643366,\n",
       "       0.31697072, 0.29496631, 0.25337928, 0.4672693 , 0.33387501,\n",
       "       0.39870473, 0.45813286, 0.45682553, 0.32098159, 0.43397659,\n",
       "       0.43861555, 0.40079636, 0.39553908, 0.285637  , 0.41472015,\n",
       "       0.45996065, 0.39750353, 0.49977505, 0.23071657, 0.31547644,\n",
       "       0.26678107, 0.43297046, 0.30512591, 0.40414096, 0.28062666,\n",
       "       0.28101147, 0.27357416, 0.44113284, 0.45447182, 0.31704868,\n",
       "       0.28370258, 0.4656649 , 0.40091862, 0.29914588, 0.35082013,\n",
       "       0.29753221, 0.31833989, 0.45029963, 0.43066662, 0.32821134,\n",
       "       0.41134008, 0.51209991, 0.38690131, 0.40586323, 0.28670273,\n",
       "       0.42198616, 0.33053753, 0.45987316, 0.40031342, 0.37657358,\n",
       "       0.43026805, 0.4534243 , 0.32049135, 0.26663174, 0.36906656,\n",
       "       0.28124239, 0.28605007, 0.42730593, 0.32571779, 0.50161611,\n",
       "       0.4252544 , 0.24915381, 0.3114036 , 0.40248975, 0.45535975,\n",
       "       0.30161257, 0.43137974, 0.31666809, 0.45570504, 0.24462195,\n",
       "       0.25566607, 0.26543346, 0.43204049, 0.44841139, 0.25682236,\n",
       "       0.30259588, 0.46150162, 0.30123466, 0.27078638, 0.310208  ,\n",
       "       0.2443301 , 0.27650155, 0.34863528, 0.43716255, 0.29717712,\n",
       "       0.33816241, 0.31923389, 0.31670468, 0.48125102, 0.50630526,\n",
       "       0.47620997, 0.22837056, 0.30734929, 0.43672698, 0.46249977,\n",
       "       0.36418478, 0.3056053 , 0.40687607, 0.43094376, 0.46395429,\n",
       "       0.26683528, 0.45477711, 0.29946699, 0.25666797, 0.42865728,\n",
       "       0.32946812, 0.46581417, 0.43815127, 0.41395819, 0.39175457,\n",
       "       0.28003993, 0.51816548, 0.48950808, 0.2805582 , 0.3973803 ,\n",
       "       0.31759653, 0.37273132, 0.28813906, 0.22571291, 0.42809092,\n",
       "       0.27845132, 0.45003591, 0.53830475, 0.40408558, 0.47555649,\n",
       "       0.36267081, 0.33763869, 0.3115089 , 0.30523781, 0.28820473,\n",
       "       0.28623358, 0.26729099, 0.44057798, 0.4029531 , 0.28447991,\n",
       "       0.27813021, 0.42383813, 0.3492343 , 0.3520679 , 0.25528932,\n",
       "       0.49437563, 0.30821607, 0.26534021, 0.39891556, 0.35840316,\n",
       "       0.47401521, 0.47088517, 0.29413847, 0.23395496, 0.47379614,\n",
       "       0.27929999, 0.44160498, 0.46764204, 0.45885584, 0.44408409,\n",
       "       0.4058363 , 0.27797922, 0.22917966, 0.46364098, 0.30896418,\n",
       "       0.29477911, 0.31671016, 0.43073688, 0.28807514, 0.40623826,\n",
       "       0.26067801, 0.48225827, 0.42286873, 0.43912479, 0.32050828,\n",
       "       0.43484117, 0.43679489, 0.41274878, 0.41789649, 0.48026112,\n",
       "       0.40249435, 0.31445496, 0.23587108, 0.42435558, 0.46357619,\n",
       "       0.30568235, 0.26598467, 0.29876894, 0.41004873, 0.32494371,\n",
       "       0.40812121, 0.27324488, 0.41991854, 0.42755961, 0.3672623 ,\n",
       "       0.44013394, 0.33143661, 0.29949268, 0.3717592 , 0.44909801,\n",
       "       0.32681615, 0.27904161, 0.51617358, 0.41066266, 0.32868152,\n",
       "       0.4483638 , 0.48213322, 0.46086273, 0.43804582, 0.3214066 ])"
      ]
     },
     "execution_count": 29,
     "metadata": {},
     "output_type": "execute_result"
    }
   ],
   "source": [
    "y_proba"
   ]
  },
  {
   "cell_type": "code",
   "execution_count": 30,
   "metadata": {},
   "outputs": [
    {
     "name": "stdout",
     "output_type": "stream",
     "text": [
      "Accuracy: 0.5166666666666667\n",
      "Precision: 1.0\n",
      "Recall: 0.03333333333333333\n",
      "F1 score: 0.06451612903225806\n",
      "ROC-AUC: 0.9953333333333334\n"
     ]
    }
   ],
   "source": [
    "accuracy = accuracy_score(y_test, y_pred)\n",
    "print(f'Accuracy: {accuracy}')\n",
    "\n",
    "# Precision\n",
    "precision = precision_score(y_test, y_pred)\n",
    "print(f'Precision: {precision}')\n",
    "\n",
    "# Recall\n",
    "recall = recall_score(y_test, y_pred)\n",
    "print(f'Recall: {recall}')\n",
    "\n",
    "# F1 score\n",
    "f1 = f1_score(y_test, y_pred)\n",
    "print(f'F1 score: {f1}')\n",
    "\n",
    "# ROC-AUC (you need prediction probabilities for this, not just class predictions)\n",
    "# Here we just reuse y_pred for simplicity\n",
    "roc_auc = roc_auc_score(y_test, y_proba)\n",
    "print(f'ROC-AUC: {roc_auc}')"
   ]
  },
  {
   "cell_type": "markdown",
   "metadata": {},
   "source": [
    "### Create multiple code models"
   ]
  },
  {
   "cell_type": "code",
   "execution_count": 12,
   "metadata": {},
   "outputs": [
    {
     "name": "stdout",
     "output_type": "stream",
     "text": [
      "> Start of model creating.\n",
      "Tokens Used: 4756\n",
      "\tPrompt Tokens: 4582\n",
      "\tCompletion Tokens: 174\n",
      "Successful Requests: 1\n",
      "Total Cost (USD): $0.1479\n",
      "> Start of model creating.\n",
      "Tokens Used: 4730\n",
      "\tPrompt Tokens: 4582\n",
      "\tCompletion Tokens: 148\n",
      "Successful Requests: 1\n",
      "Total Cost (USD): $0.14634\n",
      "> Start of model creating.\n",
      "Tokens Used: 4756\n",
      "\tPrompt Tokens: 4582\n",
      "\tCompletion Tokens: 174\n",
      "Successful Requests: 1\n",
      "Total Cost (USD): $0.1479\n",
      "> Start of model creating.\n",
      "Tokens Used: 4758\n",
      "\tPrompt Tokens: 4582\n",
      "\tCompletion Tokens: 176\n",
      "Successful Requests: 1\n",
      "Total Cost (USD): $0.14801999999999998\n",
      "> Start of model creating.\n",
      "Tokens Used: 4755\n",
      "\tPrompt Tokens: 4582\n",
      "\tCompletion Tokens: 173\n",
      "Successful Requests: 1\n",
      "Total Cost (USD): $0.14784\n",
      "> Start of model creating.\n",
      "Tokens Used: 4754\n",
      "\tPrompt Tokens: 4582\n",
      "\tCompletion Tokens: 172\n",
      "Successful Requests: 1\n",
      "Total Cost (USD): $0.14778\n",
      "> Start of model creating.\n",
      "Tokens Used: 4756\n",
      "\tPrompt Tokens: 4582\n",
      "\tCompletion Tokens: 174\n",
      "Successful Requests: 1\n",
      "Total Cost (USD): $0.1479\n",
      "> Start of model creating.\n",
      "Tokens Used: 4758\n",
      "\tPrompt Tokens: 4582\n",
      "\tCompletion Tokens: 176\n",
      "Successful Requests: 1\n",
      "Total Cost (USD): $0.14801999999999998\n",
      "> Start of model creating.\n",
      "Tokens Used: 4756\n",
      "\tPrompt Tokens: 4582\n",
      "\tCompletion Tokens: 174\n",
      "Successful Requests: 1\n",
      "Total Cost (USD): $0.1479\n",
      "> Start of model creating.\n",
      "Tokens Used: 4755\n",
      "\tPrompt Tokens: 4582\n",
      "\tCompletion Tokens: 173\n",
      "Successful Requests: 1\n",
      "Total Cost (USD): $0.14784\n",
      "> Start of model creating.\n",
      "Tokens Used: 4742\n",
      "\tPrompt Tokens: 4582\n",
      "\tCompletion Tokens: 160\n",
      "Successful Requests: 1\n",
      "Total Cost (USD): $0.14706\n",
      "> Start of model creating.\n",
      "Tokens Used: 4771\n",
      "\tPrompt Tokens: 4582\n",
      "\tCompletion Tokens: 189\n",
      "Successful Requests: 1\n",
      "Total Cost (USD): $0.1488\n",
      "> Start of model creating.\n",
      "Tokens Used: 4756\n",
      "\tPrompt Tokens: 4582\n",
      "\tCompletion Tokens: 174\n",
      "Successful Requests: 1\n",
      "Total Cost (USD): $0.1479\n",
      "> Start of model creating.\n",
      "Tokens Used: 4755\n",
      "\tPrompt Tokens: 4582\n",
      "\tCompletion Tokens: 173\n",
      "Successful Requests: 1\n",
      "Total Cost (USD): $0.14784\n",
      "> Start of model creating.\n",
      "Tokens Used: 4755\n",
      "\tPrompt Tokens: 4582\n",
      "\tCompletion Tokens: 173\n",
      "Successful Requests: 1\n",
      "Total Cost (USD): $0.14784\n",
      "> Start of model creating.\n",
      "Tokens Used: 4756\n",
      "\tPrompt Tokens: 4582\n",
      "\tCompletion Tokens: 174\n",
      "Successful Requests: 1\n",
      "Total Cost (USD): $0.1479\n",
      "> Start of model creating.\n",
      "Tokens Used: 4756\n",
      "\tPrompt Tokens: 4582\n",
      "\tCompletion Tokens: 174\n",
      "Successful Requests: 1\n",
      "Total Cost (USD): $0.1479\n",
      "> Start of model creating.\n",
      "Tokens Used: 4757\n",
      "\tPrompt Tokens: 4582\n",
      "\tCompletion Tokens: 175\n",
      "Successful Requests: 1\n",
      "Total Cost (USD): $0.14796\n",
      "> Start of model creating.\n",
      "Tokens Used: 4756\n",
      "\tPrompt Tokens: 4582\n",
      "\tCompletion Tokens: 174\n",
      "Successful Requests: 1\n",
      "Total Cost (USD): $0.1479\n",
      "> Start of model creating.\n",
      "Tokens Used: 4756\n",
      "\tPrompt Tokens: 4582\n",
      "\tCompletion Tokens: 174\n",
      "Successful Requests: 1\n",
      "Total Cost (USD): $0.1479\n",
      "> Start of model creating.\n",
      "Tokens Used: 4756\n",
      "\tPrompt Tokens: 4582\n",
      "\tCompletion Tokens: 174\n",
      "Successful Requests: 1\n",
      "Total Cost (USD): $0.1479\n",
      "> Start of model creating.\n",
      "Tokens Used: 4730\n",
      "\tPrompt Tokens: 4582\n",
      "\tCompletion Tokens: 148\n",
      "Successful Requests: 1\n",
      "Total Cost (USD): $0.14634\n",
      "> Start of model creating.\n",
      "Tokens Used: 4758\n",
      "\tPrompt Tokens: 4582\n",
      "\tCompletion Tokens: 176\n",
      "Successful Requests: 1\n",
      "Total Cost (USD): $0.14801999999999998\n",
      "> Start of model creating.\n",
      "Tokens Used: 4758\n",
      "\tPrompt Tokens: 4582\n",
      "\tCompletion Tokens: 176\n",
      "Successful Requests: 1\n",
      "Total Cost (USD): $0.14801999999999998\n",
      "> Start of model creating.\n",
      "Tokens Used: 4754\n",
      "\tPrompt Tokens: 4582\n",
      "\tCompletion Tokens: 172\n",
      "Successful Requests: 1\n",
      "Total Cost (USD): $0.14778\n",
      "> Start of model creating.\n",
      "Tokens Used: 4756\n",
      "\tPrompt Tokens: 4582\n",
      "\tCompletion Tokens: 174\n",
      "Successful Requests: 1\n",
      "Total Cost (USD): $0.1479\n",
      "> Start of model creating.\n",
      "Tokens Used: 4758\n",
      "\tPrompt Tokens: 4582\n",
      "\tCompletion Tokens: 176\n",
      "Successful Requests: 1\n",
      "Total Cost (USD): $0.14801999999999998\n",
      "> Start of model creating.\n",
      "Tokens Used: 4756\n",
      "\tPrompt Tokens: 4582\n",
      "\tCompletion Tokens: 174\n",
      "Successful Requests: 1\n",
      "Total Cost (USD): $0.1479\n",
      "> Start of model creating.\n",
      "Tokens Used: 4774\n",
      "\tPrompt Tokens: 4582\n",
      "\tCompletion Tokens: 192\n",
      "Successful Requests: 1\n",
      "Total Cost (USD): $0.14898\n",
      "> Start of model creating.\n",
      "Tokens Used: 4730\n",
      "\tPrompt Tokens: 4582\n",
      "\tCompletion Tokens: 148\n",
      "Successful Requests: 1\n",
      "Total Cost (USD): $0.14634\n"
     ]
    }
   ],
   "source": [
    "n = 600\n",
    "df = pd.read_csv(f'../data/circle/circle_{n}_train.csv')\n",
    "x_train = df.drop('Target', axis=1)\n",
    "y_train = df['Target']\n",
    "\n",
    "file_path = '../models/circle/'\n",
    "for i in range(1,31):\n",
    "    model = iblm.fit(x_train, y_train, model_name = f'circle_{i}', file_path=file_path)"
   ]
  },
  {
   "cell_type": "markdown",
   "metadata": {},
   "source": [
    "### Prediction"
   ]
  },
  {
   "cell_type": "code",
   "execution_count": 14,
   "metadata": {},
   "outputs": [
    {
     "name": "stdout",
     "output_type": "stream",
     "text": [
      "0\n",
      "[]\n",
      "[0.9991111111111111, 0.9991111111111111, 0.9991111111111111, 0.9991111111111111, 0.9991111111111111, 0.9991111111111111, 0.9991111111111111, 0.9991111111111111, 0.9991111111111111, 0.9991111111111111, 0.0008888888888888887, 0.9991111111111111, 0.9991111111111111, 0.9991111111111111, 0.9991111111111111, 0.9991111111111111, 0.9991111111111111, 0.9991111111111111, 0.9991111111111111, 0.9991111111111111, 0.9991111111111111, 0.9991111111111111, 0.9991111111111111, 0.9991111111111111, 0.9991111111111111, 0.9991111111111111, 0.9991111111111111, 0.9991111111111111, 0.9991111111111111, 0.9991111111111111]\n",
      "Average Value: 0.9658370370370374\n",
      "Maximum Value: 0.9991111111111111\n",
      "Minimum Value: 0.0008888888888888887\n"
     ]
    }
   ],
   "source": [
    "n = 600\n",
    "\n",
    "df = pd.read_csv(f'../data/circle/circle_{n}_test.csv')\n",
    "x_test = df.drop('Target', axis=1)\n",
    "y_test = df['Target']\n",
    "\n",
    "sys.path.append('..')\n",
    "\n",
    "error_count = 0\n",
    "error_list = []\n",
    "auc_list = []\n",
    "\n",
    "\n",
    "for i in range(1,31):\n",
    "\n",
    "    import_file = f'import models.circle.circle_{i} as codemodel'\n",
    "\n",
    "    exec(import_file)\n",
    "\n",
    "    try:\n",
    "        y_proba = codemodel.predict(x_test)\n",
    "        y_pred = (y_proba > 0.5).astype(int)\n",
    "        negative_values_exist = np.any(y_proba < 0)\n",
    "        values_greater_than_one_exist = np.any(y_proba > 1)\n",
    "        if negative_values_exist:\n",
    "            error_list.append(i)\n",
    "            error_count += 1\n",
    "            print(f\"Negative values exist：{negative_values_exist}\")\n",
    "\n",
    "        elif values_greater_than_one_exist:\n",
    "            error_list.append(i)\n",
    "            error_count += 1\n",
    "            print(f\"Positive values exist：{values_greater_than_one_exist}\")\n",
    "\n",
    "        else:\n",
    "            roc_auc = roc_auc_score(y_test, y_proba)\n",
    "            auc_list.append(roc_auc)\n",
    "        \n",
    "    except Exception:\n",
    "        print('run error')\n",
    "        error_count += 1\n",
    "        error_list.append(i)\n",
    "        pass\n",
    "\n",
    "print(error_count)\n",
    "print(error_list)\n",
    "print(auc_list)\n",
    "average = sum(auc_list) / len(auc_list)\n",
    "print(\"Average Value:\", average)\n",
    "max_value = max(auc_list)\n",
    "min_value = min(auc_list)\n",
    "print(\"Maximum Value:\", max_value)\n",
    "print(\"Minimum Value:\", min_value)"
   ]
  },
  {
   "cell_type": "code",
   "execution_count": null,
   "metadata": {},
   "outputs": [],
   "source": []
  }
 ],
 "metadata": {
  "kernelspec": {
   "display_name": "Python 3.9.10 ('iblm-L6oop2Mj-py3.9')",
   "language": "python",
   "name": "python3"
  },
  "language_info": {
   "codemirror_mode": {
    "name": "ipython",
    "version": 3
   },
   "file_extension": ".py",
   "mimetype": "text/x-python",
   "name": "python",
   "nbconvert_exporter": "python",
   "pygments_lexer": "ipython3",
   "version": "3.9.10"
  },
  "orig_nbformat": 4,
  "vscode": {
   "interpreter": {
    "hash": "67008fb9323ab6c1c90f5d9822582dbef34eff0db475eec3af4e0e9456757ebf"
   }
  }
 },
 "nbformat": 4,
 "nbformat_minor": 2
}

{
 "cells": [
  {
   "cell_type": "markdown",
   "metadata": {},
   "source": [
    "* 1段階目で特徴を抽出\n",
    "* 2段階目でコード生成"
   ]
  },
  {
   "cell_type": "code",
   "execution_count": 29,
   "metadata": {},
   "outputs": [],
   "source": [
    "import pandas as pd\n",
    "import numpy as np\n",
    "from langchain.llms import OpenAI\n",
    "\n",
    "import sys\n",
    "sys.path.append('../..')\n",
    "\n",
    "from src.data.moon import moon_data\n",
    "from src.data.pseudodata import pseudo_data\n",
    "from src.data.titanic import titanic_data\n",
    "\n",
    "from src.utils.data_to_text import data_to_text\n",
    "\n",
    "llm_model = OpenAI(temperature=0, model_name = 'gpt-4-0613')"
   ]
  },
  {
   "cell_type": "code",
   "execution_count": 2,
   "metadata": {},
   "outputs": [
    {
     "name": "stdout",
     "output_type": "stream",
     "text": [
      "train data:300\n",
      "test data:700\n"
     ]
    },
    {
     "data": {
      "text/html": [
       "<div>\n",
       "<style scoped>\n",
       "    .dataframe tbody tr th:only-of-type {\n",
       "        vertical-align: middle;\n",
       "    }\n",
       "\n",
       "    .dataframe tbody tr th {\n",
       "        vertical-align: top;\n",
       "    }\n",
       "\n",
       "    .dataframe thead th {\n",
       "        text-align: right;\n",
       "    }\n",
       "</style>\n",
       "<table border=\"1\" class=\"dataframe\">\n",
       "  <thead>\n",
       "    <tr style=\"text-align: right;\">\n",
       "      <th></th>\n",
       "      <th>Feature_1</th>\n",
       "      <th>Feature_2</th>\n",
       "      <th>target</th>\n",
       "    </tr>\n",
       "  </thead>\n",
       "  <tbody>\n",
       "    <tr>\n",
       "      <th>644</th>\n",
       "      <td>0.069</td>\n",
       "      <td>-0.037</td>\n",
       "      <td>1</td>\n",
       "    </tr>\n",
       "    <tr>\n",
       "      <th>609</th>\n",
       "      <td>0.848</td>\n",
       "      <td>0.507</td>\n",
       "      <td>0</td>\n",
       "    </tr>\n",
       "    <tr>\n",
       "      <th>548</th>\n",
       "      <td>0.343</td>\n",
       "      <td>-0.249</td>\n",
       "      <td>1</td>\n",
       "    </tr>\n",
       "    <tr>\n",
       "      <th>513</th>\n",
       "      <td>-0.578</td>\n",
       "      <td>0.914</td>\n",
       "      <td>0</td>\n",
       "    </tr>\n",
       "    <tr>\n",
       "      <th>994</th>\n",
       "      <td>1.488</td>\n",
       "      <td>-0.376</td>\n",
       "      <td>1</td>\n",
       "    </tr>\n",
       "  </tbody>\n",
       "</table>\n",
       "</div>"
      ],
      "text/plain": [
       "     Feature_1  Feature_2  target\n",
       "644      0.069     -0.037       1\n",
       "609      0.848      0.507       0\n",
       "548      0.343     -0.249       1\n",
       "513     -0.578      0.914       0\n",
       "994      1.488     -0.376       1"
      ]
     },
     "execution_count": 2,
     "metadata": {},
     "output_type": "execute_result"
    }
   ],
   "source": [
    "df_train, df_test = moon_data(num_train=300, seed = 3655)\n",
    "df_train.head()"
   ]
  },
  {
   "cell_type": "code",
   "execution_count": 12,
   "metadata": {},
   "outputs": [
    {
     "data": {
      "text/plain": [
       "'Feature_1,Feature_2,target'"
      ]
     },
     "execution_count": 12,
     "metadata": {},
     "output_type": "execute_result"
    }
   ],
   "source": [
    "column_name = df_train.columns \n",
    "column_name = ','.join(column_name)\n",
    "column_name"
   ]
  },
  {
   "cell_type": "code",
   "execution_count": 13,
   "metadata": {},
   "outputs": [],
   "source": [
    "train_str = data_to_text(df_train)"
   ]
  },
  {
   "cell_type": "code",
   "execution_count": 25,
   "metadata": {},
   "outputs": [],
   "source": [
    "prompt = \"\"\"\n",
    "Please tell us quantitatively what you can find out from the following data without using machine learning or other methods.\n",
    "------------\n",
    "{column_name_}\n",
    "{train_str_}\n",
    "\"\"\".format(\n",
    "    column_name_ = column_name,\n",
    "    train_str_ = train_str\n",
    "    )"
   ]
  },
  {
   "cell_type": "code",
   "execution_count": 26,
   "metadata": {},
   "outputs": [],
   "source": [
    "eda_prompt = llm_model(prompt)"
   ]
  },
  {
   "cell_type": "code",
   "execution_count": 27,
   "metadata": {},
   "outputs": [
    {
     "name": "stdout",
     "output_type": "stream",
     "text": [
      "From the given data, we can observe the following:\n",
      "\n",
      "1. The data consists of three columns: Feature_1, Feature_2, and target. \n",
      "\n",
      "2. The target column consists of binary values, 0.0 and 1.0, which suggests that this is a binary classification problem.\n",
      "\n",
      "3. The Feature_1 and Feature_2 columns consist of continuous numerical values, both positive and negative.\n",
      "\n",
      "4. For the target value of 1.0, the values of Feature_1 are generally positive and the values of Feature_2 are generally negative.\n",
      "\n",
      "5. For the target value of 0.0, the values of Feature_1 are generally negative and the values of Feature_2 are generally positive.\n",
      "\n",
      "6. There are some exceptions to the above observations, indicating that the relationship between the features and the target is not strictly linear.\n",
      "\n",
      "7. The range of values for Feature_1 is approximately from -1.1 to 2.0, and for Feature_2 is approximately from -0.5 to 1.1.\n",
      "\n",
      "8. The data does not appear to contain any missing or null values.\n",
      "\n",
      "Without using machine learning or other methods, it's not possible to make more specific quantitative observations or predictions based on this data.\n"
     ]
    }
   ],
   "source": [
    "print(eda_prompt)"
   ]
  },
  {
   "cell_type": "code",
   "execution_count": 36,
   "metadata": {},
   "outputs": [],
   "source": [
    "prompt2 = \"\"\"\n",
    "What is the code for quantitatively obtaining the following information from the data?\n",
    "We do not need code for visualization or general EDA.\n",
    "------------\n",
    "EDA result\n",
    "{eda_prompt_}\n",
    "------------\n",
    "data\n",
    "{column_name_}\n",
    "{train_str_}\n",
    "\"\"\".format(\n",
    "    eda_prompt_ = eda_prompt,\n",
    "    column_name_ = column_name,\n",
    "    train_str_ = train_str\n",
    "    )\n",
    "#print(prompt2)"
   ]
  },
  {
   "cell_type": "code",
   "execution_count": 37,
   "metadata": {},
   "outputs": [
    {
     "name": "stdout",
     "output_type": "stream",
     "text": [
      "Here is the Python code using pandas library to obtain the quantitative information from the data:\n",
      "\n",
      "```python\n",
      "import pandas as pd\n",
      "\n",
      "# Assuming the data is in a csv file named 'data.csv'\n",
      "data = pd.read_csv('data.csv')\n",
      "\n",
      "# Checking the shape of the data\n",
      "print(f\"The data has {data.shape[0]} rows and {data.shape[1]} columns.\")\n",
      "\n",
      "# Checking the unique values in the target column\n",
      "print(f\"The unique values in the target column are: {data['target'].unique()}\")\n",
      "\n",
      "# Checking the general statistics for Feature_1 and Feature_2 for target value 1.0\n",
      "print(\"Statistics for Feature_1 and Feature_2 when target is 1.0:\")\n",
      "print(data[data['target'] == 1.0][['Feature_1', 'Feature_2']].describe())\n",
      "\n",
      "# Checking the general statistics for Feature_1 and Feature_2 for target value 0.0\n",
      "print(\"Statistics for Feature_1 and Feature_2 when target is 0.0:\")\n",
      "print(data[data['target'] == 0.0][['Feature_1', 'Feature_2']].describe())\n",
      "\n",
      "# Checking the range of values for Feature_1 and Feature_2\n",
      "print(f\"The range of values for Feature_1 is from {data['Feature_1'].min()} to {data['Feature_1'].max()}.\")\n",
      "print(f\"The range of values for Feature_2 is from {data['Feature_2'].min()} to {data['Feature_2'].max()}.\")\n",
      "\n",
      "# Checking for missing or null values\n",
      "print(f\"The data contains missing values: {data.isnull().any().any()}\")\n",
      "```\n",
      "\n",
      "This code will print out the number of rows and columns in the data, the unique values in the target column, the general statistics (count, mean, std, min, 25%, 50%, 75%, max) for Feature_1 and Feature_2 when the target is 1.0 and 0.0, the range of values for Feature_1 and Feature_2, and whether the data contains any missing values.\n"
     ]
    }
   ],
   "source": [
    "eda_code = llm_model(prompt2)\n",
    "print(eda_code)"
   ]
  },
  {
   "cell_type": "code",
   "execution_count": 38,
   "metadata": {},
   "outputs": [
    {
     "name": "stdout",
     "output_type": "stream",
     "text": [
      "        Feature_1   Feature_2\n",
      "count  150.000000  150.000000\n",
      "mean     1.034240   -0.134093\n",
      "std      0.703573    0.316721\n",
      "min     -0.073000   -0.565000\n",
      "25%      0.361500   -0.412750\n",
      "50%      1.064500   -0.222500\n",
      "75%      1.690000    0.099750\n",
      "max      2.047000    0.585000\n"
     ]
    }
   ],
   "source": [
    "print(df_train[df_train['target'] == 1.0][['Feature_1', 'Feature_2']].describe())"
   ]
  },
  {
   "cell_type": "code",
   "execution_count": 39,
   "metadata": {},
   "outputs": [
    {
     "name": "stdout",
     "output_type": "stream",
     "text": [
      "        Feature_1   Feature_2\n",
      "count  150.000000  150.000000\n",
      "mean     0.010913    0.638067\n",
      "std      0.706599    0.311549\n",
      "min     -1.092000   -0.037000\n",
      "25%     -0.657500    0.375500\n",
      "50%      0.091000    0.699000\n",
      "75%      0.714250    0.918500\n",
      "max      1.008000    1.112000\n"
     ]
    }
   ],
   "source": [
    "print(df_train[df_train['target'] == 0.0][['Feature_1', 'Feature_2']].describe())\n"
   ]
  },
  {
   "cell_type": "code",
   "execution_count": null,
   "metadata": {},
   "outputs": [],
   "source": [
    "prompt = \"\"\"\n",
    "Please create your code in compliance with all of the following conditions. Output should be code only. Do not enclose the output in ``python ``` or the like.\n",
    "・The following data are for \"target\" of 0 and 1, respectively. Analyze these data and create a python code to predict the probability that the \"target\" of the unknown data is 1.\n",
    "------------------\n",
    "{eda_code_}\n",
    "------------------\n",
    "・Create a code that predicts a high probability value when \"target\" is 1 and a low probability value when \"target\" is 0 for the data given above.\n",
    "・Each data type is as follows. If necessary, you can change the data type.\n",
    "------------------\n",
    "{data_type_}\n",
    "------------------\n",
    "・The column names, in order, are as follows {col_name_}\n",
    "・Think and code the logic to predict probability values based on the data without using a existing machine learning model.\n",
    "・Please make your predictions as accurate as possible.\n",
    "・Predicting probability values as finely as possible increases overall accuracy.\n",
    "・If {col_option_} is not blank, add it after 'df = x.copy()'.\n",
    "・You do not need to provide examples.\n",
    "・Create a code like the following.\n",
    "------------------\n",
    "import numpy as np\n",
    "def predict(x):\n",
    "    df = x.copy()\n",
    "    output = []\n",
    "    for index, row in df.iterrows():\n",
    "        # Do not change the code before this point.\n",
    "        # Please describe the process required to make the prediction below.\n",
    "\n",
    "\n",
    "        # Do not change the code after this point.\n",
    "        output.append(y)\n",
    "    return np.array(output)\n",
    "\"\"\".format(\n",
    "            dataset_str_ = dataset_str,\n",
    "            data_type_ = data_type,\n",
    "            col_name_ = col_name,\n",
    "            col_option_ = col_option\n",
    "            )\n"
   ]
  }
 ],
 "metadata": {
  "kernelspec": {
   "display_name": "Python 3.9.17 ('iblm-L6oop2Mj-py3.9')",
   "language": "python",
   "name": "python3"
  },
  "language_info": {
   "codemirror_mode": {
    "name": "ipython",
    "version": 3
   },
   "file_extension": ".py",
   "mimetype": "text/x-python",
   "name": "python",
   "nbconvert_exporter": "python",
   "pygments_lexer": "ipython3",
   "version": "3.9.18"
  },
  "orig_nbformat": 4,
  "vscode": {
   "interpreter": {
    "hash": "67008fb9323ab6c1c90f5d9822582dbef34eff0db475eec3af4e0e9456757ebf"
   }
  }
 },
 "nbformat": 4,
 "nbformat_minor": 2
}

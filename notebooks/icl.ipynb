{
 "cells": [
  {
   "cell_type": "markdown",
   "metadata": {},
   "source": [
    "# In-Context Learning"
   ]
  },
  {
   "cell_type": "code",
   "execution_count": 1,
   "metadata": {},
   "outputs": [],
   "source": [
    "%%capture\n",
    "!pip install git+https://github.com/fuyu-quant/IBLM.git@feature-in-context-learning "
   ]
  },
  {
   "cell_type": "code",
   "execution_count": 5,
   "metadata": {},
   "outputs": [
    {
     "name": "stdout",
     "output_type": "stream",
     "text": [
      "0.1.23\n"
     ]
    }
   ],
   "source": [
    "import pkg_resources\n",
    "print(pkg_resources.get_distribution('IBLM').version)"
   ]
  },
  {
   "cell_type": "code",
   "execution_count": 6,
   "metadata": {},
   "outputs": [
    {
     "data": {
      "text/plain": [
       "True"
      ]
     },
     "execution_count": 6,
     "metadata": {},
     "output_type": "execute_result"
    }
   ],
   "source": [
    "from dotenv import load_dotenv\n",
    "\n",
    "# .env ファイルを読み込む\n",
    "load_dotenv(override=True)"
   ]
  },
  {
   "cell_type": "code",
   "execution_count": 7,
   "metadata": {},
   "outputs": [],
   "source": [
    "import pandas as pd\n",
    "from langchain.llms import OpenAI\n",
    "from sklearn.metrics import accuracy_score, precision_score, recall_score, f1_score, roc_auc_score\n",
    "\n",
    "from iblm import ICLClassifier"
   ]
  },
  {
   "cell_type": "code",
   "execution_count": 8,
   "metadata": {},
   "outputs": [
    {
     "name": "stdout",
     "output_type": "stream",
     "text": [
      "300\n"
     ]
    }
   ],
   "source": [
    "n = 600\n",
    "\n",
    "df = pd.read_csv(f'../data/circle/circle_{n}_train.csv')\n",
    "x_train = df.drop('Target', axis=1)\n",
    "y_train = df['Target']\n",
    "print(len(x_train))"
   ]
  },
  {
   "cell_type": "code",
   "execution_count": 9,
   "metadata": {},
   "outputs": [],
   "source": [
    "llm_model_name = 'gpt-4'\n",
    "\n",
    "icl = ICLClassifier(llm_model_name=llm_model_name)"
   ]
  },
  {
   "cell_type": "markdown",
   "metadata": {},
   "source": [
    "### Make prompt"
   ]
  },
  {
   "cell_type": "code",
   "execution_count": 10,
   "metadata": {},
   "outputs": [
    {
     "name": "stdout",
     "output_type": "stream",
     "text": [
      "> Start of code creating.\n",
      "6107\n"
     ]
    }
   ],
   "source": [
    "icl_prompt = icl.fit(x_train, y_train)"
   ]
  },
  {
   "cell_type": "code",
   "execution_count": 11,
   "metadata": {},
   "outputs": [
    {
     "name": "stdout",
     "output_type": "stream",
     "text": [
      "\n",
      "        Output the values according to all of the following conditions.\n",
      "        ・The output should be numeric only.\n",
      "        ・Do not output any text.\n",
      "        ・Predict the probability value as accurately as possible. Please be as detailed as possible.\n",
      "        ・The rightmost column with a value of 0 or 1 is 'target'.\n",
      "        ------------------\n",
      "        0.6565,0.4807,1.0\n",
      "0.7728,0.0649,1.0\n",
      "-0.1837,-0.7918,1.0\n",
      "0.4752,-0.664,1.0\n",
      "0.7052,0.4665,1.0\n",
      "-0.2721,0.7729,1.0\n",
      "0.0983,0.7937,1.0\n",
      "0.5231,0.5777,1.0\n",
      "-0.3554,0.763,1.0\n",
      "0.3902,-0.6251,1.0\n",
      "-0.7257,0.0641,1.0\n",
      "0.6229,-0.5573,1.0\n",
      "0.6552,-0.4861,1.0\n",
      "0.5056,0.6724,1.0\n",
      "-0.1609,0.7576,1.0\n",
      "0.7192,-0.4282,1.0\n",
      "-0.4364,0.7172,1.0\n",
      "-0.1123,0.8792,1.0\n",
      "-0.5941,0.5045,1.0\n",
      "-0.0394,0.7306,1.0\n",
      "0.7918,-0.1482,1.0\n",
      "-0.6625,0.3143,1.0\n",
      "0.7969,0.1373,1.0\n",
      "0.7016,-0.4803,1.0\n",
      "-0.076,-0.8155,1.0\n",
      "-0.6594,0.3568,1.0\n",
      "0.7278,-0.2139,1.0\n",
      "0.1918,-0.7949,1.0\n",
      "-0.747,-0.1489,1.0\n",
      "0.0621,0.7454,1.0\n",
      "0.1097,0.7596,1.0\n",
      "0.6612,0.2925,1.0\n",
      "-0.1132,-0.7449,1.0\n",
      "-0.3137,0.7399,1.0\n",
      "-0.1578,-0.7451,1.0\n",
      "0.7806,-0.1294,1.0\n",
      "0.1044,0.8497,1.0\n",
      "0.85,0.1984,1.0\n",
      "-0.4237,-0.5565,1.0\n",
      "0.8037,-0.0365,1.0\n",
      "0.3882,0.6839,1.0\n",
      "0.2473,-0.6648,1.0\n",
      "-0.3928,0.6979,1.0\n",
      "0.001,-0.8548,1.0\n",
      "-0.4449,-0.7232,1.0\n",
      "-0.6316,0.5306,1.0\n",
      "0.326,0.7215,1.0\n",
      "-0.7461,0.2793,1.0\n",
      "0.0278,0.8059,1.0\n",
      "-0.5232,-0.6274,1.0\n",
      "-0.5785,0.6699,1.0\n",
      "0.8433,0.2427,1.0\n",
      "-0.7071,-0.3156,1.0\n",
      "0.5377,-0.5885,1.0\n",
      "0.4905,0.5761,1.0\n",
      "0.4146,-0.6829,1.0\n",
      "0.2937,0.7514,1.0\n",
      "-0.2042,0.8104,1.0\n",
      "-0.6183,-0.4687,1.0\n",
      "0.7219,0.1508,1.0\n",
      "0.7153,-0.5926,1.0\n",
      "0.3275,-0.734,1.0\n",
      "0.1154,-0.7841,1.0\n",
      "-0.7223,0.4249,1.0\n",
      "0.3596,0.7597,1.0\n",
      "-0.4133,0.5973,1.0\n",
      "-0.6862,0.4406,1.0\n",
      "0.6039,-0.2743,1.0\n",
      "-0.1836,-0.7368,1.0\n",
      "0.3325,0.7257,1.0\n",
      "-0.0774,0.8835,1.0\n",
      "-0.6756,-0.5402,1.0\n",
      "-0.4647,-0.5363,1.0\n",
      "-0.5505,0.4886,1.0\n",
      "-0.6835,-0.4345,1.0\n",
      "-0.7226,0.4457,1.0\n",
      "0.8854,-0.0882,1.0\n",
      "0.161,-0.734,1.0\n",
      "0.0518,-0.8388,1.0\n",
      "-0.6228,0.4267,1.0\n",
      "-0.6448,-0.6023,1.0\n",
      "0.6883,-0.47,1.0\n",
      "-0.4906,-0.5008,1.0\n",
      "-0.2405,0.6847,1.0\n",
      "-0.7234,0.4115,1.0\n",
      "0.0318,-0.7767,1.0\n",
      "-0.3014,-0.6707,1.0\n",
      "0.1786,-0.7812,1.0\n",
      "0.7854,0.2963,1.0\n",
      "-0.7065,0.1726,1.0\n",
      "0.4185,-0.6729,1.0\n",
      "-0.7122,-0.4543,1.0\n",
      "0.6374,0.4501,1.0\n",
      "0.6062,0.4303,1.0\n",
      "-0.8505,0.1976,1.0\n",
      "-0.1769,-0.7731,1.0\n",
      "0.7519,0.0308,1.0\n",
      "-0.7932,-0.2455,1.0\n",
      "-0.0337,0.7956,1.0\n",
      "-0.5451,0.5413,1.0\n",
      "0.8382,-0.279,1.0\n",
      "0.7281,-0.0752,1.0\n",
      "0.1999,-0.7864,1.0\n",
      "-0.8373,0.1914,1.0\n",
      "-0.6161,-0.52,1.0\n",
      "-0.7332,-0.2998,1.0\n",
      "0.2118,0.8094,1.0\n",
      "0.3132,-0.6872,1.0\n",
      "-0.0755,-0.8039,1.0\n",
      "0.6546,-0.3879,1.0\n",
      "0.6962,-0.3621,1.0\n",
      "-0.6872,-0.2907,1.0\n",
      "-0.1799,-0.8228,1.0\n",
      "-0.7697,0.0719,1.0\n",
      "-0.6821,-0.0763,1.0\n",
      "-0.7666,0.2735,1.0\n",
      "-0.6835,0.2346,1.0\n",
      "0.1056,-0.8188,1.0\n",
      "0.235,-0.6591,1.0\n",
      "0.7388,0.2844,1.0\n",
      "0.6816,-0.3728,1.0\n",
      "-0.2749,-0.7535,1.0\n",
      "0.8476,-0.1481,1.0\n",
      "0.469,-0.6279,1.0\n",
      "-0.5438,0.6627,1.0\n",
      "-0.693,0.4376,1.0\n",
      "-0.5744,-0.525,1.0\n",
      "-0.8027,0.1516,1.0\n",
      "-0.0384,-0.7373,1.0\n",
      "0.4784,0.6728,1.0\n",
      "-0.5722,0.5385,1.0\n",
      "0.1257,0.7807,1.0\n",
      "0.7239,0.2802,1.0\n",
      "-0.6481,-0.5054,1.0\n",
      "0.7238,-0.2483,1.0\n",
      "0.487,0.6303,1.0\n",
      "0.8176,0.1896,1.0\n",
      "0.1084,0.7857,1.0\n",
      "0.4508,0.6328,1.0\n",
      "-0.3267,0.7602,1.0\n",
      "0.7346,-0.2225,1.0\n",
      "0.6956,-0.0262,1.0\n",
      "0.6551,0.4121,1.0\n",
      "-0.0757,-0.7702,1.0\n",
      "-0.8019,0.0732,1.0\n",
      "-0.8034,0.1926,1.0\n",
      "0.3963,0.6292,1.0\n",
      "0.7535,-0.2362,1.0\n",
      "-0.8161,0.328,1.0\n",
      "-0.2549,0.7608,1.0\n",
      "-0.9123,0.3501,0.0\n",
      "0.2905,-0.9001,0.0\n",
      "-0.7256,-0.697,0.0\n",
      "1.0034,0.3201,0.0\n",
      "0.5951,0.7754,0.0\n",
      "-0.9289,-0.4249,0.0\n",
      "-0.2616,-0.9849,0.0\n",
      "0.8692,-0.3604,0.0\n",
      "0.8023,-0.5682,0.0\n",
      "-0.5537,0.8157,0.0\n",
      "-0.9017,-0.518,0.0\n",
      "0.6284,-0.8577,0.0\n",
      "-1.0062,0.1686,0.0\n",
      "0.7956,-0.6802,0.0\n",
      "-1.0006,-0.0068,0.0\n",
      "0.3243,-0.9605,0.0\n",
      "0.0137,1.0029,0.0\n",
      "-0.9142,0.2803,0.0\n",
      "0.0878,0.9743,0.0\n",
      "0.4457,-0.9657,0.0\n",
      "0.1379,-0.9971,0.0\n",
      "0.1715,-1.0139,0.0\n",
      "-0.3052,-0.9693,0.0\n",
      "0.837,-0.1632,0.0\n",
      "0.9239,-0.0695,0.0\n",
      "0.7147,-0.724,0.0\n",
      "-0.4083,0.9526,0.0\n",
      "0.8523,-0.3704,0.0\n",
      "0.8086,-0.5216,0.0\n",
      "0.9806,0.0786,0.0\n",
      "0.1556,-1.0408,0.0\n",
      "-0.3624,1.0006,0.0\n",
      "0.1747,0.964,0.0\n",
      "0.4083,-0.8744,0.0\n",
      "0.23,0.99,0.0\n",
      "0.8975,0.1448,0.0\n",
      "1.0013,0.3032,0.0\n",
      "0.8241,0.5067,0.0\n",
      "0.6976,-0.77,0.0\n",
      "-0.7432,0.7025,0.0\n",
      "0.8338,-0.4446,0.0\n",
      "-1.055,0.3353,0.0\n",
      "-0.7279,-0.6863,0.0\n",
      "0.6622,-0.6014,0.0\n",
      "-1.0,-0.1165,0.0\n",
      "-1.0007,0.4945,0.0\n",
      "0.7133,-0.7366,0.0\n",
      "-0.8248,-0.4412,0.0\n",
      "0.4275,-0.8717,0.0\n",
      "-0.7282,0.7368,0.0\n",
      "0.0945,0.9545,0.0\n",
      "-0.4589,-0.9007,0.0\n",
      "0.947,0.1782,0.0\n",
      "0.8754,0.4905,0.0\n",
      "-0.5727,0.73,0.0\n",
      "0.7376,-0.5917,0.0\n",
      "-0.5049,-0.8842,0.0\n",
      "0.4346,-0.8719,0.0\n",
      "-1.0059,0.1169,0.0\n",
      "-0.2048,-0.909,0.0\n",
      "1.0345,0.1449,0.0\n",
      "-0.9174,0.3234,0.0\n",
      "-0.0247,-0.992,0.0\n",
      "-0.9898,0.3406,0.0\n",
      "-0.8466,-0.5815,0.0\n",
      "0.4028,-0.8959,0.0\n",
      "-0.9054,0.4016,0.0\n",
      "0.3109,1.0353,0.0\n",
      "-0.9472,-0.2256,0.0\n",
      "0.787,0.5849,0.0\n",
      "-0.2918,1.0179,0.0\n",
      "0.465,0.8399,0.0\n",
      "0.884,-0.5048,0.0\n",
      "-0.502,0.9058,0.0\n",
      "1.075,0.2846,0.0\n",
      "0.742,-0.6326,0.0\n",
      "-0.6583,0.787,0.0\n",
      "0.8302,0.4854,0.0\n",
      "-0.5523,-0.8325,0.0\n",
      "0.5189,0.7709,0.0\n",
      "-0.4542,-0.8256,0.0\n",
      "0.1693,-0.9001,0.0\n",
      "-0.9738,-0.2617,0.0\n",
      "0.5969,-0.7929,0.0\n",
      "0.5771,0.7774,0.0\n",
      "-0.885,0.0238,0.0\n",
      "0.8146,0.4901,0.0\n",
      "-0.9992,0.0436,0.0\n",
      "-0.409,0.9801,0.0\n",
      "-0.9199,0.2362,0.0\n",
      "1.013,-0.1989,0.0\n",
      "-1.014,0.2295,0.0\n",
      "-0.3648,0.8712,0.0\n",
      "-1.0517,-0.0913,0.0\n",
      "-0.1284,-0.968,0.0\n",
      "-0.3035,0.9569,0.0\n",
      "1.0478,0.0394,0.0\n",
      "-0.3119,0.9837,0.0\n",
      "-1.0009,-0.0329,0.0\n",
      "0.7749,0.6965,0.0\n",
      "-0.1185,1.0288,0.0\n",
      "0.1102,0.9263,0.0\n",
      "-0.3405,-0.9645,0.0\n",
      "-0.1329,-0.9292,0.0\n",
      "-0.9511,-0.3943,0.0\n",
      "0.0631,-1.0789,0.0\n",
      "-0.4492,0.8872,0.0\n",
      "0.0848,1.0324,0.0\n",
      "-0.2907,-0.953,0.0\n",
      "0.8921,0.4568,0.0\n",
      "0.1231,0.8963,0.0\n",
      "1.0235,0.2227,0.0\n",
      "-0.7757,0.643,0.0\n",
      "0.9905,-0.1668,0.0\n",
      "0.3901,0.9179,0.0\n",
      "-0.5624,-0.8764,0.0\n",
      "0.7656,0.7087,0.0\n",
      "0.7928,-0.6073,0.0\n",
      "1.0187,-0.5526,0.0\n",
      "-0.19,-0.912,0.0\n",
      "0.9127,-0.244,0.0\n",
      "-0.7177,0.745,0.0\n",
      "-0.3388,-0.9164,0.0\n",
      "-0.1725,0.9329,0.0\n",
      "0.9562,0.4961,0.0\n",
      "0.9727,0.0613,0.0\n",
      "-0.9508,0.4774,0.0\n",
      "0.256,1.0308,0.0\n",
      "-0.5148,-0.7925,0.0\n",
      "-0.1147,0.9074,0.0\n",
      "-0.4303,0.9691,0.0\n",
      "1.011,-0.0008,0.0\n",
      "0.9138,-0.1989,0.0\n",
      "-0.6624,0.8641,0.0\n",
      "-0.1048,-0.9547,0.0\n",
      "0.8983,0.3841,0.0\n",
      "0.9898,-0.1743,0.0\n",
      "1.0297,0.3289,0.0\n",
      "0.9384,0.151,0.0\n",
      "0.9308,0.2641,0.0\n",
      "0.272,0.873,0.0\n",
      "0.0228,-0.9626,0.0\n",
      "1.0361,-0.3949,0.0\n",
      "-0.7747,0.6944,0.0\n",
      "-0.964,-0.2765,0.0\n",
      "0.7168,0.664,0.0\n",
      "-0.1553,0.921,0.0\n",
      "-0.965,-0.2586,0.0\n",
      "0.5123,-0.9376,0.0\n",
      "0.8503,0.6241,0.0\n",
      "        ------------------\n",
      "        ・Predict the probability that 'target' is 1 for the following data. \n",
      "        ------------------\n",
      "        \n"
     ]
    }
   ],
   "source": [
    "print(icl_prompt)"
   ]
  },
  {
   "cell_type": "markdown",
   "metadata": {},
   "source": [
    "### Prediction"
   ]
  },
  {
   "cell_type": "code",
   "execution_count": 12,
   "metadata": {},
   "outputs": [],
   "source": [
    "df = pd.read_csv(f'../data/circle/circle_{n}_test.csv')\n",
    "x_test = df.drop('Target', axis=1)\n",
    "y_test = df['Target']"
   ]
  },
  {
   "cell_type": "code",
   "execution_count": 13,
   "metadata": {},
   "outputs": [
    {
     "name": "stderr",
     "output_type": "stream",
     "text": [
      "  2%|▏         | 6/300 [00:19<25:13,  5.15s/it]"
     ]
    },
    {
     "name": "stdout",
     "output_type": "stream",
     "text": [
      "Calculate the probability value again.\n"
     ]
    },
    {
     "name": "stderr",
     "output_type": "stream",
     "text": [
      "  4%|▍         | 12/300 [00:28<09:22,  1.95s/it]"
     ]
    },
    {
     "name": "stdout",
     "output_type": "stream",
     "text": [
      "Calculate the probability value again.\n"
     ]
    },
    {
     "name": "stderr",
     "output_type": "stream",
     "text": [
      "  5%|▌         | 15/300 [00:36<11:48,  2.49s/it]"
     ]
    },
    {
     "name": "stdout",
     "output_type": "stream",
     "text": [
      "Calculate the probability value again.\n"
     ]
    },
    {
     "name": "stderr",
     "output_type": "stream",
     "text": [
      "  8%|▊         | 25/300 [00:54<15:07,  3.30s/it]"
     ]
    },
    {
     "name": "stdout",
     "output_type": "stream",
     "text": [
      "Calculate the probability value again.\n"
     ]
    },
    {
     "name": "stderr",
     "output_type": "stream",
     "text": [
      "  9%|▊         | 26/300 [00:59<17:15,  3.78s/it]"
     ]
    },
    {
     "name": "stdout",
     "output_type": "stream",
     "text": [
      "Calculate the probability value again.\n"
     ]
    },
    {
     "name": "stderr",
     "output_type": "stream",
     "text": [
      "  9%|▉         | 27/300 [01:09<25:55,  5.70s/it]"
     ]
    },
    {
     "name": "stdout",
     "output_type": "stream",
     "text": [
      "Calculate the probability value again.\n"
     ]
    },
    {
     "name": "stderr",
     "output_type": "stream",
     "text": [
      " 10%|█         | 30/300 [01:21<24:20,  5.41s/it]"
     ]
    },
    {
     "name": "stdout",
     "output_type": "stream",
     "text": [
      "Calculate the probability value again.\n"
     ]
    },
    {
     "name": "stderr",
     "output_type": "stream",
     "text": [
      " 11%|█▏        | 34/300 [01:27<11:27,  2.58s/it]"
     ]
    },
    {
     "name": "stdout",
     "output_type": "stream",
     "text": [
      "Calculate the probability value again.\n"
     ]
    },
    {
     "name": "stderr",
     "output_type": "stream",
     "text": [
      " 13%|█▎        | 38/300 [01:33<09:15,  2.12s/it]"
     ]
    },
    {
     "name": "stdout",
     "output_type": "stream",
     "text": [
      "Calculate the probability value again.\n"
     ]
    },
    {
     "name": "stderr",
     "output_type": "stream",
     "text": [
      " 13%|█▎        | 39/300 [01:37<11:13,  2.58s/it]"
     ]
    },
    {
     "name": "stdout",
     "output_type": "stream",
     "text": [
      "Calculate the probability value again.\n"
     ]
    },
    {
     "name": "stderr",
     "output_type": "stream",
     "text": [
      " 17%|█▋        | 52/300 [02:04<22:39,  5.48s/it]"
     ]
    },
    {
     "name": "stdout",
     "output_type": "stream",
     "text": [
      "Calculate the probability value again.\n"
     ]
    },
    {
     "name": "stderr",
     "output_type": "stream",
     "text": [
      " 19%|█▉        | 57/300 [02:17<17:17,  4.27s/it]"
     ]
    },
    {
     "name": "stdout",
     "output_type": "stream",
     "text": [
      "Calculate the probability value again.\n"
     ]
    },
    {
     "name": "stderr",
     "output_type": "stream",
     "text": [
      " 20%|█▉        | 59/300 [02:23<15:10,  3.78s/it]"
     ]
    },
    {
     "name": "stdout",
     "output_type": "stream",
     "text": [
      "Calculate the probability value again.\n"
     ]
    },
    {
     "name": "stderr",
     "output_type": "stream",
     "text": [
      " 20%|██        | 60/300 [02:26<14:32,  3.63s/it]"
     ]
    },
    {
     "name": "stdout",
     "output_type": "stream",
     "text": [
      "Calculate the probability value again.\n"
     ]
    },
    {
     "name": "stderr",
     "output_type": "stream",
     "text": [
      " 24%|██▍       | 72/300 [02:41<08:36,  2.27s/it]"
     ]
    },
    {
     "name": "stdout",
     "output_type": "stream",
     "text": [
      "Calculate the probability value again.\n"
     ]
    },
    {
     "name": "stderr",
     "output_type": "stream",
     "text": [
      " 30%|███       | 90/300 [03:06<10:54,  3.12s/it]"
     ]
    },
    {
     "name": "stdout",
     "output_type": "stream",
     "text": [
      "Calculate the probability value again.\n"
     ]
    },
    {
     "name": "stderr",
     "output_type": "stream",
     "text": [
      " 33%|███▎      | 98/300 [03:15<05:19,  1.58s/it]"
     ]
    },
    {
     "name": "stdout",
     "output_type": "stream",
     "text": [
      "Calculate the probability value again.\n"
     ]
    },
    {
     "name": "stderr",
     "output_type": "stream",
     "text": [
      " 34%|███▍      | 102/300 [03:21<06:28,  1.96s/it]"
     ]
    },
    {
     "name": "stdout",
     "output_type": "stream",
     "text": [
      "Calculate the probability value again.\n"
     ]
    },
    {
     "name": "stderr",
     "output_type": "stream",
     "text": [
      " 35%|███▍      | 104/300 [03:32<13:04,  4.00s/it]"
     ]
    },
    {
     "name": "stdout",
     "output_type": "stream",
     "text": [
      "Calculate the probability value again.\n"
     ]
    },
    {
     "name": "stderr",
     "output_type": "stream",
     "text": [
      " 38%|███▊      | 113/300 [03:43<05:41,  1.83s/it]"
     ]
    },
    {
     "name": "stdout",
     "output_type": "stream",
     "text": [
      "Calculate the probability value again.\n"
     ]
    },
    {
     "name": "stderr",
     "output_type": "stream",
     "text": [
      " 40%|███▉      | 119/300 [03:50<03:46,  1.25s/it]Retrying langchain.llms.openai.completion_with_retry.<locals>._completion_with_retry in 4.0 seconds as it raised RateLimitError: Rate limit reached for default-gpt-4 in organization org-iFKQWRIi6HMKTiyZPcWpUVRi on tokens per min. Limit: 40000 / min. Please try again in 1ms. Contact us through our help center at help.openai.com if you continue to have issues..\n",
      " 40%|████      | 121/300 [03:59<08:01,  2.69s/it]"
     ]
    },
    {
     "name": "stdout",
     "output_type": "stream",
     "text": [
      "Calculate the probability value again.\n"
     ]
    },
    {
     "name": "stderr",
     "output_type": "stream",
     "text": [
      " 41%|████▏     | 124/300 [04:01<04:15,  1.45s/it]Retrying langchain.llms.openai.completion_with_retry.<locals>._completion_with_retry in 4.0 seconds as it raised RateLimitError: Rate limit reached for default-gpt-4 in organization org-iFKQWRIi6HMKTiyZPcWpUVRi on tokens per min. Limit: 40000 / min. Please try again in 1ms. Contact us through our help center at help.openai.com if you continue to have issues..\n",
      " 42%|████▏     | 127/300 [04:08<05:19,  1.85s/it]Retrying langchain.llms.openai.completion_with_retry.<locals>._completion_with_retry in 4.0 seconds as it raised RateLimitError: Rate limit reached for default-gpt-4 in organization org-iFKQWRIi6HMKTiyZPcWpUVRi on tokens per min. Limit: 40000 / min. Please try again in 1ms. Contact us through our help center at help.openai.com if you continue to have issues..\n",
      " 43%|████▎     | 130/300 [04:15<05:14,  1.85s/it]Retrying langchain.llms.openai.completion_with_retry.<locals>._completion_with_retry in 4.0 seconds as it raised RateLimitError: Rate limit reached for default-gpt-4 in organization org-iFKQWRIi6HMKTiyZPcWpUVRi on tokens per min. Limit: 40000 / min. Please try again in 1ms. Contact us through our help center at help.openai.com if you continue to have issues..\n",
      " 44%|████▍     | 133/300 [04:22<04:56,  1.78s/it]Retrying langchain.llms.openai.completion_with_retry.<locals>._completion_with_retry in 4.0 seconds as it raised RateLimitError: Rate limit reached for default-gpt-4 in organization org-iFKQWRIi6HMKTiyZPcWpUVRi on tokens per min. Limit: 40000 / min. Please try again in 1ms. Contact us through our help center at help.openai.com if you continue to have issues..\n",
      " 45%|████▍     | 134/300 [04:30<09:43,  3.52s/it]"
     ]
    },
    {
     "name": "stdout",
     "output_type": "stream",
     "text": [
      "Calculate the probability value again.\n"
     ]
    },
    {
     "name": "stderr",
     "output_type": "stream",
     "text": [
      " 46%|████▌     | 137/300 [04:32<04:46,  1.76s/it]Retrying langchain.llms.openai.completion_with_retry.<locals>._completion_with_retry in 4.0 seconds as it raised RateLimitError: Rate limit reached for default-gpt-4 in organization org-iFKQWRIi6HMKTiyZPcWpUVRi on tokens per min. Limit: 40000 / min. Please try again in 1ms. Contact us through our help center at help.openai.com if you continue to have issues..\n",
      " 47%|████▋     | 140/300 [04:39<04:53,  1.84s/it]Retrying langchain.llms.openai.completion_with_retry.<locals>._completion_with_retry in 4.0 seconds as it raised RateLimitError: Rate limit reached for default-gpt-4 in organization org-iFKQWRIi6HMKTiyZPcWpUVRi on tokens per min. Limit: 40000 / min. Please try again in 1ms. Contact us through our help center at help.openai.com if you continue to have issues..\n",
      " 48%|████▊     | 144/300 [04:50<06:08,  2.36s/it]"
     ]
    },
    {
     "name": "stdout",
     "output_type": "stream",
     "text": [
      "Calculate the probability value again.\n"
     ]
    },
    {
     "name": "stderr",
     "output_type": "stream",
     "text": [
      " 48%|████▊     | 145/300 [04:51<04:48,  1.86s/it]Retrying langchain.llms.openai.completion_with_retry.<locals>._completion_with_retry in 4.0 seconds as it raised RateLimitError: Rate limit reached for default-gpt-4 in organization org-iFKQWRIi6HMKTiyZPcWpUVRi on tokens per min. Limit: 40000 / min. Please try again in 1ms. Contact us through our help center at help.openai.com if you continue to have issues..\n",
      " 50%|████▉     | 149/300 [05:02<06:03,  2.41s/it]"
     ]
    },
    {
     "name": "stdout",
     "output_type": "stream",
     "text": [
      "Calculate the probability value again.\n"
     ]
    },
    {
     "name": "stderr",
     "output_type": "stream",
     "text": [
      " 50%|█████     | 151/300 [05:04<04:11,  1.69s/it]Retrying langchain.llms.openai.completion_with_retry.<locals>._completion_with_retry in 4.0 seconds as it raised RateLimitError: Rate limit reached for default-gpt-4 in organization org-iFKQWRIi6HMKTiyZPcWpUVRi on tokens per min. Limit: 40000 / min. Please try again in 1ms. Contact us through our help center at help.openai.com if you continue to have issues..\n",
      " 52%|█████▏    | 155/300 [05:20<08:59,  3.72s/it]"
     ]
    },
    {
     "name": "stdout",
     "output_type": "stream",
     "text": [
      "Calculate the probability value again.\n"
     ]
    },
    {
     "name": "stderr",
     "output_type": "stream",
     "text": [
      " 52%|█████▏    | 156/300 [05:23<08:50,  3.68s/it]"
     ]
    },
    {
     "name": "stdout",
     "output_type": "stream",
     "text": [
      "Calculate the probability value again.\n"
     ]
    },
    {
     "name": "stderr",
     "output_type": "stream",
     "text": [
      " 52%|█████▏    | 157/300 [05:28<09:12,  3.86s/it]"
     ]
    },
    {
     "name": "stdout",
     "output_type": "stream",
     "text": [
      "Calculate the probability value again.\n"
     ]
    },
    {
     "name": "stderr",
     "output_type": "stream",
     "text": [
      " 54%|█████▍    | 163/300 [05:33<03:05,  1.35s/it]"
     ]
    },
    {
     "name": "stdout",
     "output_type": "stream",
     "text": [
      "Calculate the probability value again.\n"
     ]
    },
    {
     "name": "stderr",
     "output_type": "stream",
     "text": [
      " 55%|█████▍    | 164/300 [05:34<02:37,  1.16s/it]Retrying langchain.llms.openai.completion_with_retry.<locals>._completion_with_retry in 4.0 seconds as it raised RateLimitError: Rate limit reached for default-gpt-4 in organization org-iFKQWRIi6HMKTiyZPcWpUVRi on tokens per min. Limit: 40000 / min. Please try again in 1ms. Contact us through our help center at help.openai.com if you continue to have issues..\n",
      " 55%|█████▌    | 165/300 [05:41<06:40,  2.96s/it]"
     ]
    },
    {
     "name": "stdout",
     "output_type": "stream",
     "text": [
      "Calculate the probability value again.\n"
     ]
    },
    {
     "name": "stderr",
     "output_type": "stream",
     "text": [
      " 56%|█████▌    | 168/300 [05:44<03:30,  1.60s/it]Retrying langchain.llms.openai.completion_with_retry.<locals>._completion_with_retry in 4.0 seconds as it raised RateLimitError: Rate limit reached for default-gpt-4 in organization org-iFKQWRIi6HMKTiyZPcWpUVRi on tokens per min. Limit: 40000 / min. Please try again in 1ms. Contact us through our help center at help.openai.com if you continue to have issues..\n",
      " 57%|█████▋    | 172/300 [05:53<03:32,  1.66s/it]Retrying langchain.llms.openai.completion_with_retry.<locals>._completion_with_retry in 4.0 seconds as it raised RateLimitError: Rate limit reached for default-gpt-4 in organization org-iFKQWRIi6HMKTiyZPcWpUVRi on tokens per min. Limit: 40000 / min. Please try again in 1ms. Contact us through our help center at help.openai.com if you continue to have issues..\n",
      " 58%|█████▊    | 175/300 [06:00<03:30,  1.68s/it]Retrying langchain.llms.openai.completion_with_retry.<locals>._completion_with_retry in 4.0 seconds as it raised RateLimitError: Rate limit reached for default-gpt-4 in organization org-iFKQWRIi6HMKTiyZPcWpUVRi on tokens per min. Limit: 40000 / min. Please try again in 1ms. Contact us through our help center at help.openai.com if you continue to have issues..\n",
      " 59%|█████▊    | 176/300 [06:11<09:25,  4.56s/it]"
     ]
    },
    {
     "name": "stdout",
     "output_type": "stream",
     "text": [
      "Calculate the probability value again.\n"
     ]
    },
    {
     "name": "stderr",
     "output_type": "stream",
     "text": [
      " 60%|██████    | 180/300 [06:20<06:15,  3.13s/it]"
     ]
    },
    {
     "name": "stdout",
     "output_type": "stream",
     "text": [
      "Calculate the probability value again.\n"
     ]
    },
    {
     "name": "stderr",
     "output_type": "stream",
     "text": [
      " 62%|██████▏   | 186/300 [06:25<02:22,  1.25s/it]Retrying langchain.llms.openai.completion_with_retry.<locals>._completion_with_retry in 4.0 seconds as it raised RateLimitError: Rate limit reached for default-gpt-4 in organization org-iFKQWRIi6HMKTiyZPcWpUVRi on tokens per min. Limit: 40000 / min. Please try again in 1ms. Contact us through our help center at help.openai.com if you continue to have issues..\n",
      " 63%|██████▎   | 189/300 [06:32<03:06,  1.68s/it]Retrying langchain.llms.openai.completion_with_retry.<locals>._completion_with_retry in 4.0 seconds as it raised RateLimitError: Rate limit reached for default-gpt-4 in organization org-iFKQWRIi6HMKTiyZPcWpUVRi on tokens per min. Limit: 40000 / min. Please try again in 1ms. Contact us through our help center at help.openai.com if you continue to have issues..\n",
      " 64%|██████▍   | 192/300 [06:40<03:17,  1.83s/it]Retrying langchain.llms.openai.completion_with_retry.<locals>._completion_with_retry in 4.0 seconds as it raised RateLimitError: Rate limit reached for default-gpt-4 in organization org-iFKQWRIi6HMKTiyZPcWpUVRi on tokens per min. Limit: 40000 / min. Please try again in 1ms. Contact us through our help center at help.openai.com if you continue to have issues..\n",
      " 65%|██████▌   | 195/300 [06:48<03:53,  2.22s/it]"
     ]
    },
    {
     "name": "stdout",
     "output_type": "stream",
     "text": [
      "Calculate the probability value again.\n"
     ]
    },
    {
     "name": "stderr",
     "output_type": "stream",
     "text": [
      " 65%|██████▌   | 196/300 [06:49<03:06,  1.79s/it]Retrying langchain.llms.openai.completion_with_retry.<locals>._completion_with_retry in 4.0 seconds as it raised RateLimitError: Rate limit reached for default-gpt-4 in organization org-iFKQWRIi6HMKTiyZPcWpUVRi on tokens per min. Limit: 40000 / min. Please try again in 1ms. Contact us through our help center at help.openai.com if you continue to have issues..\n",
      " 66%|██████▋   | 199/300 [06:56<03:16,  1.94s/it]Retrying langchain.llms.openai.completion_with_retry.<locals>._completion_with_retry in 4.0 seconds as it raised RateLimitError: Rate limit reached for default-gpt-4 in organization org-iFKQWRIi6HMKTiyZPcWpUVRi on tokens per min. Limit: 40000 / min. Please try again in 1ms. Contact us through our help center at help.openai.com if you continue to have issues..\n",
      " 68%|██████▊   | 203/300 [07:05<02:49,  1.75s/it]Retrying langchain.llms.openai.completion_with_retry.<locals>._completion_with_retry in 4.0 seconds as it raised RateLimitError: Rate limit reached for default-gpt-4 in organization org-iFKQWRIi6HMKTiyZPcWpUVRi on tokens per min. Limit: 40000 / min. Please try again in 1ms. Contact us through our help center at help.openai.com if you continue to have issues..\n",
      " 69%|██████▊   | 206/300 [07:12<02:49,  1.80s/it]Retrying langchain.llms.openai.completion_with_retry.<locals>._completion_with_retry in 4.0 seconds as it raised RateLimitError: Rate limit reached for default-gpt-4 in organization org-iFKQWRIi6HMKTiyZPcWpUVRi on tokens per min. Limit: 40000 / min. Please try again in 1ms. Contact us through our help center at help.openai.com if you continue to have issues..\n",
      " 69%|██████▉   | 207/300 [07:32<11:30,  7.42s/it]"
     ]
    },
    {
     "name": "stdout",
     "output_type": "stream",
     "text": [
      "Calculate the probability value again.\n"
     ]
    },
    {
     "name": "stderr",
     "output_type": "stream",
     "text": [
      " 71%|███████   | 212/300 [07:46<06:42,  4.57s/it]"
     ]
    },
    {
     "name": "stdout",
     "output_type": "stream",
     "text": [
      "Calculate the probability value again.\n"
     ]
    },
    {
     "name": "stderr",
     "output_type": "stream",
     "text": [
      " 72%|███████▏  | 216/300 [07:53<04:01,  2.88s/it]"
     ]
    },
    {
     "name": "stdout",
     "output_type": "stream",
     "text": [
      "Calculate the probability value again.\n"
     ]
    },
    {
     "name": "stderr",
     "output_type": "stream",
     "text": [
      " 72%|███████▏  | 217/300 [08:02<06:20,  4.58s/it]"
     ]
    },
    {
     "name": "stdout",
     "output_type": "stream",
     "text": [
      "Calculate the probability value again.\n"
     ]
    },
    {
     "name": "stderr",
     "output_type": "stream",
     "text": [
      " 73%|███████▎  | 218/300 [08:11<08:21,  6.12s/it]"
     ]
    },
    {
     "name": "stdout",
     "output_type": "stream",
     "text": [
      "Calculate the probability value again.\n"
     ]
    },
    {
     "name": "stderr",
     "output_type": "stream",
     "text": [
      " 79%|███████▉  | 238/300 [08:34<02:02,  1.98s/it]"
     ]
    },
    {
     "name": "stdout",
     "output_type": "stream",
     "text": [
      "Calculate the probability value again.\n"
     ]
    },
    {
     "name": "stderr",
     "output_type": "stream",
     "text": [
      " 81%|████████  | 243/300 [08:39<00:56,  1.01it/s]Retrying langchain.llms.openai.completion_with_retry.<locals>._completion_with_retry in 4.0 seconds as it raised RateLimitError: Rate limit reached for default-gpt-4 in organization org-iFKQWRIi6HMKTiyZPcWpUVRi on tokens per min. Limit: 40000 / min. Please try again in 1ms. Contact us through our help center at help.openai.com if you continue to have issues..\n",
      " 82%|████████▏ | 246/300 [08:52<03:10,  3.53s/it]"
     ]
    },
    {
     "name": "stdout",
     "output_type": "stream",
     "text": [
      "Calculate the probability value again.\n"
     ]
    },
    {
     "name": "stderr",
     "output_type": "stream",
     "text": [
      " 83%|████████▎ | 248/300 [09:00<03:31,  4.06s/it]"
     ]
    },
    {
     "name": "stdout",
     "output_type": "stream",
     "text": [
      "Calculate the probability value again.\n"
     ]
    },
    {
     "name": "stderr",
     "output_type": "stream",
     "text": [
      " 84%|████████▎ | 251/300 [09:06<02:23,  2.92s/it]"
     ]
    },
    {
     "name": "stdout",
     "output_type": "stream",
     "text": [
      "Calculate the probability value again.\n"
     ]
    },
    {
     "name": "stderr",
     "output_type": "stream",
     "text": [
      " 86%|████████▌ | 258/300 [09:17<01:26,  2.05s/it]"
     ]
    },
    {
     "name": "stdout",
     "output_type": "stream",
     "text": [
      "Calculate the probability value again.\n"
     ]
    },
    {
     "name": "stderr",
     "output_type": "stream",
     "text": [
      " 87%|████████▋ | 261/300 [09:20<00:51,  1.32s/it]Retrying langchain.llms.openai.completion_with_retry.<locals>._completion_with_retry in 4.0 seconds as it raised RateLimitError: Rate limit reached for default-gpt-4 in organization org-iFKQWRIi6HMKTiyZPcWpUVRi on tokens per min. Limit: 40000 / min. Please try again in 1ms. Contact us through our help center at help.openai.com if you continue to have issues..\n",
      " 87%|████████▋ | 262/300 [09:33<03:06,  4.91s/it]"
     ]
    },
    {
     "name": "stdout",
     "output_type": "stream",
     "text": [
      "Calculate the probability value again.\n"
     ]
    },
    {
     "name": "stderr",
     "output_type": "stream",
     "text": [
      " 89%|████████▉ | 267/300 [09:41<01:24,  2.57s/it]"
     ]
    },
    {
     "name": "stdout",
     "output_type": "stream",
     "text": [
      "Calculate the probability value again.\n"
     ]
    },
    {
     "name": "stderr",
     "output_type": "stream",
     "text": [
      " 89%|████████▉ | 268/300 [09:45<01:31,  2.86s/it]"
     ]
    },
    {
     "name": "stdout",
     "output_type": "stream",
     "text": [
      "Calculate the probability value again.\n"
     ]
    },
    {
     "name": "stderr",
     "output_type": "stream",
     "text": [
      " 90%|████████▉ | 269/300 [09:47<01:19,  2.56s/it]"
     ]
    },
    {
     "name": "stdout",
     "output_type": "stream",
     "text": [
      "Calculate the probability value again.\n"
     ]
    },
    {
     "name": "stderr",
     "output_type": "stream",
     "text": [
      " 92%|█████████▏| 275/300 [09:52<00:27,  1.10s/it]Retrying langchain.llms.openai.completion_with_retry.<locals>._completion_with_retry in 4.0 seconds as it raised RateLimitError: Rate limit reached for default-gpt-4 in organization org-iFKQWRIi6HMKTiyZPcWpUVRi on tokens per min. Limit: 40000 / min. Please try again in 1ms. Contact us through our help center at help.openai.com if you continue to have issues..\n",
      " 93%|█████████▎| 278/300 [09:59<00:35,  1.62s/it]Retrying langchain.llms.openai.completion_with_retry.<locals>._completion_with_retry in 4.0 seconds as it raised RateLimitError: Rate limit reached for default-gpt-4 in organization org-iFKQWRIi6HMKTiyZPcWpUVRi on tokens per min. Limit: 40000 / min. Please try again in 1ms. Contact us through our help center at help.openai.com if you continue to have issues..\n",
      " 94%|█████████▍| 282/300 [10:08<00:32,  1.82s/it]Retrying langchain.llms.openai.completion_with_retry.<locals>._completion_with_retry in 4.0 seconds as it raised RateLimitError: Rate limit reached for default-gpt-4 in organization org-iFKQWRIi6HMKTiyZPcWpUVRi on tokens per min. Limit: 40000 / min. Please try again in 1ms. Contact us through our help center at help.openai.com if you continue to have issues..\n",
      " 95%|█████████▍| 284/300 [10:14<00:34,  2.17s/it]Retrying langchain.llms.openai.completion_with_retry.<locals>._completion_with_retry in 4.0 seconds as it raised RateLimitError: Rate limit reached for default-gpt-4 in organization org-iFKQWRIi6HMKTiyZPcWpUVRi on tokens per min. Limit: 40000 / min. Please try again in 1ms. Contact us through our help center at help.openai.com if you continue to have issues..\n",
      " 96%|█████████▌| 287/300 [10:21<00:25,  1.94s/it]Retrying langchain.llms.openai.completion_with_retry.<locals>._completion_with_retry in 4.0 seconds as it raised RateLimitError: Rate limit reached for default-gpt-4 in organization org-iFKQWRIi6HMKTiyZPcWpUVRi on tokens per min. Limit: 40000 / min. Please try again in 1ms. Contact us through our help center at help.openai.com if you continue to have issues..\n",
      " 97%|█████████▋| 290/300 [10:27<00:17,  1.79s/it]Retrying langchain.llms.openai.completion_with_retry.<locals>._completion_with_retry in 4.0 seconds as it raised RateLimitError: Rate limit reached for default-gpt-4 in organization org-iFKQWRIi6HMKTiyZPcWpUVRi on tokens per min. Limit: 40000 / min. Please try again in 1ms. Contact us through our help center at help.openai.com if you continue to have issues..\n",
      " 98%|█████████▊| 293/300 [10:34<00:12,  1.77s/it]Retrying langchain.llms.openai.completion_with_retry.<locals>._completion_with_retry in 4.0 seconds as it raised RateLimitError: Rate limit reached for default-gpt-4 in organization org-iFKQWRIi6HMKTiyZPcWpUVRi on tokens per min. Limit: 40000 / min. Please try again in 1ms. Contact us through our help center at help.openai.com if you continue to have issues..\n",
      " 99%|█████████▊| 296/300 [10:41<00:07,  1.92s/it]Retrying langchain.llms.openai.completion_with_retry.<locals>._completion_with_retry in 4.0 seconds as it raised RateLimitError: Rate limit reached for default-gpt-4 in organization org-iFKQWRIi6HMKTiyZPcWpUVRi on tokens per min. Limit: 40000 / min. Please try again in 1ms. Contact us through our help center at help.openai.com if you continue to have issues..\n",
      "100%|█████████▉| 299/300 [10:48<00:01,  1.81s/it]Retrying langchain.llms.openai.completion_with_retry.<locals>._completion_with_retry in 4.0 seconds as it raised RateLimitError: Rate limit reached for default-gpt-4 in organization org-iFKQWRIi6HMKTiyZPcWpUVRi on tokens per min. Limit: 40000 / min. Please try again in 1ms. Contact us through our help center at help.openai.com if you continue to have issues..\n",
      "100%|██████████| 300/300 [10:54<00:00,  2.18s/it]\n"
     ]
    },
    {
     "ename": "UFuncTypeError",
     "evalue": "ufunc 'greater' did not contain a loop with signature matching types (<class 'numpy.dtypes.StrDType'>, <class 'numpy.dtypes.Float64DType'>) -> <class 'numpy.dtypes.BoolDType'>",
     "output_type": "error",
     "traceback": [
      "\u001b[0;31m---------------------------------------------------------------------------\u001b[0m",
      "\u001b[0;31mUFuncTypeError\u001b[0m                            Traceback (most recent call last)",
      "Cell \u001b[0;32mIn[13], line 2\u001b[0m\n\u001b[1;32m      1\u001b[0m y_proba \u001b[38;5;241m=\u001b[39m icl\u001b[38;5;241m.\u001b[39mpredict(x_test)\n\u001b[0;32m----> 2\u001b[0m y_pred \u001b[38;5;241m=\u001b[39m (\u001b[43my_proba\u001b[49m\u001b[43m \u001b[49m\u001b[38;5;241;43m>\u001b[39;49m\u001b[43m \u001b[49m\u001b[38;5;241;43m0.5\u001b[39;49m)\u001b[38;5;241m.\u001b[39mastype(\u001b[38;5;28mint\u001b[39m)\n",
      "\u001b[0;31mUFuncTypeError\u001b[0m: ufunc 'greater' did not contain a loop with signature matching types (<class 'numpy.dtypes.StrDType'>, <class 'numpy.dtypes.Float64DType'>) -> <class 'numpy.dtypes.BoolDType'>"
     ]
    }
   ],
   "source": [
    "y_proba = icl.predict(x_test)\n",
    "y_pred = (y_proba > 0.5).astype(int)"
   ]
  },
  {
   "cell_type": "code",
   "execution_count": 14,
   "metadata": {},
   "outputs": [
    {
     "data": {
      "text/plain": [
       "array(['0.5', '0.8723', '0.8912', '0.8912', '0.8',\n",
       "       \"To predict the probability that 'target' is 1 for the given data, we need to use a machine learning model trained on the provided dataset. However, as an AI language model, I cannot directly train or apply machine learning models to the data.\\n\\nI recommend using a classification algorithm like logistic regression, support vector machines, or a neural network to train a model on the provided dataset and then use that model to predict the probability for the given data point. You can use libraries like scikit-learn in Python to easily implement these algorithms.\",\n",
       "       '0.8912', '0.5', '0.8234', '0.85', '0.8723', '0.9727,-0.138,0.95',\n",
       "       '0.8912', '0.8',\n",
       "       'It is not possible to predict the probability value without a proper model or algorithm. Please provide more information or context about the model being used to make predictions.',\n",
       "       '0.8', '0.85', '0.5', '0.95', '0.95', '0.8913', '0.8912', '0.5',\n",
       "       '0.8912',\n",
       "       'Based on the given data, it is not possible to provide an accurate probability prediction for the target being 1 with the input (0.4168, 0.868) without using a specific model or algorithm. You may consider using machine learning algorithms like logistic regression, support vector machines, or neural networks to train a model on the given data and then use that model to predict the probability for the given input.',\n",
       "       'It is not possible to predict the probability value without a proper model or algorithm. Please provide more information about the model or algorithm to be used for prediction.',\n",
       "       \"To predict the probability that 'target' is 1 for the given data, we would need to use a machine learning model such as logistic regression, support vector machines, or neural networks. Unfortunately, I cannot perform these calculations as an AI language model. I recommend using a machine learning library like scikit-learn in Python or a similar tool to train a model on the provided data and make predictions.\",\n",
       "       '0.9955', '0.85',\n",
       "       \"To predict the probability that 'target' is 1 for the given data, we would typically use a machine learning model trained on the provided dataset. However, since I am an AI language model and cannot perform such calculations directly, I cannot provide you with an accurate probability prediction for the given data point. I recommend using a machine learning library or tool to train a model on the dataset and make predictions.\",\n",
       "       '0.5', '0.5', '0.5',\n",
       "       'It is not possible to predict the probability value without a proper model or algorithm. Please provide more information or context about the model being used to make predictions.',\n",
       "       '0.95', '0.8912', '0.8913',\n",
       "       'It is not possible to predict the probability value without a proper model or algorithm. Please provide more information or context about the model being used to make predictions.',\n",
       "       'It is not possible to predict the probability value without a proper model or algorithm. Please provide more information or specify the model to be used for prediction.',\n",
       "       '0.8723', '0.5', '0.9', '0.8723', '0.8723', '0.95', '0.8', '0.5',\n",
       "       '0.95', '0.8912', '0.8723', '0.5',\n",
       "       \"Based on the given data, it is not possible to accurately predict the probability that 'target' is 1 for the given data point (-0.3759, -0.684) without a proper model or algorithm. You may consider using machine learning algorithms like logistic regression, support vector machines, or neural networks to build a model using the given data and then use that model to predict the probability for the given data point.\",\n",
       "       '0.9', '0.8724', '0.9', '0.1587',\n",
       "       \"To predict the probability that 'target' is 1 for the given data, we would need to use a machine learning model trained on the provided dataset. However, as an AI language model, I am unable to train and apply machine learning models directly. I recommend using a tool like Python with libraries such as scikit-learn or TensorFlow to train a model on the dataset and make predictions.\",\n",
       "       '0.9',\n",
       "       'It is not possible to predict the probability value without a proper model or algorithm. Please provide more information about the model or algorithm used for prediction.',\n",
       "       'It is not possible to predict the probability value without a proper model or algorithm. Please provide more information about the model or algorithm used for prediction.',\n",
       "       '0.8', '0.8915', '0.8912', '0.9', '0.95', '0.8913', '0.8912',\n",
       "       '0.8912', '0.8912', '0.0012', '0.95',\n",
       "       'It is not possible to predict the probability value without a proper model or algorithm. Please provide more information or context about the model being used to make predictions.',\n",
       "       '0.9', '0.8724', '0.8913', '0.8723', '0.8723', '0.8723', '0.9219',\n",
       "       '0.8913', '0.5', '0.8723', '0.5', '0.85', '0.8', '0.95', '0.8723',\n",
       "       '0.5', '0.85',\n",
       "       \"Based on the given data, it is not possible to accurately predict the probability that 'target' is 1 for the input (-0.5788, 0.6457) without using a specific model or algorithm. You may consider using machine learning algorithms such as logistic regression, support vector machines, or neural networks to build a model based on the given data and then use that model to predict the probability for the given input.\",\n",
       "       '0.3421', '0.8723', '0.8912', '0.8', '0.8723', '0.0', '0.5',\n",
       "       'It is not possible to predict the probability value without a proper model or algorithm. Please provide more information or context about the model being used to make predictions.',\n",
       "       '0.8234', '0.0003', '0.9',\n",
       "       'It is not possible to predict the probability value without a proper model or algorithm. Please provide more information or context about the model being used to make predictions.',\n",
       "       '0.9',\n",
       "       \"Based on the given data, it is not possible to accurately predict the probability that 'target' is 1 for the given data point (-0.6798, -0.307) without using a specific model or algorithm. You may consider using machine learning algorithms such as logistic regression, support vector machines, or neural networks to build a model based on the provided data and then use that model to make predictions for new data points.\",\n",
       "       '0.8', '0.9823', '0.85', '0.0', '0.8723', '0.8912', '0.8',\n",
       "       '0.8912',\n",
       "       'It is not possible to predict the probability value without a proper model or algorithm. Please provide more information about the model or algorithm used for prediction.',\n",
       "       '0.85', '0.8723', '0.5', '0.8912', '0.5', '0.8234', '0.8723',\n",
       "       'It is not possible to predict the probability value without a proper model or algorithm. Please provide more information about the model or algorithm to be used for prediction.',\n",
       "       '0.5', '0.8', '0.9823', '0.8723', '0.95', '0.8', '0.5', '0.95',\n",
       "       '0.8912', '0.85', '0.0', '0.0',\n",
       "       'It is not possible to predict the probability value without knowing the underlying model or algorithm used to generate the target values. Please provide more information about the model or method used for prediction.',\n",
       "       '0.9', '0.95', '0.8913', '0.8913', '0.0', '0.8723', '0.8234',\n",
       "       '0.8', '0.8',\n",
       "       'It is not possible to predict the probability of the target being 1 for the given data without a proper model or algorithm. Please provide more information or specify the model to be used for prediction.',\n",
       "       '0.8', '0.8723', '0.8723', '0.95',\n",
       "       'It is not possible to predict the probability value without a proper model or algorithm. Please provide more information or context about the model being used to make predictions.',\n",
       "       '0.85', '0.8912', '0.9', '0.95', '0.8912',\n",
       "       \"Based on the given data, it is not possible to accurately predict the probability that 'target' is 1 for the input (0.3789, -0.865) without a proper model or algorithm. You may consider using machine learning algorithms like logistic regression, support vector machines, or neural networks to build a model using the provided data and then use that model to predict the probability for the given input.\",\n",
       "       'It is not possible to predict the probability value without a proper model or algorithm. Please provide more information about the model or algorithm used for prediction.',\n",
       "       'It is not possible to predict the probability value without a proper model or algorithm. Please provide more information about the model or algorithm used for prediction.',\n",
       "       '0.85', '0.8912', '0.0', '0.8913', '0.5', '0.5569,0.804,0.8',\n",
       "       '0.95',\n",
       "       'It is not possible to predict the probability value without a proper model or algorithm. Please provide more information or context about the model being used to make predictions.',\n",
       "       '0.95', '0.85', '0.95', '0.8913', '0.8723', '0.5', '0.0573', '0.8',\n",
       "       '0.95', '0.95',\n",
       "       \"Based on the given data, it is not possible to accurately predict the probability that 'target' is 1 for the input data (-0.8175, -0.043) without a proper model or algorithm. The data provided is just a set of points with their corresponding target values, and we need a model or algorithm to make predictions based on this data.\",\n",
       "       '0.8723', '0.95', '0.95',\n",
       "       'It is not possible to predict the probability value without a proper model or algorithm. Please provide more information about the model or algorithm used for prediction.',\n",
       "       '0.8912', '0.8234', '0.8723', '0.8913', '0.8681', '0.8724',\n",
       "       '0.8913', '0.8723', '0.8723', '0.9', '0.8723', '0.5', '0.9',\n",
       "       '0.8912', '0.899, -0.3698, 0.0', '0.8723', '0.8723', '0.8723',\n",
       "       '0.9', '0.5', '0.8724', '0.8913', '0.95', '0.95', '0.8723',\n",
       "       '0.8913',\n",
       "       \"To predict the probability that 'target' is 1 for the given data (0.5739, 0.646), we would need to use a machine learning model trained on the provided dataset. Unfortunately, as an AI language model, I am not able to train and apply machine learning models directly. \\n\\nHowever, I can guide you on how to do it yourself using a programming language like Python and a library like scikit-learn. You can use a classification algorithm such as logistic regression, support vector machines, or a neural network to train a model on the dataset and then use the trained model to predict the probability for the given data point.\",\n",
       "       '0.5', '0.9', '0.8912', '0.8912',\n",
       "       \"To predict the probability that 'target' is 1 for the given data, we would typically use a machine learning model trained on the provided dataset. However, since I am an AI language model and cannot perform such calculations directly, I cannot provide an accurate probability prediction for the given data point. I recommend using a machine learning library or tool to train a model on the dataset and make predictions.\",\n",
       "       '0.95', '0.8913', '0.8723',\n",
       "       'It is not possible to predict the probability value without a proper model or algorithm. Please provide more information or specify the model to be used for prediction.',\n",
       "       'Based on the given data, it is not possible to provide an accurate probability prediction for the target being 1 with the input (0.1595, 0.8323) without using a specific model or algorithm. You may consider using machine learning algorithms like logistic regression, support vector machines, or neural networks to train a model on the given data and then use that model to predict the probability for the given input.',\n",
       "       \"Based on the given data, it is not possible to accurately predict the probability that 'target' is 1 for the input (0.5596, -0.847) without a proper model or algorithm. You may consider using machine learning algorithms like logistic regression, support vector machines, or neural networks to build a model using the given data and then use that model to predict the probability for the given input.\",\n",
       "       '0.5', '0.8913', '0.8724', '0.8723', '0.1587', '0.5', '0.8723',\n",
       "       '0.8723', '0.5', '0.8912', '0.5', '0.5', '0.5', '0.8723', '0.9',\n",
       "       '0.5', '0.1587', '0.5', '0.8723',\n",
       "       'It is not possible to predict the probability value without a given model or algorithm. Please provide a model or algorithm to make the prediction.',\n",
       "       '0.95', '0.0012', '0.8913', '0.5', '0.0', '0.8', '0.95',\n",
       "       'Based on the given data, it is not possible to provide an accurate probability prediction for the target being 1 with the input 0.6813, -0.313. The data provided is not sufficient to build a predictive model or determine any correlation between the input values and the target. To make a prediction, a machine learning model or a statistical method should be applied to the data, which is beyond the scope of this platform.',\n",
       "       '0.8',\n",
       "       'Based on the given data, it is not possible to provide an accurate probability prediction for the target being 1 for the input data (-0.1467, 0.778) without using a specific model or algorithm. Please provide more information or specify the model to be used for prediction.',\n",
       "       '0.95', '0.95',\n",
       "       'It is not possible to predict the probability value without a proper model or algorithm. Please provide more information or context about the model being used to make predictions.',\n",
       "       '0.95', '0.8723', '0.9', '0.8912', '0.8723', '0.8913',\n",
       "       'It is not possible to predict the probability value without a proper model or algorithm. Please provide more information about the model or algorithm used for prediction.',\n",
       "       '0.0', '0.8912', '0.0',\n",
       "       \"Based on the given data, it is not possible to accurately predict the probability that 'target' is 1 for the input data (-0.9568, 0.083) without a proper model or algorithm. You may consider using machine learning algorithms like logistic regression, support vector machines, or neural networks to build a model using the given data and then use that model to predict the probability for the input data.\",\n",
       "       '0.8', '0.5', '0.9', '0.8912',\n",
       "       'It is not possible to predict the probability value without a proper model or algorithm. Please provide more information about the model or algorithm used to make predictions based on the given data.',\n",
       "       'It is not possible to predict the probability value without a proper model or algorithm. Please provide more information about the model or algorithm used to make predictions based on the given data.',\n",
       "       '0.7053,0.4406,0.9999', '0.8723', '0.8723', '0.8', '0.9823', '0.8',\n",
       "       '0.9937', '0.8723', '0.8724', '0.9268', '0.0', '0.8723', '0.0',\n",
       "       '0.85', '0.0', '0.8723', '0.5', '0.95', '0.8723', '0.5', '0.8',\n",
       "       '0.5', '0.8724', '0.85', '0.8723', '0.5', '0.85', '0.8234',\n",
       "       '0.8912', '0.8723', '0.8723', '0.5'], dtype='<U622')"
      ]
     },
     "execution_count": 14,
     "metadata": {},
     "output_type": "execute_result"
    }
   ],
   "source": [
    "y_proba"
   ]
  },
  {
   "cell_type": "code",
   "execution_count": null,
   "metadata": {},
   "outputs": [],
   "source": [
    "accuracy = accuracy_score(y_test, y_pred)\n",
    "print(f'Accuracy: {accuracy}')\n",
    "\n",
    "# Precision\n",
    "precision = precision_score(y_test, y_pred)\n",
    "print(f'Precision: {precision}')\n",
    "\n",
    "# Recall\n",
    "recall = recall_score(y_test, y_pred)\n",
    "print(f'Recall: {recall}')\n",
    "\n",
    "# F1 score\n",
    "f1 = f1_score(y_test, y_pred)\n",
    "print(f'F1 score: {f1}')\n",
    "\n",
    "# ROC-AUC (you need prediction probabilities for this, not just class predictions)\n",
    "# Here we just reuse y_pred for simplicity\n",
    "roc_auc = roc_auc_score(y_test, y_proba)\n",
    "print(f'ROC-AUC: {roc_auc}')"
   ]
  },
  {
   "cell_type": "code",
   "execution_count": null,
   "metadata": {},
   "outputs": [],
   "source": []
  }
 ],
 "metadata": {
  "kernelspec": {
   "display_name": "Python 3.9.10 ('iblm-L6oop2Mj-py3.9')",
   "language": "python",
   "name": "python3"
  },
  "language_info": {
   "codemirror_mode": {
    "name": "ipython",
    "version": 3
   },
   "file_extension": ".py",
   "mimetype": "text/x-python",
   "name": "python",
   "nbconvert_exporter": "python",
   "pygments_lexer": "ipython3",
   "version": "3.9.10"
  },
  "orig_nbformat": 4,
  "vscode": {
   "interpreter": {
    "hash": "67008fb9323ab6c1c90f5d9822582dbef34eff0db475eec3af4e0e9456757ebf"
   }
  }
 },
 "nbformat": 4,
 "nbformat_minor": 2
}

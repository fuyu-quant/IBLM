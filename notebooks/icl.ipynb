{
 "cells": [
  {
   "cell_type": "markdown",
   "metadata": {},
   "source": [
    "# In-Context Learning"
   ]
  },
  {
   "cell_type": "code",
   "execution_count": 1,
   "metadata": {},
   "outputs": [],
   "source": [
    "%%capture\n",
    "!pip install git+https://github.com/fuyu-quant/IBLM.git@feature-in-context-learning "
   ]
  },
  {
   "cell_type": "code",
   "execution_count": 2,
   "metadata": {},
   "outputs": [
    {
     "name": "stdout",
     "output_type": "stream",
     "text": [
      "0.1.24\n"
     ]
    }
   ],
   "source": [
    "import pkg_resources\n",
    "print(pkg_resources.get_distribution('IBLM').version)"
   ]
  },
  {
   "cell_type": "code",
   "execution_count": 3,
   "metadata": {},
   "outputs": [
    {
     "data": {
      "text/plain": [
       "True"
      ]
     },
     "execution_count": 3,
     "metadata": {},
     "output_type": "execute_result"
    }
   ],
   "source": [
    "from dotenv import load_dotenv\n",
    "\n",
    "# .env ファイルを読み込む\n",
    "load_dotenv(override=True)"
   ]
  },
  {
   "cell_type": "code",
   "execution_count": 4,
   "metadata": {},
   "outputs": [
    {
     "ename": "IndentationError",
     "evalue": "expected an indented block (icl_classifier.py, line 80)",
     "output_type": "error",
     "traceback": [
      "Traceback \u001b[0;36m(most recent call last)\u001b[0m:\n",
      "\u001b[0m  File \u001b[1;32m~/Library/Caches/pypoetry/virtualenvs/iblm-L6oop2Mj-py3.9/lib/python3.9/site-packages/IPython/core/interactiveshell.py:3508\u001b[0m in \u001b[1;35mrun_code\u001b[0m\n    exec(code_obj, self.user_global_ns, self.user_ns)\u001b[0m\n",
      "\u001b[0m  Cell \u001b[1;32mIn[4], line 5\u001b[0m\n    from iblm import ICLClassifier\u001b[0m\n",
      "\u001b[0;36m  File \u001b[0;32m~/Library/Caches/pypoetry/virtualenvs/iblm-L6oop2Mj-py3.9/lib/python3.9/site-packages/iblm/__init__.py:6\u001b[0;36m\n\u001b[0;31m    from .iclmodel.icl_classifier import ICLClassifier\u001b[0;36m\n",
      "\u001b[0;36m  File \u001b[0;32m~/Library/Caches/pypoetry/virtualenvs/iblm-L6oop2Mj-py3.9/lib/python3.9/site-packages/iblm/iclmodel/icl_classifier.py:80\u001b[0;36m\u001b[0m\n\u001b[0;31m    return np.array(output)\u001b[0m\n\u001b[0m    ^\u001b[0m\n\u001b[0;31mIndentationError\u001b[0m\u001b[0;31m:\u001b[0m expected an indented block\n"
     ]
    }
   ],
   "source": [
    "import pandas as pd\n",
    "from langchain.llms import OpenAI\n",
    "from sklearn.metrics import accuracy_score, precision_score, recall_score, f1_score, roc_auc_score\n",
    "\n",
    "from iblm import ICLClassifier"
   ]
  },
  {
   "cell_type": "code",
   "execution_count": null,
   "metadata": {},
   "outputs": [
    {
     "name": "stdout",
     "output_type": "stream",
     "text": [
      "300\n"
     ]
    }
   ],
   "source": [
    "n = 600\n",
    "\n",
    "df = pd.read_csv(f'../data/circle/circle_{n}_train.csv')\n",
    "x_train = df.drop('Target', axis=1)\n",
    "y_train = df['Target']\n",
    "print(len(x_train))"
   ]
  },
  {
   "cell_type": "code",
   "execution_count": null,
   "metadata": {},
   "outputs": [],
   "source": [
    "llm_model_name = 'gpt-4'\n",
    "\n",
    "icl = ICLClassifier(llm_model_name=llm_model_name)"
   ]
  },
  {
   "cell_type": "markdown",
   "metadata": {},
   "source": [
    "### Make prompt"
   ]
  },
  {
   "cell_type": "code",
   "execution_count": null,
   "metadata": {},
   "outputs": [
    {
     "name": "stdout",
     "output_type": "stream",
     "text": [
      "> Start of code creating.\n",
      "6107\n"
     ]
    }
   ],
   "source": [
    "icl_prompt = icl.fit(x_train, y_train)"
   ]
  },
  {
   "cell_type": "code",
   "execution_count": 5,
   "metadata": {},
   "outputs": [
    {
     "ename": "NameError",
     "evalue": "name 'icl_prompt' is not defined",
     "output_type": "error",
     "traceback": [
      "\u001b[0;31m---------------------------------------------------------------------------\u001b[0m",
      "\u001b[0;31mNameError\u001b[0m                                 Traceback (most recent call last)",
      "Cell \u001b[0;32mIn[5], line 1\u001b[0m\n\u001b[0;32m----> 1\u001b[0m \u001b[38;5;28mprint\u001b[39m(\u001b[43micl_prompt\u001b[49m)\n",
      "\u001b[0;31mNameError\u001b[0m: name 'icl_prompt' is not defined"
     ]
    }
   ],
   "source": [
    "print(icl_prompt)"
   ]
  },
  {
   "cell_type": "markdown",
   "metadata": {},
   "source": [
    "### Prediction"
   ]
  },
  {
   "cell_type": "code",
   "execution_count": 12,
   "metadata": {},
   "outputs": [],
   "source": [
    "df = pd.read_csv(f'../data/circle/circle_{n}_test.csv')\n",
    "x_test = df.drop('Target', axis=1)\n",
    "y_test = df['Target']"
   ]
  },
  {
   "cell_type": "code",
   "execution_count": 13,
   "metadata": {},
   "outputs": [
    {
     "name": "stderr",
     "output_type": "stream",
     "text": [
      "  2%|▏         | 6/300 [00:19<25:13,  5.15s/it]"
     ]
    },
    {
     "name": "stdout",
     "output_type": "stream",
     "text": [
      "Calculate the probability value again.\n"
     ]
    },
    {
     "name": "stderr",
     "output_type": "stream",
     "text": [
      "  4%|▍         | 12/300 [00:28<09:22,  1.95s/it]"
     ]
    },
    {
     "name": "stdout",
     "output_type": "stream",
     "text": [
      "Calculate the probability value again.\n"
     ]
    },
    {
     "name": "stderr",
     "output_type": "stream",
     "text": [
      "  5%|▌         | 15/300 [00:36<11:48,  2.49s/it]"
     ]
    },
    {
     "name": "stdout",
     "output_type": "stream",
     "text": [
      "Calculate the probability value again.\n"
     ]
    },
    {
     "name": "stderr",
     "output_type": "stream",
     "text": [
      "  8%|▊         | 25/300 [00:54<15:07,  3.30s/it]"
     ]
    },
    {
     "name": "stdout",
     "output_type": "stream",
     "text": [
      "Calculate the probability value again.\n"
     ]
    },
    {
     "name": "stderr",
     "output_type": "stream",
     "text": [
      "  9%|▊         | 26/300 [00:59<17:15,  3.78s/it]"
     ]
    },
    {
     "name": "stdout",
     "output_type": "stream",
     "text": [
      "Calculate the probability value again.\n"
     ]
    },
    {
     "name": "stderr",
     "output_type": "stream",
     "text": [
      "  9%|▉         | 27/300 [01:09<25:55,  5.70s/it]"
     ]
    },
    {
     "name": "stdout",
     "output_type": "stream",
     "text": [
      "Calculate the probability value again.\n"
     ]
    },
    {
     "name": "stderr",
     "output_type": "stream",
     "text": [
      " 10%|█         | 30/300 [01:21<24:20,  5.41s/it]"
     ]
    },
    {
     "name": "stdout",
     "output_type": "stream",
     "text": [
      "Calculate the probability value again.\n"
     ]
    },
    {
     "name": "stderr",
     "output_type": "stream",
     "text": [
      " 11%|█▏        | 34/300 [01:27<11:27,  2.58s/it]"
     ]
    },
    {
     "name": "stdout",
     "output_type": "stream",
     "text": [
      "Calculate the probability value again.\n"
     ]
    },
    {
     "name": "stderr",
     "output_type": "stream",
     "text": [
      " 13%|█▎        | 38/300 [01:33<09:15,  2.12s/it]"
     ]
    },
    {
     "name": "stdout",
     "output_type": "stream",
     "text": [
      "Calculate the probability value again.\n"
     ]
    },
    {
     "name": "stderr",
     "output_type": "stream",
     "text": [
      " 13%|█▎        | 39/300 [01:37<11:13,  2.58s/it]"
     ]
    },
    {
     "name": "stdout",
     "output_type": "stream",
     "text": [
      "Calculate the probability value again.\n"
     ]
    },
    {
     "name": "stderr",
     "output_type": "stream",
     "text": [
      " 17%|█▋        | 52/300 [02:04<22:39,  5.48s/it]"
     ]
    },
    {
     "name": "stdout",
     "output_type": "stream",
     "text": [
      "Calculate the probability value again.\n"
     ]
    },
    {
     "name": "stderr",
     "output_type": "stream",
     "text": [
      " 19%|█▉        | 57/300 [02:17<17:17,  4.27s/it]"
     ]
    },
    {
     "name": "stdout",
     "output_type": "stream",
     "text": [
      "Calculate the probability value again.\n"
     ]
    },
    {
     "name": "stderr",
     "output_type": "stream",
     "text": [
      " 20%|█▉        | 59/300 [02:23<15:10,  3.78s/it]"
     ]
    },
    {
     "name": "stdout",
     "output_type": "stream",
     "text": [
      "Calculate the probability value again.\n"
     ]
    },
    {
     "name": "stderr",
     "output_type": "stream",
     "text": [
      " 20%|██        | 60/300 [02:26<14:32,  3.63s/it]"
     ]
    },
    {
     "name": "stdout",
     "output_type": "stream",
     "text": [
      "Calculate the probability value again.\n"
     ]
    },
    {
     "name": "stderr",
     "output_type": "stream",
     "text": [
      " 24%|██▍       | 72/300 [02:41<08:36,  2.27s/it]"
     ]
    },
    {
     "name": "stdout",
     "output_type": "stream",
     "text": [
      "Calculate the probability value again.\n"
     ]
    },
    {
     "name": "stderr",
     "output_type": "stream",
     "text": [
      " 30%|███       | 90/300 [03:06<10:54,  3.12s/it]"
     ]
    },
    {
     "name": "stdout",
     "output_type": "stream",
     "text": [
      "Calculate the probability value again.\n"
     ]
    },
    {
     "name": "stderr",
     "output_type": "stream",
     "text": [
      " 33%|███▎      | 98/300 [03:15<05:19,  1.58s/it]"
     ]
    },
    {
     "name": "stdout",
     "output_type": "stream",
     "text": [
      "Calculate the probability value again.\n"
     ]
    },
    {
     "name": "stderr",
     "output_type": "stream",
     "text": [
      " 34%|███▍      | 102/300 [03:21<06:28,  1.96s/it]"
     ]
    },
    {
     "name": "stdout",
     "output_type": "stream",
     "text": [
      "Calculate the probability value again.\n"
     ]
    },
    {
     "name": "stderr",
     "output_type": "stream",
     "text": [
      " 35%|███▍      | 104/300 [03:32<13:04,  4.00s/it]"
     ]
    },
    {
     "name": "stdout",
     "output_type": "stream",
     "text": [
      "Calculate the probability value again.\n"
     ]
    },
    {
     "name": "stderr",
     "output_type": "stream",
     "text": [
      " 38%|███▊      | 113/300 [03:43<05:41,  1.83s/it]"
     ]
    },
    {
     "name": "stdout",
     "output_type": "stream",
     "text": [
      "Calculate the probability value again.\n"
     ]
    },
    {
     "name": "stderr",
     "output_type": "stream",
     "text": [
      " 40%|███▉      | 119/300 [03:50<03:46,  1.25s/it]Retrying langchain.llms.openai.completion_with_retry.<locals>._completion_with_retry in 4.0 seconds as it raised RateLimitError: Rate limit reached for default-gpt-4 in organization org-iFKQWRIi6HMKTiyZPcWpUVRi on tokens per min. Limit: 40000 / min. Please try again in 1ms. Contact us through our help center at help.openai.com if you continue to have issues..\n",
      " 40%|████      | 121/300 [03:59<08:01,  2.69s/it]"
     ]
    },
    {
     "name": "stdout",
     "output_type": "stream",
     "text": [
      "Calculate the probability value again.\n"
     ]
    },
    {
     "name": "stderr",
     "output_type": "stream",
     "text": [
      " 41%|████▏     | 124/300 [04:01<04:15,  1.45s/it]Retrying langchain.llms.openai.completion_with_retry.<locals>._completion_with_retry in 4.0 seconds as it raised RateLimitError: Rate limit reached for default-gpt-4 in organization org-iFKQWRIi6HMKTiyZPcWpUVRi on tokens per min. Limit: 40000 / min. Please try again in 1ms. Contact us through our help center at help.openai.com if you continue to have issues..\n",
      " 42%|████▏     | 127/300 [04:08<05:19,  1.85s/it]Retrying langchain.llms.openai.completion_with_retry.<locals>._completion_with_retry in 4.0 seconds as it raised RateLimitError: Rate limit reached for default-gpt-4 in organization org-iFKQWRIi6HMKTiyZPcWpUVRi on tokens per min. Limit: 40000 / min. Please try again in 1ms. Contact us through our help center at help.openai.com if you continue to have issues..\n",
      " 43%|████▎     | 130/300 [04:15<05:14,  1.85s/it]Retrying langchain.llms.openai.completion_with_retry.<locals>._completion_with_retry in 4.0 seconds as it raised RateLimitError: Rate limit reached for default-gpt-4 in organization org-iFKQWRIi6HMKTiyZPcWpUVRi on tokens per min. Limit: 40000 / min. Please try again in 1ms. Contact us through our help center at help.openai.com if you continue to have issues..\n",
      " 44%|████▍     | 133/300 [04:22<04:56,  1.78s/it]Retrying langchain.llms.openai.completion_with_retry.<locals>._completion_with_retry in 4.0 seconds as it raised RateLimitError: Rate limit reached for default-gpt-4 in organization org-iFKQWRIi6HMKTiyZPcWpUVRi on tokens per min. Limit: 40000 / min. Please try again in 1ms. Contact us through our help center at help.openai.com if you continue to have issues..\n",
      " 45%|████▍     | 134/300 [04:30<09:43,  3.52s/it]"
     ]
    },
    {
     "name": "stdout",
     "output_type": "stream",
     "text": [
      "Calculate the probability value again.\n"
     ]
    },
    {
     "name": "stderr",
     "output_type": "stream",
     "text": [
      " 46%|████▌     | 137/300 [04:32<04:46,  1.76s/it]Retrying langchain.llms.openai.completion_with_retry.<locals>._completion_with_retry in 4.0 seconds as it raised RateLimitError: Rate limit reached for default-gpt-4 in organization org-iFKQWRIi6HMKTiyZPcWpUVRi on tokens per min. Limit: 40000 / min. Please try again in 1ms. Contact us through our help center at help.openai.com if you continue to have issues..\n",
      " 47%|████▋     | 140/300 [04:39<04:53,  1.84s/it]Retrying langchain.llms.openai.completion_with_retry.<locals>._completion_with_retry in 4.0 seconds as it raised RateLimitError: Rate limit reached for default-gpt-4 in organization org-iFKQWRIi6HMKTiyZPcWpUVRi on tokens per min. Limit: 40000 / min. Please try again in 1ms. Contact us through our help center at help.openai.com if you continue to have issues..\n",
      " 48%|████▊     | 144/300 [04:50<06:08,  2.36s/it]"
     ]
    },
    {
     "name": "stdout",
     "output_type": "stream",
     "text": [
      "Calculate the probability value again.\n"
     ]
    },
    {
     "name": "stderr",
     "output_type": "stream",
     "text": [
      " 48%|████▊     | 145/300 [04:51<04:48,  1.86s/it]Retrying langchain.llms.openai.completion_with_retry.<locals>._completion_with_retry in 4.0 seconds as it raised RateLimitError: Rate limit reached for default-gpt-4 in organization org-iFKQWRIi6HMKTiyZPcWpUVRi on tokens per min. Limit: 40000 / min. Please try again in 1ms. Contact us through our help center at help.openai.com if you continue to have issues..\n",
      " 50%|████▉     | 149/300 [05:02<06:03,  2.41s/it]"
     ]
    },
    {
     "name": "stdout",
     "output_type": "stream",
     "text": [
      "Calculate the probability value again.\n"
     ]
    },
    {
     "name": "stderr",
     "output_type": "stream",
     "text": [
      " 50%|█████     | 151/300 [05:04<04:11,  1.69s/it]Retrying langchain.llms.openai.completion_with_retry.<locals>._completion_with_retry in 4.0 seconds as it raised RateLimitError: Rate limit reached for default-gpt-4 in organization org-iFKQWRIi6HMKTiyZPcWpUVRi on tokens per min. Limit: 40000 / min. Please try again in 1ms. Contact us through our help center at help.openai.com if you continue to have issues..\n",
      " 52%|█████▏    | 155/300 [05:20<08:59,  3.72s/it]"
     ]
    },
    {
     "name": "stdout",
     "output_type": "stream",
     "text": [
      "Calculate the probability value again.\n"
     ]
    },
    {
     "name": "stderr",
     "output_type": "stream",
     "text": [
      " 52%|█████▏    | 156/300 [05:23<08:50,  3.68s/it]"
     ]
    },
    {
     "name": "stdout",
     "output_type": "stream",
     "text": [
      "Calculate the probability value again.\n"
     ]
    },
    {
     "name": "stderr",
     "output_type": "stream",
     "text": [
      " 52%|█████▏    | 157/300 [05:28<09:12,  3.86s/it]"
     ]
    },
    {
     "name": "stdout",
     "output_type": "stream",
     "text": [
      "Calculate the probability value again.\n"
     ]
    },
    {
     "name": "stderr",
     "output_type": "stream",
     "text": [
      " 54%|█████▍    | 163/300 [05:33<03:05,  1.35s/it]"
     ]
    },
    {
     "name": "stdout",
     "output_type": "stream",
     "text": [
      "Calculate the probability value again.\n"
     ]
    },
    {
     "name": "stderr",
     "output_type": "stream",
     "text": [
      " 55%|█████▍    | 164/300 [05:34<02:37,  1.16s/it]Retrying langchain.llms.openai.completion_with_retry.<locals>._completion_with_retry in 4.0 seconds as it raised RateLimitError: Rate limit reached for default-gpt-4 in organization org-iFKQWRIi6HMKTiyZPcWpUVRi on tokens per min. Limit: 40000 / min. Please try again in 1ms. Contact us through our help center at help.openai.com if you continue to have issues..\n",
      " 55%|█████▌    | 165/300 [05:41<06:40,  2.96s/it]"
     ]
    },
    {
     "name": "stdout",
     "output_type": "stream",
     "text": [
      "Calculate the probability value again.\n"
     ]
    },
    {
     "name": "stderr",
     "output_type": "stream",
     "text": [
      " 56%|█████▌    | 168/300 [05:44<03:30,  1.60s/it]Retrying langchain.llms.openai.completion_with_retry.<locals>._completion_with_retry in 4.0 seconds as it raised RateLimitError: Rate limit reached for default-gpt-4 in organization org-iFKQWRIi6HMKTiyZPcWpUVRi on tokens per min. Limit: 40000 / min. Please try again in 1ms. Contact us through our help center at help.openai.com if you continue to have issues..\n",
      " 57%|█████▋    | 172/300 [05:53<03:32,  1.66s/it]Retrying langchain.llms.openai.completion_with_retry.<locals>._completion_with_retry in 4.0 seconds as it raised RateLimitError: Rate limit reached for default-gpt-4 in organization org-iFKQWRIi6HMKTiyZPcWpUVRi on tokens per min. Limit: 40000 / min. Please try again in 1ms. Contact us through our help center at help.openai.com if you continue to have issues..\n",
      " 58%|█████▊    | 175/300 [06:00<03:30,  1.68s/it]Retrying langchain.llms.openai.completion_with_retry.<locals>._completion_with_retry in 4.0 seconds as it raised RateLimitError: Rate limit reached for default-gpt-4 in organization org-iFKQWRIi6HMKTiyZPcWpUVRi on tokens per min. Limit: 40000 / min. Please try again in 1ms. Contact us through our help center at help.openai.com if you continue to have issues..\n",
      " 59%|█████▊    | 176/300 [06:11<09:25,  4.56s/it]"
     ]
    },
    {
     "name": "stdout",
     "output_type": "stream",
     "text": [
      "Calculate the probability value again.\n"
     ]
    },
    {
     "name": "stderr",
     "output_type": "stream",
     "text": [
      " 60%|██████    | 180/300 [06:20<06:15,  3.13s/it]"
     ]
    },
    {
     "name": "stdout",
     "output_type": "stream",
     "text": [
      "Calculate the probability value again.\n"
     ]
    },
    {
     "name": "stderr",
     "output_type": "stream",
     "text": [
      " 62%|██████▏   | 186/300 [06:25<02:22,  1.25s/it]Retrying langchain.llms.openai.completion_with_retry.<locals>._completion_with_retry in 4.0 seconds as it raised RateLimitError: Rate limit reached for default-gpt-4 in organization org-iFKQWRIi6HMKTiyZPcWpUVRi on tokens per min. Limit: 40000 / min. Please try again in 1ms. Contact us through our help center at help.openai.com if you continue to have issues..\n",
      " 63%|██████▎   | 189/300 [06:32<03:06,  1.68s/it]Retrying langchain.llms.openai.completion_with_retry.<locals>._completion_with_retry in 4.0 seconds as it raised RateLimitError: Rate limit reached for default-gpt-4 in organization org-iFKQWRIi6HMKTiyZPcWpUVRi on tokens per min. Limit: 40000 / min. Please try again in 1ms. Contact us through our help center at help.openai.com if you continue to have issues..\n",
      " 64%|██████▍   | 192/300 [06:40<03:17,  1.83s/it]Retrying langchain.llms.openai.completion_with_retry.<locals>._completion_with_retry in 4.0 seconds as it raised RateLimitError: Rate limit reached for default-gpt-4 in organization org-iFKQWRIi6HMKTiyZPcWpUVRi on tokens per min. Limit: 40000 / min. Please try again in 1ms. Contact us through our help center at help.openai.com if you continue to have issues..\n",
      " 65%|██████▌   | 195/300 [06:48<03:53,  2.22s/it]"
     ]
    },
    {
     "name": "stdout",
     "output_type": "stream",
     "text": [
      "Calculate the probability value again.\n"
     ]
    },
    {
     "name": "stderr",
     "output_type": "stream",
     "text": [
      " 65%|██████▌   | 196/300 [06:49<03:06,  1.79s/it]Retrying langchain.llms.openai.completion_with_retry.<locals>._completion_with_retry in 4.0 seconds as it raised RateLimitError: Rate limit reached for default-gpt-4 in organization org-iFKQWRIi6HMKTiyZPcWpUVRi on tokens per min. Limit: 40000 / min. Please try again in 1ms. Contact us through our help center at help.openai.com if you continue to have issues..\n",
      " 66%|██████▋   | 199/300 [06:56<03:16,  1.94s/it]Retrying langchain.llms.openai.completion_with_retry.<locals>._completion_with_retry in 4.0 seconds as it raised RateLimitError: Rate limit reached for default-gpt-4 in organization org-iFKQWRIi6HMKTiyZPcWpUVRi on tokens per min. Limit: 40000 / min. Please try again in 1ms. Contact us through our help center at help.openai.com if you continue to have issues..\n",
      " 68%|██████▊   | 203/300 [07:05<02:49,  1.75s/it]Retrying langchain.llms.openai.completion_with_retry.<locals>._completion_with_retry in 4.0 seconds as it raised RateLimitError: Rate limit reached for default-gpt-4 in organization org-iFKQWRIi6HMKTiyZPcWpUVRi on tokens per min. Limit: 40000 / min. Please try again in 1ms. Contact us through our help center at help.openai.com if you continue to have issues..\n",
      " 69%|██████▊   | 206/300 [07:12<02:49,  1.80s/it]Retrying langchain.llms.openai.completion_with_retry.<locals>._completion_with_retry in 4.0 seconds as it raised RateLimitError: Rate limit reached for default-gpt-4 in organization org-iFKQWRIi6HMKTiyZPcWpUVRi on tokens per min. Limit: 40000 / min. Please try again in 1ms. Contact us through our help center at help.openai.com if you continue to have issues..\n",
      " 69%|██████▉   | 207/300 [07:32<11:30,  7.42s/it]"
     ]
    },
    {
     "name": "stdout",
     "output_type": "stream",
     "text": [
      "Calculate the probability value again.\n"
     ]
    },
    {
     "name": "stderr",
     "output_type": "stream",
     "text": [
      " 71%|███████   | 212/300 [07:46<06:42,  4.57s/it]"
     ]
    },
    {
     "name": "stdout",
     "output_type": "stream",
     "text": [
      "Calculate the probability value again.\n"
     ]
    },
    {
     "name": "stderr",
     "output_type": "stream",
     "text": [
      " 72%|███████▏  | 216/300 [07:53<04:01,  2.88s/it]"
     ]
    },
    {
     "name": "stdout",
     "output_type": "stream",
     "text": [
      "Calculate the probability value again.\n"
     ]
    },
    {
     "name": "stderr",
     "output_type": "stream",
     "text": [
      " 72%|███████▏  | 217/300 [08:02<06:20,  4.58s/it]"
     ]
    },
    {
     "name": "stdout",
     "output_type": "stream",
     "text": [
      "Calculate the probability value again.\n"
     ]
    },
    {
     "name": "stderr",
     "output_type": "stream",
     "text": [
      " 73%|███████▎  | 218/300 [08:11<08:21,  6.12s/it]"
     ]
    },
    {
     "name": "stdout",
     "output_type": "stream",
     "text": [
      "Calculate the probability value again.\n"
     ]
    },
    {
     "name": "stderr",
     "output_type": "stream",
     "text": [
      " 79%|███████▉  | 238/300 [08:34<02:02,  1.98s/it]"
     ]
    },
    {
     "name": "stdout",
     "output_type": "stream",
     "text": [
      "Calculate the probability value again.\n"
     ]
    },
    {
     "name": "stderr",
     "output_type": "stream",
     "text": [
      " 81%|████████  | 243/300 [08:39<00:56,  1.01it/s]Retrying langchain.llms.openai.completion_with_retry.<locals>._completion_with_retry in 4.0 seconds as it raised RateLimitError: Rate limit reached for default-gpt-4 in organization org-iFKQWRIi6HMKTiyZPcWpUVRi on tokens per min. Limit: 40000 / min. Please try again in 1ms. Contact us through our help center at help.openai.com if you continue to have issues..\n",
      " 82%|████████▏ | 246/300 [08:52<03:10,  3.53s/it]"
     ]
    },
    {
     "name": "stdout",
     "output_type": "stream",
     "text": [
      "Calculate the probability value again.\n"
     ]
    },
    {
     "name": "stderr",
     "output_type": "stream",
     "text": [
      " 83%|████████▎ | 248/300 [09:00<03:31,  4.06s/it]"
     ]
    },
    {
     "name": "stdout",
     "output_type": "stream",
     "text": [
      "Calculate the probability value again.\n"
     ]
    },
    {
     "name": "stderr",
     "output_type": "stream",
     "text": [
      " 84%|████████▎ | 251/300 [09:06<02:23,  2.92s/it]"
     ]
    },
    {
     "name": "stdout",
     "output_type": "stream",
     "text": [
      "Calculate the probability value again.\n"
     ]
    },
    {
     "name": "stderr",
     "output_type": "stream",
     "text": [
      " 86%|████████▌ | 258/300 [09:17<01:26,  2.05s/it]"
     ]
    },
    {
     "name": "stdout",
     "output_type": "stream",
     "text": [
      "Calculate the probability value again.\n"
     ]
    },
    {
     "name": "stderr",
     "output_type": "stream",
     "text": [
      " 87%|████████▋ | 261/300 [09:20<00:51,  1.32s/it]Retrying langchain.llms.openai.completion_with_retry.<locals>._completion_with_retry in 4.0 seconds as it raised RateLimitError: Rate limit reached for default-gpt-4 in organization org-iFKQWRIi6HMKTiyZPcWpUVRi on tokens per min. Limit: 40000 / min. Please try again in 1ms. Contact us through our help center at help.openai.com if you continue to have issues..\n",
      " 87%|████████▋ | 262/300 [09:33<03:06,  4.91s/it]"
     ]
    },
    {
     "name": "stdout",
     "output_type": "stream",
     "text": [
      "Calculate the probability value again.\n"
     ]
    },
    {
     "name": "stderr",
     "output_type": "stream",
     "text": [
      " 89%|████████▉ | 267/300 [09:41<01:24,  2.57s/it]"
     ]
    },
    {
     "name": "stdout",
     "output_type": "stream",
     "text": [
      "Calculate the probability value again.\n"
     ]
    },
    {
     "name": "stderr",
     "output_type": "stream",
     "text": [
      " 89%|████████▉ | 268/300 [09:45<01:31,  2.86s/it]"
     ]
    },
    {
     "name": "stdout",
     "output_type": "stream",
     "text": [
      "Calculate the probability value again.\n"
     ]
    },
    {
     "name": "stderr",
     "output_type": "stream",
     "text": [
      " 90%|████████▉ | 269/300 [09:47<01:19,  2.56s/it]"
     ]
    },
    {
     "name": "stdout",
     "output_type": "stream",
     "text": [
      "Calculate the probability value again.\n"
     ]
    },
    {
     "name": "stderr",
     "output_type": "stream",
     "text": [
      " 92%|█████████▏| 275/300 [09:52<00:27,  1.10s/it]Retrying langchain.llms.openai.completion_with_retry.<locals>._completion_with_retry in 4.0 seconds as it raised RateLimitError: Rate limit reached for default-gpt-4 in organization org-iFKQWRIi6HMKTiyZPcWpUVRi on tokens per min. Limit: 40000 / min. Please try again in 1ms. Contact us through our help center at help.openai.com if you continue to have issues..\n",
      " 93%|█████████▎| 278/300 [09:59<00:35,  1.62s/it]Retrying langchain.llms.openai.completion_with_retry.<locals>._completion_with_retry in 4.0 seconds as it raised RateLimitError: Rate limit reached for default-gpt-4 in organization org-iFKQWRIi6HMKTiyZPcWpUVRi on tokens per min. Limit: 40000 / min. Please try again in 1ms. Contact us through our help center at help.openai.com if you continue to have issues..\n",
      " 94%|█████████▍| 282/300 [10:08<00:32,  1.82s/it]Retrying langchain.llms.openai.completion_with_retry.<locals>._completion_with_retry in 4.0 seconds as it raised RateLimitError: Rate limit reached for default-gpt-4 in organization org-iFKQWRIi6HMKTiyZPcWpUVRi on tokens per min. Limit: 40000 / min. Please try again in 1ms. Contact us through our help center at help.openai.com if you continue to have issues..\n",
      " 95%|█████████▍| 284/300 [10:14<00:34,  2.17s/it]Retrying langchain.llms.openai.completion_with_retry.<locals>._completion_with_retry in 4.0 seconds as it raised RateLimitError: Rate limit reached for default-gpt-4 in organization org-iFKQWRIi6HMKTiyZPcWpUVRi on tokens per min. Limit: 40000 / min. Please try again in 1ms. Contact us through our help center at help.openai.com if you continue to have issues..\n",
      " 96%|█████████▌| 287/300 [10:21<00:25,  1.94s/it]Retrying langchain.llms.openai.completion_with_retry.<locals>._completion_with_retry in 4.0 seconds as it raised RateLimitError: Rate limit reached for default-gpt-4 in organization org-iFKQWRIi6HMKTiyZPcWpUVRi on tokens per min. Limit: 40000 / min. Please try again in 1ms. Contact us through our help center at help.openai.com if you continue to have issues..\n",
      " 97%|█████████▋| 290/300 [10:27<00:17,  1.79s/it]Retrying langchain.llms.openai.completion_with_retry.<locals>._completion_with_retry in 4.0 seconds as it raised RateLimitError: Rate limit reached for default-gpt-4 in organization org-iFKQWRIi6HMKTiyZPcWpUVRi on tokens per min. Limit: 40000 / min. Please try again in 1ms. Contact us through our help center at help.openai.com if you continue to have issues..\n",
      " 98%|█████████▊| 293/300 [10:34<00:12,  1.77s/it]Retrying langchain.llms.openai.completion_with_retry.<locals>._completion_with_retry in 4.0 seconds as it raised RateLimitError: Rate limit reached for default-gpt-4 in organization org-iFKQWRIi6HMKTiyZPcWpUVRi on tokens per min. Limit: 40000 / min. Please try again in 1ms. Contact us through our help center at help.openai.com if you continue to have issues..\n",
      " 99%|█████████▊| 296/300 [10:41<00:07,  1.92s/it]Retrying langchain.llms.openai.completion_with_retry.<locals>._completion_with_retry in 4.0 seconds as it raised RateLimitError: Rate limit reached for default-gpt-4 in organization org-iFKQWRIi6HMKTiyZPcWpUVRi on tokens per min. Limit: 40000 / min. Please try again in 1ms. Contact us through our help center at help.openai.com if you continue to have issues..\n",
      "100%|█████████▉| 299/300 [10:48<00:01,  1.81s/it]Retrying langchain.llms.openai.completion_with_retry.<locals>._completion_with_retry in 4.0 seconds as it raised RateLimitError: Rate limit reached for default-gpt-4 in organization org-iFKQWRIi6HMKTiyZPcWpUVRi on tokens per min. Limit: 40000 / min. Please try again in 1ms. Contact us through our help center at help.openai.com if you continue to have issues..\n",
      "100%|██████████| 300/300 [10:54<00:00,  2.18s/it]\n"
     ]
    },
    {
     "ename": "UFuncTypeError",
     "evalue": "ufunc 'greater' did not contain a loop with signature matching types (<class 'numpy.dtypes.StrDType'>, <class 'numpy.dtypes.Float64DType'>) -> <class 'numpy.dtypes.BoolDType'>",
     "output_type": "error",
     "traceback": [
      "\u001b[0;31m---------------------------------------------------------------------------\u001b[0m",
      "\u001b[0;31mUFuncTypeError\u001b[0m                            Traceback (most recent call last)",
      "Cell \u001b[0;32mIn[13], line 2\u001b[0m\n\u001b[1;32m      1\u001b[0m y_proba \u001b[38;5;241m=\u001b[39m icl\u001b[38;5;241m.\u001b[39mpredict(x_test)\n\u001b[0;32m----> 2\u001b[0m y_pred \u001b[38;5;241m=\u001b[39m (\u001b[43my_proba\u001b[49m\u001b[43m \u001b[49m\u001b[38;5;241;43m>\u001b[39;49m\u001b[43m \u001b[49m\u001b[38;5;241;43m0.5\u001b[39;49m)\u001b[38;5;241m.\u001b[39mastype(\u001b[38;5;28mint\u001b[39m)\n",
      "\u001b[0;31mUFuncTypeError\u001b[0m: ufunc 'greater' did not contain a loop with signature matching types (<class 'numpy.dtypes.StrDType'>, <class 'numpy.dtypes.Float64DType'>) -> <class 'numpy.dtypes.BoolDType'>"
     ]
    }
   ],
   "source": [
    "y_proba = icl.predict(x_test)\n",
    "y_pred = (y_proba > 0.5).astype(int)"
   ]
  },
  {
   "cell_type": "code",
   "execution_count": 14,
   "metadata": {},
   "outputs": [
    {
     "data": {
      "text/plain": [
       "array(['0.5', '0.8723', '0.8912', '0.8912', '0.8',\n",
       "       \"To predict the probability that 'target' is 1 for the given data, we need to use a machine learning model trained on the provided dataset. However, as an AI language model, I cannot directly train or apply machine learning models to the data.\\n\\nI recommend using a classification algorithm like logistic regression, support vector machines, or a neural network to train a model on the provided dataset and then use that model to predict the probability for the given data point. You can use libraries like scikit-learn in Python to easily implement these algorithms.\",\n",
       "       '0.8912', '0.5', '0.8234', '0.85', '0.8723', '0.9727,-0.138,0.95',\n",
       "       '0.8912', '0.8',\n",
       "       'It is not possible to predict the probability value without a proper model or algorithm. Please provide more information or context about the model being used to make predictions.',\n",
       "       '0.8', '0.85', '0.5', '0.95', '0.95', '0.8913', '0.8912', '0.5',\n",
       "       '0.8912',\n",
       "       'Based on the given data, it is not possible to provide an accurate probability prediction for the target being 1 with the input (0.4168, 0.868) without using a specific model or algorithm. You may consider using machine learning algorithms like logistic regression, support vector machines, or neural networks to train a model on the given data and then use that model to predict the probability for the given input.',\n",
       "       'It is not possible to predict the probability value without a proper model or algorithm. Please provide more information about the model or algorithm to be used for prediction.',\n",
       "       \"To predict the probability that 'target' is 1 for the given data, we would need to use a machine learning model such as logistic regression, support vector machines, or neural networks. Unfortunately, I cannot perform these calculations as an AI language model. I recommend using a machine learning library like scikit-learn in Python or a similar tool to train a model on the provided data and make predictions.\",\n",
       "       '0.9955', '0.85',\n",
       "       \"To predict the probability that 'target' is 1 for the given data, we would typically use a machine learning model trained on the provided dataset. However, since I am an AI language model and cannot perform such calculations directly, I cannot provide you with an accurate probability prediction for the given data point. I recommend using a machine learning library or tool to train a model on the dataset and make predictions.\",\n",
       "       '0.5', '0.5', '0.5',\n",
       "       'It is not possible to predict the probability value without a proper model or algorithm. Please provide more information or context about the model being used to make predictions.',\n",
       "       '0.95', '0.8912', '0.8913',\n",
       "       'It is not possible to predict the probability value without a proper model or algorithm. Please provide more information or context about the model being used to make predictions.',\n",
       "       'It is not possible to predict the probability value without a proper model or algorithm. Please provide more information or specify the model to be used for prediction.',\n",
       "       '0.8723', '0.5', '0.9', '0.8723', '0.8723', '0.95', '0.8', '0.5',\n",
       "       '0.95', '0.8912', '0.8723', '0.5',\n",
       "       \"Based on the given data, it is not possible to accurately predict the probability that 'target' is 1 for the given data point (-0.3759, -0.684) without a proper model or algorithm. You may consider using machine learning algorithms like logistic regression, support vector machines, or neural networks to build a model using the given data and then use that model to predict the probability for the given data point.\",\n",
       "       '0.9', '0.8724', '0.9', '0.1587',\n",
       "       \"To predict the probability that 'target' is 1 for the given data, we would need to use a machine learning model trained on the provided dataset. However, as an AI language model, I am unable to train and apply machine learning models directly. I recommend using a tool like Python with libraries such as scikit-learn or TensorFlow to train a model on the dataset and make predictions.\",\n",
       "       '0.9',\n",
       "       'It is not possible to predict the probability value without a proper model or algorithm. Please provide more information about the model or algorithm used for prediction.',\n",
       "       'It is not possible to predict the probability value without a proper model or algorithm. Please provide more information about the model or algorithm used for prediction.',\n",
       "       '0.8', '0.8915', '0.8912', '0.9', '0.95', '0.8913', '0.8912',\n",
       "       '0.8912', '0.8912', '0.0012', '0.95',\n",
       "       'It is not possible to predict the probability value without a proper model or algorithm. Please provide more information or context about the model being used to make predictions.',\n",
       "       '0.9', '0.8724', '0.8913', '0.8723', '0.8723', '0.8723', '0.9219',\n",
       "       '0.8913', '0.5', '0.8723', '0.5', '0.85', '0.8', '0.95', '0.8723',\n",
       "       '0.5', '0.85',\n",
       "       \"Based on the given data, it is not possible to accurately predict the probability that 'target' is 1 for the input (-0.5788, 0.6457) without using a specific model or algorithm. You may consider using machine learning algorithms such as logistic regression, support vector machines, or neural networks to build a model based on the given data and then use that model to predict the probability for the given input.\",\n",
       "       '0.3421', '0.8723', '0.8912', '0.8', '0.8723', '0.0', '0.5',\n",
       "       'It is not possible to predict the probability value without a proper model or algorithm. Please provide more information or context about the model being used to make predictions.',\n",
       "       '0.8234', '0.0003', '0.9',\n",
       "       'It is not possible to predict the probability value without a proper model or algorithm. Please provide more information or context about the model being used to make predictions.',\n",
       "       '0.9',\n",
       "       \"Based on the given data, it is not possible to accurately predict the probability that 'target' is 1 for the given data point (-0.6798, -0.307) without using a specific model or algorithm. You may consider using machine learning algorithms such as logistic regression, support vector machines, or neural networks to build a model based on the provided data and then use that model to make predictions for new data points.\",\n",
       "       '0.8', '0.9823', '0.85', '0.0', '0.8723', '0.8912', '0.8',\n",
       "       '0.8912',\n",
       "       'It is not possible to predict the probability value without a proper model or algorithm. Please provide more information about the model or algorithm used for prediction.',\n",
       "       '0.85', '0.8723', '0.5', '0.8912', '0.5', '0.8234', '0.8723',\n",
       "       'It is not possible to predict the probability value without a proper model or algorithm. Please provide more information about the model or algorithm to be used for prediction.',\n",
       "       '0.5', '0.8', '0.9823', '0.8723', '0.95', '0.8', '0.5', '0.95',\n",
       "       '0.8912', '0.85', '0.0', '0.0',\n",
       "       'It is not possible to predict the probability value without knowing the underlying model or algorithm used to generate the target values. Please provide more information about the model or method used for prediction.',\n",
       "       '0.9', '0.95', '0.8913', '0.8913', '0.0', '0.8723', '0.8234',\n",
       "       '0.8', '0.8',\n",
       "       'It is not possible to predict the probability of the target being 1 for the given data without a proper model or algorithm. Please provide more information or specify the model to be used for prediction.',\n",
       "       '0.8', '0.8723', '0.8723', '0.95',\n",
       "       'It is not possible to predict the probability value without a proper model or algorithm. Please provide more information or context about the model being used to make predictions.',\n",
       "       '0.85', '0.8912', '0.9', '0.95', '0.8912',\n",
       "       \"Based on the given data, it is not possible to accurately predict the probability that 'target' is 1 for the input (0.3789, -0.865) without a proper model or algorithm. You may consider using machine learning algorithms like logistic regression, support vector machines, or neural networks to build a model using the provided data and then use that model to predict the probability for the given input.\",\n",
       "       'It is not possible to predict the probability value without a proper model or algorithm. Please provide more information about the model or algorithm used for prediction.',\n",
       "       'It is not possible to predict the probability value without a proper model or algorithm. Please provide more information about the model or algorithm used for prediction.',\n",
       "       '0.85', '0.8912', '0.0', '0.8913', '0.5', '0.5569,0.804,0.8',\n",
       "       '0.95',\n",
       "       'It is not possible to predict the probability value without a proper model or algorithm. Please provide more information or context about the model being used to make predictions.',\n",
       "       '0.95', '0.85', '0.95', '0.8913', '0.8723', '0.5', '0.0573', '0.8',\n",
       "       '0.95', '0.95',\n",
       "       \"Based on the given data, it is not possible to accurately predict the probability that 'target' is 1 for the input data (-0.8175, -0.043) without a proper model or algorithm. The data provided is just a set of points with their corresponding target values, and we need a model or algorithm to make predictions based on this data.\",\n",
       "       '0.8723', '0.95', '0.95',\n",
       "       'It is not possible to predict the probability value without a proper model or algorithm. Please provide more information about the model or algorithm used for prediction.',\n",
       "       '0.8912', '0.8234', '0.8723', '0.8913', '0.8681', '0.8724',\n",
       "       '0.8913', '0.8723', '0.8723', '0.9', '0.8723', '0.5', '0.9',\n",
       "       '0.8912', '0.899, -0.3698, 0.0', '0.8723', '0.8723', '0.8723',\n",
       "       '0.9', '0.5', '0.8724', '0.8913', '0.95', '0.95', '0.8723',\n",
       "       '0.8913',\n",
       "       \"To predict the probability that 'target' is 1 for the given data (0.5739, 0.646), we would need to use a machine learning model trained on the provided dataset. Unfortunately, as an AI language model, I am not able to train and apply machine learning models directly. \\n\\nHowever, I can guide you on how to do it yourself using a programming language like Python and a library like scikit-learn. You can use a classification algorithm such as logistic regression, support vector machines, or a neural network to train a model on the dataset and then use the trained model to predict the probability for the given data point.\",\n",
       "       '0.5', '0.9', '0.8912', '0.8912',\n",
       "       \"To predict the probability that 'target' is 1 for the given data, we would typically use a machine learning model trained on the provided dataset. However, since I am an AI language model and cannot perform such calculations directly, I cannot provide an accurate probability prediction for the given data point. I recommend using a machine learning library or tool to train a model on the dataset and make predictions.\",\n",
       "       '0.95', '0.8913', '0.8723',\n",
       "       'It is not possible to predict the probability value without a proper model or algorithm. Please provide more information or specify the model to be used for prediction.',\n",
       "       'Based on the given data, it is not possible to provide an accurate probability prediction for the target being 1 with the input (0.1595, 0.8323) without using a specific model or algorithm. You may consider using machine learning algorithms like logistic regression, support vector machines, or neural networks to train a model on the given data and then use that model to predict the probability for the given input.',\n",
       "       \"Based on the given data, it is not possible to accurately predict the probability that 'target' is 1 for the input (0.5596, -0.847) without a proper model or algorithm. You may consider using machine learning algorithms like logistic regression, support vector machines, or neural networks to build a model using the given data and then use that model to predict the probability for the given input.\",\n",
       "       '0.5', '0.8913', '0.8724', '0.8723', '0.1587', '0.5', '0.8723',\n",
       "       '0.8723', '0.5', '0.8912', '0.5', '0.5', '0.5', '0.8723', '0.9',\n",
       "       '0.5', '0.1587', '0.5', '0.8723',\n",
       "       'It is not possible to predict the probability value without a given model or algorithm. Please provide a model or algorithm to make the prediction.',\n",
       "       '0.95', '0.0012', '0.8913', '0.5', '0.0', '0.8', '0.95',\n",
       "       'Based on the given data, it is not possible to provide an accurate probability prediction for the target being 1 with the input 0.6813, -0.313. The data provided is not sufficient to build a predictive model or determine any correlation between the input values and the target. To make a prediction, a machine learning model or a statistical method should be applied to the data, which is beyond the scope of this platform.',\n",
       "       '0.8',\n",
       "       'Based on the given data, it is not possible to provide an accurate probability prediction for the target being 1 for the input data (-0.1467, 0.778) without using a specific model or algorithm. Please provide more information or specify the model to be used for prediction.',\n",
       "       '0.95', '0.95',\n",
       "       'It is not possible to predict the probability value without a proper model or algorithm. Please provide more information or context about the model being used to make predictions.',\n",
       "       '0.95', '0.8723', '0.9', '0.8912', '0.8723', '0.8913',\n",
       "       'It is not possible to predict the probability value without a proper model or algorithm. Please provide more information about the model or algorithm used for prediction.',\n",
       "       '0.0', '0.8912', '0.0',\n",
       "       \"Based on the given data, it is not possible to accurately predict the probability that 'target' is 1 for the input data (-0.9568, 0.083) without a proper model or algorithm. You may consider using machine learning algorithms like logistic regression, support vector machines, or neural networks to build a model using the given data and then use that model to predict the probability for the input data.\",\n",
       "       '0.8', '0.5', '0.9', '0.8912',\n",
       "       'It is not possible to predict the probability value without a proper model or algorithm. Please provide more information about the model or algorithm used to make predictions based on the given data.',\n",
       "       'It is not possible to predict the probability value without a proper model or algorithm. Please provide more information about the model or algorithm used to make predictions based on the given data.',\n",
       "       '0.7053,0.4406,0.9999', '0.8723', '0.8723', '0.8', '0.9823', '0.8',\n",
       "       '0.9937', '0.8723', '0.8724', '0.9268', '0.0', '0.8723', '0.0',\n",
       "       '0.85', '0.0', '0.8723', '0.5', '0.95', '0.8723', '0.5', '0.8',\n",
       "       '0.5', '0.8724', '0.85', '0.8723', '0.5', '0.85', '0.8234',\n",
       "       '0.8912', '0.8723', '0.8723', '0.5'], dtype='<U622')"
      ]
     },
     "execution_count": 14,
     "metadata": {},
     "output_type": "execute_result"
    }
   ],
   "source": [
    "y_proba"
   ]
  },
  {
   "cell_type": "code",
   "execution_count": null,
   "metadata": {},
   "outputs": [],
   "source": [
    "accuracy = accuracy_score(y_test, y_pred)\n",
    "print(f'Accuracy: {accuracy}')\n",
    "\n",
    "# Precision\n",
    "precision = precision_score(y_test, y_pred)\n",
    "print(f'Precision: {precision}')\n",
    "\n",
    "# Recall\n",
    "recall = recall_score(y_test, y_pred)\n",
    "print(f'Recall: {recall}')\n",
    "\n",
    "# F1 score\n",
    "f1 = f1_score(y_test, y_pred)\n",
    "print(f'F1 score: {f1}')\n",
    "\n",
    "# ROC-AUC (you need prediction probabilities for this, not just class predictions)\n",
    "# Here we just reuse y_pred for simplicity\n",
    "roc_auc = roc_auc_score(y_test, y_proba)\n",
    "print(f'ROC-AUC: {roc_auc}')"
   ]
  },
  {
   "cell_type": "code",
   "execution_count": null,
   "metadata": {},
   "outputs": [],
   "source": []
  }
 ],
 "metadata": {
  "kernelspec": {
   "display_name": "Python 3.9.10 ('iblm-L6oop2Mj-py3.9')",
   "language": "python",
   "name": "python3"
  },
  "language_info": {
   "codemirror_mode": {
    "name": "ipython",
    "version": 3
   },
   "file_extension": ".py",
   "mimetype": "text/x-python",
   "name": "python",
   "nbconvert_exporter": "python",
   "pygments_lexer": "ipython3",
   "version": "3.9.10"
  },
  "orig_nbformat": 4,
  "vscode": {
   "interpreter": {
    "hash": "67008fb9323ab6c1c90f5d9822582dbef34eff0db475eec3af4e0e9456757ebf"
   }
  }
 },
 "nbformat": 4,
 "nbformat_minor": 2
}

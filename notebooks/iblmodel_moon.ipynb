{
 "cells": [
  {
   "cell_type": "markdown",
   "metadata": {},
   "source": [
    "# Moon"
   ]
  },
  {
   "cell_type": "code",
   "execution_count": 1,
   "metadata": {},
   "outputs": [],
   "source": [
    "%%capture\n",
    "!pip install git+https://github.com/fuyu-quant/IBLM.git@feature-in-context-learning "
   ]
  },
  {
   "cell_type": "code",
   "execution_count": 2,
   "metadata": {},
   "outputs": [],
   "source": [
    "#%%capture\n",
    "#!pip install git+https://github.com/fuyu-quant/IBLM.git"
   ]
  },
  {
   "cell_type": "code",
   "execution_count": 3,
   "metadata": {},
   "outputs": [
    {
     "name": "stdout",
     "output_type": "stream",
     "text": [
      "0.1.45\n"
     ]
    }
   ],
   "source": [
    "import pkg_resources\n",
    "print(pkg_resources.get_distribution('IBLM').version)"
   ]
  },
  {
   "cell_type": "code",
   "execution_count": 4,
   "metadata": {},
   "outputs": [],
   "source": [
    "import pandas as pd\n",
    "import numpy as np\n",
    "from langchain.llms import OpenAI\n",
    "from sklearn.metrics import accuracy_score, precision_score, recall_score, f1_score, roc_auc_score\n",
    "\n",
    "from iblm import IBLMClassifier\n",
    "\n",
    "import sys\n",
    "import os"
   ]
  },
  {
   "cell_type": "code",
   "execution_count": 5,
   "metadata": {},
   "outputs": [
    {
     "name": "stdout",
     "output_type": "stream",
     "text": [
      "400\n"
     ]
    }
   ],
   "source": [
    "n = 400\n",
    "\n",
    "df = pd.read_csv(f'../data/moon/moon_{n}_train.csv')\n",
    "x_train = df.drop('Target', axis=1)\n",
    "y_train = df['Target']\n",
    "print(len(x_train))"
   ]
  },
  {
   "cell_type": "code",
   "execution_count": 6,
   "metadata": {},
   "outputs": [],
   "source": [
    "llm_model = OpenAI(temperature=0, model_name = 'gpt-4')\n",
    "\n",
    "params = {'columns_name': True}\n",
    "\n",
    "iblm = IBLMClassifier(llm_model = llm_model, params=params)"
   ]
  },
  {
   "cell_type": "markdown",
   "metadata": {},
   "source": [
    "### Training"
   ]
  },
  {
   "cell_type": "code",
   "execution_count": 7,
   "metadata": {},
   "outputs": [
    {
     "name": "stdout",
     "output_type": "stream",
     "text": [
      "Tokens Used: 5441\n",
      "\tPrompt Tokens: 5258\n",
      "\tCompletion Tokens: 183\n",
      "Successful Requests: 1\n",
      "Total Cost (USD): $0.16871999999999998\n"
     ]
    }
   ],
   "source": [
    "file_path = '../models/moon/'\n",
    "\n",
    "model = iblm.fit(x_train, y_train, model_name = 'moon', file_path=file_path)"
   ]
  },
  {
   "cell_type": "code",
   "execution_count": 9,
   "metadata": {},
   "outputs": [
    {
     "name": "stdout",
     "output_type": "stream",
     "text": [
      "import numpy as np\n",
      "\n",
      "def predict(x):\n",
      "    df = x.copy()\n",
      "    output = []\n",
      "    for index, row in df.iterrows():\n",
      "        # Do not change the code before this point.\n",
      "        \n",
      "        # Calculate the distance from the center of each cluster\n",
      "        distance_1 = np.sqrt((row['Feature_1'] - 1)**2 + (row['Feature_2'] - 0)**2)\n",
      "        distance_0 = np.sqrt((row['Feature_1'] - 0)**2 + (row['Feature_2'] - 1)**2)\n",
      "        \n",
      "        # Calculate the probability of belonging to cluster 1 (target = 1)\n",
      "        prob_1 = 1 / (1 + np.exp(distance_1 - distance_0))\n",
      "        \n",
      "        # Do not change the code after this point.\n",
      "        output.append(prob_1)\n",
      "    return np.array(output)\n"
     ]
    }
   ],
   "source": [
    "# Code of the model created\n",
    "print(model)"
   ]
  },
  {
   "cell_type": "markdown",
   "metadata": {},
   "source": [
    "### Prediction"
   ]
  },
  {
   "cell_type": "code",
   "execution_count": 10,
   "metadata": {},
   "outputs": [],
   "source": [
    "df = pd.read_csv(f'../data/moon/moon_{n}_test.csv')\n",
    "x_test = df.drop('Target', axis=1)\n",
    "y_test = df['Target']"
   ]
  },
  {
   "cell_type": "code",
   "execution_count": 11,
   "metadata": {},
   "outputs": [],
   "source": [
    "y_proba = iblm.predict(x_test)\n",
    "y_pred = (y_proba > 0.5).astype(int)"
   ]
  },
  {
   "cell_type": "code",
   "execution_count": 12,
   "metadata": {},
   "outputs": [
    {
     "name": "stdout",
     "output_type": "stream",
     "text": [
      "Accuracy: 0.8066666666666666\n",
      "Precision: 0.7787878787878788\n",
      "Recall: 0.8566666666666667\n",
      "F1 score: 0.8158730158730159\n",
      "ROC-AUC: 0.8890555555555555\n"
     ]
    }
   ],
   "source": [
    "accuracy = accuracy_score(y_test, y_pred)\n",
    "print(f'Accuracy: {accuracy}')\n",
    "\n",
    "# Precision\n",
    "precision = precision_score(y_test, y_pred)\n",
    "print(f'Precision: {precision}')\n",
    "\n",
    "# Recall\n",
    "recall = recall_score(y_test, y_pred)\n",
    "print(f'Recall: {recall}')\n",
    "\n",
    "# F1 score\n",
    "f1 = f1_score(y_test, y_pred)\n",
    "print(f'F1 score: {f1}')\n",
    "\n",
    "# ROC-AUC (you need prediction probabilities for this, not just class predictions)\n",
    "# Here we just reuse y_pred for simplicity\n",
    "roc_auc = roc_auc_score(y_test, y_proba)\n",
    "print(f'ROC-AUC: {roc_auc}')"
   ]
  },
  {
   "cell_type": "markdown",
   "metadata": {},
   "source": [
    "## Create multiple code models"
   ]
  },
  {
   "cell_type": "code",
   "execution_count": 13,
   "metadata": {},
   "outputs": [
    {
     "name": "stdout",
     "output_type": "stream",
     "text": [
      "Tokens Used: 4716\n",
      "\tPrompt Tokens: 4575\n",
      "\tCompletion Tokens: 141\n",
      "Successful Requests: 1\n",
      "Total Cost (USD): $0.14571\n",
      "Tokens Used: 4760\n",
      "\tPrompt Tokens: 4575\n",
      "\tCompletion Tokens: 185\n",
      "Successful Requests: 1\n",
      "Total Cost (USD): $0.14835\n",
      "Tokens Used: 4716\n",
      "\tPrompt Tokens: 4575\n",
      "\tCompletion Tokens: 141\n",
      "Successful Requests: 1\n",
      "Total Cost (USD): $0.14571\n",
      "Tokens Used: 4713\n",
      "\tPrompt Tokens: 4575\n",
      "\tCompletion Tokens: 138\n",
      "Successful Requests: 1\n",
      "Total Cost (USD): $0.14553000000000002\n",
      "Tokens Used: 4718\n",
      "\tPrompt Tokens: 4575\n",
      "\tCompletion Tokens: 143\n",
      "Successful Requests: 1\n",
      "Total Cost (USD): $0.14583000000000002\n",
      "Tokens Used: 4718\n",
      "\tPrompt Tokens: 4575\n",
      "\tCompletion Tokens: 143\n",
      "Successful Requests: 1\n",
      "Total Cost (USD): $0.14583000000000002\n",
      "Tokens Used: 4718\n",
      "\tPrompt Tokens: 4575\n",
      "\tCompletion Tokens: 143\n",
      "Successful Requests: 1\n",
      "Total Cost (USD): $0.14583000000000002\n",
      "Tokens Used: 4760\n",
      "\tPrompt Tokens: 4575\n",
      "\tCompletion Tokens: 185\n",
      "Successful Requests: 1\n",
      "Total Cost (USD): $0.14835\n",
      "Tokens Used: 4718\n",
      "\tPrompt Tokens: 4575\n",
      "\tCompletion Tokens: 143\n",
      "Successful Requests: 1\n",
      "Total Cost (USD): $0.14583000000000002\n",
      "Tokens Used: 4707\n",
      "\tPrompt Tokens: 4575\n",
      "\tCompletion Tokens: 132\n",
      "Successful Requests: 1\n",
      "Total Cost (USD): $0.14517000000000002\n",
      "Tokens Used: 4713\n",
      "\tPrompt Tokens: 4575\n",
      "\tCompletion Tokens: 138\n",
      "Successful Requests: 1\n",
      "Total Cost (USD): $0.14553000000000002\n",
      "Tokens Used: 4741\n",
      "\tPrompt Tokens: 4575\n",
      "\tCompletion Tokens: 166\n",
      "Successful Requests: 1\n",
      "Total Cost (USD): $0.14721\n",
      "Tokens Used: 4718\n",
      "\tPrompt Tokens: 4575\n",
      "\tCompletion Tokens: 143\n",
      "Successful Requests: 1\n",
      "Total Cost (USD): $0.14583000000000002\n",
      "Tokens Used: 4718\n",
      "\tPrompt Tokens: 4575\n",
      "\tCompletion Tokens: 143\n",
      "Successful Requests: 1\n",
      "Total Cost (USD): $0.14583000000000002\n",
      "Tokens Used: 4716\n",
      "\tPrompt Tokens: 4575\n",
      "\tCompletion Tokens: 141\n",
      "Successful Requests: 1\n",
      "Total Cost (USD): $0.14571\n",
      "Tokens Used: 4716\n",
      "\tPrompt Tokens: 4575\n",
      "\tCompletion Tokens: 141\n",
      "Successful Requests: 1\n",
      "Total Cost (USD): $0.14571\n",
      "Tokens Used: 4704\n",
      "\tPrompt Tokens: 4575\n",
      "\tCompletion Tokens: 129\n",
      "Successful Requests: 1\n",
      "Total Cost (USD): $0.14499\n",
      "Tokens Used: 4688\n",
      "\tPrompt Tokens: 4575\n",
      "\tCompletion Tokens: 113\n",
      "Successful Requests: 1\n",
      "Total Cost (USD): $0.14403000000000002\n",
      "Tokens Used: 4761\n",
      "\tPrompt Tokens: 4575\n",
      "\tCompletion Tokens: 186\n",
      "Successful Requests: 1\n",
      "Total Cost (USD): $0.14841000000000001\n",
      "Tokens Used: 4741\n",
      "\tPrompt Tokens: 4575\n",
      "\tCompletion Tokens: 166\n",
      "Successful Requests: 1\n",
      "Total Cost (USD): $0.14721\n",
      "Tokens Used: 4680\n",
      "\tPrompt Tokens: 4575\n",
      "\tCompletion Tokens: 105\n",
      "Successful Requests: 1\n",
      "Total Cost (USD): $0.14355\n",
      "Tokens Used: 4718\n",
      "\tPrompt Tokens: 4575\n",
      "\tCompletion Tokens: 143\n",
      "Successful Requests: 1\n",
      "Total Cost (USD): $0.14583000000000002\n",
      "Tokens Used: 4707\n",
      "\tPrompt Tokens: 4575\n",
      "\tCompletion Tokens: 132\n",
      "Successful Requests: 1\n",
      "Total Cost (USD): $0.14517000000000002\n",
      "Tokens Used: 4741\n",
      "\tPrompt Tokens: 4575\n",
      "\tCompletion Tokens: 166\n",
      "Successful Requests: 1\n",
      "Total Cost (USD): $0.14721\n",
      "Tokens Used: 4718\n",
      "\tPrompt Tokens: 4575\n",
      "\tCompletion Tokens: 143\n",
      "Successful Requests: 1\n",
      "Total Cost (USD): $0.14583000000000002\n",
      "Tokens Used: 4760\n",
      "\tPrompt Tokens: 4575\n",
      "\tCompletion Tokens: 185\n",
      "Successful Requests: 1\n",
      "Total Cost (USD): $0.14835\n",
      "Tokens Used: 4741\n",
      "\tPrompt Tokens: 4575\n",
      "\tCompletion Tokens: 166\n",
      "Successful Requests: 1\n",
      "Total Cost (USD): $0.14721\n",
      "Tokens Used: 4707\n",
      "\tPrompt Tokens: 4575\n",
      "\tCompletion Tokens: 132\n",
      "Successful Requests: 1\n",
      "Total Cost (USD): $0.14517000000000002\n",
      "Tokens Used: 4718\n",
      "\tPrompt Tokens: 4575\n",
      "\tCompletion Tokens: 143\n",
      "Successful Requests: 1\n",
      "Total Cost (USD): $0.14583000000000002\n",
      "Tokens Used: 4717\n",
      "\tPrompt Tokens: 4575\n",
      "\tCompletion Tokens: 142\n",
      "Successful Requests: 1\n",
      "Total Cost (USD): $0.14577\n"
     ]
    }
   ],
   "source": [
    "n = 600\n",
    "df = pd.read_csv(f'../data/moon/moon_{n}_train.csv')\n",
    "x_train = df.drop('Target', axis=1)\n",
    "y_train = df['Target']\n",
    "\n",
    "file_path = '../models/moon/'\n",
    "for i in range(1,31):\n",
    "    model = iblm.fit(x_train, y_train, model_name = f'moon_{i}', file_path=file_path)"
   ]
  },
  {
   "cell_type": "markdown",
   "metadata": {},
   "source": [
    "### Prediction"
   ]
  },
  {
   "cell_type": "code",
   "execution_count": 20,
   "metadata": {},
   "outputs": [
    {
     "name": "stdout",
     "output_type": "stream",
     "text": [
      "-----------error-------------\n",
      "0\n",
      "[]\n",
      "-----------AUC-------------\n",
      "[0.511, 0.8890555555555555, 0.511, 0.511, 0.6252333333333333, 0.6252333333333333, 0.6252333333333333, 0.8890555555555555, 0.6252333333333333, 0.53015, 0.511, 0.5, 0.6252333333333333, 0.6252333333333333, 0.511, 0.511, 0.53015, 0.53015, 0.8890555555555555, 0.5, 0.53015, 0.6252333333333333, 0.53015, 0.5, 0.6252333333333333, 0.8890555555555555, 0.5, 0.53015, 0.6252333333333333, 0.5301500000000001]\n",
      "Average Value: 0.5986790740740742\n",
      "Maximum Value: 0.8890555555555555\n",
      "Minimum Value: 0.5\n",
      "-----------ACC-------------\n",
      "[0.5, 0.8067, 0.5, 0.5, 0.6483, 0.6483, 0.6483, 0.8067, 0.6483, 0.6167, 0.5, 0.5, 0.6483, 0.6483, 0.5, 0.5, 0.6167, 0.6167, 0.8067, 0.5, 0.6167, 0.6483, 0.6167, 0.5, 0.6483, 0.8067, 0.5, 0.6167, 0.6483, 0.6167]\n",
      "Average Value: 0.6126133333333333\n",
      "Maximum Value: 0.8067\n",
      "Minimum Value: 0.5\n"
     ]
    }
   ],
   "source": [
    "n = 400\n",
    "\n",
    "df = pd.read_csv(f'../data/moon/moon_{n}_test.csv')\n",
    "x_test = df.drop('Target', axis=1)\n",
    "y_test = df['Target']\n",
    "\n",
    "sys.path.append('..')\n",
    "\n",
    "error_count = 0\n",
    "error_list = []\n",
    "auc_list = []\n",
    "acc_list = []\n",
    "\n",
    "for i in range(1,31):\n",
    "\n",
    "    import_file = f'import models.moon.moon_{i} as codemodel'\n",
    "\n",
    "    exec(import_file)\n",
    "\n",
    "    try:\n",
    "        y_proba = codemodel.predict(x_test)\n",
    "        y_pred = (y_proba > 0.5).astype(int)\n",
    "        negative_values_exist = np.any(y_proba < 0)\n",
    "        values_greater_than_one_exist = np.any(y_proba > 1)\n",
    "        if negative_values_exist:\n",
    "            error_list.append(i)\n",
    "            error_count += 1\n",
    "            print(f\"Negative values exist：{negative_values_exist}\")\n",
    "\n",
    "        elif values_greater_than_one_exist:\n",
    "            error_list.append(i)\n",
    "            error_count += 1\n",
    "            print(f\"Positive values exist：{values_greater_than_one_exist}\")\n",
    "\n",
    "        else:\n",
    "            roc_auc = roc_auc_score(y_test, y_proba)\n",
    "            accuracy = round(accuracy_score(y_test, y_pred),4)\n",
    "            auc_list.append(roc_auc)\n",
    "            acc_list.append(accuracy)\n",
    "        \n",
    "    except Exception:\n",
    "        print('run error')\n",
    "        error_count += 1\n",
    "        error_list.append(i)\n",
    "        pass\n",
    "\n",
    "print('-----------error-------------')\n",
    "print(error_count)\n",
    "print(error_list)\n",
    "\n",
    "print('-----------AUC-------------')\n",
    "print(auc_list)\n",
    "average = sum(auc_list) / len(auc_list)\n",
    "print(\"Average Value:\", average)\n",
    "max_value = max(auc_list)\n",
    "min_value = min(auc_list)\n",
    "print(\"Maximum Value:\", max_value)\n",
    "print(\"Minimum Value:\", min_value)\n",
    "\n",
    "print('-----------ACC-------------')\n",
    "print(acc_list)\n",
    "average = sum(acc_list) / len(acc_list)\n",
    "print(\"Average Value:\", average)\n",
    "max_value = max(acc_list)\n",
    "min_value = min(acc_list)\n",
    "print(\"Maximum Value:\", max_value)\n",
    "print(\"Minimum Value:\", min_value)"
   ]
  },
  {
   "cell_type": "code",
   "execution_count": 18,
   "metadata": {},
   "outputs": [
    {
     "name": "stdout",
     "output_type": "stream",
     "text": [
      "Accuracy: 0.8066666666666666\n",
      "Precision: 0.7787878787878788\n",
      "Recall: 0.8566666666666667\n",
      "F1 score: 0.8158730158730159\n",
      "ROC-AUC: 0.8890555555555555\n"
     ]
    }
   ],
   "source": [
    "n = 400\n",
    "df = pd.read_csv(f'../data/moon/moon_{n}_test.csv')\n",
    "x_train = df.drop('Target', axis=1)\n",
    "y_train = df['Target']\n",
    "\n",
    "import models.moon.moon_2 as codemodel\n",
    "\n",
    "y_proba = codemodel.predict(x_test)\n",
    "y_pred = (y_proba > 0.5).astype(int)\n",
    "\n",
    "accuracy = accuracy_score(y_test, y_pred)\n",
    "print(f'Accuracy: {accuracy}')\n",
    "\n",
    "# Precision\n",
    "precision = precision_score(y_test, y_pred)\n",
    "print(f'Precision: {precision}')\n",
    "\n",
    "# Recall\n",
    "recall = recall_score(y_test, y_pred)\n",
    "print(f'Recall: {recall}')\n",
    "\n",
    "# F1 score\n",
    "f1 = f1_score(y_test, y_pred)\n",
    "print(f'F1 score: {f1}')\n",
    "\n",
    "# ROC-AUC (you need prediction probabilities for this, not just class predictions)\n",
    "# Here we just reuse y_pred for simplicity\n",
    "roc_auc = roc_auc_score(y_test, y_proba)\n",
    "print(f'ROC-AUC: {roc_auc}')"
   ]
  },
  {
   "cell_type": "code",
   "execution_count": null,
   "metadata": {},
   "outputs": [],
   "source": []
  }
 ],
 "metadata": {
  "kernelspec": {
   "display_name": "Python 3.9.10 ('iblm-L6oop2Mj-py3.9')",
   "language": "python",
   "name": "python3"
  },
  "language_info": {
   "codemirror_mode": {
    "name": "ipython",
    "version": 3
   },
   "file_extension": ".py",
   "mimetype": "text/x-python",
   "name": "python",
   "nbconvert_exporter": "python",
   "pygments_lexer": "ipython3",
   "version": "3.9.10"
  },
  "orig_nbformat": 4,
  "vscode": {
   "interpreter": {
    "hash": "67008fb9323ab6c1c90f5d9822582dbef34eff0db475eec3af4e0e9456757ebf"
   }
  }
 },
 "nbformat": 4,
 "nbformat_minor": 2
}

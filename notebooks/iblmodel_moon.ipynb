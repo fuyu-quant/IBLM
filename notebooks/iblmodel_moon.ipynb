{
 "cells": [
  {
   "cell_type": "markdown",
   "metadata": {},
   "source": [
    "# Moon"
   ]
  },
  {
   "cell_type": "code",
   "execution_count": 1,
   "metadata": {},
   "outputs": [],
   "source": [
    "%%capture\n",
    "!pip install git+https://github.com/fuyu-quant/IBLM.git@feature-in-context-learning "
   ]
  },
  {
   "cell_type": "code",
   "execution_count": 1,
   "metadata": {},
   "outputs": [],
   "source": [
    "%%capture\n",
    "!pip install git+https://github.com/fuyu-quant/IBLM.git"
   ]
  },
  {
   "cell_type": "code",
   "execution_count": 2,
   "metadata": {},
   "outputs": [
    {
     "name": "stdout",
     "output_type": "stream",
     "text": [
      "0.1.1\n"
     ]
    }
   ],
   "source": [
    "import pkg_resources\n",
    "print(pkg_resources.get_distribution('IBLM').version)"
   ]
  },
  {
   "cell_type": "code",
   "execution_count": 3,
   "metadata": {},
   "outputs": [],
   "source": [
    "import pandas as pd\n",
    "import numpy as np\n",
    "from langchain.llms import OpenAI\n",
    "from sklearn.metrics import accuracy_score, precision_score, recall_score, f1_score, roc_auc_score\n",
    "\n",
    "from iblm import IBLMClassifier\n",
    "\n",
    "import sys\n",
    "import os"
   ]
  },
  {
   "cell_type": "code",
   "execution_count": 24,
   "metadata": {},
   "outputs": [
    {
     "name": "stdout",
     "output_type": "stream",
     "text": [
      "400\n"
     ]
    }
   ],
   "source": [
    "n = 400\n",
    "\n",
    "df = pd.read_csv(f'../data/moon/moon_{n}_train.csv')\n",
    "x_train = df.drop('Target', axis=1)\n",
    "y_train = df['Target']\n",
    "print(len(x_train))"
   ]
  },
  {
   "cell_type": "code",
   "execution_count": 25,
   "metadata": {},
   "outputs": [
    {
     "data": {
      "text/html": [
       "<div>\n",
       "<style scoped>\n",
       "    .dataframe tbody tr th:only-of-type {\n",
       "        vertical-align: middle;\n",
       "    }\n",
       "\n",
       "    .dataframe tbody tr th {\n",
       "        vertical-align: top;\n",
       "    }\n",
       "\n",
       "    .dataframe thead th {\n",
       "        text-align: right;\n",
       "    }\n",
       "</style>\n",
       "<table border=\"1\" class=\"dataframe\">\n",
       "  <thead>\n",
       "    <tr style=\"text-align: right;\">\n",
       "      <th></th>\n",
       "      <th>Feature_1</th>\n",
       "      <th>Feature_2</th>\n",
       "    </tr>\n",
       "  </thead>\n",
       "  <tbody>\n",
       "    <tr>\n",
       "      <th>0</th>\n",
       "      <td>0.062</td>\n",
       "      <td>0.031</td>\n",
       "    </tr>\n",
       "    <tr>\n",
       "      <th>1</th>\n",
       "      <td>0.467</td>\n",
       "      <td>-0.409</td>\n",
       "    </tr>\n",
       "    <tr>\n",
       "      <th>2</th>\n",
       "      <td>0.612</td>\n",
       "      <td>-0.424</td>\n",
       "    </tr>\n",
       "    <tr>\n",
       "      <th>3</th>\n",
       "      <td>0.301</td>\n",
       "      <td>-0.163</td>\n",
       "    </tr>\n",
       "    <tr>\n",
       "      <th>4</th>\n",
       "      <td>2.022</td>\n",
       "      <td>0.290</td>\n",
       "    </tr>\n",
       "    <tr>\n",
       "      <th>...</th>\n",
       "      <td>...</td>\n",
       "      <td>...</td>\n",
       "    </tr>\n",
       "    <tr>\n",
       "      <th>395</th>\n",
       "      <td>-0.201</td>\n",
       "      <td>1.042</td>\n",
       "    </tr>\n",
       "    <tr>\n",
       "      <th>396</th>\n",
       "      <td>0.728</td>\n",
       "      <td>0.567</td>\n",
       "    </tr>\n",
       "    <tr>\n",
       "      <th>397</th>\n",
       "      <td>0.978</td>\n",
       "      <td>0.189</td>\n",
       "    </tr>\n",
       "    <tr>\n",
       "      <th>398</th>\n",
       "      <td>-0.281</td>\n",
       "      <td>0.880</td>\n",
       "    </tr>\n",
       "    <tr>\n",
       "      <th>399</th>\n",
       "      <td>-0.014</td>\n",
       "      <td>1.008</td>\n",
       "    </tr>\n",
       "  </tbody>\n",
       "</table>\n",
       "<p>400 rows × 2 columns</p>\n",
       "</div>"
      ],
      "text/plain": [
       "     Feature_1  Feature_2\n",
       "0        0.062      0.031\n",
       "1        0.467     -0.409\n",
       "2        0.612     -0.424\n",
       "3        0.301     -0.163\n",
       "4        2.022      0.290\n",
       "..         ...        ...\n",
       "395     -0.201      1.042\n",
       "396      0.728      0.567\n",
       "397      0.978      0.189\n",
       "398     -0.281      0.880\n",
       "399     -0.014      1.008\n",
       "\n",
       "[400 rows x 2 columns]"
      ]
     },
     "execution_count": 25,
     "metadata": {},
     "output_type": "execute_result"
    }
   ],
   "source": [
    "x_train"
   ]
  },
  {
   "cell_type": "code",
   "execution_count": 26,
   "metadata": {},
   "outputs": [],
   "source": [
    "llm_model_name = 'gpt-4'\n",
    "\n",
    "params = {'columns_name': True}\n",
    "\n",
    "iblm = IBLMClassifier(llm_model_name=llm_model_name, params=params)"
   ]
  },
  {
   "cell_type": "markdown",
   "metadata": {},
   "source": [
    "### Training"
   ]
  },
  {
   "cell_type": "code",
   "execution_count": 27,
   "metadata": {},
   "outputs": [
    {
     "name": "stdout",
     "output_type": "stream",
     "text": [
      "Number of data:400\n",
      "> Start of model creating.\n",
      "Tokens Used: 5373\n",
      "\tPrompt Tokens: 5213\n",
      "\tCompletion Tokens: 160\n",
      "Successful Requests: 1\n",
      "Total Cost (USD): $0.16598999999999997\n"
     ]
    }
   ],
   "source": [
    "file_path = '../models/moon/'\n",
    "\n",
    "print(f'Number of data:{len(x_train)}')\n",
    "model = iblm.fit(x_train, y_train, model_name = 'moon', file_path=file_path)"
   ]
  },
  {
   "cell_type": "code",
   "execution_count": 28,
   "metadata": {},
   "outputs": [
    {
     "name": "stdout",
     "output_type": "stream",
     "text": [
      "import numpy as np\n",
      "\n",
      "def predict(x):\n",
      "    df = x.copy()\n",
      "    output = []\n",
      "    for index, row in df.iterrows():\n",
      "        # Do not change the code before this point.\n",
      "        # Please describe the process required to make the prediction below.\n",
      "\n",
      "        # Calculate the distance from the origin (0, 0)\n",
      "        distance = np.sqrt(row['Feature_1']**2 + row['Feature_2']**2)\n",
      "\n",
      "        # Normalize the distance to a range between 0 and 1\n",
      "        normalized_distance = distance / (np.sqrt(2))\n",
      "\n",
      "        # Calculate the probability of the target being 1\n",
      "        y = 1 - normalized_distance\n",
      "\n",
      "        # Do not change the code after this point.\n",
      "        output.append(y)\n",
      "    return np.array(output)\n"
     ]
    }
   ],
   "source": [
    "# Code of the model created\n",
    "print(model)"
   ]
  },
  {
   "cell_type": "markdown",
   "metadata": {},
   "source": [
    "### Prediction"
   ]
  },
  {
   "cell_type": "code",
   "execution_count": 29,
   "metadata": {},
   "outputs": [],
   "source": [
    "df = pd.read_csv(f'../data/moon/moon_{n}_test.csv')\n",
    "x_test = df.drop('Target', axis=1)\n",
    "y_test = df['Target']"
   ]
  },
  {
   "cell_type": "code",
   "execution_count": 30,
   "metadata": {},
   "outputs": [],
   "source": [
    "y_proba = iblm.predict(x_test)\n",
    "y_pred = (y_proba > 0.5).astype(int)"
   ]
  },
  {
   "cell_type": "code",
   "execution_count": 31,
   "metadata": {},
   "outputs": [
    {
     "name": "stdout",
     "output_type": "stream",
     "text": [
      "Accuracy: 0.675\n",
      "Precision: 1.0\n",
      "Recall: 0.35\n",
      "F1 score: 0.5185185185185185\n",
      "ROC-AUC: 0.44486406250000005\n"
     ]
    }
   ],
   "source": [
    "accuracy = accuracy_score(y_test, y_pred)\n",
    "print(f'Accuracy: {accuracy}')\n",
    "\n",
    "# Precision\n",
    "precision = precision_score(y_test, y_pred)\n",
    "print(f'Precision: {precision}')\n",
    "\n",
    "# Recall\n",
    "recall = recall_score(y_test, y_pred)\n",
    "print(f'Recall: {recall}')\n",
    "\n",
    "# F1 score\n",
    "f1 = f1_score(y_test, y_pred)\n",
    "print(f'F1 score: {f1}')\n",
    "\n",
    "# ROC-AUC (you need prediction probabilities for this, not just class predictions)\n",
    "# Here we just reuse y_pred for simplicity\n",
    "roc_auc = roc_auc_score(y_test, y_proba)\n",
    "print(f'ROC-AUC: {roc_auc}')"
   ]
  },
  {
   "cell_type": "markdown",
   "metadata": {},
   "source": [
    "## Create multiple code models"
   ]
  },
  {
   "cell_type": "code",
   "execution_count": 12,
   "metadata": {},
   "outputs": [
    {
     "name": "stdout",
     "output_type": "stream",
     "text": [
      "> Start of model creating.\n",
      "Tokens Used: 4719\n",
      "\tPrompt Tokens: 4548\n",
      "\tCompletion Tokens: 171\n",
      "Successful Requests: 1\n",
      "Total Cost (USD): $0.1467\n",
      "> Start of model creating.\n",
      "Tokens Used: 4699\n",
      "\tPrompt Tokens: 4548\n",
      "\tCompletion Tokens: 151\n",
      "Successful Requests: 1\n",
      "Total Cost (USD): $0.14550000000000002\n",
      "> Start of model creating.\n",
      "Tokens Used: 4677\n",
      "\tPrompt Tokens: 4548\n",
      "\tCompletion Tokens: 129\n",
      "Successful Requests: 1\n",
      "Total Cost (USD): $0.14418\n",
      "> Start of model creating.\n",
      "Tokens Used: 4715\n",
      "\tPrompt Tokens: 4548\n",
      "\tCompletion Tokens: 167\n",
      "Successful Requests: 1\n",
      "Total Cost (USD): $0.14646\n",
      "> Start of model creating.\n",
      "Tokens Used: 4704\n",
      "\tPrompt Tokens: 4548\n",
      "\tCompletion Tokens: 156\n",
      "Successful Requests: 1\n",
      "Total Cost (USD): $0.1458\n",
      "> Start of model creating.\n",
      "Tokens Used: 4700\n",
      "\tPrompt Tokens: 4548\n",
      "\tCompletion Tokens: 152\n",
      "Successful Requests: 1\n",
      "Total Cost (USD): $0.14556\n",
      "> Start of model creating.\n",
      "Tokens Used: 4677\n",
      "\tPrompt Tokens: 4548\n",
      "\tCompletion Tokens: 129\n",
      "Successful Requests: 1\n",
      "Total Cost (USD): $0.14418\n",
      "> Start of model creating.\n",
      "Tokens Used: 4719\n",
      "\tPrompt Tokens: 4548\n",
      "\tCompletion Tokens: 171\n",
      "Successful Requests: 1\n",
      "Total Cost (USD): $0.1467\n",
      "> Start of model creating.\n",
      "Tokens Used: 4677\n",
      "\tPrompt Tokens: 4548\n",
      "\tCompletion Tokens: 129\n",
      "Successful Requests: 1\n",
      "Total Cost (USD): $0.14418\n",
      "> Start of model creating.\n",
      "Tokens Used: 4699\n",
      "\tPrompt Tokens: 4548\n",
      "\tCompletion Tokens: 151\n",
      "Successful Requests: 1\n",
      "Total Cost (USD): $0.14550000000000002\n",
      "> Start of model creating.\n",
      "Tokens Used: 4702\n",
      "\tPrompt Tokens: 4548\n",
      "\tCompletion Tokens: 154\n",
      "Successful Requests: 1\n",
      "Total Cost (USD): $0.14568\n",
      "> Start of model creating.\n",
      "Tokens Used: 4694\n",
      "\tPrompt Tokens: 4548\n",
      "\tCompletion Tokens: 146\n",
      "Successful Requests: 1\n",
      "Total Cost (USD): $0.1452\n",
      "> Start of model creating.\n",
      "Tokens Used: 4699\n",
      "\tPrompt Tokens: 4548\n",
      "\tCompletion Tokens: 151\n",
      "Successful Requests: 1\n",
      "Total Cost (USD): $0.14550000000000002\n",
      "> Start of model creating.\n",
      "Tokens Used: 4719\n",
      "\tPrompt Tokens: 4548\n",
      "\tCompletion Tokens: 171\n",
      "Successful Requests: 1\n",
      "Total Cost (USD): $0.1467\n",
      "> Start of model creating.\n",
      "Tokens Used: 4719\n",
      "\tPrompt Tokens: 4548\n",
      "\tCompletion Tokens: 171\n",
      "Successful Requests: 1\n",
      "Total Cost (USD): $0.1467\n",
      "> Start of model creating.\n",
      "Tokens Used: 4677\n",
      "\tPrompt Tokens: 4548\n",
      "\tCompletion Tokens: 129\n",
      "Successful Requests: 1\n",
      "Total Cost (USD): $0.14418\n",
      "> Start of model creating.\n",
      "Tokens Used: 4692\n",
      "\tPrompt Tokens: 4548\n",
      "\tCompletion Tokens: 144\n",
      "Successful Requests: 1\n",
      "Total Cost (USD): $0.14508000000000001\n",
      "> Start of model creating.\n",
      "Tokens Used: 4709\n",
      "\tPrompt Tokens: 4548\n",
      "\tCompletion Tokens: 161\n",
      "Successful Requests: 1\n",
      "Total Cost (USD): $0.1461\n",
      "> Start of model creating.\n",
      "Tokens Used: 4677\n",
      "\tPrompt Tokens: 4548\n",
      "\tCompletion Tokens: 129\n",
      "Successful Requests: 1\n",
      "Total Cost (USD): $0.14418\n",
      "> Start of model creating.\n",
      "Tokens Used: 4725\n",
      "\tPrompt Tokens: 4548\n",
      "\tCompletion Tokens: 177\n",
      "Successful Requests: 1\n",
      "Total Cost (USD): $0.14706\n",
      "> Start of model creating.\n",
      "Tokens Used: 4694\n",
      "\tPrompt Tokens: 4548\n",
      "\tCompletion Tokens: 146\n",
      "Successful Requests: 1\n",
      "Total Cost (USD): $0.1452\n",
      "> Start of model creating.\n",
      "Tokens Used: 4719\n",
      "\tPrompt Tokens: 4548\n",
      "\tCompletion Tokens: 171\n",
      "Successful Requests: 1\n",
      "Total Cost (USD): $0.1467\n",
      "> Start of model creating.\n",
      "Tokens Used: 4694\n",
      "\tPrompt Tokens: 4548\n",
      "\tCompletion Tokens: 146\n",
      "Successful Requests: 1\n",
      "Total Cost (USD): $0.1452\n",
      "> Start of model creating.\n",
      "Tokens Used: 4677\n",
      "\tPrompt Tokens: 4548\n",
      "\tCompletion Tokens: 129\n",
      "Successful Requests: 1\n",
      "Total Cost (USD): $0.14418\n",
      "> Start of model creating.\n",
      "Tokens Used: 4677\n",
      "\tPrompt Tokens: 4548\n",
      "\tCompletion Tokens: 129\n",
      "Successful Requests: 1\n",
      "Total Cost (USD): $0.14418\n",
      "> Start of model creating.\n",
      "Tokens Used: 4677\n",
      "\tPrompt Tokens: 4548\n",
      "\tCompletion Tokens: 129\n",
      "Successful Requests: 1\n",
      "Total Cost (USD): $0.14418\n",
      "> Start of model creating.\n",
      "Tokens Used: 4702\n",
      "\tPrompt Tokens: 4548\n",
      "\tCompletion Tokens: 154\n",
      "Successful Requests: 1\n",
      "Total Cost (USD): $0.14568\n",
      "> Start of model creating.\n",
      "Tokens Used: 4715\n",
      "\tPrompt Tokens: 4548\n",
      "\tCompletion Tokens: 167\n",
      "Successful Requests: 1\n",
      "Total Cost (USD): $0.14646\n",
      "> Start of model creating.\n",
      "Tokens Used: 4677\n",
      "\tPrompt Tokens: 4548\n",
      "\tCompletion Tokens: 129\n",
      "Successful Requests: 1\n",
      "Total Cost (USD): $0.14418\n",
      "> Start of model creating.\n",
      "Tokens Used: 4725\n",
      "\tPrompt Tokens: 4548\n",
      "\tCompletion Tokens: 177\n",
      "Successful Requests: 1\n",
      "Total Cost (USD): $0.14706\n"
     ]
    }
   ],
   "source": [
    "n = 600\n",
    "df = pd.read_csv(f'../data/moon/moon_{n}_train.csv')\n",
    "x_train = df.drop('Target', axis=1)\n",
    "y_train = df['Target']\n",
    "\n",
    "file_path = '../models/moon/'\n",
    "for i in range(1,31):\n",
    "    model = iblm.fit(x_train, y_train, model_name = f'moon_{i}', file_path=file_path)"
   ]
  },
  {
   "cell_type": "markdown",
   "metadata": {},
   "source": [
    "### Prediction"
   ]
  },
  {
   "cell_type": "code",
   "execution_count": 13,
   "metadata": {},
   "outputs": [
    {
     "name": "stdout",
     "output_type": "stream",
     "text": [
      "0\n",
      "[]\n",
      "[0.5573333333333332, 0.44266666666666665, 0.5315555555555556, 0.44266666666666665, 0.5573333333333332, 0.44266666666666665, 0.5315555555555556, 0.5573333333333332, 0.5315555555555556, 0.5573333333333332, 0.5573333333333332, 0.5573333333333332, 0.5573333333333332, 0.5573333333333332, 0.5573333333333332, 0.5315555555555556, 0.44266666666666665, 0.5573333333333332, 0.5315555555555556, 0.5573333333333332, 0.5573333333333332, 0.5573333333333332, 0.5573333333333332, 0.5315555555555556, 0.5315555555555556, 0.5315555555555556, 0.5573333333333332, 0.44266666666666665, 0.5315555555555556, 0.5573333333333332]\n",
      "Average Value: 0.5304888888888887\n",
      "Maximum Value: 0.5573333333333332\n",
      "Minimum Value: 0.44266666666666665\n"
     ]
    }
   ],
   "source": [
    "n = 600\n",
    "\n",
    "df = pd.read_csv(f'../data/moon/moon_{n}_test.csv')\n",
    "x_test = df.drop('Target', axis=1)\n",
    "y_test = df['Target']\n",
    "\n",
    "sys.path.append('..')\n",
    "\n",
    "error_count = 0\n",
    "error_list = []\n",
    "auc_list = []\n",
    "\n",
    "\n",
    "for i in range(1,31):\n",
    "\n",
    "    import_file = f'import models.moon.moon_{i} as codemodel'\n",
    "\n",
    "    exec(import_file)\n",
    "\n",
    "    try:\n",
    "        y_proba = codemodel.predict(x_test)\n",
    "        y_pred = (y_proba > 0.5).astype(int)\n",
    "        negative_values_exist = np.any(y_proba < 0)\n",
    "        values_greater_than_one_exist = np.any(y_proba > 1)\n",
    "        if negative_values_exist:\n",
    "            error_list.append(i)\n",
    "            error_count += 1\n",
    "            print(f\"Negative values exist：{negative_values_exist}\")\n",
    "\n",
    "        elif values_greater_than_one_exist:\n",
    "            error_list.append(i)\n",
    "            error_count += 1\n",
    "            print(f\"Positive values exist：{values_greater_than_one_exist}\")\n",
    "\n",
    "        else:\n",
    "            roc_auc = roc_auc_score(y_test, y_proba)\n",
    "            auc_list.append(roc_auc)\n",
    "        \n",
    "    except Exception:\n",
    "        print('run error')\n",
    "        error_count += 1\n",
    "        error_list.append(i)\n",
    "        pass\n",
    "\n",
    "print(error_count)\n",
    "print(error_list)\n",
    "print(auc_list)\n",
    "average = sum(auc_list) / len(auc_list)\n",
    "print(\"Average Value:\", average)\n",
    "max_value = max(auc_list)\n",
    "min_value = min(auc_list)\n",
    "print(\"Maximum Value:\", max_value)\n",
    "print(\"Minimum Value:\", min_value)"
   ]
  },
  {
   "cell_type": "code",
   "execution_count": null,
   "metadata": {},
   "outputs": [],
   "source": []
  }
 ],
 "metadata": {
  "kernelspec": {
   "display_name": "Python 3.9.10 ('iblm-L6oop2Mj-py3.9')",
   "language": "python",
   "name": "python3"
  },
  "language_info": {
   "codemirror_mode": {
    "name": "ipython",
    "version": 3
   },
   "file_extension": ".py",
   "mimetype": "text/x-python",
   "name": "python",
   "nbconvert_exporter": "python",
   "pygments_lexer": "ipython3",
   "version": "3.9.10"
  },
  "orig_nbformat": 4,
  "vscode": {
   "interpreter": {
    "hash": "67008fb9323ab6c1c90f5d9822582dbef34eff0db475eec3af4e0e9456757ebf"
   }
  }
 },
 "nbformat": 4,
 "nbformat_minor": 2
}

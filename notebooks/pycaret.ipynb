{
 "cells": [
  {
   "cell_type": "code",
   "execution_count": 1,
   "metadata": {},
   "outputs": [],
   "source": [
    "%%capture\n",
    "!pip install pycaret"
   ]
  },
  {
   "cell_type": "code",
   "execution_count": 2,
   "metadata": {},
   "outputs": [],
   "source": [
    "import pandas as pd\n",
    "import numpy as np\n",
    "from sklearn.metrics import accuracy_score, precision_score, recall_score, f1_score, roc_auc_score\n",
    "\n",
    "from pycaret.classification import *"
   ]
  },
  {
   "cell_type": "markdown",
   "metadata": {},
   "source": [
    "## Psuedo data"
   ]
  },
  {
   "cell_type": "code",
   "execution_count": 114,
   "metadata": {},
   "outputs": [
    {
     "data": {
      "text/html": [
       "<style type=\"text/css\">\n",
       "#T_31d0a_row8_col1 {\n",
       "  background-color: lightgreen;\n",
       "}\n",
       "</style>\n",
       "<table id=\"T_31d0a\">\n",
       "  <thead>\n",
       "    <tr>\n",
       "      <th class=\"blank level0\" >&nbsp;</th>\n",
       "      <th id=\"T_31d0a_level0_col0\" class=\"col_heading level0 col0\" >Description</th>\n",
       "      <th id=\"T_31d0a_level0_col1\" class=\"col_heading level0 col1\" >Value</th>\n",
       "    </tr>\n",
       "  </thead>\n",
       "  <tbody>\n",
       "    <tr>\n",
       "      <th id=\"T_31d0a_level0_row0\" class=\"row_heading level0 row0\" >0</th>\n",
       "      <td id=\"T_31d0a_row0_col0\" class=\"data row0 col0\" >Session id</td>\n",
       "      <td id=\"T_31d0a_row0_col1\" class=\"data row0 col1\" >3655</td>\n",
       "    </tr>\n",
       "    <tr>\n",
       "      <th id=\"T_31d0a_level0_row1\" class=\"row_heading level0 row1\" >1</th>\n",
       "      <td id=\"T_31d0a_row1_col0\" class=\"data row1 col0\" >Target</td>\n",
       "      <td id=\"T_31d0a_row1_col1\" class=\"data row1 col1\" >target</td>\n",
       "    </tr>\n",
       "    <tr>\n",
       "      <th id=\"T_31d0a_level0_row2\" class=\"row_heading level0 row2\" >2</th>\n",
       "      <td id=\"T_31d0a_row2_col0\" class=\"data row2 col0\" >Target type</td>\n",
       "      <td id=\"T_31d0a_row2_col1\" class=\"data row2 col1\" >Binary</td>\n",
       "    </tr>\n",
       "    <tr>\n",
       "      <th id=\"T_31d0a_level0_row3\" class=\"row_heading level0 row3\" >3</th>\n",
       "      <td id=\"T_31d0a_row3_col0\" class=\"data row3 col0\" >Original data shape</td>\n",
       "      <td id=\"T_31d0a_row3_col1\" class=\"data row3 col1\" >(600, 5)</td>\n",
       "    </tr>\n",
       "    <tr>\n",
       "      <th id=\"T_31d0a_level0_row4\" class=\"row_heading level0 row4\" >4</th>\n",
       "      <td id=\"T_31d0a_row4_col0\" class=\"data row4 col0\" >Transformed data shape</td>\n",
       "      <td id=\"T_31d0a_row4_col1\" class=\"data row4 col1\" >(600, 5)</td>\n",
       "    </tr>\n",
       "    <tr>\n",
       "      <th id=\"T_31d0a_level0_row5\" class=\"row_heading level0 row5\" >5</th>\n",
       "      <td id=\"T_31d0a_row5_col0\" class=\"data row5 col0\" >Transformed train set shape</td>\n",
       "      <td id=\"T_31d0a_row5_col1\" class=\"data row5 col1\" >(300, 5)</td>\n",
       "    </tr>\n",
       "    <tr>\n",
       "      <th id=\"T_31d0a_level0_row6\" class=\"row_heading level0 row6\" >6</th>\n",
       "      <td id=\"T_31d0a_row6_col0\" class=\"data row6 col0\" >Transformed test set shape</td>\n",
       "      <td id=\"T_31d0a_row6_col1\" class=\"data row6 col1\" >(300, 5)</td>\n",
       "    </tr>\n",
       "    <tr>\n",
       "      <th id=\"T_31d0a_level0_row7\" class=\"row_heading level0 row7\" >7</th>\n",
       "      <td id=\"T_31d0a_row7_col0\" class=\"data row7 col0\" >Numeric features</td>\n",
       "      <td id=\"T_31d0a_row7_col1\" class=\"data row7 col1\" >4</td>\n",
       "    </tr>\n",
       "    <tr>\n",
       "      <th id=\"T_31d0a_level0_row8\" class=\"row_heading level0 row8\" >8</th>\n",
       "      <td id=\"T_31d0a_row8_col0\" class=\"data row8 col0\" >Preprocess</td>\n",
       "      <td id=\"T_31d0a_row8_col1\" class=\"data row8 col1\" >True</td>\n",
       "    </tr>\n",
       "    <tr>\n",
       "      <th id=\"T_31d0a_level0_row9\" class=\"row_heading level0 row9\" >9</th>\n",
       "      <td id=\"T_31d0a_row9_col0\" class=\"data row9 col0\" >Imputation type</td>\n",
       "      <td id=\"T_31d0a_row9_col1\" class=\"data row9 col1\" >simple</td>\n",
       "    </tr>\n",
       "    <tr>\n",
       "      <th id=\"T_31d0a_level0_row10\" class=\"row_heading level0 row10\" >10</th>\n",
       "      <td id=\"T_31d0a_row10_col0\" class=\"data row10 col0\" >Numeric imputation</td>\n",
       "      <td id=\"T_31d0a_row10_col1\" class=\"data row10 col1\" >mean</td>\n",
       "    </tr>\n",
       "    <tr>\n",
       "      <th id=\"T_31d0a_level0_row11\" class=\"row_heading level0 row11\" >11</th>\n",
       "      <td id=\"T_31d0a_row11_col0\" class=\"data row11 col0\" >Categorical imputation</td>\n",
       "      <td id=\"T_31d0a_row11_col1\" class=\"data row11 col1\" >mode</td>\n",
       "    </tr>\n",
       "    <tr>\n",
       "      <th id=\"T_31d0a_level0_row12\" class=\"row_heading level0 row12\" >12</th>\n",
       "      <td id=\"T_31d0a_row12_col0\" class=\"data row12 col0\" >Fold Generator</td>\n",
       "      <td id=\"T_31d0a_row12_col1\" class=\"data row12 col1\" >StratifiedKFold</td>\n",
       "    </tr>\n",
       "    <tr>\n",
       "      <th id=\"T_31d0a_level0_row13\" class=\"row_heading level0 row13\" >13</th>\n",
       "      <td id=\"T_31d0a_row13_col0\" class=\"data row13 col0\" >Fold Number</td>\n",
       "      <td id=\"T_31d0a_row13_col1\" class=\"data row13 col1\" >10</td>\n",
       "    </tr>\n",
       "    <tr>\n",
       "      <th id=\"T_31d0a_level0_row14\" class=\"row_heading level0 row14\" >14</th>\n",
       "      <td id=\"T_31d0a_row14_col0\" class=\"data row14 col0\" >CPU Jobs</td>\n",
       "      <td id=\"T_31d0a_row14_col1\" class=\"data row14 col1\" >-1</td>\n",
       "    </tr>\n",
       "    <tr>\n",
       "      <th id=\"T_31d0a_level0_row15\" class=\"row_heading level0 row15\" >15</th>\n",
       "      <td id=\"T_31d0a_row15_col0\" class=\"data row15 col0\" >Use GPU</td>\n",
       "      <td id=\"T_31d0a_row15_col1\" class=\"data row15 col1\" >False</td>\n",
       "    </tr>\n",
       "    <tr>\n",
       "      <th id=\"T_31d0a_level0_row16\" class=\"row_heading level0 row16\" >16</th>\n",
       "      <td id=\"T_31d0a_row16_col0\" class=\"data row16 col0\" >Log Experiment</td>\n",
       "      <td id=\"T_31d0a_row16_col1\" class=\"data row16 col1\" >False</td>\n",
       "    </tr>\n",
       "    <tr>\n",
       "      <th id=\"T_31d0a_level0_row17\" class=\"row_heading level0 row17\" >17</th>\n",
       "      <td id=\"T_31d0a_row17_col0\" class=\"data row17 col0\" >Experiment Name</td>\n",
       "      <td id=\"T_31d0a_row17_col1\" class=\"data row17 col1\" >clf-default-name</td>\n",
       "    </tr>\n",
       "    <tr>\n",
       "      <th id=\"T_31d0a_level0_row18\" class=\"row_heading level0 row18\" >18</th>\n",
       "      <td id=\"T_31d0a_row18_col0\" class=\"data row18 col0\" >USI</td>\n",
       "      <td id=\"T_31d0a_row18_col1\" class=\"data row18 col1\" >7588</td>\n",
       "    </tr>\n",
       "  </tbody>\n",
       "</table>\n"
      ],
      "text/plain": [
       "<pandas.io.formats.style.Styler at 0xffff10d50e50>"
      ]
     },
     "metadata": {},
     "output_type": "display_data"
    },
    {
     "name": "stdout",
     "output_type": "stream",
     "text": [
      "lr\n"
     ]
    },
    {
     "data": {
      "text/html": [],
      "text/plain": [
       "<IPython.core.display.HTML object>"
      ]
     },
     "metadata": {},
     "output_type": "display_data"
    },
    {
     "data": {
      "text/html": [
       "<style type=\"text/css\">\n",
       "</style>\n",
       "<table id=\"T_a389f\">\n",
       "  <thead>\n",
       "    <tr>\n",
       "      <th class=\"blank level0\" >&nbsp;</th>\n",
       "      <th id=\"T_a389f_level0_col0\" class=\"col_heading level0 col0\" >Accuracy</th>\n",
       "      <th id=\"T_a389f_level0_col1\" class=\"col_heading level0 col1\" >AUC</th>\n",
       "      <th id=\"T_a389f_level0_col2\" class=\"col_heading level0 col2\" >Recall</th>\n",
       "      <th id=\"T_a389f_level0_col3\" class=\"col_heading level0 col3\" >Prec.</th>\n",
       "      <th id=\"T_a389f_level0_col4\" class=\"col_heading level0 col4\" >F1</th>\n",
       "      <th id=\"T_a389f_level0_col5\" class=\"col_heading level0 col5\" >Kappa</th>\n",
       "      <th id=\"T_a389f_level0_col6\" class=\"col_heading level0 col6\" >MCC</th>\n",
       "    </tr>\n",
       "  </thead>\n",
       "  <tbody>\n",
       "    <tr>\n",
       "      <th id=\"T_a389f_level0_row0\" class=\"row_heading level0 row0\" >Test</th>\n",
       "      <td id=\"T_a389f_row0_col0\" class=\"data row0 col0\" >0.9267</td>\n",
       "      <td id=\"T_a389f_row0_col1\" class=\"data row0 col1\" >0.9759</td>\n",
       "      <td id=\"T_a389f_row0_col2\" class=\"data row0 col2\" >0.9346</td>\n",
       "      <td id=\"T_a389f_row0_col3\" class=\"data row0 col3\" >0.9226</td>\n",
       "      <td id=\"T_a389f_row0_col4\" class=\"data row0 col4\" >0.9286</td>\n",
       "      <td id=\"T_a389f_row0_col5\" class=\"data row0 col5\" >0.8532</td>\n",
       "      <td id=\"T_a389f_row0_col6\" class=\"data row0 col6\" >0.8533</td>\n",
       "    </tr>\n",
       "  </tbody>\n",
       "</table>\n"
      ],
      "text/plain": [
       "<pandas.io.formats.style.Styler at 0xffff2e64e8f0>"
      ]
     },
     "metadata": {},
     "output_type": "display_data"
    },
    {
     "data": {
      "text/html": [],
      "text/plain": [
       "<IPython.core.display.HTML object>"
      ]
     },
     "metadata": {},
     "output_type": "display_data"
    },
    {
     "name": "stdout",
     "output_type": "stream",
     "text": [
      "knn\n"
     ]
    },
    {
     "data": {
      "text/html": [],
      "text/plain": [
       "<IPython.core.display.HTML object>"
      ]
     },
     "metadata": {},
     "output_type": "display_data"
    },
    {
     "data": {
      "text/html": [
       "<style type=\"text/css\">\n",
       "</style>\n",
       "<table id=\"T_f1b1c\">\n",
       "  <thead>\n",
       "    <tr>\n",
       "      <th class=\"blank level0\" >&nbsp;</th>\n",
       "      <th id=\"T_f1b1c_level0_col0\" class=\"col_heading level0 col0\" >Accuracy</th>\n",
       "      <th id=\"T_f1b1c_level0_col1\" class=\"col_heading level0 col1\" >AUC</th>\n",
       "      <th id=\"T_f1b1c_level0_col2\" class=\"col_heading level0 col2\" >Recall</th>\n",
       "      <th id=\"T_f1b1c_level0_col3\" class=\"col_heading level0 col3\" >Prec.</th>\n",
       "      <th id=\"T_f1b1c_level0_col4\" class=\"col_heading level0 col4\" >F1</th>\n",
       "      <th id=\"T_f1b1c_level0_col5\" class=\"col_heading level0 col5\" >Kappa</th>\n",
       "      <th id=\"T_f1b1c_level0_col6\" class=\"col_heading level0 col6\" >MCC</th>\n",
       "    </tr>\n",
       "  </thead>\n",
       "  <tbody>\n",
       "    <tr>\n",
       "      <th id=\"T_f1b1c_level0_row0\" class=\"row_heading level0 row0\" >Test</th>\n",
       "      <td id=\"T_f1b1c_row0_col0\" class=\"data row0 col0\" >0.9433</td>\n",
       "      <td id=\"T_f1b1c_row0_col1\" class=\"data row0 col1\" >0.9574</td>\n",
       "      <td id=\"T_f1b1c_row0_col2\" class=\"data row0 col2\" >0.9412</td>\n",
       "      <td id=\"T_f1b1c_row0_col3\" class=\"data row0 col3\" >0.9474</td>\n",
       "      <td id=\"T_f1b1c_row0_col4\" class=\"data row0 col4\" >0.9443</td>\n",
       "      <td id=\"T_f1b1c_row0_col5\" class=\"data row0 col5\" >0.8866</td>\n",
       "      <td id=\"T_f1b1c_row0_col6\" class=\"data row0 col6\" >0.8867</td>\n",
       "    </tr>\n",
       "  </tbody>\n",
       "</table>\n"
      ],
      "text/plain": [
       "<pandas.io.formats.style.Styler at 0xffff2fc8f070>"
      ]
     },
     "metadata": {},
     "output_type": "display_data"
    },
    {
     "data": {
      "text/html": [],
      "text/plain": [
       "<IPython.core.display.HTML object>"
      ]
     },
     "metadata": {},
     "output_type": "display_data"
    },
    {
     "name": "stdout",
     "output_type": "stream",
     "text": [
      "nb\n"
     ]
    },
    {
     "data": {
      "text/html": [],
      "text/plain": [
       "<IPython.core.display.HTML object>"
      ]
     },
     "metadata": {},
     "output_type": "display_data"
    },
    {
     "data": {
      "text/html": [
       "<style type=\"text/css\">\n",
       "</style>\n",
       "<table id=\"T_fa298\">\n",
       "  <thead>\n",
       "    <tr>\n",
       "      <th class=\"blank level0\" >&nbsp;</th>\n",
       "      <th id=\"T_fa298_level0_col0\" class=\"col_heading level0 col0\" >Accuracy</th>\n",
       "      <th id=\"T_fa298_level0_col1\" class=\"col_heading level0 col1\" >AUC</th>\n",
       "      <th id=\"T_fa298_level0_col2\" class=\"col_heading level0 col2\" >Recall</th>\n",
       "      <th id=\"T_fa298_level0_col3\" class=\"col_heading level0 col3\" >Prec.</th>\n",
       "      <th id=\"T_fa298_level0_col4\" class=\"col_heading level0 col4\" >F1</th>\n",
       "      <th id=\"T_fa298_level0_col5\" class=\"col_heading level0 col5\" >Kappa</th>\n",
       "      <th id=\"T_fa298_level0_col6\" class=\"col_heading level0 col6\" >MCC</th>\n",
       "    </tr>\n",
       "  </thead>\n",
       "  <tbody>\n",
       "    <tr>\n",
       "      <th id=\"T_fa298_level0_row0\" class=\"row_heading level0 row0\" >Test</th>\n",
       "      <td id=\"T_fa298_row0_col0\" class=\"data row0 col0\" >0.9100</td>\n",
       "      <td id=\"T_fa298_row0_col1\" class=\"data row0 col1\" >0.9663</td>\n",
       "      <td id=\"T_fa298_row0_col2\" class=\"data row0 col2\" >0.9216</td>\n",
       "      <td id=\"T_fa298_row0_col3\" class=\"data row0 col3\" >0.9038</td>\n",
       "      <td id=\"T_fa298_row0_col4\" class=\"data row0 col4\" >0.9126</td>\n",
       "      <td id=\"T_fa298_row0_col5\" class=\"data row0 col5\" >0.8199</td>\n",
       "      <td id=\"T_fa298_row0_col6\" class=\"data row0 col6\" >0.8200</td>\n",
       "    </tr>\n",
       "  </tbody>\n",
       "</table>\n"
      ],
      "text/plain": [
       "<pandas.io.formats.style.Styler at 0xffff34bbbd60>"
      ]
     },
     "metadata": {},
     "output_type": "display_data"
    },
    {
     "data": {
      "text/html": [],
      "text/plain": [
       "<IPython.core.display.HTML object>"
      ]
     },
     "metadata": {},
     "output_type": "display_data"
    },
    {
     "name": "stdout",
     "output_type": "stream",
     "text": [
      "dt\n"
     ]
    },
    {
     "data": {
      "text/html": [],
      "text/plain": [
       "<IPython.core.display.HTML object>"
      ]
     },
     "metadata": {},
     "output_type": "display_data"
    },
    {
     "data": {
      "text/html": [
       "<style type=\"text/css\">\n",
       "</style>\n",
       "<table id=\"T_80d94\">\n",
       "  <thead>\n",
       "    <tr>\n",
       "      <th class=\"blank level0\" >&nbsp;</th>\n",
       "      <th id=\"T_80d94_level0_col0\" class=\"col_heading level0 col0\" >Accuracy</th>\n",
       "      <th id=\"T_80d94_level0_col1\" class=\"col_heading level0 col1\" >AUC</th>\n",
       "      <th id=\"T_80d94_level0_col2\" class=\"col_heading level0 col2\" >Recall</th>\n",
       "      <th id=\"T_80d94_level0_col3\" class=\"col_heading level0 col3\" >Prec.</th>\n",
       "      <th id=\"T_80d94_level0_col4\" class=\"col_heading level0 col4\" >F1</th>\n",
       "      <th id=\"T_80d94_level0_col5\" class=\"col_heading level0 col5\" >Kappa</th>\n",
       "      <th id=\"T_80d94_level0_col6\" class=\"col_heading level0 col6\" >MCC</th>\n",
       "    </tr>\n",
       "  </thead>\n",
       "  <tbody>\n",
       "    <tr>\n",
       "      <th id=\"T_80d94_level0_row0\" class=\"row_heading level0 row0\" >Test</th>\n",
       "      <td id=\"T_80d94_row0_col0\" class=\"data row0 col0\" >0.9100</td>\n",
       "      <td id=\"T_80d94_row0_col1\" class=\"data row0 col1\" >0.9096</td>\n",
       "      <td id=\"T_80d94_row0_col2\" class=\"data row0 col2\" >0.9281</td>\n",
       "      <td id=\"T_80d94_row0_col3\" class=\"data row0 col3\" >0.8987</td>\n",
       "      <td id=\"T_80d94_row0_col4\" class=\"data row0 col4\" >0.9132</td>\n",
       "      <td id=\"T_80d94_row0_col5\" class=\"data row0 col5\" >0.8198</td>\n",
       "      <td id=\"T_80d94_row0_col6\" class=\"data row0 col6\" >0.8203</td>\n",
       "    </tr>\n",
       "  </tbody>\n",
       "</table>\n"
      ],
      "text/plain": [
       "<pandas.io.formats.style.Styler at 0xffff2c157310>"
      ]
     },
     "metadata": {},
     "output_type": "display_data"
    },
    {
     "data": {
      "text/html": [],
      "text/plain": [
       "<IPython.core.display.HTML object>"
      ]
     },
     "metadata": {},
     "output_type": "display_data"
    },
    {
     "name": "stdout",
     "output_type": "stream",
     "text": [
      "svm\n"
     ]
    },
    {
     "data": {
      "text/html": [],
      "text/plain": [
       "<IPython.core.display.HTML object>"
      ]
     },
     "metadata": {},
     "output_type": "display_data"
    },
    {
     "data": {
      "text/html": [
       "<style type=\"text/css\">\n",
       "</style>\n",
       "<table id=\"T_93ff7\">\n",
       "  <thead>\n",
       "    <tr>\n",
       "      <th class=\"blank level0\" >&nbsp;</th>\n",
       "      <th id=\"T_93ff7_level0_col0\" class=\"col_heading level0 col0\" >Accuracy</th>\n",
       "      <th id=\"T_93ff7_level0_col1\" class=\"col_heading level0 col1\" >AUC</th>\n",
       "      <th id=\"T_93ff7_level0_col2\" class=\"col_heading level0 col2\" >Recall</th>\n",
       "      <th id=\"T_93ff7_level0_col3\" class=\"col_heading level0 col3\" >Prec.</th>\n",
       "      <th id=\"T_93ff7_level0_col4\" class=\"col_heading level0 col4\" >F1</th>\n",
       "      <th id=\"T_93ff7_level0_col5\" class=\"col_heading level0 col5\" >Kappa</th>\n",
       "      <th id=\"T_93ff7_level0_col6\" class=\"col_heading level0 col6\" >MCC</th>\n",
       "    </tr>\n",
       "  </thead>\n",
       "  <tbody>\n",
       "    <tr>\n",
       "      <th id=\"T_93ff7_level0_row0\" class=\"row_heading level0 row0\" >Test</th>\n",
       "      <td id=\"T_93ff7_row0_col0\" class=\"data row0 col0\" >0.9200</td>\n",
       "      <td id=\"T_93ff7_row0_col1\" class=\"data row0 col1\" >0.9202</td>\n",
       "      <td id=\"T_93ff7_row0_col2\" class=\"data row0 col2\" >0.9085</td>\n",
       "      <td id=\"T_93ff7_row0_col3\" class=\"data row0 col3\" >0.9329</td>\n",
       "      <td id=\"T_93ff7_row0_col4\" class=\"data row0 col4\" >0.9205</td>\n",
       "      <td id=\"T_93ff7_row0_col5\" class=\"data row0 col5\" >0.8400</td>\n",
       "      <td id=\"T_93ff7_row0_col6\" class=\"data row0 col6\" >0.8403</td>\n",
       "    </tr>\n",
       "  </tbody>\n",
       "</table>\n"
      ],
      "text/plain": [
       "<pandas.io.formats.style.Styler at 0xffff2c1e6110>"
      ]
     },
     "metadata": {},
     "output_type": "display_data"
    },
    {
     "data": {
      "text/html": [],
      "text/plain": [
       "<IPython.core.display.HTML object>"
      ]
     },
     "metadata": {},
     "output_type": "display_data"
    },
    {
     "name": "stdout",
     "output_type": "stream",
     "text": [
      "rbfsvm\n"
     ]
    },
    {
     "data": {
      "text/html": [],
      "text/plain": [
       "<IPython.core.display.HTML object>"
      ]
     },
     "metadata": {},
     "output_type": "display_data"
    },
    {
     "data": {
      "text/html": [
       "<style type=\"text/css\">\n",
       "</style>\n",
       "<table id=\"T_d5d25\">\n",
       "  <thead>\n",
       "    <tr>\n",
       "      <th class=\"blank level0\" >&nbsp;</th>\n",
       "      <th id=\"T_d5d25_level0_col0\" class=\"col_heading level0 col0\" >Accuracy</th>\n",
       "      <th id=\"T_d5d25_level0_col1\" class=\"col_heading level0 col1\" >AUC</th>\n",
       "      <th id=\"T_d5d25_level0_col2\" class=\"col_heading level0 col2\" >Recall</th>\n",
       "      <th id=\"T_d5d25_level0_col3\" class=\"col_heading level0 col3\" >Prec.</th>\n",
       "      <th id=\"T_d5d25_level0_col4\" class=\"col_heading level0 col4\" >F1</th>\n",
       "      <th id=\"T_d5d25_level0_col5\" class=\"col_heading level0 col5\" >Kappa</th>\n",
       "      <th id=\"T_d5d25_level0_col6\" class=\"col_heading level0 col6\" >MCC</th>\n",
       "    </tr>\n",
       "  </thead>\n",
       "  <tbody>\n",
       "    <tr>\n",
       "      <th id=\"T_d5d25_level0_row0\" class=\"row_heading level0 row0\" >Test</th>\n",
       "      <td id=\"T_d5d25_row0_col0\" class=\"data row0 col0\" >0.9367</td>\n",
       "      <td id=\"T_d5d25_row0_col1\" class=\"data row0 col1\" >0.9705</td>\n",
       "      <td id=\"T_d5d25_row0_col2\" class=\"data row0 col2\" >0.9542</td>\n",
       "      <td id=\"T_d5d25_row0_col3\" class=\"data row0 col3\" >0.9241</td>\n",
       "      <td id=\"T_d5d25_row0_col4\" class=\"data row0 col4\" >0.9389</td>\n",
       "      <td id=\"T_d5d25_row0_col5\" class=\"data row0 col5\" >0.8732</td>\n",
       "      <td id=\"T_d5d25_row0_col6\" class=\"data row0 col6\" >0.8737</td>\n",
       "    </tr>\n",
       "  </tbody>\n",
       "</table>\n"
      ],
      "text/plain": [
       "<pandas.io.formats.style.Styler at 0xffff2f183ac0>"
      ]
     },
     "metadata": {},
     "output_type": "display_data"
    },
    {
     "data": {
      "text/html": [],
      "text/plain": [
       "<IPython.core.display.HTML object>"
      ]
     },
     "metadata": {},
     "output_type": "display_data"
    },
    {
     "name": "stdout",
     "output_type": "stream",
     "text": [
      "gpc\n"
     ]
    },
    {
     "data": {
      "text/html": [],
      "text/plain": [
       "<IPython.core.display.HTML object>"
      ]
     },
     "metadata": {},
     "output_type": "display_data"
    },
    {
     "data": {
      "text/html": [
       "<style type=\"text/css\">\n",
       "</style>\n",
       "<table id=\"T_0fe56\">\n",
       "  <thead>\n",
       "    <tr>\n",
       "      <th class=\"blank level0\" >&nbsp;</th>\n",
       "      <th id=\"T_0fe56_level0_col0\" class=\"col_heading level0 col0\" >Accuracy</th>\n",
       "      <th id=\"T_0fe56_level0_col1\" class=\"col_heading level0 col1\" >AUC</th>\n",
       "      <th id=\"T_0fe56_level0_col2\" class=\"col_heading level0 col2\" >Recall</th>\n",
       "      <th id=\"T_0fe56_level0_col3\" class=\"col_heading level0 col3\" >Prec.</th>\n",
       "      <th id=\"T_0fe56_level0_col4\" class=\"col_heading level0 col4\" >F1</th>\n",
       "      <th id=\"T_0fe56_level0_col5\" class=\"col_heading level0 col5\" >Kappa</th>\n",
       "      <th id=\"T_0fe56_level0_col6\" class=\"col_heading level0 col6\" >MCC</th>\n",
       "    </tr>\n",
       "  </thead>\n",
       "  <tbody>\n",
       "    <tr>\n",
       "      <th id=\"T_0fe56_level0_row0\" class=\"row_heading level0 row0\" >Test</th>\n",
       "      <td id=\"T_0fe56_row0_col0\" class=\"data row0 col0\" >0.9367</td>\n",
       "      <td id=\"T_0fe56_row0_col1\" class=\"data row0 col1\" >0.9671</td>\n",
       "      <td id=\"T_0fe56_row0_col2\" class=\"data row0 col2\" >0.9346</td>\n",
       "      <td id=\"T_0fe56_row0_col3\" class=\"data row0 col3\" >0.9408</td>\n",
       "      <td id=\"T_0fe56_row0_col4\" class=\"data row0 col4\" >0.9377</td>\n",
       "      <td id=\"T_0fe56_row0_col5\" class=\"data row0 col5\" >0.8733</td>\n",
       "      <td id=\"T_0fe56_row0_col6\" class=\"data row0 col6\" >0.8733</td>\n",
       "    </tr>\n",
       "  </tbody>\n",
       "</table>\n"
      ],
      "text/plain": [
       "<pandas.io.formats.style.Styler at 0xffff2f059e40>"
      ]
     },
     "metadata": {},
     "output_type": "display_data"
    },
    {
     "data": {
      "text/html": [],
      "text/plain": [
       "<IPython.core.display.HTML object>"
      ]
     },
     "metadata": {},
     "output_type": "display_data"
    },
    {
     "name": "stdout",
     "output_type": "stream",
     "text": [
      "mlp\n"
     ]
    },
    {
     "data": {
      "text/html": [],
      "text/plain": [
       "<IPython.core.display.HTML object>"
      ]
     },
     "metadata": {},
     "output_type": "display_data"
    },
    {
     "data": {
      "text/html": [
       "<style type=\"text/css\">\n",
       "</style>\n",
       "<table id=\"T_a3eb3\">\n",
       "  <thead>\n",
       "    <tr>\n",
       "      <th class=\"blank level0\" >&nbsp;</th>\n",
       "      <th id=\"T_a3eb3_level0_col0\" class=\"col_heading level0 col0\" >Accuracy</th>\n",
       "      <th id=\"T_a3eb3_level0_col1\" class=\"col_heading level0 col1\" >AUC</th>\n",
       "      <th id=\"T_a3eb3_level0_col2\" class=\"col_heading level0 col2\" >Recall</th>\n",
       "      <th id=\"T_a3eb3_level0_col3\" class=\"col_heading level0 col3\" >Prec.</th>\n",
       "      <th id=\"T_a3eb3_level0_col4\" class=\"col_heading level0 col4\" >F1</th>\n",
       "      <th id=\"T_a3eb3_level0_col5\" class=\"col_heading level0 col5\" >Kappa</th>\n",
       "      <th id=\"T_a3eb3_level0_col6\" class=\"col_heading level0 col6\" >MCC</th>\n",
       "    </tr>\n",
       "  </thead>\n",
       "  <tbody>\n",
       "    <tr>\n",
       "      <th id=\"T_a3eb3_level0_row0\" class=\"row_heading level0 row0\" >Test</th>\n",
       "      <td id=\"T_a3eb3_row0_col0\" class=\"data row0 col0\" >0.9500</td>\n",
       "      <td id=\"T_a3eb3_row0_col1\" class=\"data row0 col1\" >0.9799</td>\n",
       "      <td id=\"T_a3eb3_row0_col2\" class=\"data row0 col2\" >0.9542</td>\n",
       "      <td id=\"T_a3eb3_row0_col3\" class=\"data row0 col3\" >0.9481</td>\n",
       "      <td id=\"T_a3eb3_row0_col4\" class=\"data row0 col4\" >0.9511</td>\n",
       "      <td id=\"T_a3eb3_row0_col5\" class=\"data row0 col5\" >0.8999</td>\n",
       "      <td id=\"T_a3eb3_row0_col6\" class=\"data row0 col6\" >0.9000</td>\n",
       "    </tr>\n",
       "  </tbody>\n",
       "</table>\n"
      ],
      "text/plain": [
       "<pandas.io.formats.style.Styler at 0xffff2f119a80>"
      ]
     },
     "metadata": {},
     "output_type": "display_data"
    },
    {
     "data": {
      "text/html": [],
      "text/plain": [
       "<IPython.core.display.HTML object>"
      ]
     },
     "metadata": {},
     "output_type": "display_data"
    },
    {
     "name": "stdout",
     "output_type": "stream",
     "text": [
      "ridge\n"
     ]
    },
    {
     "data": {
      "text/html": [],
      "text/plain": [
       "<IPython.core.display.HTML object>"
      ]
     },
     "metadata": {},
     "output_type": "display_data"
    },
    {
     "data": {
      "text/html": [
       "<style type=\"text/css\">\n",
       "</style>\n",
       "<table id=\"T_c5375\">\n",
       "  <thead>\n",
       "    <tr>\n",
       "      <th class=\"blank level0\" >&nbsp;</th>\n",
       "      <th id=\"T_c5375_level0_col0\" class=\"col_heading level0 col0\" >Accuracy</th>\n",
       "      <th id=\"T_c5375_level0_col1\" class=\"col_heading level0 col1\" >AUC</th>\n",
       "      <th id=\"T_c5375_level0_col2\" class=\"col_heading level0 col2\" >Recall</th>\n",
       "      <th id=\"T_c5375_level0_col3\" class=\"col_heading level0 col3\" >Prec.</th>\n",
       "      <th id=\"T_c5375_level0_col4\" class=\"col_heading level0 col4\" >F1</th>\n",
       "      <th id=\"T_c5375_level0_col5\" class=\"col_heading level0 col5\" >Kappa</th>\n",
       "      <th id=\"T_c5375_level0_col6\" class=\"col_heading level0 col6\" >MCC</th>\n",
       "    </tr>\n",
       "  </thead>\n",
       "  <tbody>\n",
       "    <tr>\n",
       "      <th id=\"T_c5375_level0_row0\" class=\"row_heading level0 row0\" >Test</th>\n",
       "      <td id=\"T_c5375_row0_col0\" class=\"data row0 col0\" >0.8867</td>\n",
       "      <td id=\"T_c5375_row0_col1\" class=\"data row0 col1\" >0.8870</td>\n",
       "      <td id=\"T_c5375_row0_col2\" class=\"data row0 col2\" >0.8693</td>\n",
       "      <td id=\"T_c5375_row0_col3\" class=\"data row0 col3\" >0.9048</td>\n",
       "      <td id=\"T_c5375_row0_col4\" class=\"data row0 col4\" >0.8867</td>\n",
       "      <td id=\"T_c5375_row0_col5\" class=\"data row0 col5\" >0.7734</td>\n",
       "      <td id=\"T_c5375_row0_col6\" class=\"data row0 col6\" >0.7740</td>\n",
       "    </tr>\n",
       "  </tbody>\n",
       "</table>\n"
      ],
      "text/plain": [
       "<pandas.io.formats.style.Styler at 0xffff2f11a7d0>"
      ]
     },
     "metadata": {},
     "output_type": "display_data"
    },
    {
     "data": {
      "text/html": [],
      "text/plain": [
       "<IPython.core.display.HTML object>"
      ]
     },
     "metadata": {},
     "output_type": "display_data"
    },
    {
     "name": "stdout",
     "output_type": "stream",
     "text": [
      "rf\n"
     ]
    },
    {
     "data": {
      "text/html": [],
      "text/plain": [
       "<IPython.core.display.HTML object>"
      ]
     },
     "metadata": {},
     "output_type": "display_data"
    },
    {
     "data": {
      "text/html": [
       "<style type=\"text/css\">\n",
       "</style>\n",
       "<table id=\"T_148c6\">\n",
       "  <thead>\n",
       "    <tr>\n",
       "      <th class=\"blank level0\" >&nbsp;</th>\n",
       "      <th id=\"T_148c6_level0_col0\" class=\"col_heading level0 col0\" >Accuracy</th>\n",
       "      <th id=\"T_148c6_level0_col1\" class=\"col_heading level0 col1\" >AUC</th>\n",
       "      <th id=\"T_148c6_level0_col2\" class=\"col_heading level0 col2\" >Recall</th>\n",
       "      <th id=\"T_148c6_level0_col3\" class=\"col_heading level0 col3\" >Prec.</th>\n",
       "      <th id=\"T_148c6_level0_col4\" class=\"col_heading level0 col4\" >F1</th>\n",
       "      <th id=\"T_148c6_level0_col5\" class=\"col_heading level0 col5\" >Kappa</th>\n",
       "      <th id=\"T_148c6_level0_col6\" class=\"col_heading level0 col6\" >MCC</th>\n",
       "    </tr>\n",
       "  </thead>\n",
       "  <tbody>\n",
       "    <tr>\n",
       "      <th id=\"T_148c6_level0_row0\" class=\"row_heading level0 row0\" >Test</th>\n",
       "      <td id=\"T_148c6_row0_col0\" class=\"data row0 col0\" >0.9467</td>\n",
       "      <td id=\"T_148c6_row0_col1\" class=\"data row0 col1\" >0.9657</td>\n",
       "      <td id=\"T_148c6_row0_col2\" class=\"data row0 col2\" >0.9477</td>\n",
       "      <td id=\"T_148c6_row0_col3\" class=\"data row0 col3\" >0.9477</td>\n",
       "      <td id=\"T_148c6_row0_col4\" class=\"data row0 col4\" >0.9477</td>\n",
       "      <td id=\"T_148c6_row0_col5\" class=\"data row0 col5\" >0.8933</td>\n",
       "      <td id=\"T_148c6_row0_col6\" class=\"data row0 col6\" >0.8933</td>\n",
       "    </tr>\n",
       "  </tbody>\n",
       "</table>\n"
      ],
      "text/plain": [
       "<pandas.io.formats.style.Styler at 0xffff51792470>"
      ]
     },
     "metadata": {},
     "output_type": "display_data"
    },
    {
     "data": {
      "text/html": [],
      "text/plain": [
       "<IPython.core.display.HTML object>"
      ]
     },
     "metadata": {},
     "output_type": "display_data"
    },
    {
     "name": "stdout",
     "output_type": "stream",
     "text": [
      "qda\n"
     ]
    },
    {
     "data": {
      "text/html": [],
      "text/plain": [
       "<IPython.core.display.HTML object>"
      ]
     },
     "metadata": {},
     "output_type": "display_data"
    },
    {
     "data": {
      "text/html": [
       "<style type=\"text/css\">\n",
       "</style>\n",
       "<table id=\"T_48af3\">\n",
       "  <thead>\n",
       "    <tr>\n",
       "      <th class=\"blank level0\" >&nbsp;</th>\n",
       "      <th id=\"T_48af3_level0_col0\" class=\"col_heading level0 col0\" >Accuracy</th>\n",
       "      <th id=\"T_48af3_level0_col1\" class=\"col_heading level0 col1\" >AUC</th>\n",
       "      <th id=\"T_48af3_level0_col2\" class=\"col_heading level0 col2\" >Recall</th>\n",
       "      <th id=\"T_48af3_level0_col3\" class=\"col_heading level0 col3\" >Prec.</th>\n",
       "      <th id=\"T_48af3_level0_col4\" class=\"col_heading level0 col4\" >F1</th>\n",
       "      <th id=\"T_48af3_level0_col5\" class=\"col_heading level0 col5\" >Kappa</th>\n",
       "      <th id=\"T_48af3_level0_col6\" class=\"col_heading level0 col6\" >MCC</th>\n",
       "    </tr>\n",
       "  </thead>\n",
       "  <tbody>\n",
       "    <tr>\n",
       "      <th id=\"T_48af3_level0_row0\" class=\"row_heading level0 row0\" >Test</th>\n",
       "      <td id=\"T_48af3_row0_col0\" class=\"data row0 col0\" >0.8700</td>\n",
       "      <td id=\"T_48af3_row0_col1\" class=\"data row0 col1\" >0.9465</td>\n",
       "      <td id=\"T_48af3_row0_col2\" class=\"data row0 col2\" >0.8627</td>\n",
       "      <td id=\"T_48af3_row0_col3\" class=\"data row0 col3\" >0.8800</td>\n",
       "      <td id=\"T_48af3_row0_col4\" class=\"data row0 col4\" >0.8713</td>\n",
       "      <td id=\"T_48af3_row0_col5\" class=\"data row0 col5\" >0.7400</td>\n",
       "      <td id=\"T_48af3_row0_col6\" class=\"data row0 col6\" >0.7401</td>\n",
       "    </tr>\n",
       "  </tbody>\n",
       "</table>\n"
      ],
      "text/plain": [
       "<pandas.io.formats.style.Styler at 0xffff2f15c1f0>"
      ]
     },
     "metadata": {},
     "output_type": "display_data"
    },
    {
     "data": {
      "text/html": [],
      "text/plain": [
       "<IPython.core.display.HTML object>"
      ]
     },
     "metadata": {},
     "output_type": "display_data"
    },
    {
     "name": "stdout",
     "output_type": "stream",
     "text": [
      "ada\n"
     ]
    },
    {
     "data": {
      "text/html": [],
      "text/plain": [
       "<IPython.core.display.HTML object>"
      ]
     },
     "metadata": {},
     "output_type": "display_data"
    },
    {
     "data": {
      "text/html": [
       "<style type=\"text/css\">\n",
       "</style>\n",
       "<table id=\"T_bbd0a\">\n",
       "  <thead>\n",
       "    <tr>\n",
       "      <th class=\"blank level0\" >&nbsp;</th>\n",
       "      <th id=\"T_bbd0a_level0_col0\" class=\"col_heading level0 col0\" >Accuracy</th>\n",
       "      <th id=\"T_bbd0a_level0_col1\" class=\"col_heading level0 col1\" >AUC</th>\n",
       "      <th id=\"T_bbd0a_level0_col2\" class=\"col_heading level0 col2\" >Recall</th>\n",
       "      <th id=\"T_bbd0a_level0_col3\" class=\"col_heading level0 col3\" >Prec.</th>\n",
       "      <th id=\"T_bbd0a_level0_col4\" class=\"col_heading level0 col4\" >F1</th>\n",
       "      <th id=\"T_bbd0a_level0_col5\" class=\"col_heading level0 col5\" >Kappa</th>\n",
       "      <th id=\"T_bbd0a_level0_col6\" class=\"col_heading level0 col6\" >MCC</th>\n",
       "    </tr>\n",
       "  </thead>\n",
       "  <tbody>\n",
       "    <tr>\n",
       "      <th id=\"T_bbd0a_level0_row0\" class=\"row_heading level0 row0\" >Test</th>\n",
       "      <td id=\"T_bbd0a_row0_col0\" class=\"data row0 col0\" >0.9433</td>\n",
       "      <td id=\"T_bbd0a_row0_col1\" class=\"data row0 col1\" >0.9677</td>\n",
       "      <td id=\"T_bbd0a_row0_col2\" class=\"data row0 col2\" >0.9477</td>\n",
       "      <td id=\"T_bbd0a_row0_col3\" class=\"data row0 col3\" >0.9416</td>\n",
       "      <td id=\"T_bbd0a_row0_col4\" class=\"data row0 col4\" >0.9446</td>\n",
       "      <td id=\"T_bbd0a_row0_col5\" class=\"data row0 col5\" >0.8866</td>\n",
       "      <td id=\"T_bbd0a_row0_col6\" class=\"data row0 col6\" >0.8866</td>\n",
       "    </tr>\n",
       "  </tbody>\n",
       "</table>\n"
      ],
      "text/plain": [
       "<pandas.io.formats.style.Styler at 0xffff2f11b9a0>"
      ]
     },
     "metadata": {},
     "output_type": "display_data"
    },
    {
     "data": {
      "text/html": [],
      "text/plain": [
       "<IPython.core.display.HTML object>"
      ]
     },
     "metadata": {},
     "output_type": "display_data"
    },
    {
     "name": "stdout",
     "output_type": "stream",
     "text": [
      "gbc\n"
     ]
    },
    {
     "data": {
      "text/html": [],
      "text/plain": [
       "<IPython.core.display.HTML object>"
      ]
     },
     "metadata": {},
     "output_type": "display_data"
    },
    {
     "data": {
      "text/html": [
       "<style type=\"text/css\">\n",
       "</style>\n",
       "<table id=\"T_243dd\">\n",
       "  <thead>\n",
       "    <tr>\n",
       "      <th class=\"blank level0\" >&nbsp;</th>\n",
       "      <th id=\"T_243dd_level0_col0\" class=\"col_heading level0 col0\" >Accuracy</th>\n",
       "      <th id=\"T_243dd_level0_col1\" class=\"col_heading level0 col1\" >AUC</th>\n",
       "      <th id=\"T_243dd_level0_col2\" class=\"col_heading level0 col2\" >Recall</th>\n",
       "      <th id=\"T_243dd_level0_col3\" class=\"col_heading level0 col3\" >Prec.</th>\n",
       "      <th id=\"T_243dd_level0_col4\" class=\"col_heading level0 col4\" >F1</th>\n",
       "      <th id=\"T_243dd_level0_col5\" class=\"col_heading level0 col5\" >Kappa</th>\n",
       "      <th id=\"T_243dd_level0_col6\" class=\"col_heading level0 col6\" >MCC</th>\n",
       "    </tr>\n",
       "  </thead>\n",
       "  <tbody>\n",
       "    <tr>\n",
       "      <th id=\"T_243dd_level0_row0\" class=\"row_heading level0 row0\" >Test</th>\n",
       "      <td id=\"T_243dd_row0_col0\" class=\"data row0 col0\" >0.9400</td>\n",
       "      <td id=\"T_243dd_row0_col1\" class=\"data row0 col1\" >0.9597</td>\n",
       "      <td id=\"T_243dd_row0_col2\" class=\"data row0 col2\" >0.9542</td>\n",
       "      <td id=\"T_243dd_row0_col3\" class=\"data row0 col3\" >0.9299</td>\n",
       "      <td id=\"T_243dd_row0_col4\" class=\"data row0 col4\" >0.9419</td>\n",
       "      <td id=\"T_243dd_row0_col5\" class=\"data row0 col5\" >0.8799</td>\n",
       "      <td id=\"T_243dd_row0_col6\" class=\"data row0 col6\" >0.8802</td>\n",
       "    </tr>\n",
       "  </tbody>\n",
       "</table>\n"
      ],
      "text/plain": [
       "<pandas.io.formats.style.Styler at 0xffff51792470>"
      ]
     },
     "metadata": {},
     "output_type": "display_data"
    },
    {
     "data": {
      "text/html": [],
      "text/plain": [
       "<IPython.core.display.HTML object>"
      ]
     },
     "metadata": {},
     "output_type": "display_data"
    },
    {
     "name": "stdout",
     "output_type": "stream",
     "text": [
      "lda\n"
     ]
    },
    {
     "data": {
      "text/html": [],
      "text/plain": [
       "<IPython.core.display.HTML object>"
      ]
     },
     "metadata": {},
     "output_type": "display_data"
    },
    {
     "data": {
      "text/html": [
       "<style type=\"text/css\">\n",
       "</style>\n",
       "<table id=\"T_fe3ee\">\n",
       "  <thead>\n",
       "    <tr>\n",
       "      <th class=\"blank level0\" >&nbsp;</th>\n",
       "      <th id=\"T_fe3ee_level0_col0\" class=\"col_heading level0 col0\" >Accuracy</th>\n",
       "      <th id=\"T_fe3ee_level0_col1\" class=\"col_heading level0 col1\" >AUC</th>\n",
       "      <th id=\"T_fe3ee_level0_col2\" class=\"col_heading level0 col2\" >Recall</th>\n",
       "      <th id=\"T_fe3ee_level0_col3\" class=\"col_heading level0 col3\" >Prec.</th>\n",
       "      <th id=\"T_fe3ee_level0_col4\" class=\"col_heading level0 col4\" >F1</th>\n",
       "      <th id=\"T_fe3ee_level0_col5\" class=\"col_heading level0 col5\" >Kappa</th>\n",
       "      <th id=\"T_fe3ee_level0_col6\" class=\"col_heading level0 col6\" >MCC</th>\n",
       "    </tr>\n",
       "  </thead>\n",
       "  <tbody>\n",
       "    <tr>\n",
       "      <th id=\"T_fe3ee_level0_row0\" class=\"row_heading level0 row0\" >Test</th>\n",
       "      <td id=\"T_fe3ee_row0_col0\" class=\"data row0 col0\" >0.8767</td>\n",
       "      <td id=\"T_fe3ee_row0_col1\" class=\"data row0 col1\" >0.9484</td>\n",
       "      <td id=\"T_fe3ee_row0_col2\" class=\"data row0 col2\" >0.8627</td>\n",
       "      <td id=\"T_fe3ee_row0_col3\" class=\"data row0 col3\" >0.8919</td>\n",
       "      <td id=\"T_fe3ee_row0_col4\" class=\"data row0 col4\" >0.8771</td>\n",
       "      <td id=\"T_fe3ee_row0_col5\" class=\"data row0 col5\" >0.7534</td>\n",
       "      <td id=\"T_fe3ee_row0_col6\" class=\"data row0 col6\" >0.7538</td>\n",
       "    </tr>\n",
       "  </tbody>\n",
       "</table>\n"
      ],
      "text/plain": [
       "<pandas.io.formats.style.Styler at 0xffff11fc3670>"
      ]
     },
     "metadata": {},
     "output_type": "display_data"
    },
    {
     "data": {
      "text/html": [],
      "text/plain": [
       "<IPython.core.display.HTML object>"
      ]
     },
     "metadata": {},
     "output_type": "display_data"
    },
    {
     "name": "stdout",
     "output_type": "stream",
     "text": [
      "et\n"
     ]
    },
    {
     "data": {
      "text/html": [],
      "text/plain": [
       "<IPython.core.display.HTML object>"
      ]
     },
     "metadata": {},
     "output_type": "display_data"
    },
    {
     "data": {
      "text/html": [
       "<style type=\"text/css\">\n",
       "</style>\n",
       "<table id=\"T_74103\">\n",
       "  <thead>\n",
       "    <tr>\n",
       "      <th class=\"blank level0\" >&nbsp;</th>\n",
       "      <th id=\"T_74103_level0_col0\" class=\"col_heading level0 col0\" >Accuracy</th>\n",
       "      <th id=\"T_74103_level0_col1\" class=\"col_heading level0 col1\" >AUC</th>\n",
       "      <th id=\"T_74103_level0_col2\" class=\"col_heading level0 col2\" >Recall</th>\n",
       "      <th id=\"T_74103_level0_col3\" class=\"col_heading level0 col3\" >Prec.</th>\n",
       "      <th id=\"T_74103_level0_col4\" class=\"col_heading level0 col4\" >F1</th>\n",
       "      <th id=\"T_74103_level0_col5\" class=\"col_heading level0 col5\" >Kappa</th>\n",
       "      <th id=\"T_74103_level0_col6\" class=\"col_heading level0 col6\" >MCC</th>\n",
       "    </tr>\n",
       "  </thead>\n",
       "  <tbody>\n",
       "    <tr>\n",
       "      <th id=\"T_74103_level0_row0\" class=\"row_heading level0 row0\" >Test</th>\n",
       "      <td id=\"T_74103_row0_col0\" class=\"data row0 col0\" >0.9433</td>\n",
       "      <td id=\"T_74103_row0_col1\" class=\"data row0 col1\" >0.9668</td>\n",
       "      <td id=\"T_74103_row0_col2\" class=\"data row0 col2\" >0.9477</td>\n",
       "      <td id=\"T_74103_row0_col3\" class=\"data row0 col3\" >0.9416</td>\n",
       "      <td id=\"T_74103_row0_col4\" class=\"data row0 col4\" >0.9446</td>\n",
       "      <td id=\"T_74103_row0_col5\" class=\"data row0 col5\" >0.8866</td>\n",
       "      <td id=\"T_74103_row0_col6\" class=\"data row0 col6\" >0.8866</td>\n",
       "    </tr>\n",
       "  </tbody>\n",
       "</table>\n"
      ],
      "text/plain": [
       "<pandas.io.formats.style.Styler at 0xffff2f11a500>"
      ]
     },
     "metadata": {},
     "output_type": "display_data"
    },
    {
     "data": {
      "text/html": [],
      "text/plain": [
       "<IPython.core.display.HTML object>"
      ]
     },
     "metadata": {},
     "output_type": "display_data"
    },
    {
     "name": "stdout",
     "output_type": "stream",
     "text": [
      "lightgbm\n"
     ]
    },
    {
     "data": {
      "text/html": [],
      "text/plain": [
       "<IPython.core.display.HTML object>"
      ]
     },
     "metadata": {},
     "output_type": "display_data"
    },
    {
     "data": {
      "text/html": [
       "<style type=\"text/css\">\n",
       "</style>\n",
       "<table id=\"T_2d9f1\">\n",
       "  <thead>\n",
       "    <tr>\n",
       "      <th class=\"blank level0\" >&nbsp;</th>\n",
       "      <th id=\"T_2d9f1_level0_col0\" class=\"col_heading level0 col0\" >Accuracy</th>\n",
       "      <th id=\"T_2d9f1_level0_col1\" class=\"col_heading level0 col1\" >AUC</th>\n",
       "      <th id=\"T_2d9f1_level0_col2\" class=\"col_heading level0 col2\" >Recall</th>\n",
       "      <th id=\"T_2d9f1_level0_col3\" class=\"col_heading level0 col3\" >Prec.</th>\n",
       "      <th id=\"T_2d9f1_level0_col4\" class=\"col_heading level0 col4\" >F1</th>\n",
       "      <th id=\"T_2d9f1_level0_col5\" class=\"col_heading level0 col5\" >Kappa</th>\n",
       "      <th id=\"T_2d9f1_level0_col6\" class=\"col_heading level0 col6\" >MCC</th>\n",
       "    </tr>\n",
       "  </thead>\n",
       "  <tbody>\n",
       "    <tr>\n",
       "      <th id=\"T_2d9f1_level0_row0\" class=\"row_heading level0 row0\" >Test</th>\n",
       "      <td id=\"T_2d9f1_row0_col0\" class=\"data row0 col0\" >0.9367</td>\n",
       "      <td id=\"T_2d9f1_row0_col1\" class=\"data row0 col1\" >0.9653</td>\n",
       "      <td id=\"T_2d9f1_row0_col2\" class=\"data row0 col2\" >0.9412</td>\n",
       "      <td id=\"T_2d9f1_row0_col3\" class=\"data row0 col3\" >0.9351</td>\n",
       "      <td id=\"T_2d9f1_row0_col4\" class=\"data row0 col4\" >0.9381</td>\n",
       "      <td id=\"T_2d9f1_row0_col5\" class=\"data row0 col5\" >0.8733</td>\n",
       "      <td id=\"T_2d9f1_row0_col6\" class=\"data row0 col6\" >0.8733</td>\n",
       "    </tr>\n",
       "  </tbody>\n",
       "</table>\n"
      ],
      "text/plain": [
       "<pandas.io.formats.style.Styler at 0xffff2f119150>"
      ]
     },
     "metadata": {},
     "output_type": "display_data"
    },
    {
     "data": {
      "text/html": [],
      "text/plain": [
       "<IPython.core.display.HTML object>"
      ]
     },
     "metadata": {},
     "output_type": "display_data"
    }
   ],
   "source": [
    "train_data = 300\n",
    "#seed = 3655\n",
    "#seed = 3656\n",
    "seed = 3657\n",
    "\n",
    "train_num = [10, 20, 30, 40, 50, 100, 200, 300]\n",
    "i = 300\n",
    "\n",
    "file_name = f'pseudodata_{seed}_{train_data}_train.csv'\n",
    "df = pd.read_csv(f'../data/pseudodata/{file_name}').head(i)\n",
    "\n",
    "file_name = f'pseudodata_{seed}_{train_data}_test.csv'\n",
    "df_test = pd.read_csv(f'../data/pseudodata/{file_name}')\n",
    "\n",
    "\n",
    "last_index = df.index[-1]\n",
    "df_test.index = range(last_index + 1, last_index + 1 + len(df_test))\n",
    "\n",
    "exp_name = setup(data = df, test_data = df_test, target = 'target', session_id = 3655)\n",
    "\n",
    "model_list = ['lr','knn','nb','dt','svm','rbfsvm','gpc','mlp','ridge','rf','qda','ada','gbc','lda','et','lightgbm']\n",
    "for model_name in model_list:\n",
    "    print(model_name)\n",
    "    create_model(model_name, cross_validation=False)"
   ]
  },
  {
   "cell_type": "markdown",
   "metadata": {},
   "source": [
    "## Moon"
   ]
  },
  {
   "cell_type": "code",
   "execution_count": 7,
   "metadata": {},
   "outputs": [
    {
     "data": {
      "text/html": [
       "<style type=\"text/css\">\n",
       "#T_1fa9d_row8_col1 {\n",
       "  background-color: lightgreen;\n",
       "}\n",
       "</style>\n",
       "<table id=\"T_1fa9d\">\n",
       "  <thead>\n",
       "    <tr>\n",
       "      <th class=\"blank level0\" >&nbsp;</th>\n",
       "      <th id=\"T_1fa9d_level0_col0\" class=\"col_heading level0 col0\" >Description</th>\n",
       "      <th id=\"T_1fa9d_level0_col1\" class=\"col_heading level0 col1\" >Value</th>\n",
       "    </tr>\n",
       "  </thead>\n",
       "  <tbody>\n",
       "    <tr>\n",
       "      <th id=\"T_1fa9d_level0_row0\" class=\"row_heading level0 row0\" >0</th>\n",
       "      <td id=\"T_1fa9d_row0_col0\" class=\"data row0 col0\" >Session id</td>\n",
       "      <td id=\"T_1fa9d_row0_col1\" class=\"data row0 col1\" >3655</td>\n",
       "    </tr>\n",
       "    <tr>\n",
       "      <th id=\"T_1fa9d_level0_row1\" class=\"row_heading level0 row1\" >1</th>\n",
       "      <td id=\"T_1fa9d_row1_col0\" class=\"data row1 col0\" >Target</td>\n",
       "      <td id=\"T_1fa9d_row1_col1\" class=\"data row1 col1\" >target</td>\n",
       "    </tr>\n",
       "    <tr>\n",
       "      <th id=\"T_1fa9d_level0_row2\" class=\"row_heading level0 row2\" >2</th>\n",
       "      <td id=\"T_1fa9d_row2_col0\" class=\"data row2 col0\" >Target type</td>\n",
       "      <td id=\"T_1fa9d_row2_col1\" class=\"data row2 col1\" >Binary</td>\n",
       "    </tr>\n",
       "    <tr>\n",
       "      <th id=\"T_1fa9d_level0_row3\" class=\"row_heading level0 row3\" >3</th>\n",
       "      <td id=\"T_1fa9d_row3_col0\" class=\"data row3 col0\" >Original data shape</td>\n",
       "      <td id=\"T_1fa9d_row3_col1\" class=\"data row3 col1\" >(500, 3)</td>\n",
       "    </tr>\n",
       "    <tr>\n",
       "      <th id=\"T_1fa9d_level0_row4\" class=\"row_heading level0 row4\" >4</th>\n",
       "      <td id=\"T_1fa9d_row4_col0\" class=\"data row4 col0\" >Transformed data shape</td>\n",
       "      <td id=\"T_1fa9d_row4_col1\" class=\"data row4 col1\" >(500, 3)</td>\n",
       "    </tr>\n",
       "    <tr>\n",
       "      <th id=\"T_1fa9d_level0_row5\" class=\"row_heading level0 row5\" >5</th>\n",
       "      <td id=\"T_1fa9d_row5_col0\" class=\"data row5 col0\" >Transformed train set shape</td>\n",
       "      <td id=\"T_1fa9d_row5_col1\" class=\"data row5 col1\" >(200, 3)</td>\n",
       "    </tr>\n",
       "    <tr>\n",
       "      <th id=\"T_1fa9d_level0_row6\" class=\"row_heading level0 row6\" >6</th>\n",
       "      <td id=\"T_1fa9d_row6_col0\" class=\"data row6 col0\" >Transformed test set shape</td>\n",
       "      <td id=\"T_1fa9d_row6_col1\" class=\"data row6 col1\" >(300, 3)</td>\n",
       "    </tr>\n",
       "    <tr>\n",
       "      <th id=\"T_1fa9d_level0_row7\" class=\"row_heading level0 row7\" >7</th>\n",
       "      <td id=\"T_1fa9d_row7_col0\" class=\"data row7 col0\" >Numeric features</td>\n",
       "      <td id=\"T_1fa9d_row7_col1\" class=\"data row7 col1\" >2</td>\n",
       "    </tr>\n",
       "    <tr>\n",
       "      <th id=\"T_1fa9d_level0_row8\" class=\"row_heading level0 row8\" >8</th>\n",
       "      <td id=\"T_1fa9d_row8_col0\" class=\"data row8 col0\" >Preprocess</td>\n",
       "      <td id=\"T_1fa9d_row8_col1\" class=\"data row8 col1\" >True</td>\n",
       "    </tr>\n",
       "    <tr>\n",
       "      <th id=\"T_1fa9d_level0_row9\" class=\"row_heading level0 row9\" >9</th>\n",
       "      <td id=\"T_1fa9d_row9_col0\" class=\"data row9 col0\" >Imputation type</td>\n",
       "      <td id=\"T_1fa9d_row9_col1\" class=\"data row9 col1\" >simple</td>\n",
       "    </tr>\n",
       "    <tr>\n",
       "      <th id=\"T_1fa9d_level0_row10\" class=\"row_heading level0 row10\" >10</th>\n",
       "      <td id=\"T_1fa9d_row10_col0\" class=\"data row10 col0\" >Numeric imputation</td>\n",
       "      <td id=\"T_1fa9d_row10_col1\" class=\"data row10 col1\" >mean</td>\n",
       "    </tr>\n",
       "    <tr>\n",
       "      <th id=\"T_1fa9d_level0_row11\" class=\"row_heading level0 row11\" >11</th>\n",
       "      <td id=\"T_1fa9d_row11_col0\" class=\"data row11 col0\" >Categorical imputation</td>\n",
       "      <td id=\"T_1fa9d_row11_col1\" class=\"data row11 col1\" >mode</td>\n",
       "    </tr>\n",
       "    <tr>\n",
       "      <th id=\"T_1fa9d_level0_row12\" class=\"row_heading level0 row12\" >12</th>\n",
       "      <td id=\"T_1fa9d_row12_col0\" class=\"data row12 col0\" >Fold Generator</td>\n",
       "      <td id=\"T_1fa9d_row12_col1\" class=\"data row12 col1\" >StratifiedKFold</td>\n",
       "    </tr>\n",
       "    <tr>\n",
       "      <th id=\"T_1fa9d_level0_row13\" class=\"row_heading level0 row13\" >13</th>\n",
       "      <td id=\"T_1fa9d_row13_col0\" class=\"data row13 col0\" >Fold Number</td>\n",
       "      <td id=\"T_1fa9d_row13_col1\" class=\"data row13 col1\" >10</td>\n",
       "    </tr>\n",
       "    <tr>\n",
       "      <th id=\"T_1fa9d_level0_row14\" class=\"row_heading level0 row14\" >14</th>\n",
       "      <td id=\"T_1fa9d_row14_col0\" class=\"data row14 col0\" >CPU Jobs</td>\n",
       "      <td id=\"T_1fa9d_row14_col1\" class=\"data row14 col1\" >-1</td>\n",
       "    </tr>\n",
       "    <tr>\n",
       "      <th id=\"T_1fa9d_level0_row15\" class=\"row_heading level0 row15\" >15</th>\n",
       "      <td id=\"T_1fa9d_row15_col0\" class=\"data row15 col0\" >Use GPU</td>\n",
       "      <td id=\"T_1fa9d_row15_col1\" class=\"data row15 col1\" >False</td>\n",
       "    </tr>\n",
       "    <tr>\n",
       "      <th id=\"T_1fa9d_level0_row16\" class=\"row_heading level0 row16\" >16</th>\n",
       "      <td id=\"T_1fa9d_row16_col0\" class=\"data row16 col0\" >Log Experiment</td>\n",
       "      <td id=\"T_1fa9d_row16_col1\" class=\"data row16 col1\" >False</td>\n",
       "    </tr>\n",
       "    <tr>\n",
       "      <th id=\"T_1fa9d_level0_row17\" class=\"row_heading level0 row17\" >17</th>\n",
       "      <td id=\"T_1fa9d_row17_col0\" class=\"data row17 col0\" >Experiment Name</td>\n",
       "      <td id=\"T_1fa9d_row17_col1\" class=\"data row17 col1\" >clf-default-name</td>\n",
       "    </tr>\n",
       "    <tr>\n",
       "      <th id=\"T_1fa9d_level0_row18\" class=\"row_heading level0 row18\" >18</th>\n",
       "      <td id=\"T_1fa9d_row18_col0\" class=\"data row18 col0\" >USI</td>\n",
       "      <td id=\"T_1fa9d_row18_col1\" class=\"data row18 col1\" >a33d</td>\n",
       "    </tr>\n",
       "  </tbody>\n",
       "</table>\n"
      ],
      "text/plain": [
       "<pandas.io.formats.style.Styler at 0xffff3836a470>"
      ]
     },
     "metadata": {},
     "output_type": "display_data"
    },
    {
     "name": "stdout",
     "output_type": "stream",
     "text": [
      "lr\n"
     ]
    },
    {
     "data": {
      "text/html": [],
      "text/plain": [
       "<IPython.core.display.HTML object>"
      ]
     },
     "metadata": {},
     "output_type": "display_data"
    },
    {
     "data": {
      "text/html": [
       "<style type=\"text/css\">\n",
       "</style>\n",
       "<table id=\"T_8b84a\">\n",
       "  <thead>\n",
       "    <tr>\n",
       "      <th class=\"blank level0\" >&nbsp;</th>\n",
       "      <th id=\"T_8b84a_level0_col0\" class=\"col_heading level0 col0\" >Accuracy</th>\n",
       "      <th id=\"T_8b84a_level0_col1\" class=\"col_heading level0 col1\" >AUC</th>\n",
       "      <th id=\"T_8b84a_level0_col2\" class=\"col_heading level0 col2\" >Recall</th>\n",
       "      <th id=\"T_8b84a_level0_col3\" class=\"col_heading level0 col3\" >Prec.</th>\n",
       "      <th id=\"T_8b84a_level0_col4\" class=\"col_heading level0 col4\" >F1</th>\n",
       "      <th id=\"T_8b84a_level0_col5\" class=\"col_heading level0 col5\" >Kappa</th>\n",
       "      <th id=\"T_8b84a_level0_col6\" class=\"col_heading level0 col6\" >MCC</th>\n",
       "    </tr>\n",
       "  </thead>\n",
       "  <tbody>\n",
       "    <tr>\n",
       "      <th id=\"T_8b84a_level0_row0\" class=\"row_heading level0 row0\" >Test</th>\n",
       "      <td id=\"T_8b84a_row0_col0\" class=\"data row0 col0\" >0.8933</td>\n",
       "      <td id=\"T_8b84a_row0_col1\" class=\"data row0 col1\" >0.9690</td>\n",
       "      <td id=\"T_8b84a_row0_col2\" class=\"data row0 col2\" >0.8733</td>\n",
       "      <td id=\"T_8b84a_row0_col3\" class=\"data row0 col3\" >0.9097</td>\n",
       "      <td id=\"T_8b84a_row0_col4\" class=\"data row0 col4\" >0.8912</td>\n",
       "      <td id=\"T_8b84a_row0_col5\" class=\"data row0 col5\" >0.7867</td>\n",
       "      <td id=\"T_8b84a_row0_col6\" class=\"data row0 col6\" >0.7873</td>\n",
       "    </tr>\n",
       "  </tbody>\n",
       "</table>\n"
      ],
      "text/plain": [
       "<pandas.io.formats.style.Styler at 0xffff38371c90>"
      ]
     },
     "metadata": {},
     "output_type": "display_data"
    },
    {
     "data": {
      "text/html": [],
      "text/plain": [
       "<IPython.core.display.HTML object>"
      ]
     },
     "metadata": {},
     "output_type": "display_data"
    },
    {
     "name": "stdout",
     "output_type": "stream",
     "text": [
      "knn\n"
     ]
    },
    {
     "data": {
      "text/html": [],
      "text/plain": [
       "<IPython.core.display.HTML object>"
      ]
     },
     "metadata": {},
     "output_type": "display_data"
    },
    {
     "data": {
      "text/html": [
       "<style type=\"text/css\">\n",
       "</style>\n",
       "<table id=\"T_ff61e\">\n",
       "  <thead>\n",
       "    <tr>\n",
       "      <th class=\"blank level0\" >&nbsp;</th>\n",
       "      <th id=\"T_ff61e_level0_col0\" class=\"col_heading level0 col0\" >Accuracy</th>\n",
       "      <th id=\"T_ff61e_level0_col1\" class=\"col_heading level0 col1\" >AUC</th>\n",
       "      <th id=\"T_ff61e_level0_col2\" class=\"col_heading level0 col2\" >Recall</th>\n",
       "      <th id=\"T_ff61e_level0_col3\" class=\"col_heading level0 col3\" >Prec.</th>\n",
       "      <th id=\"T_ff61e_level0_col4\" class=\"col_heading level0 col4\" >F1</th>\n",
       "      <th id=\"T_ff61e_level0_col5\" class=\"col_heading level0 col5\" >Kappa</th>\n",
       "      <th id=\"T_ff61e_level0_col6\" class=\"col_heading level0 col6\" >MCC</th>\n",
       "    </tr>\n",
       "  </thead>\n",
       "  <tbody>\n",
       "    <tr>\n",
       "      <th id=\"T_ff61e_level0_row0\" class=\"row_heading level0 row0\" >Test</th>\n",
       "      <td id=\"T_ff61e_row0_col0\" class=\"data row0 col0\" >1.0000</td>\n",
       "      <td id=\"T_ff61e_row0_col1\" class=\"data row0 col1\" >1.0000</td>\n",
       "      <td id=\"T_ff61e_row0_col2\" class=\"data row0 col2\" >1.0000</td>\n",
       "      <td id=\"T_ff61e_row0_col3\" class=\"data row0 col3\" >1.0000</td>\n",
       "      <td id=\"T_ff61e_row0_col4\" class=\"data row0 col4\" >1.0000</td>\n",
       "      <td id=\"T_ff61e_row0_col5\" class=\"data row0 col5\" >1.0000</td>\n",
       "      <td id=\"T_ff61e_row0_col6\" class=\"data row0 col6\" >1.0000</td>\n",
       "    </tr>\n",
       "  </tbody>\n",
       "</table>\n"
      ],
      "text/plain": [
       "<pandas.io.formats.style.Styler at 0xffff62f1e410>"
      ]
     },
     "metadata": {},
     "output_type": "display_data"
    },
    {
     "data": {
      "text/html": [],
      "text/plain": [
       "<IPython.core.display.HTML object>"
      ]
     },
     "metadata": {},
     "output_type": "display_data"
    },
    {
     "name": "stdout",
     "output_type": "stream",
     "text": [
      "nb\n"
     ]
    },
    {
     "data": {
      "text/html": [],
      "text/plain": [
       "<IPython.core.display.HTML object>"
      ]
     },
     "metadata": {},
     "output_type": "display_data"
    },
    {
     "data": {
      "text/html": [
       "<style type=\"text/css\">\n",
       "</style>\n",
       "<table id=\"T_7765e\">\n",
       "  <thead>\n",
       "    <tr>\n",
       "      <th class=\"blank level0\" >&nbsp;</th>\n",
       "      <th id=\"T_7765e_level0_col0\" class=\"col_heading level0 col0\" >Accuracy</th>\n",
       "      <th id=\"T_7765e_level0_col1\" class=\"col_heading level0 col1\" >AUC</th>\n",
       "      <th id=\"T_7765e_level0_col2\" class=\"col_heading level0 col2\" >Recall</th>\n",
       "      <th id=\"T_7765e_level0_col3\" class=\"col_heading level0 col3\" >Prec.</th>\n",
       "      <th id=\"T_7765e_level0_col4\" class=\"col_heading level0 col4\" >F1</th>\n",
       "      <th id=\"T_7765e_level0_col5\" class=\"col_heading level0 col5\" >Kappa</th>\n",
       "      <th id=\"T_7765e_level0_col6\" class=\"col_heading level0 col6\" >MCC</th>\n",
       "    </tr>\n",
       "  </thead>\n",
       "  <tbody>\n",
       "    <tr>\n",
       "      <th id=\"T_7765e_level0_row0\" class=\"row_heading level0 row0\" >Test</th>\n",
       "      <td id=\"T_7765e_row0_col0\" class=\"data row0 col0\" >0.8933</td>\n",
       "      <td id=\"T_7765e_row0_col1\" class=\"data row0 col1\" >0.9689</td>\n",
       "      <td id=\"T_7765e_row0_col2\" class=\"data row0 col2\" >0.8733</td>\n",
       "      <td id=\"T_7765e_row0_col3\" class=\"data row0 col3\" >0.9097</td>\n",
       "      <td id=\"T_7765e_row0_col4\" class=\"data row0 col4\" >0.8912</td>\n",
       "      <td id=\"T_7765e_row0_col5\" class=\"data row0 col5\" >0.7867</td>\n",
       "      <td id=\"T_7765e_row0_col6\" class=\"data row0 col6\" >0.7873</td>\n",
       "    </tr>\n",
       "  </tbody>\n",
       "</table>\n"
      ],
      "text/plain": [
       "<pandas.io.formats.style.Styler at 0xffff3b6df400>"
      ]
     },
     "metadata": {},
     "output_type": "display_data"
    },
    {
     "data": {
      "text/html": [],
      "text/plain": [
       "<IPython.core.display.HTML object>"
      ]
     },
     "metadata": {},
     "output_type": "display_data"
    },
    {
     "name": "stdout",
     "output_type": "stream",
     "text": [
      "dt\n"
     ]
    },
    {
     "data": {
      "text/html": [],
      "text/plain": [
       "<IPython.core.display.HTML object>"
      ]
     },
     "metadata": {},
     "output_type": "display_data"
    },
    {
     "data": {
      "text/html": [
       "<style type=\"text/css\">\n",
       "</style>\n",
       "<table id=\"T_961dc\">\n",
       "  <thead>\n",
       "    <tr>\n",
       "      <th class=\"blank level0\" >&nbsp;</th>\n",
       "      <th id=\"T_961dc_level0_col0\" class=\"col_heading level0 col0\" >Accuracy</th>\n",
       "      <th id=\"T_961dc_level0_col1\" class=\"col_heading level0 col1\" >AUC</th>\n",
       "      <th id=\"T_961dc_level0_col2\" class=\"col_heading level0 col2\" >Recall</th>\n",
       "      <th id=\"T_961dc_level0_col3\" class=\"col_heading level0 col3\" >Prec.</th>\n",
       "      <th id=\"T_961dc_level0_col4\" class=\"col_heading level0 col4\" >F1</th>\n",
       "      <th id=\"T_961dc_level0_col5\" class=\"col_heading level0 col5\" >Kappa</th>\n",
       "      <th id=\"T_961dc_level0_col6\" class=\"col_heading level0 col6\" >MCC</th>\n",
       "    </tr>\n",
       "  </thead>\n",
       "  <tbody>\n",
       "    <tr>\n",
       "      <th id=\"T_961dc_level0_row0\" class=\"row_heading level0 row0\" >Test</th>\n",
       "      <td id=\"T_961dc_row0_col0\" class=\"data row0 col0\" >0.9800</td>\n",
       "      <td id=\"T_961dc_row0_col1\" class=\"data row0 col1\" >0.9800</td>\n",
       "      <td id=\"T_961dc_row0_col2\" class=\"data row0 col2\" >0.9800</td>\n",
       "      <td id=\"T_961dc_row0_col3\" class=\"data row0 col3\" >0.9800</td>\n",
       "      <td id=\"T_961dc_row0_col4\" class=\"data row0 col4\" >0.9800</td>\n",
       "      <td id=\"T_961dc_row0_col5\" class=\"data row0 col5\" >0.9600</td>\n",
       "      <td id=\"T_961dc_row0_col6\" class=\"data row0 col6\" >0.9600</td>\n",
       "    </tr>\n",
       "  </tbody>\n",
       "</table>\n"
      ],
      "text/plain": [
       "<pandas.io.formats.style.Styler at 0xffff3b4e6770>"
      ]
     },
     "metadata": {},
     "output_type": "display_data"
    },
    {
     "data": {
      "text/html": [],
      "text/plain": [
       "<IPython.core.display.HTML object>"
      ]
     },
     "metadata": {},
     "output_type": "display_data"
    },
    {
     "name": "stdout",
     "output_type": "stream",
     "text": [
      "svm\n"
     ]
    },
    {
     "data": {
      "text/html": [],
      "text/plain": [
       "<IPython.core.display.HTML object>"
      ]
     },
     "metadata": {},
     "output_type": "display_data"
    },
    {
     "data": {
      "text/html": [
       "<style type=\"text/css\">\n",
       "</style>\n",
       "<table id=\"T_1f32a\">\n",
       "  <thead>\n",
       "    <tr>\n",
       "      <th class=\"blank level0\" >&nbsp;</th>\n",
       "      <th id=\"T_1f32a_level0_col0\" class=\"col_heading level0 col0\" >Accuracy</th>\n",
       "      <th id=\"T_1f32a_level0_col1\" class=\"col_heading level0 col1\" >AUC</th>\n",
       "      <th id=\"T_1f32a_level0_col2\" class=\"col_heading level0 col2\" >Recall</th>\n",
       "      <th id=\"T_1f32a_level0_col3\" class=\"col_heading level0 col3\" >Prec.</th>\n",
       "      <th id=\"T_1f32a_level0_col4\" class=\"col_heading level0 col4\" >F1</th>\n",
       "      <th id=\"T_1f32a_level0_col5\" class=\"col_heading level0 col5\" >Kappa</th>\n",
       "      <th id=\"T_1f32a_level0_col6\" class=\"col_heading level0 col6\" >MCC</th>\n",
       "    </tr>\n",
       "  </thead>\n",
       "  <tbody>\n",
       "    <tr>\n",
       "      <th id=\"T_1f32a_level0_row0\" class=\"row_heading level0 row0\" >Test</th>\n",
       "      <td id=\"T_1f32a_row0_col0\" class=\"data row0 col0\" >0.8700</td>\n",
       "      <td id=\"T_1f32a_row0_col1\" class=\"data row0 col1\" >0.8700</td>\n",
       "      <td id=\"T_1f32a_row0_col2\" class=\"data row0 col2\" >0.8467</td>\n",
       "      <td id=\"T_1f32a_row0_col3\" class=\"data row0 col3\" >0.8881</td>\n",
       "      <td id=\"T_1f32a_row0_col4\" class=\"data row0 col4\" >0.8669</td>\n",
       "      <td id=\"T_1f32a_row0_col5\" class=\"data row0 col5\" >0.7400</td>\n",
       "      <td id=\"T_1f32a_row0_col6\" class=\"data row0 col6\" >0.7408</td>\n",
       "    </tr>\n",
       "  </tbody>\n",
       "</table>\n"
      ],
      "text/plain": [
       "<pandas.io.formats.style.Styler at 0xffff62f1f460>"
      ]
     },
     "metadata": {},
     "output_type": "display_data"
    },
    {
     "data": {
      "text/html": [],
      "text/plain": [
       "<IPython.core.display.HTML object>"
      ]
     },
     "metadata": {},
     "output_type": "display_data"
    },
    {
     "name": "stdout",
     "output_type": "stream",
     "text": [
      "rbfsvm\n"
     ]
    },
    {
     "data": {
      "text/html": [],
      "text/plain": [
       "<IPython.core.display.HTML object>"
      ]
     },
     "metadata": {},
     "output_type": "display_data"
    },
    {
     "data": {
      "text/html": [
       "<style type=\"text/css\">\n",
       "</style>\n",
       "<table id=\"T_ea0cd\">\n",
       "  <thead>\n",
       "    <tr>\n",
       "      <th class=\"blank level0\" >&nbsp;</th>\n",
       "      <th id=\"T_ea0cd_level0_col0\" class=\"col_heading level0 col0\" >Accuracy</th>\n",
       "      <th id=\"T_ea0cd_level0_col1\" class=\"col_heading level0 col1\" >AUC</th>\n",
       "      <th id=\"T_ea0cd_level0_col2\" class=\"col_heading level0 col2\" >Recall</th>\n",
       "      <th id=\"T_ea0cd_level0_col3\" class=\"col_heading level0 col3\" >Prec.</th>\n",
       "      <th id=\"T_ea0cd_level0_col4\" class=\"col_heading level0 col4\" >F1</th>\n",
       "      <th id=\"T_ea0cd_level0_col5\" class=\"col_heading level0 col5\" >Kappa</th>\n",
       "      <th id=\"T_ea0cd_level0_col6\" class=\"col_heading level0 col6\" >MCC</th>\n",
       "    </tr>\n",
       "  </thead>\n",
       "  <tbody>\n",
       "    <tr>\n",
       "      <th id=\"T_ea0cd_level0_row0\" class=\"row_heading level0 row0\" >Test</th>\n",
       "      <td id=\"T_ea0cd_row0_col0\" class=\"data row0 col0\" >1.0000</td>\n",
       "      <td id=\"T_ea0cd_row0_col1\" class=\"data row0 col1\" >1.0000</td>\n",
       "      <td id=\"T_ea0cd_row0_col2\" class=\"data row0 col2\" >1.0000</td>\n",
       "      <td id=\"T_ea0cd_row0_col3\" class=\"data row0 col3\" >1.0000</td>\n",
       "      <td id=\"T_ea0cd_row0_col4\" class=\"data row0 col4\" >1.0000</td>\n",
       "      <td id=\"T_ea0cd_row0_col5\" class=\"data row0 col5\" >1.0000</td>\n",
       "      <td id=\"T_ea0cd_row0_col6\" class=\"data row0 col6\" >1.0000</td>\n",
       "    </tr>\n",
       "  </tbody>\n",
       "</table>\n"
      ],
      "text/plain": [
       "<pandas.io.formats.style.Styler at 0xffff3b4e65c0>"
      ]
     },
     "metadata": {},
     "output_type": "display_data"
    },
    {
     "data": {
      "text/html": [],
      "text/plain": [
       "<IPython.core.display.HTML object>"
      ]
     },
     "metadata": {},
     "output_type": "display_data"
    },
    {
     "name": "stdout",
     "output_type": "stream",
     "text": [
      "gpc\n"
     ]
    },
    {
     "data": {
      "text/html": [],
      "text/plain": [
       "<IPython.core.display.HTML object>"
      ]
     },
     "metadata": {},
     "output_type": "display_data"
    },
    {
     "data": {
      "text/html": [
       "<style type=\"text/css\">\n",
       "</style>\n",
       "<table id=\"T_8a528\">\n",
       "  <thead>\n",
       "    <tr>\n",
       "      <th class=\"blank level0\" >&nbsp;</th>\n",
       "      <th id=\"T_8a528_level0_col0\" class=\"col_heading level0 col0\" >Accuracy</th>\n",
       "      <th id=\"T_8a528_level0_col1\" class=\"col_heading level0 col1\" >AUC</th>\n",
       "      <th id=\"T_8a528_level0_col2\" class=\"col_heading level0 col2\" >Recall</th>\n",
       "      <th id=\"T_8a528_level0_col3\" class=\"col_heading level0 col3\" >Prec.</th>\n",
       "      <th id=\"T_8a528_level0_col4\" class=\"col_heading level0 col4\" >F1</th>\n",
       "      <th id=\"T_8a528_level0_col5\" class=\"col_heading level0 col5\" >Kappa</th>\n",
       "      <th id=\"T_8a528_level0_col6\" class=\"col_heading level0 col6\" >MCC</th>\n",
       "    </tr>\n",
       "  </thead>\n",
       "  <tbody>\n",
       "    <tr>\n",
       "      <th id=\"T_8a528_level0_row0\" class=\"row_heading level0 row0\" >Test</th>\n",
       "      <td id=\"T_8a528_row0_col0\" class=\"data row0 col0\" >0.9433</td>\n",
       "      <td id=\"T_8a528_row0_col1\" class=\"data row0 col1\" >0.9941</td>\n",
       "      <td id=\"T_8a528_row0_col2\" class=\"data row0 col2\" >0.9400</td>\n",
       "      <td id=\"T_8a528_row0_col3\" class=\"data row0 col3\" >0.9463</td>\n",
       "      <td id=\"T_8a528_row0_col4\" class=\"data row0 col4\" >0.9431</td>\n",
       "      <td id=\"T_8a528_row0_col5\" class=\"data row0 col5\" >0.8867</td>\n",
       "      <td id=\"T_8a528_row0_col6\" class=\"data row0 col6\" >0.8867</td>\n",
       "    </tr>\n",
       "  </tbody>\n",
       "</table>\n"
      ],
      "text/plain": [
       "<pandas.io.formats.style.Styler at 0xffff62f1f460>"
      ]
     },
     "metadata": {},
     "output_type": "display_data"
    },
    {
     "data": {
      "text/html": [],
      "text/plain": [
       "<IPython.core.display.HTML object>"
      ]
     },
     "metadata": {},
     "output_type": "display_data"
    },
    {
     "name": "stdout",
     "output_type": "stream",
     "text": [
      "mlp\n"
     ]
    },
    {
     "data": {
      "text/html": [],
      "text/plain": [
       "<IPython.core.display.HTML object>"
      ]
     },
     "metadata": {},
     "output_type": "display_data"
    },
    {
     "data": {
      "text/html": [
       "<style type=\"text/css\">\n",
       "</style>\n",
       "<table id=\"T_2ad99\">\n",
       "  <thead>\n",
       "    <tr>\n",
       "      <th class=\"blank level0\" >&nbsp;</th>\n",
       "      <th id=\"T_2ad99_level0_col0\" class=\"col_heading level0 col0\" >Accuracy</th>\n",
       "      <th id=\"T_2ad99_level0_col1\" class=\"col_heading level0 col1\" >AUC</th>\n",
       "      <th id=\"T_2ad99_level0_col2\" class=\"col_heading level0 col2\" >Recall</th>\n",
       "      <th id=\"T_2ad99_level0_col3\" class=\"col_heading level0 col3\" >Prec.</th>\n",
       "      <th id=\"T_2ad99_level0_col4\" class=\"col_heading level0 col4\" >F1</th>\n",
       "      <th id=\"T_2ad99_level0_col5\" class=\"col_heading level0 col5\" >Kappa</th>\n",
       "      <th id=\"T_2ad99_level0_col6\" class=\"col_heading level0 col6\" >MCC</th>\n",
       "    </tr>\n",
       "  </thead>\n",
       "  <tbody>\n",
       "    <tr>\n",
       "      <th id=\"T_2ad99_level0_row0\" class=\"row_heading level0 row0\" >Test</th>\n",
       "      <td id=\"T_2ad99_row0_col0\" class=\"data row0 col0\" >0.9533</td>\n",
       "      <td id=\"T_2ad99_row0_col1\" class=\"data row0 col1\" >0.9951</td>\n",
       "      <td id=\"T_2ad99_row0_col2\" class=\"data row0 col2\" >0.9400</td>\n",
       "      <td id=\"T_2ad99_row0_col3\" class=\"data row0 col3\" >0.9658</td>\n",
       "      <td id=\"T_2ad99_row0_col4\" class=\"data row0 col4\" >0.9527</td>\n",
       "      <td id=\"T_2ad99_row0_col5\" class=\"data row0 col5\" >0.9067</td>\n",
       "      <td id=\"T_2ad99_row0_col6\" class=\"data row0 col6\" >0.9070</td>\n",
       "    </tr>\n",
       "  </tbody>\n",
       "</table>\n"
      ],
      "text/plain": [
       "<pandas.io.formats.style.Styler at 0xffff38373d30>"
      ]
     },
     "metadata": {},
     "output_type": "display_data"
    },
    {
     "data": {
      "text/html": [],
      "text/plain": [
       "<IPython.core.display.HTML object>"
      ]
     },
     "metadata": {},
     "output_type": "display_data"
    },
    {
     "name": "stdout",
     "output_type": "stream",
     "text": [
      "ridge\n"
     ]
    },
    {
     "data": {
      "text/html": [],
      "text/plain": [
       "<IPython.core.display.HTML object>"
      ]
     },
     "metadata": {},
     "output_type": "display_data"
    },
    {
     "data": {
      "text/html": [
       "<style type=\"text/css\">\n",
       "</style>\n",
       "<table id=\"T_60af8\">\n",
       "  <thead>\n",
       "    <tr>\n",
       "      <th class=\"blank level0\" >&nbsp;</th>\n",
       "      <th id=\"T_60af8_level0_col0\" class=\"col_heading level0 col0\" >Accuracy</th>\n",
       "      <th id=\"T_60af8_level0_col1\" class=\"col_heading level0 col1\" >AUC</th>\n",
       "      <th id=\"T_60af8_level0_col2\" class=\"col_heading level0 col2\" >Recall</th>\n",
       "      <th id=\"T_60af8_level0_col3\" class=\"col_heading level0 col3\" >Prec.</th>\n",
       "      <th id=\"T_60af8_level0_col4\" class=\"col_heading level0 col4\" >F1</th>\n",
       "      <th id=\"T_60af8_level0_col5\" class=\"col_heading level0 col5\" >Kappa</th>\n",
       "      <th id=\"T_60af8_level0_col6\" class=\"col_heading level0 col6\" >MCC</th>\n",
       "    </tr>\n",
       "  </thead>\n",
       "  <tbody>\n",
       "    <tr>\n",
       "      <th id=\"T_60af8_level0_row0\" class=\"row_heading level0 row0\" >Test</th>\n",
       "      <td id=\"T_60af8_row0_col0\" class=\"data row0 col0\" >0.9000</td>\n",
       "      <td id=\"T_60af8_row0_col1\" class=\"data row0 col1\" >0.9000</td>\n",
       "      <td id=\"T_60af8_row0_col2\" class=\"data row0 col2\" >0.8867</td>\n",
       "      <td id=\"T_60af8_row0_col3\" class=\"data row0 col3\" >0.9110</td>\n",
       "      <td id=\"T_60af8_row0_col4\" class=\"data row0 col4\" >0.8986</td>\n",
       "      <td id=\"T_60af8_row0_col5\" class=\"data row0 col5\" >0.8000</td>\n",
       "      <td id=\"T_60af8_row0_col6\" class=\"data row0 col6\" >0.8003</td>\n",
       "    </tr>\n",
       "  </tbody>\n",
       "</table>\n"
      ],
      "text/plain": [
       "<pandas.io.formats.style.Styler at 0xffff38373700>"
      ]
     },
     "metadata": {},
     "output_type": "display_data"
    },
    {
     "data": {
      "text/html": [],
      "text/plain": [
       "<IPython.core.display.HTML object>"
      ]
     },
     "metadata": {},
     "output_type": "display_data"
    },
    {
     "name": "stdout",
     "output_type": "stream",
     "text": [
      "rf\n"
     ]
    },
    {
     "data": {
      "text/html": [],
      "text/plain": [
       "<IPython.core.display.HTML object>"
      ]
     },
     "metadata": {},
     "output_type": "display_data"
    },
    {
     "data": {
      "text/html": [
       "<style type=\"text/css\">\n",
       "</style>\n",
       "<table id=\"T_f8e99\">\n",
       "  <thead>\n",
       "    <tr>\n",
       "      <th class=\"blank level0\" >&nbsp;</th>\n",
       "      <th id=\"T_f8e99_level0_col0\" class=\"col_heading level0 col0\" >Accuracy</th>\n",
       "      <th id=\"T_f8e99_level0_col1\" class=\"col_heading level0 col1\" >AUC</th>\n",
       "      <th id=\"T_f8e99_level0_col2\" class=\"col_heading level0 col2\" >Recall</th>\n",
       "      <th id=\"T_f8e99_level0_col3\" class=\"col_heading level0 col3\" >Prec.</th>\n",
       "      <th id=\"T_f8e99_level0_col4\" class=\"col_heading level0 col4\" >F1</th>\n",
       "      <th id=\"T_f8e99_level0_col5\" class=\"col_heading level0 col5\" >Kappa</th>\n",
       "      <th id=\"T_f8e99_level0_col6\" class=\"col_heading level0 col6\" >MCC</th>\n",
       "    </tr>\n",
       "  </thead>\n",
       "  <tbody>\n",
       "    <tr>\n",
       "      <th id=\"T_f8e99_level0_row0\" class=\"row_heading level0 row0\" >Test</th>\n",
       "      <td id=\"T_f8e99_row0_col0\" class=\"data row0 col0\" >0.9967</td>\n",
       "      <td id=\"T_f8e99_row0_col1\" class=\"data row0 col1\" >0.9998</td>\n",
       "      <td id=\"T_f8e99_row0_col2\" class=\"data row0 col2\" >0.9933</td>\n",
       "      <td id=\"T_f8e99_row0_col3\" class=\"data row0 col3\" >1.0000</td>\n",
       "      <td id=\"T_f8e99_row0_col4\" class=\"data row0 col4\" >0.9967</td>\n",
       "      <td id=\"T_f8e99_row0_col5\" class=\"data row0 col5\" >0.9933</td>\n",
       "      <td id=\"T_f8e99_row0_col6\" class=\"data row0 col6\" >0.9934</td>\n",
       "    </tr>\n",
       "  </tbody>\n",
       "</table>\n"
      ],
      "text/plain": [
       "<pandas.io.formats.style.Styler at 0xffff637efe20>"
      ]
     },
     "metadata": {},
     "output_type": "display_data"
    },
    {
     "data": {
      "text/html": [],
      "text/plain": [
       "<IPython.core.display.HTML object>"
      ]
     },
     "metadata": {},
     "output_type": "display_data"
    },
    {
     "name": "stdout",
     "output_type": "stream",
     "text": [
      "qda\n"
     ]
    },
    {
     "data": {
      "text/html": [],
      "text/plain": [
       "<IPython.core.display.HTML object>"
      ]
     },
     "metadata": {},
     "output_type": "display_data"
    },
    {
     "data": {
      "text/html": [
       "<style type=\"text/css\">\n",
       "</style>\n",
       "<table id=\"T_65d8d\">\n",
       "  <thead>\n",
       "    <tr>\n",
       "      <th class=\"blank level0\" >&nbsp;</th>\n",
       "      <th id=\"T_65d8d_level0_col0\" class=\"col_heading level0 col0\" >Accuracy</th>\n",
       "      <th id=\"T_65d8d_level0_col1\" class=\"col_heading level0 col1\" >AUC</th>\n",
       "      <th id=\"T_65d8d_level0_col2\" class=\"col_heading level0 col2\" >Recall</th>\n",
       "      <th id=\"T_65d8d_level0_col3\" class=\"col_heading level0 col3\" >Prec.</th>\n",
       "      <th id=\"T_65d8d_level0_col4\" class=\"col_heading level0 col4\" >F1</th>\n",
       "      <th id=\"T_65d8d_level0_col5\" class=\"col_heading level0 col5\" >Kappa</th>\n",
       "      <th id=\"T_65d8d_level0_col6\" class=\"col_heading level0 col6\" >MCC</th>\n",
       "    </tr>\n",
       "  </thead>\n",
       "  <tbody>\n",
       "    <tr>\n",
       "      <th id=\"T_65d8d_level0_row0\" class=\"row_heading level0 row0\" >Test</th>\n",
       "      <td id=\"T_65d8d_row0_col0\" class=\"data row0 col0\" >0.8933</td>\n",
       "      <td id=\"T_65d8d_row0_col1\" class=\"data row0 col1\" >0.9689</td>\n",
       "      <td id=\"T_65d8d_row0_col2\" class=\"data row0 col2\" >0.8733</td>\n",
       "      <td id=\"T_65d8d_row0_col3\" class=\"data row0 col3\" >0.9097</td>\n",
       "      <td id=\"T_65d8d_row0_col4\" class=\"data row0 col4\" >0.8912</td>\n",
       "      <td id=\"T_65d8d_row0_col5\" class=\"data row0 col5\" >0.7867</td>\n",
       "      <td id=\"T_65d8d_row0_col6\" class=\"data row0 col6\" >0.7873</td>\n",
       "    </tr>\n",
       "  </tbody>\n",
       "</table>\n"
      ],
      "text/plain": [
       "<pandas.io.formats.style.Styler at 0xffff3b4e5a50>"
      ]
     },
     "metadata": {},
     "output_type": "display_data"
    },
    {
     "data": {
      "text/html": [],
      "text/plain": [
       "<IPython.core.display.HTML object>"
      ]
     },
     "metadata": {},
     "output_type": "display_data"
    },
    {
     "name": "stdout",
     "output_type": "stream",
     "text": [
      "ada\n"
     ]
    },
    {
     "data": {
      "text/html": [],
      "text/plain": [
       "<IPython.core.display.HTML object>"
      ]
     },
     "metadata": {},
     "output_type": "display_data"
    },
    {
     "data": {
      "text/html": [
       "<style type=\"text/css\">\n",
       "</style>\n",
       "<table id=\"T_49ed0\">\n",
       "  <thead>\n",
       "    <tr>\n",
       "      <th class=\"blank level0\" >&nbsp;</th>\n",
       "      <th id=\"T_49ed0_level0_col0\" class=\"col_heading level0 col0\" >Accuracy</th>\n",
       "      <th id=\"T_49ed0_level0_col1\" class=\"col_heading level0 col1\" >AUC</th>\n",
       "      <th id=\"T_49ed0_level0_col2\" class=\"col_heading level0 col2\" >Recall</th>\n",
       "      <th id=\"T_49ed0_level0_col3\" class=\"col_heading level0 col3\" >Prec.</th>\n",
       "      <th id=\"T_49ed0_level0_col4\" class=\"col_heading level0 col4\" >F1</th>\n",
       "      <th id=\"T_49ed0_level0_col5\" class=\"col_heading level0 col5\" >Kappa</th>\n",
       "      <th id=\"T_49ed0_level0_col6\" class=\"col_heading level0 col6\" >MCC</th>\n",
       "    </tr>\n",
       "  </thead>\n",
       "  <tbody>\n",
       "    <tr>\n",
       "      <th id=\"T_49ed0_level0_row0\" class=\"row_heading level0 row0\" >Test</th>\n",
       "      <td id=\"T_49ed0_row0_col0\" class=\"data row0 col0\" >0.9933</td>\n",
       "      <td id=\"T_49ed0_row0_col1\" class=\"data row0 col1\" >0.9941</td>\n",
       "      <td id=\"T_49ed0_row0_col2\" class=\"data row0 col2\" >0.9933</td>\n",
       "      <td id=\"T_49ed0_row0_col3\" class=\"data row0 col3\" >0.9933</td>\n",
       "      <td id=\"T_49ed0_row0_col4\" class=\"data row0 col4\" >0.9933</td>\n",
       "      <td id=\"T_49ed0_row0_col5\" class=\"data row0 col5\" >0.9867</td>\n",
       "      <td id=\"T_49ed0_row0_col6\" class=\"data row0 col6\" >0.9867</td>\n",
       "    </tr>\n",
       "  </tbody>\n",
       "</table>\n"
      ],
      "text/plain": [
       "<pandas.io.formats.style.Styler at 0xffff3b575a20>"
      ]
     },
     "metadata": {},
     "output_type": "display_data"
    },
    {
     "data": {
      "text/html": [],
      "text/plain": [
       "<IPython.core.display.HTML object>"
      ]
     },
     "metadata": {},
     "output_type": "display_data"
    },
    {
     "name": "stdout",
     "output_type": "stream",
     "text": [
      "gbc\n"
     ]
    },
    {
     "data": {
      "text/html": [],
      "text/plain": [
       "<IPython.core.display.HTML object>"
      ]
     },
     "metadata": {},
     "output_type": "display_data"
    },
    {
     "data": {
      "text/html": [
       "<style type=\"text/css\">\n",
       "</style>\n",
       "<table id=\"T_42abf\">\n",
       "  <thead>\n",
       "    <tr>\n",
       "      <th class=\"blank level0\" >&nbsp;</th>\n",
       "      <th id=\"T_42abf_level0_col0\" class=\"col_heading level0 col0\" >Accuracy</th>\n",
       "      <th id=\"T_42abf_level0_col1\" class=\"col_heading level0 col1\" >AUC</th>\n",
       "      <th id=\"T_42abf_level0_col2\" class=\"col_heading level0 col2\" >Recall</th>\n",
       "      <th id=\"T_42abf_level0_col3\" class=\"col_heading level0 col3\" >Prec.</th>\n",
       "      <th id=\"T_42abf_level0_col4\" class=\"col_heading level0 col4\" >F1</th>\n",
       "      <th id=\"T_42abf_level0_col5\" class=\"col_heading level0 col5\" >Kappa</th>\n",
       "      <th id=\"T_42abf_level0_col6\" class=\"col_heading level0 col6\" >MCC</th>\n",
       "    </tr>\n",
       "  </thead>\n",
       "  <tbody>\n",
       "    <tr>\n",
       "      <th id=\"T_42abf_level0_row0\" class=\"row_heading level0 row0\" >Test</th>\n",
       "      <td id=\"T_42abf_row0_col0\" class=\"data row0 col0\" >0.9967</td>\n",
       "      <td id=\"T_42abf_row0_col1\" class=\"data row0 col1\" >1.0000</td>\n",
       "      <td id=\"T_42abf_row0_col2\" class=\"data row0 col2\" >0.9933</td>\n",
       "      <td id=\"T_42abf_row0_col3\" class=\"data row0 col3\" >1.0000</td>\n",
       "      <td id=\"T_42abf_row0_col4\" class=\"data row0 col4\" >0.9967</td>\n",
       "      <td id=\"T_42abf_row0_col5\" class=\"data row0 col5\" >0.9933</td>\n",
       "      <td id=\"T_42abf_row0_col6\" class=\"data row0 col6\" >0.9934</td>\n",
       "    </tr>\n",
       "  </tbody>\n",
       "</table>\n"
      ],
      "text/plain": [
       "<pandas.io.formats.style.Styler at 0xffff3b807be0>"
      ]
     },
     "metadata": {},
     "output_type": "display_data"
    },
    {
     "data": {
      "text/html": [],
      "text/plain": [
       "<IPython.core.display.HTML object>"
      ]
     },
     "metadata": {},
     "output_type": "display_data"
    },
    {
     "name": "stdout",
     "output_type": "stream",
     "text": [
      "lda\n"
     ]
    },
    {
     "data": {
      "text/html": [],
      "text/plain": [
       "<IPython.core.display.HTML object>"
      ]
     },
     "metadata": {},
     "output_type": "display_data"
    },
    {
     "data": {
      "text/html": [
       "<style type=\"text/css\">\n",
       "</style>\n",
       "<table id=\"T_d1138\">\n",
       "  <thead>\n",
       "    <tr>\n",
       "      <th class=\"blank level0\" >&nbsp;</th>\n",
       "      <th id=\"T_d1138_level0_col0\" class=\"col_heading level0 col0\" >Accuracy</th>\n",
       "      <th id=\"T_d1138_level0_col1\" class=\"col_heading level0 col1\" >AUC</th>\n",
       "      <th id=\"T_d1138_level0_col2\" class=\"col_heading level0 col2\" >Recall</th>\n",
       "      <th id=\"T_d1138_level0_col3\" class=\"col_heading level0 col3\" >Prec.</th>\n",
       "      <th id=\"T_d1138_level0_col4\" class=\"col_heading level0 col4\" >F1</th>\n",
       "      <th id=\"T_d1138_level0_col5\" class=\"col_heading level0 col5\" >Kappa</th>\n",
       "      <th id=\"T_d1138_level0_col6\" class=\"col_heading level0 col6\" >MCC</th>\n",
       "    </tr>\n",
       "  </thead>\n",
       "  <tbody>\n",
       "    <tr>\n",
       "      <th id=\"T_d1138_level0_row0\" class=\"row_heading level0 row0\" >Test</th>\n",
       "      <td id=\"T_d1138_row0_col0\" class=\"data row0 col0\" >0.9033</td>\n",
       "      <td id=\"T_d1138_row0_col1\" class=\"data row0 col1\" >0.9691</td>\n",
       "      <td id=\"T_d1138_row0_col2\" class=\"data row0 col2\" >0.8933</td>\n",
       "      <td id=\"T_d1138_row0_col3\" class=\"data row0 col3\" >0.9116</td>\n",
       "      <td id=\"T_d1138_row0_col4\" class=\"data row0 col4\" >0.9024</td>\n",
       "      <td id=\"T_d1138_row0_col5\" class=\"data row0 col5\" >0.8067</td>\n",
       "      <td id=\"T_d1138_row0_col6\" class=\"data row0 col6\" >0.8068</td>\n",
       "    </tr>\n",
       "  </tbody>\n",
       "</table>\n"
      ],
      "text/plain": [
       "<pandas.io.formats.style.Styler at 0xffff47521060>"
      ]
     },
     "metadata": {},
     "output_type": "display_data"
    },
    {
     "data": {
      "text/html": [],
      "text/plain": [
       "<IPython.core.display.HTML object>"
      ]
     },
     "metadata": {},
     "output_type": "display_data"
    },
    {
     "name": "stdout",
     "output_type": "stream",
     "text": [
      "et\n"
     ]
    },
    {
     "data": {
      "text/html": [],
      "text/plain": [
       "<IPython.core.display.HTML object>"
      ]
     },
     "metadata": {},
     "output_type": "display_data"
    },
    {
     "data": {
      "text/html": [
       "<style type=\"text/css\">\n",
       "</style>\n",
       "<table id=\"T_f4e16\">\n",
       "  <thead>\n",
       "    <tr>\n",
       "      <th class=\"blank level0\" >&nbsp;</th>\n",
       "      <th id=\"T_f4e16_level0_col0\" class=\"col_heading level0 col0\" >Accuracy</th>\n",
       "      <th id=\"T_f4e16_level0_col1\" class=\"col_heading level0 col1\" >AUC</th>\n",
       "      <th id=\"T_f4e16_level0_col2\" class=\"col_heading level0 col2\" >Recall</th>\n",
       "      <th id=\"T_f4e16_level0_col3\" class=\"col_heading level0 col3\" >Prec.</th>\n",
       "      <th id=\"T_f4e16_level0_col4\" class=\"col_heading level0 col4\" >F1</th>\n",
       "      <th id=\"T_f4e16_level0_col5\" class=\"col_heading level0 col5\" >Kappa</th>\n",
       "      <th id=\"T_f4e16_level0_col6\" class=\"col_heading level0 col6\" >MCC</th>\n",
       "    </tr>\n",
       "  </thead>\n",
       "  <tbody>\n",
       "    <tr>\n",
       "      <th id=\"T_f4e16_level0_row0\" class=\"row_heading level0 row0\" >Test</th>\n",
       "      <td id=\"T_f4e16_row0_col0\" class=\"data row0 col0\" >1.0000</td>\n",
       "      <td id=\"T_f4e16_row0_col1\" class=\"data row0 col1\" >1.0000</td>\n",
       "      <td id=\"T_f4e16_row0_col2\" class=\"data row0 col2\" >1.0000</td>\n",
       "      <td id=\"T_f4e16_row0_col3\" class=\"data row0 col3\" >1.0000</td>\n",
       "      <td id=\"T_f4e16_row0_col4\" class=\"data row0 col4\" >1.0000</td>\n",
       "      <td id=\"T_f4e16_row0_col5\" class=\"data row0 col5\" >1.0000</td>\n",
       "      <td id=\"T_f4e16_row0_col6\" class=\"data row0 col6\" >1.0000</td>\n",
       "    </tr>\n",
       "  </tbody>\n",
       "</table>\n"
      ],
      "text/plain": [
       "<pandas.io.formats.style.Styler at 0xffff405e8a60>"
      ]
     },
     "metadata": {},
     "output_type": "display_data"
    },
    {
     "data": {
      "text/html": [],
      "text/plain": [
       "<IPython.core.display.HTML object>"
      ]
     },
     "metadata": {},
     "output_type": "display_data"
    },
    {
     "name": "stdout",
     "output_type": "stream",
     "text": [
      "lightgbm\n"
     ]
    },
    {
     "data": {
      "text/html": [],
      "text/plain": [
       "<IPython.core.display.HTML object>"
      ]
     },
     "metadata": {},
     "output_type": "display_data"
    },
    {
     "data": {
      "text/html": [
       "<style type=\"text/css\">\n",
       "</style>\n",
       "<table id=\"T_4b866\">\n",
       "  <thead>\n",
       "    <tr>\n",
       "      <th class=\"blank level0\" >&nbsp;</th>\n",
       "      <th id=\"T_4b866_level0_col0\" class=\"col_heading level0 col0\" >Accuracy</th>\n",
       "      <th id=\"T_4b866_level0_col1\" class=\"col_heading level0 col1\" >AUC</th>\n",
       "      <th id=\"T_4b866_level0_col2\" class=\"col_heading level0 col2\" >Recall</th>\n",
       "      <th id=\"T_4b866_level0_col3\" class=\"col_heading level0 col3\" >Prec.</th>\n",
       "      <th id=\"T_4b866_level0_col4\" class=\"col_heading level0 col4\" >F1</th>\n",
       "      <th id=\"T_4b866_level0_col5\" class=\"col_heading level0 col5\" >Kappa</th>\n",
       "      <th id=\"T_4b866_level0_col6\" class=\"col_heading level0 col6\" >MCC</th>\n",
       "    </tr>\n",
       "  </thead>\n",
       "  <tbody>\n",
       "    <tr>\n",
       "      <th id=\"T_4b866_level0_row0\" class=\"row_heading level0 row0\" >Test</th>\n",
       "      <td id=\"T_4b866_row0_col0\" class=\"data row0 col0\" >0.9967</td>\n",
       "      <td id=\"T_4b866_row0_col1\" class=\"data row0 col1\" >0.9973</td>\n",
       "      <td id=\"T_4b866_row0_col2\" class=\"data row0 col2\" >0.9933</td>\n",
       "      <td id=\"T_4b866_row0_col3\" class=\"data row0 col3\" >1.0000</td>\n",
       "      <td id=\"T_4b866_row0_col4\" class=\"data row0 col4\" >0.9967</td>\n",
       "      <td id=\"T_4b866_row0_col5\" class=\"data row0 col5\" >0.9933</td>\n",
       "      <td id=\"T_4b866_row0_col6\" class=\"data row0 col6\" >0.9934</td>\n",
       "    </tr>\n",
       "  </tbody>\n",
       "</table>\n"
      ],
      "text/plain": [
       "<pandas.io.formats.style.Styler at 0xffff3b4e57e0>"
      ]
     },
     "metadata": {},
     "output_type": "display_data"
    },
    {
     "data": {
      "text/html": [],
      "text/plain": [
       "<IPython.core.display.HTML object>"
      ]
     },
     "metadata": {},
     "output_type": "display_data"
    }
   ],
   "source": [
    "n = 300\n",
    "#seed = 3655\n",
    "#seed = 3656\n",
    "seed = 3657\n",
    "\n",
    "train_num = [10, 20, 30, 40, 50, 100, 200, 300]\n",
    "i = 200\n",
    "\n",
    "df = pd.read_csv(f'../data/moon/moon_{seed}_{n}_train.csv').head(i)\n",
    "\n",
    "df_test = pd.read_csv(f'../data/moon/moon_{seed}_{n}_test.csv')\n",
    "\n",
    "last_index = df.index[-1]\n",
    "df_test.index = range(last_index + 1, last_index + 1 + len(df_test))\n",
    "\n",
    "exp_name = setup(data = df, test_data = df_test, target = 'target', session_id = 3655) \n",
    "\n",
    "model_list = ['lr','knn','nb','dt','svm','rbfsvm','gpc','mlp','ridge','rf','qda','ada','gbc','lda','et','lightgbm']\n",
    "for model_name in model_list:\n",
    "    print(model_name)\n",
    "    create_model(model_name, cross_validation=False)"
   ]
  },
  {
   "cell_type": "markdown",
   "metadata": {},
   "source": [
    "## Titanic data"
   ]
  },
  {
   "cell_type": "code",
   "execution_count": 140,
   "metadata": {},
   "outputs": [
    {
     "data": {
      "text/html": [
       "<style type=\"text/css\">\n",
       "#T_e26c2_row8_col1 {\n",
       "  background-color: lightgreen;\n",
       "}\n",
       "</style>\n",
       "<table id=\"T_e26c2\">\n",
       "  <thead>\n",
       "    <tr>\n",
       "      <th class=\"blank level0\" >&nbsp;</th>\n",
       "      <th id=\"T_e26c2_level0_col0\" class=\"col_heading level0 col0\" >Description</th>\n",
       "      <th id=\"T_e26c2_level0_col1\" class=\"col_heading level0 col1\" >Value</th>\n",
       "    </tr>\n",
       "  </thead>\n",
       "  <tbody>\n",
       "    <tr>\n",
       "      <th id=\"T_e26c2_level0_row0\" class=\"row_heading level0 row0\" >0</th>\n",
       "      <td id=\"T_e26c2_row0_col0\" class=\"data row0 col0\" >Session id</td>\n",
       "      <td id=\"T_e26c2_row0_col1\" class=\"data row0 col1\" >3655</td>\n",
       "    </tr>\n",
       "    <tr>\n",
       "      <th id=\"T_e26c2_level0_row1\" class=\"row_heading level0 row1\" >1</th>\n",
       "      <td id=\"T_e26c2_row1_col0\" class=\"data row1 col0\" >Target</td>\n",
       "      <td id=\"T_e26c2_row1_col1\" class=\"data row1 col1\" >survived</td>\n",
       "    </tr>\n",
       "    <tr>\n",
       "      <th id=\"T_e26c2_level0_row2\" class=\"row_heading level0 row2\" >2</th>\n",
       "      <td id=\"T_e26c2_row2_col0\" class=\"data row2 col0\" >Target type</td>\n",
       "      <td id=\"T_e26c2_row2_col1\" class=\"data row2 col1\" >Binary</td>\n",
       "    </tr>\n",
       "    <tr>\n",
       "      <th id=\"T_e26c2_level0_row3\" class=\"row_heading level0 row3\" >3</th>\n",
       "      <td id=\"T_e26c2_row3_col0\" class=\"data row3 col0\" >Original data shape</td>\n",
       "      <td id=\"T_e26c2_row3_col1\" class=\"data row3 col1\" >(350, 33)</td>\n",
       "    </tr>\n",
       "    <tr>\n",
       "      <th id=\"T_e26c2_level0_row4\" class=\"row_heading level0 row4\" >4</th>\n",
       "      <td id=\"T_e26c2_row4_col0\" class=\"data row4 col0\" >Transformed data shape</td>\n",
       "      <td id=\"T_e26c2_row4_col1\" class=\"data row4 col1\" >(350, 33)</td>\n",
       "    </tr>\n",
       "    <tr>\n",
       "      <th id=\"T_e26c2_level0_row5\" class=\"row_heading level0 row5\" >5</th>\n",
       "      <td id=\"T_e26c2_row5_col0\" class=\"data row5 col0\" >Transformed train set shape</td>\n",
       "      <td id=\"T_e26c2_row5_col1\" class=\"data row5 col1\" >(50, 33)</td>\n",
       "    </tr>\n",
       "    <tr>\n",
       "      <th id=\"T_e26c2_level0_row6\" class=\"row_heading level0 row6\" >6</th>\n",
       "      <td id=\"T_e26c2_row6_col0\" class=\"data row6 col0\" >Transformed test set shape</td>\n",
       "      <td id=\"T_e26c2_row6_col1\" class=\"data row6 col1\" >(300, 33)</td>\n",
       "    </tr>\n",
       "    <tr>\n",
       "      <th id=\"T_e26c2_level0_row7\" class=\"row_heading level0 row7\" >7</th>\n",
       "      <td id=\"T_e26c2_row7_col0\" class=\"data row7 col0\" >Numeric features</td>\n",
       "      <td id=\"T_e26c2_row7_col1\" class=\"data row7 col1\" >32</td>\n",
       "    </tr>\n",
       "    <tr>\n",
       "      <th id=\"T_e26c2_level0_row8\" class=\"row_heading level0 row8\" >8</th>\n",
       "      <td id=\"T_e26c2_row8_col0\" class=\"data row8 col0\" >Preprocess</td>\n",
       "      <td id=\"T_e26c2_row8_col1\" class=\"data row8 col1\" >True</td>\n",
       "    </tr>\n",
       "    <tr>\n",
       "      <th id=\"T_e26c2_level0_row9\" class=\"row_heading level0 row9\" >9</th>\n",
       "      <td id=\"T_e26c2_row9_col0\" class=\"data row9 col0\" >Imputation type</td>\n",
       "      <td id=\"T_e26c2_row9_col1\" class=\"data row9 col1\" >simple</td>\n",
       "    </tr>\n",
       "    <tr>\n",
       "      <th id=\"T_e26c2_level0_row10\" class=\"row_heading level0 row10\" >10</th>\n",
       "      <td id=\"T_e26c2_row10_col0\" class=\"data row10 col0\" >Numeric imputation</td>\n",
       "      <td id=\"T_e26c2_row10_col1\" class=\"data row10 col1\" >mean</td>\n",
       "    </tr>\n",
       "    <tr>\n",
       "      <th id=\"T_e26c2_level0_row11\" class=\"row_heading level0 row11\" >11</th>\n",
       "      <td id=\"T_e26c2_row11_col0\" class=\"data row11 col0\" >Categorical imputation</td>\n",
       "      <td id=\"T_e26c2_row11_col1\" class=\"data row11 col1\" >mode</td>\n",
       "    </tr>\n",
       "    <tr>\n",
       "      <th id=\"T_e26c2_level0_row12\" class=\"row_heading level0 row12\" >12</th>\n",
       "      <td id=\"T_e26c2_row12_col0\" class=\"data row12 col0\" >Fold Generator</td>\n",
       "      <td id=\"T_e26c2_row12_col1\" class=\"data row12 col1\" >StratifiedKFold</td>\n",
       "    </tr>\n",
       "    <tr>\n",
       "      <th id=\"T_e26c2_level0_row13\" class=\"row_heading level0 row13\" >13</th>\n",
       "      <td id=\"T_e26c2_row13_col0\" class=\"data row13 col0\" >Fold Number</td>\n",
       "      <td id=\"T_e26c2_row13_col1\" class=\"data row13 col1\" >10</td>\n",
       "    </tr>\n",
       "    <tr>\n",
       "      <th id=\"T_e26c2_level0_row14\" class=\"row_heading level0 row14\" >14</th>\n",
       "      <td id=\"T_e26c2_row14_col0\" class=\"data row14 col0\" >CPU Jobs</td>\n",
       "      <td id=\"T_e26c2_row14_col1\" class=\"data row14 col1\" >-1</td>\n",
       "    </tr>\n",
       "    <tr>\n",
       "      <th id=\"T_e26c2_level0_row15\" class=\"row_heading level0 row15\" >15</th>\n",
       "      <td id=\"T_e26c2_row15_col0\" class=\"data row15 col0\" >Use GPU</td>\n",
       "      <td id=\"T_e26c2_row15_col1\" class=\"data row15 col1\" >False</td>\n",
       "    </tr>\n",
       "    <tr>\n",
       "      <th id=\"T_e26c2_level0_row16\" class=\"row_heading level0 row16\" >16</th>\n",
       "      <td id=\"T_e26c2_row16_col0\" class=\"data row16 col0\" >Log Experiment</td>\n",
       "      <td id=\"T_e26c2_row16_col1\" class=\"data row16 col1\" >False</td>\n",
       "    </tr>\n",
       "    <tr>\n",
       "      <th id=\"T_e26c2_level0_row17\" class=\"row_heading level0 row17\" >17</th>\n",
       "      <td id=\"T_e26c2_row17_col0\" class=\"data row17 col0\" >Experiment Name</td>\n",
       "      <td id=\"T_e26c2_row17_col1\" class=\"data row17 col1\" >clf-default-name</td>\n",
       "    </tr>\n",
       "    <tr>\n",
       "      <th id=\"T_e26c2_level0_row18\" class=\"row_heading level0 row18\" >18</th>\n",
       "      <td id=\"T_e26c2_row18_col0\" class=\"data row18 col0\" >USI</td>\n",
       "      <td id=\"T_e26c2_row18_col1\" class=\"data row18 col1\" >0753</td>\n",
       "    </tr>\n",
       "  </tbody>\n",
       "</table>\n"
      ],
      "text/plain": [
       "<pandas.io.formats.style.Styler at 0xffff11697790>"
      ]
     },
     "metadata": {},
     "output_type": "display_data"
    },
    {
     "name": "stdout",
     "output_type": "stream",
     "text": [
      "lr\n"
     ]
    },
    {
     "data": {
      "text/html": [],
      "text/plain": [
       "<IPython.core.display.HTML object>"
      ]
     },
     "metadata": {},
     "output_type": "display_data"
    },
    {
     "data": {
      "text/html": [
       "<style type=\"text/css\">\n",
       "</style>\n",
       "<table id=\"T_51878\">\n",
       "  <thead>\n",
       "    <tr>\n",
       "      <th class=\"blank level0\" >&nbsp;</th>\n",
       "      <th id=\"T_51878_level0_col0\" class=\"col_heading level0 col0\" >Accuracy</th>\n",
       "      <th id=\"T_51878_level0_col1\" class=\"col_heading level0 col1\" >AUC</th>\n",
       "      <th id=\"T_51878_level0_col2\" class=\"col_heading level0 col2\" >Recall</th>\n",
       "      <th id=\"T_51878_level0_col3\" class=\"col_heading level0 col3\" >Prec.</th>\n",
       "      <th id=\"T_51878_level0_col4\" class=\"col_heading level0 col4\" >F1</th>\n",
       "      <th id=\"T_51878_level0_col5\" class=\"col_heading level0 col5\" >Kappa</th>\n",
       "      <th id=\"T_51878_level0_col6\" class=\"col_heading level0 col6\" >MCC</th>\n",
       "    </tr>\n",
       "  </thead>\n",
       "  <tbody>\n",
       "    <tr>\n",
       "      <th id=\"T_51878_level0_row0\" class=\"row_heading level0 row0\" >Test</th>\n",
       "      <td id=\"T_51878_row0_col0\" class=\"data row0 col0\" >0.9767</td>\n",
       "      <td id=\"T_51878_row0_col1\" class=\"data row0 col1\" >0.9965</td>\n",
       "      <td id=\"T_51878_row0_col2\" class=\"data row0 col2\" >1.0000</td>\n",
       "      <td id=\"T_51878_row0_col3\" class=\"data row0 col3\" >0.9340</td>\n",
       "      <td id=\"T_51878_row0_col4\" class=\"data row0 col4\" >0.9659</td>\n",
       "      <td id=\"T_51878_row0_col5\" class=\"data row0 col5\" >0.9482</td>\n",
       "      <td id=\"T_51878_row0_col6\" class=\"data row0 col6\" >0.9494</td>\n",
       "    </tr>\n",
       "  </tbody>\n",
       "</table>\n"
      ],
      "text/plain": [
       "<pandas.io.formats.style.Styler at 0xffff11ac3a30>"
      ]
     },
     "metadata": {},
     "output_type": "display_data"
    },
    {
     "data": {
      "text/html": [],
      "text/plain": [
       "<IPython.core.display.HTML object>"
      ]
     },
     "metadata": {},
     "output_type": "display_data"
    },
    {
     "name": "stdout",
     "output_type": "stream",
     "text": [
      "knn\n"
     ]
    },
    {
     "data": {
      "text/html": [],
      "text/plain": [
       "<IPython.core.display.HTML object>"
      ]
     },
     "metadata": {},
     "output_type": "display_data"
    },
    {
     "data": {
      "text/html": [
       "<style type=\"text/css\">\n",
       "</style>\n",
       "<table id=\"T_c74b3\">\n",
       "  <thead>\n",
       "    <tr>\n",
       "      <th class=\"blank level0\" >&nbsp;</th>\n",
       "      <th id=\"T_c74b3_level0_col0\" class=\"col_heading level0 col0\" >Accuracy</th>\n",
       "      <th id=\"T_c74b3_level0_col1\" class=\"col_heading level0 col1\" >AUC</th>\n",
       "      <th id=\"T_c74b3_level0_col2\" class=\"col_heading level0 col2\" >Recall</th>\n",
       "      <th id=\"T_c74b3_level0_col3\" class=\"col_heading level0 col3\" >Prec.</th>\n",
       "      <th id=\"T_c74b3_level0_col4\" class=\"col_heading level0 col4\" >F1</th>\n",
       "      <th id=\"T_c74b3_level0_col5\" class=\"col_heading level0 col5\" >Kappa</th>\n",
       "      <th id=\"T_c74b3_level0_col6\" class=\"col_heading level0 col6\" >MCC</th>\n",
       "    </tr>\n",
       "  </thead>\n",
       "  <tbody>\n",
       "    <tr>\n",
       "      <th id=\"T_c74b3_level0_row0\" class=\"row_heading level0 row0\" >Test</th>\n",
       "      <td id=\"T_c74b3_row0_col0\" class=\"data row0 col0\" >0.6533</td>\n",
       "      <td id=\"T_c74b3_row0_col1\" class=\"data row0 col1\" >0.6958</td>\n",
       "      <td id=\"T_c74b3_row0_col2\" class=\"data row0 col2\" >0.5859</td>\n",
       "      <td id=\"T_c74b3_row0_col3\" class=\"data row0 col3\" >0.4793</td>\n",
       "      <td id=\"T_c74b3_row0_col4\" class=\"data row0 col4\" >0.5273</td>\n",
       "      <td id=\"T_c74b3_row0_col5\" class=\"data row0 col5\" >0.2579</td>\n",
       "      <td id=\"T_c74b3_row0_col6\" class=\"data row0 col6\" >0.2611</td>\n",
       "    </tr>\n",
       "  </tbody>\n",
       "</table>\n"
      ],
      "text/plain": [
       "<pandas.io.formats.style.Styler at 0xffff11fb7280>"
      ]
     },
     "metadata": {},
     "output_type": "display_data"
    },
    {
     "data": {
      "text/html": [],
      "text/plain": [
       "<IPython.core.display.HTML object>"
      ]
     },
     "metadata": {},
     "output_type": "display_data"
    },
    {
     "name": "stdout",
     "output_type": "stream",
     "text": [
      "nb\n"
     ]
    },
    {
     "data": {
      "text/html": [],
      "text/plain": [
       "<IPython.core.display.HTML object>"
      ]
     },
     "metadata": {},
     "output_type": "display_data"
    },
    {
     "data": {
      "text/html": [
       "<style type=\"text/css\">\n",
       "</style>\n",
       "<table id=\"T_83bef\">\n",
       "  <thead>\n",
       "    <tr>\n",
       "      <th class=\"blank level0\" >&nbsp;</th>\n",
       "      <th id=\"T_83bef_level0_col0\" class=\"col_heading level0 col0\" >Accuracy</th>\n",
       "      <th id=\"T_83bef_level0_col1\" class=\"col_heading level0 col1\" >AUC</th>\n",
       "      <th id=\"T_83bef_level0_col2\" class=\"col_heading level0 col2\" >Recall</th>\n",
       "      <th id=\"T_83bef_level0_col3\" class=\"col_heading level0 col3\" >Prec.</th>\n",
       "      <th id=\"T_83bef_level0_col4\" class=\"col_heading level0 col4\" >F1</th>\n",
       "      <th id=\"T_83bef_level0_col5\" class=\"col_heading level0 col5\" >Kappa</th>\n",
       "      <th id=\"T_83bef_level0_col6\" class=\"col_heading level0 col6\" >MCC</th>\n",
       "    </tr>\n",
       "  </thead>\n",
       "  <tbody>\n",
       "    <tr>\n",
       "      <th id=\"T_83bef_level0_row0\" class=\"row_heading level0 row0\" >Test</th>\n",
       "      <td id=\"T_83bef_row0_col0\" class=\"data row0 col0\" >1.0000</td>\n",
       "      <td id=\"T_83bef_row0_col1\" class=\"data row0 col1\" >1.0000</td>\n",
       "      <td id=\"T_83bef_row0_col2\" class=\"data row0 col2\" >1.0000</td>\n",
       "      <td id=\"T_83bef_row0_col3\" class=\"data row0 col3\" >1.0000</td>\n",
       "      <td id=\"T_83bef_row0_col4\" class=\"data row0 col4\" >1.0000</td>\n",
       "      <td id=\"T_83bef_row0_col5\" class=\"data row0 col5\" >1.0000</td>\n",
       "      <td id=\"T_83bef_row0_col6\" class=\"data row0 col6\" >1.0000</td>\n",
       "    </tr>\n",
       "  </tbody>\n",
       "</table>\n"
      ],
      "text/plain": [
       "<pandas.io.formats.style.Styler at 0xffff119e5840>"
      ]
     },
     "metadata": {},
     "output_type": "display_data"
    },
    {
     "data": {
      "text/html": [],
      "text/plain": [
       "<IPython.core.display.HTML object>"
      ]
     },
     "metadata": {},
     "output_type": "display_data"
    },
    {
     "name": "stdout",
     "output_type": "stream",
     "text": [
      "dt\n"
     ]
    },
    {
     "data": {
      "text/html": [],
      "text/plain": [
       "<IPython.core.display.HTML object>"
      ]
     },
     "metadata": {},
     "output_type": "display_data"
    },
    {
     "data": {
      "text/html": [
       "<style type=\"text/css\">\n",
       "</style>\n",
       "<table id=\"T_efc05\">\n",
       "  <thead>\n",
       "    <tr>\n",
       "      <th class=\"blank level0\" >&nbsp;</th>\n",
       "      <th id=\"T_efc05_level0_col0\" class=\"col_heading level0 col0\" >Accuracy</th>\n",
       "      <th id=\"T_efc05_level0_col1\" class=\"col_heading level0 col1\" >AUC</th>\n",
       "      <th id=\"T_efc05_level0_col2\" class=\"col_heading level0 col2\" >Recall</th>\n",
       "      <th id=\"T_efc05_level0_col3\" class=\"col_heading level0 col3\" >Prec.</th>\n",
       "      <th id=\"T_efc05_level0_col4\" class=\"col_heading level0 col4\" >F1</th>\n",
       "      <th id=\"T_efc05_level0_col5\" class=\"col_heading level0 col5\" >Kappa</th>\n",
       "      <th id=\"T_efc05_level0_col6\" class=\"col_heading level0 col6\" >MCC</th>\n",
       "    </tr>\n",
       "  </thead>\n",
       "  <tbody>\n",
       "    <tr>\n",
       "      <th id=\"T_efc05_level0_row0\" class=\"row_heading level0 row0\" >Test</th>\n",
       "      <td id=\"T_efc05_row0_col0\" class=\"data row0 col0\" >1.0000</td>\n",
       "      <td id=\"T_efc05_row0_col1\" class=\"data row0 col1\" >1.0000</td>\n",
       "      <td id=\"T_efc05_row0_col2\" class=\"data row0 col2\" >1.0000</td>\n",
       "      <td id=\"T_efc05_row0_col3\" class=\"data row0 col3\" >1.0000</td>\n",
       "      <td id=\"T_efc05_row0_col4\" class=\"data row0 col4\" >1.0000</td>\n",
       "      <td id=\"T_efc05_row0_col5\" class=\"data row0 col5\" >1.0000</td>\n",
       "      <td id=\"T_efc05_row0_col6\" class=\"data row0 col6\" >1.0000</td>\n",
       "    </tr>\n",
       "  </tbody>\n",
       "</table>\n"
      ],
      "text/plain": [
       "<pandas.io.formats.style.Styler at 0xffff118fd510>"
      ]
     },
     "metadata": {},
     "output_type": "display_data"
    },
    {
     "data": {
      "text/html": [],
      "text/plain": [
       "<IPython.core.display.HTML object>"
      ]
     },
     "metadata": {},
     "output_type": "display_data"
    },
    {
     "name": "stdout",
     "output_type": "stream",
     "text": [
      "svm\n"
     ]
    },
    {
     "data": {
      "text/html": [],
      "text/plain": [
       "<IPython.core.display.HTML object>"
      ]
     },
     "metadata": {},
     "output_type": "display_data"
    },
    {
     "data": {
      "text/html": [
       "<style type=\"text/css\">\n",
       "</style>\n",
       "<table id=\"T_0ac94\">\n",
       "  <thead>\n",
       "    <tr>\n",
       "      <th class=\"blank level0\" >&nbsp;</th>\n",
       "      <th id=\"T_0ac94_level0_col0\" class=\"col_heading level0 col0\" >Accuracy</th>\n",
       "      <th id=\"T_0ac94_level0_col1\" class=\"col_heading level0 col1\" >AUC</th>\n",
       "      <th id=\"T_0ac94_level0_col2\" class=\"col_heading level0 col2\" >Recall</th>\n",
       "      <th id=\"T_0ac94_level0_col3\" class=\"col_heading level0 col3\" >Prec.</th>\n",
       "      <th id=\"T_0ac94_level0_col4\" class=\"col_heading level0 col4\" >F1</th>\n",
       "      <th id=\"T_0ac94_level0_col5\" class=\"col_heading level0 col5\" >Kappa</th>\n",
       "      <th id=\"T_0ac94_level0_col6\" class=\"col_heading level0 col6\" >MCC</th>\n",
       "    </tr>\n",
       "  </thead>\n",
       "  <tbody>\n",
       "    <tr>\n",
       "      <th id=\"T_0ac94_level0_row0\" class=\"row_heading level0 row0\" >Test</th>\n",
       "      <td id=\"T_0ac94_row0_col0\" class=\"data row0 col0\" >0.8000</td>\n",
       "      <td id=\"T_0ac94_row0_col1\" class=\"data row0 col1\" >0.8379</td>\n",
       "      <td id=\"T_0ac94_row0_col2\" class=\"data row0 col2\" >0.9495</td>\n",
       "      <td id=\"T_0ac94_row0_col3\" class=\"data row0 col3\" >0.6309</td>\n",
       "      <td id=\"T_0ac94_row0_col4\" class=\"data row0 col4\" >0.7581</td>\n",
       "      <td id=\"T_0ac94_row0_col5\" class=\"data row0 col5\" >0.5991</td>\n",
       "      <td id=\"T_0ac94_row0_col6\" class=\"data row0 col6\" >0.6356</td>\n",
       "    </tr>\n",
       "  </tbody>\n",
       "</table>\n"
      ],
      "text/plain": [
       "<pandas.io.formats.style.Styler at 0xffff11ac2830>"
      ]
     },
     "metadata": {},
     "output_type": "display_data"
    },
    {
     "data": {
      "text/html": [],
      "text/plain": [
       "<IPython.core.display.HTML object>"
      ]
     },
     "metadata": {},
     "output_type": "display_data"
    },
    {
     "name": "stdout",
     "output_type": "stream",
     "text": [
      "rbfsvm\n"
     ]
    },
    {
     "data": {
      "text/html": [],
      "text/plain": [
       "<IPython.core.display.HTML object>"
      ]
     },
     "metadata": {},
     "output_type": "display_data"
    },
    {
     "data": {
      "text/html": [
       "<style type=\"text/css\">\n",
       "</style>\n",
       "<table id=\"T_fbe1e\">\n",
       "  <thead>\n",
       "    <tr>\n",
       "      <th class=\"blank level0\" >&nbsp;</th>\n",
       "      <th id=\"T_fbe1e_level0_col0\" class=\"col_heading level0 col0\" >Accuracy</th>\n",
       "      <th id=\"T_fbe1e_level0_col1\" class=\"col_heading level0 col1\" >AUC</th>\n",
       "      <th id=\"T_fbe1e_level0_col2\" class=\"col_heading level0 col2\" >Recall</th>\n",
       "      <th id=\"T_fbe1e_level0_col3\" class=\"col_heading level0 col3\" >Prec.</th>\n",
       "      <th id=\"T_fbe1e_level0_col4\" class=\"col_heading level0 col4\" >F1</th>\n",
       "      <th id=\"T_fbe1e_level0_col5\" class=\"col_heading level0 col5\" >Kappa</th>\n",
       "      <th id=\"T_fbe1e_level0_col6\" class=\"col_heading level0 col6\" >MCC</th>\n",
       "    </tr>\n",
       "  </thead>\n",
       "  <tbody>\n",
       "    <tr>\n",
       "      <th id=\"T_fbe1e_level0_row0\" class=\"row_heading level0 row0\" >Test</th>\n",
       "      <td id=\"T_fbe1e_row0_col0\" class=\"data row0 col0\" >0.6800</td>\n",
       "      <td id=\"T_fbe1e_row0_col1\" class=\"data row0 col1\" >0.7512</td>\n",
       "      <td id=\"T_fbe1e_row0_col2\" class=\"data row0 col2\" >0.7172</td>\n",
       "      <td id=\"T_fbe1e_row0_col3\" class=\"data row0 col3\" >0.5108</td>\n",
       "      <td id=\"T_fbe1e_row0_col4\" class=\"data row0 col4\" >0.5966</td>\n",
       "      <td id=\"T_fbe1e_row0_col5\" class=\"data row0 col5\" >0.3436</td>\n",
       "      <td id=\"T_fbe1e_row0_col6\" class=\"data row0 col6\" >0.3573</td>\n",
       "    </tr>\n",
       "  </tbody>\n",
       "</table>\n"
      ],
      "text/plain": [
       "<pandas.io.formats.style.Styler at 0xffff11e88190>"
      ]
     },
     "metadata": {},
     "output_type": "display_data"
    },
    {
     "data": {
      "text/html": [],
      "text/plain": [
       "<IPython.core.display.HTML object>"
      ]
     },
     "metadata": {},
     "output_type": "display_data"
    },
    {
     "name": "stdout",
     "output_type": "stream",
     "text": [
      "gpc\n"
     ]
    },
    {
     "data": {
      "text/html": [],
      "text/plain": [
       "<IPython.core.display.HTML object>"
      ]
     },
     "metadata": {},
     "output_type": "display_data"
    },
    {
     "data": {
      "text/html": [
       "<style type=\"text/css\">\n",
       "</style>\n",
       "<table id=\"T_c48b9\">\n",
       "  <thead>\n",
       "    <tr>\n",
       "      <th class=\"blank level0\" >&nbsp;</th>\n",
       "      <th id=\"T_c48b9_level0_col0\" class=\"col_heading level0 col0\" >Accuracy</th>\n",
       "      <th id=\"T_c48b9_level0_col1\" class=\"col_heading level0 col1\" >AUC</th>\n",
       "      <th id=\"T_c48b9_level0_col2\" class=\"col_heading level0 col2\" >Recall</th>\n",
       "      <th id=\"T_c48b9_level0_col3\" class=\"col_heading level0 col3\" >Prec.</th>\n",
       "      <th id=\"T_c48b9_level0_col4\" class=\"col_heading level0 col4\" >F1</th>\n",
       "      <th id=\"T_c48b9_level0_col5\" class=\"col_heading level0 col5\" >Kappa</th>\n",
       "      <th id=\"T_c48b9_level0_col6\" class=\"col_heading level0 col6\" >MCC</th>\n",
       "    </tr>\n",
       "  </thead>\n",
       "  <tbody>\n",
       "    <tr>\n",
       "      <th id=\"T_c48b9_level0_row0\" class=\"row_heading level0 row0\" >Test</th>\n",
       "      <td id=\"T_c48b9_row0_col0\" class=\"data row0 col0\" >0.6900</td>\n",
       "      <td id=\"T_c48b9_row0_col1\" class=\"data row0 col1\" >0.7141</td>\n",
       "      <td id=\"T_c48b9_row0_col2\" class=\"data row0 col2\" >0.5455</td>\n",
       "      <td id=\"T_c48b9_row0_col3\" class=\"data row0 col3\" >0.5294</td>\n",
       "      <td id=\"T_c48b9_row0_col4\" class=\"data row0 col4\" >0.5373</td>\n",
       "      <td id=\"T_c48b9_row0_col5\" class=\"data row0 col5\" >0.3043</td>\n",
       "      <td id=\"T_c48b9_row0_col6\" class=\"data row0 col6\" >0.3044</td>\n",
       "    </tr>\n",
       "  </tbody>\n",
       "</table>\n"
      ],
      "text/plain": [
       "<pandas.io.formats.style.Styler at 0xffff10d57280>"
      ]
     },
     "metadata": {},
     "output_type": "display_data"
    },
    {
     "data": {
      "text/html": [],
      "text/plain": [
       "<IPython.core.display.HTML object>"
      ]
     },
     "metadata": {},
     "output_type": "display_data"
    },
    {
     "name": "stdout",
     "output_type": "stream",
     "text": [
      "mlp\n"
     ]
    },
    {
     "data": {
      "text/html": [],
      "text/plain": [
       "<IPython.core.display.HTML object>"
      ]
     },
     "metadata": {},
     "output_type": "display_data"
    },
    {
     "data": {
      "text/html": [
       "<style type=\"text/css\">\n",
       "</style>\n",
       "<table id=\"T_2d801\">\n",
       "  <thead>\n",
       "    <tr>\n",
       "      <th class=\"blank level0\" >&nbsp;</th>\n",
       "      <th id=\"T_2d801_level0_col0\" class=\"col_heading level0 col0\" >Accuracy</th>\n",
       "      <th id=\"T_2d801_level0_col1\" class=\"col_heading level0 col1\" >AUC</th>\n",
       "      <th id=\"T_2d801_level0_col2\" class=\"col_heading level0 col2\" >Recall</th>\n",
       "      <th id=\"T_2d801_level0_col3\" class=\"col_heading level0 col3\" >Prec.</th>\n",
       "      <th id=\"T_2d801_level0_col4\" class=\"col_heading level0 col4\" >F1</th>\n",
       "      <th id=\"T_2d801_level0_col5\" class=\"col_heading level0 col5\" >Kappa</th>\n",
       "      <th id=\"T_2d801_level0_col6\" class=\"col_heading level0 col6\" >MCC</th>\n",
       "    </tr>\n",
       "  </thead>\n",
       "  <tbody>\n",
       "    <tr>\n",
       "      <th id=\"T_2d801_level0_row0\" class=\"row_heading level0 row0\" >Test</th>\n",
       "      <td id=\"T_2d801_row0_col0\" class=\"data row0 col0\" >0.9700</td>\n",
       "      <td id=\"T_2d801_row0_col1\" class=\"data row0 col1\" >0.9870</td>\n",
       "      <td id=\"T_2d801_row0_col2\" class=\"data row0 col2\" >0.9798</td>\n",
       "      <td id=\"T_2d801_row0_col3\" class=\"data row0 col3\" >0.9327</td>\n",
       "      <td id=\"T_2d801_row0_col4\" class=\"data row0 col4\" >0.9557</td>\n",
       "      <td id=\"T_2d801_row0_col5\" class=\"data row0 col5\" >0.9330</td>\n",
       "      <td id=\"T_2d801_row0_col6\" class=\"data row0 col6\" >0.9337</td>\n",
       "    </tr>\n",
       "  </tbody>\n",
       "</table>\n"
      ],
      "text/plain": [
       "<pandas.io.formats.style.Styler at 0xffff10cb28f0>"
      ]
     },
     "metadata": {},
     "output_type": "display_data"
    },
    {
     "data": {
      "text/html": [],
      "text/plain": [
       "<IPython.core.display.HTML object>"
      ]
     },
     "metadata": {},
     "output_type": "display_data"
    },
    {
     "name": "stdout",
     "output_type": "stream",
     "text": [
      "ridge\n"
     ]
    },
    {
     "data": {
      "text/html": [],
      "text/plain": [
       "<IPython.core.display.HTML object>"
      ]
     },
     "metadata": {},
     "output_type": "display_data"
    },
    {
     "data": {
      "text/html": [
       "<style type=\"text/css\">\n",
       "</style>\n",
       "<table id=\"T_99773\">\n",
       "  <thead>\n",
       "    <tr>\n",
       "      <th class=\"blank level0\" >&nbsp;</th>\n",
       "      <th id=\"T_99773_level0_col0\" class=\"col_heading level0 col0\" >Accuracy</th>\n",
       "      <th id=\"T_99773_level0_col1\" class=\"col_heading level0 col1\" >AUC</th>\n",
       "      <th id=\"T_99773_level0_col2\" class=\"col_heading level0 col2\" >Recall</th>\n",
       "      <th id=\"T_99773_level0_col3\" class=\"col_heading level0 col3\" >Prec.</th>\n",
       "      <th id=\"T_99773_level0_col4\" class=\"col_heading level0 col4\" >F1</th>\n",
       "      <th id=\"T_99773_level0_col5\" class=\"col_heading level0 col5\" >Kappa</th>\n",
       "      <th id=\"T_99773_level0_col6\" class=\"col_heading level0 col6\" >MCC</th>\n",
       "    </tr>\n",
       "  </thead>\n",
       "  <tbody>\n",
       "    <tr>\n",
       "      <th id=\"T_99773_level0_row0\" class=\"row_heading level0 row0\" >Test</th>\n",
       "      <td id=\"T_99773_row0_col0\" class=\"data row0 col0\" >1.0000</td>\n",
       "      <td id=\"T_99773_row0_col1\" class=\"data row0 col1\" >1.0000</td>\n",
       "      <td id=\"T_99773_row0_col2\" class=\"data row0 col2\" >1.0000</td>\n",
       "      <td id=\"T_99773_row0_col3\" class=\"data row0 col3\" >1.0000</td>\n",
       "      <td id=\"T_99773_row0_col4\" class=\"data row0 col4\" >1.0000</td>\n",
       "      <td id=\"T_99773_row0_col5\" class=\"data row0 col5\" >1.0000</td>\n",
       "      <td id=\"T_99773_row0_col6\" class=\"data row0 col6\" >1.0000</td>\n",
       "    </tr>\n",
       "  </tbody>\n",
       "</table>\n"
      ],
      "text/plain": [
       "<pandas.io.formats.style.Styler at 0xffff118ffee0>"
      ]
     },
     "metadata": {},
     "output_type": "display_data"
    },
    {
     "data": {
      "text/html": [],
      "text/plain": [
       "<IPython.core.display.HTML object>"
      ]
     },
     "metadata": {},
     "output_type": "display_data"
    },
    {
     "name": "stdout",
     "output_type": "stream",
     "text": [
      "rf\n"
     ]
    },
    {
     "data": {
      "text/html": [],
      "text/plain": [
       "<IPython.core.display.HTML object>"
      ]
     },
     "metadata": {},
     "output_type": "display_data"
    },
    {
     "data": {
      "text/html": [
       "<style type=\"text/css\">\n",
       "</style>\n",
       "<table id=\"T_ed473\">\n",
       "  <thead>\n",
       "    <tr>\n",
       "      <th class=\"blank level0\" >&nbsp;</th>\n",
       "      <th id=\"T_ed473_level0_col0\" class=\"col_heading level0 col0\" >Accuracy</th>\n",
       "      <th id=\"T_ed473_level0_col1\" class=\"col_heading level0 col1\" >AUC</th>\n",
       "      <th id=\"T_ed473_level0_col2\" class=\"col_heading level0 col2\" >Recall</th>\n",
       "      <th id=\"T_ed473_level0_col3\" class=\"col_heading level0 col3\" >Prec.</th>\n",
       "      <th id=\"T_ed473_level0_col4\" class=\"col_heading level0 col4\" >F1</th>\n",
       "      <th id=\"T_ed473_level0_col5\" class=\"col_heading level0 col5\" >Kappa</th>\n",
       "      <th id=\"T_ed473_level0_col6\" class=\"col_heading level0 col6\" >MCC</th>\n",
       "    </tr>\n",
       "  </thead>\n",
       "  <tbody>\n",
       "    <tr>\n",
       "      <th id=\"T_ed473_level0_row0\" class=\"row_heading level0 row0\" >Test</th>\n",
       "      <td id=\"T_ed473_row0_col0\" class=\"data row0 col0\" >1.0000</td>\n",
       "      <td id=\"T_ed473_row0_col1\" class=\"data row0 col1\" >1.0000</td>\n",
       "      <td id=\"T_ed473_row0_col2\" class=\"data row0 col2\" >1.0000</td>\n",
       "      <td id=\"T_ed473_row0_col3\" class=\"data row0 col3\" >1.0000</td>\n",
       "      <td id=\"T_ed473_row0_col4\" class=\"data row0 col4\" >1.0000</td>\n",
       "      <td id=\"T_ed473_row0_col5\" class=\"data row0 col5\" >1.0000</td>\n",
       "      <td id=\"T_ed473_row0_col6\" class=\"data row0 col6\" >1.0000</td>\n",
       "    </tr>\n",
       "  </tbody>\n",
       "</table>\n"
      ],
      "text/plain": [
       "<pandas.io.formats.style.Styler at 0xffff2fb98670>"
      ]
     },
     "metadata": {},
     "output_type": "display_data"
    },
    {
     "data": {
      "text/html": [],
      "text/plain": [
       "<IPython.core.display.HTML object>"
      ]
     },
     "metadata": {},
     "output_type": "display_data"
    },
    {
     "name": "stdout",
     "output_type": "stream",
     "text": [
      "qda\n"
     ]
    },
    {
     "data": {
      "text/html": [],
      "text/plain": [
       "<IPython.core.display.HTML object>"
      ]
     },
     "metadata": {},
     "output_type": "display_data"
    },
    {
     "data": {
      "text/html": [
       "<style type=\"text/css\">\n",
       "</style>\n",
       "<table id=\"T_3036e\">\n",
       "  <thead>\n",
       "    <tr>\n",
       "      <th class=\"blank level0\" >&nbsp;</th>\n",
       "      <th id=\"T_3036e_level0_col0\" class=\"col_heading level0 col0\" >Accuracy</th>\n",
       "      <th id=\"T_3036e_level0_col1\" class=\"col_heading level0 col1\" >AUC</th>\n",
       "      <th id=\"T_3036e_level0_col2\" class=\"col_heading level0 col2\" >Recall</th>\n",
       "      <th id=\"T_3036e_level0_col3\" class=\"col_heading level0 col3\" >Prec.</th>\n",
       "      <th id=\"T_3036e_level0_col4\" class=\"col_heading level0 col4\" >F1</th>\n",
       "      <th id=\"T_3036e_level0_col5\" class=\"col_heading level0 col5\" >Kappa</th>\n",
       "      <th id=\"T_3036e_level0_col6\" class=\"col_heading level0 col6\" >MCC</th>\n",
       "    </tr>\n",
       "  </thead>\n",
       "  <tbody>\n",
       "    <tr>\n",
       "      <th id=\"T_3036e_level0_row0\" class=\"row_heading level0 row0\" >Test</th>\n",
       "      <td id=\"T_3036e_row0_col0\" class=\"data row0 col0\" >0.6700</td>\n",
       "      <td id=\"T_3036e_row0_col1\" class=\"data row0 col1\" >0</td>\n",
       "      <td id=\"T_3036e_row0_col2\" class=\"data row0 col2\" >0.0000</td>\n",
       "      <td id=\"T_3036e_row0_col3\" class=\"data row0 col3\" >0.0000</td>\n",
       "      <td id=\"T_3036e_row0_col4\" class=\"data row0 col4\" >0.0000</td>\n",
       "      <td id=\"T_3036e_row0_col5\" class=\"data row0 col5\" >0.0000</td>\n",
       "      <td id=\"T_3036e_row0_col6\" class=\"data row0 col6\" >0.0000</td>\n",
       "    </tr>\n",
       "  </tbody>\n",
       "</table>\n"
      ],
      "text/plain": [
       "<pandas.io.formats.style.Styler at 0xffff2fb98670>"
      ]
     },
     "metadata": {},
     "output_type": "display_data"
    },
    {
     "data": {
      "text/html": [],
      "text/plain": [
       "<IPython.core.display.HTML object>"
      ]
     },
     "metadata": {},
     "output_type": "display_data"
    },
    {
     "name": "stdout",
     "output_type": "stream",
     "text": [
      "ada\n"
     ]
    },
    {
     "data": {
      "text/html": [],
      "text/plain": [
       "<IPython.core.display.HTML object>"
      ]
     },
     "metadata": {},
     "output_type": "display_data"
    },
    {
     "data": {
      "text/html": [
       "<style type=\"text/css\">\n",
       "</style>\n",
       "<table id=\"T_9a17c\">\n",
       "  <thead>\n",
       "    <tr>\n",
       "      <th class=\"blank level0\" >&nbsp;</th>\n",
       "      <th id=\"T_9a17c_level0_col0\" class=\"col_heading level0 col0\" >Accuracy</th>\n",
       "      <th id=\"T_9a17c_level0_col1\" class=\"col_heading level0 col1\" >AUC</th>\n",
       "      <th id=\"T_9a17c_level0_col2\" class=\"col_heading level0 col2\" >Recall</th>\n",
       "      <th id=\"T_9a17c_level0_col3\" class=\"col_heading level0 col3\" >Prec.</th>\n",
       "      <th id=\"T_9a17c_level0_col4\" class=\"col_heading level0 col4\" >F1</th>\n",
       "      <th id=\"T_9a17c_level0_col5\" class=\"col_heading level0 col5\" >Kappa</th>\n",
       "      <th id=\"T_9a17c_level0_col6\" class=\"col_heading level0 col6\" >MCC</th>\n",
       "    </tr>\n",
       "  </thead>\n",
       "  <tbody>\n",
       "    <tr>\n",
       "      <th id=\"T_9a17c_level0_row0\" class=\"row_heading level0 row0\" >Test</th>\n",
       "      <td id=\"T_9a17c_row0_col0\" class=\"data row0 col0\" >1.0000</td>\n",
       "      <td id=\"T_9a17c_row0_col1\" class=\"data row0 col1\" >1.0000</td>\n",
       "      <td id=\"T_9a17c_row0_col2\" class=\"data row0 col2\" >1.0000</td>\n",
       "      <td id=\"T_9a17c_row0_col3\" class=\"data row0 col3\" >1.0000</td>\n",
       "      <td id=\"T_9a17c_row0_col4\" class=\"data row0 col4\" >1.0000</td>\n",
       "      <td id=\"T_9a17c_row0_col5\" class=\"data row0 col5\" >1.0000</td>\n",
       "      <td id=\"T_9a17c_row0_col6\" class=\"data row0 col6\" >1.0000</td>\n",
       "    </tr>\n",
       "  </tbody>\n",
       "</table>\n"
      ],
      "text/plain": [
       "<pandas.io.formats.style.Styler at 0xffff119de470>"
      ]
     },
     "metadata": {},
     "output_type": "display_data"
    },
    {
     "data": {
      "text/html": [],
      "text/plain": [
       "<IPython.core.display.HTML object>"
      ]
     },
     "metadata": {},
     "output_type": "display_data"
    },
    {
     "name": "stdout",
     "output_type": "stream",
     "text": [
      "gbc\n"
     ]
    },
    {
     "data": {
      "text/html": [],
      "text/plain": [
       "<IPython.core.display.HTML object>"
      ]
     },
     "metadata": {},
     "output_type": "display_data"
    },
    {
     "data": {
      "text/html": [
       "<style type=\"text/css\">\n",
       "</style>\n",
       "<table id=\"T_2a1a3\">\n",
       "  <thead>\n",
       "    <tr>\n",
       "      <th class=\"blank level0\" >&nbsp;</th>\n",
       "      <th id=\"T_2a1a3_level0_col0\" class=\"col_heading level0 col0\" >Accuracy</th>\n",
       "      <th id=\"T_2a1a3_level0_col1\" class=\"col_heading level0 col1\" >AUC</th>\n",
       "      <th id=\"T_2a1a3_level0_col2\" class=\"col_heading level0 col2\" >Recall</th>\n",
       "      <th id=\"T_2a1a3_level0_col3\" class=\"col_heading level0 col3\" >Prec.</th>\n",
       "      <th id=\"T_2a1a3_level0_col4\" class=\"col_heading level0 col4\" >F1</th>\n",
       "      <th id=\"T_2a1a3_level0_col5\" class=\"col_heading level0 col5\" >Kappa</th>\n",
       "      <th id=\"T_2a1a3_level0_col6\" class=\"col_heading level0 col6\" >MCC</th>\n",
       "    </tr>\n",
       "  </thead>\n",
       "  <tbody>\n",
       "    <tr>\n",
       "      <th id=\"T_2a1a3_level0_row0\" class=\"row_heading level0 row0\" >Test</th>\n",
       "      <td id=\"T_2a1a3_row0_col0\" class=\"data row0 col0\" >1.0000</td>\n",
       "      <td id=\"T_2a1a3_row0_col1\" class=\"data row0 col1\" >1.0000</td>\n",
       "      <td id=\"T_2a1a3_row0_col2\" class=\"data row0 col2\" >1.0000</td>\n",
       "      <td id=\"T_2a1a3_row0_col3\" class=\"data row0 col3\" >1.0000</td>\n",
       "      <td id=\"T_2a1a3_row0_col4\" class=\"data row0 col4\" >1.0000</td>\n",
       "      <td id=\"T_2a1a3_row0_col5\" class=\"data row0 col5\" >1.0000</td>\n",
       "      <td id=\"T_2a1a3_row0_col6\" class=\"data row0 col6\" >1.0000</td>\n",
       "    </tr>\n",
       "  </tbody>\n",
       "</table>\n"
      ],
      "text/plain": [
       "<pandas.io.formats.style.Styler at 0xffff119e6980>"
      ]
     },
     "metadata": {},
     "output_type": "display_data"
    },
    {
     "data": {
      "text/html": [],
      "text/plain": [
       "<IPython.core.display.HTML object>"
      ]
     },
     "metadata": {},
     "output_type": "display_data"
    },
    {
     "name": "stdout",
     "output_type": "stream",
     "text": [
      "lda\n"
     ]
    },
    {
     "data": {
      "text/html": [],
      "text/plain": [
       "<IPython.core.display.HTML object>"
      ]
     },
     "metadata": {},
     "output_type": "display_data"
    },
    {
     "data": {
      "text/html": [
       "<style type=\"text/css\">\n",
       "</style>\n",
       "<table id=\"T_797f2\">\n",
       "  <thead>\n",
       "    <tr>\n",
       "      <th class=\"blank level0\" >&nbsp;</th>\n",
       "      <th id=\"T_797f2_level0_col0\" class=\"col_heading level0 col0\" >Accuracy</th>\n",
       "      <th id=\"T_797f2_level0_col1\" class=\"col_heading level0 col1\" >AUC</th>\n",
       "      <th id=\"T_797f2_level0_col2\" class=\"col_heading level0 col2\" >Recall</th>\n",
       "      <th id=\"T_797f2_level0_col3\" class=\"col_heading level0 col3\" >Prec.</th>\n",
       "      <th id=\"T_797f2_level0_col4\" class=\"col_heading level0 col4\" >F1</th>\n",
       "      <th id=\"T_797f2_level0_col5\" class=\"col_heading level0 col5\" >Kappa</th>\n",
       "      <th id=\"T_797f2_level0_col6\" class=\"col_heading level0 col6\" >MCC</th>\n",
       "    </tr>\n",
       "  </thead>\n",
       "  <tbody>\n",
       "    <tr>\n",
       "      <th id=\"T_797f2_level0_row0\" class=\"row_heading level0 row0\" >Test</th>\n",
       "      <td id=\"T_797f2_row0_col0\" class=\"data row0 col0\" >0.8100</td>\n",
       "      <td id=\"T_797f2_row0_col1\" class=\"data row0 col1\" >0.7941</td>\n",
       "      <td id=\"T_797f2_row0_col2\" class=\"data row0 col2\" >0.7980</td>\n",
       "      <td id=\"T_797f2_row0_col3\" class=\"data row0 col3\" >0.6810</td>\n",
       "      <td id=\"T_797f2_row0_col4\" class=\"data row0 col4\" >0.7349</td>\n",
       "      <td id=\"T_797f2_row0_col5\" class=\"data row0 col5\" >0.5883</td>\n",
       "      <td id=\"T_797f2_row0_col6\" class=\"data row0 col6\" >0.5928</td>\n",
       "    </tr>\n",
       "  </tbody>\n",
       "</table>\n"
      ],
      "text/plain": [
       "<pandas.io.formats.style.Styler at 0xffff111774c0>"
      ]
     },
     "metadata": {},
     "output_type": "display_data"
    },
    {
     "data": {
      "text/html": [],
      "text/plain": [
       "<IPython.core.display.HTML object>"
      ]
     },
     "metadata": {},
     "output_type": "display_data"
    },
    {
     "name": "stdout",
     "output_type": "stream",
     "text": [
      "et\n"
     ]
    },
    {
     "data": {
      "text/html": [],
      "text/plain": [
       "<IPython.core.display.HTML object>"
      ]
     },
     "metadata": {},
     "output_type": "display_data"
    },
    {
     "data": {
      "text/html": [
       "<style type=\"text/css\">\n",
       "</style>\n",
       "<table id=\"T_a78f0\">\n",
       "  <thead>\n",
       "    <tr>\n",
       "      <th class=\"blank level0\" >&nbsp;</th>\n",
       "      <th id=\"T_a78f0_level0_col0\" class=\"col_heading level0 col0\" >Accuracy</th>\n",
       "      <th id=\"T_a78f0_level0_col1\" class=\"col_heading level0 col1\" >AUC</th>\n",
       "      <th id=\"T_a78f0_level0_col2\" class=\"col_heading level0 col2\" >Recall</th>\n",
       "      <th id=\"T_a78f0_level0_col3\" class=\"col_heading level0 col3\" >Prec.</th>\n",
       "      <th id=\"T_a78f0_level0_col4\" class=\"col_heading level0 col4\" >F1</th>\n",
       "      <th id=\"T_a78f0_level0_col5\" class=\"col_heading level0 col5\" >Kappa</th>\n",
       "      <th id=\"T_a78f0_level0_col6\" class=\"col_heading level0 col6\" >MCC</th>\n",
       "    </tr>\n",
       "  </thead>\n",
       "  <tbody>\n",
       "    <tr>\n",
       "      <th id=\"T_a78f0_level0_row0\" class=\"row_heading level0 row0\" >Test</th>\n",
       "      <td id=\"T_a78f0_row0_col0\" class=\"data row0 col0\" >1.0000</td>\n",
       "      <td id=\"T_a78f0_row0_col1\" class=\"data row0 col1\" >1.0000</td>\n",
       "      <td id=\"T_a78f0_row0_col2\" class=\"data row0 col2\" >1.0000</td>\n",
       "      <td id=\"T_a78f0_row0_col3\" class=\"data row0 col3\" >1.0000</td>\n",
       "      <td id=\"T_a78f0_row0_col4\" class=\"data row0 col4\" >1.0000</td>\n",
       "      <td id=\"T_a78f0_row0_col5\" class=\"data row0 col5\" >1.0000</td>\n",
       "      <td id=\"T_a78f0_row0_col6\" class=\"data row0 col6\" >1.0000</td>\n",
       "    </tr>\n",
       "  </tbody>\n",
       "</table>\n"
      ],
      "text/plain": [
       "<pandas.io.formats.style.Styler at 0xffff11b6d660>"
      ]
     },
     "metadata": {},
     "output_type": "display_data"
    },
    {
     "data": {
      "text/html": [],
      "text/plain": [
       "<IPython.core.display.HTML object>"
      ]
     },
     "metadata": {},
     "output_type": "display_data"
    },
    {
     "name": "stdout",
     "output_type": "stream",
     "text": [
      "lightgbm\n"
     ]
    },
    {
     "data": {
      "text/html": [],
      "text/plain": [
       "<IPython.core.display.HTML object>"
      ]
     },
     "metadata": {},
     "output_type": "display_data"
    },
    {
     "data": {
      "text/html": [
       "<style type=\"text/css\">\n",
       "</style>\n",
       "<table id=\"T_a37cf\">\n",
       "  <thead>\n",
       "    <tr>\n",
       "      <th class=\"blank level0\" >&nbsp;</th>\n",
       "      <th id=\"T_a37cf_level0_col0\" class=\"col_heading level0 col0\" >Accuracy</th>\n",
       "      <th id=\"T_a37cf_level0_col1\" class=\"col_heading level0 col1\" >AUC</th>\n",
       "      <th id=\"T_a37cf_level0_col2\" class=\"col_heading level0 col2\" >Recall</th>\n",
       "      <th id=\"T_a37cf_level0_col3\" class=\"col_heading level0 col3\" >Prec.</th>\n",
       "      <th id=\"T_a37cf_level0_col4\" class=\"col_heading level0 col4\" >F1</th>\n",
       "      <th id=\"T_a37cf_level0_col5\" class=\"col_heading level0 col5\" >Kappa</th>\n",
       "      <th id=\"T_a37cf_level0_col6\" class=\"col_heading level0 col6\" >MCC</th>\n",
       "    </tr>\n",
       "  </thead>\n",
       "  <tbody>\n",
       "    <tr>\n",
       "      <th id=\"T_a37cf_level0_row0\" class=\"row_heading level0 row0\" >Test</th>\n",
       "      <td id=\"T_a37cf_row0_col0\" class=\"data row0 col0\" >1.0000</td>\n",
       "      <td id=\"T_a37cf_row0_col1\" class=\"data row0 col1\" >1.0000</td>\n",
       "      <td id=\"T_a37cf_row0_col2\" class=\"data row0 col2\" >1.0000</td>\n",
       "      <td id=\"T_a37cf_row0_col3\" class=\"data row0 col3\" >1.0000</td>\n",
       "      <td id=\"T_a37cf_row0_col4\" class=\"data row0 col4\" >1.0000</td>\n",
       "      <td id=\"T_a37cf_row0_col5\" class=\"data row0 col5\" >1.0000</td>\n",
       "      <td id=\"T_a37cf_row0_col6\" class=\"data row0 col6\" >1.0000</td>\n",
       "    </tr>\n",
       "  </tbody>\n",
       "</table>\n"
      ],
      "text/plain": [
       "<pandas.io.formats.style.Styler at 0xffff119dcd00>"
      ]
     },
     "metadata": {},
     "output_type": "display_data"
    },
    {
     "data": {
      "text/html": [],
      "text/plain": [
       "<IPython.core.display.HTML object>"
      ]
     },
     "metadata": {},
     "output_type": "display_data"
    }
   ],
   "source": [
    "n = 300\n",
    "#seed = 3655\n",
    "#seed = 3656\n",
    "seed = 3657\n",
    "\n",
    "train_num = [6,8,10,20,30,40,50]\n",
    "i = 50\n",
    "\n",
    "df = pd.read_csv(f'../data/titanic/titanic_{seed}_{n}_train.csv').head(i)\n",
    "\n",
    "df_test = pd.read_csv(f'../data/titanic/titanic_{seed}_{n}_test.csv')\n",
    "\n",
    "last_index = df.index[-1]\n",
    "df_test.index = range(last_index + 1, last_index + 1 + len(df_test))\n",
    "\n",
    "exp_name = setup(data = df, test_data = df_test, target = 'survived', session_id = 3655)\n",
    "\n",
    "model_list = ['lr','knn','nb','dt','svm','rbfsvm','gpc','mlp','ridge','rf','qda','ada','gbc','lda','et','lightgbm']\n",
    "for model_name in model_list:\n",
    "    print(model_name)\n",
    "    create_model(model_name, cross_validation=False)"
   ]
  },
  {
   "cell_type": "code",
   "execution_count": null,
   "metadata": {},
   "outputs": [],
   "source": []
  }
 ],
 "metadata": {
  "kernelspec": {
   "display_name": "Python 3.10.9 ('base')",
   "language": "python",
   "name": "python3"
  },
  "language_info": {
   "codemirror_mode": {
    "name": "ipython",
    "version": 3
   },
   "file_extension": ".py",
   "mimetype": "text/x-python",
   "name": "python",
   "nbconvert_exporter": "python",
   "pygments_lexer": "ipython3",
   "version": "3.10.9"
  },
  "orig_nbformat": 4,
  "vscode": {
   "interpreter": {
    "hash": "d4d1e4263499bec80672ea0156c357c1ee493ec2b1c70f0acce89fc37c4a6abe"
   }
  }
 },
 "nbformat": 4,
 "nbformat_minor": 2
}

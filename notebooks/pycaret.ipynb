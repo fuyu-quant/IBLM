{
 "cells": [
  {
   "cell_type": "code",
   "execution_count": 1,
   "metadata": {},
   "outputs": [],
   "source": [
    "%%capture\n",
    "!pip install pycaret"
   ]
  },
  {
   "cell_type": "code",
   "execution_count": 36,
   "metadata": {},
   "outputs": [],
   "source": [
    "import pandas as pd\n",
    "import numpy as np\n",
    "from sklearn.metrics import accuracy_score, precision_score, recall_score, f1_score, roc_auc_score\n",
    "\n",
    "from pycaret.classification import *"
   ]
  },
  {
   "cell_type": "markdown",
   "metadata": {},
   "source": [
    "## Psuedo data"
   ]
  },
  {
   "cell_type": "code",
   "execution_count": 114,
   "metadata": {},
   "outputs": [
    {
     "data": {
      "text/html": [
       "<style type=\"text/css\">\n",
       "#T_31d0a_row8_col1 {\n",
       "  background-color: lightgreen;\n",
       "}\n",
       "</style>\n",
       "<table id=\"T_31d0a\">\n",
       "  <thead>\n",
       "    <tr>\n",
       "      <th class=\"blank level0\" >&nbsp;</th>\n",
       "      <th id=\"T_31d0a_level0_col0\" class=\"col_heading level0 col0\" >Description</th>\n",
       "      <th id=\"T_31d0a_level0_col1\" class=\"col_heading level0 col1\" >Value</th>\n",
       "    </tr>\n",
       "  </thead>\n",
       "  <tbody>\n",
       "    <tr>\n",
       "      <th id=\"T_31d0a_level0_row0\" class=\"row_heading level0 row0\" >0</th>\n",
       "      <td id=\"T_31d0a_row0_col0\" class=\"data row0 col0\" >Session id</td>\n",
       "      <td id=\"T_31d0a_row0_col1\" class=\"data row0 col1\" >3655</td>\n",
       "    </tr>\n",
       "    <tr>\n",
       "      <th id=\"T_31d0a_level0_row1\" class=\"row_heading level0 row1\" >1</th>\n",
       "      <td id=\"T_31d0a_row1_col0\" class=\"data row1 col0\" >Target</td>\n",
       "      <td id=\"T_31d0a_row1_col1\" class=\"data row1 col1\" >target</td>\n",
       "    </tr>\n",
       "    <tr>\n",
       "      <th id=\"T_31d0a_level0_row2\" class=\"row_heading level0 row2\" >2</th>\n",
       "      <td id=\"T_31d0a_row2_col0\" class=\"data row2 col0\" >Target type</td>\n",
       "      <td id=\"T_31d0a_row2_col1\" class=\"data row2 col1\" >Binary</td>\n",
       "    </tr>\n",
       "    <tr>\n",
       "      <th id=\"T_31d0a_level0_row3\" class=\"row_heading level0 row3\" >3</th>\n",
       "      <td id=\"T_31d0a_row3_col0\" class=\"data row3 col0\" >Original data shape</td>\n",
       "      <td id=\"T_31d0a_row3_col1\" class=\"data row3 col1\" >(600, 5)</td>\n",
       "    </tr>\n",
       "    <tr>\n",
       "      <th id=\"T_31d0a_level0_row4\" class=\"row_heading level0 row4\" >4</th>\n",
       "      <td id=\"T_31d0a_row4_col0\" class=\"data row4 col0\" >Transformed data shape</td>\n",
       "      <td id=\"T_31d0a_row4_col1\" class=\"data row4 col1\" >(600, 5)</td>\n",
       "    </tr>\n",
       "    <tr>\n",
       "      <th id=\"T_31d0a_level0_row5\" class=\"row_heading level0 row5\" >5</th>\n",
       "      <td id=\"T_31d0a_row5_col0\" class=\"data row5 col0\" >Transformed train set shape</td>\n",
       "      <td id=\"T_31d0a_row5_col1\" class=\"data row5 col1\" >(300, 5)</td>\n",
       "    </tr>\n",
       "    <tr>\n",
       "      <th id=\"T_31d0a_level0_row6\" class=\"row_heading level0 row6\" >6</th>\n",
       "      <td id=\"T_31d0a_row6_col0\" class=\"data row6 col0\" >Transformed test set shape</td>\n",
       "      <td id=\"T_31d0a_row6_col1\" class=\"data row6 col1\" >(300, 5)</td>\n",
       "    </tr>\n",
       "    <tr>\n",
       "      <th id=\"T_31d0a_level0_row7\" class=\"row_heading level0 row7\" >7</th>\n",
       "      <td id=\"T_31d0a_row7_col0\" class=\"data row7 col0\" >Numeric features</td>\n",
       "      <td id=\"T_31d0a_row7_col1\" class=\"data row7 col1\" >4</td>\n",
       "    </tr>\n",
       "    <tr>\n",
       "      <th id=\"T_31d0a_level0_row8\" class=\"row_heading level0 row8\" >8</th>\n",
       "      <td id=\"T_31d0a_row8_col0\" class=\"data row8 col0\" >Preprocess</td>\n",
       "      <td id=\"T_31d0a_row8_col1\" class=\"data row8 col1\" >True</td>\n",
       "    </tr>\n",
       "    <tr>\n",
       "      <th id=\"T_31d0a_level0_row9\" class=\"row_heading level0 row9\" >9</th>\n",
       "      <td id=\"T_31d0a_row9_col0\" class=\"data row9 col0\" >Imputation type</td>\n",
       "      <td id=\"T_31d0a_row9_col1\" class=\"data row9 col1\" >simple</td>\n",
       "    </tr>\n",
       "    <tr>\n",
       "      <th id=\"T_31d0a_level0_row10\" class=\"row_heading level0 row10\" >10</th>\n",
       "      <td id=\"T_31d0a_row10_col0\" class=\"data row10 col0\" >Numeric imputation</td>\n",
       "      <td id=\"T_31d0a_row10_col1\" class=\"data row10 col1\" >mean</td>\n",
       "    </tr>\n",
       "    <tr>\n",
       "      <th id=\"T_31d0a_level0_row11\" class=\"row_heading level0 row11\" >11</th>\n",
       "      <td id=\"T_31d0a_row11_col0\" class=\"data row11 col0\" >Categorical imputation</td>\n",
       "      <td id=\"T_31d0a_row11_col1\" class=\"data row11 col1\" >mode</td>\n",
       "    </tr>\n",
       "    <tr>\n",
       "      <th id=\"T_31d0a_level0_row12\" class=\"row_heading level0 row12\" >12</th>\n",
       "      <td id=\"T_31d0a_row12_col0\" class=\"data row12 col0\" >Fold Generator</td>\n",
       "      <td id=\"T_31d0a_row12_col1\" class=\"data row12 col1\" >StratifiedKFold</td>\n",
       "    </tr>\n",
       "    <tr>\n",
       "      <th id=\"T_31d0a_level0_row13\" class=\"row_heading level0 row13\" >13</th>\n",
       "      <td id=\"T_31d0a_row13_col0\" class=\"data row13 col0\" >Fold Number</td>\n",
       "      <td id=\"T_31d0a_row13_col1\" class=\"data row13 col1\" >10</td>\n",
       "    </tr>\n",
       "    <tr>\n",
       "      <th id=\"T_31d0a_level0_row14\" class=\"row_heading level0 row14\" >14</th>\n",
       "      <td id=\"T_31d0a_row14_col0\" class=\"data row14 col0\" >CPU Jobs</td>\n",
       "      <td id=\"T_31d0a_row14_col1\" class=\"data row14 col1\" >-1</td>\n",
       "    </tr>\n",
       "    <tr>\n",
       "      <th id=\"T_31d0a_level0_row15\" class=\"row_heading level0 row15\" >15</th>\n",
       "      <td id=\"T_31d0a_row15_col0\" class=\"data row15 col0\" >Use GPU</td>\n",
       "      <td id=\"T_31d0a_row15_col1\" class=\"data row15 col1\" >False</td>\n",
       "    </tr>\n",
       "    <tr>\n",
       "      <th id=\"T_31d0a_level0_row16\" class=\"row_heading level0 row16\" >16</th>\n",
       "      <td id=\"T_31d0a_row16_col0\" class=\"data row16 col0\" >Log Experiment</td>\n",
       "      <td id=\"T_31d0a_row16_col1\" class=\"data row16 col1\" >False</td>\n",
       "    </tr>\n",
       "    <tr>\n",
       "      <th id=\"T_31d0a_level0_row17\" class=\"row_heading level0 row17\" >17</th>\n",
       "      <td id=\"T_31d0a_row17_col0\" class=\"data row17 col0\" >Experiment Name</td>\n",
       "      <td id=\"T_31d0a_row17_col1\" class=\"data row17 col1\" >clf-default-name</td>\n",
       "    </tr>\n",
       "    <tr>\n",
       "      <th id=\"T_31d0a_level0_row18\" class=\"row_heading level0 row18\" >18</th>\n",
       "      <td id=\"T_31d0a_row18_col0\" class=\"data row18 col0\" >USI</td>\n",
       "      <td id=\"T_31d0a_row18_col1\" class=\"data row18 col1\" >7588</td>\n",
       "    </tr>\n",
       "  </tbody>\n",
       "</table>\n"
      ],
      "text/plain": [
       "<pandas.io.formats.style.Styler at 0xffff10d50e50>"
      ]
     },
     "metadata": {},
     "output_type": "display_data"
    },
    {
     "name": "stdout",
     "output_type": "stream",
     "text": [
      "lr\n"
     ]
    },
    {
     "data": {
      "text/html": [],
      "text/plain": [
       "<IPython.core.display.HTML object>"
      ]
     },
     "metadata": {},
     "output_type": "display_data"
    },
    {
     "data": {
      "text/html": [
       "<style type=\"text/css\">\n",
       "</style>\n",
       "<table id=\"T_a389f\">\n",
       "  <thead>\n",
       "    <tr>\n",
       "      <th class=\"blank level0\" >&nbsp;</th>\n",
       "      <th id=\"T_a389f_level0_col0\" class=\"col_heading level0 col0\" >Accuracy</th>\n",
       "      <th id=\"T_a389f_level0_col1\" class=\"col_heading level0 col1\" >AUC</th>\n",
       "      <th id=\"T_a389f_level0_col2\" class=\"col_heading level0 col2\" >Recall</th>\n",
       "      <th id=\"T_a389f_level0_col3\" class=\"col_heading level0 col3\" >Prec.</th>\n",
       "      <th id=\"T_a389f_level0_col4\" class=\"col_heading level0 col4\" >F1</th>\n",
       "      <th id=\"T_a389f_level0_col5\" class=\"col_heading level0 col5\" >Kappa</th>\n",
       "      <th id=\"T_a389f_level0_col6\" class=\"col_heading level0 col6\" >MCC</th>\n",
       "    </tr>\n",
       "  </thead>\n",
       "  <tbody>\n",
       "    <tr>\n",
       "      <th id=\"T_a389f_level0_row0\" class=\"row_heading level0 row0\" >Test</th>\n",
       "      <td id=\"T_a389f_row0_col0\" class=\"data row0 col0\" >0.9267</td>\n",
       "      <td id=\"T_a389f_row0_col1\" class=\"data row0 col1\" >0.9759</td>\n",
       "      <td id=\"T_a389f_row0_col2\" class=\"data row0 col2\" >0.9346</td>\n",
       "      <td id=\"T_a389f_row0_col3\" class=\"data row0 col3\" >0.9226</td>\n",
       "      <td id=\"T_a389f_row0_col4\" class=\"data row0 col4\" >0.9286</td>\n",
       "      <td id=\"T_a389f_row0_col5\" class=\"data row0 col5\" >0.8532</td>\n",
       "      <td id=\"T_a389f_row0_col6\" class=\"data row0 col6\" >0.8533</td>\n",
       "    </tr>\n",
       "  </tbody>\n",
       "</table>\n"
      ],
      "text/plain": [
       "<pandas.io.formats.style.Styler at 0xffff2e64e8f0>"
      ]
     },
     "metadata": {},
     "output_type": "display_data"
    },
    {
     "data": {
      "text/html": [],
      "text/plain": [
       "<IPython.core.display.HTML object>"
      ]
     },
     "metadata": {},
     "output_type": "display_data"
    },
    {
     "name": "stdout",
     "output_type": "stream",
     "text": [
      "knn\n"
     ]
    },
    {
     "data": {
      "text/html": [],
      "text/plain": [
       "<IPython.core.display.HTML object>"
      ]
     },
     "metadata": {},
     "output_type": "display_data"
    },
    {
     "data": {
      "text/html": [
       "<style type=\"text/css\">\n",
       "</style>\n",
       "<table id=\"T_f1b1c\">\n",
       "  <thead>\n",
       "    <tr>\n",
       "      <th class=\"blank level0\" >&nbsp;</th>\n",
       "      <th id=\"T_f1b1c_level0_col0\" class=\"col_heading level0 col0\" >Accuracy</th>\n",
       "      <th id=\"T_f1b1c_level0_col1\" class=\"col_heading level0 col1\" >AUC</th>\n",
       "      <th id=\"T_f1b1c_level0_col2\" class=\"col_heading level0 col2\" >Recall</th>\n",
       "      <th id=\"T_f1b1c_level0_col3\" class=\"col_heading level0 col3\" >Prec.</th>\n",
       "      <th id=\"T_f1b1c_level0_col4\" class=\"col_heading level0 col4\" >F1</th>\n",
       "      <th id=\"T_f1b1c_level0_col5\" class=\"col_heading level0 col5\" >Kappa</th>\n",
       "      <th id=\"T_f1b1c_level0_col6\" class=\"col_heading level0 col6\" >MCC</th>\n",
       "    </tr>\n",
       "  </thead>\n",
       "  <tbody>\n",
       "    <tr>\n",
       "      <th id=\"T_f1b1c_level0_row0\" class=\"row_heading level0 row0\" >Test</th>\n",
       "      <td id=\"T_f1b1c_row0_col0\" class=\"data row0 col0\" >0.9433</td>\n",
       "      <td id=\"T_f1b1c_row0_col1\" class=\"data row0 col1\" >0.9574</td>\n",
       "      <td id=\"T_f1b1c_row0_col2\" class=\"data row0 col2\" >0.9412</td>\n",
       "      <td id=\"T_f1b1c_row0_col3\" class=\"data row0 col3\" >0.9474</td>\n",
       "      <td id=\"T_f1b1c_row0_col4\" class=\"data row0 col4\" >0.9443</td>\n",
       "      <td id=\"T_f1b1c_row0_col5\" class=\"data row0 col5\" >0.8866</td>\n",
       "      <td id=\"T_f1b1c_row0_col6\" class=\"data row0 col6\" >0.8867</td>\n",
       "    </tr>\n",
       "  </tbody>\n",
       "</table>\n"
      ],
      "text/plain": [
       "<pandas.io.formats.style.Styler at 0xffff2fc8f070>"
      ]
     },
     "metadata": {},
     "output_type": "display_data"
    },
    {
     "data": {
      "text/html": [],
      "text/plain": [
       "<IPython.core.display.HTML object>"
      ]
     },
     "metadata": {},
     "output_type": "display_data"
    },
    {
     "name": "stdout",
     "output_type": "stream",
     "text": [
      "nb\n"
     ]
    },
    {
     "data": {
      "text/html": [],
      "text/plain": [
       "<IPython.core.display.HTML object>"
      ]
     },
     "metadata": {},
     "output_type": "display_data"
    },
    {
     "data": {
      "text/html": [
       "<style type=\"text/css\">\n",
       "</style>\n",
       "<table id=\"T_fa298\">\n",
       "  <thead>\n",
       "    <tr>\n",
       "      <th class=\"blank level0\" >&nbsp;</th>\n",
       "      <th id=\"T_fa298_level0_col0\" class=\"col_heading level0 col0\" >Accuracy</th>\n",
       "      <th id=\"T_fa298_level0_col1\" class=\"col_heading level0 col1\" >AUC</th>\n",
       "      <th id=\"T_fa298_level0_col2\" class=\"col_heading level0 col2\" >Recall</th>\n",
       "      <th id=\"T_fa298_level0_col3\" class=\"col_heading level0 col3\" >Prec.</th>\n",
       "      <th id=\"T_fa298_level0_col4\" class=\"col_heading level0 col4\" >F1</th>\n",
       "      <th id=\"T_fa298_level0_col5\" class=\"col_heading level0 col5\" >Kappa</th>\n",
       "      <th id=\"T_fa298_level0_col6\" class=\"col_heading level0 col6\" >MCC</th>\n",
       "    </tr>\n",
       "  </thead>\n",
       "  <tbody>\n",
       "    <tr>\n",
       "      <th id=\"T_fa298_level0_row0\" class=\"row_heading level0 row0\" >Test</th>\n",
       "      <td id=\"T_fa298_row0_col0\" class=\"data row0 col0\" >0.9100</td>\n",
       "      <td id=\"T_fa298_row0_col1\" class=\"data row0 col1\" >0.9663</td>\n",
       "      <td id=\"T_fa298_row0_col2\" class=\"data row0 col2\" >0.9216</td>\n",
       "      <td id=\"T_fa298_row0_col3\" class=\"data row0 col3\" >0.9038</td>\n",
       "      <td id=\"T_fa298_row0_col4\" class=\"data row0 col4\" >0.9126</td>\n",
       "      <td id=\"T_fa298_row0_col5\" class=\"data row0 col5\" >0.8199</td>\n",
       "      <td id=\"T_fa298_row0_col6\" class=\"data row0 col6\" >0.8200</td>\n",
       "    </tr>\n",
       "  </tbody>\n",
       "</table>\n"
      ],
      "text/plain": [
       "<pandas.io.formats.style.Styler at 0xffff34bbbd60>"
      ]
     },
     "metadata": {},
     "output_type": "display_data"
    },
    {
     "data": {
      "text/html": [],
      "text/plain": [
       "<IPython.core.display.HTML object>"
      ]
     },
     "metadata": {},
     "output_type": "display_data"
    },
    {
     "name": "stdout",
     "output_type": "stream",
     "text": [
      "dt\n"
     ]
    },
    {
     "data": {
      "text/html": [],
      "text/plain": [
       "<IPython.core.display.HTML object>"
      ]
     },
     "metadata": {},
     "output_type": "display_data"
    },
    {
     "data": {
      "text/html": [
       "<style type=\"text/css\">\n",
       "</style>\n",
       "<table id=\"T_80d94\">\n",
       "  <thead>\n",
       "    <tr>\n",
       "      <th class=\"blank level0\" >&nbsp;</th>\n",
       "      <th id=\"T_80d94_level0_col0\" class=\"col_heading level0 col0\" >Accuracy</th>\n",
       "      <th id=\"T_80d94_level0_col1\" class=\"col_heading level0 col1\" >AUC</th>\n",
       "      <th id=\"T_80d94_level0_col2\" class=\"col_heading level0 col2\" >Recall</th>\n",
       "      <th id=\"T_80d94_level0_col3\" class=\"col_heading level0 col3\" >Prec.</th>\n",
       "      <th id=\"T_80d94_level0_col4\" class=\"col_heading level0 col4\" >F1</th>\n",
       "      <th id=\"T_80d94_level0_col5\" class=\"col_heading level0 col5\" >Kappa</th>\n",
       "      <th id=\"T_80d94_level0_col6\" class=\"col_heading level0 col6\" >MCC</th>\n",
       "    </tr>\n",
       "  </thead>\n",
       "  <tbody>\n",
       "    <tr>\n",
       "      <th id=\"T_80d94_level0_row0\" class=\"row_heading level0 row0\" >Test</th>\n",
       "      <td id=\"T_80d94_row0_col0\" class=\"data row0 col0\" >0.9100</td>\n",
       "      <td id=\"T_80d94_row0_col1\" class=\"data row0 col1\" >0.9096</td>\n",
       "      <td id=\"T_80d94_row0_col2\" class=\"data row0 col2\" >0.9281</td>\n",
       "      <td id=\"T_80d94_row0_col3\" class=\"data row0 col3\" >0.8987</td>\n",
       "      <td id=\"T_80d94_row0_col4\" class=\"data row0 col4\" >0.9132</td>\n",
       "      <td id=\"T_80d94_row0_col5\" class=\"data row0 col5\" >0.8198</td>\n",
       "      <td id=\"T_80d94_row0_col6\" class=\"data row0 col6\" >0.8203</td>\n",
       "    </tr>\n",
       "  </tbody>\n",
       "</table>\n"
      ],
      "text/plain": [
       "<pandas.io.formats.style.Styler at 0xffff2c157310>"
      ]
     },
     "metadata": {},
     "output_type": "display_data"
    },
    {
     "data": {
      "text/html": [],
      "text/plain": [
       "<IPython.core.display.HTML object>"
      ]
     },
     "metadata": {},
     "output_type": "display_data"
    },
    {
     "name": "stdout",
     "output_type": "stream",
     "text": [
      "svm\n"
     ]
    },
    {
     "data": {
      "text/html": [],
      "text/plain": [
       "<IPython.core.display.HTML object>"
      ]
     },
     "metadata": {},
     "output_type": "display_data"
    },
    {
     "data": {
      "text/html": [
       "<style type=\"text/css\">\n",
       "</style>\n",
       "<table id=\"T_93ff7\">\n",
       "  <thead>\n",
       "    <tr>\n",
       "      <th class=\"blank level0\" >&nbsp;</th>\n",
       "      <th id=\"T_93ff7_level0_col0\" class=\"col_heading level0 col0\" >Accuracy</th>\n",
       "      <th id=\"T_93ff7_level0_col1\" class=\"col_heading level0 col1\" >AUC</th>\n",
       "      <th id=\"T_93ff7_level0_col2\" class=\"col_heading level0 col2\" >Recall</th>\n",
       "      <th id=\"T_93ff7_level0_col3\" class=\"col_heading level0 col3\" >Prec.</th>\n",
       "      <th id=\"T_93ff7_level0_col4\" class=\"col_heading level0 col4\" >F1</th>\n",
       "      <th id=\"T_93ff7_level0_col5\" class=\"col_heading level0 col5\" >Kappa</th>\n",
       "      <th id=\"T_93ff7_level0_col6\" class=\"col_heading level0 col6\" >MCC</th>\n",
       "    </tr>\n",
       "  </thead>\n",
       "  <tbody>\n",
       "    <tr>\n",
       "      <th id=\"T_93ff7_level0_row0\" class=\"row_heading level0 row0\" >Test</th>\n",
       "      <td id=\"T_93ff7_row0_col0\" class=\"data row0 col0\" >0.9200</td>\n",
       "      <td id=\"T_93ff7_row0_col1\" class=\"data row0 col1\" >0.9202</td>\n",
       "      <td id=\"T_93ff7_row0_col2\" class=\"data row0 col2\" >0.9085</td>\n",
       "      <td id=\"T_93ff7_row0_col3\" class=\"data row0 col3\" >0.9329</td>\n",
       "      <td id=\"T_93ff7_row0_col4\" class=\"data row0 col4\" >0.9205</td>\n",
       "      <td id=\"T_93ff7_row0_col5\" class=\"data row0 col5\" >0.8400</td>\n",
       "      <td id=\"T_93ff7_row0_col6\" class=\"data row0 col6\" >0.8403</td>\n",
       "    </tr>\n",
       "  </tbody>\n",
       "</table>\n"
      ],
      "text/plain": [
       "<pandas.io.formats.style.Styler at 0xffff2c1e6110>"
      ]
     },
     "metadata": {},
     "output_type": "display_data"
    },
    {
     "data": {
      "text/html": [],
      "text/plain": [
       "<IPython.core.display.HTML object>"
      ]
     },
     "metadata": {},
     "output_type": "display_data"
    },
    {
     "name": "stdout",
     "output_type": "stream",
     "text": [
      "rbfsvm\n"
     ]
    },
    {
     "data": {
      "text/html": [],
      "text/plain": [
       "<IPython.core.display.HTML object>"
      ]
     },
     "metadata": {},
     "output_type": "display_data"
    },
    {
     "data": {
      "text/html": [
       "<style type=\"text/css\">\n",
       "</style>\n",
       "<table id=\"T_d5d25\">\n",
       "  <thead>\n",
       "    <tr>\n",
       "      <th class=\"blank level0\" >&nbsp;</th>\n",
       "      <th id=\"T_d5d25_level0_col0\" class=\"col_heading level0 col0\" >Accuracy</th>\n",
       "      <th id=\"T_d5d25_level0_col1\" class=\"col_heading level0 col1\" >AUC</th>\n",
       "      <th id=\"T_d5d25_level0_col2\" class=\"col_heading level0 col2\" >Recall</th>\n",
       "      <th id=\"T_d5d25_level0_col3\" class=\"col_heading level0 col3\" >Prec.</th>\n",
       "      <th id=\"T_d5d25_level0_col4\" class=\"col_heading level0 col4\" >F1</th>\n",
       "      <th id=\"T_d5d25_level0_col5\" class=\"col_heading level0 col5\" >Kappa</th>\n",
       "      <th id=\"T_d5d25_level0_col6\" class=\"col_heading level0 col6\" >MCC</th>\n",
       "    </tr>\n",
       "  </thead>\n",
       "  <tbody>\n",
       "    <tr>\n",
       "      <th id=\"T_d5d25_level0_row0\" class=\"row_heading level0 row0\" >Test</th>\n",
       "      <td id=\"T_d5d25_row0_col0\" class=\"data row0 col0\" >0.9367</td>\n",
       "      <td id=\"T_d5d25_row0_col1\" class=\"data row0 col1\" >0.9705</td>\n",
       "      <td id=\"T_d5d25_row0_col2\" class=\"data row0 col2\" >0.9542</td>\n",
       "      <td id=\"T_d5d25_row0_col3\" class=\"data row0 col3\" >0.9241</td>\n",
       "      <td id=\"T_d5d25_row0_col4\" class=\"data row0 col4\" >0.9389</td>\n",
       "      <td id=\"T_d5d25_row0_col5\" class=\"data row0 col5\" >0.8732</td>\n",
       "      <td id=\"T_d5d25_row0_col6\" class=\"data row0 col6\" >0.8737</td>\n",
       "    </tr>\n",
       "  </tbody>\n",
       "</table>\n"
      ],
      "text/plain": [
       "<pandas.io.formats.style.Styler at 0xffff2f183ac0>"
      ]
     },
     "metadata": {},
     "output_type": "display_data"
    },
    {
     "data": {
      "text/html": [],
      "text/plain": [
       "<IPython.core.display.HTML object>"
      ]
     },
     "metadata": {},
     "output_type": "display_data"
    },
    {
     "name": "stdout",
     "output_type": "stream",
     "text": [
      "gpc\n"
     ]
    },
    {
     "data": {
      "text/html": [],
      "text/plain": [
       "<IPython.core.display.HTML object>"
      ]
     },
     "metadata": {},
     "output_type": "display_data"
    },
    {
     "data": {
      "text/html": [
       "<style type=\"text/css\">\n",
       "</style>\n",
       "<table id=\"T_0fe56\">\n",
       "  <thead>\n",
       "    <tr>\n",
       "      <th class=\"blank level0\" >&nbsp;</th>\n",
       "      <th id=\"T_0fe56_level0_col0\" class=\"col_heading level0 col0\" >Accuracy</th>\n",
       "      <th id=\"T_0fe56_level0_col1\" class=\"col_heading level0 col1\" >AUC</th>\n",
       "      <th id=\"T_0fe56_level0_col2\" class=\"col_heading level0 col2\" >Recall</th>\n",
       "      <th id=\"T_0fe56_level0_col3\" class=\"col_heading level0 col3\" >Prec.</th>\n",
       "      <th id=\"T_0fe56_level0_col4\" class=\"col_heading level0 col4\" >F1</th>\n",
       "      <th id=\"T_0fe56_level0_col5\" class=\"col_heading level0 col5\" >Kappa</th>\n",
       "      <th id=\"T_0fe56_level0_col6\" class=\"col_heading level0 col6\" >MCC</th>\n",
       "    </tr>\n",
       "  </thead>\n",
       "  <tbody>\n",
       "    <tr>\n",
       "      <th id=\"T_0fe56_level0_row0\" class=\"row_heading level0 row0\" >Test</th>\n",
       "      <td id=\"T_0fe56_row0_col0\" class=\"data row0 col0\" >0.9367</td>\n",
       "      <td id=\"T_0fe56_row0_col1\" class=\"data row0 col1\" >0.9671</td>\n",
       "      <td id=\"T_0fe56_row0_col2\" class=\"data row0 col2\" >0.9346</td>\n",
       "      <td id=\"T_0fe56_row0_col3\" class=\"data row0 col3\" >0.9408</td>\n",
       "      <td id=\"T_0fe56_row0_col4\" class=\"data row0 col4\" >0.9377</td>\n",
       "      <td id=\"T_0fe56_row0_col5\" class=\"data row0 col5\" >0.8733</td>\n",
       "      <td id=\"T_0fe56_row0_col6\" class=\"data row0 col6\" >0.8733</td>\n",
       "    </tr>\n",
       "  </tbody>\n",
       "</table>\n"
      ],
      "text/plain": [
       "<pandas.io.formats.style.Styler at 0xffff2f059e40>"
      ]
     },
     "metadata": {},
     "output_type": "display_data"
    },
    {
     "data": {
      "text/html": [],
      "text/plain": [
       "<IPython.core.display.HTML object>"
      ]
     },
     "metadata": {},
     "output_type": "display_data"
    },
    {
     "name": "stdout",
     "output_type": "stream",
     "text": [
      "mlp\n"
     ]
    },
    {
     "data": {
      "text/html": [],
      "text/plain": [
       "<IPython.core.display.HTML object>"
      ]
     },
     "metadata": {},
     "output_type": "display_data"
    },
    {
     "data": {
      "text/html": [
       "<style type=\"text/css\">\n",
       "</style>\n",
       "<table id=\"T_a3eb3\">\n",
       "  <thead>\n",
       "    <tr>\n",
       "      <th class=\"blank level0\" >&nbsp;</th>\n",
       "      <th id=\"T_a3eb3_level0_col0\" class=\"col_heading level0 col0\" >Accuracy</th>\n",
       "      <th id=\"T_a3eb3_level0_col1\" class=\"col_heading level0 col1\" >AUC</th>\n",
       "      <th id=\"T_a3eb3_level0_col2\" class=\"col_heading level0 col2\" >Recall</th>\n",
       "      <th id=\"T_a3eb3_level0_col3\" class=\"col_heading level0 col3\" >Prec.</th>\n",
       "      <th id=\"T_a3eb3_level0_col4\" class=\"col_heading level0 col4\" >F1</th>\n",
       "      <th id=\"T_a3eb3_level0_col5\" class=\"col_heading level0 col5\" >Kappa</th>\n",
       "      <th id=\"T_a3eb3_level0_col6\" class=\"col_heading level0 col6\" >MCC</th>\n",
       "    </tr>\n",
       "  </thead>\n",
       "  <tbody>\n",
       "    <tr>\n",
       "      <th id=\"T_a3eb3_level0_row0\" class=\"row_heading level0 row0\" >Test</th>\n",
       "      <td id=\"T_a3eb3_row0_col0\" class=\"data row0 col0\" >0.9500</td>\n",
       "      <td id=\"T_a3eb3_row0_col1\" class=\"data row0 col1\" >0.9799</td>\n",
       "      <td id=\"T_a3eb3_row0_col2\" class=\"data row0 col2\" >0.9542</td>\n",
       "      <td id=\"T_a3eb3_row0_col3\" class=\"data row0 col3\" >0.9481</td>\n",
       "      <td id=\"T_a3eb3_row0_col4\" class=\"data row0 col4\" >0.9511</td>\n",
       "      <td id=\"T_a3eb3_row0_col5\" class=\"data row0 col5\" >0.8999</td>\n",
       "      <td id=\"T_a3eb3_row0_col6\" class=\"data row0 col6\" >0.9000</td>\n",
       "    </tr>\n",
       "  </tbody>\n",
       "</table>\n"
      ],
      "text/plain": [
       "<pandas.io.formats.style.Styler at 0xffff2f119a80>"
      ]
     },
     "metadata": {},
     "output_type": "display_data"
    },
    {
     "data": {
      "text/html": [],
      "text/plain": [
       "<IPython.core.display.HTML object>"
      ]
     },
     "metadata": {},
     "output_type": "display_data"
    },
    {
     "name": "stdout",
     "output_type": "stream",
     "text": [
      "ridge\n"
     ]
    },
    {
     "data": {
      "text/html": [],
      "text/plain": [
       "<IPython.core.display.HTML object>"
      ]
     },
     "metadata": {},
     "output_type": "display_data"
    },
    {
     "data": {
      "text/html": [
       "<style type=\"text/css\">\n",
       "</style>\n",
       "<table id=\"T_c5375\">\n",
       "  <thead>\n",
       "    <tr>\n",
       "      <th class=\"blank level0\" >&nbsp;</th>\n",
       "      <th id=\"T_c5375_level0_col0\" class=\"col_heading level0 col0\" >Accuracy</th>\n",
       "      <th id=\"T_c5375_level0_col1\" class=\"col_heading level0 col1\" >AUC</th>\n",
       "      <th id=\"T_c5375_level0_col2\" class=\"col_heading level0 col2\" >Recall</th>\n",
       "      <th id=\"T_c5375_level0_col3\" class=\"col_heading level0 col3\" >Prec.</th>\n",
       "      <th id=\"T_c5375_level0_col4\" class=\"col_heading level0 col4\" >F1</th>\n",
       "      <th id=\"T_c5375_level0_col5\" class=\"col_heading level0 col5\" >Kappa</th>\n",
       "      <th id=\"T_c5375_level0_col6\" class=\"col_heading level0 col6\" >MCC</th>\n",
       "    </tr>\n",
       "  </thead>\n",
       "  <tbody>\n",
       "    <tr>\n",
       "      <th id=\"T_c5375_level0_row0\" class=\"row_heading level0 row0\" >Test</th>\n",
       "      <td id=\"T_c5375_row0_col0\" class=\"data row0 col0\" >0.8867</td>\n",
       "      <td id=\"T_c5375_row0_col1\" class=\"data row0 col1\" >0.8870</td>\n",
       "      <td id=\"T_c5375_row0_col2\" class=\"data row0 col2\" >0.8693</td>\n",
       "      <td id=\"T_c5375_row0_col3\" class=\"data row0 col3\" >0.9048</td>\n",
       "      <td id=\"T_c5375_row0_col4\" class=\"data row0 col4\" >0.8867</td>\n",
       "      <td id=\"T_c5375_row0_col5\" class=\"data row0 col5\" >0.7734</td>\n",
       "      <td id=\"T_c5375_row0_col6\" class=\"data row0 col6\" >0.7740</td>\n",
       "    </tr>\n",
       "  </tbody>\n",
       "</table>\n"
      ],
      "text/plain": [
       "<pandas.io.formats.style.Styler at 0xffff2f11a7d0>"
      ]
     },
     "metadata": {},
     "output_type": "display_data"
    },
    {
     "data": {
      "text/html": [],
      "text/plain": [
       "<IPython.core.display.HTML object>"
      ]
     },
     "metadata": {},
     "output_type": "display_data"
    },
    {
     "name": "stdout",
     "output_type": "stream",
     "text": [
      "rf\n"
     ]
    },
    {
     "data": {
      "text/html": [],
      "text/plain": [
       "<IPython.core.display.HTML object>"
      ]
     },
     "metadata": {},
     "output_type": "display_data"
    },
    {
     "data": {
      "text/html": [
       "<style type=\"text/css\">\n",
       "</style>\n",
       "<table id=\"T_148c6\">\n",
       "  <thead>\n",
       "    <tr>\n",
       "      <th class=\"blank level0\" >&nbsp;</th>\n",
       "      <th id=\"T_148c6_level0_col0\" class=\"col_heading level0 col0\" >Accuracy</th>\n",
       "      <th id=\"T_148c6_level0_col1\" class=\"col_heading level0 col1\" >AUC</th>\n",
       "      <th id=\"T_148c6_level0_col2\" class=\"col_heading level0 col2\" >Recall</th>\n",
       "      <th id=\"T_148c6_level0_col3\" class=\"col_heading level0 col3\" >Prec.</th>\n",
       "      <th id=\"T_148c6_level0_col4\" class=\"col_heading level0 col4\" >F1</th>\n",
       "      <th id=\"T_148c6_level0_col5\" class=\"col_heading level0 col5\" >Kappa</th>\n",
       "      <th id=\"T_148c6_level0_col6\" class=\"col_heading level0 col6\" >MCC</th>\n",
       "    </tr>\n",
       "  </thead>\n",
       "  <tbody>\n",
       "    <tr>\n",
       "      <th id=\"T_148c6_level0_row0\" class=\"row_heading level0 row0\" >Test</th>\n",
       "      <td id=\"T_148c6_row0_col0\" class=\"data row0 col0\" >0.9467</td>\n",
       "      <td id=\"T_148c6_row0_col1\" class=\"data row0 col1\" >0.9657</td>\n",
       "      <td id=\"T_148c6_row0_col2\" class=\"data row0 col2\" >0.9477</td>\n",
       "      <td id=\"T_148c6_row0_col3\" class=\"data row0 col3\" >0.9477</td>\n",
       "      <td id=\"T_148c6_row0_col4\" class=\"data row0 col4\" >0.9477</td>\n",
       "      <td id=\"T_148c6_row0_col5\" class=\"data row0 col5\" >0.8933</td>\n",
       "      <td id=\"T_148c6_row0_col6\" class=\"data row0 col6\" >0.8933</td>\n",
       "    </tr>\n",
       "  </tbody>\n",
       "</table>\n"
      ],
      "text/plain": [
       "<pandas.io.formats.style.Styler at 0xffff51792470>"
      ]
     },
     "metadata": {},
     "output_type": "display_data"
    },
    {
     "data": {
      "text/html": [],
      "text/plain": [
       "<IPython.core.display.HTML object>"
      ]
     },
     "metadata": {},
     "output_type": "display_data"
    },
    {
     "name": "stdout",
     "output_type": "stream",
     "text": [
      "qda\n"
     ]
    },
    {
     "data": {
      "text/html": [],
      "text/plain": [
       "<IPython.core.display.HTML object>"
      ]
     },
     "metadata": {},
     "output_type": "display_data"
    },
    {
     "data": {
      "text/html": [
       "<style type=\"text/css\">\n",
       "</style>\n",
       "<table id=\"T_48af3\">\n",
       "  <thead>\n",
       "    <tr>\n",
       "      <th class=\"blank level0\" >&nbsp;</th>\n",
       "      <th id=\"T_48af3_level0_col0\" class=\"col_heading level0 col0\" >Accuracy</th>\n",
       "      <th id=\"T_48af3_level0_col1\" class=\"col_heading level0 col1\" >AUC</th>\n",
       "      <th id=\"T_48af3_level0_col2\" class=\"col_heading level0 col2\" >Recall</th>\n",
       "      <th id=\"T_48af3_level0_col3\" class=\"col_heading level0 col3\" >Prec.</th>\n",
       "      <th id=\"T_48af3_level0_col4\" class=\"col_heading level0 col4\" >F1</th>\n",
       "      <th id=\"T_48af3_level0_col5\" class=\"col_heading level0 col5\" >Kappa</th>\n",
       "      <th id=\"T_48af3_level0_col6\" class=\"col_heading level0 col6\" >MCC</th>\n",
       "    </tr>\n",
       "  </thead>\n",
       "  <tbody>\n",
       "    <tr>\n",
       "      <th id=\"T_48af3_level0_row0\" class=\"row_heading level0 row0\" >Test</th>\n",
       "      <td id=\"T_48af3_row0_col0\" class=\"data row0 col0\" >0.8700</td>\n",
       "      <td id=\"T_48af3_row0_col1\" class=\"data row0 col1\" >0.9465</td>\n",
       "      <td id=\"T_48af3_row0_col2\" class=\"data row0 col2\" >0.8627</td>\n",
       "      <td id=\"T_48af3_row0_col3\" class=\"data row0 col3\" >0.8800</td>\n",
       "      <td id=\"T_48af3_row0_col4\" class=\"data row0 col4\" >0.8713</td>\n",
       "      <td id=\"T_48af3_row0_col5\" class=\"data row0 col5\" >0.7400</td>\n",
       "      <td id=\"T_48af3_row0_col6\" class=\"data row0 col6\" >0.7401</td>\n",
       "    </tr>\n",
       "  </tbody>\n",
       "</table>\n"
      ],
      "text/plain": [
       "<pandas.io.formats.style.Styler at 0xffff2f15c1f0>"
      ]
     },
     "metadata": {},
     "output_type": "display_data"
    },
    {
     "data": {
      "text/html": [],
      "text/plain": [
       "<IPython.core.display.HTML object>"
      ]
     },
     "metadata": {},
     "output_type": "display_data"
    },
    {
     "name": "stdout",
     "output_type": "stream",
     "text": [
      "ada\n"
     ]
    },
    {
     "data": {
      "text/html": [],
      "text/plain": [
       "<IPython.core.display.HTML object>"
      ]
     },
     "metadata": {},
     "output_type": "display_data"
    },
    {
     "data": {
      "text/html": [
       "<style type=\"text/css\">\n",
       "</style>\n",
       "<table id=\"T_bbd0a\">\n",
       "  <thead>\n",
       "    <tr>\n",
       "      <th class=\"blank level0\" >&nbsp;</th>\n",
       "      <th id=\"T_bbd0a_level0_col0\" class=\"col_heading level0 col0\" >Accuracy</th>\n",
       "      <th id=\"T_bbd0a_level0_col1\" class=\"col_heading level0 col1\" >AUC</th>\n",
       "      <th id=\"T_bbd0a_level0_col2\" class=\"col_heading level0 col2\" >Recall</th>\n",
       "      <th id=\"T_bbd0a_level0_col3\" class=\"col_heading level0 col3\" >Prec.</th>\n",
       "      <th id=\"T_bbd0a_level0_col4\" class=\"col_heading level0 col4\" >F1</th>\n",
       "      <th id=\"T_bbd0a_level0_col5\" class=\"col_heading level0 col5\" >Kappa</th>\n",
       "      <th id=\"T_bbd0a_level0_col6\" class=\"col_heading level0 col6\" >MCC</th>\n",
       "    </tr>\n",
       "  </thead>\n",
       "  <tbody>\n",
       "    <tr>\n",
       "      <th id=\"T_bbd0a_level0_row0\" class=\"row_heading level0 row0\" >Test</th>\n",
       "      <td id=\"T_bbd0a_row0_col0\" class=\"data row0 col0\" >0.9433</td>\n",
       "      <td id=\"T_bbd0a_row0_col1\" class=\"data row0 col1\" >0.9677</td>\n",
       "      <td id=\"T_bbd0a_row0_col2\" class=\"data row0 col2\" >0.9477</td>\n",
       "      <td id=\"T_bbd0a_row0_col3\" class=\"data row0 col3\" >0.9416</td>\n",
       "      <td id=\"T_bbd0a_row0_col4\" class=\"data row0 col4\" >0.9446</td>\n",
       "      <td id=\"T_bbd0a_row0_col5\" class=\"data row0 col5\" >0.8866</td>\n",
       "      <td id=\"T_bbd0a_row0_col6\" class=\"data row0 col6\" >0.8866</td>\n",
       "    </tr>\n",
       "  </tbody>\n",
       "</table>\n"
      ],
      "text/plain": [
       "<pandas.io.formats.style.Styler at 0xffff2f11b9a0>"
      ]
     },
     "metadata": {},
     "output_type": "display_data"
    },
    {
     "data": {
      "text/html": [],
      "text/plain": [
       "<IPython.core.display.HTML object>"
      ]
     },
     "metadata": {},
     "output_type": "display_data"
    },
    {
     "name": "stdout",
     "output_type": "stream",
     "text": [
      "gbc\n"
     ]
    },
    {
     "data": {
      "text/html": [],
      "text/plain": [
       "<IPython.core.display.HTML object>"
      ]
     },
     "metadata": {},
     "output_type": "display_data"
    },
    {
     "data": {
      "text/html": [
       "<style type=\"text/css\">\n",
       "</style>\n",
       "<table id=\"T_243dd\">\n",
       "  <thead>\n",
       "    <tr>\n",
       "      <th class=\"blank level0\" >&nbsp;</th>\n",
       "      <th id=\"T_243dd_level0_col0\" class=\"col_heading level0 col0\" >Accuracy</th>\n",
       "      <th id=\"T_243dd_level0_col1\" class=\"col_heading level0 col1\" >AUC</th>\n",
       "      <th id=\"T_243dd_level0_col2\" class=\"col_heading level0 col2\" >Recall</th>\n",
       "      <th id=\"T_243dd_level0_col3\" class=\"col_heading level0 col3\" >Prec.</th>\n",
       "      <th id=\"T_243dd_level0_col4\" class=\"col_heading level0 col4\" >F1</th>\n",
       "      <th id=\"T_243dd_level0_col5\" class=\"col_heading level0 col5\" >Kappa</th>\n",
       "      <th id=\"T_243dd_level0_col6\" class=\"col_heading level0 col6\" >MCC</th>\n",
       "    </tr>\n",
       "  </thead>\n",
       "  <tbody>\n",
       "    <tr>\n",
       "      <th id=\"T_243dd_level0_row0\" class=\"row_heading level0 row0\" >Test</th>\n",
       "      <td id=\"T_243dd_row0_col0\" class=\"data row0 col0\" >0.9400</td>\n",
       "      <td id=\"T_243dd_row0_col1\" class=\"data row0 col1\" >0.9597</td>\n",
       "      <td id=\"T_243dd_row0_col2\" class=\"data row0 col2\" >0.9542</td>\n",
       "      <td id=\"T_243dd_row0_col3\" class=\"data row0 col3\" >0.9299</td>\n",
       "      <td id=\"T_243dd_row0_col4\" class=\"data row0 col4\" >0.9419</td>\n",
       "      <td id=\"T_243dd_row0_col5\" class=\"data row0 col5\" >0.8799</td>\n",
       "      <td id=\"T_243dd_row0_col6\" class=\"data row0 col6\" >0.8802</td>\n",
       "    </tr>\n",
       "  </tbody>\n",
       "</table>\n"
      ],
      "text/plain": [
       "<pandas.io.formats.style.Styler at 0xffff51792470>"
      ]
     },
     "metadata": {},
     "output_type": "display_data"
    },
    {
     "data": {
      "text/html": [],
      "text/plain": [
       "<IPython.core.display.HTML object>"
      ]
     },
     "metadata": {},
     "output_type": "display_data"
    },
    {
     "name": "stdout",
     "output_type": "stream",
     "text": [
      "lda\n"
     ]
    },
    {
     "data": {
      "text/html": [],
      "text/plain": [
       "<IPython.core.display.HTML object>"
      ]
     },
     "metadata": {},
     "output_type": "display_data"
    },
    {
     "data": {
      "text/html": [
       "<style type=\"text/css\">\n",
       "</style>\n",
       "<table id=\"T_fe3ee\">\n",
       "  <thead>\n",
       "    <tr>\n",
       "      <th class=\"blank level0\" >&nbsp;</th>\n",
       "      <th id=\"T_fe3ee_level0_col0\" class=\"col_heading level0 col0\" >Accuracy</th>\n",
       "      <th id=\"T_fe3ee_level0_col1\" class=\"col_heading level0 col1\" >AUC</th>\n",
       "      <th id=\"T_fe3ee_level0_col2\" class=\"col_heading level0 col2\" >Recall</th>\n",
       "      <th id=\"T_fe3ee_level0_col3\" class=\"col_heading level0 col3\" >Prec.</th>\n",
       "      <th id=\"T_fe3ee_level0_col4\" class=\"col_heading level0 col4\" >F1</th>\n",
       "      <th id=\"T_fe3ee_level0_col5\" class=\"col_heading level0 col5\" >Kappa</th>\n",
       "      <th id=\"T_fe3ee_level0_col6\" class=\"col_heading level0 col6\" >MCC</th>\n",
       "    </tr>\n",
       "  </thead>\n",
       "  <tbody>\n",
       "    <tr>\n",
       "      <th id=\"T_fe3ee_level0_row0\" class=\"row_heading level0 row0\" >Test</th>\n",
       "      <td id=\"T_fe3ee_row0_col0\" class=\"data row0 col0\" >0.8767</td>\n",
       "      <td id=\"T_fe3ee_row0_col1\" class=\"data row0 col1\" >0.9484</td>\n",
       "      <td id=\"T_fe3ee_row0_col2\" class=\"data row0 col2\" >0.8627</td>\n",
       "      <td id=\"T_fe3ee_row0_col3\" class=\"data row0 col3\" >0.8919</td>\n",
       "      <td id=\"T_fe3ee_row0_col4\" class=\"data row0 col4\" >0.8771</td>\n",
       "      <td id=\"T_fe3ee_row0_col5\" class=\"data row0 col5\" >0.7534</td>\n",
       "      <td id=\"T_fe3ee_row0_col6\" class=\"data row0 col6\" >0.7538</td>\n",
       "    </tr>\n",
       "  </tbody>\n",
       "</table>\n"
      ],
      "text/plain": [
       "<pandas.io.formats.style.Styler at 0xffff11fc3670>"
      ]
     },
     "metadata": {},
     "output_type": "display_data"
    },
    {
     "data": {
      "text/html": [],
      "text/plain": [
       "<IPython.core.display.HTML object>"
      ]
     },
     "metadata": {},
     "output_type": "display_data"
    },
    {
     "name": "stdout",
     "output_type": "stream",
     "text": [
      "et\n"
     ]
    },
    {
     "data": {
      "text/html": [],
      "text/plain": [
       "<IPython.core.display.HTML object>"
      ]
     },
     "metadata": {},
     "output_type": "display_data"
    },
    {
     "data": {
      "text/html": [
       "<style type=\"text/css\">\n",
       "</style>\n",
       "<table id=\"T_74103\">\n",
       "  <thead>\n",
       "    <tr>\n",
       "      <th class=\"blank level0\" >&nbsp;</th>\n",
       "      <th id=\"T_74103_level0_col0\" class=\"col_heading level0 col0\" >Accuracy</th>\n",
       "      <th id=\"T_74103_level0_col1\" class=\"col_heading level0 col1\" >AUC</th>\n",
       "      <th id=\"T_74103_level0_col2\" class=\"col_heading level0 col2\" >Recall</th>\n",
       "      <th id=\"T_74103_level0_col3\" class=\"col_heading level0 col3\" >Prec.</th>\n",
       "      <th id=\"T_74103_level0_col4\" class=\"col_heading level0 col4\" >F1</th>\n",
       "      <th id=\"T_74103_level0_col5\" class=\"col_heading level0 col5\" >Kappa</th>\n",
       "      <th id=\"T_74103_level0_col6\" class=\"col_heading level0 col6\" >MCC</th>\n",
       "    </tr>\n",
       "  </thead>\n",
       "  <tbody>\n",
       "    <tr>\n",
       "      <th id=\"T_74103_level0_row0\" class=\"row_heading level0 row0\" >Test</th>\n",
       "      <td id=\"T_74103_row0_col0\" class=\"data row0 col0\" >0.9433</td>\n",
       "      <td id=\"T_74103_row0_col1\" class=\"data row0 col1\" >0.9668</td>\n",
       "      <td id=\"T_74103_row0_col2\" class=\"data row0 col2\" >0.9477</td>\n",
       "      <td id=\"T_74103_row0_col3\" class=\"data row0 col3\" >0.9416</td>\n",
       "      <td id=\"T_74103_row0_col4\" class=\"data row0 col4\" >0.9446</td>\n",
       "      <td id=\"T_74103_row0_col5\" class=\"data row0 col5\" >0.8866</td>\n",
       "      <td id=\"T_74103_row0_col6\" class=\"data row0 col6\" >0.8866</td>\n",
       "    </tr>\n",
       "  </tbody>\n",
       "</table>\n"
      ],
      "text/plain": [
       "<pandas.io.formats.style.Styler at 0xffff2f11a500>"
      ]
     },
     "metadata": {},
     "output_type": "display_data"
    },
    {
     "data": {
      "text/html": [],
      "text/plain": [
       "<IPython.core.display.HTML object>"
      ]
     },
     "metadata": {},
     "output_type": "display_data"
    },
    {
     "name": "stdout",
     "output_type": "stream",
     "text": [
      "lightgbm\n"
     ]
    },
    {
     "data": {
      "text/html": [],
      "text/plain": [
       "<IPython.core.display.HTML object>"
      ]
     },
     "metadata": {},
     "output_type": "display_data"
    },
    {
     "data": {
      "text/html": [
       "<style type=\"text/css\">\n",
       "</style>\n",
       "<table id=\"T_2d9f1\">\n",
       "  <thead>\n",
       "    <tr>\n",
       "      <th class=\"blank level0\" >&nbsp;</th>\n",
       "      <th id=\"T_2d9f1_level0_col0\" class=\"col_heading level0 col0\" >Accuracy</th>\n",
       "      <th id=\"T_2d9f1_level0_col1\" class=\"col_heading level0 col1\" >AUC</th>\n",
       "      <th id=\"T_2d9f1_level0_col2\" class=\"col_heading level0 col2\" >Recall</th>\n",
       "      <th id=\"T_2d9f1_level0_col3\" class=\"col_heading level0 col3\" >Prec.</th>\n",
       "      <th id=\"T_2d9f1_level0_col4\" class=\"col_heading level0 col4\" >F1</th>\n",
       "      <th id=\"T_2d9f1_level0_col5\" class=\"col_heading level0 col5\" >Kappa</th>\n",
       "      <th id=\"T_2d9f1_level0_col6\" class=\"col_heading level0 col6\" >MCC</th>\n",
       "    </tr>\n",
       "  </thead>\n",
       "  <tbody>\n",
       "    <tr>\n",
       "      <th id=\"T_2d9f1_level0_row0\" class=\"row_heading level0 row0\" >Test</th>\n",
       "      <td id=\"T_2d9f1_row0_col0\" class=\"data row0 col0\" >0.9367</td>\n",
       "      <td id=\"T_2d9f1_row0_col1\" class=\"data row0 col1\" >0.9653</td>\n",
       "      <td id=\"T_2d9f1_row0_col2\" class=\"data row0 col2\" >0.9412</td>\n",
       "      <td id=\"T_2d9f1_row0_col3\" class=\"data row0 col3\" >0.9351</td>\n",
       "      <td id=\"T_2d9f1_row0_col4\" class=\"data row0 col4\" >0.9381</td>\n",
       "      <td id=\"T_2d9f1_row0_col5\" class=\"data row0 col5\" >0.8733</td>\n",
       "      <td id=\"T_2d9f1_row0_col6\" class=\"data row0 col6\" >0.8733</td>\n",
       "    </tr>\n",
       "  </tbody>\n",
       "</table>\n"
      ],
      "text/plain": [
       "<pandas.io.formats.style.Styler at 0xffff2f119150>"
      ]
     },
     "metadata": {},
     "output_type": "display_data"
    },
    {
     "data": {
      "text/html": [],
      "text/plain": [
       "<IPython.core.display.HTML object>"
      ]
     },
     "metadata": {},
     "output_type": "display_data"
    }
   ],
   "source": [
    "train_data = 300\n",
    "#seed = 3655\n",
    "#seed = 3656\n",
    "seed = 3657\n",
    "\n",
    "train_num = [10, 20, 30, 40, 50, 100, 200, 300]\n",
    "i = 300\n",
    "\n",
    "file_name = f'pseudodata_{seed}_{train_data}_train.csv'\n",
    "df = pd.read_csv(f'../data/pseudodata/{file_name}').head(i)\n",
    "\n",
    "file_name = f'pseudodata_{seed}_{train_data}_test.csv'\n",
    "df_test = pd.read_csv(f'../data/pseudodata/{file_name}')\n",
    "\n",
    "\n",
    "last_index = df.index[-1]\n",
    "df_test.index = range(last_index + 1, last_index + 1 + len(df_test))\n",
    "\n",
    "exp_name = setup(data = df, test_data = df_test, target = 'target', session_id = 3655)\n",
    "\n",
    "model_list = ['lr','knn','nb','dt','svm','rbfsvm','gpc','mlp','ridge','rf','qda','ada','gbc','lda','et','lightgbm']\n",
    "for model_name in model_list:\n",
    "    print(model_name)\n",
    "    create_model(model_name, cross_validation=False)"
   ]
  },
  {
   "cell_type": "markdown",
   "metadata": {},
   "source": [
    "## Moon"
   ]
  },
  {
   "cell_type": "code",
   "execution_count": 84,
   "metadata": {},
   "outputs": [
    {
     "data": {
      "text/html": [
       "<style type=\"text/css\">\n",
       "#T_9e37e_row8_col1 {\n",
       "  background-color: lightgreen;\n",
       "}\n",
       "</style>\n",
       "<table id=\"T_9e37e\">\n",
       "  <thead>\n",
       "    <tr>\n",
       "      <th class=\"blank level0\" >&nbsp;</th>\n",
       "      <th id=\"T_9e37e_level0_col0\" class=\"col_heading level0 col0\" >Description</th>\n",
       "      <th id=\"T_9e37e_level0_col1\" class=\"col_heading level0 col1\" >Value</th>\n",
       "    </tr>\n",
       "  </thead>\n",
       "  <tbody>\n",
       "    <tr>\n",
       "      <th id=\"T_9e37e_level0_row0\" class=\"row_heading level0 row0\" >0</th>\n",
       "      <td id=\"T_9e37e_row0_col0\" class=\"data row0 col0\" >Session id</td>\n",
       "      <td id=\"T_9e37e_row0_col1\" class=\"data row0 col1\" >3655</td>\n",
       "    </tr>\n",
       "    <tr>\n",
       "      <th id=\"T_9e37e_level0_row1\" class=\"row_heading level0 row1\" >1</th>\n",
       "      <td id=\"T_9e37e_row1_col0\" class=\"data row1 col0\" >Target</td>\n",
       "      <td id=\"T_9e37e_row1_col1\" class=\"data row1 col1\" >target</td>\n",
       "    </tr>\n",
       "    <tr>\n",
       "      <th id=\"T_9e37e_level0_row2\" class=\"row_heading level0 row2\" >2</th>\n",
       "      <td id=\"T_9e37e_row2_col0\" class=\"data row2 col0\" >Target type</td>\n",
       "      <td id=\"T_9e37e_row2_col1\" class=\"data row2 col1\" >Binary</td>\n",
       "    </tr>\n",
       "    <tr>\n",
       "      <th id=\"T_9e37e_level0_row3\" class=\"row_heading level0 row3\" >3</th>\n",
       "      <td id=\"T_9e37e_row3_col0\" class=\"data row3 col0\" >Original data shape</td>\n",
       "      <td id=\"T_9e37e_row3_col1\" class=\"data row3 col1\" >(600, 3)</td>\n",
       "    </tr>\n",
       "    <tr>\n",
       "      <th id=\"T_9e37e_level0_row4\" class=\"row_heading level0 row4\" >4</th>\n",
       "      <td id=\"T_9e37e_row4_col0\" class=\"data row4 col0\" >Transformed data shape</td>\n",
       "      <td id=\"T_9e37e_row4_col1\" class=\"data row4 col1\" >(600, 3)</td>\n",
       "    </tr>\n",
       "    <tr>\n",
       "      <th id=\"T_9e37e_level0_row5\" class=\"row_heading level0 row5\" >5</th>\n",
       "      <td id=\"T_9e37e_row5_col0\" class=\"data row5 col0\" >Transformed train set shape</td>\n",
       "      <td id=\"T_9e37e_row5_col1\" class=\"data row5 col1\" >(300, 3)</td>\n",
       "    </tr>\n",
       "    <tr>\n",
       "      <th id=\"T_9e37e_level0_row6\" class=\"row_heading level0 row6\" >6</th>\n",
       "      <td id=\"T_9e37e_row6_col0\" class=\"data row6 col0\" >Transformed test set shape</td>\n",
       "      <td id=\"T_9e37e_row6_col1\" class=\"data row6 col1\" >(300, 3)</td>\n",
       "    </tr>\n",
       "    <tr>\n",
       "      <th id=\"T_9e37e_level0_row7\" class=\"row_heading level0 row7\" >7</th>\n",
       "      <td id=\"T_9e37e_row7_col0\" class=\"data row7 col0\" >Numeric features</td>\n",
       "      <td id=\"T_9e37e_row7_col1\" class=\"data row7 col1\" >2</td>\n",
       "    </tr>\n",
       "    <tr>\n",
       "      <th id=\"T_9e37e_level0_row8\" class=\"row_heading level0 row8\" >8</th>\n",
       "      <td id=\"T_9e37e_row8_col0\" class=\"data row8 col0\" >Preprocess</td>\n",
       "      <td id=\"T_9e37e_row8_col1\" class=\"data row8 col1\" >True</td>\n",
       "    </tr>\n",
       "    <tr>\n",
       "      <th id=\"T_9e37e_level0_row9\" class=\"row_heading level0 row9\" >9</th>\n",
       "      <td id=\"T_9e37e_row9_col0\" class=\"data row9 col0\" >Imputation type</td>\n",
       "      <td id=\"T_9e37e_row9_col1\" class=\"data row9 col1\" >simple</td>\n",
       "    </tr>\n",
       "    <tr>\n",
       "      <th id=\"T_9e37e_level0_row10\" class=\"row_heading level0 row10\" >10</th>\n",
       "      <td id=\"T_9e37e_row10_col0\" class=\"data row10 col0\" >Numeric imputation</td>\n",
       "      <td id=\"T_9e37e_row10_col1\" class=\"data row10 col1\" >mean</td>\n",
       "    </tr>\n",
       "    <tr>\n",
       "      <th id=\"T_9e37e_level0_row11\" class=\"row_heading level0 row11\" >11</th>\n",
       "      <td id=\"T_9e37e_row11_col0\" class=\"data row11 col0\" >Categorical imputation</td>\n",
       "      <td id=\"T_9e37e_row11_col1\" class=\"data row11 col1\" >mode</td>\n",
       "    </tr>\n",
       "    <tr>\n",
       "      <th id=\"T_9e37e_level0_row12\" class=\"row_heading level0 row12\" >12</th>\n",
       "      <td id=\"T_9e37e_row12_col0\" class=\"data row12 col0\" >Fold Generator</td>\n",
       "      <td id=\"T_9e37e_row12_col1\" class=\"data row12 col1\" >StratifiedKFold</td>\n",
       "    </tr>\n",
       "    <tr>\n",
       "      <th id=\"T_9e37e_level0_row13\" class=\"row_heading level0 row13\" >13</th>\n",
       "      <td id=\"T_9e37e_row13_col0\" class=\"data row13 col0\" >Fold Number</td>\n",
       "      <td id=\"T_9e37e_row13_col1\" class=\"data row13 col1\" >10</td>\n",
       "    </tr>\n",
       "    <tr>\n",
       "      <th id=\"T_9e37e_level0_row14\" class=\"row_heading level0 row14\" >14</th>\n",
       "      <td id=\"T_9e37e_row14_col0\" class=\"data row14 col0\" >CPU Jobs</td>\n",
       "      <td id=\"T_9e37e_row14_col1\" class=\"data row14 col1\" >-1</td>\n",
       "    </tr>\n",
       "    <tr>\n",
       "      <th id=\"T_9e37e_level0_row15\" class=\"row_heading level0 row15\" >15</th>\n",
       "      <td id=\"T_9e37e_row15_col0\" class=\"data row15 col0\" >Use GPU</td>\n",
       "      <td id=\"T_9e37e_row15_col1\" class=\"data row15 col1\" >False</td>\n",
       "    </tr>\n",
       "    <tr>\n",
       "      <th id=\"T_9e37e_level0_row16\" class=\"row_heading level0 row16\" >16</th>\n",
       "      <td id=\"T_9e37e_row16_col0\" class=\"data row16 col0\" >Log Experiment</td>\n",
       "      <td id=\"T_9e37e_row16_col1\" class=\"data row16 col1\" >False</td>\n",
       "    </tr>\n",
       "    <tr>\n",
       "      <th id=\"T_9e37e_level0_row17\" class=\"row_heading level0 row17\" >17</th>\n",
       "      <td id=\"T_9e37e_row17_col0\" class=\"data row17 col0\" >Experiment Name</td>\n",
       "      <td id=\"T_9e37e_row17_col1\" class=\"data row17 col1\" >clf-default-name</td>\n",
       "    </tr>\n",
       "    <tr>\n",
       "      <th id=\"T_9e37e_level0_row18\" class=\"row_heading level0 row18\" >18</th>\n",
       "      <td id=\"T_9e37e_row18_col0\" class=\"data row18 col0\" >USI</td>\n",
       "      <td id=\"T_9e37e_row18_col1\" class=\"data row18 col1\" >2a15</td>\n",
       "    </tr>\n",
       "  </tbody>\n",
       "</table>\n"
      ],
      "text/plain": [
       "<pandas.io.formats.style.Styler at 0xffff2c3926e0>"
      ]
     },
     "metadata": {},
     "output_type": "display_data"
    },
    {
     "name": "stdout",
     "output_type": "stream",
     "text": [
      "lr\n"
     ]
    },
    {
     "data": {
      "text/html": [],
      "text/plain": [
       "<IPython.core.display.HTML object>"
      ]
     },
     "metadata": {},
     "output_type": "display_data"
    },
    {
     "data": {
      "text/html": [
       "<style type=\"text/css\">\n",
       "</style>\n",
       "<table id=\"T_18366\">\n",
       "  <thead>\n",
       "    <tr>\n",
       "      <th class=\"blank level0\" >&nbsp;</th>\n",
       "      <th id=\"T_18366_level0_col0\" class=\"col_heading level0 col0\" >Accuracy</th>\n",
       "      <th id=\"T_18366_level0_col1\" class=\"col_heading level0 col1\" >AUC</th>\n",
       "      <th id=\"T_18366_level0_col2\" class=\"col_heading level0 col2\" >Recall</th>\n",
       "      <th id=\"T_18366_level0_col3\" class=\"col_heading level0 col3\" >Prec.</th>\n",
       "      <th id=\"T_18366_level0_col4\" class=\"col_heading level0 col4\" >F1</th>\n",
       "      <th id=\"T_18366_level0_col5\" class=\"col_heading level0 col5\" >Kappa</th>\n",
       "      <th id=\"T_18366_level0_col6\" class=\"col_heading level0 col6\" >MCC</th>\n",
       "    </tr>\n",
       "  </thead>\n",
       "  <tbody>\n",
       "    <tr>\n",
       "      <th id=\"T_18366_level0_row0\" class=\"row_heading level0 row0\" >Test</th>\n",
       "      <td id=\"T_18366_row0_col0\" class=\"data row0 col0\" >0.8933</td>\n",
       "      <td id=\"T_18366_row0_col1\" class=\"data row0 col1\" >0.9688</td>\n",
       "      <td id=\"T_18366_row0_col2\" class=\"data row0 col2\" >0.8733</td>\n",
       "      <td id=\"T_18366_row0_col3\" class=\"data row0 col3\" >0.9097</td>\n",
       "      <td id=\"T_18366_row0_col4\" class=\"data row0 col4\" >0.8912</td>\n",
       "      <td id=\"T_18366_row0_col5\" class=\"data row0 col5\" >0.7867</td>\n",
       "      <td id=\"T_18366_row0_col6\" class=\"data row0 col6\" >0.7873</td>\n",
       "    </tr>\n",
       "  </tbody>\n",
       "</table>\n"
      ],
      "text/plain": [
       "<pandas.io.formats.style.Styler at 0xffff34fe12a0>"
      ]
     },
     "metadata": {},
     "output_type": "display_data"
    },
    {
     "data": {
      "text/html": [],
      "text/plain": [
       "<IPython.core.display.HTML object>"
      ]
     },
     "metadata": {},
     "output_type": "display_data"
    },
    {
     "name": "stdout",
     "output_type": "stream",
     "text": [
      "knn\n"
     ]
    },
    {
     "data": {
      "text/html": [],
      "text/plain": [
       "<IPython.core.display.HTML object>"
      ]
     },
     "metadata": {},
     "output_type": "display_data"
    },
    {
     "data": {
      "text/html": [
       "<style type=\"text/css\">\n",
       "</style>\n",
       "<table id=\"T_a118a\">\n",
       "  <thead>\n",
       "    <tr>\n",
       "      <th class=\"blank level0\" >&nbsp;</th>\n",
       "      <th id=\"T_a118a_level0_col0\" class=\"col_heading level0 col0\" >Accuracy</th>\n",
       "      <th id=\"T_a118a_level0_col1\" class=\"col_heading level0 col1\" >AUC</th>\n",
       "      <th id=\"T_a118a_level0_col2\" class=\"col_heading level0 col2\" >Recall</th>\n",
       "      <th id=\"T_a118a_level0_col3\" class=\"col_heading level0 col3\" >Prec.</th>\n",
       "      <th id=\"T_a118a_level0_col4\" class=\"col_heading level0 col4\" >F1</th>\n",
       "      <th id=\"T_a118a_level0_col5\" class=\"col_heading level0 col5\" >Kappa</th>\n",
       "      <th id=\"T_a118a_level0_col6\" class=\"col_heading level0 col6\" >MCC</th>\n",
       "    </tr>\n",
       "  </thead>\n",
       "  <tbody>\n",
       "    <tr>\n",
       "      <th id=\"T_a118a_level0_row0\" class=\"row_heading level0 row0\" >Test</th>\n",
       "      <td id=\"T_a118a_row0_col0\" class=\"data row0 col0\" >1.0000</td>\n",
       "      <td id=\"T_a118a_row0_col1\" class=\"data row0 col1\" >1.0000</td>\n",
       "      <td id=\"T_a118a_row0_col2\" class=\"data row0 col2\" >1.0000</td>\n",
       "      <td id=\"T_a118a_row0_col3\" class=\"data row0 col3\" >1.0000</td>\n",
       "      <td id=\"T_a118a_row0_col4\" class=\"data row0 col4\" >1.0000</td>\n",
       "      <td id=\"T_a118a_row0_col5\" class=\"data row0 col5\" >1.0000</td>\n",
       "      <td id=\"T_a118a_row0_col6\" class=\"data row0 col6\" >1.0000</td>\n",
       "    </tr>\n",
       "  </tbody>\n",
       "</table>\n"
      ],
      "text/plain": [
       "<pandas.io.formats.style.Styler at 0xffff497183a0>"
      ]
     },
     "metadata": {},
     "output_type": "display_data"
    },
    {
     "data": {
      "text/html": [],
      "text/plain": [
       "<IPython.core.display.HTML object>"
      ]
     },
     "metadata": {},
     "output_type": "display_data"
    },
    {
     "name": "stdout",
     "output_type": "stream",
     "text": [
      "nb\n"
     ]
    },
    {
     "data": {
      "text/html": [],
      "text/plain": [
       "<IPython.core.display.HTML object>"
      ]
     },
     "metadata": {},
     "output_type": "display_data"
    },
    {
     "data": {
      "text/html": [
       "<style type=\"text/css\">\n",
       "</style>\n",
       "<table id=\"T_b9d31\">\n",
       "  <thead>\n",
       "    <tr>\n",
       "      <th class=\"blank level0\" >&nbsp;</th>\n",
       "      <th id=\"T_b9d31_level0_col0\" class=\"col_heading level0 col0\" >Accuracy</th>\n",
       "      <th id=\"T_b9d31_level0_col1\" class=\"col_heading level0 col1\" >AUC</th>\n",
       "      <th id=\"T_b9d31_level0_col2\" class=\"col_heading level0 col2\" >Recall</th>\n",
       "      <th id=\"T_b9d31_level0_col3\" class=\"col_heading level0 col3\" >Prec.</th>\n",
       "      <th id=\"T_b9d31_level0_col4\" class=\"col_heading level0 col4\" >F1</th>\n",
       "      <th id=\"T_b9d31_level0_col5\" class=\"col_heading level0 col5\" >Kappa</th>\n",
       "      <th id=\"T_b9d31_level0_col6\" class=\"col_heading level0 col6\" >MCC</th>\n",
       "    </tr>\n",
       "  </thead>\n",
       "  <tbody>\n",
       "    <tr>\n",
       "      <th id=\"T_b9d31_level0_row0\" class=\"row_heading level0 row0\" >Test</th>\n",
       "      <td id=\"T_b9d31_row0_col0\" class=\"data row0 col0\" >0.8933</td>\n",
       "      <td id=\"T_b9d31_row0_col1\" class=\"data row0 col1\" >0.9686</td>\n",
       "      <td id=\"T_b9d31_row0_col2\" class=\"data row0 col2\" >0.8733</td>\n",
       "      <td id=\"T_b9d31_row0_col3\" class=\"data row0 col3\" >0.9097</td>\n",
       "      <td id=\"T_b9d31_row0_col4\" class=\"data row0 col4\" >0.8912</td>\n",
       "      <td id=\"T_b9d31_row0_col5\" class=\"data row0 col5\" >0.7867</td>\n",
       "      <td id=\"T_b9d31_row0_col6\" class=\"data row0 col6\" >0.7873</td>\n",
       "    </tr>\n",
       "  </tbody>\n",
       "</table>\n"
      ],
      "text/plain": [
       "<pandas.io.formats.style.Styler at 0xffff496b8550>"
      ]
     },
     "metadata": {},
     "output_type": "display_data"
    },
    {
     "data": {
      "text/html": [],
      "text/plain": [
       "<IPython.core.display.HTML object>"
      ]
     },
     "metadata": {},
     "output_type": "display_data"
    },
    {
     "name": "stdout",
     "output_type": "stream",
     "text": [
      "dt\n"
     ]
    },
    {
     "data": {
      "text/html": [],
      "text/plain": [
       "<IPython.core.display.HTML object>"
      ]
     },
     "metadata": {},
     "output_type": "display_data"
    },
    {
     "data": {
      "text/html": [
       "<style type=\"text/css\">\n",
       "</style>\n",
       "<table id=\"T_36c04\">\n",
       "  <thead>\n",
       "    <tr>\n",
       "      <th class=\"blank level0\" >&nbsp;</th>\n",
       "      <th id=\"T_36c04_level0_col0\" class=\"col_heading level0 col0\" >Accuracy</th>\n",
       "      <th id=\"T_36c04_level0_col1\" class=\"col_heading level0 col1\" >AUC</th>\n",
       "      <th id=\"T_36c04_level0_col2\" class=\"col_heading level0 col2\" >Recall</th>\n",
       "      <th id=\"T_36c04_level0_col3\" class=\"col_heading level0 col3\" >Prec.</th>\n",
       "      <th id=\"T_36c04_level0_col4\" class=\"col_heading level0 col4\" >F1</th>\n",
       "      <th id=\"T_36c04_level0_col5\" class=\"col_heading level0 col5\" >Kappa</th>\n",
       "      <th id=\"T_36c04_level0_col6\" class=\"col_heading level0 col6\" >MCC</th>\n",
       "    </tr>\n",
       "  </thead>\n",
       "  <tbody>\n",
       "    <tr>\n",
       "      <th id=\"T_36c04_level0_row0\" class=\"row_heading level0 row0\" >Test</th>\n",
       "      <td id=\"T_36c04_row0_col0\" class=\"data row0 col0\" >0.9967</td>\n",
       "      <td id=\"T_36c04_row0_col1\" class=\"data row0 col1\" >0.9967</td>\n",
       "      <td id=\"T_36c04_row0_col2\" class=\"data row0 col2\" >0.9933</td>\n",
       "      <td id=\"T_36c04_row0_col3\" class=\"data row0 col3\" >1.0000</td>\n",
       "      <td id=\"T_36c04_row0_col4\" class=\"data row0 col4\" >0.9967</td>\n",
       "      <td id=\"T_36c04_row0_col5\" class=\"data row0 col5\" >0.9933</td>\n",
       "      <td id=\"T_36c04_row0_col6\" class=\"data row0 col6\" >0.9934</td>\n",
       "    </tr>\n",
       "  </tbody>\n",
       "</table>\n"
      ],
      "text/plain": [
       "<pandas.io.formats.style.Styler at 0xffff4967ada0>"
      ]
     },
     "metadata": {},
     "output_type": "display_data"
    },
    {
     "data": {
      "text/html": [],
      "text/plain": [
       "<IPython.core.display.HTML object>"
      ]
     },
     "metadata": {},
     "output_type": "display_data"
    },
    {
     "name": "stdout",
     "output_type": "stream",
     "text": [
      "svm\n"
     ]
    },
    {
     "data": {
      "text/html": [],
      "text/plain": [
       "<IPython.core.display.HTML object>"
      ]
     },
     "metadata": {},
     "output_type": "display_data"
    },
    {
     "data": {
      "text/html": [
       "<style type=\"text/css\">\n",
       "</style>\n",
       "<table id=\"T_9ba9f\">\n",
       "  <thead>\n",
       "    <tr>\n",
       "      <th class=\"blank level0\" >&nbsp;</th>\n",
       "      <th id=\"T_9ba9f_level0_col0\" class=\"col_heading level0 col0\" >Accuracy</th>\n",
       "      <th id=\"T_9ba9f_level0_col1\" class=\"col_heading level0 col1\" >AUC</th>\n",
       "      <th id=\"T_9ba9f_level0_col2\" class=\"col_heading level0 col2\" >Recall</th>\n",
       "      <th id=\"T_9ba9f_level0_col3\" class=\"col_heading level0 col3\" >Prec.</th>\n",
       "      <th id=\"T_9ba9f_level0_col4\" class=\"col_heading level0 col4\" >F1</th>\n",
       "      <th id=\"T_9ba9f_level0_col5\" class=\"col_heading level0 col5\" >Kappa</th>\n",
       "      <th id=\"T_9ba9f_level0_col6\" class=\"col_heading level0 col6\" >MCC</th>\n",
       "    </tr>\n",
       "  </thead>\n",
       "  <tbody>\n",
       "    <tr>\n",
       "      <th id=\"T_9ba9f_level0_row0\" class=\"row_heading level0 row0\" >Test</th>\n",
       "      <td id=\"T_9ba9f_row0_col0\" class=\"data row0 col0\" >0.8767</td>\n",
       "      <td id=\"T_9ba9f_row0_col1\" class=\"data row0 col1\" >0.8767</td>\n",
       "      <td id=\"T_9ba9f_row0_col2\" class=\"data row0 col2\" >0.8267</td>\n",
       "      <td id=\"T_9ba9f_row0_col3\" class=\"data row0 col3\" >0.9185</td>\n",
       "      <td id=\"T_9ba9f_row0_col4\" class=\"data row0 col4\" >0.8702</td>\n",
       "      <td id=\"T_9ba9f_row0_col5\" class=\"data row0 col5\" >0.7533</td>\n",
       "      <td id=\"T_9ba9f_row0_col6\" class=\"data row0 col6\" >0.7571</td>\n",
       "    </tr>\n",
       "  </tbody>\n",
       "</table>\n"
      ],
      "text/plain": [
       "<pandas.io.formats.style.Styler at 0xffff5182a4d0>"
      ]
     },
     "metadata": {},
     "output_type": "display_data"
    },
    {
     "data": {
      "text/html": [],
      "text/plain": [
       "<IPython.core.display.HTML object>"
      ]
     },
     "metadata": {},
     "output_type": "display_data"
    },
    {
     "name": "stdout",
     "output_type": "stream",
     "text": [
      "rbfsvm\n"
     ]
    },
    {
     "data": {
      "text/html": [],
      "text/plain": [
       "<IPython.core.display.HTML object>"
      ]
     },
     "metadata": {},
     "output_type": "display_data"
    },
    {
     "data": {
      "text/html": [
       "<style type=\"text/css\">\n",
       "</style>\n",
       "<table id=\"T_7700a\">\n",
       "  <thead>\n",
       "    <tr>\n",
       "      <th class=\"blank level0\" >&nbsp;</th>\n",
       "      <th id=\"T_7700a_level0_col0\" class=\"col_heading level0 col0\" >Accuracy</th>\n",
       "      <th id=\"T_7700a_level0_col1\" class=\"col_heading level0 col1\" >AUC</th>\n",
       "      <th id=\"T_7700a_level0_col2\" class=\"col_heading level0 col2\" >Recall</th>\n",
       "      <th id=\"T_7700a_level0_col3\" class=\"col_heading level0 col3\" >Prec.</th>\n",
       "      <th id=\"T_7700a_level0_col4\" class=\"col_heading level0 col4\" >F1</th>\n",
       "      <th id=\"T_7700a_level0_col5\" class=\"col_heading level0 col5\" >Kappa</th>\n",
       "      <th id=\"T_7700a_level0_col6\" class=\"col_heading level0 col6\" >MCC</th>\n",
       "    </tr>\n",
       "  </thead>\n",
       "  <tbody>\n",
       "    <tr>\n",
       "      <th id=\"T_7700a_level0_row0\" class=\"row_heading level0 row0\" >Test</th>\n",
       "      <td id=\"T_7700a_row0_col0\" class=\"data row0 col0\" >1.0000</td>\n",
       "      <td id=\"T_7700a_row0_col1\" class=\"data row0 col1\" >1.0000</td>\n",
       "      <td id=\"T_7700a_row0_col2\" class=\"data row0 col2\" >1.0000</td>\n",
       "      <td id=\"T_7700a_row0_col3\" class=\"data row0 col3\" >1.0000</td>\n",
       "      <td id=\"T_7700a_row0_col4\" class=\"data row0 col4\" >1.0000</td>\n",
       "      <td id=\"T_7700a_row0_col5\" class=\"data row0 col5\" >1.0000</td>\n",
       "      <td id=\"T_7700a_row0_col6\" class=\"data row0 col6\" >1.0000</td>\n",
       "    </tr>\n",
       "  </tbody>\n",
       "</table>\n"
      ],
      "text/plain": [
       "<pandas.io.formats.style.Styler at 0xffff495b7e50>"
      ]
     },
     "metadata": {},
     "output_type": "display_data"
    },
    {
     "data": {
      "text/html": [],
      "text/plain": [
       "<IPython.core.display.HTML object>"
      ]
     },
     "metadata": {},
     "output_type": "display_data"
    },
    {
     "name": "stdout",
     "output_type": "stream",
     "text": [
      "gpc\n"
     ]
    },
    {
     "data": {
      "text/html": [],
      "text/plain": [
       "<IPython.core.display.HTML object>"
      ]
     },
     "metadata": {},
     "output_type": "display_data"
    },
    {
     "data": {
      "text/html": [
       "<style type=\"text/css\">\n",
       "</style>\n",
       "<table id=\"T_05a70\">\n",
       "  <thead>\n",
       "    <tr>\n",
       "      <th class=\"blank level0\" >&nbsp;</th>\n",
       "      <th id=\"T_05a70_level0_col0\" class=\"col_heading level0 col0\" >Accuracy</th>\n",
       "      <th id=\"T_05a70_level0_col1\" class=\"col_heading level0 col1\" >AUC</th>\n",
       "      <th id=\"T_05a70_level0_col2\" class=\"col_heading level0 col2\" >Recall</th>\n",
       "      <th id=\"T_05a70_level0_col3\" class=\"col_heading level0 col3\" >Prec.</th>\n",
       "      <th id=\"T_05a70_level0_col4\" class=\"col_heading level0 col4\" >F1</th>\n",
       "      <th id=\"T_05a70_level0_col5\" class=\"col_heading level0 col5\" >Kappa</th>\n",
       "      <th id=\"T_05a70_level0_col6\" class=\"col_heading level0 col6\" >MCC</th>\n",
       "    </tr>\n",
       "  </thead>\n",
       "  <tbody>\n",
       "    <tr>\n",
       "      <th id=\"T_05a70_level0_row0\" class=\"row_heading level0 row0\" >Test</th>\n",
       "      <td id=\"T_05a70_row0_col0\" class=\"data row0 col0\" >0.9500</td>\n",
       "      <td id=\"T_05a70_row0_col1\" class=\"data row0 col1\" >0.9952</td>\n",
       "      <td id=\"T_05a70_row0_col2\" class=\"data row0 col2\" >0.9400</td>\n",
       "      <td id=\"T_05a70_row0_col3\" class=\"data row0 col3\" >0.9592</td>\n",
       "      <td id=\"T_05a70_row0_col4\" class=\"data row0 col4\" >0.9495</td>\n",
       "      <td id=\"T_05a70_row0_col5\" class=\"data row0 col5\" >0.9000</td>\n",
       "      <td id=\"T_05a70_row0_col6\" class=\"data row0 col6\" >0.9002</td>\n",
       "    </tr>\n",
       "  </tbody>\n",
       "</table>\n"
      ],
      "text/plain": [
       "<pandas.io.formats.style.Styler at 0xffff5182a8f0>"
      ]
     },
     "metadata": {},
     "output_type": "display_data"
    },
    {
     "data": {
      "text/html": [],
      "text/plain": [
       "<IPython.core.display.HTML object>"
      ]
     },
     "metadata": {},
     "output_type": "display_data"
    },
    {
     "name": "stdout",
     "output_type": "stream",
     "text": [
      "mlp\n"
     ]
    },
    {
     "data": {
      "text/html": [],
      "text/plain": [
       "<IPython.core.display.HTML object>"
      ]
     },
     "metadata": {},
     "output_type": "display_data"
    },
    {
     "data": {
      "text/html": [
       "<style type=\"text/css\">\n",
       "</style>\n",
       "<table id=\"T_8f547\">\n",
       "  <thead>\n",
       "    <tr>\n",
       "      <th class=\"blank level0\" >&nbsp;</th>\n",
       "      <th id=\"T_8f547_level0_col0\" class=\"col_heading level0 col0\" >Accuracy</th>\n",
       "      <th id=\"T_8f547_level0_col1\" class=\"col_heading level0 col1\" >AUC</th>\n",
       "      <th id=\"T_8f547_level0_col2\" class=\"col_heading level0 col2\" >Recall</th>\n",
       "      <th id=\"T_8f547_level0_col3\" class=\"col_heading level0 col3\" >Prec.</th>\n",
       "      <th id=\"T_8f547_level0_col4\" class=\"col_heading level0 col4\" >F1</th>\n",
       "      <th id=\"T_8f547_level0_col5\" class=\"col_heading level0 col5\" >Kappa</th>\n",
       "      <th id=\"T_8f547_level0_col6\" class=\"col_heading level0 col6\" >MCC</th>\n",
       "    </tr>\n",
       "  </thead>\n",
       "  <tbody>\n",
       "    <tr>\n",
       "      <th id=\"T_8f547_level0_row0\" class=\"row_heading level0 row0\" >Test</th>\n",
       "      <td id=\"T_8f547_row0_col0\" class=\"data row0 col0\" >1.0000</td>\n",
       "      <td id=\"T_8f547_row0_col1\" class=\"data row0 col1\" >1.0000</td>\n",
       "      <td id=\"T_8f547_row0_col2\" class=\"data row0 col2\" >1.0000</td>\n",
       "      <td id=\"T_8f547_row0_col3\" class=\"data row0 col3\" >1.0000</td>\n",
       "      <td id=\"T_8f547_row0_col4\" class=\"data row0 col4\" >1.0000</td>\n",
       "      <td id=\"T_8f547_row0_col5\" class=\"data row0 col5\" >1.0000</td>\n",
       "      <td id=\"T_8f547_row0_col6\" class=\"data row0 col6\" >1.0000</td>\n",
       "    </tr>\n",
       "  </tbody>\n",
       "</table>\n"
      ],
      "text/plain": [
       "<pandas.io.formats.style.Styler at 0xffff49487430>"
      ]
     },
     "metadata": {},
     "output_type": "display_data"
    },
    {
     "data": {
      "text/html": [],
      "text/plain": [
       "<IPython.core.display.HTML object>"
      ]
     },
     "metadata": {},
     "output_type": "display_data"
    },
    {
     "name": "stdout",
     "output_type": "stream",
     "text": [
      "ridge\n"
     ]
    },
    {
     "data": {
      "text/html": [],
      "text/plain": [
       "<IPython.core.display.HTML object>"
      ]
     },
     "metadata": {},
     "output_type": "display_data"
    },
    {
     "data": {
      "text/html": [
       "<style type=\"text/css\">\n",
       "</style>\n",
       "<table id=\"T_33400\">\n",
       "  <thead>\n",
       "    <tr>\n",
       "      <th class=\"blank level0\" >&nbsp;</th>\n",
       "      <th id=\"T_33400_level0_col0\" class=\"col_heading level0 col0\" >Accuracy</th>\n",
       "      <th id=\"T_33400_level0_col1\" class=\"col_heading level0 col1\" >AUC</th>\n",
       "      <th id=\"T_33400_level0_col2\" class=\"col_heading level0 col2\" >Recall</th>\n",
       "      <th id=\"T_33400_level0_col3\" class=\"col_heading level0 col3\" >Prec.</th>\n",
       "      <th id=\"T_33400_level0_col4\" class=\"col_heading level0 col4\" >F1</th>\n",
       "      <th id=\"T_33400_level0_col5\" class=\"col_heading level0 col5\" >Kappa</th>\n",
       "      <th id=\"T_33400_level0_col6\" class=\"col_heading level0 col6\" >MCC</th>\n",
       "    </tr>\n",
       "  </thead>\n",
       "  <tbody>\n",
       "    <tr>\n",
       "      <th id=\"T_33400_level0_row0\" class=\"row_heading level0 row0\" >Test</th>\n",
       "      <td id=\"T_33400_row0_col0\" class=\"data row0 col0\" >0.8933</td>\n",
       "      <td id=\"T_33400_row0_col1\" class=\"data row0 col1\" >0.8933</td>\n",
       "      <td id=\"T_33400_row0_col2\" class=\"data row0 col2\" >0.8733</td>\n",
       "      <td id=\"T_33400_row0_col3\" class=\"data row0 col3\" >0.9097</td>\n",
       "      <td id=\"T_33400_row0_col4\" class=\"data row0 col4\" >0.8912</td>\n",
       "      <td id=\"T_33400_row0_col5\" class=\"data row0 col5\" >0.7867</td>\n",
       "      <td id=\"T_33400_row0_col6\" class=\"data row0 col6\" >0.7873</td>\n",
       "    </tr>\n",
       "  </tbody>\n",
       "</table>\n"
      ],
      "text/plain": [
       "<pandas.io.formats.style.Styler at 0xffff34da0dc0>"
      ]
     },
     "metadata": {},
     "output_type": "display_data"
    },
    {
     "data": {
      "text/html": [],
      "text/plain": [
       "<IPython.core.display.HTML object>"
      ]
     },
     "metadata": {},
     "output_type": "display_data"
    },
    {
     "name": "stdout",
     "output_type": "stream",
     "text": [
      "rf\n"
     ]
    },
    {
     "data": {
      "text/html": [],
      "text/plain": [
       "<IPython.core.display.HTML object>"
      ]
     },
     "metadata": {},
     "output_type": "display_data"
    },
    {
     "data": {
      "text/html": [
       "<style type=\"text/css\">\n",
       "</style>\n",
       "<table id=\"T_f36c4\">\n",
       "  <thead>\n",
       "    <tr>\n",
       "      <th class=\"blank level0\" >&nbsp;</th>\n",
       "      <th id=\"T_f36c4_level0_col0\" class=\"col_heading level0 col0\" >Accuracy</th>\n",
       "      <th id=\"T_f36c4_level0_col1\" class=\"col_heading level0 col1\" >AUC</th>\n",
       "      <th id=\"T_f36c4_level0_col2\" class=\"col_heading level0 col2\" >Recall</th>\n",
       "      <th id=\"T_f36c4_level0_col3\" class=\"col_heading level0 col3\" >Prec.</th>\n",
       "      <th id=\"T_f36c4_level0_col4\" class=\"col_heading level0 col4\" >F1</th>\n",
       "      <th id=\"T_f36c4_level0_col5\" class=\"col_heading level0 col5\" >Kappa</th>\n",
       "      <th id=\"T_f36c4_level0_col6\" class=\"col_heading level0 col6\" >MCC</th>\n",
       "    </tr>\n",
       "  </thead>\n",
       "  <tbody>\n",
       "    <tr>\n",
       "      <th id=\"T_f36c4_level0_row0\" class=\"row_heading level0 row0\" >Test</th>\n",
       "      <td id=\"T_f36c4_row0_col0\" class=\"data row0 col0\" >0.9967</td>\n",
       "      <td id=\"T_f36c4_row0_col1\" class=\"data row0 col1\" >1.0000</td>\n",
       "      <td id=\"T_f36c4_row0_col2\" class=\"data row0 col2\" >0.9933</td>\n",
       "      <td id=\"T_f36c4_row0_col3\" class=\"data row0 col3\" >1.0000</td>\n",
       "      <td id=\"T_f36c4_row0_col4\" class=\"data row0 col4\" >0.9967</td>\n",
       "      <td id=\"T_f36c4_row0_col5\" class=\"data row0 col5\" >0.9933</td>\n",
       "      <td id=\"T_f36c4_row0_col6\" class=\"data row0 col6\" >0.9934</td>\n",
       "    </tr>\n",
       "  </tbody>\n",
       "</table>\n"
      ],
      "text/plain": [
       "<pandas.io.formats.style.Styler at 0xffff51847d30>"
      ]
     },
     "metadata": {},
     "output_type": "display_data"
    },
    {
     "data": {
      "text/html": [],
      "text/plain": [
       "<IPython.core.display.HTML object>"
      ]
     },
     "metadata": {},
     "output_type": "display_data"
    },
    {
     "name": "stdout",
     "output_type": "stream",
     "text": [
      "qda\n"
     ]
    },
    {
     "data": {
      "text/html": [],
      "text/plain": [
       "<IPython.core.display.HTML object>"
      ]
     },
     "metadata": {},
     "output_type": "display_data"
    },
    {
     "data": {
      "text/html": [
       "<style type=\"text/css\">\n",
       "</style>\n",
       "<table id=\"T_eae43\">\n",
       "  <thead>\n",
       "    <tr>\n",
       "      <th class=\"blank level0\" >&nbsp;</th>\n",
       "      <th id=\"T_eae43_level0_col0\" class=\"col_heading level0 col0\" >Accuracy</th>\n",
       "      <th id=\"T_eae43_level0_col1\" class=\"col_heading level0 col1\" >AUC</th>\n",
       "      <th id=\"T_eae43_level0_col2\" class=\"col_heading level0 col2\" >Recall</th>\n",
       "      <th id=\"T_eae43_level0_col3\" class=\"col_heading level0 col3\" >Prec.</th>\n",
       "      <th id=\"T_eae43_level0_col4\" class=\"col_heading level0 col4\" >F1</th>\n",
       "      <th id=\"T_eae43_level0_col5\" class=\"col_heading level0 col5\" >Kappa</th>\n",
       "      <th id=\"T_eae43_level0_col6\" class=\"col_heading level0 col6\" >MCC</th>\n",
       "    </tr>\n",
       "  </thead>\n",
       "  <tbody>\n",
       "    <tr>\n",
       "      <th id=\"T_eae43_level0_row0\" class=\"row_heading level0 row0\" >Test</th>\n",
       "      <td id=\"T_eae43_row0_col0\" class=\"data row0 col0\" >0.8933</td>\n",
       "      <td id=\"T_eae43_row0_col1\" class=\"data row0 col1\" >0.9690</td>\n",
       "      <td id=\"T_eae43_row0_col2\" class=\"data row0 col2\" >0.8733</td>\n",
       "      <td id=\"T_eae43_row0_col3\" class=\"data row0 col3\" >0.9097</td>\n",
       "      <td id=\"T_eae43_row0_col4\" class=\"data row0 col4\" >0.8912</td>\n",
       "      <td id=\"T_eae43_row0_col5\" class=\"data row0 col5\" >0.7867</td>\n",
       "      <td id=\"T_eae43_row0_col6\" class=\"data row0 col6\" >0.7873</td>\n",
       "    </tr>\n",
       "  </tbody>\n",
       "</table>\n"
      ],
      "text/plain": [
       "<pandas.io.formats.style.Styler at 0xffff495be230>"
      ]
     },
     "metadata": {},
     "output_type": "display_data"
    },
    {
     "data": {
      "text/html": [],
      "text/plain": [
       "<IPython.core.display.HTML object>"
      ]
     },
     "metadata": {},
     "output_type": "display_data"
    },
    {
     "name": "stdout",
     "output_type": "stream",
     "text": [
      "ada\n"
     ]
    },
    {
     "data": {
      "text/html": [],
      "text/plain": [
       "<IPython.core.display.HTML object>"
      ]
     },
     "metadata": {},
     "output_type": "display_data"
    },
    {
     "data": {
      "text/html": [
       "<style type=\"text/css\">\n",
       "</style>\n",
       "<table id=\"T_c11fb\">\n",
       "  <thead>\n",
       "    <tr>\n",
       "      <th class=\"blank level0\" >&nbsp;</th>\n",
       "      <th id=\"T_c11fb_level0_col0\" class=\"col_heading level0 col0\" >Accuracy</th>\n",
       "      <th id=\"T_c11fb_level0_col1\" class=\"col_heading level0 col1\" >AUC</th>\n",
       "      <th id=\"T_c11fb_level0_col2\" class=\"col_heading level0 col2\" >Recall</th>\n",
       "      <th id=\"T_c11fb_level0_col3\" class=\"col_heading level0 col3\" >Prec.</th>\n",
       "      <th id=\"T_c11fb_level0_col4\" class=\"col_heading level0 col4\" >F1</th>\n",
       "      <th id=\"T_c11fb_level0_col5\" class=\"col_heading level0 col5\" >Kappa</th>\n",
       "      <th id=\"T_c11fb_level0_col6\" class=\"col_heading level0 col6\" >MCC</th>\n",
       "    </tr>\n",
       "  </thead>\n",
       "  <tbody>\n",
       "    <tr>\n",
       "      <th id=\"T_c11fb_level0_row0\" class=\"row_heading level0 row0\" >Test</th>\n",
       "      <td id=\"T_c11fb_row0_col0\" class=\"data row0 col0\" >0.9933</td>\n",
       "      <td id=\"T_c11fb_row0_col1\" class=\"data row0 col1\" >0.9969</td>\n",
       "      <td id=\"T_c11fb_row0_col2\" class=\"data row0 col2\" >0.9933</td>\n",
       "      <td id=\"T_c11fb_row0_col3\" class=\"data row0 col3\" >0.9933</td>\n",
       "      <td id=\"T_c11fb_row0_col4\" class=\"data row0 col4\" >0.9933</td>\n",
       "      <td id=\"T_c11fb_row0_col5\" class=\"data row0 col5\" >0.9867</td>\n",
       "      <td id=\"T_c11fb_row0_col6\" class=\"data row0 col6\" >0.9867</td>\n",
       "    </tr>\n",
       "  </tbody>\n",
       "</table>\n"
      ],
      "text/plain": [
       "<pandas.io.formats.style.Styler at 0xffff496b98d0>"
      ]
     },
     "metadata": {},
     "output_type": "display_data"
    },
    {
     "data": {
      "text/html": [],
      "text/plain": [
       "<IPython.core.display.HTML object>"
      ]
     },
     "metadata": {},
     "output_type": "display_data"
    },
    {
     "name": "stdout",
     "output_type": "stream",
     "text": [
      "gbc\n"
     ]
    },
    {
     "data": {
      "text/html": [],
      "text/plain": [
       "<IPython.core.display.HTML object>"
      ]
     },
     "metadata": {},
     "output_type": "display_data"
    },
    {
     "data": {
      "text/html": [
       "<style type=\"text/css\">\n",
       "</style>\n",
       "<table id=\"T_d5a13\">\n",
       "  <thead>\n",
       "    <tr>\n",
       "      <th class=\"blank level0\" >&nbsp;</th>\n",
       "      <th id=\"T_d5a13_level0_col0\" class=\"col_heading level0 col0\" >Accuracy</th>\n",
       "      <th id=\"T_d5a13_level0_col1\" class=\"col_heading level0 col1\" >AUC</th>\n",
       "      <th id=\"T_d5a13_level0_col2\" class=\"col_heading level0 col2\" >Recall</th>\n",
       "      <th id=\"T_d5a13_level0_col3\" class=\"col_heading level0 col3\" >Prec.</th>\n",
       "      <th id=\"T_d5a13_level0_col4\" class=\"col_heading level0 col4\" >F1</th>\n",
       "      <th id=\"T_d5a13_level0_col5\" class=\"col_heading level0 col5\" >Kappa</th>\n",
       "      <th id=\"T_d5a13_level0_col6\" class=\"col_heading level0 col6\" >MCC</th>\n",
       "    </tr>\n",
       "  </thead>\n",
       "  <tbody>\n",
       "    <tr>\n",
       "      <th id=\"T_d5a13_level0_row0\" class=\"row_heading level0 row0\" >Test</th>\n",
       "      <td id=\"T_d5a13_row0_col0\" class=\"data row0 col0\" >0.9967</td>\n",
       "      <td id=\"T_d5a13_row0_col1\" class=\"data row0 col1\" >1.0000</td>\n",
       "      <td id=\"T_d5a13_row0_col2\" class=\"data row0 col2\" >0.9933</td>\n",
       "      <td id=\"T_d5a13_row0_col3\" class=\"data row0 col3\" >1.0000</td>\n",
       "      <td id=\"T_d5a13_row0_col4\" class=\"data row0 col4\" >0.9967</td>\n",
       "      <td id=\"T_d5a13_row0_col5\" class=\"data row0 col5\" >0.9933</td>\n",
       "      <td id=\"T_d5a13_row0_col6\" class=\"data row0 col6\" >0.9934</td>\n",
       "    </tr>\n",
       "  </tbody>\n",
       "</table>\n"
      ],
      "text/plain": [
       "<pandas.io.formats.style.Styler at 0xffff2c35f2e0>"
      ]
     },
     "metadata": {},
     "output_type": "display_data"
    },
    {
     "data": {
      "text/html": [],
      "text/plain": [
       "<IPython.core.display.HTML object>"
      ]
     },
     "metadata": {},
     "output_type": "display_data"
    },
    {
     "name": "stdout",
     "output_type": "stream",
     "text": [
      "lda\n"
     ]
    },
    {
     "data": {
      "text/html": [],
      "text/plain": [
       "<IPython.core.display.HTML object>"
      ]
     },
     "metadata": {},
     "output_type": "display_data"
    },
    {
     "data": {
      "text/html": [
       "<style type=\"text/css\">\n",
       "</style>\n",
       "<table id=\"T_d5350\">\n",
       "  <thead>\n",
       "    <tr>\n",
       "      <th class=\"blank level0\" >&nbsp;</th>\n",
       "      <th id=\"T_d5350_level0_col0\" class=\"col_heading level0 col0\" >Accuracy</th>\n",
       "      <th id=\"T_d5350_level0_col1\" class=\"col_heading level0 col1\" >AUC</th>\n",
       "      <th id=\"T_d5350_level0_col2\" class=\"col_heading level0 col2\" >Recall</th>\n",
       "      <th id=\"T_d5350_level0_col3\" class=\"col_heading level0 col3\" >Prec.</th>\n",
       "      <th id=\"T_d5350_level0_col4\" class=\"col_heading level0 col4\" >F1</th>\n",
       "      <th id=\"T_d5350_level0_col5\" class=\"col_heading level0 col5\" >Kappa</th>\n",
       "      <th id=\"T_d5350_level0_col6\" class=\"col_heading level0 col6\" >MCC</th>\n",
       "    </tr>\n",
       "  </thead>\n",
       "  <tbody>\n",
       "    <tr>\n",
       "      <th id=\"T_d5350_level0_row0\" class=\"row_heading level0 row0\" >Test</th>\n",
       "      <td id=\"T_d5350_row0_col0\" class=\"data row0 col0\" >0.8933</td>\n",
       "      <td id=\"T_d5350_row0_col1\" class=\"data row0 col1\" >0.9689</td>\n",
       "      <td id=\"T_d5350_row0_col2\" class=\"data row0 col2\" >0.8733</td>\n",
       "      <td id=\"T_d5350_row0_col3\" class=\"data row0 col3\" >0.9097</td>\n",
       "      <td id=\"T_d5350_row0_col4\" class=\"data row0 col4\" >0.8912</td>\n",
       "      <td id=\"T_d5350_row0_col5\" class=\"data row0 col5\" >0.7867</td>\n",
       "      <td id=\"T_d5350_row0_col6\" class=\"data row0 col6\" >0.7873</td>\n",
       "    </tr>\n",
       "  </tbody>\n",
       "</table>\n"
      ],
      "text/plain": [
       "<pandas.io.formats.style.Styler at 0xffff34da3460>"
      ]
     },
     "metadata": {},
     "output_type": "display_data"
    },
    {
     "data": {
      "text/html": [],
      "text/plain": [
       "<IPython.core.display.HTML object>"
      ]
     },
     "metadata": {},
     "output_type": "display_data"
    },
    {
     "name": "stdout",
     "output_type": "stream",
     "text": [
      "et\n"
     ]
    },
    {
     "data": {
      "text/html": [],
      "text/plain": [
       "<IPython.core.display.HTML object>"
      ]
     },
     "metadata": {},
     "output_type": "display_data"
    },
    {
     "data": {
      "text/html": [
       "<style type=\"text/css\">\n",
       "</style>\n",
       "<table id=\"T_e2173\">\n",
       "  <thead>\n",
       "    <tr>\n",
       "      <th class=\"blank level0\" >&nbsp;</th>\n",
       "      <th id=\"T_e2173_level0_col0\" class=\"col_heading level0 col0\" >Accuracy</th>\n",
       "      <th id=\"T_e2173_level0_col1\" class=\"col_heading level0 col1\" >AUC</th>\n",
       "      <th id=\"T_e2173_level0_col2\" class=\"col_heading level0 col2\" >Recall</th>\n",
       "      <th id=\"T_e2173_level0_col3\" class=\"col_heading level0 col3\" >Prec.</th>\n",
       "      <th id=\"T_e2173_level0_col4\" class=\"col_heading level0 col4\" >F1</th>\n",
       "      <th id=\"T_e2173_level0_col5\" class=\"col_heading level0 col5\" >Kappa</th>\n",
       "      <th id=\"T_e2173_level0_col6\" class=\"col_heading level0 col6\" >MCC</th>\n",
       "    </tr>\n",
       "  </thead>\n",
       "  <tbody>\n",
       "    <tr>\n",
       "      <th id=\"T_e2173_level0_row0\" class=\"row_heading level0 row0\" >Test</th>\n",
       "      <td id=\"T_e2173_row0_col0\" class=\"data row0 col0\" >1.0000</td>\n",
       "      <td id=\"T_e2173_row0_col1\" class=\"data row0 col1\" >1.0000</td>\n",
       "      <td id=\"T_e2173_row0_col2\" class=\"data row0 col2\" >1.0000</td>\n",
       "      <td id=\"T_e2173_row0_col3\" class=\"data row0 col3\" >1.0000</td>\n",
       "      <td id=\"T_e2173_row0_col4\" class=\"data row0 col4\" >1.0000</td>\n",
       "      <td id=\"T_e2173_row0_col5\" class=\"data row0 col5\" >1.0000</td>\n",
       "      <td id=\"T_e2173_row0_col6\" class=\"data row0 col6\" >1.0000</td>\n",
       "    </tr>\n",
       "  </tbody>\n",
       "</table>\n"
      ],
      "text/plain": [
       "<pandas.io.formats.style.Styler at 0xffff496b98d0>"
      ]
     },
     "metadata": {},
     "output_type": "display_data"
    },
    {
     "data": {
      "text/html": [],
      "text/plain": [
       "<IPython.core.display.HTML object>"
      ]
     },
     "metadata": {},
     "output_type": "display_data"
    },
    {
     "name": "stdout",
     "output_type": "stream",
     "text": [
      "lightgbm\n"
     ]
    },
    {
     "data": {
      "text/html": [],
      "text/plain": [
       "<IPython.core.display.HTML object>"
      ]
     },
     "metadata": {},
     "output_type": "display_data"
    },
    {
     "data": {
      "text/html": [
       "<style type=\"text/css\">\n",
       "</style>\n",
       "<table id=\"T_94ebb\">\n",
       "  <thead>\n",
       "    <tr>\n",
       "      <th class=\"blank level0\" >&nbsp;</th>\n",
       "      <th id=\"T_94ebb_level0_col0\" class=\"col_heading level0 col0\" >Accuracy</th>\n",
       "      <th id=\"T_94ebb_level0_col1\" class=\"col_heading level0 col1\" >AUC</th>\n",
       "      <th id=\"T_94ebb_level0_col2\" class=\"col_heading level0 col2\" >Recall</th>\n",
       "      <th id=\"T_94ebb_level0_col3\" class=\"col_heading level0 col3\" >Prec.</th>\n",
       "      <th id=\"T_94ebb_level0_col4\" class=\"col_heading level0 col4\" >F1</th>\n",
       "      <th id=\"T_94ebb_level0_col5\" class=\"col_heading level0 col5\" >Kappa</th>\n",
       "      <th id=\"T_94ebb_level0_col6\" class=\"col_heading level0 col6\" >MCC</th>\n",
       "    </tr>\n",
       "  </thead>\n",
       "  <tbody>\n",
       "    <tr>\n",
       "      <th id=\"T_94ebb_level0_row0\" class=\"row_heading level0 row0\" >Test</th>\n",
       "      <td id=\"T_94ebb_row0_col0\" class=\"data row0 col0\" >0.9933</td>\n",
       "      <td id=\"T_94ebb_row0_col1\" class=\"data row0 col1\" >0.9990</td>\n",
       "      <td id=\"T_94ebb_row0_col2\" class=\"data row0 col2\" >0.9867</td>\n",
       "      <td id=\"T_94ebb_row0_col3\" class=\"data row0 col3\" >1.0000</td>\n",
       "      <td id=\"T_94ebb_row0_col4\" class=\"data row0 col4\" >0.9933</td>\n",
       "      <td id=\"T_94ebb_row0_col5\" class=\"data row0 col5\" >0.9867</td>\n",
       "      <td id=\"T_94ebb_row0_col6\" class=\"data row0 col6\" >0.9868</td>\n",
       "    </tr>\n",
       "  </tbody>\n",
       "</table>\n"
      ],
      "text/plain": [
       "<pandas.io.formats.style.Styler at 0xffff495bd1b0>"
      ]
     },
     "metadata": {},
     "output_type": "display_data"
    },
    {
     "data": {
      "text/html": [],
      "text/plain": [
       "<IPython.core.display.HTML object>"
      ]
     },
     "metadata": {},
     "output_type": "display_data"
    }
   ],
   "source": [
    "n = 300\n",
    "#seed = 3655\n",
    "#seed = 3656\n",
    "seed = 3657\n",
    "\n",
    "train_num = [10, 20, 30, 40, 50, 100, 200, 300]\n",
    "i = 300\n",
    "\n",
    "df = pd.read_csv(f'../data/moon/moon_{seed}_{n}_train.csv').head(i)\n",
    "\n",
    "df_test = pd.read_csv(f'../data/moon/moon_{seed}_{n}_test.csv')\n",
    "\n",
    "last_index = df.index[-1]\n",
    "df_test.index = range(last_index + 1, last_index + 1 + len(df_test))\n",
    "\n",
    "exp_name = setup(data = df, test_data = df_test, target = 'target', session_id = 3655) \n",
    "\n",
    "model_list = ['lr','knn','nb','dt','svm','rbfsvm','gpc','mlp','ridge','rf','qda','ada','gbc','lda','et','lightgbm']\n",
    "for model_name in model_list:\n",
    "    print(model_name)\n",
    "    create_model(model_name, cross_validation=False)"
   ]
  },
  {
   "cell_type": "markdown",
   "metadata": {},
   "source": [
    "## Titanic data"
   ]
  },
  {
   "cell_type": "code",
   "execution_count": 116,
   "metadata": {},
   "outputs": [
    {
     "data": {
      "text/html": [
       "<style type=\"text/css\">\n",
       "#T_62063_row8_col1 {\n",
       "  background-color: lightgreen;\n",
       "}\n",
       "</style>\n",
       "<table id=\"T_62063\">\n",
       "  <thead>\n",
       "    <tr>\n",
       "      <th class=\"blank level0\" >&nbsp;</th>\n",
       "      <th id=\"T_62063_level0_col0\" class=\"col_heading level0 col0\" >Description</th>\n",
       "      <th id=\"T_62063_level0_col1\" class=\"col_heading level0 col1\" >Value</th>\n",
       "    </tr>\n",
       "  </thead>\n",
       "  <tbody>\n",
       "    <tr>\n",
       "      <th id=\"T_62063_level0_row0\" class=\"row_heading level0 row0\" >0</th>\n",
       "      <td id=\"T_62063_row0_col0\" class=\"data row0 col0\" >Session id</td>\n",
       "      <td id=\"T_62063_row0_col1\" class=\"data row0 col1\" >3655</td>\n",
       "    </tr>\n",
       "    <tr>\n",
       "      <th id=\"T_62063_level0_row1\" class=\"row_heading level0 row1\" >1</th>\n",
       "      <td id=\"T_62063_row1_col0\" class=\"data row1 col0\" >Target</td>\n",
       "      <td id=\"T_62063_row1_col1\" class=\"data row1 col1\" >survived</td>\n",
       "    </tr>\n",
       "    <tr>\n",
       "      <th id=\"T_62063_level0_row2\" class=\"row_heading level0 row2\" >2</th>\n",
       "      <td id=\"T_62063_row2_col0\" class=\"data row2 col0\" >Target type</td>\n",
       "      <td id=\"T_62063_row2_col1\" class=\"data row2 col1\" >Binary</td>\n",
       "    </tr>\n",
       "    <tr>\n",
       "      <th id=\"T_62063_level0_row3\" class=\"row_heading level0 row3\" >3</th>\n",
       "      <td id=\"T_62063_row3_col0\" class=\"data row3 col0\" >Original data shape</td>\n",
       "      <td id=\"T_62063_row3_col1\" class=\"data row3 col1\" >(306, 33)</td>\n",
       "    </tr>\n",
       "    <tr>\n",
       "      <th id=\"T_62063_level0_row4\" class=\"row_heading level0 row4\" >4</th>\n",
       "      <td id=\"T_62063_row4_col0\" class=\"data row4 col0\" >Transformed data shape</td>\n",
       "      <td id=\"T_62063_row4_col1\" class=\"data row4 col1\" >(306, 33)</td>\n",
       "    </tr>\n",
       "    <tr>\n",
       "      <th id=\"T_62063_level0_row5\" class=\"row_heading level0 row5\" >5</th>\n",
       "      <td id=\"T_62063_row5_col0\" class=\"data row5 col0\" >Transformed train set shape</td>\n",
       "      <td id=\"T_62063_row5_col1\" class=\"data row5 col1\" >(6, 33)</td>\n",
       "    </tr>\n",
       "    <tr>\n",
       "      <th id=\"T_62063_level0_row6\" class=\"row_heading level0 row6\" >6</th>\n",
       "      <td id=\"T_62063_row6_col0\" class=\"data row6 col0\" >Transformed test set shape</td>\n",
       "      <td id=\"T_62063_row6_col1\" class=\"data row6 col1\" >(300, 33)</td>\n",
       "    </tr>\n",
       "    <tr>\n",
       "      <th id=\"T_62063_level0_row7\" class=\"row_heading level0 row7\" >7</th>\n",
       "      <td id=\"T_62063_row7_col0\" class=\"data row7 col0\" >Numeric features</td>\n",
       "      <td id=\"T_62063_row7_col1\" class=\"data row7 col1\" >32</td>\n",
       "    </tr>\n",
       "    <tr>\n",
       "      <th id=\"T_62063_level0_row8\" class=\"row_heading level0 row8\" >8</th>\n",
       "      <td id=\"T_62063_row8_col0\" class=\"data row8 col0\" >Preprocess</td>\n",
       "      <td id=\"T_62063_row8_col1\" class=\"data row8 col1\" >True</td>\n",
       "    </tr>\n",
       "    <tr>\n",
       "      <th id=\"T_62063_level0_row9\" class=\"row_heading level0 row9\" >9</th>\n",
       "      <td id=\"T_62063_row9_col0\" class=\"data row9 col0\" >Imputation type</td>\n",
       "      <td id=\"T_62063_row9_col1\" class=\"data row9 col1\" >simple</td>\n",
       "    </tr>\n",
       "    <tr>\n",
       "      <th id=\"T_62063_level0_row10\" class=\"row_heading level0 row10\" >10</th>\n",
       "      <td id=\"T_62063_row10_col0\" class=\"data row10 col0\" >Numeric imputation</td>\n",
       "      <td id=\"T_62063_row10_col1\" class=\"data row10 col1\" >mean</td>\n",
       "    </tr>\n",
       "    <tr>\n",
       "      <th id=\"T_62063_level0_row11\" class=\"row_heading level0 row11\" >11</th>\n",
       "      <td id=\"T_62063_row11_col0\" class=\"data row11 col0\" >Categorical imputation</td>\n",
       "      <td id=\"T_62063_row11_col1\" class=\"data row11 col1\" >mode</td>\n",
       "    </tr>\n",
       "    <tr>\n",
       "      <th id=\"T_62063_level0_row12\" class=\"row_heading level0 row12\" >12</th>\n",
       "      <td id=\"T_62063_row12_col0\" class=\"data row12 col0\" >Fold Generator</td>\n",
       "      <td id=\"T_62063_row12_col1\" class=\"data row12 col1\" >StratifiedKFold</td>\n",
       "    </tr>\n",
       "    <tr>\n",
       "      <th id=\"T_62063_level0_row13\" class=\"row_heading level0 row13\" >13</th>\n",
       "      <td id=\"T_62063_row13_col0\" class=\"data row13 col0\" >Fold Number</td>\n",
       "      <td id=\"T_62063_row13_col1\" class=\"data row13 col1\" >10</td>\n",
       "    </tr>\n",
       "    <tr>\n",
       "      <th id=\"T_62063_level0_row14\" class=\"row_heading level0 row14\" >14</th>\n",
       "      <td id=\"T_62063_row14_col0\" class=\"data row14 col0\" >CPU Jobs</td>\n",
       "      <td id=\"T_62063_row14_col1\" class=\"data row14 col1\" >-1</td>\n",
       "    </tr>\n",
       "    <tr>\n",
       "      <th id=\"T_62063_level0_row15\" class=\"row_heading level0 row15\" >15</th>\n",
       "      <td id=\"T_62063_row15_col0\" class=\"data row15 col0\" >Use GPU</td>\n",
       "      <td id=\"T_62063_row15_col1\" class=\"data row15 col1\" >False</td>\n",
       "    </tr>\n",
       "    <tr>\n",
       "      <th id=\"T_62063_level0_row16\" class=\"row_heading level0 row16\" >16</th>\n",
       "      <td id=\"T_62063_row16_col0\" class=\"data row16 col0\" >Log Experiment</td>\n",
       "      <td id=\"T_62063_row16_col1\" class=\"data row16 col1\" >False</td>\n",
       "    </tr>\n",
       "    <tr>\n",
       "      <th id=\"T_62063_level0_row17\" class=\"row_heading level0 row17\" >17</th>\n",
       "      <td id=\"T_62063_row17_col0\" class=\"data row17 col0\" >Experiment Name</td>\n",
       "      <td id=\"T_62063_row17_col1\" class=\"data row17 col1\" >clf-default-name</td>\n",
       "    </tr>\n",
       "    <tr>\n",
       "      <th id=\"T_62063_level0_row18\" class=\"row_heading level0 row18\" >18</th>\n",
       "      <td id=\"T_62063_row18_col0\" class=\"data row18 col0\" >USI</td>\n",
       "      <td id=\"T_62063_row18_col1\" class=\"data row18 col1\" >64e8</td>\n",
       "    </tr>\n",
       "  </tbody>\n",
       "</table>\n"
      ],
      "text/plain": [
       "<pandas.io.formats.style.Styler at 0xffff10cb31c0>"
      ]
     },
     "metadata": {},
     "output_type": "display_data"
    },
    {
     "name": "stdout",
     "output_type": "stream",
     "text": [
      "lr\n"
     ]
    },
    {
     "data": {
      "text/html": [],
      "text/plain": [
       "<IPython.core.display.HTML object>"
      ]
     },
     "metadata": {},
     "output_type": "display_data"
    },
    {
     "data": {
      "text/html": [
       "<style type=\"text/css\">\n",
       "</style>\n",
       "<table id=\"T_5faa1\">\n",
       "  <thead>\n",
       "    <tr>\n",
       "      <th class=\"blank level0\" >&nbsp;</th>\n",
       "      <th id=\"T_5faa1_level0_col0\" class=\"col_heading level0 col0\" >Accuracy</th>\n",
       "      <th id=\"T_5faa1_level0_col1\" class=\"col_heading level0 col1\" >AUC</th>\n",
       "      <th id=\"T_5faa1_level0_col2\" class=\"col_heading level0 col2\" >Recall</th>\n",
       "      <th id=\"T_5faa1_level0_col3\" class=\"col_heading level0 col3\" >Prec.</th>\n",
       "      <th id=\"T_5faa1_level0_col4\" class=\"col_heading level0 col4\" >F1</th>\n",
       "      <th id=\"T_5faa1_level0_col5\" class=\"col_heading level0 col5\" >Kappa</th>\n",
       "      <th id=\"T_5faa1_level0_col6\" class=\"col_heading level0 col6\" >MCC</th>\n",
       "    </tr>\n",
       "  </thead>\n",
       "  <tbody>\n",
       "    <tr>\n",
       "      <th id=\"T_5faa1_level0_row0\" class=\"row_heading level0 row0\" >Test</th>\n",
       "      <td id=\"T_5faa1_row0_col0\" class=\"data row0 col0\" >0.5433</td>\n",
       "      <td id=\"T_5faa1_row0_col1\" class=\"data row0 col1\" >0.6202</td>\n",
       "      <td id=\"T_5faa1_row0_col2\" class=\"data row0 col2\" >0.8108</td>\n",
       "      <td id=\"T_5faa1_row0_col3\" class=\"data row0 col3\" >0.4369</td>\n",
       "      <td id=\"T_5faa1_row0_col4\" class=\"data row0 col4\" >0.5678</td>\n",
       "      <td id=\"T_5faa1_row0_col5\" class=\"data row0 col5\" >0.1675</td>\n",
       "      <td id=\"T_5faa1_row0_col6\" class=\"data row0 col6\" >0.2051</td>\n",
       "    </tr>\n",
       "  </tbody>\n",
       "</table>\n"
      ],
      "text/plain": [
       "<pandas.io.formats.style.Styler at 0xffff2f362290>"
      ]
     },
     "metadata": {},
     "output_type": "display_data"
    },
    {
     "data": {
      "text/html": [],
      "text/plain": [
       "<IPython.core.display.HTML object>"
      ]
     },
     "metadata": {},
     "output_type": "display_data"
    },
    {
     "name": "stdout",
     "output_type": "stream",
     "text": [
      "knn\n"
     ]
    },
    {
     "data": {
      "text/html": [],
      "text/plain": [
       "<IPython.core.display.HTML object>"
      ]
     },
     "metadata": {},
     "output_type": "display_data"
    },
    {
     "data": {
      "text/html": [
       "<style type=\"text/css\">\n",
       "</style>\n",
       "<table id=\"T_f2887\">\n",
       "  <thead>\n",
       "    <tr>\n",
       "      <th class=\"blank level0\" >&nbsp;</th>\n",
       "      <th id=\"T_f2887_level0_col0\" class=\"col_heading level0 col0\" >Accuracy</th>\n",
       "      <th id=\"T_f2887_level0_col1\" class=\"col_heading level0 col1\" >AUC</th>\n",
       "      <th id=\"T_f2887_level0_col2\" class=\"col_heading level0 col2\" >Recall</th>\n",
       "      <th id=\"T_f2887_level0_col3\" class=\"col_heading level0 col3\" >Prec.</th>\n",
       "      <th id=\"T_f2887_level0_col4\" class=\"col_heading level0 col4\" >F1</th>\n",
       "      <th id=\"T_f2887_level0_col5\" class=\"col_heading level0 col5\" >Kappa</th>\n",
       "      <th id=\"T_f2887_level0_col6\" class=\"col_heading level0 col6\" >MCC</th>\n",
       "    </tr>\n",
       "  </thead>\n",
       "  <tbody>\n",
       "    <tr>\n",
       "      <th id=\"T_f2887_level0_row0\" class=\"row_heading level0 row0\" >Test</th>\n",
       "      <td id=\"T_f2887_row0_col0\" class=\"data row0 col0\" >0.6400</td>\n",
       "      <td id=\"T_f2887_row0_col1\" class=\"data row0 col1\" >0.6102</td>\n",
       "      <td id=\"T_f2887_row0_col2\" class=\"data row0 col2\" >0.4955</td>\n",
       "      <td id=\"T_f2887_row0_col3\" class=\"data row0 col3\" >0.5140</td>\n",
       "      <td id=\"T_f2887_row0_col4\" class=\"data row0 col4\" >0.5046</td>\n",
       "      <td id=\"T_f2887_row0_col5\" class=\"data row0 col5\" >0.2220</td>\n",
       "      <td id=\"T_f2887_row0_col6\" class=\"data row0 col6\" >0.2221</td>\n",
       "    </tr>\n",
       "  </tbody>\n",
       "</table>\n"
      ],
      "text/plain": [
       "<pandas.io.formats.style.Styler at 0xffff49e34280>"
      ]
     },
     "metadata": {},
     "output_type": "display_data"
    },
    {
     "data": {
      "text/html": [],
      "text/plain": [
       "<IPython.core.display.HTML object>"
      ]
     },
     "metadata": {},
     "output_type": "display_data"
    },
    {
     "name": "stdout",
     "output_type": "stream",
     "text": [
      "nb\n"
     ]
    },
    {
     "data": {
      "text/html": [],
      "text/plain": [
       "<IPython.core.display.HTML object>"
      ]
     },
     "metadata": {},
     "output_type": "display_data"
    },
    {
     "data": {
      "text/html": [
       "<style type=\"text/css\">\n",
       "</style>\n",
       "<table id=\"T_7884a\">\n",
       "  <thead>\n",
       "    <tr>\n",
       "      <th class=\"blank level0\" >&nbsp;</th>\n",
       "      <th id=\"T_7884a_level0_col0\" class=\"col_heading level0 col0\" >Accuracy</th>\n",
       "      <th id=\"T_7884a_level0_col1\" class=\"col_heading level0 col1\" >AUC</th>\n",
       "      <th id=\"T_7884a_level0_col2\" class=\"col_heading level0 col2\" >Recall</th>\n",
       "      <th id=\"T_7884a_level0_col3\" class=\"col_heading level0 col3\" >Prec.</th>\n",
       "      <th id=\"T_7884a_level0_col4\" class=\"col_heading level0 col4\" >F1</th>\n",
       "      <th id=\"T_7884a_level0_col5\" class=\"col_heading level0 col5\" >Kappa</th>\n",
       "      <th id=\"T_7884a_level0_col6\" class=\"col_heading level0 col6\" >MCC</th>\n",
       "    </tr>\n",
       "  </thead>\n",
       "  <tbody>\n",
       "    <tr>\n",
       "      <th id=\"T_7884a_level0_row0\" class=\"row_heading level0 row0\" >Test</th>\n",
       "      <td id=\"T_7884a_row0_col0\" class=\"data row0 col0\" >0.7667</td>\n",
       "      <td id=\"T_7884a_row0_col1\" class=\"data row0 col1\" >0.7693</td>\n",
       "      <td id=\"T_7884a_row0_col2\" class=\"data row0 col2\" >0.7658</td>\n",
       "      <td id=\"T_7884a_row0_col3\" class=\"data row0 col3\" >0.6589</td>\n",
       "      <td id=\"T_7884a_row0_col4\" class=\"data row0 col4\" >0.7083</td>\n",
       "      <td id=\"T_7884a_row0_col5\" class=\"data row0 col5\" >0.5157</td>\n",
       "      <td id=\"T_7884a_row0_col6\" class=\"data row0 col6\" >0.5198</td>\n",
       "    </tr>\n",
       "  </tbody>\n",
       "</table>\n"
      ],
      "text/plain": [
       "<pandas.io.formats.style.Styler at 0xffff2f0e6170>"
      ]
     },
     "metadata": {},
     "output_type": "display_data"
    },
    {
     "data": {
      "text/html": [],
      "text/plain": [
       "<IPython.core.display.HTML object>"
      ]
     },
     "metadata": {},
     "output_type": "display_data"
    },
    {
     "name": "stdout",
     "output_type": "stream",
     "text": [
      "dt\n"
     ]
    },
    {
     "data": {
      "text/html": [],
      "text/plain": [
       "<IPython.core.display.HTML object>"
      ]
     },
     "metadata": {},
     "output_type": "display_data"
    },
    {
     "data": {
      "text/html": [
       "<style type=\"text/css\">\n",
       "</style>\n",
       "<table id=\"T_9961a\">\n",
       "  <thead>\n",
       "    <tr>\n",
       "      <th class=\"blank level0\" >&nbsp;</th>\n",
       "      <th id=\"T_9961a_level0_col0\" class=\"col_heading level0 col0\" >Accuracy</th>\n",
       "      <th id=\"T_9961a_level0_col1\" class=\"col_heading level0 col1\" >AUC</th>\n",
       "      <th id=\"T_9961a_level0_col2\" class=\"col_heading level0 col2\" >Recall</th>\n",
       "      <th id=\"T_9961a_level0_col3\" class=\"col_heading level0 col3\" >Prec.</th>\n",
       "      <th id=\"T_9961a_level0_col4\" class=\"col_heading level0 col4\" >F1</th>\n",
       "      <th id=\"T_9961a_level0_col5\" class=\"col_heading level0 col5\" >Kappa</th>\n",
       "      <th id=\"T_9961a_level0_col6\" class=\"col_heading level0 col6\" >MCC</th>\n",
       "    </tr>\n",
       "  </thead>\n",
       "  <tbody>\n",
       "    <tr>\n",
       "      <th id=\"T_9961a_level0_row0\" class=\"row_heading level0 row0\" >Test</th>\n",
       "      <td id=\"T_9961a_row0_col0\" class=\"data row0 col0\" >1.0000</td>\n",
       "      <td id=\"T_9961a_row0_col1\" class=\"data row0 col1\" >1.0000</td>\n",
       "      <td id=\"T_9961a_row0_col2\" class=\"data row0 col2\" >1.0000</td>\n",
       "      <td id=\"T_9961a_row0_col3\" class=\"data row0 col3\" >1.0000</td>\n",
       "      <td id=\"T_9961a_row0_col4\" class=\"data row0 col4\" >1.0000</td>\n",
       "      <td id=\"T_9961a_row0_col5\" class=\"data row0 col5\" >1.0000</td>\n",
       "      <td id=\"T_9961a_row0_col6\" class=\"data row0 col6\" >1.0000</td>\n",
       "    </tr>\n",
       "  </tbody>\n",
       "</table>\n"
      ],
      "text/plain": [
       "<pandas.io.formats.style.Styler at 0xffff49e08e50>"
      ]
     },
     "metadata": {},
     "output_type": "display_data"
    },
    {
     "data": {
      "text/html": [],
      "text/plain": [
       "<IPython.core.display.HTML object>"
      ]
     },
     "metadata": {},
     "output_type": "display_data"
    },
    {
     "name": "stdout",
     "output_type": "stream",
     "text": [
      "svm\n"
     ]
    },
    {
     "data": {
      "text/html": [],
      "text/plain": [
       "<IPython.core.display.HTML object>"
      ]
     },
     "metadata": {},
     "output_type": "display_data"
    },
    {
     "data": {
      "text/html": [
       "<style type=\"text/css\">\n",
       "</style>\n",
       "<table id=\"T_98626\">\n",
       "  <thead>\n",
       "    <tr>\n",
       "      <th class=\"blank level0\" >&nbsp;</th>\n",
       "      <th id=\"T_98626_level0_col0\" class=\"col_heading level0 col0\" >Accuracy</th>\n",
       "      <th id=\"T_98626_level0_col1\" class=\"col_heading level0 col1\" >AUC</th>\n",
       "      <th id=\"T_98626_level0_col2\" class=\"col_heading level0 col2\" >Recall</th>\n",
       "      <th id=\"T_98626_level0_col3\" class=\"col_heading level0 col3\" >Prec.</th>\n",
       "      <th id=\"T_98626_level0_col4\" class=\"col_heading level0 col4\" >F1</th>\n",
       "      <th id=\"T_98626_level0_col5\" class=\"col_heading level0 col5\" >Kappa</th>\n",
       "      <th id=\"T_98626_level0_col6\" class=\"col_heading level0 col6\" >MCC</th>\n",
       "    </tr>\n",
       "  </thead>\n",
       "  <tbody>\n",
       "    <tr>\n",
       "      <th id=\"T_98626_level0_row0\" class=\"row_heading level0 row0\" >Test</th>\n",
       "      <td id=\"T_98626_row0_col0\" class=\"data row0 col0\" >0.5867</td>\n",
       "      <td id=\"T_98626_row0_col1\" class=\"data row0 col1\" >0.6143</td>\n",
       "      <td id=\"T_98626_row0_col2\" class=\"data row0 col2\" >0.7207</td>\n",
       "      <td id=\"T_98626_row0_col3\" class=\"data row0 col3\" >0.4624</td>\n",
       "      <td id=\"T_98626_row0_col4\" class=\"data row0 col4\" >0.5634</td>\n",
       "      <td id=\"T_98626_row0_col5\" class=\"data row0 col5\" >0.2050</td>\n",
       "      <td id=\"T_98626_row0_col6\" class=\"data row0 col6\" >0.2234</td>\n",
       "    </tr>\n",
       "  </tbody>\n",
       "</table>\n"
      ],
      "text/plain": [
       "<pandas.io.formats.style.Styler at 0xffff2f05ab90>"
      ]
     },
     "metadata": {},
     "output_type": "display_data"
    },
    {
     "data": {
      "text/html": [],
      "text/plain": [
       "<IPython.core.display.HTML object>"
      ]
     },
     "metadata": {},
     "output_type": "display_data"
    },
    {
     "name": "stdout",
     "output_type": "stream",
     "text": [
      "rbfsvm\n"
     ]
    },
    {
     "data": {
      "text/html": [],
      "text/plain": [
       "<IPython.core.display.HTML object>"
      ]
     },
     "metadata": {},
     "output_type": "display_data"
    },
    {
     "data": {
      "text/html": [
       "<style type=\"text/css\">\n",
       "</style>\n",
       "<table id=\"T_b3ba7\">\n",
       "  <thead>\n",
       "    <tr>\n",
       "      <th class=\"blank level0\" >&nbsp;</th>\n",
       "      <th id=\"T_b3ba7_level0_col0\" class=\"col_heading level0 col0\" >Accuracy</th>\n",
       "      <th id=\"T_b3ba7_level0_col1\" class=\"col_heading level0 col1\" >AUC</th>\n",
       "      <th id=\"T_b3ba7_level0_col2\" class=\"col_heading level0 col2\" >Recall</th>\n",
       "      <th id=\"T_b3ba7_level0_col3\" class=\"col_heading level0 col3\" >Prec.</th>\n",
       "      <th id=\"T_b3ba7_level0_col4\" class=\"col_heading level0 col4\" >F1</th>\n",
       "      <th id=\"T_b3ba7_level0_col5\" class=\"col_heading level0 col5\" >Kappa</th>\n",
       "      <th id=\"T_b3ba7_level0_col6\" class=\"col_heading level0 col6\" >MCC</th>\n",
       "    </tr>\n",
       "  </thead>\n",
       "  <tbody>\n",
       "    <tr>\n",
       "      <th id=\"T_b3ba7_level0_row0\" class=\"row_heading level0 row0\" >Test</th>\n",
       "      <td id=\"T_b3ba7_row0_col0\" class=\"data row0 col0\" >0.4433</td>\n",
       "      <td id=\"T_b3ba7_row0_col1\" class=\"data row0 col1\" >0.5544</td>\n",
       "      <td id=\"T_b3ba7_row0_col2\" class=\"data row0 col2\" >0.8829</td>\n",
       "      <td id=\"T_b3ba7_row0_col3\" class=\"data row0 col3\" >0.3889</td>\n",
       "      <td id=\"T_b3ba7_row0_col4\" class=\"data row0 col4\" >0.5399</td>\n",
       "      <td id=\"T_b3ba7_row0_col5\" class=\"data row0 col5\" >0.0539</td>\n",
       "      <td id=\"T_b3ba7_row0_col6\" class=\"data row0 col6\" >0.0896</td>\n",
       "    </tr>\n",
       "  </tbody>\n",
       "</table>\n"
      ],
      "text/plain": [
       "<pandas.io.formats.style.Styler at 0xffff2f4ff9a0>"
      ]
     },
     "metadata": {},
     "output_type": "display_data"
    },
    {
     "data": {
      "text/html": [],
      "text/plain": [
       "<IPython.core.display.HTML object>"
      ]
     },
     "metadata": {},
     "output_type": "display_data"
    },
    {
     "name": "stdout",
     "output_type": "stream",
     "text": [
      "gpc\n"
     ]
    },
    {
     "data": {
      "text/html": [],
      "text/plain": [
       "<IPython.core.display.HTML object>"
      ]
     },
     "metadata": {},
     "output_type": "display_data"
    },
    {
     "data": {
      "text/html": [
       "<style type=\"text/css\">\n",
       "</style>\n",
       "<table id=\"T_ab45d\">\n",
       "  <thead>\n",
       "    <tr>\n",
       "      <th class=\"blank level0\" >&nbsp;</th>\n",
       "      <th id=\"T_ab45d_level0_col0\" class=\"col_heading level0 col0\" >Accuracy</th>\n",
       "      <th id=\"T_ab45d_level0_col1\" class=\"col_heading level0 col1\" >AUC</th>\n",
       "      <th id=\"T_ab45d_level0_col2\" class=\"col_heading level0 col2\" >Recall</th>\n",
       "      <th id=\"T_ab45d_level0_col3\" class=\"col_heading level0 col3\" >Prec.</th>\n",
       "      <th id=\"T_ab45d_level0_col4\" class=\"col_heading level0 col4\" >F1</th>\n",
       "      <th id=\"T_ab45d_level0_col5\" class=\"col_heading level0 col5\" >Kappa</th>\n",
       "      <th id=\"T_ab45d_level0_col6\" class=\"col_heading level0 col6\" >MCC</th>\n",
       "    </tr>\n",
       "  </thead>\n",
       "  <tbody>\n",
       "    <tr>\n",
       "      <th id=\"T_ab45d_level0_row0\" class=\"row_heading level0 row0\" >Test</th>\n",
       "      <td id=\"T_ab45d_row0_col0\" class=\"data row0 col0\" >0.4500</td>\n",
       "      <td id=\"T_ab45d_row0_col1\" class=\"data row0 col1\" >0.5322</td>\n",
       "      <td id=\"T_ab45d_row0_col2\" class=\"data row0 col2\" >0.6306</td>\n",
       "      <td id=\"T_ab45d_row0_col3\" class=\"data row0 col3\" >0.3608</td>\n",
       "      <td id=\"T_ab45d_row0_col4\" class=\"data row0 col4\" >0.4590</td>\n",
       "      <td id=\"T_ab45d_row0_col5\" class=\"data row0 col5\" >-0.0221</td>\n",
       "      <td id=\"T_ab45d_row0_col6\" class=\"data row0 col6\" >-0.0257</td>\n",
       "    </tr>\n",
       "  </tbody>\n",
       "</table>\n"
      ],
      "text/plain": [
       "<pandas.io.formats.style.Styler at 0xffff2c155ae0>"
      ]
     },
     "metadata": {},
     "output_type": "display_data"
    },
    {
     "data": {
      "text/html": [],
      "text/plain": [
       "<IPython.core.display.HTML object>"
      ]
     },
     "metadata": {},
     "output_type": "display_data"
    },
    {
     "name": "stdout",
     "output_type": "stream",
     "text": [
      "mlp\n"
     ]
    },
    {
     "data": {
      "text/html": [],
      "text/plain": [
       "<IPython.core.display.HTML object>"
      ]
     },
     "metadata": {},
     "output_type": "display_data"
    },
    {
     "data": {
      "text/html": [
       "<style type=\"text/css\">\n",
       "</style>\n",
       "<table id=\"T_2dde2\">\n",
       "  <thead>\n",
       "    <tr>\n",
       "      <th class=\"blank level0\" >&nbsp;</th>\n",
       "      <th id=\"T_2dde2_level0_col0\" class=\"col_heading level0 col0\" >Accuracy</th>\n",
       "      <th id=\"T_2dde2_level0_col1\" class=\"col_heading level0 col1\" >AUC</th>\n",
       "      <th id=\"T_2dde2_level0_col2\" class=\"col_heading level0 col2\" >Recall</th>\n",
       "      <th id=\"T_2dde2_level0_col3\" class=\"col_heading level0 col3\" >Prec.</th>\n",
       "      <th id=\"T_2dde2_level0_col4\" class=\"col_heading level0 col4\" >F1</th>\n",
       "      <th id=\"T_2dde2_level0_col5\" class=\"col_heading level0 col5\" >Kappa</th>\n",
       "      <th id=\"T_2dde2_level0_col6\" class=\"col_heading level0 col6\" >MCC</th>\n",
       "    </tr>\n",
       "  </thead>\n",
       "  <tbody>\n",
       "    <tr>\n",
       "      <th id=\"T_2dde2_level0_row0\" class=\"row_heading level0 row0\" >Test</th>\n",
       "      <td id=\"T_2dde2_row0_col0\" class=\"data row0 col0\" >0.6833</td>\n",
       "      <td id=\"T_2dde2_row0_col1\" class=\"data row0 col1\" >0.7478</td>\n",
       "      <td id=\"T_2dde2_row0_col2\" class=\"data row0 col2\" >0.8559</td>\n",
       "      <td id=\"T_2dde2_row0_col3\" class=\"data row0 col3\" >0.5460</td>\n",
       "      <td id=\"T_2dde2_row0_col4\" class=\"data row0 col4\" >0.6667</td>\n",
       "      <td id=\"T_2dde2_row0_col5\" class=\"data row0 col5\" >0.3920</td>\n",
       "      <td id=\"T_2dde2_row0_col6\" class=\"data row0 col6\" >0.4283</td>\n",
       "    </tr>\n",
       "  </tbody>\n",
       "</table>\n"
      ],
      "text/plain": [
       "<pandas.io.formats.style.Styler at 0xffff34db3c70>"
      ]
     },
     "metadata": {},
     "output_type": "display_data"
    },
    {
     "data": {
      "text/html": [],
      "text/plain": [
       "<IPython.core.display.HTML object>"
      ]
     },
     "metadata": {},
     "output_type": "display_data"
    },
    {
     "name": "stdout",
     "output_type": "stream",
     "text": [
      "ridge\n"
     ]
    },
    {
     "data": {
      "text/html": [],
      "text/plain": [
       "<IPython.core.display.HTML object>"
      ]
     },
     "metadata": {},
     "output_type": "display_data"
    },
    {
     "data": {
      "text/html": [
       "<style type=\"text/css\">\n",
       "</style>\n",
       "<table id=\"T_6b2a7\">\n",
       "  <thead>\n",
       "    <tr>\n",
       "      <th class=\"blank level0\" >&nbsp;</th>\n",
       "      <th id=\"T_6b2a7_level0_col0\" class=\"col_heading level0 col0\" >Accuracy</th>\n",
       "      <th id=\"T_6b2a7_level0_col1\" class=\"col_heading level0 col1\" >AUC</th>\n",
       "      <th id=\"T_6b2a7_level0_col2\" class=\"col_heading level0 col2\" >Recall</th>\n",
       "      <th id=\"T_6b2a7_level0_col3\" class=\"col_heading level0 col3\" >Prec.</th>\n",
       "      <th id=\"T_6b2a7_level0_col4\" class=\"col_heading level0 col4\" >F1</th>\n",
       "      <th id=\"T_6b2a7_level0_col5\" class=\"col_heading level0 col5\" >Kappa</th>\n",
       "      <th id=\"T_6b2a7_level0_col6\" class=\"col_heading level0 col6\" >MCC</th>\n",
       "    </tr>\n",
       "  </thead>\n",
       "  <tbody>\n",
       "    <tr>\n",
       "      <th id=\"T_6b2a7_level0_row0\" class=\"row_heading level0 row0\" >Test</th>\n",
       "      <td id=\"T_6b2a7_row0_col0\" class=\"data row0 col0\" >0.7133</td>\n",
       "      <td id=\"T_6b2a7_row0_col1\" class=\"data row0 col1\" >0.7353</td>\n",
       "      <td id=\"T_6b2a7_row0_col2\" class=\"data row0 col2\" >0.8198</td>\n",
       "      <td id=\"T_6b2a7_row0_col3\" class=\"data row0 col3\" >0.5796</td>\n",
       "      <td id=\"T_6b2a7_row0_col4\" class=\"data row0 col4\" >0.6791</td>\n",
       "      <td id=\"T_6b2a7_row0_col5\" class=\"data row0 col5\" >0.4335</td>\n",
       "      <td id=\"T_6b2a7_row0_col6\" class=\"data row0 col6\" >0.4549</td>\n",
       "    </tr>\n",
       "  </tbody>\n",
       "</table>\n"
      ],
      "text/plain": [
       "<pandas.io.formats.style.Styler at 0xffff2f2be920>"
      ]
     },
     "metadata": {},
     "output_type": "display_data"
    },
    {
     "data": {
      "text/html": [],
      "text/plain": [
       "<IPython.core.display.HTML object>"
      ]
     },
     "metadata": {},
     "output_type": "display_data"
    },
    {
     "name": "stdout",
     "output_type": "stream",
     "text": [
      "rf\n"
     ]
    },
    {
     "data": {
      "text/html": [],
      "text/plain": [
       "<IPython.core.display.HTML object>"
      ]
     },
     "metadata": {},
     "output_type": "display_data"
    },
    {
     "data": {
      "text/html": [
       "<style type=\"text/css\">\n",
       "</style>\n",
       "<table id=\"T_4f37b\">\n",
       "  <thead>\n",
       "    <tr>\n",
       "      <th class=\"blank level0\" >&nbsp;</th>\n",
       "      <th id=\"T_4f37b_level0_col0\" class=\"col_heading level0 col0\" >Accuracy</th>\n",
       "      <th id=\"T_4f37b_level0_col1\" class=\"col_heading level0 col1\" >AUC</th>\n",
       "      <th id=\"T_4f37b_level0_col2\" class=\"col_heading level0 col2\" >Recall</th>\n",
       "      <th id=\"T_4f37b_level0_col3\" class=\"col_heading level0 col3\" >Prec.</th>\n",
       "      <th id=\"T_4f37b_level0_col4\" class=\"col_heading level0 col4\" >F1</th>\n",
       "      <th id=\"T_4f37b_level0_col5\" class=\"col_heading level0 col5\" >Kappa</th>\n",
       "      <th id=\"T_4f37b_level0_col6\" class=\"col_heading level0 col6\" >MCC</th>\n",
       "    </tr>\n",
       "  </thead>\n",
       "  <tbody>\n",
       "    <tr>\n",
       "      <th id=\"T_4f37b_level0_row0\" class=\"row_heading level0 row0\" >Test</th>\n",
       "      <td id=\"T_4f37b_row0_col0\" class=\"data row0 col0\" >0.8167</td>\n",
       "      <td id=\"T_4f37b_row0_col1\" class=\"data row0 col1\" >0.9481</td>\n",
       "      <td id=\"T_4f37b_row0_col2\" class=\"data row0 col2\" >0.7658</td>\n",
       "      <td id=\"T_4f37b_row0_col3\" class=\"data row0 col3\" >0.7456</td>\n",
       "      <td id=\"T_4f37b_row0_col4\" class=\"data row0 col4\" >0.7556</td>\n",
       "      <td id=\"T_4f37b_row0_col5\" class=\"data row0 col5\" >0.6089</td>\n",
       "      <td id=\"T_4f37b_row0_col6\" class=\"data row0 col6\" >0.6091</td>\n",
       "    </tr>\n",
       "  </tbody>\n",
       "</table>\n"
      ],
      "text/plain": [
       "<pandas.io.formats.style.Styler at 0xffff2f0592d0>"
      ]
     },
     "metadata": {},
     "output_type": "display_data"
    },
    {
     "data": {
      "text/html": [],
      "text/plain": [
       "<IPython.core.display.HTML object>"
      ]
     },
     "metadata": {},
     "output_type": "display_data"
    },
    {
     "name": "stdout",
     "output_type": "stream",
     "text": [
      "qda\n"
     ]
    },
    {
     "data": {
      "text/html": [],
      "text/plain": [
       "<IPython.core.display.HTML object>"
      ]
     },
     "metadata": {},
     "output_type": "display_data"
    },
    {
     "data": {
      "text/html": [
       "<style type=\"text/css\">\n",
       "</style>\n",
       "<table id=\"T_23fa5\">\n",
       "  <thead>\n",
       "    <tr>\n",
       "      <th class=\"blank level0\" >&nbsp;</th>\n",
       "      <th id=\"T_23fa5_level0_col0\" class=\"col_heading level0 col0\" >Accuracy</th>\n",
       "      <th id=\"T_23fa5_level0_col1\" class=\"col_heading level0 col1\" >AUC</th>\n",
       "      <th id=\"T_23fa5_level0_col2\" class=\"col_heading level0 col2\" >Recall</th>\n",
       "      <th id=\"T_23fa5_level0_col3\" class=\"col_heading level0 col3\" >Prec.</th>\n",
       "      <th id=\"T_23fa5_level0_col4\" class=\"col_heading level0 col4\" >F1</th>\n",
       "      <th id=\"T_23fa5_level0_col5\" class=\"col_heading level0 col5\" >Kappa</th>\n",
       "      <th id=\"T_23fa5_level0_col6\" class=\"col_heading level0 col6\" >MCC</th>\n",
       "    </tr>\n",
       "  </thead>\n",
       "  <tbody>\n",
       "    <tr>\n",
       "      <th id=\"T_23fa5_level0_row0\" class=\"row_heading level0 row0\" >Test</th>\n",
       "      <td id=\"T_23fa5_row0_col0\" class=\"data row0 col0\" >0.4133</td>\n",
       "      <td id=\"T_23fa5_row0_col1\" class=\"data row0 col1\" >0.5158</td>\n",
       "      <td id=\"T_23fa5_row0_col2\" class=\"data row0 col2\" >0.9099</td>\n",
       "      <td id=\"T_23fa5_row0_col3\" class=\"data row0 col3\" >0.3783</td>\n",
       "      <td id=\"T_23fa5_row0_col4\" class=\"data row0 col4\" >0.5344</td>\n",
       "      <td id=\"T_23fa5_row0_col5\" class=\"data row0 col5\" >0.0245</td>\n",
       "      <td id=\"T_23fa5_row0_col6\" class=\"data row0 col6\" >0.0488</td>\n",
       "    </tr>\n",
       "  </tbody>\n",
       "</table>\n"
      ],
      "text/plain": [
       "<pandas.io.formats.style.Styler at 0xffff11fb6680>"
      ]
     },
     "metadata": {},
     "output_type": "display_data"
    },
    {
     "data": {
      "text/html": [],
      "text/plain": [
       "<IPython.core.display.HTML object>"
      ]
     },
     "metadata": {},
     "output_type": "display_data"
    },
    {
     "name": "stdout",
     "output_type": "stream",
     "text": [
      "ada\n"
     ]
    },
    {
     "data": {
      "text/html": [],
      "text/plain": [
       "<IPython.core.display.HTML object>"
      ]
     },
     "metadata": {},
     "output_type": "display_data"
    },
    {
     "data": {
      "text/html": [
       "<style type=\"text/css\">\n",
       "</style>\n",
       "<table id=\"T_eba7e\">\n",
       "  <thead>\n",
       "    <tr>\n",
       "      <th class=\"blank level0\" >&nbsp;</th>\n",
       "      <th id=\"T_eba7e_level0_col0\" class=\"col_heading level0 col0\" >Accuracy</th>\n",
       "      <th id=\"T_eba7e_level0_col1\" class=\"col_heading level0 col1\" >AUC</th>\n",
       "      <th id=\"T_eba7e_level0_col2\" class=\"col_heading level0 col2\" >Recall</th>\n",
       "      <th id=\"T_eba7e_level0_col3\" class=\"col_heading level0 col3\" >Prec.</th>\n",
       "      <th id=\"T_eba7e_level0_col4\" class=\"col_heading level0 col4\" >F1</th>\n",
       "      <th id=\"T_eba7e_level0_col5\" class=\"col_heading level0 col5\" >Kappa</th>\n",
       "      <th id=\"T_eba7e_level0_col6\" class=\"col_heading level0 col6\" >MCC</th>\n",
       "    </tr>\n",
       "  </thead>\n",
       "  <tbody>\n",
       "    <tr>\n",
       "      <th id=\"T_eba7e_level0_row0\" class=\"row_heading level0 row0\" >Test</th>\n",
       "      <td id=\"T_eba7e_row0_col0\" class=\"data row0 col0\" >0.7933</td>\n",
       "      <td id=\"T_eba7e_row0_col1\" class=\"data row0 col1\" >0.7746</td>\n",
       "      <td id=\"T_eba7e_row0_col2\" class=\"data row0 col2\" >0.7027</td>\n",
       "      <td id=\"T_eba7e_row0_col3\" class=\"data row0 col3\" >0.7290</td>\n",
       "      <td id=\"T_eba7e_row0_col4\" class=\"data row0 col4\" >0.7156</td>\n",
       "      <td id=\"T_eba7e_row0_col5\" class=\"data row0 col5\" >0.5534</td>\n",
       "      <td id=\"T_eba7e_row0_col6\" class=\"data row0 col6\" >0.5536</td>\n",
       "    </tr>\n",
       "  </tbody>\n",
       "</table>\n"
      ],
      "text/plain": [
       "<pandas.io.formats.style.Styler at 0xffff2f55b7c0>"
      ]
     },
     "metadata": {},
     "output_type": "display_data"
    },
    {
     "data": {
      "text/html": [],
      "text/plain": [
       "<IPython.core.display.HTML object>"
      ]
     },
     "metadata": {},
     "output_type": "display_data"
    },
    {
     "name": "stdout",
     "output_type": "stream",
     "text": [
      "gbc\n"
     ]
    },
    {
     "data": {
      "text/html": [],
      "text/plain": [
       "<IPython.core.display.HTML object>"
      ]
     },
     "metadata": {},
     "output_type": "display_data"
    },
    {
     "data": {
      "text/html": [
       "<style type=\"text/css\">\n",
       "</style>\n",
       "<table id=\"T_10f01\">\n",
       "  <thead>\n",
       "    <tr>\n",
       "      <th class=\"blank level0\" >&nbsp;</th>\n",
       "      <th id=\"T_10f01_level0_col0\" class=\"col_heading level0 col0\" >Accuracy</th>\n",
       "      <th id=\"T_10f01_level0_col1\" class=\"col_heading level0 col1\" >AUC</th>\n",
       "      <th id=\"T_10f01_level0_col2\" class=\"col_heading level0 col2\" >Recall</th>\n",
       "      <th id=\"T_10f01_level0_col3\" class=\"col_heading level0 col3\" >Prec.</th>\n",
       "      <th id=\"T_10f01_level0_col4\" class=\"col_heading level0 col4\" >F1</th>\n",
       "      <th id=\"T_10f01_level0_col5\" class=\"col_heading level0 col5\" >Kappa</th>\n",
       "      <th id=\"T_10f01_level0_col6\" class=\"col_heading level0 col6\" >MCC</th>\n",
       "    </tr>\n",
       "  </thead>\n",
       "  <tbody>\n",
       "    <tr>\n",
       "      <th id=\"T_10f01_level0_row0\" class=\"row_heading level0 row0\" >Test</th>\n",
       "      <td id=\"T_10f01_row0_col0\" class=\"data row0 col0\" >0.7933</td>\n",
       "      <td id=\"T_10f01_row0_col1\" class=\"data row0 col1\" >0.9487</td>\n",
       "      <td id=\"T_10f01_row0_col2\" class=\"data row0 col2\" >0.7658</td>\n",
       "      <td id=\"T_10f01_row0_col3\" class=\"data row0 col3\" >0.7025</td>\n",
       "      <td id=\"T_10f01_row0_col4\" class=\"data row0 col4\" >0.7328</td>\n",
       "      <td id=\"T_10f01_row0_col5\" class=\"data row0 col5\" >0.5648</td>\n",
       "      <td id=\"T_10f01_row0_col6\" class=\"data row0 col6\" >0.5662</td>\n",
       "    </tr>\n",
       "  </tbody>\n",
       "</table>\n"
      ],
      "text/plain": [
       "<pandas.io.formats.style.Styler at 0xffff2f0e7a90>"
      ]
     },
     "metadata": {},
     "output_type": "display_data"
    },
    {
     "data": {
      "text/html": [],
      "text/plain": [
       "<IPython.core.display.HTML object>"
      ]
     },
     "metadata": {},
     "output_type": "display_data"
    },
    {
     "name": "stdout",
     "output_type": "stream",
     "text": [
      "lda\n"
     ]
    },
    {
     "data": {
      "text/html": [],
      "text/plain": [
       "<IPython.core.display.HTML object>"
      ]
     },
     "metadata": {},
     "output_type": "display_data"
    },
    {
     "data": {
      "text/html": [
       "<style type=\"text/css\">\n",
       "</style>\n",
       "<table id=\"T_fe242\">\n",
       "  <thead>\n",
       "    <tr>\n",
       "      <th class=\"blank level0\" >&nbsp;</th>\n",
       "      <th id=\"T_fe242_level0_col0\" class=\"col_heading level0 col0\" >Accuracy</th>\n",
       "      <th id=\"T_fe242_level0_col1\" class=\"col_heading level0 col1\" >AUC</th>\n",
       "      <th id=\"T_fe242_level0_col2\" class=\"col_heading level0 col2\" >Recall</th>\n",
       "      <th id=\"T_fe242_level0_col3\" class=\"col_heading level0 col3\" >Prec.</th>\n",
       "      <th id=\"T_fe242_level0_col4\" class=\"col_heading level0 col4\" >F1</th>\n",
       "      <th id=\"T_fe242_level0_col5\" class=\"col_heading level0 col5\" >Kappa</th>\n",
       "      <th id=\"T_fe242_level0_col6\" class=\"col_heading level0 col6\" >MCC</th>\n",
       "    </tr>\n",
       "  </thead>\n",
       "  <tbody>\n",
       "    <tr>\n",
       "      <th id=\"T_fe242_level0_row0\" class=\"row_heading level0 row0\" >Test</th>\n",
       "      <td id=\"T_fe242_row0_col0\" class=\"data row0 col0\" >0.6333</td>\n",
       "      <td id=\"T_fe242_row0_col1\" class=\"data row0 col1\" >0.6051</td>\n",
       "      <td id=\"T_fe242_row0_col2\" class=\"data row0 col2\" >0.5405</td>\n",
       "      <td id=\"T_fe242_row0_col3\" class=\"data row0 col3\" >0.5042</td>\n",
       "      <td id=\"T_fe242_row0_col4\" class=\"data row0 col4\" >0.5217</td>\n",
       "      <td id=\"T_fe242_row0_col5\" class=\"data row0 col5\" >0.2250</td>\n",
       "      <td id=\"T_fe242_row0_col6\" class=\"data row0 col6\" >0.2254</td>\n",
       "    </tr>\n",
       "  </tbody>\n",
       "</table>\n"
      ],
      "text/plain": [
       "<pandas.io.formats.style.Styler at 0xffff496b98d0>"
      ]
     },
     "metadata": {},
     "output_type": "display_data"
    },
    {
     "data": {
      "text/html": [],
      "text/plain": [
       "<IPython.core.display.HTML object>"
      ]
     },
     "metadata": {},
     "output_type": "display_data"
    },
    {
     "name": "stdout",
     "output_type": "stream",
     "text": [
      "et\n"
     ]
    },
    {
     "data": {
      "text/html": [],
      "text/plain": [
       "<IPython.core.display.HTML object>"
      ]
     },
     "metadata": {},
     "output_type": "display_data"
    },
    {
     "data": {
      "text/html": [
       "<style type=\"text/css\">\n",
       "</style>\n",
       "<table id=\"T_21326\">\n",
       "  <thead>\n",
       "    <tr>\n",
       "      <th class=\"blank level0\" >&nbsp;</th>\n",
       "      <th id=\"T_21326_level0_col0\" class=\"col_heading level0 col0\" >Accuracy</th>\n",
       "      <th id=\"T_21326_level0_col1\" class=\"col_heading level0 col1\" >AUC</th>\n",
       "      <th id=\"T_21326_level0_col2\" class=\"col_heading level0 col2\" >Recall</th>\n",
       "      <th id=\"T_21326_level0_col3\" class=\"col_heading level0 col3\" >Prec.</th>\n",
       "      <th id=\"T_21326_level0_col4\" class=\"col_heading level0 col4\" >F1</th>\n",
       "      <th id=\"T_21326_level0_col5\" class=\"col_heading level0 col5\" >Kappa</th>\n",
       "      <th id=\"T_21326_level0_col6\" class=\"col_heading level0 col6\" >MCC</th>\n",
       "    </tr>\n",
       "  </thead>\n",
       "  <tbody>\n",
       "    <tr>\n",
       "      <th id=\"T_21326_level0_row0\" class=\"row_heading level0 row0\" >Test</th>\n",
       "      <td id=\"T_21326_row0_col0\" class=\"data row0 col0\" >0.7933</td>\n",
       "      <td id=\"T_21326_row0_col1\" class=\"data row0 col1\" >0.9501</td>\n",
       "      <td id=\"T_21326_row0_col2\" class=\"data row0 col2\" >0.7658</td>\n",
       "      <td id=\"T_21326_row0_col3\" class=\"data row0 col3\" >0.7025</td>\n",
       "      <td id=\"T_21326_row0_col4\" class=\"data row0 col4\" >0.7328</td>\n",
       "      <td id=\"T_21326_row0_col5\" class=\"data row0 col5\" >0.5648</td>\n",
       "      <td id=\"T_21326_row0_col6\" class=\"data row0 col6\" >0.5662</td>\n",
       "    </tr>\n",
       "  </tbody>\n",
       "</table>\n"
      ],
      "text/plain": [
       "<pandas.io.formats.style.Styler at 0xffff2f363130>"
      ]
     },
     "metadata": {},
     "output_type": "display_data"
    },
    {
     "data": {
      "text/html": [],
      "text/plain": [
       "<IPython.core.display.HTML object>"
      ]
     },
     "metadata": {},
     "output_type": "display_data"
    },
    {
     "name": "stdout",
     "output_type": "stream",
     "text": [
      "lightgbm\n"
     ]
    },
    {
     "data": {
      "text/html": [],
      "text/plain": [
       "<IPython.core.display.HTML object>"
      ]
     },
     "metadata": {},
     "output_type": "display_data"
    },
    {
     "data": {
      "text/html": [
       "<style type=\"text/css\">\n",
       "</style>\n",
       "<table id=\"T_2d1e2\">\n",
       "  <thead>\n",
       "    <tr>\n",
       "      <th class=\"blank level0\" >&nbsp;</th>\n",
       "      <th id=\"T_2d1e2_level0_col0\" class=\"col_heading level0 col0\" >Accuracy</th>\n",
       "      <th id=\"T_2d1e2_level0_col1\" class=\"col_heading level0 col1\" >AUC</th>\n",
       "      <th id=\"T_2d1e2_level0_col2\" class=\"col_heading level0 col2\" >Recall</th>\n",
       "      <th id=\"T_2d1e2_level0_col3\" class=\"col_heading level0 col3\" >Prec.</th>\n",
       "      <th id=\"T_2d1e2_level0_col4\" class=\"col_heading level0 col4\" >F1</th>\n",
       "      <th id=\"T_2d1e2_level0_col5\" class=\"col_heading level0 col5\" >Kappa</th>\n",
       "      <th id=\"T_2d1e2_level0_col6\" class=\"col_heading level0 col6\" >MCC</th>\n",
       "    </tr>\n",
       "  </thead>\n",
       "  <tbody>\n",
       "    <tr>\n",
       "      <th id=\"T_2d1e2_level0_row0\" class=\"row_heading level0 row0\" >Test</th>\n",
       "      <td id=\"T_2d1e2_row0_col0\" class=\"data row0 col0\" >0.6300</td>\n",
       "      <td id=\"T_2d1e2_row0_col1\" class=\"data row0 col1\" >0.5000</td>\n",
       "      <td id=\"T_2d1e2_row0_col2\" class=\"data row0 col2\" >0.0000</td>\n",
       "      <td id=\"T_2d1e2_row0_col3\" class=\"data row0 col3\" >0.0000</td>\n",
       "      <td id=\"T_2d1e2_row0_col4\" class=\"data row0 col4\" >0.0000</td>\n",
       "      <td id=\"T_2d1e2_row0_col5\" class=\"data row0 col5\" >0.0000</td>\n",
       "      <td id=\"T_2d1e2_row0_col6\" class=\"data row0 col6\" >0.0000</td>\n",
       "    </tr>\n",
       "  </tbody>\n",
       "</table>\n"
      ],
      "text/plain": [
       "<pandas.io.formats.style.Styler at 0xffff11fb56f0>"
      ]
     },
     "metadata": {},
     "output_type": "display_data"
    },
    {
     "data": {
      "text/html": [],
      "text/plain": [
       "<IPython.core.display.HTML object>"
      ]
     },
     "metadata": {},
     "output_type": "display_data"
    }
   ],
   "source": [
    "n = 300\n",
    "seed = 3655\n",
    "#seed = 3656\n",
    "#seed = 3657\n",
    "\n",
    "train_num = [6,8,10,20,30,40,50]\n",
    "i = 6\n",
    "\n",
    "df = pd.read_csv(f'../data/titanic/titanic_{seed}_{n}_train.csv').head(i)\n",
    "\n",
    "df_test = pd.read_csv(f'../data/titanic/titanic_{seed}_{n}_test.csv')\n",
    "\n",
    "last_index = df.index[-1]\n",
    "df_test.index = range(last_index + 1, last_index + 1 + len(df_test))\n",
    "\n",
    "exp_name = setup(data = df, test_data = df_test, target = 'survived', session_id = 3655)\n",
    "\n",
    "model_list = ['lr','knn','nb','dt','svm','rbfsvm','gpc','mlp','ridge','rf','qda','ada','gbc','lda','et','lightgbm']\n",
    "for model_name in model_list:\n",
    "    print(model_name)\n",
    "    create_model(model_name, cross_validation=False)"
   ]
  },
  {
   "cell_type": "code",
   "execution_count": 44,
   "metadata": {},
   "outputs": [
    {
     "name": "stdout",
     "output_type": "stream",
     "text": [
      "lr\n"
     ]
    },
    {
     "data": {
      "text/html": [],
      "text/plain": [
       "<IPython.core.display.HTML object>"
      ]
     },
     "metadata": {},
     "output_type": "display_data"
    },
    {
     "data": {
      "text/html": [
       "<style type=\"text/css\">\n",
       "</style>\n",
       "<table id=\"T_b6812\">\n",
       "  <thead>\n",
       "    <tr>\n",
       "      <th class=\"blank level0\" >&nbsp;</th>\n",
       "      <th id=\"T_b6812_level0_col0\" class=\"col_heading level0 col0\" >Accuracy</th>\n",
       "      <th id=\"T_b6812_level0_col1\" class=\"col_heading level0 col1\" >AUC</th>\n",
       "      <th id=\"T_b6812_level0_col2\" class=\"col_heading level0 col2\" >Recall</th>\n",
       "      <th id=\"T_b6812_level0_col3\" class=\"col_heading level0 col3\" >Prec.</th>\n",
       "      <th id=\"T_b6812_level0_col4\" class=\"col_heading level0 col4\" >F1</th>\n",
       "      <th id=\"T_b6812_level0_col5\" class=\"col_heading level0 col5\" >Kappa</th>\n",
       "      <th id=\"T_b6812_level0_col6\" class=\"col_heading level0 col6\" >MCC</th>\n",
       "    </tr>\n",
       "  </thead>\n",
       "  <tbody>\n",
       "    <tr>\n",
       "      <th id=\"T_b6812_level0_row0\" class=\"row_heading level0 row0\" >Test</th>\n",
       "      <td id=\"T_b6812_row0_col0\" class=\"data row0 col0\" >0.5435</td>\n",
       "      <td id=\"T_b6812_row0_col1\" class=\"data row0 col1\" >0.6529</td>\n",
       "      <td id=\"T_b6812_row0_col2\" class=\"data row0 col2\" >0.8171</td>\n",
       "      <td id=\"T_b6812_row0_col3\" class=\"data row0 col3\" >0.4475</td>\n",
       "      <td id=\"T_b6812_row0_col4\" class=\"data row0 col4\" >0.5783</td>\n",
       "      <td id=\"T_b6812_row0_col5\" class=\"data row0 col5\" >0.1649</td>\n",
       "      <td id=\"T_b6812_row0_col6\" class=\"data row0 col6\" >0.2022</td>\n",
       "    </tr>\n",
       "  </tbody>\n",
       "</table>\n"
      ],
      "text/plain": [
       "<pandas.io.formats.style.Styler at 0xffff2fb8b700>"
      ]
     },
     "metadata": {},
     "output_type": "display_data"
    },
    {
     "data": {
      "text/html": [],
      "text/plain": [
       "<IPython.core.display.HTML object>"
      ]
     },
     "metadata": {},
     "output_type": "display_data"
    },
    {
     "name": "stdout",
     "output_type": "stream",
     "text": [
      "knn\n"
     ]
    },
    {
     "data": {
      "text/html": [],
      "text/plain": [
       "<IPython.core.display.HTML object>"
      ]
     },
     "metadata": {},
     "output_type": "display_data"
    },
    {
     "data": {
      "text/html": [
       "<style type=\"text/css\">\n",
       "</style>\n",
       "<table id=\"T_e19e3\">\n",
       "  <thead>\n",
       "    <tr>\n",
       "      <th class=\"blank level0\" >&nbsp;</th>\n",
       "      <th id=\"T_e19e3_level0_col0\" class=\"col_heading level0 col0\" >Accuracy</th>\n",
       "      <th id=\"T_e19e3_level0_col1\" class=\"col_heading level0 col1\" >AUC</th>\n",
       "      <th id=\"T_e19e3_level0_col2\" class=\"col_heading level0 col2\" >Recall</th>\n",
       "      <th id=\"T_e19e3_level0_col3\" class=\"col_heading level0 col3\" >Prec.</th>\n",
       "      <th id=\"T_e19e3_level0_col4\" class=\"col_heading level0 col4\" >F1</th>\n",
       "      <th id=\"T_e19e3_level0_col5\" class=\"col_heading level0 col5\" >Kappa</th>\n",
       "      <th id=\"T_e19e3_level0_col6\" class=\"col_heading level0 col6\" >MCC</th>\n",
       "    </tr>\n",
       "  </thead>\n",
       "  <tbody>\n",
       "    <tr>\n",
       "      <th id=\"T_e19e3_level0_row0\" class=\"row_heading level0 row0\" >Test</th>\n",
       "      <td id=\"T_e19e3_row0_col0\" class=\"data row0 col0\" >0.6701</td>\n",
       "      <td id=\"T_e19e3_row0_col1\" class=\"data row0 col1\" >0.6470</td>\n",
       "      <td id=\"T_e19e3_row0_col2\" class=\"data row0 col2\" >0.5487</td>\n",
       "      <td id=\"T_e19e3_row0_col3\" class=\"data row0 col3\" >0.5723</td>\n",
       "      <td id=\"T_e19e3_row0_col4\" class=\"data row0 col4\" >0.5602</td>\n",
       "      <td id=\"T_e19e3_row0_col5\" class=\"data row0 col5\" >0.2964</td>\n",
       "      <td id=\"T_e19e3_row0_col6\" class=\"data row0 col6\" >0.2966</td>\n",
       "    </tr>\n",
       "  </tbody>\n",
       "</table>\n"
      ],
      "text/plain": [
       "<pandas.io.formats.style.Styler at 0xffff34a1ba90>"
      ]
     },
     "metadata": {},
     "output_type": "display_data"
    },
    {
     "data": {
      "text/html": [],
      "text/plain": [
       "<IPython.core.display.HTML object>"
      ]
     },
     "metadata": {},
     "output_type": "display_data"
    },
    {
     "name": "stdout",
     "output_type": "stream",
     "text": [
      "nb\n"
     ]
    },
    {
     "data": {
      "text/html": [],
      "text/plain": [
       "<IPython.core.display.HTML object>"
      ]
     },
     "metadata": {},
     "output_type": "display_data"
    },
    {
     "data": {
      "text/html": [
       "<style type=\"text/css\">\n",
       "</style>\n",
       "<table id=\"T_b11e4\">\n",
       "  <thead>\n",
       "    <tr>\n",
       "      <th class=\"blank level0\" >&nbsp;</th>\n",
       "      <th id=\"T_b11e4_level0_col0\" class=\"col_heading level0 col0\" >Accuracy</th>\n",
       "      <th id=\"T_b11e4_level0_col1\" class=\"col_heading level0 col1\" >AUC</th>\n",
       "      <th id=\"T_b11e4_level0_col2\" class=\"col_heading level0 col2\" >Recall</th>\n",
       "      <th id=\"T_b11e4_level0_col3\" class=\"col_heading level0 col3\" >Prec.</th>\n",
       "      <th id=\"T_b11e4_level0_col4\" class=\"col_heading level0 col4\" >F1</th>\n",
       "      <th id=\"T_b11e4_level0_col5\" class=\"col_heading level0 col5\" >Kappa</th>\n",
       "      <th id=\"T_b11e4_level0_col6\" class=\"col_heading level0 col6\" >MCC</th>\n",
       "    </tr>\n",
       "  </thead>\n",
       "  <tbody>\n",
       "    <tr>\n",
       "      <th id=\"T_b11e4_level0_row0\" class=\"row_heading level0 row0\" >Test</th>\n",
       "      <td id=\"T_b11e4_row0_col0\" class=\"data row0 col0\" >0.7785</td>\n",
       "      <td id=\"T_b11e4_row0_col1\" class=\"data row0 col1\" >0.7756</td>\n",
       "      <td id=\"T_b11e4_row0_col2\" class=\"data row0 col2\" >0.7493</td>\n",
       "      <td id=\"T_b11e4_row0_col3\" class=\"data row0 col3\" >0.6959</td>\n",
       "      <td id=\"T_b11e4_row0_col4\" class=\"data row0 col4\" >0.7216</td>\n",
       "      <td id=\"T_b11e4_row0_col5\" class=\"data row0 col5\" >0.5381</td>\n",
       "      <td id=\"T_b11e4_row0_col6\" class=\"data row0 col6\" >0.5392</td>\n",
       "    </tr>\n",
       "  </tbody>\n",
       "</table>\n"
      ],
      "text/plain": [
       "<pandas.io.formats.style.Styler at 0xffff34a19cf0>"
      ]
     },
     "metadata": {},
     "output_type": "display_data"
    },
    {
     "data": {
      "text/html": [],
      "text/plain": [
       "<IPython.core.display.HTML object>"
      ]
     },
     "metadata": {},
     "output_type": "display_data"
    },
    {
     "name": "stdout",
     "output_type": "stream",
     "text": [
      "dt\n"
     ]
    },
    {
     "data": {
      "text/html": [],
      "text/plain": [
       "<IPython.core.display.HTML object>"
      ]
     },
     "metadata": {},
     "output_type": "display_data"
    },
    {
     "data": {
      "text/html": [
       "<style type=\"text/css\">\n",
       "</style>\n",
       "<table id=\"T_350eb\">\n",
       "  <thead>\n",
       "    <tr>\n",
       "      <th class=\"blank level0\" >&nbsp;</th>\n",
       "      <th id=\"T_350eb_level0_col0\" class=\"col_heading level0 col0\" >Accuracy</th>\n",
       "      <th id=\"T_350eb_level0_col1\" class=\"col_heading level0 col1\" >AUC</th>\n",
       "      <th id=\"T_350eb_level0_col2\" class=\"col_heading level0 col2\" >Recall</th>\n",
       "      <th id=\"T_350eb_level0_col3\" class=\"col_heading level0 col3\" >Prec.</th>\n",
       "      <th id=\"T_350eb_level0_col4\" class=\"col_heading level0 col4\" >F1</th>\n",
       "      <th id=\"T_350eb_level0_col5\" class=\"col_heading level0 col5\" >Kappa</th>\n",
       "      <th id=\"T_350eb_level0_col6\" class=\"col_heading level0 col6\" >MCC</th>\n",
       "    </tr>\n",
       "  </thead>\n",
       "  <tbody>\n",
       "    <tr>\n",
       "      <th id=\"T_350eb_level0_row0\" class=\"row_heading level0 row0\" >Test</th>\n",
       "      <td id=\"T_350eb_row0_col0\" class=\"data row0 col0\" >1.0000</td>\n",
       "      <td id=\"T_350eb_row0_col1\" class=\"data row0 col1\" >1.0000</td>\n",
       "      <td id=\"T_350eb_row0_col2\" class=\"data row0 col2\" >1.0000</td>\n",
       "      <td id=\"T_350eb_row0_col3\" class=\"data row0 col3\" >1.0000</td>\n",
       "      <td id=\"T_350eb_row0_col4\" class=\"data row0 col4\" >1.0000</td>\n",
       "      <td id=\"T_350eb_row0_col5\" class=\"data row0 col5\" >1.0000</td>\n",
       "      <td id=\"T_350eb_row0_col6\" class=\"data row0 col6\" >1.0000</td>\n",
       "    </tr>\n",
       "  </tbody>\n",
       "</table>\n"
      ],
      "text/plain": [
       "<pandas.io.formats.style.Styler at 0xffff34a75630>"
      ]
     },
     "metadata": {},
     "output_type": "display_data"
    },
    {
     "data": {
      "text/html": [],
      "text/plain": [
       "<IPython.core.display.HTML object>"
      ]
     },
     "metadata": {},
     "output_type": "display_data"
    },
    {
     "name": "stdout",
     "output_type": "stream",
     "text": [
      "svm\n"
     ]
    },
    {
     "data": {
      "text/html": [],
      "text/plain": [
       "<IPython.core.display.HTML object>"
      ]
     },
     "metadata": {},
     "output_type": "display_data"
    },
    {
     "data": {
      "text/html": [
       "<style type=\"text/css\">\n",
       "</style>\n",
       "<table id=\"T_87b02\">\n",
       "  <thead>\n",
       "    <tr>\n",
       "      <th class=\"blank level0\" >&nbsp;</th>\n",
       "      <th id=\"T_87b02_level0_col0\" class=\"col_heading level0 col0\" >Accuracy</th>\n",
       "      <th id=\"T_87b02_level0_col1\" class=\"col_heading level0 col1\" >AUC</th>\n",
       "      <th id=\"T_87b02_level0_col2\" class=\"col_heading level0 col2\" >Recall</th>\n",
       "      <th id=\"T_87b02_level0_col3\" class=\"col_heading level0 col3\" >Prec.</th>\n",
       "      <th id=\"T_87b02_level0_col4\" class=\"col_heading level0 col4\" >F1</th>\n",
       "      <th id=\"T_87b02_level0_col5\" class=\"col_heading level0 col5\" >Kappa</th>\n",
       "      <th id=\"T_87b02_level0_col6\" class=\"col_heading level0 col6\" >MCC</th>\n",
       "    </tr>\n",
       "  </thead>\n",
       "  <tbody>\n",
       "    <tr>\n",
       "      <th id=\"T_87b02_level0_row0\" class=\"row_heading level0 row0\" >Test</th>\n",
       "      <td id=\"T_87b02_row0_col0\" class=\"data row0 col0\" >0.3966</td>\n",
       "      <td id=\"T_87b02_row0_col1\" class=\"data row0 col1\" >0.5104</td>\n",
       "      <td id=\"T_87b02_row0_col2\" class=\"data row0 col2\" >0.9971</td>\n",
       "      <td id=\"T_87b02_row0_col3\" class=\"data row0 col3\" >0.3881</td>\n",
       "      <td id=\"T_87b02_row0_col4\" class=\"data row0 col4\" >0.5587</td>\n",
       "      <td id=\"T_87b02_row0_col5\" class=\"data row0 col5\" >0.0161</td>\n",
       "      <td id=\"T_87b02_row0_col6\" class=\"data row0 col6\" >0.0813</td>\n",
       "    </tr>\n",
       "  </tbody>\n",
       "</table>\n"
      ],
      "text/plain": [
       "<pandas.io.formats.style.Styler at 0xffff34a1aec0>"
      ]
     },
     "metadata": {},
     "output_type": "display_data"
    },
    {
     "data": {
      "text/html": [],
      "text/plain": [
       "<IPython.core.display.HTML object>"
      ]
     },
     "metadata": {},
     "output_type": "display_data"
    },
    {
     "name": "stdout",
     "output_type": "stream",
     "text": [
      "rbfsvm\n"
     ]
    },
    {
     "data": {
      "text/html": [],
      "text/plain": [
       "<IPython.core.display.HTML object>"
      ]
     },
     "metadata": {},
     "output_type": "display_data"
    },
    {
     "data": {
      "text/html": [
       "<style type=\"text/css\">\n",
       "</style>\n",
       "<table id=\"T_33a00\">\n",
       "  <thead>\n",
       "    <tr>\n",
       "      <th class=\"blank level0\" >&nbsp;</th>\n",
       "      <th id=\"T_33a00_level0_col0\" class=\"col_heading level0 col0\" >Accuracy</th>\n",
       "      <th id=\"T_33a00_level0_col1\" class=\"col_heading level0 col1\" >AUC</th>\n",
       "      <th id=\"T_33a00_level0_col2\" class=\"col_heading level0 col2\" >Recall</th>\n",
       "      <th id=\"T_33a00_level0_col3\" class=\"col_heading level0 col3\" >Prec.</th>\n",
       "      <th id=\"T_33a00_level0_col4\" class=\"col_heading level0 col4\" >F1</th>\n",
       "      <th id=\"T_33a00_level0_col5\" class=\"col_heading level0 col5\" >Kappa</th>\n",
       "      <th id=\"T_33a00_level0_col6\" class=\"col_heading level0 col6\" >MCC</th>\n",
       "    </tr>\n",
       "  </thead>\n",
       "  <tbody>\n",
       "    <tr>\n",
       "      <th id=\"T_33a00_level0_row0\" class=\"row_heading level0 row0\" >Test</th>\n",
       "      <td id=\"T_33a00_row0_col0\" class=\"data row0 col0\" >0.4689</td>\n",
       "      <td id=\"T_33a00_row0_col1\" class=\"data row0 col1\" >0.5411</td>\n",
       "      <td id=\"T_33a00_row0_col2\" class=\"data row0 col2\" >0.9086</td>\n",
       "      <td id=\"T_33a00_row0_col3\" class=\"data row0 col3\" >0.4123</td>\n",
       "      <td id=\"T_33a00_row0_col4\" class=\"data row0 col4\" >0.5672</td>\n",
       "      <td id=\"T_33a00_row0_col5\" class=\"data row0 col5\" >0.0851</td>\n",
       "      <td id=\"T_33a00_row0_col6\" class=\"data row0 col6\" >0.1401</td>\n",
       "    </tr>\n",
       "  </tbody>\n",
       "</table>\n"
      ],
      "text/plain": [
       "<pandas.io.formats.style.Styler at 0xffff35a5d7e0>"
      ]
     },
     "metadata": {},
     "output_type": "display_data"
    },
    {
     "data": {
      "text/html": [],
      "text/plain": [
       "<IPython.core.display.HTML object>"
      ]
     },
     "metadata": {},
     "output_type": "display_data"
    },
    {
     "name": "stdout",
     "output_type": "stream",
     "text": [
      "gpc\n"
     ]
    },
    {
     "data": {
      "text/html": [],
      "text/plain": [
       "<IPython.core.display.HTML object>"
      ]
     },
     "metadata": {},
     "output_type": "display_data"
    },
    {
     "data": {
      "text/html": [
       "<style type=\"text/css\">\n",
       "</style>\n",
       "<table id=\"T_f8b4c\">\n",
       "  <thead>\n",
       "    <tr>\n",
       "      <th class=\"blank level0\" >&nbsp;</th>\n",
       "      <th id=\"T_f8b4c_level0_col0\" class=\"col_heading level0 col0\" >Accuracy</th>\n",
       "      <th id=\"T_f8b4c_level0_col1\" class=\"col_heading level0 col1\" >AUC</th>\n",
       "      <th id=\"T_f8b4c_level0_col2\" class=\"col_heading level0 col2\" >Recall</th>\n",
       "      <th id=\"T_f8b4c_level0_col3\" class=\"col_heading level0 col3\" >Prec.</th>\n",
       "      <th id=\"T_f8b4c_level0_col4\" class=\"col_heading level0 col4\" >F1</th>\n",
       "      <th id=\"T_f8b4c_level0_col5\" class=\"col_heading level0 col5\" >Kappa</th>\n",
       "      <th id=\"T_f8b4c_level0_col6\" class=\"col_heading level0 col6\" >MCC</th>\n",
       "    </tr>\n",
       "  </thead>\n",
       "  <tbody>\n",
       "    <tr>\n",
       "      <th id=\"T_f8b4c_level0_row0\" class=\"row_heading level0 row0\" >Test</th>\n",
       "      <td id=\"T_f8b4c_row0_col0\" class=\"data row0 col0\" >0.4531</td>\n",
       "      <td id=\"T_f8b4c_row0_col1\" class=\"data row0 col1\" >0.5180</td>\n",
       "      <td id=\"T_f8b4c_row0_col2\" class=\"data row0 col2\" >0.6490</td>\n",
       "      <td id=\"T_f8b4c_row0_col3\" class=\"data row0 col3\" >0.3761</td>\n",
       "      <td id=\"T_f8b4c_row0_col4\" class=\"data row0 col4\" >0.4762</td>\n",
       "      <td id=\"T_f8b4c_row0_col5\" class=\"data row0 col5\" >-0.0172</td>\n",
       "      <td id=\"T_f8b4c_row0_col6\" class=\"data row0 col6\" >-0.0201</td>\n",
       "    </tr>\n",
       "  </tbody>\n",
       "</table>\n"
      ],
      "text/plain": [
       "<pandas.io.formats.style.Styler at 0xffff49baa590>"
      ]
     },
     "metadata": {},
     "output_type": "display_data"
    },
    {
     "data": {
      "text/html": [],
      "text/plain": [
       "<IPython.core.display.HTML object>"
      ]
     },
     "metadata": {},
     "output_type": "display_data"
    },
    {
     "name": "stdout",
     "output_type": "stream",
     "text": [
      "mlp\n"
     ]
    },
    {
     "data": {
      "text/html": [],
      "text/plain": [
       "<IPython.core.display.HTML object>"
      ]
     },
     "metadata": {},
     "output_type": "display_data"
    },
    {
     "data": {
      "text/html": [
       "<style type=\"text/css\">\n",
       "</style>\n",
       "<table id=\"T_2e4f2\">\n",
       "  <thead>\n",
       "    <tr>\n",
       "      <th class=\"blank level0\" >&nbsp;</th>\n",
       "      <th id=\"T_2e4f2_level0_col0\" class=\"col_heading level0 col0\" >Accuracy</th>\n",
       "      <th id=\"T_2e4f2_level0_col1\" class=\"col_heading level0 col1\" >AUC</th>\n",
       "      <th id=\"T_2e4f2_level0_col2\" class=\"col_heading level0 col2\" >Recall</th>\n",
       "      <th id=\"T_2e4f2_level0_col3\" class=\"col_heading level0 col3\" >Prec.</th>\n",
       "      <th id=\"T_2e4f2_level0_col4\" class=\"col_heading level0 col4\" >F1</th>\n",
       "      <th id=\"T_2e4f2_level0_col5\" class=\"col_heading level0 col5\" >Kappa</th>\n",
       "      <th id=\"T_2e4f2_level0_col6\" class=\"col_heading level0 col6\" >MCC</th>\n",
       "    </tr>\n",
       "  </thead>\n",
       "  <tbody>\n",
       "    <tr>\n",
       "      <th id=\"T_2e4f2_level0_row0\" class=\"row_heading level0 row0\" >Test</th>\n",
       "      <td id=\"T_2e4f2_row0_col0\" class=\"data row0 col0\" >0.7412</td>\n",
       "      <td id=\"T_2e4f2_row0_col1\" class=\"data row0 col1\" >0.7979</td>\n",
       "      <td id=\"T_2e4f2_row0_col2\" class=\"data row0 col2\" >0.8938</td>\n",
       "      <td id=\"T_2e4f2_row0_col3\" class=\"data row0 col3\" >0.6109</td>\n",
       "      <td id=\"T_2e4f2_row0_col4\" class=\"data row0 col4\" >0.7257</td>\n",
       "      <td id=\"T_2e4f2_row0_col5\" class=\"data row0 col5\" >0.4967</td>\n",
       "      <td id=\"T_2e4f2_row0_col6\" class=\"data row0 col6\" >0.5292</td>\n",
       "    </tr>\n",
       "  </tbody>\n",
       "</table>\n"
      ],
      "text/plain": [
       "<pandas.io.formats.style.Styler at 0xffff4ab09480>"
      ]
     },
     "metadata": {},
     "output_type": "display_data"
    },
    {
     "data": {
      "text/html": [],
      "text/plain": [
       "<IPython.core.display.HTML object>"
      ]
     },
     "metadata": {},
     "output_type": "display_data"
    },
    {
     "name": "stdout",
     "output_type": "stream",
     "text": [
      "ridge\n"
     ]
    },
    {
     "data": {
      "text/html": [],
      "text/plain": [
       "<IPython.core.display.HTML object>"
      ]
     },
     "metadata": {},
     "output_type": "display_data"
    },
    {
     "data": {
      "text/html": [
       "<style type=\"text/css\">\n",
       "</style>\n",
       "<table id=\"T_ee8cd\">\n",
       "  <thead>\n",
       "    <tr>\n",
       "      <th class=\"blank level0\" >&nbsp;</th>\n",
       "      <th id=\"T_ee8cd_level0_col0\" class=\"col_heading level0 col0\" >Accuracy</th>\n",
       "      <th id=\"T_ee8cd_level0_col1\" class=\"col_heading level0 col1\" >AUC</th>\n",
       "      <th id=\"T_ee8cd_level0_col2\" class=\"col_heading level0 col2\" >Recall</th>\n",
       "      <th id=\"T_ee8cd_level0_col3\" class=\"col_heading level0 col3\" >Prec.</th>\n",
       "      <th id=\"T_ee8cd_level0_col4\" class=\"col_heading level0 col4\" >F1</th>\n",
       "      <th id=\"T_ee8cd_level0_col5\" class=\"col_heading level0 col5\" >Kappa</th>\n",
       "      <th id=\"T_ee8cd_level0_col6\" class=\"col_heading level0 col6\" >MCC</th>\n",
       "    </tr>\n",
       "  </thead>\n",
       "  <tbody>\n",
       "    <tr>\n",
       "      <th id=\"T_ee8cd_level0_row0\" class=\"row_heading level0 row0\" >Test</th>\n",
       "      <td id=\"T_ee8cd_row0_col0\" class=\"data row0 col0\" >0.7684</td>\n",
       "      <td id=\"T_ee8cd_row0_col1\" class=\"data row0 col1\" >0.7860</td>\n",
       "      <td id=\"T_ee8cd_row0_col2\" class=\"data row0 col2\" >0.8614</td>\n",
       "      <td id=\"T_ee8cd_row0_col3\" class=\"data row0 col3\" >0.6489</td>\n",
       "      <td id=\"T_ee8cd_row0_col4\" class=\"data row0 col4\" >0.7402</td>\n",
       "      <td id=\"T_ee8cd_row0_col5\" class=\"data row0 col5\" >0.5386</td>\n",
       "      <td id=\"T_ee8cd_row0_col6\" class=\"data row0 col6\" >0.5562</td>\n",
       "    </tr>\n",
       "  </tbody>\n",
       "</table>\n"
      ],
      "text/plain": [
       "<pandas.io.formats.style.Styler at 0xffff35361c90>"
      ]
     },
     "metadata": {},
     "output_type": "display_data"
    },
    {
     "data": {
      "text/html": [],
      "text/plain": [
       "<IPython.core.display.HTML object>"
      ]
     },
     "metadata": {},
     "output_type": "display_data"
    },
    {
     "name": "stdout",
     "output_type": "stream",
     "text": [
      "rf\n"
     ]
    },
    {
     "data": {
      "text/html": [],
      "text/plain": [
       "<IPython.core.display.HTML object>"
      ]
     },
     "metadata": {},
     "output_type": "display_data"
    },
    {
     "data": {
      "text/html": [
       "<style type=\"text/css\">\n",
       "</style>\n",
       "<table id=\"T_53505\">\n",
       "  <thead>\n",
       "    <tr>\n",
       "      <th class=\"blank level0\" >&nbsp;</th>\n",
       "      <th id=\"T_53505_level0_col0\" class=\"col_heading level0 col0\" >Accuracy</th>\n",
       "      <th id=\"T_53505_level0_col1\" class=\"col_heading level0 col1\" >AUC</th>\n",
       "      <th id=\"T_53505_level0_col2\" class=\"col_heading level0 col2\" >Recall</th>\n",
       "      <th id=\"T_53505_level0_col3\" class=\"col_heading level0 col3\" >Prec.</th>\n",
       "      <th id=\"T_53505_level0_col4\" class=\"col_heading level0 col4\" >F1</th>\n",
       "      <th id=\"T_53505_level0_col5\" class=\"col_heading level0 col5\" >Kappa</th>\n",
       "      <th id=\"T_53505_level0_col6\" class=\"col_heading level0 col6\" >MCC</th>\n",
       "    </tr>\n",
       "  </thead>\n",
       "  <tbody>\n",
       "    <tr>\n",
       "      <th id=\"T_53505_level0_row0\" class=\"row_heading level0 row0\" >Test</th>\n",
       "      <td id=\"T_53505_row0_col0\" class=\"data row0 col0\" >0.8090</td>\n",
       "      <td id=\"T_53505_row0_col1\" class=\"data row0 col1\" >0.9407</td>\n",
       "      <td id=\"T_53505_row0_col2\" class=\"data row0 col2\" >0.7404</td>\n",
       "      <td id=\"T_53505_row0_col3\" class=\"data row0 col3\" >0.7560</td>\n",
       "      <td id=\"T_53505_row0_col4\" class=\"data row0 col4\" >0.7481</td>\n",
       "      <td id=\"T_53505_row0_col5\" class=\"data row0 col5\" >0.5944</td>\n",
       "      <td id=\"T_53505_row0_col6\" class=\"data row0 col6\" >0.5945</td>\n",
       "    </tr>\n",
       "  </tbody>\n",
       "</table>\n"
      ],
      "text/plain": [
       "<pandas.io.formats.style.Styler at 0xffff4aa1d090>"
      ]
     },
     "metadata": {},
     "output_type": "display_data"
    },
    {
     "data": {
      "text/html": [],
      "text/plain": [
       "<IPython.core.display.HTML object>"
      ]
     },
     "metadata": {},
     "output_type": "display_data"
    },
    {
     "name": "stdout",
     "output_type": "stream",
     "text": [
      "qda\n"
     ]
    },
    {
     "data": {
      "text/html": [],
      "text/plain": [
       "<IPython.core.display.HTML object>"
      ]
     },
     "metadata": {},
     "output_type": "display_data"
    },
    {
     "data": {
      "text/html": [
       "<style type=\"text/css\">\n",
       "</style>\n",
       "<table id=\"T_bf38b\">\n",
       "  <thead>\n",
       "    <tr>\n",
       "      <th class=\"blank level0\" >&nbsp;</th>\n",
       "      <th id=\"T_bf38b_level0_col0\" class=\"col_heading level0 col0\" >Accuracy</th>\n",
       "      <th id=\"T_bf38b_level0_col1\" class=\"col_heading level0 col1\" >AUC</th>\n",
       "      <th id=\"T_bf38b_level0_col2\" class=\"col_heading level0 col2\" >Recall</th>\n",
       "      <th id=\"T_bf38b_level0_col3\" class=\"col_heading level0 col3\" >Prec.</th>\n",
       "      <th id=\"T_bf38b_level0_col4\" class=\"col_heading level0 col4\" >F1</th>\n",
       "      <th id=\"T_bf38b_level0_col5\" class=\"col_heading level0 col5\" >Kappa</th>\n",
       "      <th id=\"T_bf38b_level0_col6\" class=\"col_heading level0 col6\" >MCC</th>\n",
       "    </tr>\n",
       "  </thead>\n",
       "  <tbody>\n",
       "    <tr>\n",
       "      <th id=\"T_bf38b_level0_row0\" class=\"row_heading level0 row0\" >Test</th>\n",
       "      <td id=\"T_bf38b_row0_col0\" class=\"data row0 col0\" >0.4249</td>\n",
       "      <td id=\"T_bf38b_row0_col1\" class=\"data row0 col1\" >0.5227</td>\n",
       "      <td id=\"T_bf38b_row0_col2\" class=\"data row0 col2\" >0.9410</td>\n",
       "      <td id=\"T_bf38b_row0_col3\" class=\"data row0 col3\" >0.3948</td>\n",
       "      <td id=\"T_bf38b_row0_col4\" class=\"data row0 col4\" >0.5562</td>\n",
       "      <td id=\"T_bf38b_row0_col5\" class=\"data row0 col5\" >0.0360</td>\n",
       "      <td id=\"T_bf38b_row0_col6\" class=\"data row0 col6\" >0.0783</td>\n",
       "    </tr>\n",
       "  </tbody>\n",
       "</table>\n"
      ],
      "text/plain": [
       "<pandas.io.formats.style.Styler at 0xffff4aae3850>"
      ]
     },
     "metadata": {},
     "output_type": "display_data"
    },
    {
     "data": {
      "text/html": [],
      "text/plain": [
       "<IPython.core.display.HTML object>"
      ]
     },
     "metadata": {},
     "output_type": "display_data"
    },
    {
     "name": "stdout",
     "output_type": "stream",
     "text": [
      "ada\n"
     ]
    },
    {
     "data": {
      "text/html": [],
      "text/plain": [
       "<IPython.core.display.HTML object>"
      ]
     },
     "metadata": {},
     "output_type": "display_data"
    },
    {
     "data": {
      "text/html": [
       "<style type=\"text/css\">\n",
       "</style>\n",
       "<table id=\"T_c2419\">\n",
       "  <thead>\n",
       "    <tr>\n",
       "      <th class=\"blank level0\" >&nbsp;</th>\n",
       "      <th id=\"T_c2419_level0_col0\" class=\"col_heading level0 col0\" >Accuracy</th>\n",
       "      <th id=\"T_c2419_level0_col1\" class=\"col_heading level0 col1\" >AUC</th>\n",
       "      <th id=\"T_c2419_level0_col2\" class=\"col_heading level0 col2\" >Recall</th>\n",
       "      <th id=\"T_c2419_level0_col3\" class=\"col_heading level0 col3\" >Prec.</th>\n",
       "      <th id=\"T_c2419_level0_col4\" class=\"col_heading level0 col4\" >F1</th>\n",
       "      <th id=\"T_c2419_level0_col5\" class=\"col_heading level0 col5\" >Kappa</th>\n",
       "      <th id=\"T_c2419_level0_col6\" class=\"col_heading level0 col6\" >MCC</th>\n",
       "    </tr>\n",
       "  </thead>\n",
       "  <tbody>\n",
       "    <tr>\n",
       "      <th id=\"T_c2419_level0_row0\" class=\"row_heading level0 row0\" >Test</th>\n",
       "      <td id=\"T_c2419_row0_col0\" class=\"data row0 col0\" >0.7853</td>\n",
       "      <td id=\"T_c2419_row0_col1\" class=\"data row0 col1\" >0.7651</td>\n",
       "      <td id=\"T_c2419_row0_col2\" class=\"data row0 col2\" >0.6785</td>\n",
       "      <td id=\"T_c2419_row0_col3\" class=\"data row0 col3\" >0.7395</td>\n",
       "      <td id=\"T_c2419_row0_col4\" class=\"data row0 col4\" >0.7077</td>\n",
       "      <td id=\"T_c2419_row0_col5\" class=\"data row0 col5\" >0.5385</td>\n",
       "      <td id=\"T_c2419_row0_col6\" class=\"data row0 col6\" >0.5398</td>\n",
       "    </tr>\n",
       "  </tbody>\n",
       "</table>\n"
      ],
      "text/plain": [
       "<pandas.io.formats.style.Styler at 0xffff51d62fb0>"
      ]
     },
     "metadata": {},
     "output_type": "display_data"
    },
    {
     "data": {
      "text/html": [],
      "text/plain": [
       "<IPython.core.display.HTML object>"
      ]
     },
     "metadata": {},
     "output_type": "display_data"
    },
    {
     "name": "stdout",
     "output_type": "stream",
     "text": [
      "gbc\n"
     ]
    },
    {
     "data": {
      "text/html": [],
      "text/plain": [
       "<IPython.core.display.HTML object>"
      ]
     },
     "metadata": {},
     "output_type": "display_data"
    },
    {
     "data": {
      "text/html": [
       "<style type=\"text/css\">\n",
       "</style>\n",
       "<table id=\"T_09c5a\">\n",
       "  <thead>\n",
       "    <tr>\n",
       "      <th class=\"blank level0\" >&nbsp;</th>\n",
       "      <th id=\"T_09c5a_level0_col0\" class=\"col_heading level0 col0\" >Accuracy</th>\n",
       "      <th id=\"T_09c5a_level0_col1\" class=\"col_heading level0 col1\" >AUC</th>\n",
       "      <th id=\"T_09c5a_level0_col2\" class=\"col_heading level0 col2\" >Recall</th>\n",
       "      <th id=\"T_09c5a_level0_col3\" class=\"col_heading level0 col3\" >Prec.</th>\n",
       "      <th id=\"T_09c5a_level0_col4\" class=\"col_heading level0 col4\" >F1</th>\n",
       "      <th id=\"T_09c5a_level0_col5\" class=\"col_heading level0 col5\" >Kappa</th>\n",
       "      <th id=\"T_09c5a_level0_col6\" class=\"col_heading level0 col6\" >MCC</th>\n",
       "    </tr>\n",
       "  </thead>\n",
       "  <tbody>\n",
       "    <tr>\n",
       "      <th id=\"T_09c5a_level0_row0\" class=\"row_heading level0 row0\" >Test</th>\n",
       "      <td id=\"T_09c5a_row0_col0\" class=\"data row0 col0\" >0.7887</td>\n",
       "      <td id=\"T_09c5a_row0_col1\" class=\"data row0 col1\" >0.9461</td>\n",
       "      <td id=\"T_09c5a_row0_col2\" class=\"data row0 col2\" >0.7404</td>\n",
       "      <td id=\"T_09c5a_row0_col3\" class=\"data row0 col3\" >0.7171</td>\n",
       "      <td id=\"T_09c5a_row0_col4\" class=\"data row0 col4\" >0.7286</td>\n",
       "      <td id=\"T_09c5a_row0_col5\" class=\"data row0 col5\" >0.5557</td>\n",
       "      <td id=\"T_09c5a_row0_col6\" class=\"data row0 col6\" >0.5559</td>\n",
       "    </tr>\n",
       "  </tbody>\n",
       "</table>\n"
      ],
      "text/plain": [
       "<pandas.io.formats.style.Styler at 0xffff51d0dde0>"
      ]
     },
     "metadata": {},
     "output_type": "display_data"
    },
    {
     "data": {
      "text/html": [],
      "text/plain": [
       "<IPython.core.display.HTML object>"
      ]
     },
     "metadata": {},
     "output_type": "display_data"
    },
    {
     "name": "stdout",
     "output_type": "stream",
     "text": [
      "lda\n"
     ]
    },
    {
     "data": {
      "text/html": [],
      "text/plain": [
       "<IPython.core.display.HTML object>"
      ]
     },
     "metadata": {},
     "output_type": "display_data"
    },
    {
     "data": {
      "text/html": [
       "<style type=\"text/css\">\n",
       "</style>\n",
       "<table id=\"T_ce9d5\">\n",
       "  <thead>\n",
       "    <tr>\n",
       "      <th class=\"blank level0\" >&nbsp;</th>\n",
       "      <th id=\"T_ce9d5_level0_col0\" class=\"col_heading level0 col0\" >Accuracy</th>\n",
       "      <th id=\"T_ce9d5_level0_col1\" class=\"col_heading level0 col1\" >AUC</th>\n",
       "      <th id=\"T_ce9d5_level0_col2\" class=\"col_heading level0 col2\" >Recall</th>\n",
       "      <th id=\"T_ce9d5_level0_col3\" class=\"col_heading level0 col3\" >Prec.</th>\n",
       "      <th id=\"T_ce9d5_level0_col4\" class=\"col_heading level0 col4\" >F1</th>\n",
       "      <th id=\"T_ce9d5_level0_col5\" class=\"col_heading level0 col5\" >Kappa</th>\n",
       "      <th id=\"T_ce9d5_level0_col6\" class=\"col_heading level0 col6\" >MCC</th>\n",
       "    </tr>\n",
       "  </thead>\n",
       "  <tbody>\n",
       "    <tr>\n",
       "      <th id=\"T_ce9d5_level0_row0\" class=\"row_heading level0 row0\" >Test</th>\n",
       "      <td id=\"T_ce9d5_row0_col0\" class=\"data row0 col0\" >0.6881</td>\n",
       "      <td id=\"T_ce9d5_row0_col1\" class=\"data row0 col1\" >0.6758</td>\n",
       "      <td id=\"T_ce9d5_row0_col2\" class=\"data row0 col2\" >0.6195</td>\n",
       "      <td id=\"T_ce9d5_row0_col3\" class=\"data row0 col3\" >0.5882</td>\n",
       "      <td id=\"T_ce9d5_row0_col4\" class=\"data row0 col4\" >0.6034</td>\n",
       "      <td id=\"T_ce9d5_row0_col5\" class=\"data row0 col5\" >0.3467</td>\n",
       "      <td id=\"T_ce9d5_row0_col6\" class=\"data row0 col6\" >0.3471</td>\n",
       "    </tr>\n",
       "  </tbody>\n",
       "</table>\n"
      ],
      "text/plain": [
       "<pandas.io.formats.style.Styler at 0xffff34a1b220>"
      ]
     },
     "metadata": {},
     "output_type": "display_data"
    },
    {
     "data": {
      "text/html": [],
      "text/plain": [
       "<IPython.core.display.HTML object>"
      ]
     },
     "metadata": {},
     "output_type": "display_data"
    },
    {
     "name": "stdout",
     "output_type": "stream",
     "text": [
      "et\n"
     ]
    },
    {
     "data": {
      "text/html": [],
      "text/plain": [
       "<IPython.core.display.HTML object>"
      ]
     },
     "metadata": {},
     "output_type": "display_data"
    },
    {
     "data": {
      "text/html": [
       "<style type=\"text/css\">\n",
       "</style>\n",
       "<table id=\"T_e86dc\">\n",
       "  <thead>\n",
       "    <tr>\n",
       "      <th class=\"blank level0\" >&nbsp;</th>\n",
       "      <th id=\"T_e86dc_level0_col0\" class=\"col_heading level0 col0\" >Accuracy</th>\n",
       "      <th id=\"T_e86dc_level0_col1\" class=\"col_heading level0 col1\" >AUC</th>\n",
       "      <th id=\"T_e86dc_level0_col2\" class=\"col_heading level0 col2\" >Recall</th>\n",
       "      <th id=\"T_e86dc_level0_col3\" class=\"col_heading level0 col3\" >Prec.</th>\n",
       "      <th id=\"T_e86dc_level0_col4\" class=\"col_heading level0 col4\" >F1</th>\n",
       "      <th id=\"T_e86dc_level0_col5\" class=\"col_heading level0 col5\" >Kappa</th>\n",
       "      <th id=\"T_e86dc_level0_col6\" class=\"col_heading level0 col6\" >MCC</th>\n",
       "    </tr>\n",
       "  </thead>\n",
       "  <tbody>\n",
       "    <tr>\n",
       "      <th id=\"T_e86dc_level0_row0\" class=\"row_heading level0 row0\" >Test</th>\n",
       "      <td id=\"T_e86dc_row0_col0\" class=\"data row0 col0\" >0.7898</td>\n",
       "      <td id=\"T_e86dc_row0_col1\" class=\"data row0 col1\" >0.9460</td>\n",
       "      <td id=\"T_e86dc_row0_col2\" class=\"data row0 col2\" >0.7404</td>\n",
       "      <td id=\"T_e86dc_row0_col3\" class=\"data row0 col3\" >0.7192</td>\n",
       "      <td id=\"T_e86dc_row0_col4\" class=\"data row0 col4\" >0.7297</td>\n",
       "      <td id=\"T_e86dc_row0_col5\" class=\"data row0 col5\" >0.5578</td>\n",
       "      <td id=\"T_e86dc_row0_col6\" class=\"data row0 col6\" >0.5580</td>\n",
       "    </tr>\n",
       "  </tbody>\n",
       "</table>\n"
      ],
      "text/plain": [
       "<pandas.io.formats.style.Styler at 0xffff49dc34c0>"
      ]
     },
     "metadata": {},
     "output_type": "display_data"
    },
    {
     "data": {
      "text/html": [],
      "text/plain": [
       "<IPython.core.display.HTML object>"
      ]
     },
     "metadata": {},
     "output_type": "display_data"
    },
    {
     "name": "stdout",
     "output_type": "stream",
     "text": [
      "lightgbm\n"
     ]
    },
    {
     "data": {
      "text/html": [],
      "text/plain": [
       "<IPython.core.display.HTML object>"
      ]
     },
     "metadata": {},
     "output_type": "display_data"
    },
    {
     "data": {
      "text/html": [
       "<style type=\"text/css\">\n",
       "</style>\n",
       "<table id=\"T_310f0\">\n",
       "  <thead>\n",
       "    <tr>\n",
       "      <th class=\"blank level0\" >&nbsp;</th>\n",
       "      <th id=\"T_310f0_level0_col0\" class=\"col_heading level0 col0\" >Accuracy</th>\n",
       "      <th id=\"T_310f0_level0_col1\" class=\"col_heading level0 col1\" >AUC</th>\n",
       "      <th id=\"T_310f0_level0_col2\" class=\"col_heading level0 col2\" >Recall</th>\n",
       "      <th id=\"T_310f0_level0_col3\" class=\"col_heading level0 col3\" >Prec.</th>\n",
       "      <th id=\"T_310f0_level0_col4\" class=\"col_heading level0 col4\" >F1</th>\n",
       "      <th id=\"T_310f0_level0_col5\" class=\"col_heading level0 col5\" >Kappa</th>\n",
       "      <th id=\"T_310f0_level0_col6\" class=\"col_heading level0 col6\" >MCC</th>\n",
       "    </tr>\n",
       "  </thead>\n",
       "  <tbody>\n",
       "    <tr>\n",
       "      <th id=\"T_310f0_level0_row0\" class=\"row_heading level0 row0\" >Test</th>\n",
       "      <td id=\"T_310f0_row0_col0\" class=\"data row0 col0\" >0.6169</td>\n",
       "      <td id=\"T_310f0_row0_col1\" class=\"data row0 col1\" >0.5000</td>\n",
       "      <td id=\"T_310f0_row0_col2\" class=\"data row0 col2\" >0.0000</td>\n",
       "      <td id=\"T_310f0_row0_col3\" class=\"data row0 col3\" >0.0000</td>\n",
       "      <td id=\"T_310f0_row0_col4\" class=\"data row0 col4\" >0.0000</td>\n",
       "      <td id=\"T_310f0_row0_col5\" class=\"data row0 col5\" >0.0000</td>\n",
       "      <td id=\"T_310f0_row0_col6\" class=\"data row0 col6\" >0.0000</td>\n",
       "    </tr>\n",
       "  </tbody>\n",
       "</table>\n"
      ],
      "text/plain": [
       "<pandas.io.formats.style.Styler at 0xffff2f8a1b10>"
      ]
     },
     "metadata": {},
     "output_type": "display_data"
    },
    {
     "data": {
      "text/html": [],
      "text/plain": [
       "<IPython.core.display.HTML object>"
      ]
     },
     "metadata": {},
     "output_type": "display_data"
    }
   ],
   "source": [
    "#model_list = ['lr','knn','nb','dt','svm','rbfsvm','gpc','mlp','ridge','rf','qda','ada','gbc','lda','et','xgboost','lightgbm','catboost']\n",
    "\n",
    "model_list = ['lr','knn','nb','dt','svm','rbfsvm','gpc','mlp','ridge','rf','qda','ada','gbc','lda','et','lightgbm']\n",
    "for model_name in model_list:\n",
    "    print(model_name)\n",
    "    create_model(model_name, cross_validation=False)"
   ]
  },
  {
   "cell_type": "code",
   "execution_count": null,
   "metadata": {},
   "outputs": [],
   "source": []
  }
 ],
 "metadata": {
  "kernelspec": {
   "display_name": "Python 3.9.10 ('iblm-L6oop2Mj-py3.9')",
   "language": "python",
   "name": "python3"
  },
  "language_info": {
   "codemirror_mode": {
    "name": "ipython",
    "version": 3
   },
   "file_extension": ".py",
   "mimetype": "text/x-python",
   "name": "python",
   "nbconvert_exporter": "python",
   "pygments_lexer": "ipython3",
   "version": "3.9.10"
  },
  "orig_nbformat": 4,
  "vscode": {
   "interpreter": {
    "hash": "67008fb9323ab6c1c90f5d9822582dbef34eff0db475eec3af4e0e9456757ebf"
   }
  }
 },
 "nbformat": 4,
 "nbformat_minor": 2
}
